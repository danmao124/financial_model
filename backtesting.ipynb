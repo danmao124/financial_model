{
 "cells": [
  {
   "cell_type": "code",
   "execution_count": 1,
   "metadata": {},
   "outputs": [],
   "source": [
    "#from google.colab import drive\n",
    "#drive.mount('/content/drive')"
   ]
  },
  {
   "cell_type": "code",
   "execution_count": 2,
   "metadata": {},
   "outputs": [
    {
     "data": {
      "text/html": [
       "<div>\n",
       "<style scoped>\n",
       "    .dataframe tbody tr th:only-of-type {\n",
       "        vertical-align: middle;\n",
       "    }\n",
       "\n",
       "    .dataframe tbody tr th {\n",
       "        vertical-align: top;\n",
       "    }\n",
       "\n",
       "    .dataframe thead th {\n",
       "        text-align: right;\n",
       "    }\n",
       "</style>\n",
       "<table border=\"1\" class=\"dataframe\">\n",
       "  <thead>\n",
       "    <tr style=\"text-align: right;\">\n",
       "      <th></th>\n",
       "      <th>High</th>\n",
       "      <th>Low</th>\n",
       "      <th>Open</th>\n",
       "      <th>Close</th>\n",
       "      <th>Volume</th>\n",
       "      <th>Adj Close</th>\n",
       "    </tr>\n",
       "    <tr>\n",
       "      <th>Date</th>\n",
       "      <th></th>\n",
       "      <th></th>\n",
       "      <th></th>\n",
       "      <th></th>\n",
       "      <th></th>\n",
       "      <th></th>\n",
       "    </tr>\n",
       "  </thead>\n",
       "  <tbody>\n",
       "    <tr>\n",
       "      <td>2019-08-10</td>\n",
       "      <td>11523.579102</td>\n",
       "      <td>11248.294922</td>\n",
       "      <td>11349.740234</td>\n",
       "      <td>11523.579102</td>\n",
       "      <td>1.577437e+10</td>\n",
       "      <td>11523.579102</td>\n",
       "    </tr>\n",
       "    <tr>\n",
       "      <td>2019-08-11</td>\n",
       "      <td>11528.189453</td>\n",
       "      <td>11320.951172</td>\n",
       "      <td>11528.189453</td>\n",
       "      <td>11382.616211</td>\n",
       "      <td>1.364720e+10</td>\n",
       "      <td>11382.616211</td>\n",
       "    </tr>\n",
       "    <tr>\n",
       "      <td>2019-08-12</td>\n",
       "      <td>11420.049805</td>\n",
       "      <td>10830.327148</td>\n",
       "      <td>11385.052734</td>\n",
       "      <td>10895.830078</td>\n",
       "      <td>1.668150e+10</td>\n",
       "      <td>10895.830078</td>\n",
       "    </tr>\n",
       "    <tr>\n",
       "      <td>2019-08-13</td>\n",
       "      <td>10889.556641</td>\n",
       "      <td>10028.135742</td>\n",
       "      <td>10889.487305</td>\n",
       "      <td>10051.704102</td>\n",
       "      <td>1.999084e+10</td>\n",
       "      <td>10051.704102</td>\n",
       "    </tr>\n",
       "    <tr>\n",
       "      <td>2019-08-14</td>\n",
       "      <td>10437.411133</td>\n",
       "      <td>9675.316406</td>\n",
       "      <td>10038.421875</td>\n",
       "      <td>10311.545898</td>\n",
       "      <td>2.289912e+10</td>\n",
       "      <td>10311.545898</td>\n",
       "    </tr>\n",
       "    <tr>\n",
       "      <td>...</td>\n",
       "      <td>...</td>\n",
       "      <td>...</td>\n",
       "      <td>...</td>\n",
       "      <td>...</td>\n",
       "      <td>...</td>\n",
       "      <td>...</td>\n",
       "    </tr>\n",
       "    <tr>\n",
       "      <td>2020-08-05</td>\n",
       "      <td>11902.335938</td>\n",
       "      <td>11598.713867</td>\n",
       "      <td>11749.871094</td>\n",
       "      <td>11779.773438</td>\n",
       "      <td>2.340074e+10</td>\n",
       "      <td>11779.773438</td>\n",
       "    </tr>\n",
       "    <tr>\n",
       "      <td>2020-08-06</td>\n",
       "      <td>11898.038086</td>\n",
       "      <td>11408.593750</td>\n",
       "      <td>11778.894531</td>\n",
       "      <td>11601.472656</td>\n",
       "      <td>2.313231e+10</td>\n",
       "      <td>11601.472656</td>\n",
       "    </tr>\n",
       "    <tr>\n",
       "      <td>2020-08-07</td>\n",
       "      <td>11800.064453</td>\n",
       "      <td>11558.431641</td>\n",
       "      <td>11604.553711</td>\n",
       "      <td>11754.045898</td>\n",
       "      <td>1.757206e+10</td>\n",
       "      <td>11754.045898</td>\n",
       "    </tr>\n",
       "    <tr>\n",
       "      <td>2020-08-08</td>\n",
       "      <td>11806.056641</td>\n",
       "      <td>11548.784180</td>\n",
       "      <td>11737.325195</td>\n",
       "      <td>11675.739258</td>\n",
       "      <td>1.748961e+10</td>\n",
       "      <td>11675.739258</td>\n",
       "    </tr>\n",
       "    <tr>\n",
       "      <td>2020-08-10</td>\n",
       "      <td>12038.361328</td>\n",
       "      <td>11685.891602</td>\n",
       "      <td>11685.891602</td>\n",
       "      <td>11979.193359</td>\n",
       "      <td>2.200374e+10</td>\n",
       "      <td>11979.193359</td>\n",
       "    </tr>\n",
       "  </tbody>\n",
       "</table>\n",
       "<p>365 rows × 6 columns</p>\n",
       "</div>"
      ],
      "text/plain": [
       "                    High           Low          Open         Close  \\\n",
       "Date                                                                 \n",
       "2019-08-10  11523.579102  11248.294922  11349.740234  11523.579102   \n",
       "2019-08-11  11528.189453  11320.951172  11528.189453  11382.616211   \n",
       "2019-08-12  11420.049805  10830.327148  11385.052734  10895.830078   \n",
       "2019-08-13  10889.556641  10028.135742  10889.487305  10051.704102   \n",
       "2019-08-14  10437.411133   9675.316406  10038.421875  10311.545898   \n",
       "...                  ...           ...           ...           ...   \n",
       "2020-08-05  11902.335938  11598.713867  11749.871094  11779.773438   \n",
       "2020-08-06  11898.038086  11408.593750  11778.894531  11601.472656   \n",
       "2020-08-07  11800.064453  11558.431641  11604.553711  11754.045898   \n",
       "2020-08-08  11806.056641  11548.784180  11737.325195  11675.739258   \n",
       "2020-08-10  12038.361328  11685.891602  11685.891602  11979.193359   \n",
       "\n",
       "                  Volume     Adj Close  \n",
       "Date                                    \n",
       "2019-08-10  1.577437e+10  11523.579102  \n",
       "2019-08-11  1.364720e+10  11382.616211  \n",
       "2019-08-12  1.668150e+10  10895.830078  \n",
       "2019-08-13  1.999084e+10  10051.704102  \n",
       "2019-08-14  2.289912e+10  10311.545898  \n",
       "...                  ...           ...  \n",
       "2020-08-05  2.340074e+10  11779.773438  \n",
       "2020-08-06  2.313231e+10  11601.472656  \n",
       "2020-08-07  1.757206e+10  11754.045898  \n",
       "2020-08-08  1.748961e+10  11675.739258  \n",
       "2020-08-10  2.200374e+10  11979.193359  \n",
       "\n",
       "[365 rows x 6 columns]"
      ]
     },
     "execution_count": 2,
     "metadata": {},
     "output_type": "execute_result"
    }
   ],
   "source": [
    "import pandas as pd\n",
    "from pandas_datareader import data\n",
    "from pandas_datareader._utils import RemoteDataError\n",
    "from datetime import timedelta\n",
    "import datetime\n",
    "\n",
    "# Please read, my idea was to classify the data into three cateogries: \"UP\", \"DOWN\", \"NEUTRAL\"\n",
    "# UP - the price of the stock is up MINIMUM_GAIN percent after LOOK_AHEAD_DAYS days.\n",
    "# DOWN - the price of the stock is down MINIMUM_GAIN percent after LOOK_AHEAD_DAYS days.\n",
    "# NEUTRAL - the price of stock is did not rise or fall past the MINIMUM_GAIN threshhold\n",
    "#\n",
    "# EXAMPLE: LOOK_AHEAD_DAYS = 30, MINIMUM_GAIN = .05 (5%). If stock is up over 5% ore more after 30 days, \n",
    "# we mark it as 'UP'. If the stock is down 5% or more after 30 days, we mark it as 'DOWN'. If the stock\n",
    "# is neither up nor down 5%, then we mark it as 'NEUTRAL'\n",
    "\n",
    "# MINIMUM_GAIN = .05 #minimal gain to be considered up or down for classification, UNUSED NOW\n",
    "\n",
    "LOOK_BACK_DAYS = 30 #number of days into the past we would like to take into account\n",
    "LOOK_AHEAD_DAYS = 1 #number of days into the future we are trying to predict\n",
    "\n",
    "class Utilities:\n",
    "\n",
    "    @staticmethod\n",
    "    def getData(ticker, start_date, end_date):\n",
    "        try:\n",
    "            stock_data = data.DataReader(ticker,\n",
    "                                         'yahoo',\n",
    "                                         start_date,\n",
    "                                         end_date)\n",
    "            return stock_data\n",
    "        except RemoteDataError:\n",
    "            print('No data found for {t}'.format(t=ticker))\n",
    "#just get the btc price points from the past year\n",
    "start_date = datetime.datetime.now() - timedelta(365)\n",
    "end_date = datetime.datetime.now() - timedelta(1)\n",
    "btc_df = Utilities.getData('BTC-USD', str(start_date.strftime('%Y-%m-%d')), str(end_date.strftime('%Y-%m-%d')))\n",
    "btc_df"
   ]
  },
  {
   "cell_type": "code",
   "execution_count": 3,
   "metadata": {},
   "outputs": [
    {
     "data": {
      "text/html": [
       "<div>\n",
       "<style scoped>\n",
       "    .dataframe tbody tr th:only-of-type {\n",
       "        vertical-align: middle;\n",
       "    }\n",
       "\n",
       "    .dataframe tbody tr th {\n",
       "        vertical-align: top;\n",
       "    }\n",
       "\n",
       "    .dataframe thead th {\n",
       "        text-align: right;\n",
       "    }\n",
       "</style>\n",
       "<table border=\"1\" class=\"dataframe\">\n",
       "  <thead>\n",
       "    <tr style=\"text-align: right;\">\n",
       "      <th></th>\n",
       "      <th>High</th>\n",
       "      <th>Low</th>\n",
       "      <th>Open</th>\n",
       "      <th>Close</th>\n",
       "      <th>Volume</th>\n",
       "      <th>Adj Close</th>\n",
       "      <th>Adj Close_Past_1</th>\n",
       "      <th>Volume_Past_1</th>\n",
       "      <th>Close_Past_1</th>\n",
       "      <th>Open_Past_1</th>\n",
       "      <th>...</th>\n",
       "      <th>Close_Past_29</th>\n",
       "      <th>Open_Past_29</th>\n",
       "      <th>Low_Past_29</th>\n",
       "      <th>High_Past_29</th>\n",
       "      <th>Adj Close_Past_30</th>\n",
       "      <th>Volume_Past_30</th>\n",
       "      <th>Close_Past_30</th>\n",
       "      <th>Open_Past_30</th>\n",
       "      <th>Low_Past_30</th>\n",
       "      <th>High_Past_30</th>\n",
       "    </tr>\n",
       "    <tr>\n",
       "      <th>Date</th>\n",
       "      <th></th>\n",
       "      <th></th>\n",
       "      <th></th>\n",
       "      <th></th>\n",
       "      <th></th>\n",
       "      <th></th>\n",
       "      <th></th>\n",
       "      <th></th>\n",
       "      <th></th>\n",
       "      <th></th>\n",
       "      <th></th>\n",
       "      <th></th>\n",
       "      <th></th>\n",
       "      <th></th>\n",
       "      <th></th>\n",
       "      <th></th>\n",
       "      <th></th>\n",
       "      <th></th>\n",
       "      <th></th>\n",
       "      <th></th>\n",
       "      <th></th>\n",
       "    </tr>\n",
       "  </thead>\n",
       "  <tbody>\n",
       "    <tr>\n",
       "      <td>2019-09-10</td>\n",
       "      <td>10215.948242</td>\n",
       "      <td>9980.776367</td>\n",
       "      <td>10123.035156</td>\n",
       "      <td>10178.372070</td>\n",
       "      <td>1.542806e+10</td>\n",
       "      <td>10178.372070</td>\n",
       "      <td>10116</td>\n",
       "      <td>1.49068e+10</td>\n",
       "      <td>10116</td>\n",
       "      <td>10336.4</td>\n",
       "      <td>...</td>\n",
       "      <td>10895.8</td>\n",
       "      <td>11385.1</td>\n",
       "      <td>10830.3</td>\n",
       "      <td>11420</td>\n",
       "      <td>11382.6</td>\n",
       "      <td>1.36472e+10</td>\n",
       "      <td>11382.6</td>\n",
       "      <td>11528.2</td>\n",
       "      <td>11321</td>\n",
       "      <td>11528.2</td>\n",
       "    </tr>\n",
       "    <tr>\n",
       "      <td>2019-09-11</td>\n",
       "      <td>10442.253906</td>\n",
       "      <td>10099.242188</td>\n",
       "      <td>10176.819336</td>\n",
       "      <td>10410.126953</td>\n",
       "      <td>1.532356e+10</td>\n",
       "      <td>10410.126953</td>\n",
       "      <td>10178.4</td>\n",
       "      <td>1.54281e+10</td>\n",
       "      <td>10178.4</td>\n",
       "      <td>10123</td>\n",
       "      <td>...</td>\n",
       "      <td>10051.7</td>\n",
       "      <td>10889.5</td>\n",
       "      <td>10028.1</td>\n",
       "      <td>10889.6</td>\n",
       "      <td>10895.8</td>\n",
       "      <td>1.66815e+10</td>\n",
       "      <td>10895.8</td>\n",
       "      <td>11385.1</td>\n",
       "      <td>10830.3</td>\n",
       "      <td>11420</td>\n",
       "    </tr>\n",
       "    <tr>\n",
       "      <td>2019-09-12</td>\n",
       "      <td>10441.489258</td>\n",
       "      <td>10226.596680</td>\n",
       "      <td>10415.362305</td>\n",
       "      <td>10360.546875</td>\n",
       "      <td>1.410986e+10</td>\n",
       "      <td>10360.546875</td>\n",
       "      <td>10410.1</td>\n",
       "      <td>1.53236e+10</td>\n",
       "      <td>10410.1</td>\n",
       "      <td>10176.8</td>\n",
       "      <td>...</td>\n",
       "      <td>10311.5</td>\n",
       "      <td>10038.4</td>\n",
       "      <td>9675.32</td>\n",
       "      <td>10437.4</td>\n",
       "      <td>10051.7</td>\n",
       "      <td>1.99908e+10</td>\n",
       "      <td>10051.7</td>\n",
       "      <td>10889.5</td>\n",
       "      <td>10028.1</td>\n",
       "      <td>10889.6</td>\n",
       "    </tr>\n",
       "    <tr>\n",
       "      <td>2019-09-13</td>\n",
       "      <td>10422.133789</td>\n",
       "      <td>10291.694336</td>\n",
       "      <td>10345.403320</td>\n",
       "      <td>10358.048828</td>\n",
       "      <td>1.346871e+10</td>\n",
       "      <td>10358.048828</td>\n",
       "      <td>10360.5</td>\n",
       "      <td>1.41099e+10</td>\n",
       "      <td>10360.5</td>\n",
       "      <td>10415.4</td>\n",
       "      <td>...</td>\n",
       "      <td>10374.3</td>\n",
       "      <td>10319.4</td>\n",
       "      <td>9855.48</td>\n",
       "      <td>10524.3</td>\n",
       "      <td>10311.5</td>\n",
       "      <td>2.28991e+10</td>\n",
       "      <td>10311.5</td>\n",
       "      <td>10038.4</td>\n",
       "      <td>9675.32</td>\n",
       "      <td>10437.4</td>\n",
       "    </tr>\n",
       "    <tr>\n",
       "      <td>2019-09-14</td>\n",
       "      <td>10387.035156</td>\n",
       "      <td>10313.092773</td>\n",
       "      <td>10356.465820</td>\n",
       "      <td>10347.712891</td>\n",
       "      <td>1.204343e+10</td>\n",
       "      <td>10347.712891</td>\n",
       "      <td>10358</td>\n",
       "      <td>1.34687e+10</td>\n",
       "      <td>10358</td>\n",
       "      <td>10345.4</td>\n",
       "      <td>...</td>\n",
       "      <td>10231.7</td>\n",
       "      <td>10358.7</td>\n",
       "      <td>10086.7</td>\n",
       "      <td>10452.6</td>\n",
       "      <td>10374.3</td>\n",
       "      <td>2.02282e+10</td>\n",
       "      <td>10374.3</td>\n",
       "      <td>10319.4</td>\n",
       "      <td>9855.48</td>\n",
       "      <td>10524.3</td>\n",
       "    </tr>\n",
       "    <tr>\n",
       "      <td>...</td>\n",
       "      <td>...</td>\n",
       "      <td>...</td>\n",
       "      <td>...</td>\n",
       "      <td>...</td>\n",
       "      <td>...</td>\n",
       "      <td>...</td>\n",
       "      <td>...</td>\n",
       "      <td>...</td>\n",
       "      <td>...</td>\n",
       "      <td>...</td>\n",
       "      <td>...</td>\n",
       "      <td>...</td>\n",
       "      <td>...</td>\n",
       "      <td>...</td>\n",
       "      <td>...</td>\n",
       "      <td>...</td>\n",
       "      <td>...</td>\n",
       "      <td>...</td>\n",
       "      <td>...</td>\n",
       "      <td>...</td>\n",
       "      <td>...</td>\n",
       "    </tr>\n",
       "    <tr>\n",
       "      <td>2020-08-05</td>\n",
       "      <td>11902.335938</td>\n",
       "      <td>11598.713867</td>\n",
       "      <td>11749.871094</td>\n",
       "      <td>11779.773438</td>\n",
       "      <td>2.340074e+10</td>\n",
       "      <td>11779.773438</td>\n",
       "      <td>11747</td>\n",
       "      <td>2.44113e+10</td>\n",
       "      <td>11747</td>\n",
       "      <td>11203.8</td>\n",
       "      <td>...</td>\n",
       "      <td>9428.33</td>\n",
       "      <td>9253.02</td>\n",
       "      <td>9249.5</td>\n",
       "      <td>9450.34</td>\n",
       "      <td>9252.28</td>\n",
       "      <td>1.38397e+10</td>\n",
       "      <td>9252.28</td>\n",
       "      <td>9349.16</td>\n",
       "      <td>9201.82</td>\n",
       "      <td>9360.62</td>\n",
       "    </tr>\n",
       "    <tr>\n",
       "      <td>2020-08-06</td>\n",
       "      <td>11898.038086</td>\n",
       "      <td>11408.593750</td>\n",
       "      <td>11778.894531</td>\n",
       "      <td>11601.472656</td>\n",
       "      <td>2.313231e+10</td>\n",
       "      <td>11601.472656</td>\n",
       "      <td>11779.8</td>\n",
       "      <td>2.34007e+10</td>\n",
       "      <td>11779.8</td>\n",
       "      <td>11749.9</td>\n",
       "      <td>...</td>\n",
       "      <td>9277.97</td>\n",
       "      <td>9427.99</td>\n",
       "      <td>9235</td>\n",
       "      <td>9431.38</td>\n",
       "      <td>9428.33</td>\n",
       "      <td>1.97024e+10</td>\n",
       "      <td>9428.33</td>\n",
       "      <td>9253.02</td>\n",
       "      <td>9249.5</td>\n",
       "      <td>9450.34</td>\n",
       "    </tr>\n",
       "    <tr>\n",
       "      <td>2020-08-07</td>\n",
       "      <td>11800.064453</td>\n",
       "      <td>11558.431641</td>\n",
       "      <td>11604.553711</td>\n",
       "      <td>11754.045898</td>\n",
       "      <td>1.757206e+10</td>\n",
       "      <td>11754.045898</td>\n",
       "      <td>11601.5</td>\n",
       "      <td>2.31323e+10</td>\n",
       "      <td>11601.5</td>\n",
       "      <td>11778.9</td>\n",
       "      <td>...</td>\n",
       "      <td>9278.81</td>\n",
       "      <td>9273.36</td>\n",
       "      <td>9118</td>\n",
       "      <td>9287.47</td>\n",
       "      <td>9277.97</td>\n",
       "      <td>1.80007e+10</td>\n",
       "      <td>9277.97</td>\n",
       "      <td>9427.99</td>\n",
       "      <td>9235</td>\n",
       "      <td>9431.38</td>\n",
       "    </tr>\n",
       "    <tr>\n",
       "      <td>2020-08-08</td>\n",
       "      <td>11806.056641</td>\n",
       "      <td>11548.784180</td>\n",
       "      <td>11737.325195</td>\n",
       "      <td>11675.739258</td>\n",
       "      <td>1.748961e+10</td>\n",
       "      <td>11675.739258</td>\n",
       "      <td>11754</td>\n",
       "      <td>1.75721e+10</td>\n",
       "      <td>11754</td>\n",
       "      <td>11604.6</td>\n",
       "      <td>...</td>\n",
       "      <td>9240.35</td>\n",
       "      <td>9277.51</td>\n",
       "      <td>9199.49</td>\n",
       "      <td>9293.53</td>\n",
       "      <td>9278.81</td>\n",
       "      <td>1.686e+10</td>\n",
       "      <td>9278.81</td>\n",
       "      <td>9273.36</td>\n",
       "      <td>9118</td>\n",
       "      <td>9287.47</td>\n",
       "    </tr>\n",
       "    <tr>\n",
       "      <td>2020-08-10</td>\n",
       "      <td>12038.361328</td>\n",
       "      <td>11685.891602</td>\n",
       "      <td>11685.891602</td>\n",
       "      <td>11979.193359</td>\n",
       "      <td>2.200374e+10</td>\n",
       "      <td>11979.193359</td>\n",
       "      <td>11675.7</td>\n",
       "      <td>1.74896e+10</td>\n",
       "      <td>11675.7</td>\n",
       "      <td>11737.3</td>\n",
       "      <td>...</td>\n",
       "      <td>9243.61</td>\n",
       "      <td>9277.21</td>\n",
       "      <td>9224.29</td>\n",
       "      <td>9306.41</td>\n",
       "      <td>9276.5</td>\n",
       "      <td>1.44524e+10</td>\n",
       "      <td>9276.5</td>\n",
       "      <td>9241.05</td>\n",
       "      <td>9197.45</td>\n",
       "      <td>9319.42</td>\n",
       "    </tr>\n",
       "  </tbody>\n",
       "</table>\n",
       "<p>333 rows × 186 columns</p>\n",
       "</div>"
      ],
      "text/plain": [
       "                    High           Low          Open         Close  \\\n",
       "Date                                                                 \n",
       "2019-09-10  10215.948242   9980.776367  10123.035156  10178.372070   \n",
       "2019-09-11  10442.253906  10099.242188  10176.819336  10410.126953   \n",
       "2019-09-12  10441.489258  10226.596680  10415.362305  10360.546875   \n",
       "2019-09-13  10422.133789  10291.694336  10345.403320  10358.048828   \n",
       "2019-09-14  10387.035156  10313.092773  10356.465820  10347.712891   \n",
       "...                  ...           ...           ...           ...   \n",
       "2020-08-05  11902.335938  11598.713867  11749.871094  11779.773438   \n",
       "2020-08-06  11898.038086  11408.593750  11778.894531  11601.472656   \n",
       "2020-08-07  11800.064453  11558.431641  11604.553711  11754.045898   \n",
       "2020-08-08  11806.056641  11548.784180  11737.325195  11675.739258   \n",
       "2020-08-10  12038.361328  11685.891602  11685.891602  11979.193359   \n",
       "\n",
       "                  Volume     Adj Close Adj Close_Past_1 Volume_Past_1  \\\n",
       "Date                                                                    \n",
       "2019-09-10  1.542806e+10  10178.372070            10116   1.49068e+10   \n",
       "2019-09-11  1.532356e+10  10410.126953          10178.4   1.54281e+10   \n",
       "2019-09-12  1.410986e+10  10360.546875          10410.1   1.53236e+10   \n",
       "2019-09-13  1.346871e+10  10358.048828          10360.5   1.41099e+10   \n",
       "2019-09-14  1.204343e+10  10347.712891            10358   1.34687e+10   \n",
       "...                  ...           ...              ...           ...   \n",
       "2020-08-05  2.340074e+10  11779.773438            11747   2.44113e+10   \n",
       "2020-08-06  2.313231e+10  11601.472656          11779.8   2.34007e+10   \n",
       "2020-08-07  1.757206e+10  11754.045898          11601.5   2.31323e+10   \n",
       "2020-08-08  1.748961e+10  11675.739258            11754   1.75721e+10   \n",
       "2020-08-10  2.200374e+10  11979.193359          11675.7   1.74896e+10   \n",
       "\n",
       "           Close_Past_1 Open_Past_1  ... Close_Past_29 Open_Past_29  \\\n",
       "Date                                 ...                              \n",
       "2019-09-10        10116     10336.4  ...       10895.8      11385.1   \n",
       "2019-09-11      10178.4       10123  ...       10051.7      10889.5   \n",
       "2019-09-12      10410.1     10176.8  ...       10311.5      10038.4   \n",
       "2019-09-13      10360.5     10415.4  ...       10374.3      10319.4   \n",
       "2019-09-14        10358     10345.4  ...       10231.7      10358.7   \n",
       "...                 ...         ...  ...           ...          ...   \n",
       "2020-08-05        11747     11203.8  ...       9428.33      9253.02   \n",
       "2020-08-06      11779.8     11749.9  ...       9277.97      9427.99   \n",
       "2020-08-07      11601.5     11778.9  ...       9278.81      9273.36   \n",
       "2020-08-08        11754     11604.6  ...       9240.35      9277.51   \n",
       "2020-08-10      11675.7     11737.3  ...       9243.61      9277.21   \n",
       "\n",
       "           Low_Past_29 High_Past_29 Adj Close_Past_30 Volume_Past_30  \\\n",
       "Date                                                                   \n",
       "2019-09-10     10830.3        11420           11382.6    1.36472e+10   \n",
       "2019-09-11     10028.1      10889.6           10895.8    1.66815e+10   \n",
       "2019-09-12     9675.32      10437.4           10051.7    1.99908e+10   \n",
       "2019-09-13     9855.48      10524.3           10311.5    2.28991e+10   \n",
       "2019-09-14     10086.7      10452.6           10374.3    2.02282e+10   \n",
       "...                ...          ...               ...            ...   \n",
       "2020-08-05      9249.5      9450.34           9252.28    1.38397e+10   \n",
       "2020-08-06        9235      9431.38           9428.33    1.97024e+10   \n",
       "2020-08-07        9118      9287.47           9277.97    1.80007e+10   \n",
       "2020-08-08     9199.49      9293.53           9278.81      1.686e+10   \n",
       "2020-08-10     9224.29      9306.41            9276.5    1.44524e+10   \n",
       "\n",
       "           Close_Past_30 Open_Past_30 Low_Past_30 High_Past_30  \n",
       "Date                                                            \n",
       "2019-09-10       11382.6      11528.2       11321      11528.2  \n",
       "2019-09-11       10895.8      11385.1     10830.3        11420  \n",
       "2019-09-12       10051.7      10889.5     10028.1      10889.6  \n",
       "2019-09-13       10311.5      10038.4     9675.32      10437.4  \n",
       "2019-09-14       10374.3      10319.4     9855.48      10524.3  \n",
       "...                  ...          ...         ...          ...  \n",
       "2020-08-05       9252.28      9349.16     9201.82      9360.62  \n",
       "2020-08-06       9428.33      9253.02      9249.5      9450.34  \n",
       "2020-08-07       9277.97      9427.99        9235      9431.38  \n",
       "2020-08-08       9278.81      9273.36        9118      9287.47  \n",
       "2020-08-10        9276.5      9241.05     9197.45      9319.42  \n",
       "\n",
       "[333 rows x 186 columns]"
      ]
     },
     "execution_count": 3,
     "metadata": {},
     "output_type": "execute_result"
    }
   ],
   "source": [
    "def createLookBackCols():\n",
    "    for i in range(LOOK_BACK_DAYS):\n",
    "        num_rows= btc_df.shape[0]\n",
    "        num_cols= btc_df.shape[1]\n",
    "        btc_df.insert(loc = num_cols, column = 'High_Past_' + str(i + 1), value = ['N/A'] * num_rows)\n",
    "        btc_df.insert(loc = num_cols, column = 'Low_Past_' + str(i + 1), value = ['N/A'] * num_rows)\n",
    "        btc_df.insert(loc = num_cols, column = 'Open_Past_' + str(i + 1), value = ['N/A'] * num_rows)\n",
    "        btc_df.insert(loc = num_cols, column = 'Close_Past_' + str(i + 1), value = ['N/A'] * num_rows)\n",
    "        btc_df.insert(loc = num_cols, column = 'Volume_Past_' + str(i + 1), value = ['N/A'] * num_rows)\n",
    "        btc_df.insert(loc = num_cols, column = 'Adj Close_Past_' + str(i + 1), value = ['N/A'] * num_rows)\n",
    "        \n",
    "createLookBackCols() #create additional look back columns\n",
    "btc_df = btc_df.loc[~btc_df.index.duplicated(keep='first')] #delete all duplicate indices\n",
    "\n",
    "for index, row in btc_df.iterrows():\n",
    "    current_date = index.to_pydatetime()\n",
    "    if (current_date - start_date).days >= LOOK_BACK_DAYS - 1:\n",
    "        for i in range(LOOK_BACK_DAYS):\n",
    "            index = i + 1\n",
    "            look_back_date = current_date - timedelta(days=index)\n",
    "            \n",
    "            while True: #we need to keep subtracting days to the look_back_date because there is no index for that day\n",
    "                if look_back_date in btc_df.index:\n",
    "                    break\n",
    "                look_back_date = look_back_date - timedelta(days=1)\n",
    "            \n",
    "            btc_df.at[pd.Timestamp(current_date), 'High_Past_' + str(index)] = btc_df.at[pd.Timestamp(look_back_date), 'High']\n",
    "            btc_df.at[pd.Timestamp(current_date), 'Low_Past_' + str(index)] = btc_df.at[pd.Timestamp(look_back_date), 'Low']\n",
    "            btc_df.at[pd.Timestamp(current_date), 'Open_Past_' + str(index)] = btc_df.at[pd.Timestamp(look_back_date), 'Open']\n",
    "            btc_df.at[pd.Timestamp(current_date), 'Close_Past_' + str(index)] = btc_df.at[pd.Timestamp(look_back_date), 'Close']\n",
    "            btc_df.at[pd.Timestamp(current_date), 'Volume_Past_' + str(index)] = btc_df.at[pd.Timestamp(look_back_date), 'Volume']\n",
    "            btc_df.at[pd.Timestamp(current_date), 'Adj Close_Past_' + str(index)] = btc_df.at[pd.Timestamp(look_back_date), 'Adj Close']\n",
    "\n",
    "btc_df = btc_df[btc_df.High_Past_1 != 'N/A']\n",
    "btc_df"
   ]
  },
  {
   "cell_type": "code",
   "execution_count": 4,
   "metadata": {},
   "outputs": [
    {
     "data": {
      "text/html": [
       "<div>\n",
       "<style scoped>\n",
       "    .dataframe tbody tr th:only-of-type {\n",
       "        vertical-align: middle;\n",
       "    }\n",
       "\n",
       "    .dataframe tbody tr th {\n",
       "        vertical-align: top;\n",
       "    }\n",
       "\n",
       "    .dataframe thead th {\n",
       "        text-align: right;\n",
       "    }\n",
       "</style>\n",
       "<table border=\"1\" class=\"dataframe\">\n",
       "  <thead>\n",
       "    <tr style=\"text-align: right;\">\n",
       "      <th></th>\n",
       "      <th>High</th>\n",
       "      <th>Low</th>\n",
       "      <th>Open</th>\n",
       "      <th>Close</th>\n",
       "      <th>Volume</th>\n",
       "      <th>Adj Close</th>\n",
       "      <th>Adj Close_Past_1</th>\n",
       "      <th>Volume_Past_1</th>\n",
       "      <th>Close_Past_1</th>\n",
       "      <th>Open_Past_1</th>\n",
       "      <th>...</th>\n",
       "      <th>Open_Past_29</th>\n",
       "      <th>Low_Past_29</th>\n",
       "      <th>High_Past_29</th>\n",
       "      <th>Adj Close_Past_30</th>\n",
       "      <th>Volume_Past_30</th>\n",
       "      <th>Close_Past_30</th>\n",
       "      <th>Open_Past_30</th>\n",
       "      <th>Low_Past_30</th>\n",
       "      <th>High_Past_30</th>\n",
       "      <th>MonthTrend</th>\n",
       "    </tr>\n",
       "    <tr>\n",
       "      <th>Date</th>\n",
       "      <th></th>\n",
       "      <th></th>\n",
       "      <th></th>\n",
       "      <th></th>\n",
       "      <th></th>\n",
       "      <th></th>\n",
       "      <th></th>\n",
       "      <th></th>\n",
       "      <th></th>\n",
       "      <th></th>\n",
       "      <th></th>\n",
       "      <th></th>\n",
       "      <th></th>\n",
       "      <th></th>\n",
       "      <th></th>\n",
       "      <th></th>\n",
       "      <th></th>\n",
       "      <th></th>\n",
       "      <th></th>\n",
       "      <th></th>\n",
       "      <th></th>\n",
       "    </tr>\n",
       "  </thead>\n",
       "  <tbody>\n",
       "    <tr>\n",
       "      <td>2019-09-11</td>\n",
       "      <td>10442.253906</td>\n",
       "      <td>10099.242188</td>\n",
       "      <td>10176.819336</td>\n",
       "      <td>10410.126953</td>\n",
       "      <td>1.532356e+10</td>\n",
       "      <td>10410.126953</td>\n",
       "      <td>10178.4</td>\n",
       "      <td>1.54281e+10</td>\n",
       "      <td>10178.4</td>\n",
       "      <td>10123</td>\n",
       "      <td>...</td>\n",
       "      <td>10889.5</td>\n",
       "      <td>10028.1</td>\n",
       "      <td>10889.6</td>\n",
       "      <td>10895.8</td>\n",
       "      <td>1.66815e+10</td>\n",
       "      <td>10895.8</td>\n",
       "      <td>11385.1</td>\n",
       "      <td>10830.3</td>\n",
       "      <td>11420</td>\n",
       "      <td>UP</td>\n",
       "    </tr>\n",
       "    <tr>\n",
       "      <td>2019-09-12</td>\n",
       "      <td>10441.489258</td>\n",
       "      <td>10226.596680</td>\n",
       "      <td>10415.362305</td>\n",
       "      <td>10360.546875</td>\n",
       "      <td>1.410986e+10</td>\n",
       "      <td>10360.546875</td>\n",
       "      <td>10410.1</td>\n",
       "      <td>1.53236e+10</td>\n",
       "      <td>10410.1</td>\n",
       "      <td>10176.8</td>\n",
       "      <td>...</td>\n",
       "      <td>10038.4</td>\n",
       "      <td>9675.32</td>\n",
       "      <td>10437.4</td>\n",
       "      <td>10051.7</td>\n",
       "      <td>1.99908e+10</td>\n",
       "      <td>10051.7</td>\n",
       "      <td>10889.5</td>\n",
       "      <td>10028.1</td>\n",
       "      <td>10889.6</td>\n",
       "      <td>UP</td>\n",
       "    </tr>\n",
       "    <tr>\n",
       "      <td>2019-09-13</td>\n",
       "      <td>10422.133789</td>\n",
       "      <td>10291.694336</td>\n",
       "      <td>10345.403320</td>\n",
       "      <td>10358.048828</td>\n",
       "      <td>1.346871e+10</td>\n",
       "      <td>10358.048828</td>\n",
       "      <td>10360.5</td>\n",
       "      <td>1.41099e+10</td>\n",
       "      <td>10360.5</td>\n",
       "      <td>10415.4</td>\n",
       "      <td>...</td>\n",
       "      <td>10319.4</td>\n",
       "      <td>9855.48</td>\n",
       "      <td>10524.3</td>\n",
       "      <td>10311.5</td>\n",
       "      <td>2.28991e+10</td>\n",
       "      <td>10311.5</td>\n",
       "      <td>10038.4</td>\n",
       "      <td>9675.32</td>\n",
       "      <td>10437.4</td>\n",
       "      <td>DOWN</td>\n",
       "    </tr>\n",
       "    <tr>\n",
       "      <td>2019-09-14</td>\n",
       "      <td>10387.035156</td>\n",
       "      <td>10313.092773</td>\n",
       "      <td>10356.465820</td>\n",
       "      <td>10347.712891</td>\n",
       "      <td>1.204343e+10</td>\n",
       "      <td>10347.712891</td>\n",
       "      <td>10358</td>\n",
       "      <td>1.34687e+10</td>\n",
       "      <td>10358</td>\n",
       "      <td>10345.4</td>\n",
       "      <td>...</td>\n",
       "      <td>10358.7</td>\n",
       "      <td>10086.7</td>\n",
       "      <td>10452.6</td>\n",
       "      <td>10374.3</td>\n",
       "      <td>2.02282e+10</td>\n",
       "      <td>10374.3</td>\n",
       "      <td>10319.4</td>\n",
       "      <td>9855.48</td>\n",
       "      <td>10524.3</td>\n",
       "      <td>UP</td>\n",
       "    </tr>\n",
       "    <tr>\n",
       "      <td>2019-09-15</td>\n",
       "      <td>10386.867188</td>\n",
       "      <td>10189.744141</td>\n",
       "      <td>10347.222656</td>\n",
       "      <td>10276.793945</td>\n",
       "      <td>1.516017e+10</td>\n",
       "      <td>10276.793945</td>\n",
       "      <td>10347.7</td>\n",
       "      <td>1.20434e+10</td>\n",
       "      <td>10347.7</td>\n",
       "      <td>10356.5</td>\n",
       "      <td>...</td>\n",
       "      <td>10233</td>\n",
       "      <td>10119.1</td>\n",
       "      <td>10487.1</td>\n",
       "      <td>10231.7</td>\n",
       "      <td>1.3778e+10</td>\n",
       "      <td>10231.7</td>\n",
       "      <td>10358.7</td>\n",
       "      <td>10086.7</td>\n",
       "      <td>10452.6</td>\n",
       "      <td>DOWN</td>\n",
       "    </tr>\n",
       "    <tr>\n",
       "      <td>...</td>\n",
       "      <td>...</td>\n",
       "      <td>...</td>\n",
       "      <td>...</td>\n",
       "      <td>...</td>\n",
       "      <td>...</td>\n",
       "      <td>...</td>\n",
       "      <td>...</td>\n",
       "      <td>...</td>\n",
       "      <td>...</td>\n",
       "      <td>...</td>\n",
       "      <td>...</td>\n",
       "      <td>...</td>\n",
       "      <td>...</td>\n",
       "      <td>...</td>\n",
       "      <td>...</td>\n",
       "      <td>...</td>\n",
       "      <td>...</td>\n",
       "      <td>...</td>\n",
       "      <td>...</td>\n",
       "      <td>...</td>\n",
       "      <td>...</td>\n",
       "    </tr>\n",
       "    <tr>\n",
       "      <td>2020-08-04</td>\n",
       "      <td>11786.617188</td>\n",
       "      <td>11158.285156</td>\n",
       "      <td>11203.823242</td>\n",
       "      <td>11747.022461</td>\n",
       "      <td>2.441125e+10</td>\n",
       "      <td>11747.022461</td>\n",
       "      <td>11246.3</td>\n",
       "      <td>2.02717e+10</td>\n",
       "      <td>11246.3</td>\n",
       "      <td>11043.8</td>\n",
       "      <td>...</td>\n",
       "      <td>9349.16</td>\n",
       "      <td>9201.82</td>\n",
       "      <td>9360.62</td>\n",
       "      <td>9375.47</td>\n",
       "      <td>1.78893e+10</td>\n",
       "      <td>9375.47</td>\n",
       "      <td>9072.85</td>\n",
       "      <td>9058.66</td>\n",
       "      <td>9375.47</td>\n",
       "      <td>UP</td>\n",
       "    </tr>\n",
       "    <tr>\n",
       "      <td>2020-08-05</td>\n",
       "      <td>11902.335938</td>\n",
       "      <td>11598.713867</td>\n",
       "      <td>11749.871094</td>\n",
       "      <td>11779.773438</td>\n",
       "      <td>2.340074e+10</td>\n",
       "      <td>11779.773438</td>\n",
       "      <td>11747</td>\n",
       "      <td>2.44113e+10</td>\n",
       "      <td>11747</td>\n",
       "      <td>11203.8</td>\n",
       "      <td>...</td>\n",
       "      <td>9253.02</td>\n",
       "      <td>9249.5</td>\n",
       "      <td>9450.34</td>\n",
       "      <td>9252.28</td>\n",
       "      <td>1.38397e+10</td>\n",
       "      <td>9252.28</td>\n",
       "      <td>9349.16</td>\n",
       "      <td>9201.82</td>\n",
       "      <td>9360.62</td>\n",
       "      <td>UP</td>\n",
       "    </tr>\n",
       "    <tr>\n",
       "      <td>2020-08-06</td>\n",
       "      <td>11898.038086</td>\n",
       "      <td>11408.593750</td>\n",
       "      <td>11778.894531</td>\n",
       "      <td>11601.472656</td>\n",
       "      <td>2.313231e+10</td>\n",
       "      <td>11601.472656</td>\n",
       "      <td>11779.8</td>\n",
       "      <td>2.34007e+10</td>\n",
       "      <td>11779.8</td>\n",
       "      <td>11749.9</td>\n",
       "      <td>...</td>\n",
       "      <td>9427.99</td>\n",
       "      <td>9235</td>\n",
       "      <td>9431.38</td>\n",
       "      <td>9428.33</td>\n",
       "      <td>1.97024e+10</td>\n",
       "      <td>9428.33</td>\n",
       "      <td>9253.02</td>\n",
       "      <td>9249.5</td>\n",
       "      <td>9450.34</td>\n",
       "      <td>UP</td>\n",
       "    </tr>\n",
       "    <tr>\n",
       "      <td>2020-08-07</td>\n",
       "      <td>11800.064453</td>\n",
       "      <td>11558.431641</td>\n",
       "      <td>11604.553711</td>\n",
       "      <td>11754.045898</td>\n",
       "      <td>1.757206e+10</td>\n",
       "      <td>11754.045898</td>\n",
       "      <td>11601.5</td>\n",
       "      <td>2.31323e+10</td>\n",
       "      <td>11601.5</td>\n",
       "      <td>11778.9</td>\n",
       "      <td>...</td>\n",
       "      <td>9273.36</td>\n",
       "      <td>9118</td>\n",
       "      <td>9287.47</td>\n",
       "      <td>9277.97</td>\n",
       "      <td>1.80007e+10</td>\n",
       "      <td>9277.97</td>\n",
       "      <td>9427.99</td>\n",
       "      <td>9235</td>\n",
       "      <td>9431.38</td>\n",
       "      <td>DOWN</td>\n",
       "    </tr>\n",
       "    <tr>\n",
       "      <td>2020-08-08</td>\n",
       "      <td>11806.056641</td>\n",
       "      <td>11548.784180</td>\n",
       "      <td>11737.325195</td>\n",
       "      <td>11675.739258</td>\n",
       "      <td>1.748961e+10</td>\n",
       "      <td>11675.739258</td>\n",
       "      <td>11754</td>\n",
       "      <td>1.75721e+10</td>\n",
       "      <td>11754</td>\n",
       "      <td>11604.6</td>\n",
       "      <td>...</td>\n",
       "      <td>9277.51</td>\n",
       "      <td>9199.49</td>\n",
       "      <td>9293.53</td>\n",
       "      <td>9278.81</td>\n",
       "      <td>1.686e+10</td>\n",
       "      <td>9278.81</td>\n",
       "      <td>9273.36</td>\n",
       "      <td>9118</td>\n",
       "      <td>9287.47</td>\n",
       "      <td>UP</td>\n",
       "    </tr>\n",
       "  </tbody>\n",
       "</table>\n",
       "<p>331 rows × 187 columns</p>\n",
       "</div>"
      ],
      "text/plain": [
       "                    High           Low          Open         Close  \\\n",
       "Date                                                                 \n",
       "2019-09-11  10442.253906  10099.242188  10176.819336  10410.126953   \n",
       "2019-09-12  10441.489258  10226.596680  10415.362305  10360.546875   \n",
       "2019-09-13  10422.133789  10291.694336  10345.403320  10358.048828   \n",
       "2019-09-14  10387.035156  10313.092773  10356.465820  10347.712891   \n",
       "2019-09-15  10386.867188  10189.744141  10347.222656  10276.793945   \n",
       "...                  ...           ...           ...           ...   \n",
       "2020-08-04  11786.617188  11158.285156  11203.823242  11747.022461   \n",
       "2020-08-05  11902.335938  11598.713867  11749.871094  11779.773438   \n",
       "2020-08-06  11898.038086  11408.593750  11778.894531  11601.472656   \n",
       "2020-08-07  11800.064453  11558.431641  11604.553711  11754.045898   \n",
       "2020-08-08  11806.056641  11548.784180  11737.325195  11675.739258   \n",
       "\n",
       "                  Volume     Adj Close Adj Close_Past_1 Volume_Past_1  \\\n",
       "Date                                                                    \n",
       "2019-09-11  1.532356e+10  10410.126953          10178.4   1.54281e+10   \n",
       "2019-09-12  1.410986e+10  10360.546875          10410.1   1.53236e+10   \n",
       "2019-09-13  1.346871e+10  10358.048828          10360.5   1.41099e+10   \n",
       "2019-09-14  1.204343e+10  10347.712891            10358   1.34687e+10   \n",
       "2019-09-15  1.516017e+10  10276.793945          10347.7   1.20434e+10   \n",
       "...                  ...           ...              ...           ...   \n",
       "2020-08-04  2.441125e+10  11747.022461          11246.3   2.02717e+10   \n",
       "2020-08-05  2.340074e+10  11779.773438            11747   2.44113e+10   \n",
       "2020-08-06  2.313231e+10  11601.472656          11779.8   2.34007e+10   \n",
       "2020-08-07  1.757206e+10  11754.045898          11601.5   2.31323e+10   \n",
       "2020-08-08  1.748961e+10  11675.739258            11754   1.75721e+10   \n",
       "\n",
       "           Close_Past_1 Open_Past_1  ... Open_Past_29 Low_Past_29  \\\n",
       "Date                                 ...                            \n",
       "2019-09-11      10178.4       10123  ...      10889.5     10028.1   \n",
       "2019-09-12      10410.1     10176.8  ...      10038.4     9675.32   \n",
       "2019-09-13      10360.5     10415.4  ...      10319.4     9855.48   \n",
       "2019-09-14        10358     10345.4  ...      10358.7     10086.7   \n",
       "2019-09-15      10347.7     10356.5  ...        10233     10119.1   \n",
       "...                 ...         ...  ...          ...         ...   \n",
       "2020-08-04      11246.3     11043.8  ...      9349.16     9201.82   \n",
       "2020-08-05        11747     11203.8  ...      9253.02      9249.5   \n",
       "2020-08-06      11779.8     11749.9  ...      9427.99        9235   \n",
       "2020-08-07      11601.5     11778.9  ...      9273.36        9118   \n",
       "2020-08-08        11754     11604.6  ...      9277.51     9199.49   \n",
       "\n",
       "           High_Past_29 Adj Close_Past_30 Volume_Past_30 Close_Past_30  \\\n",
       "Date                                                                     \n",
       "2019-09-11      10889.6           10895.8    1.66815e+10       10895.8   \n",
       "2019-09-12      10437.4           10051.7    1.99908e+10       10051.7   \n",
       "2019-09-13      10524.3           10311.5    2.28991e+10       10311.5   \n",
       "2019-09-14      10452.6           10374.3    2.02282e+10       10374.3   \n",
       "2019-09-15      10487.1           10231.7     1.3778e+10       10231.7   \n",
       "...                 ...               ...            ...           ...   \n",
       "2020-08-04      9360.62           9375.47    1.78893e+10       9375.47   \n",
       "2020-08-05      9450.34           9252.28    1.38397e+10       9252.28   \n",
       "2020-08-06      9431.38           9428.33    1.97024e+10       9428.33   \n",
       "2020-08-07      9287.47           9277.97    1.80007e+10       9277.97   \n",
       "2020-08-08      9293.53           9278.81      1.686e+10       9278.81   \n",
       "\n",
       "           Open_Past_30 Low_Past_30 High_Past_30 MonthTrend  \n",
       "Date                                                         \n",
       "2019-09-11      11385.1     10830.3        11420         UP  \n",
       "2019-09-12      10889.5     10028.1      10889.6         UP  \n",
       "2019-09-13      10038.4     9675.32      10437.4       DOWN  \n",
       "2019-09-14      10319.4     9855.48      10524.3         UP  \n",
       "2019-09-15      10358.7     10086.7      10452.6       DOWN  \n",
       "...                 ...         ...          ...        ...  \n",
       "2020-08-04      9072.85     9058.66      9375.47         UP  \n",
       "2020-08-05      9349.16     9201.82      9360.62         UP  \n",
       "2020-08-06      9253.02      9249.5      9450.34         UP  \n",
       "2020-08-07      9427.99        9235      9431.38       DOWN  \n",
       "2020-08-08      9273.36        9118      9287.47         UP  \n",
       "\n",
       "[331 rows x 187 columns]"
      ]
     },
     "execution_count": 4,
     "metadata": {},
     "output_type": "execute_result"
    }
   ],
   "source": [
    "btc_df = btc_df.assign(MonthTrend=lambda x: \"N/A\") #introduce new column that will be the trend we are predicting\n",
    "btc_df = btc_df.loc[~btc_df.index.duplicated(keep='first')] #delete all duplicate indices\n",
    "\n",
    "#Populate the classification column MonthTrend\n",
    "for index, row in btc_df.iterrows():\n",
    "    current_date = index.to_pydatetime()\n",
    "   \n",
    "    if (end_date - current_date).days > LOOK_AHEAD_DAYS:\n",
    "        look_ahead_date = current_date + timedelta(days=LOOK_AHEAD_DAYS)\n",
    "        \n",
    "        while True: #we need to keep adding days to the look_ahead_date because there is no index for that day\n",
    "            if look_ahead_date in btc_df.index:\n",
    "                break\n",
    "            look_ahead_date = look_ahead_date + timedelta(days=1)\n",
    "        \n",
    "        #Here we check if the open price in the future is higher than today's open price.\n",
    "        if btc_df.loc[pd.Timestamp(look_ahead_date)]['Open'] > btc_df.loc[index]['Open']:\n",
    "            btc_df.at[pd.Timestamp(look_ahead_date), 'MonthTrend'] = 'UP'\n",
    "        else:\n",
    "            btc_df.at[pd.Timestamp(look_ahead_date), 'MonthTrend'] = 'DOWN'\n",
    "            \n",
    "#Now delete all columns that have a MonthTrend value of N/A\n",
    "btc_df = btc_df[btc_df.MonthTrend != 'N/A']\n",
    "\n",
    "#Data is now fully processed and ready to be trained on the machine learning model\n",
    "#There are 3 values for MonthTrend: UP, DOWN,NEUTRAL\n",
    "btc_df"
   ]
  },
  {
   "cell_type": "code",
   "execution_count": 5,
   "metadata": {},
   "outputs": [
    {
     "data": {
      "text/html": [
       "<div>\n",
       "<style scoped>\n",
       "    .dataframe tbody tr th:only-of-type {\n",
       "        vertical-align: middle;\n",
       "    }\n",
       "\n",
       "    .dataframe tbody tr th {\n",
       "        vertical-align: top;\n",
       "    }\n",
       "\n",
       "    .dataframe thead th {\n",
       "        text-align: right;\n",
       "    }\n",
       "</style>\n",
       "<table border=\"1\" class=\"dataframe\">\n",
       "  <thead>\n",
       "    <tr style=\"text-align: right;\">\n",
       "      <th></th>\n",
       "      <th>Close</th>\n",
       "      <th>Close_Past_1</th>\n",
       "      <th>Close_Past_2</th>\n",
       "      <th>Close_Past_3</th>\n",
       "      <th>Close_Past_4</th>\n",
       "      <th>Close_Past_5</th>\n",
       "      <th>Close_Past_6</th>\n",
       "      <th>Close_Past_7</th>\n",
       "      <th>Close_Past_8</th>\n",
       "      <th>Close_Past_9</th>\n",
       "      <th>...</th>\n",
       "      <th>Open_Past_22</th>\n",
       "      <th>Open_Past_23</th>\n",
       "      <th>Open_Past_24</th>\n",
       "      <th>Open_Past_25</th>\n",
       "      <th>Open_Past_26</th>\n",
       "      <th>Open_Past_27</th>\n",
       "      <th>Open_Past_28</th>\n",
       "      <th>Open_Past_29</th>\n",
       "      <th>Open_Past_30</th>\n",
       "      <th>MonthTrend</th>\n",
       "    </tr>\n",
       "    <tr>\n",
       "      <th>Date</th>\n",
       "      <th></th>\n",
       "      <th></th>\n",
       "      <th></th>\n",
       "      <th></th>\n",
       "      <th></th>\n",
       "      <th></th>\n",
       "      <th></th>\n",
       "      <th></th>\n",
       "      <th></th>\n",
       "      <th></th>\n",
       "      <th></th>\n",
       "      <th></th>\n",
       "      <th></th>\n",
       "      <th></th>\n",
       "      <th></th>\n",
       "      <th></th>\n",
       "      <th></th>\n",
       "      <th></th>\n",
       "      <th></th>\n",
       "      <th></th>\n",
       "      <th></th>\n",
       "    </tr>\n",
       "  </thead>\n",
       "  <tbody>\n",
       "    <tr>\n",
       "      <td>2019-09-11</td>\n",
       "      <td>10410.126953</td>\n",
       "      <td>10178.4</td>\n",
       "      <td>10116</td>\n",
       "      <td>10335</td>\n",
       "      <td>10441.3</td>\n",
       "      <td>10517.3</td>\n",
       "      <td>10353.3</td>\n",
       "      <td>10575.5</td>\n",
       "      <td>10594.5</td>\n",
       "      <td>10623.5</td>\n",
       "      <td>...</td>\n",
       "      <td>10764.6</td>\n",
       "      <td>10916.3</td>\n",
       "      <td>10350.3</td>\n",
       "      <td>10233</td>\n",
       "      <td>10358.7</td>\n",
       "      <td>10319.4</td>\n",
       "      <td>10038.4</td>\n",
       "      <td>10889.5</td>\n",
       "      <td>11385.1</td>\n",
       "      <td>UP</td>\n",
       "    </tr>\n",
       "    <tr>\n",
       "      <td>2019-09-12</td>\n",
       "      <td>10360.546875</td>\n",
       "      <td>10410.1</td>\n",
       "      <td>10178.4</td>\n",
       "      <td>10116</td>\n",
       "      <td>10335</td>\n",
       "      <td>10441.3</td>\n",
       "      <td>10517.3</td>\n",
       "      <td>10353.3</td>\n",
       "      <td>10575.5</td>\n",
       "      <td>10594.5</td>\n",
       "      <td>...</td>\n",
       "      <td>10142.5</td>\n",
       "      <td>10764.6</td>\n",
       "      <td>10916.3</td>\n",
       "      <td>10350.3</td>\n",
       "      <td>10233</td>\n",
       "      <td>10358.7</td>\n",
       "      <td>10319.4</td>\n",
       "      <td>10038.4</td>\n",
       "      <td>10889.5</td>\n",
       "      <td>UP</td>\n",
       "    </tr>\n",
       "    <tr>\n",
       "      <td>2019-09-13</td>\n",
       "      <td>10358.048828</td>\n",
       "      <td>10360.5</td>\n",
       "      <td>10410.1</td>\n",
       "      <td>10178.4</td>\n",
       "      <td>10116</td>\n",
       "      <td>10335</td>\n",
       "      <td>10441.3</td>\n",
       "      <td>10517.3</td>\n",
       "      <td>10353.3</td>\n",
       "      <td>10575.5</td>\n",
       "      <td>...</td>\n",
       "      <td>10136.3</td>\n",
       "      <td>10142.5</td>\n",
       "      <td>10764.6</td>\n",
       "      <td>10916.3</td>\n",
       "      <td>10350.3</td>\n",
       "      <td>10233</td>\n",
       "      <td>10358.7</td>\n",
       "      <td>10319.4</td>\n",
       "      <td>10038.4</td>\n",
       "      <td>DOWN</td>\n",
       "    </tr>\n",
       "    <tr>\n",
       "      <td>2019-09-14</td>\n",
       "      <td>10347.712891</td>\n",
       "      <td>10358</td>\n",
       "      <td>10360.5</td>\n",
       "      <td>10410.1</td>\n",
       "      <td>10178.4</td>\n",
       "      <td>10116</td>\n",
       "      <td>10335</td>\n",
       "      <td>10441.3</td>\n",
       "      <td>10517.3</td>\n",
       "      <td>10353.3</td>\n",
       "      <td>...</td>\n",
       "      <td>10407.6</td>\n",
       "      <td>10136.3</td>\n",
       "      <td>10142.5</td>\n",
       "      <td>10764.6</td>\n",
       "      <td>10916.3</td>\n",
       "      <td>10350.3</td>\n",
       "      <td>10233</td>\n",
       "      <td>10358.7</td>\n",
       "      <td>10319.4</td>\n",
       "      <td>UP</td>\n",
       "    </tr>\n",
       "    <tr>\n",
       "      <td>2019-09-15</td>\n",
       "      <td>10276.793945</td>\n",
       "      <td>10347.7</td>\n",
       "      <td>10358</td>\n",
       "      <td>10360.5</td>\n",
       "      <td>10410.1</td>\n",
       "      <td>10178.4</td>\n",
       "      <td>10116</td>\n",
       "      <td>10335</td>\n",
       "      <td>10441.3</td>\n",
       "      <td>10517.3</td>\n",
       "      <td>...</td>\n",
       "      <td>10160.7</td>\n",
       "      <td>10407.6</td>\n",
       "      <td>10136.3</td>\n",
       "      <td>10142.5</td>\n",
       "      <td>10764.6</td>\n",
       "      <td>10916.3</td>\n",
       "      <td>10350.3</td>\n",
       "      <td>10233</td>\n",
       "      <td>10358.7</td>\n",
       "      <td>DOWN</td>\n",
       "    </tr>\n",
       "    <tr>\n",
       "      <td>...</td>\n",
       "      <td>...</td>\n",
       "      <td>...</td>\n",
       "      <td>...</td>\n",
       "      <td>...</td>\n",
       "      <td>...</td>\n",
       "      <td>...</td>\n",
       "      <td>...</td>\n",
       "      <td>...</td>\n",
       "      <td>...</td>\n",
       "      <td>...</td>\n",
       "      <td>...</td>\n",
       "      <td>...</td>\n",
       "      <td>...</td>\n",
       "      <td>...</td>\n",
       "      <td>...</td>\n",
       "      <td>...</td>\n",
       "      <td>...</td>\n",
       "      <td>...</td>\n",
       "      <td>...</td>\n",
       "      <td>...</td>\n",
       "      <td>...</td>\n",
       "    </tr>\n",
       "    <tr>\n",
       "      <td>2020-08-04</td>\n",
       "      <td>11747.022461</td>\n",
       "      <td>11246.3</td>\n",
       "      <td>11246.3</td>\n",
       "      <td>11053.6</td>\n",
       "      <td>11759.6</td>\n",
       "      <td>11323.5</td>\n",
       "      <td>11111.2</td>\n",
       "      <td>11100.5</td>\n",
       "      <td>10912.8</td>\n",
       "      <td>10990.9</td>\n",
       "      <td>...</td>\n",
       "      <td>9238.7</td>\n",
       "      <td>9277.21</td>\n",
       "      <td>9241.05</td>\n",
       "      <td>9277.51</td>\n",
       "      <td>9273.36</td>\n",
       "      <td>9427.99</td>\n",
       "      <td>9253.02</td>\n",
       "      <td>9349.16</td>\n",
       "      <td>9072.85</td>\n",
       "      <td>UP</td>\n",
       "    </tr>\n",
       "    <tr>\n",
       "      <td>2020-08-05</td>\n",
       "      <td>11779.773438</td>\n",
       "      <td>11747</td>\n",
       "      <td>11246.3</td>\n",
       "      <td>11246.3</td>\n",
       "      <td>11053.6</td>\n",
       "      <td>11759.6</td>\n",
       "      <td>11323.5</td>\n",
       "      <td>11111.2</td>\n",
       "      <td>11100.5</td>\n",
       "      <td>10912.8</td>\n",
       "      <td>...</td>\n",
       "      <td>9241.9</td>\n",
       "      <td>9238.7</td>\n",
       "      <td>9277.21</td>\n",
       "      <td>9241.05</td>\n",
       "      <td>9277.51</td>\n",
       "      <td>9273.36</td>\n",
       "      <td>9427.99</td>\n",
       "      <td>9253.02</td>\n",
       "      <td>9349.16</td>\n",
       "      <td>UP</td>\n",
       "    </tr>\n",
       "    <tr>\n",
       "      <td>2020-08-06</td>\n",
       "      <td>11601.472656</td>\n",
       "      <td>11779.8</td>\n",
       "      <td>11747</td>\n",
       "      <td>11246.3</td>\n",
       "      <td>11246.3</td>\n",
       "      <td>11053.6</td>\n",
       "      <td>11759.6</td>\n",
       "      <td>11323.5</td>\n",
       "      <td>11111.2</td>\n",
       "      <td>11100.5</td>\n",
       "      <td>...</td>\n",
       "      <td>9191.98</td>\n",
       "      <td>9241.9</td>\n",
       "      <td>9238.7</td>\n",
       "      <td>9277.21</td>\n",
       "      <td>9241.05</td>\n",
       "      <td>9277.51</td>\n",
       "      <td>9273.36</td>\n",
       "      <td>9427.99</td>\n",
       "      <td>9253.02</td>\n",
       "      <td>UP</td>\n",
       "    </tr>\n",
       "    <tr>\n",
       "      <td>2020-08-07</td>\n",
       "      <td>11754.045898</td>\n",
       "      <td>11601.5</td>\n",
       "      <td>11779.8</td>\n",
       "      <td>11747</td>\n",
       "      <td>11246.3</td>\n",
       "      <td>11246.3</td>\n",
       "      <td>11053.6</td>\n",
       "      <td>11759.6</td>\n",
       "      <td>11323.5</td>\n",
       "      <td>11111.2</td>\n",
       "      <td>...</td>\n",
       "      <td>9131.81</td>\n",
       "      <td>9191.98</td>\n",
       "      <td>9241.9</td>\n",
       "      <td>9238.7</td>\n",
       "      <td>9277.21</td>\n",
       "      <td>9241.05</td>\n",
       "      <td>9277.51</td>\n",
       "      <td>9273.36</td>\n",
       "      <td>9427.99</td>\n",
       "      <td>DOWN</td>\n",
       "    </tr>\n",
       "    <tr>\n",
       "      <td>2020-08-08</td>\n",
       "      <td>11675.739258</td>\n",
       "      <td>11754</td>\n",
       "      <td>11601.5</td>\n",
       "      <td>11779.8</td>\n",
       "      <td>11747</td>\n",
       "      <td>11246.3</td>\n",
       "      <td>11246.3</td>\n",
       "      <td>11053.6</td>\n",
       "      <td>11759.6</td>\n",
       "      <td>11323.5</td>\n",
       "      <td>...</td>\n",
       "      <td>9151.18</td>\n",
       "      <td>9131.81</td>\n",
       "      <td>9191.98</td>\n",
       "      <td>9241.9</td>\n",
       "      <td>9238.7</td>\n",
       "      <td>9277.21</td>\n",
       "      <td>9241.05</td>\n",
       "      <td>9277.51</td>\n",
       "      <td>9273.36</td>\n",
       "      <td>UP</td>\n",
       "    </tr>\n",
       "  </tbody>\n",
       "</table>\n",
       "<p>331 rows × 63 columns</p>\n",
       "</div>"
      ],
      "text/plain": [
       "                   Close Close_Past_1 Close_Past_2 Close_Past_3 Close_Past_4  \\\n",
       "Date                                                                           \n",
       "2019-09-11  10410.126953      10178.4        10116        10335      10441.3   \n",
       "2019-09-12  10360.546875      10410.1      10178.4        10116        10335   \n",
       "2019-09-13  10358.048828      10360.5      10410.1      10178.4        10116   \n",
       "2019-09-14  10347.712891        10358      10360.5      10410.1      10178.4   \n",
       "2019-09-15  10276.793945      10347.7        10358      10360.5      10410.1   \n",
       "...                  ...          ...          ...          ...          ...   \n",
       "2020-08-04  11747.022461      11246.3      11246.3      11053.6      11759.6   \n",
       "2020-08-05  11779.773438        11747      11246.3      11246.3      11053.6   \n",
       "2020-08-06  11601.472656      11779.8        11747      11246.3      11246.3   \n",
       "2020-08-07  11754.045898      11601.5      11779.8        11747      11246.3   \n",
       "2020-08-08  11675.739258        11754      11601.5      11779.8        11747   \n",
       "\n",
       "           Close_Past_5 Close_Past_6 Close_Past_7 Close_Past_8 Close_Past_9  \\\n",
       "Date                                                                          \n",
       "2019-09-11      10517.3      10353.3      10575.5      10594.5      10623.5   \n",
       "2019-09-12      10441.3      10517.3      10353.3      10575.5      10594.5   \n",
       "2019-09-13        10335      10441.3      10517.3      10353.3      10575.5   \n",
       "2019-09-14        10116        10335      10441.3      10517.3      10353.3   \n",
       "2019-09-15      10178.4        10116        10335      10441.3      10517.3   \n",
       "...                 ...          ...          ...          ...          ...   \n",
       "2020-08-04      11323.5      11111.2      11100.5      10912.8      10990.9   \n",
       "2020-08-05      11759.6      11323.5      11111.2      11100.5      10912.8   \n",
       "2020-08-06      11053.6      11759.6      11323.5      11111.2      11100.5   \n",
       "2020-08-07      11246.3      11053.6      11759.6      11323.5      11111.2   \n",
       "2020-08-08      11246.3      11246.3      11053.6      11759.6      11323.5   \n",
       "\n",
       "            ... Open_Past_22 Open_Past_23 Open_Past_24 Open_Past_25  \\\n",
       "Date        ...                                                       \n",
       "2019-09-11  ...      10764.6      10916.3      10350.3        10233   \n",
       "2019-09-12  ...      10142.5      10764.6      10916.3      10350.3   \n",
       "2019-09-13  ...      10136.3      10142.5      10764.6      10916.3   \n",
       "2019-09-14  ...      10407.6      10136.3      10142.5      10764.6   \n",
       "2019-09-15  ...      10160.7      10407.6      10136.3      10142.5   \n",
       "...         ...          ...          ...          ...          ...   \n",
       "2020-08-04  ...       9238.7      9277.21      9241.05      9277.51   \n",
       "2020-08-05  ...       9241.9       9238.7      9277.21      9241.05   \n",
       "2020-08-06  ...      9191.98       9241.9       9238.7      9277.21   \n",
       "2020-08-07  ...      9131.81      9191.98       9241.9       9238.7   \n",
       "2020-08-08  ...      9151.18      9131.81      9191.98       9241.9   \n",
       "\n",
       "           Open_Past_26 Open_Past_27 Open_Past_28 Open_Past_29 Open_Past_30  \\\n",
       "Date                                                                          \n",
       "2019-09-11      10358.7      10319.4      10038.4      10889.5      11385.1   \n",
       "2019-09-12        10233      10358.7      10319.4      10038.4      10889.5   \n",
       "2019-09-13      10350.3        10233      10358.7      10319.4      10038.4   \n",
       "2019-09-14      10916.3      10350.3        10233      10358.7      10319.4   \n",
       "2019-09-15      10764.6      10916.3      10350.3        10233      10358.7   \n",
       "...                 ...          ...          ...          ...          ...   \n",
       "2020-08-04      9273.36      9427.99      9253.02      9349.16      9072.85   \n",
       "2020-08-05      9277.51      9273.36      9427.99      9253.02      9349.16   \n",
       "2020-08-06      9241.05      9277.51      9273.36      9427.99      9253.02   \n",
       "2020-08-07      9277.21      9241.05      9277.51      9273.36      9427.99   \n",
       "2020-08-08       9238.7      9277.21      9241.05      9277.51      9273.36   \n",
       "\n",
       "           MonthTrend  \n",
       "Date                   \n",
       "2019-09-11         UP  \n",
       "2019-09-12         UP  \n",
       "2019-09-13       DOWN  \n",
       "2019-09-14         UP  \n",
       "2019-09-15       DOWN  \n",
       "...               ...  \n",
       "2020-08-04         UP  \n",
       "2020-08-05         UP  \n",
       "2020-08-06         UP  \n",
       "2020-08-07       DOWN  \n",
       "2020-08-08         UP  \n",
       "\n",
       "[331 rows x 63 columns]"
      ]
     },
     "execution_count": 5,
     "metadata": {},
     "output_type": "execute_result"
    }
   ],
   "source": [
    "def generateFeatures(features):\n",
    "    complete_features = []\n",
    "    for feature in features:\n",
    "        complete_features.append(feature)\n",
    "        for i in range(LOOK_BACK_DAYS):\n",
    "            complete_features.append(feature + \"_Past_\" + str(i + 1))\n",
    "    return complete_features\n",
    "\n",
    "features = generateFeatures(['Close','Open'])\n",
    "features.append('MonthTrend')\n",
    "\n",
    "# selecting the important feature open close\n",
    "btc = btc_df[features]\n",
    "btc"
   ]
  },
  {
   "cell_type": "code",
   "execution_count": 6,
   "metadata": {},
   "outputs": [
    {
     "data": {
      "text/html": [
       "<div>\n",
       "<style scoped>\n",
       "    .dataframe tbody tr th:only-of-type {\n",
       "        vertical-align: middle;\n",
       "    }\n",
       "\n",
       "    .dataframe tbody tr th {\n",
       "        vertical-align: top;\n",
       "    }\n",
       "\n",
       "    .dataframe thead th {\n",
       "        text-align: right;\n",
       "    }\n",
       "</style>\n",
       "<table border=\"1\" class=\"dataframe\">\n",
       "  <thead>\n",
       "    <tr style=\"text-align: right;\">\n",
       "      <th></th>\n",
       "      <th>Close</th>\n",
       "      <th>Close_Past_1</th>\n",
       "      <th>Close_Past_2</th>\n",
       "      <th>Close_Past_3</th>\n",
       "      <th>Close_Past_4</th>\n",
       "      <th>Close_Past_5</th>\n",
       "      <th>Close_Past_6</th>\n",
       "      <th>Close_Past_7</th>\n",
       "      <th>Close_Past_8</th>\n",
       "      <th>Close_Past_9</th>\n",
       "      <th>...</th>\n",
       "      <th>Open_Past_25</th>\n",
       "      <th>Open_Past_26</th>\n",
       "      <th>Open_Past_27</th>\n",
       "      <th>Open_Past_28</th>\n",
       "      <th>Open_Past_29</th>\n",
       "      <th>Open_Past_30</th>\n",
       "      <th>MonthTrend</th>\n",
       "      <th>negative</th>\n",
       "      <th>neutral</th>\n",
       "      <th>positive</th>\n",
       "    </tr>\n",
       "    <tr>\n",
       "      <th>Date</th>\n",
       "      <th></th>\n",
       "      <th></th>\n",
       "      <th></th>\n",
       "      <th></th>\n",
       "      <th></th>\n",
       "      <th></th>\n",
       "      <th></th>\n",
       "      <th></th>\n",
       "      <th></th>\n",
       "      <th></th>\n",
       "      <th></th>\n",
       "      <th></th>\n",
       "      <th></th>\n",
       "      <th></th>\n",
       "      <th></th>\n",
       "      <th></th>\n",
       "      <th></th>\n",
       "      <th></th>\n",
       "      <th></th>\n",
       "      <th></th>\n",
       "      <th></th>\n",
       "    </tr>\n",
       "  </thead>\n",
       "  <tbody>\n",
       "    <tr>\n",
       "      <td>2019-09-11</td>\n",
       "      <td>10410.126953</td>\n",
       "      <td>10178.4</td>\n",
       "      <td>10116</td>\n",
       "      <td>10335</td>\n",
       "      <td>10441.3</td>\n",
       "      <td>10517.3</td>\n",
       "      <td>10353.3</td>\n",
       "      <td>10575.5</td>\n",
       "      <td>10594.5</td>\n",
       "      <td>10623.5</td>\n",
       "      <td>...</td>\n",
       "      <td>10233</td>\n",
       "      <td>10358.7</td>\n",
       "      <td>10319.4</td>\n",
       "      <td>10038.4</td>\n",
       "      <td>10889.5</td>\n",
       "      <td>11385.1</td>\n",
       "      <td>UP</td>\n",
       "      <td>0.0484984</td>\n",
       "      <td>0.888504</td>\n",
       "      <td>0.0629979</td>\n",
       "    </tr>\n",
       "    <tr>\n",
       "      <td>2019-09-12</td>\n",
       "      <td>10360.546875</td>\n",
       "      <td>10410.1</td>\n",
       "      <td>10178.4</td>\n",
       "      <td>10116</td>\n",
       "      <td>10335</td>\n",
       "      <td>10441.3</td>\n",
       "      <td>10517.3</td>\n",
       "      <td>10353.3</td>\n",
       "      <td>10575.5</td>\n",
       "      <td>10594.5</td>\n",
       "      <td>...</td>\n",
       "      <td>10350.3</td>\n",
       "      <td>10233</td>\n",
       "      <td>10358.7</td>\n",
       "      <td>10319.4</td>\n",
       "      <td>10038.4</td>\n",
       "      <td>10889.5</td>\n",
       "      <td>UP</td>\n",
       "      <td>0.0588</td>\n",
       "      <td>0.8413</td>\n",
       "      <td>0.0999</td>\n",
       "    </tr>\n",
       "    <tr>\n",
       "      <td>2019-09-13</td>\n",
       "      <td>10358.048828</td>\n",
       "      <td>10360.5</td>\n",
       "      <td>10410.1</td>\n",
       "      <td>10178.4</td>\n",
       "      <td>10116</td>\n",
       "      <td>10335</td>\n",
       "      <td>10441.3</td>\n",
       "      <td>10517.3</td>\n",
       "      <td>10353.3</td>\n",
       "      <td>10575.5</td>\n",
       "      <td>...</td>\n",
       "      <td>10916.3</td>\n",
       "      <td>10350.3</td>\n",
       "      <td>10233</td>\n",
       "      <td>10358.7</td>\n",
       "      <td>10319.4</td>\n",
       "      <td>10038.4</td>\n",
       "      <td>DOWN</td>\n",
       "      <td>0.0439319</td>\n",
       "      <td>0.879837</td>\n",
       "      <td>0.0762308</td>\n",
       "    </tr>\n",
       "    <tr>\n",
       "      <td>2019-09-14</td>\n",
       "      <td>10347.712891</td>\n",
       "      <td>10358</td>\n",
       "      <td>10360.5</td>\n",
       "      <td>10410.1</td>\n",
       "      <td>10178.4</td>\n",
       "      <td>10116</td>\n",
       "      <td>10335</td>\n",
       "      <td>10441.3</td>\n",
       "      <td>10517.3</td>\n",
       "      <td>10353.3</td>\n",
       "      <td>...</td>\n",
       "      <td>10764.6</td>\n",
       "      <td>10916.3</td>\n",
       "      <td>10350.3</td>\n",
       "      <td>10233</td>\n",
       "      <td>10358.7</td>\n",
       "      <td>10319.4</td>\n",
       "      <td>UP</td>\n",
       "      <td>0.0253</td>\n",
       "      <td>0.9104</td>\n",
       "      <td>0.0643</td>\n",
       "    </tr>\n",
       "    <tr>\n",
       "      <td>2019-09-15</td>\n",
       "      <td>10276.793945</td>\n",
       "      <td>10347.7</td>\n",
       "      <td>10358</td>\n",
       "      <td>10360.5</td>\n",
       "      <td>10410.1</td>\n",
       "      <td>10178.4</td>\n",
       "      <td>10116</td>\n",
       "      <td>10335</td>\n",
       "      <td>10441.3</td>\n",
       "      <td>10517.3</td>\n",
       "      <td>...</td>\n",
       "      <td>10142.5</td>\n",
       "      <td>10764.6</td>\n",
       "      <td>10916.3</td>\n",
       "      <td>10350.3</td>\n",
       "      <td>10233</td>\n",
       "      <td>10358.7</td>\n",
       "      <td>DOWN</td>\n",
       "      <td>0.0291676</td>\n",
       "      <td>0.881429</td>\n",
       "      <td>0.089403</td>\n",
       "    </tr>\n",
       "    <tr>\n",
       "      <td>...</td>\n",
       "      <td>...</td>\n",
       "      <td>...</td>\n",
       "      <td>...</td>\n",
       "      <td>...</td>\n",
       "      <td>...</td>\n",
       "      <td>...</td>\n",
       "      <td>...</td>\n",
       "      <td>...</td>\n",
       "      <td>...</td>\n",
       "      <td>...</td>\n",
       "      <td>...</td>\n",
       "      <td>...</td>\n",
       "      <td>...</td>\n",
       "      <td>...</td>\n",
       "      <td>...</td>\n",
       "      <td>...</td>\n",
       "      <td>...</td>\n",
       "      <td>...</td>\n",
       "      <td>...</td>\n",
       "      <td>...</td>\n",
       "      <td>...</td>\n",
       "    </tr>\n",
       "    <tr>\n",
       "      <td>2020-08-04</td>\n",
       "      <td>11747.022461</td>\n",
       "      <td>11246.3</td>\n",
       "      <td>11246.3</td>\n",
       "      <td>11053.6</td>\n",
       "      <td>11759.6</td>\n",
       "      <td>11323.5</td>\n",
       "      <td>11111.2</td>\n",
       "      <td>11100.5</td>\n",
       "      <td>10912.8</td>\n",
       "      <td>10990.9</td>\n",
       "      <td>...</td>\n",
       "      <td>9277.51</td>\n",
       "      <td>9273.36</td>\n",
       "      <td>9427.99</td>\n",
       "      <td>9253.02</td>\n",
       "      <td>9349.16</td>\n",
       "      <td>9072.85</td>\n",
       "      <td>UP</td>\n",
       "      <td>0.05575</td>\n",
       "      <td>0.8895</td>\n",
       "      <td>0.05475</td>\n",
       "    </tr>\n",
       "    <tr>\n",
       "      <td>2020-08-05</td>\n",
       "      <td>11779.773438</td>\n",
       "      <td>11747</td>\n",
       "      <td>11246.3</td>\n",
       "      <td>11246.3</td>\n",
       "      <td>11053.6</td>\n",
       "      <td>11759.6</td>\n",
       "      <td>11323.5</td>\n",
       "      <td>11111.2</td>\n",
       "      <td>11100.5</td>\n",
       "      <td>10912.8</td>\n",
       "      <td>...</td>\n",
       "      <td>9241.05</td>\n",
       "      <td>9277.51</td>\n",
       "      <td>9273.36</td>\n",
       "      <td>9427.99</td>\n",
       "      <td>9253.02</td>\n",
       "      <td>9349.16</td>\n",
       "      <td>UP</td>\n",
       "      <td>0.022</td>\n",
       "      <td>0.902368</td>\n",
       "      <td>0.0756316</td>\n",
       "    </tr>\n",
       "    <tr>\n",
       "      <td>2020-08-06</td>\n",
       "      <td>11601.472656</td>\n",
       "      <td>11779.8</td>\n",
       "      <td>11747</td>\n",
       "      <td>11246.3</td>\n",
       "      <td>11246.3</td>\n",
       "      <td>11053.6</td>\n",
       "      <td>11759.6</td>\n",
       "      <td>11323.5</td>\n",
       "      <td>11111.2</td>\n",
       "      <td>11100.5</td>\n",
       "      <td>...</td>\n",
       "      <td>9277.21</td>\n",
       "      <td>9241.05</td>\n",
       "      <td>9277.51</td>\n",
       "      <td>9273.36</td>\n",
       "      <td>9427.99</td>\n",
       "      <td>9253.02</td>\n",
       "      <td>UP</td>\n",
       "      <td>0.0257778</td>\n",
       "      <td>0.895</td>\n",
       "      <td>0.0792222</td>\n",
       "    </tr>\n",
       "    <tr>\n",
       "      <td>2020-08-07</td>\n",
       "      <td>11754.045898</td>\n",
       "      <td>11601.5</td>\n",
       "      <td>11779.8</td>\n",
       "      <td>11747</td>\n",
       "      <td>11246.3</td>\n",
       "      <td>11246.3</td>\n",
       "      <td>11053.6</td>\n",
       "      <td>11759.6</td>\n",
       "      <td>11323.5</td>\n",
       "      <td>11111.2</td>\n",
       "      <td>...</td>\n",
       "      <td>9238.7</td>\n",
       "      <td>9277.21</td>\n",
       "      <td>9241.05</td>\n",
       "      <td>9277.51</td>\n",
       "      <td>9273.36</td>\n",
       "      <td>9427.99</td>\n",
       "      <td>DOWN</td>\n",
       "      <td>0.0277762</td>\n",
       "      <td>0.908894</td>\n",
       "      <td>0.0633298</td>\n",
       "    </tr>\n",
       "    <tr>\n",
       "      <td>2020-08-08</td>\n",
       "      <td>11675.739258</td>\n",
       "      <td>11754</td>\n",
       "      <td>11601.5</td>\n",
       "      <td>11779.8</td>\n",
       "      <td>11747</td>\n",
       "      <td>11246.3</td>\n",
       "      <td>11246.3</td>\n",
       "      <td>11053.6</td>\n",
       "      <td>11759.6</td>\n",
       "      <td>11323.5</td>\n",
       "      <td>...</td>\n",
       "      <td>9241.9</td>\n",
       "      <td>9238.7</td>\n",
       "      <td>9277.21</td>\n",
       "      <td>9241.05</td>\n",
       "      <td>9277.51</td>\n",
       "      <td>9273.36</td>\n",
       "      <td>UP</td>\n",
       "      <td>0.031</td>\n",
       "      <td>0.902857</td>\n",
       "      <td>0.0661429</td>\n",
       "    </tr>\n",
       "  </tbody>\n",
       "</table>\n",
       "<p>331 rows × 66 columns</p>\n",
       "</div>"
      ],
      "text/plain": [
       "                   Close Close_Past_1 Close_Past_2 Close_Past_3 Close_Past_4  \\\n",
       "Date                                                                           \n",
       "2019-09-11  10410.126953      10178.4        10116        10335      10441.3   \n",
       "2019-09-12  10360.546875      10410.1      10178.4        10116        10335   \n",
       "2019-09-13  10358.048828      10360.5      10410.1      10178.4        10116   \n",
       "2019-09-14  10347.712891        10358      10360.5      10410.1      10178.4   \n",
       "2019-09-15  10276.793945      10347.7        10358      10360.5      10410.1   \n",
       "...                  ...          ...          ...          ...          ...   \n",
       "2020-08-04  11747.022461      11246.3      11246.3      11053.6      11759.6   \n",
       "2020-08-05  11779.773438        11747      11246.3      11246.3      11053.6   \n",
       "2020-08-06  11601.472656      11779.8        11747      11246.3      11246.3   \n",
       "2020-08-07  11754.045898      11601.5      11779.8        11747      11246.3   \n",
       "2020-08-08  11675.739258        11754      11601.5      11779.8        11747   \n",
       "\n",
       "           Close_Past_5 Close_Past_6 Close_Past_7 Close_Past_8 Close_Past_9  \\\n",
       "Date                                                                          \n",
       "2019-09-11      10517.3      10353.3      10575.5      10594.5      10623.5   \n",
       "2019-09-12      10441.3      10517.3      10353.3      10575.5      10594.5   \n",
       "2019-09-13        10335      10441.3      10517.3      10353.3      10575.5   \n",
       "2019-09-14        10116        10335      10441.3      10517.3      10353.3   \n",
       "2019-09-15      10178.4        10116        10335      10441.3      10517.3   \n",
       "...                 ...          ...          ...          ...          ...   \n",
       "2020-08-04      11323.5      11111.2      11100.5      10912.8      10990.9   \n",
       "2020-08-05      11759.6      11323.5      11111.2      11100.5      10912.8   \n",
       "2020-08-06      11053.6      11759.6      11323.5      11111.2      11100.5   \n",
       "2020-08-07      11246.3      11053.6      11759.6      11323.5      11111.2   \n",
       "2020-08-08      11246.3      11246.3      11053.6      11759.6      11323.5   \n",
       "\n",
       "            ... Open_Past_25 Open_Past_26 Open_Past_27 Open_Past_28  \\\n",
       "Date        ...                                                       \n",
       "2019-09-11  ...        10233      10358.7      10319.4      10038.4   \n",
       "2019-09-12  ...      10350.3        10233      10358.7      10319.4   \n",
       "2019-09-13  ...      10916.3      10350.3        10233      10358.7   \n",
       "2019-09-14  ...      10764.6      10916.3      10350.3        10233   \n",
       "2019-09-15  ...      10142.5      10764.6      10916.3      10350.3   \n",
       "...         ...          ...          ...          ...          ...   \n",
       "2020-08-04  ...      9277.51      9273.36      9427.99      9253.02   \n",
       "2020-08-05  ...      9241.05      9277.51      9273.36      9427.99   \n",
       "2020-08-06  ...      9277.21      9241.05      9277.51      9273.36   \n",
       "2020-08-07  ...       9238.7      9277.21      9241.05      9277.51   \n",
       "2020-08-08  ...       9241.9       9238.7      9277.21      9241.05   \n",
       "\n",
       "           Open_Past_29 Open_Past_30 MonthTrend   negative   neutral  \\\n",
       "Date                                                                   \n",
       "2019-09-11      10889.5      11385.1         UP  0.0484984  0.888504   \n",
       "2019-09-12      10038.4      10889.5         UP     0.0588    0.8413   \n",
       "2019-09-13      10319.4      10038.4       DOWN  0.0439319  0.879837   \n",
       "2019-09-14      10358.7      10319.4         UP     0.0253    0.9104   \n",
       "2019-09-15        10233      10358.7       DOWN  0.0291676  0.881429   \n",
       "...                 ...          ...        ...        ...       ...   \n",
       "2020-08-04      9349.16      9072.85         UP    0.05575    0.8895   \n",
       "2020-08-05      9253.02      9349.16         UP      0.022  0.902368   \n",
       "2020-08-06      9427.99      9253.02         UP  0.0257778     0.895   \n",
       "2020-08-07      9273.36      9427.99       DOWN  0.0277762  0.908894   \n",
       "2020-08-08      9277.51      9273.36         UP      0.031  0.902857   \n",
       "\n",
       "             positive  \n",
       "Date                   \n",
       "2019-09-11  0.0629979  \n",
       "2019-09-12     0.0999  \n",
       "2019-09-13  0.0762308  \n",
       "2019-09-14     0.0643  \n",
       "2019-09-15   0.089403  \n",
       "...               ...  \n",
       "2020-08-04    0.05475  \n",
       "2020-08-05  0.0756316  \n",
       "2020-08-06  0.0792222  \n",
       "2020-08-07  0.0633298  \n",
       "2020-08-08  0.0661429  \n",
       "\n",
       "[331 rows x 66 columns]"
      ]
     },
     "execution_count": 6,
     "metadata": {},
     "output_type": "execute_result"
    }
   ],
   "source": [
    "# load pre-fetched news sentiment data and add in the dataframe\n",
    "import pickle\n",
    "import warnings\n",
    "import os\n",
    "warnings.filterwarnings('ignore')\n",
    "f = open(os.path.join(os.getcwd(), \"polaritys_score.pkl\"), \"rb\")\n",
    "#f = open(\"./drive/My Drive/final_project/polaritys_score.pkl\", \"rb\")\n",
    "polaritys_file = pickle.load(f)\n",
    "f.close()\n",
    "\n",
    "polaritys_df = pd.DataFrame(index=list(polaritys_file.keys())[::-1], columns=['neg', 'neu', 'pos'])\n",
    "for date in list(polaritys_file.keys())[::-1]:\n",
    "  for polar in ['neg', 'neu', 'pos']:\n",
    "    polaritys_df.loc[date][polar] = polaritys_file[date][polar]\n",
    "\n",
    "## keep data only after 2019-09-09 and remove data on 2020-08-03(error in Yahoo?)\n",
    "btc_index_str = [btc_index.strftime('%Y-%m-%d') for btc_index in list(btc.index)]\n",
    "\n",
    "sentiment_data = polaritys_df.loc[btc_index_str]\n",
    "sentiment_data.columns = ['negative', 'neutral', 'positive']\n",
    "\n",
    "## add sentiment in the dataframe\n",
    "btc[['negative', 'neutral', 'positive']] = sentiment_data[['negative', 'neutral', 'positive']]\n",
    "btc"
   ]
  },
  {
   "cell_type": "code",
   "execution_count": 7,
   "metadata": {},
   "outputs": [],
   "source": [
    "from sklearn.model_selection import TimeSeriesSplit\n",
    "from sklearn.preprocessing import StandardScaler\n",
    "from sklearn.preprocessing import LabelEncoder\n",
    "import numpy as np\n",
    "Y = btc['MonthTrend']\n",
    "le =LabelEncoder()\n",
    "Y = le.fit_transform(Y)\n",
    "X = btc.drop(['MonthTrend'], axis=1)\n",
    "X = StandardScaler().fit_transform(X)\n",
    "# Create training and testing datasets that are appropriate for time series data\n",
    "#X_train, X_test, Y_train, Y_test = train_test_split(X, Y, test_size=.3, random_state=2)\n",
    "train_size_perc = 0.7\n",
    "n_time, n_features = X.shape\n",
    "train_size = np.int16(np.round(train_size_perc * n_time))\n",
    "X_train, Y_train = X[:train_size], Y[:train_size]\n",
    "X_test, Y_test = X[(train_size+LOOK_AHEAD_DAYS):], Y[(train_size+LOOK_AHEAD_DAYS):]"
   ]
  },
  {
   "cell_type": "code",
   "execution_count": 8,
   "metadata": {},
   "outputs": [
    {
     "name": "stdout",
     "output_type": "stream",
     "text": [
      "Fitting 10 folds for each of 576 candidates, totalling 5760 fits\n"
     ]
    },
    {
     "name": "stderr",
     "output_type": "stream",
     "text": [
      "[Parallel(n_jobs=6)]: Using backend LokyBackend with 6 concurrent workers.\n",
      "[Parallel(n_jobs=6)]: Done  45 tasks      | elapsed:    1.2s\n",
      "[Parallel(n_jobs=6)]: Done 5760 out of 5760 | elapsed:    2.7s finished\n"
     ]
    },
    {
     "data": {
      "text/plain": [
       "0.4591836734693877"
      ]
     },
     "execution_count": 8,
     "metadata": {},
     "output_type": "execute_result"
    }
   ],
   "source": [
    "# decision tree\n",
    "from sklearn.model_selection import GridSearchCV\n",
    "from sklearn.tree import DecisionTreeClassifier\n",
    "model_tree = DecisionTreeClassifier(random_state=45)\n",
    "param_grid = {'splitter': [\"best\",\"random\"],  \n",
    "              'min_samples_split': [2,4,6,8],\n",
    "             'criterion':[\"gini\",\"entropy\"],\n",
    "             'max_features':[\"auto\", \"sqrt\", \"log2\"],\n",
    "              'max_depth':[6,8,10,20],\n",
    "             'max_leaf_nodes':[10,50,None]}  \n",
    "grid =  GridSearchCV(model_tree,param_grid,scoring=\"roc_auc\", cv=TimeSeriesSplit(max_train_size=None, n_splits=10), verbose=1,n_jobs=6)\n",
    "grid.fit(X_train,Y_train)\n",
    "model_tree = grid.best_estimator_\n",
    "tree_error_rate = 1 - model_tree.score(X_test,Y_test)\n",
    "tree_error_rate"
   ]
  },
  {
   "cell_type": "code",
   "execution_count": 9,
   "metadata": {},
   "outputs": [
    {
     "data": {
      "text/plain": [
       "0.8793103448275862"
      ]
     },
     "execution_count": 9,
     "metadata": {},
     "output_type": "execute_result"
    }
   ],
   "source": [
    "model_tree.score(X_train, Y_train)"
   ]
  },
  {
   "cell_type": "code",
   "execution_count": 10,
   "metadata": {},
   "outputs": [
    {
     "name": "stdout",
     "output_type": "stream",
     "text": [
      "[[35  8]\n",
      " [37 18]]\n"
     ]
    }
   ],
   "source": [
    "#confusion matrix and classification for testing\n",
    "from sklearn.metrics import classification_report,confusion_matrix,roc_curve, auc\n",
    "import matplotlib.pylab as plt\n",
    "prediction = model_tree.predict(X_test)\n",
    "print(confusion_matrix(Y_test, prediction))"
   ]
  },
  {
   "cell_type": "code",
   "execution_count": 11,
   "metadata": {},
   "outputs": [
    {
     "name": "stdout",
     "output_type": "stream",
     "text": [
      "              precision    recall  f1-score   support\n",
      "\n",
      "           0       0.49      0.81      0.61        43\n",
      "           1       0.69      0.33      0.44        55\n",
      "\n",
      "    accuracy                           0.54        98\n",
      "   macro avg       0.59      0.57      0.53        98\n",
      "weighted avg       0.60      0.54      0.52        98\n",
      "\n"
     ]
    }
   ],
   "source": [
    "print(classification_report(Y_test, prediction))"
   ]
  },
  {
   "cell_type": "code",
   "execution_count": 12,
   "metadata": {},
   "outputs": [
    {
     "data": {
      "image/png": "[encoded data removed]",
      "text/plain": [
       "<Figure size 432x288 with 1 Axes>"
      ]
     },
     "metadata": {
      "needs_background": "light"
     },
     "output_type": "display_data"
    }
   ],
   "source": [
    "# Plot the ROC curve\n",
    "\n",
    "def plot_roc(Y_test,Y_pred, classifier_name):\n",
    "    fpr, tpr, _ = roc_curve(Y_test,Y_pred)\n",
    "    roc_auc = auc(fpr, tpr)\n",
    "    plt.plot(fpr, tpr, label='ROC curve (area = %0.2f)' % roc_auc)\n",
    "    plt.plot([0, 1], [0, 1], 'k--', label=\"Random\")\n",
    "    plt.xlabel('False Positive Rate')\n",
    "    plt.ylabel('True Positive Rate')\n",
    "    plt.title(\"ROC for \" + classifier_name)\n",
    "    plt.legend(loc=\"best\")\n",
    "    plt.show()\n",
    "plot_roc(Y_test,prediction, \"CART\")"
   ]
  },
  {
   "cell_type": "code",
   "execution_count": 13,
   "metadata": {},
   "outputs": [
    {
     "name": "stdout",
     "output_type": "stream",
     "text": [
      "Fitting 10 folds for each of 768 candidates, totalling 7680 fits\n"
     ]
    },
    {
     "name": "stderr",
     "output_type": "stream",
     "text": [
      "[Parallel(n_jobs=6)]: Using backend LokyBackend with 6 concurrent workers.\n",
      "[Parallel(n_jobs=6)]: Done 792 tasks      | elapsed:    1.3s\n",
      "[Parallel(n_jobs=6)]: Done 7092 tasks      | elapsed:   11.5s\n",
      "[Parallel(n_jobs=6)]: Done 7680 out of 7680 | elapsed:   12.5s finished\n"
     ]
    },
    {
     "data": {
      "text/plain": [
       "0.5204081632653061"
      ]
     },
     "execution_count": 13,
     "metadata": {},
     "output_type": "execute_result"
    }
   ],
   "source": [
    "# random forest\n",
    "from sklearn.ensemble import RandomForestClassifier\n",
    "model_random = RandomForestClassifier(random_state=42)\n",
    "param_grid = {\n",
    "             'min_samples_split': [2,4,6,8],\n",
    "             'criterion':[\"gini\",\"entropy\"],\n",
    "             'max_features':[\"auto\", \"sqrt\", \"log2\"],\n",
    "              'max_depth':[6,8,10,20],\n",
    "              'min_samples_leaf':[1,2,4,6],\n",
    "             'max_leaf_nodes':[10,50]}  \n",
    "random_grid =  GridSearchCV(model_random,param_grid,scoring=\"roc_auc\", cv=TimeSeriesSplit(max_train_size=None, n_splits=10), verbose=1,n_jobs=6)\n",
    "random_grid.fit(X_train,Y_train)\n",
    "model_random = random_grid.best_estimator_\n",
    "tree_error_rate =1 - model_random.score(X_test,Y_test)\n",
    "tree_error_rate"
   ]
  },
  {
   "cell_type": "code",
   "execution_count": 14,
   "metadata": {},
   "outputs": [
    {
     "data": {
      "text/plain": [
       "0.9267241379310345"
      ]
     },
     "execution_count": 14,
     "metadata": {},
     "output_type": "execute_result"
    }
   ],
   "source": [
    "model_random.score(X_train, Y_train)"
   ]
  },
  {
   "cell_type": "code",
   "execution_count": 15,
   "metadata": {},
   "outputs": [
    {
     "name": "stdout",
     "output_type": "stream",
     "text": [
      "[[31 12]\n",
      " [39 16]]\n"
     ]
    }
   ],
   "source": [
    "new_prediction = model_random.predict(X_test)\n",
    "print(confusion_matrix(Y_test, new_prediction))"
   ]
  },
  {
   "cell_type": "code",
   "execution_count": 16,
   "metadata": {},
   "outputs": [
    {
     "name": "stdout",
     "output_type": "stream",
     "text": [
      "              precision    recall  f1-score   support\n",
      "\n",
      "           0       0.44      0.72      0.55        43\n",
      "           1       0.57      0.29      0.39        55\n",
      "\n",
      "    accuracy                           0.48        98\n",
      "   macro avg       0.51      0.51      0.47        98\n",
      "weighted avg       0.52      0.48      0.46        98\n",
      "\n"
     ]
    }
   ],
   "source": [
    "print(classification_report(Y_test, new_prediction))"
   ]
  },
  {
   "cell_type": "code",
   "execution_count": 17,
   "metadata": {},
   "outputs": [
    {
     "data": {
      "image/png": "[encoded data removed]",
      "text/plain": [
       "<Figure size 432x288 with 1 Axes>"
      ]
     },
     "metadata": {
      "needs_background": "light"
     },
     "output_type": "display_data"
    }
   ],
   "source": [
    "plot_roc(Y_test,new_prediction, \"Random Forest\")"
   ]
  },
  {
   "cell_type": "code",
   "execution_count": 18,
   "metadata": {},
   "outputs": [
    {
     "name": "stderr",
     "output_type": "stream",
     "text": [
      "[Parallel(n_jobs=6)]: Using backend LokyBackend with 6 concurrent workers.\n"
     ]
    },
    {
     "name": "stdout",
     "output_type": "stream",
     "text": [
      "Fitting 10 folds for each of 48 candidates, totalling 480 fits\n"
     ]
    },
    {
     "name": "stderr",
     "output_type": "stream",
     "text": [
      "[Parallel(n_jobs=6)]: Done 480 out of 480 | elapsed:    1.0s finished\n"
     ]
    },
    {
     "data": {
      "text/plain": [
       "0.09183673469387754"
      ]
     },
     "execution_count": 18,
     "metadata": {},
     "output_type": "execute_result"
    }
   ],
   "source": [
    "# linear svm\n",
    "from sklearn.svm import LinearSVC\n",
    "model_svm = LinearSVC(random_state=42)\n",
    "param_grid = {\n",
    "             'C': [1,2,4,6,8,10],\n",
    "             'loss':[\"hinge\",\"squared_hinge\"],\n",
    "             'fit_intercept':[True,False],\n",
    "              'class_weight':[\"balanced\",None]}  \n",
    "svm_grid =  GridSearchCV(model_svm,param_grid,scoring=\"roc_auc\", cv=TimeSeriesSplit(max_train_size=None, n_splits=10), verbose=1,n_jobs=6)\n",
    "svm_grid.fit(X_train,Y_train)\n",
    "model_svm = svm_grid.best_estimator_\n",
    "svm_error_rate =1 - model_svm.score(X_test,Y_test)\n",
    "svm_error_rate"
   ]
  },
  {
   "cell_type": "code",
   "execution_count": 19,
   "metadata": {},
   "outputs": [
    {
     "data": {
      "text/plain": [
       "0.9956896551724138"
      ]
     },
     "execution_count": 19,
     "metadata": {},
     "output_type": "execute_result"
    }
   ],
   "source": [
    "model_svm.score(X_train, Y_train)"
   ]
  },
  {
   "cell_type": "code",
   "execution_count": 20,
   "metadata": {},
   "outputs": [
    {
     "name": "stdout",
     "output_type": "stream",
     "text": [
      "[[41  2]\n",
      " [ 7 48]]\n"
     ]
    }
   ],
   "source": [
    "svm_prediction = model_svm.predict(X_test)\n",
    "print(confusion_matrix(Y_test, svm_prediction))"
   ]
  },
  {
   "cell_type": "code",
   "execution_count": 21,
   "metadata": {},
   "outputs": [
    {
     "name": "stdout",
     "output_type": "stream",
     "text": [
      "              precision    recall  f1-score   support\n",
      "\n",
      "           0       0.85      0.95      0.90        43\n",
      "           1       0.96      0.87      0.91        55\n",
      "\n",
      "    accuracy                           0.91        98\n",
      "   macro avg       0.91      0.91      0.91        98\n",
      "weighted avg       0.91      0.91      0.91        98\n",
      "\n"
     ]
    }
   ],
   "source": [
    "print(classification_report(Y_test, svm_prediction))"
   ]
  },
  {
   "cell_type": "code",
   "execution_count": 22,
   "metadata": {},
   "outputs": [
    {
     "data": {
      "image/png": "[encoded data removed]",
      "text/plain": [
       "<Figure size 432x288 with 1 Axes>"
      ]
     },
     "metadata": {
      "needs_background": "light"
     },
     "output_type": "display_data"
    }
   ],
   "source": [
    "plot_roc(Y_test,svm_prediction, \"SVM\")"
   ]
  },
  {
   "cell_type": "code",
   "execution_count": 23,
   "metadata": {},
   "outputs": [
    {
     "name": "stdout",
     "output_type": "stream",
     "text": [
      "Fitting 10 folds for each of 96 candidates, totalling 960 fits\n"
     ]
    },
    {
     "name": "stderr",
     "output_type": "stream",
     "text": [
      "[Parallel(n_jobs=6)]: Using backend LokyBackend with 6 concurrent workers.\n",
      "[Parallel(n_jobs=6)]: Done 960 out of 960 | elapsed:    5.8s finished\n"
     ]
    },
    {
     "data": {
      "text/plain": [
       "0.061224489795918324"
      ]
     },
     "execution_count": 23,
     "metadata": {},
     "output_type": "execute_result"
    }
   ],
   "source": [
    "# logistic regression\n",
    "from sklearn.linear_model import LogisticRegression\n",
    "model_regression = LogisticRegression()\n",
    "param_grid = {\n",
    "             'C': [1,2,4,6,8,10],\n",
    "             'penalty':[\"l1\", \"l2\"],\n",
    "             'fit_intercept':[True,False],\n",
    "              'class_weight':[\"balanced\",None],\n",
    "              'warm_start':[True,False]}  \n",
    "regression_grid =  GridSearchCV(model_regression,param_grid,scoring=\"roc_auc\", cv=TimeSeriesSplit(max_train_size=None, n_splits=10), verbose=1,n_jobs=6)\n",
    "regression_grid.fit(X_train,Y_train)\n",
    "model_regresssion= regression_grid.best_estimator_\n",
    "regression_error_rate =1 - model_regresssion.score(X_test,Y_test)\n",
    "regression_error_rate"
   ]
  },
  {
   "cell_type": "code",
   "execution_count": 24,
   "metadata": {},
   "outputs": [
    {
     "name": "stdout",
     "output_type": "stream",
     "text": [
      "[[43  0]\n",
      " [ 6 49]]\n"
     ]
    }
   ],
   "source": [
    "regression_prediction = model_regresssion.predict(X_test)\n",
    "print(confusion_matrix(Y_test, regression_prediction))"
   ]
  },
  {
   "cell_type": "code",
   "execution_count": 25,
   "metadata": {},
   "outputs": [
    {
     "name": "stdout",
     "output_type": "stream",
     "text": [
      "              precision    recall  f1-score   support\n",
      "\n",
      "           0       0.88      1.00      0.93        43\n",
      "           1       1.00      0.89      0.94        55\n",
      "\n",
      "    accuracy                           0.94        98\n",
      "   macro avg       0.94      0.95      0.94        98\n",
      "weighted avg       0.95      0.94      0.94        98\n",
      "\n"
     ]
    }
   ],
   "source": [
    "print(classification_report(Y_test, regression_prediction))"
   ]
  },
  {
   "cell_type": "code",
   "execution_count": 26,
   "metadata": {},
   "outputs": [
    {
     "data": {
      "image/png": "[encoded data removed]",
      "text/plain": [
       "<Figure size 432x288 with 1 Axes>"
      ]
     },
     "metadata": {
      "needs_background": "light"
     },
     "output_type": "display_data"
    }
   ],
   "source": [
    "plot_roc(Y_test,regression_prediction, \"Logistic Regression\")"
   ]
  },
  {
   "cell_type": "code",
   "execution_count": 27,
   "metadata": {},
   "outputs": [],
   "source": [
    "# install tensorflow in virtual enviroment locally or use google colab\n",
    "# Please read this line at least.Basic model frame tuning may needed. I reached 0.7347 test accuracy for old dataset.\n",
    "import tensorflow as tf\n",
    "# Nerual network layer by layer. The input shape(...,62) may vary if new added\n",
    "NN_model = tf.keras.models.Sequential()\n",
    "NN_model.add(tf.keras.layers.Dense(units=128,activation=\"relu\",input_dim=65)) \n",
    "# dropout exist for preventing overfitting. \n",
    "NN_model.add(tf.keras.layers.Dropout(0.2))\n",
    "NN_model.add(tf.keras.layers.Dense(units=256,activation=\"relu\"))\n",
    "NN_model.add(tf.keras.layers.Dropout(0.2)) \n",
    "NN_model.add(tf.keras.layers.Dense(units=256,activation=\"relu\")) \n",
    "# please do not change this line. sigmoid function is a must for binary classification\n",
    "NN_model.add(tf.keras.layers.Dense(units=1,activation=\"sigmoid\"))\n",
    "# you can play with this line\n",
    "NN_model.compile(loss='binary_crossentropy',optimizer=tf.keras.optimizers.Adam(learning_rate=0.001),metrics=['accuracy']) "
   ]
  },
  {
   "cell_type": "code",
   "execution_count": 28,
   "metadata": {},
   "outputs": [
    {
     "name": "stdout",
     "output_type": "stream",
     "text": [
      "Model: \"sequential\"\n",
      "_________________________________________________________________\n",
      "Layer (type)                 Output Shape              Param #   \n",
      "=================================================================\n",
      "dense (Dense)                (None, 128)               8448      \n",
      "_________________________________________________________________\n",
      "dropout (Dropout)            (None, 128)               0         \n",
      "_________________________________________________________________\n",
      "dense_1 (Dense)              (None, 256)               33024     \n",
      "_________________________________________________________________\n",
      "dropout_1 (Dropout)          (None, 256)               0         \n",
      "_________________________________________________________________\n",
      "dense_2 (Dense)              (None, 256)               65792     \n",
      "_________________________________________________________________\n",
      "dense_3 (Dense)              (None, 1)                 257       \n",
      "=================================================================\n",
      "Total params: 107,521\n",
      "Trainable params: 107,521\n",
      "Non-trainable params: 0\n",
      "_________________________________________________________________\n"
     ]
    }
   ],
   "source": [
    "# a basic summary of model\n",
    "NN_model.summary()"
   ]
  },
  {
   "cell_type": "code",
   "execution_count": 29,
   "metadata": {},
   "outputs": [
    {
     "name": "stdout",
     "output_type": "stream",
     "text": [
      "Train on 232 samples\n",
      "Epoch 1/50\n",
      "232/232 [==============================] - 1s 2ms/sample - loss: 0.7060 - accuracy: 0.5474\n",
      "Epoch 2/50\n",
      "232/232 [==============================] - 0s 60us/sample - loss: 0.6864 - accuracy: 0.5603\n",
      "Epoch 3/50\n",
      "232/232 [==============================] - 0s 56us/sample - loss: 0.6779 - accuracy: 0.5776\n",
      "Epoch 4/50\n",
      "232/232 [==============================] - 0s 60us/sample - loss: 0.6647 - accuracy: 0.6164\n",
      "Epoch 5/50\n",
      "232/232 [==============================] - 0s 64us/sample - loss: 0.6489 - accuracy: 0.6250\n",
      "Epoch 6/50\n",
      "232/232 [==============================] - 0s 64us/sample - loss: 0.6438 - accuracy: 0.6250\n",
      "Epoch 7/50\n",
      "232/232 [==============================] - 0s 82us/sample - loss: 0.6383 - accuracy: 0.6250\n",
      "Epoch 8/50\n",
      "232/232 [==============================] - 0s 73us/sample - loss: 0.6254 - accuracy: 0.6767\n",
      "Epoch 9/50\n",
      "232/232 [==============================] - 0s 56us/sample - loss: 0.6254 - accuracy: 0.6336\n",
      "Epoch 10/50\n",
      "232/232 [==============================] - 0s 56us/sample - loss: 0.6444 - accuracy: 0.6379\n",
      "Epoch 11/50\n",
      "232/232 [==============================] - 0s 56us/sample - loss: 0.5825 - accuracy: 0.7198\n",
      "Epoch 12/50\n",
      "232/232 [==============================] - 0s 69us/sample - loss: 0.5764 - accuracy: 0.7328\n",
      "Epoch 13/50\n",
      "232/232 [==============================] - 0s 73us/sample - loss: 0.5943 - accuracy: 0.7155\n",
      "Epoch 14/50\n",
      "232/232 [==============================] - 0s 77us/sample - loss: 0.5591 - accuracy: 0.6983\n",
      "Epoch 15/50\n",
      "232/232 [==============================] - 0s 60us/sample - loss: 0.5496 - accuracy: 0.7198\n",
      "Epoch 16/50\n",
      "232/232 [==============================] - 0s 56us/sample - loss: 0.5097 - accuracy: 0.7543\n",
      "Epoch 17/50\n",
      "232/232 [==============================] - 0s 56us/sample - loss: 0.5053 - accuracy: 0.7672\n",
      "Epoch 18/50\n",
      "232/232 [==============================] - 0s 95us/sample - loss: 0.5614 - accuracy: 0.7371\n",
      "Epoch 19/50\n",
      "232/232 [==============================] - 0s 73us/sample - loss: 0.5446 - accuracy: 0.7543\n",
      "Epoch 20/50\n",
      "232/232 [==============================] - 0s 69us/sample - loss: 0.4911 - accuracy: 0.7716\n",
      "Epoch 21/50\n",
      "232/232 [==============================] - 0s 56us/sample - loss: 0.4602 - accuracy: 0.7716\n",
      "Epoch 22/50\n",
      "232/232 [==============================] - 0s 56us/sample - loss: 0.4919 - accuracy: 0.7629\n",
      "Epoch 23/50\n",
      "232/232 [==============================] - 0s 60us/sample - loss: 0.4576 - accuracy: 0.7716\n",
      "Epoch 24/50\n",
      "232/232 [==============================] - 0s 73us/sample - loss: 0.4824 - accuracy: 0.7543\n",
      "Epoch 25/50\n",
      "232/232 [==============================] - 0s 60us/sample - loss: 0.4437 - accuracy: 0.8319\n",
      "Epoch 26/50\n",
      "232/232 [==============================] - 0s 60us/sample - loss: 0.4020 - accuracy: 0.8319\n",
      "Epoch 27/50\n",
      "232/232 [==============================] - 0s 60us/sample - loss: 0.3909 - accuracy: 0.8276\n",
      "Epoch 28/50\n",
      "232/232 [==============================] - 0s 60us/sample - loss: 0.4167 - accuracy: 0.8060\n",
      "Epoch 29/50\n",
      "232/232 [==============================] - 0s 60us/sample - loss: 0.3778 - accuracy: 0.8276\n",
      "Epoch 30/50\n",
      "232/232 [==============================] - 0s 69us/sample - loss: 0.3753 - accuracy: 0.8233\n",
      "Epoch 31/50\n",
      "232/232 [==============================] - 0s 60us/sample - loss: 0.3977 - accuracy: 0.8362\n",
      "Epoch 32/50\n",
      "232/232 [==============================] - 0s 60us/sample - loss: 0.3928 - accuracy: 0.8147\n",
      "Epoch 33/50\n",
      "232/232 [==============================] - 0s 60us/sample - loss: 0.3605 - accuracy: 0.8534\n",
      "Epoch 34/50\n",
      "232/232 [==============================] - 0s 60us/sample - loss: 0.3111 - accuracy: 0.8966\n",
      "Epoch 35/50\n",
      "232/232 [==============================] - 0s 73us/sample - loss: 0.3266 - accuracy: 0.8707\n",
      "Epoch 36/50\n",
      "232/232 [==============================] - 0s 64us/sample - loss: 0.2979 - accuracy: 0.8750\n",
      "Epoch 37/50\n",
      "232/232 [==============================] - 0s 56us/sample - loss: 0.2984 - accuracy: 0.8750\n",
      "Epoch 38/50\n",
      "232/232 [==============================] - 0s 60us/sample - loss: 0.2616 - accuracy: 0.9138\n",
      "Epoch 39/50\n",
      "232/232 [==============================] - 0s 64us/sample - loss: 0.2935 - accuracy: 0.8621\n",
      "Epoch 40/50\n",
      "232/232 [==============================] - 0s 60us/sample - loss: 0.2672 - accuracy: 0.8836\n",
      "Epoch 41/50\n",
      "232/232 [==============================] - 0s 64us/sample - loss: 0.2760 - accuracy: 0.8966\n",
      "Epoch 42/50\n",
      "232/232 [==============================] - 0s 60us/sample - loss: 0.2790 - accuracy: 0.8793\n",
      "Epoch 43/50\n",
      "232/232 [==============================] - 0s 56us/sample - loss: 0.3147 - accuracy: 0.8534\n"
     ]
    },
    {
     "data": {
      "text/plain": [
       "<tensorflow.python.keras.callbacks.History at 0x199c0a4c448>"
      ]
     },
     "execution_count": 29,
     "metadata": {},
     "output_type": "execute_result"
    }
   ],
   "source": [
    "# I added early stop here.\n",
    "earlyStopping=tf.keras.callbacks.EarlyStopping(monitor='loss', patience=5, verbose=0, mode='min')\n",
    "NN_model.fit(x=X_train,y=Y_train,batch_size=30,epochs=50,callbacks=[earlyStopping])"
   ]
  },
  {
   "cell_type": "code",
   "execution_count": 30,
   "metadata": {},
   "outputs": [
    {
     "name": "stdout",
     "output_type": "stream",
     "text": [
      "98/98 [==============================] - 0s 1ms/sample - loss: 0.7271 - accuracy: 0.6122\n"
     ]
    }
   ],
   "source": [
    "test_loss, test_accuracy = NN_model.evaluate(X_test, Y_test)"
   ]
  },
  {
   "cell_type": "code",
   "execution_count": 31,
   "metadata": {},
   "outputs": [
    {
     "name": "stdout",
     "output_type": "stream",
     "text": [
      "[[31 12]\n",
      " [26 29]]\n"
     ]
    }
   ],
   "source": [
    "NN_prediction = NN_model.predict_classes(X_test)\n",
    "print(confusion_matrix(Y_test,NN_prediction))"
   ]
  },
  {
   "cell_type": "code",
   "execution_count": 32,
   "metadata": {},
   "outputs": [
    {
     "name": "stdout",
     "output_type": "stream",
     "text": [
      "              precision    recall  f1-score   support\n",
      "\n",
      "           0       0.54      0.72      0.62        43\n",
      "           1       0.71      0.53      0.60        55\n",
      "\n",
      "    accuracy                           0.61        98\n",
      "   macro avg       0.63      0.62      0.61        98\n",
      "weighted avg       0.64      0.61      0.61        98\n",
      "\n"
     ]
    }
   ],
   "source": [
    "print(classification_report(Y_test,NN_prediction))"
   ]
  },
  {
   "cell_type": "code",
   "execution_count": 33,
   "metadata": {},
   "outputs": [
    {
     "data": {
      "image/png": "[encoded data removed]",
      "text/plain": [
       "<Figure size 432x288 with 1 Axes>"
      ]
     },
     "metadata": {
      "needs_background": "light"
     },
     "output_type": "display_data"
    }
   ],
   "source": [
    "plot_roc(Y_test,NN_prediction, \"Neural Networks\")"
   ]
  },
  {
   "cell_type": "markdown",
   "metadata": {},
   "source": [
    "### Backtesting"
   ]
  },
  {
   "cell_type": "code",
   "execution_count": 34,
   "metadata": {},
   "outputs": [
    {
     "data": {
      "text/html": [
       "<div>\n",
       "<style scoped>\n",
       "    .dataframe tbody tr th:only-of-type {\n",
       "        vertical-align: middle;\n",
       "    }\n",
       "\n",
       "    .dataframe tbody tr th {\n",
       "        vertical-align: top;\n",
       "    }\n",
       "\n",
       "    .dataframe thead th {\n",
       "        text-align: right;\n",
       "    }\n",
       "</style>\n",
       "<table border=\"1\" class=\"dataframe\">\n",
       "  <thead>\n",
       "    <tr style=\"text-align: right;\">\n",
       "      <th></th>\n",
       "      <th>Close</th>\n",
       "      <th>Close_Past_1</th>\n",
       "      <th>Close_Past_2</th>\n",
       "      <th>Close_Past_3</th>\n",
       "      <th>Close_Past_4</th>\n",
       "      <th>Close_Past_5</th>\n",
       "      <th>Close_Past_6</th>\n",
       "      <th>Close_Past_7</th>\n",
       "      <th>Close_Past_8</th>\n",
       "      <th>Close_Past_9</th>\n",
       "      <th>...</th>\n",
       "      <th>Open_Past_25</th>\n",
       "      <th>Open_Past_26</th>\n",
       "      <th>Open_Past_27</th>\n",
       "      <th>Open_Past_28</th>\n",
       "      <th>Open_Past_29</th>\n",
       "      <th>Open_Past_30</th>\n",
       "      <th>MonthTrend</th>\n",
       "      <th>negative</th>\n",
       "      <th>neutral</th>\n",
       "      <th>positive</th>\n",
       "    </tr>\n",
       "    <tr>\n",
       "      <th>Date</th>\n",
       "      <th></th>\n",
       "      <th></th>\n",
       "      <th></th>\n",
       "      <th></th>\n",
       "      <th></th>\n",
       "      <th></th>\n",
       "      <th></th>\n",
       "      <th></th>\n",
       "      <th></th>\n",
       "      <th></th>\n",
       "      <th></th>\n",
       "      <th></th>\n",
       "      <th></th>\n",
       "      <th></th>\n",
       "      <th></th>\n",
       "      <th></th>\n",
       "      <th></th>\n",
       "      <th></th>\n",
       "      <th></th>\n",
       "      <th></th>\n",
       "      <th></th>\n",
       "    </tr>\n",
       "  </thead>\n",
       "  <tbody>\n",
       "    <tr>\n",
       "      <td>2019-09-11</td>\n",
       "      <td>10410.126953</td>\n",
       "      <td>10178.4</td>\n",
       "      <td>10116</td>\n",
       "      <td>10335</td>\n",
       "      <td>10441.3</td>\n",
       "      <td>10517.3</td>\n",
       "      <td>10353.3</td>\n",
       "      <td>10575.5</td>\n",
       "      <td>10594.5</td>\n",
       "      <td>10623.5</td>\n",
       "      <td>...</td>\n",
       "      <td>10233</td>\n",
       "      <td>10358.7</td>\n",
       "      <td>10319.4</td>\n",
       "      <td>10038.4</td>\n",
       "      <td>10889.5</td>\n",
       "      <td>11385.1</td>\n",
       "      <td>UP</td>\n",
       "      <td>0.0484984</td>\n",
       "      <td>0.888504</td>\n",
       "      <td>0.0629979</td>\n",
       "    </tr>\n",
       "    <tr>\n",
       "      <td>2019-09-12</td>\n",
       "      <td>10360.546875</td>\n",
       "      <td>10410.1</td>\n",
       "      <td>10178.4</td>\n",
       "      <td>10116</td>\n",
       "      <td>10335</td>\n",
       "      <td>10441.3</td>\n",
       "      <td>10517.3</td>\n",
       "      <td>10353.3</td>\n",
       "      <td>10575.5</td>\n",
       "      <td>10594.5</td>\n",
       "      <td>...</td>\n",
       "      <td>10350.3</td>\n",
       "      <td>10233</td>\n",
       "      <td>10358.7</td>\n",
       "      <td>10319.4</td>\n",
       "      <td>10038.4</td>\n",
       "      <td>10889.5</td>\n",
       "      <td>UP</td>\n",
       "      <td>0.0588</td>\n",
       "      <td>0.8413</td>\n",
       "      <td>0.0999</td>\n",
       "    </tr>\n",
       "    <tr>\n",
       "      <td>2019-09-13</td>\n",
       "      <td>10358.048828</td>\n",
       "      <td>10360.5</td>\n",
       "      <td>10410.1</td>\n",
       "      <td>10178.4</td>\n",
       "      <td>10116</td>\n",
       "      <td>10335</td>\n",
       "      <td>10441.3</td>\n",
       "      <td>10517.3</td>\n",
       "      <td>10353.3</td>\n",
       "      <td>10575.5</td>\n",
       "      <td>...</td>\n",
       "      <td>10916.3</td>\n",
       "      <td>10350.3</td>\n",
       "      <td>10233</td>\n",
       "      <td>10358.7</td>\n",
       "      <td>10319.4</td>\n",
       "      <td>10038.4</td>\n",
       "      <td>DOWN</td>\n",
       "      <td>0.0439319</td>\n",
       "      <td>0.879837</td>\n",
       "      <td>0.0762308</td>\n",
       "    </tr>\n",
       "    <tr>\n",
       "      <td>2019-09-14</td>\n",
       "      <td>10347.712891</td>\n",
       "      <td>10358</td>\n",
       "      <td>10360.5</td>\n",
       "      <td>10410.1</td>\n",
       "      <td>10178.4</td>\n",
       "      <td>10116</td>\n",
       "      <td>10335</td>\n",
       "      <td>10441.3</td>\n",
       "      <td>10517.3</td>\n",
       "      <td>10353.3</td>\n",
       "      <td>...</td>\n",
       "      <td>10764.6</td>\n",
       "      <td>10916.3</td>\n",
       "      <td>10350.3</td>\n",
       "      <td>10233</td>\n",
       "      <td>10358.7</td>\n",
       "      <td>10319.4</td>\n",
       "      <td>UP</td>\n",
       "      <td>0.0253</td>\n",
       "      <td>0.9104</td>\n",
       "      <td>0.0643</td>\n",
       "    </tr>\n",
       "    <tr>\n",
       "      <td>2019-09-15</td>\n",
       "      <td>10276.793945</td>\n",
       "      <td>10347.7</td>\n",
       "      <td>10358</td>\n",
       "      <td>10360.5</td>\n",
       "      <td>10410.1</td>\n",
       "      <td>10178.4</td>\n",
       "      <td>10116</td>\n",
       "      <td>10335</td>\n",
       "      <td>10441.3</td>\n",
       "      <td>10517.3</td>\n",
       "      <td>...</td>\n",
       "      <td>10142.5</td>\n",
       "      <td>10764.6</td>\n",
       "      <td>10916.3</td>\n",
       "      <td>10350.3</td>\n",
       "      <td>10233</td>\n",
       "      <td>10358.7</td>\n",
       "      <td>DOWN</td>\n",
       "      <td>0.0291676</td>\n",
       "      <td>0.881429</td>\n",
       "      <td>0.089403</td>\n",
       "    </tr>\n",
       "    <tr>\n",
       "      <td>...</td>\n",
       "      <td>...</td>\n",
       "      <td>...</td>\n",
       "      <td>...</td>\n",
       "      <td>...</td>\n",
       "      <td>...</td>\n",
       "      <td>...</td>\n",
       "      <td>...</td>\n",
       "      <td>...</td>\n",
       "      <td>...</td>\n",
       "      <td>...</td>\n",
       "      <td>...</td>\n",
       "      <td>...</td>\n",
       "      <td>...</td>\n",
       "      <td>...</td>\n",
       "      <td>...</td>\n",
       "      <td>...</td>\n",
       "      <td>...</td>\n",
       "      <td>...</td>\n",
       "      <td>...</td>\n",
       "      <td>...</td>\n",
       "      <td>...</td>\n",
       "    </tr>\n",
       "    <tr>\n",
       "      <td>2020-08-04</td>\n",
       "      <td>11747.022461</td>\n",
       "      <td>11246.3</td>\n",
       "      <td>11246.3</td>\n",
       "      <td>11053.6</td>\n",
       "      <td>11759.6</td>\n",
       "      <td>11323.5</td>\n",
       "      <td>11111.2</td>\n",
       "      <td>11100.5</td>\n",
       "      <td>10912.8</td>\n",
       "      <td>10990.9</td>\n",
       "      <td>...</td>\n",
       "      <td>9277.51</td>\n",
       "      <td>9273.36</td>\n",
       "      <td>9427.99</td>\n",
       "      <td>9253.02</td>\n",
       "      <td>9349.16</td>\n",
       "      <td>9072.85</td>\n",
       "      <td>UP</td>\n",
       "      <td>0.05575</td>\n",
       "      <td>0.8895</td>\n",
       "      <td>0.05475</td>\n",
       "    </tr>\n",
       "    <tr>\n",
       "      <td>2020-08-05</td>\n",
       "      <td>11779.773438</td>\n",
       "      <td>11747</td>\n",
       "      <td>11246.3</td>\n",
       "      <td>11246.3</td>\n",
       "      <td>11053.6</td>\n",
       "      <td>11759.6</td>\n",
       "      <td>11323.5</td>\n",
       "      <td>11111.2</td>\n",
       "      <td>11100.5</td>\n",
       "      <td>10912.8</td>\n",
       "      <td>...</td>\n",
       "      <td>9241.05</td>\n",
       "      <td>9277.51</td>\n",
       "      <td>9273.36</td>\n",
       "      <td>9427.99</td>\n",
       "      <td>9253.02</td>\n",
       "      <td>9349.16</td>\n",
       "      <td>UP</td>\n",
       "      <td>0.022</td>\n",
       "      <td>0.902368</td>\n",
       "      <td>0.0756316</td>\n",
       "    </tr>\n",
       "    <tr>\n",
       "      <td>2020-08-06</td>\n",
       "      <td>11601.472656</td>\n",
       "      <td>11779.8</td>\n",
       "      <td>11747</td>\n",
       "      <td>11246.3</td>\n",
       "      <td>11246.3</td>\n",
       "      <td>11053.6</td>\n",
       "      <td>11759.6</td>\n",
       "      <td>11323.5</td>\n",
       "      <td>11111.2</td>\n",
       "      <td>11100.5</td>\n",
       "      <td>...</td>\n",
       "      <td>9277.21</td>\n",
       "      <td>9241.05</td>\n",
       "      <td>9277.51</td>\n",
       "      <td>9273.36</td>\n",
       "      <td>9427.99</td>\n",
       "      <td>9253.02</td>\n",
       "      <td>UP</td>\n",
       "      <td>0.0257778</td>\n",
       "      <td>0.895</td>\n",
       "      <td>0.0792222</td>\n",
       "    </tr>\n",
       "    <tr>\n",
       "      <td>2020-08-07</td>\n",
       "      <td>11754.045898</td>\n",
       "      <td>11601.5</td>\n",
       "      <td>11779.8</td>\n",
       "      <td>11747</td>\n",
       "      <td>11246.3</td>\n",
       "      <td>11246.3</td>\n",
       "      <td>11053.6</td>\n",
       "      <td>11759.6</td>\n",
       "      <td>11323.5</td>\n",
       "      <td>11111.2</td>\n",
       "      <td>...</td>\n",
       "      <td>9238.7</td>\n",
       "      <td>9277.21</td>\n",
       "      <td>9241.05</td>\n",
       "      <td>9277.51</td>\n",
       "      <td>9273.36</td>\n",
       "      <td>9427.99</td>\n",
       "      <td>DOWN</td>\n",
       "      <td>0.0277762</td>\n",
       "      <td>0.908894</td>\n",
       "      <td>0.0633298</td>\n",
       "    </tr>\n",
       "    <tr>\n",
       "      <td>2020-08-08</td>\n",
       "      <td>11675.739258</td>\n",
       "      <td>11754</td>\n",
       "      <td>11601.5</td>\n",
       "      <td>11779.8</td>\n",
       "      <td>11747</td>\n",
       "      <td>11246.3</td>\n",
       "      <td>11246.3</td>\n",
       "      <td>11053.6</td>\n",
       "      <td>11759.6</td>\n",
       "      <td>11323.5</td>\n",
       "      <td>...</td>\n",
       "      <td>9241.9</td>\n",
       "      <td>9238.7</td>\n",
       "      <td>9277.21</td>\n",
       "      <td>9241.05</td>\n",
       "      <td>9277.51</td>\n",
       "      <td>9273.36</td>\n",
       "      <td>UP</td>\n",
       "      <td>0.031</td>\n",
       "      <td>0.902857</td>\n",
       "      <td>0.0661429</td>\n",
       "    </tr>\n",
       "  </tbody>\n",
       "</table>\n",
       "<p>331 rows × 66 columns</p>\n",
       "</div>"
      ],
      "text/plain": [
       "                   Close Close_Past_1 Close_Past_2 Close_Past_3 Close_Past_4  \\\n",
       "Date                                                                           \n",
       "2019-09-11  10410.126953      10178.4        10116        10335      10441.3   \n",
       "2019-09-12  10360.546875      10410.1      10178.4        10116        10335   \n",
       "2019-09-13  10358.048828      10360.5      10410.1      10178.4        10116   \n",
       "2019-09-14  10347.712891        10358      10360.5      10410.1      10178.4   \n",
       "2019-09-15  10276.793945      10347.7        10358      10360.5      10410.1   \n",
       "...                  ...          ...          ...          ...          ...   \n",
       "2020-08-04  11747.022461      11246.3      11246.3      11053.6      11759.6   \n",
       "2020-08-05  11779.773438        11747      11246.3      11246.3      11053.6   \n",
       "2020-08-06  11601.472656      11779.8        11747      11246.3      11246.3   \n",
       "2020-08-07  11754.045898      11601.5      11779.8        11747      11246.3   \n",
       "2020-08-08  11675.739258        11754      11601.5      11779.8        11747   \n",
       "\n",
       "           Close_Past_5 Close_Past_6 Close_Past_7 Close_Past_8 Close_Past_9  \\\n",
       "Date                                                                          \n",
       "2019-09-11      10517.3      10353.3      10575.5      10594.5      10623.5   \n",
       "2019-09-12      10441.3      10517.3      10353.3      10575.5      10594.5   \n",
       "2019-09-13        10335      10441.3      10517.3      10353.3      10575.5   \n",
       "2019-09-14        10116        10335      10441.3      10517.3      10353.3   \n",
       "2019-09-15      10178.4        10116        10335      10441.3      10517.3   \n",
       "...                 ...          ...          ...          ...          ...   \n",
       "2020-08-04      11323.5      11111.2      11100.5      10912.8      10990.9   \n",
       "2020-08-05      11759.6      11323.5      11111.2      11100.5      10912.8   \n",
       "2020-08-06      11053.6      11759.6      11323.5      11111.2      11100.5   \n",
       "2020-08-07      11246.3      11053.6      11759.6      11323.5      11111.2   \n",
       "2020-08-08      11246.3      11246.3      11053.6      11759.6      11323.5   \n",
       "\n",
       "            ... Open_Past_25 Open_Past_26 Open_Past_27 Open_Past_28  \\\n",
       "Date        ...                                                       \n",
       "2019-09-11  ...        10233      10358.7      10319.4      10038.4   \n",
       "2019-09-12  ...      10350.3        10233      10358.7      10319.4   \n",
       "2019-09-13  ...      10916.3      10350.3        10233      10358.7   \n",
       "2019-09-14  ...      10764.6      10916.3      10350.3        10233   \n",
       "2019-09-15  ...      10142.5      10764.6      10916.3      10350.3   \n",
       "...         ...          ...          ...          ...          ...   \n",
       "2020-08-04  ...      9277.51      9273.36      9427.99      9253.02   \n",
       "2020-08-05  ...      9241.05      9277.51      9273.36      9427.99   \n",
       "2020-08-06  ...      9277.21      9241.05      9277.51      9273.36   \n",
       "2020-08-07  ...       9238.7      9277.21      9241.05      9277.51   \n",
       "2020-08-08  ...       9241.9       9238.7      9277.21      9241.05   \n",
       "\n",
       "           Open_Past_29 Open_Past_30 MonthTrend   negative   neutral  \\\n",
       "Date                                                                   \n",
       "2019-09-11      10889.5      11385.1         UP  0.0484984  0.888504   \n",
       "2019-09-12      10038.4      10889.5         UP     0.0588    0.8413   \n",
       "2019-09-13      10319.4      10038.4       DOWN  0.0439319  0.879837   \n",
       "2019-09-14      10358.7      10319.4         UP     0.0253    0.9104   \n",
       "2019-09-15        10233      10358.7       DOWN  0.0291676  0.881429   \n",
       "...                 ...          ...        ...        ...       ...   \n",
       "2020-08-04      9349.16      9072.85         UP    0.05575    0.8895   \n",
       "2020-08-05      9253.02      9349.16         UP      0.022  0.902368   \n",
       "2020-08-06      9427.99      9253.02         UP  0.0257778     0.895   \n",
       "2020-08-07      9273.36      9427.99       DOWN  0.0277762  0.908894   \n",
       "2020-08-08      9277.51      9273.36         UP      0.031  0.902857   \n",
       "\n",
       "             positive  \n",
       "Date                   \n",
       "2019-09-11  0.0629979  \n",
       "2019-09-12     0.0999  \n",
       "2019-09-13  0.0762308  \n",
       "2019-09-14     0.0643  \n",
       "2019-09-15   0.089403  \n",
       "...               ...  \n",
       "2020-08-04    0.05475  \n",
       "2020-08-05  0.0756316  \n",
       "2020-08-06  0.0792222  \n",
       "2020-08-07  0.0633298  \n",
       "2020-08-08  0.0661429  \n",
       "\n",
       "[331 rows x 66 columns]"
      ]
     },
     "execution_count": 34,
     "metadata": {},
     "output_type": "execute_result"
    }
   ],
   "source": [
    "btc"
   ]
  },
  {
   "cell_type": "code",
   "execution_count": 37,
   "metadata": {},
   "outputs": [
    {
     "name": "stdout",
     "output_type": "stream",
     "text": [
      "Fitting 10 folds for each of 3 candidates, totalling 30 fits\n",
      "G A I N! 1.0064722484464586\n",
      "portfolio value: 100.64722484464585\n",
      "Fitting 10 folds for each of 3 candidates, totalling 30 fits\n"
     ]
    },
    {
     "name": "stderr",
     "output_type": "stream",
     "text": [
      "[Parallel(n_jobs=6)]: Using backend LokyBackend with 6 concurrent workers.\n",
      "[Parallel(n_jobs=6)]: Done  30 out of  30 | elapsed:    0.0s finished\n",
      "[Parallel(n_jobs=6)]: Using backend LokyBackend with 6 concurrent workers.\n",
      "[Parallel(n_jobs=6)]: Done  30 out of  30 | elapsed:    0.0s finished\n",
      "[Parallel(n_jobs=6)]: Using backend LokyBackend with 6 concurrent workers.\n",
      "[Parallel(n_jobs=6)]: Done  30 out of  30 | elapsed:    0.0s finished\n",
      "[Parallel(n_jobs=6)]: Using backend LokyBackend with 6 concurrent workers.\n"
     ]
    },
    {
     "name": "stdout",
     "output_type": "stream",
     "text": [
      "portfolio value: 100.64722484464585\n",
      "Fitting 10 folds for each of 3 candidates, totalling 30 fits\n",
      "portfolio value: 100.64722484464585\n",
      "Fitting 10 folds for each of 3 candidates, totalling 30 fits\n"
     ]
    },
    {
     "name": "stderr",
     "output_type": "stream",
     "text": [
      "[Parallel(n_jobs=6)]: Done  30 out of  30 | elapsed:    0.0s finished\n",
      "[Parallel(n_jobs=6)]: Using backend LokyBackend with 6 concurrent workers.\n",
      "[Parallel(n_jobs=6)]: Done  30 out of  30 | elapsed:    0.0s finished\n",
      "[Parallel(n_jobs=6)]: Using backend LokyBackend with 6 concurrent workers.\n"
     ]
    },
    {
     "name": "stdout",
     "output_type": "stream",
     "text": [
      "portfolio value: 100.64722484464585\n",
      "Fitting 10 folds for each of 3 candidates, totalling 30 fits\n",
      "LOSS! 0.9842331661233105\n",
      "portfolio value: 99.0603367703705\n",
      "Fitting 10 folds for each of 3 candidates, totalling 30 fits\n"
     ]
    },
    {
     "name": "stderr",
     "output_type": "stream",
     "text": [
      "[Parallel(n_jobs=6)]: Done  30 out of  30 | elapsed:    0.0s finished\n",
      "[Parallel(n_jobs=6)]: Using backend LokyBackend with 6 concurrent workers.\n",
      "[Parallel(n_jobs=6)]: Done  30 out of  30 | elapsed:    0.0s finished\n",
      "[Parallel(n_jobs=6)]: Using backend LokyBackend with 6 concurrent workers.\n"
     ]
    },
    {
     "name": "stdout",
     "output_type": "stream",
     "text": [
      "G A I N! 1.0018506645601595\n",
      "portfolio value: 99.24366422494889\n",
      "Fitting 10 folds for each of 3 candidates, totalling 30 fits\n",
      "G A I N! 1.0280415609527733\n",
      "portfolio value: 102.02661148448937\n",
      "Fitting 10 folds for each of 3 candidates, totalling 30 fits\n"
     ]
    },
    {
     "name": "stderr",
     "output_type": "stream",
     "text": [
      "[Parallel(n_jobs=6)]: Done  30 out of  30 | elapsed:    0.0s finished\n",
      "[Parallel(n_jobs=6)]: Using backend LokyBackend with 6 concurrent workers.\n",
      "[Parallel(n_jobs=6)]: Done  30 out of  30 | elapsed:    0.0s finished\n",
      "[Parallel(n_jobs=6)]: Using backend LokyBackend with 6 concurrent workers.\n"
     ]
    },
    {
     "name": "stdout",
     "output_type": "stream",
     "text": [
      "G A I N! 1.0022620313782649\n",
      "portfolio value: 102.25739888108532\n",
      "Fitting 10 folds for each of 3 candidates, totalling 30 fits\n",
      "LOSS! 0.9799598258266199\n",
      "portfolio value: 100.20814279699157\n",
      "Fitting 10 folds for each of 3 candidates, totalling 30 fits\n"
     ]
    },
    {
     "name": "stderr",
     "output_type": "stream",
     "text": [
      "[Parallel(n_jobs=6)]: Done  30 out of  30 | elapsed:    0.0s finished\n",
      "[Parallel(n_jobs=6)]: Using backend LokyBackend with 6 concurrent workers.\n",
      "[Parallel(n_jobs=6)]: Done  30 out of  30 | elapsed:    0.0s finished\n",
      "[Parallel(n_jobs=6)]: Using backend LokyBackend with 6 concurrent workers.\n"
     ]
    },
    {
     "name": "stdout",
     "output_type": "stream",
     "text": [
      "portfolio value: 100.20814279699157\n",
      "Fitting 10 folds for each of 3 candidates, totalling 30 fits\n",
      "portfolio value: 100.20814279699157\n",
      "Fitting 10 folds for each of 3 candidates, totalling 30 fits\n"
     ]
    },
    {
     "name": "stderr",
     "output_type": "stream",
     "text": [
      "[Parallel(n_jobs=6)]: Done  30 out of  30 | elapsed:    0.0s finished\n",
      "[Parallel(n_jobs=6)]: Using backend LokyBackend with 6 concurrent workers.\n",
      "[Parallel(n_jobs=6)]: Done  30 out of  30 | elapsed:    0.0s finished\n",
      "[Parallel(n_jobs=6)]: Using backend LokyBackend with 6 concurrent workers.\n"
     ]
    },
    {
     "name": "stdout",
     "output_type": "stream",
     "text": [
      "portfolio value: 100.20814279699157\n",
      "Fitting 10 folds for each of 3 candidates, totalling 30 fits\n",
      "G A I N! 1.0666155602568346\n",
      "portfolio value: 106.88356437171004\n",
      "Fitting 10 folds for each of 3 candidates, totalling 30 fits\n"
     ]
    },
    {
     "name": "stderr",
     "output_type": "stream",
     "text": [
      "[Parallel(n_jobs=6)]: Done  30 out of  30 | elapsed:    0.0s finished\n",
      "[Parallel(n_jobs=6)]: Using backend LokyBackend with 6 concurrent workers.\n",
      "[Parallel(n_jobs=6)]: Done  30 out of  30 | elapsed:    0.0s finished\n",
      "[Parallel(n_jobs=6)]: Using backend LokyBackend with 6 concurrent workers.\n"
     ]
    },
    {
     "name": "stdout",
     "output_type": "stream",
     "text": [
      "G A I N! 1.0335444319379241\n",
      "portfolio value: 110.4689128220596\n",
      "Fitting 10 folds for each of 3 candidates, totalling 30 fits\n",
      "portfolio value: 110.4689128220596\n",
      "Fitting 10 folds for each of 3 candidates, totalling 30 fits\n"
     ]
    },
    {
     "name": "stderr",
     "output_type": "stream",
     "text": [
      "[Parallel(n_jobs=6)]: Done  30 out of  30 | elapsed:    0.0s finished\n",
      "[Parallel(n_jobs=6)]: Using backend LokyBackend with 6 concurrent workers.\n",
      "[Parallel(n_jobs=6)]: Done  30 out of  30 | elapsed:    0.0s finished\n",
      "[Parallel(n_jobs=6)]: Using backend LokyBackend with 6 concurrent workers.\n"
     ]
    },
    {
     "name": "stdout",
     "output_type": "stream",
     "text": [
      "portfolio value: 110.4689128220596\n",
      "Fitting 10 folds for each of 3 candidates, totalling 30 fits\n",
      "portfolio value: 110.4689128220596\n",
      "Fitting 10 folds for each of 3 candidates, totalling 30 fits\n"
     ]
    },
    {
     "name": "stderr",
     "output_type": "stream",
     "text": [
      "[Parallel(n_jobs=6)]: Done  30 out of  30 | elapsed:    0.0s finished\n",
      "[Parallel(n_jobs=6)]: Using backend LokyBackend with 6 concurrent workers.\n",
      "[Parallel(n_jobs=6)]: Done  30 out of  30 | elapsed:    0.0s finished\n",
      "[Parallel(n_jobs=6)]: Using backend LokyBackend with 6 concurrent workers.\n"
     ]
    },
    {
     "name": "stdout",
     "output_type": "stream",
     "text": [
      "portfolio value: 110.4689128220596\n",
      "Fitting 10 folds for each of 3 candidates, totalling 30 fits\n",
      "portfolio value: 110.4689128220596\n",
      "Fitting 10 folds for each of 3 candidates, totalling 30 fits\n"
     ]
    },
    {
     "name": "stderr",
     "output_type": "stream",
     "text": [
      "[Parallel(n_jobs=6)]: Done  30 out of  30 | elapsed:    0.0s finished\n",
      "[Parallel(n_jobs=6)]: Using backend LokyBackend with 6 concurrent workers.\n",
      "[Parallel(n_jobs=6)]: Done  30 out of  30 | elapsed:    0.0s finished\n",
      "[Parallel(n_jobs=6)]: Using backend LokyBackend with 6 concurrent workers.\n"
     ]
    },
    {
     "name": "stdout",
     "output_type": "stream",
     "text": [
      "portfolio value: 110.4689128220596\n",
      "Fitting 10 folds for each of 3 candidates, totalling 30 fits\n",
      "portfolio value: 110.4689128220596\n",
      "Fitting 10 folds for each of 3 candidates, totalling 30 fits\n"
     ]
    },
    {
     "name": "stderr",
     "output_type": "stream",
     "text": [
      "[Parallel(n_jobs=6)]: Done  30 out of  30 | elapsed:    0.0s finished\n",
      "[Parallel(n_jobs=6)]: Using backend LokyBackend with 6 concurrent workers.\n",
      "[Parallel(n_jobs=6)]: Done  30 out of  30 | elapsed:    0.0s finished\n",
      "[Parallel(n_jobs=6)]: Using backend LokyBackend with 6 concurrent workers.\n"
     ]
    },
    {
     "name": "stdout",
     "output_type": "stream",
     "text": [
      "portfolio value: 110.4689128220596\n",
      "Fitting 10 folds for each of 3 candidates, totalling 30 fits\n",
      "LOSS! 0.9925127480608039\n",
      "portfolio value: 109.64180424031174\n",
      "Fitting 10 folds for each of 3 candidates, totalling 30 fits\n"
     ]
    },
    {
     "name": "stderr",
     "output_type": "stream",
     "text": [
      "[Parallel(n_jobs=6)]: Done  30 out of  30 | elapsed:    0.0s finished\n",
      "[Parallel(n_jobs=6)]: Using backend LokyBackend with 6 concurrent workers.\n",
      "[Parallel(n_jobs=6)]: Done  30 out of  30 | elapsed:    0.0s finished\n",
      "[Parallel(n_jobs=6)]: Using backend LokyBackend with 6 concurrent workers.\n"
     ]
    },
    {
     "name": "stdout",
     "output_type": "stream",
     "text": [
      "G A I N! 1.0021428022555043\n",
      "portfolio value: 109.87674494573545\n",
      "Fitting 10 folds for each of 3 candidates, totalling 30 fits\n",
      "portfolio value: 109.87674494573545\n",
      "Fitting 10 folds for each of 3 candidates, totalling 30 fits\n"
     ]
    },
    {
     "name": "stderr",
     "output_type": "stream",
     "text": [
      "[Parallel(n_jobs=6)]: Done  30 out of  30 | elapsed:    0.0s finished\n",
      "[Parallel(n_jobs=6)]: Using backend LokyBackend with 6 concurrent workers.\n",
      "[Parallel(n_jobs=6)]: Done  30 out of  30 | elapsed:    0.0s finished\n",
      "[Parallel(n_jobs=6)]: Using backend LokyBackend with 6 concurrent workers.\n"
     ]
    },
    {
     "name": "stdout",
     "output_type": "stream",
     "text": [
      "portfolio value: 109.87674494573545\n",
      "Fitting 10 folds for each of 3 candidates, totalling 30 fits\n",
      "portfolio value: 109.87674494573545\n",
      "Fitting 10 folds for each of 3 candidates, totalling 30 fits\n"
     ]
    },
    {
     "name": "stderr",
     "output_type": "stream",
     "text": [
      "[Parallel(n_jobs=6)]: Done  30 out of  30 | elapsed:    0.0s finished\n",
      "[Parallel(n_jobs=6)]: Using backend LokyBackend with 6 concurrent workers.\n",
      "[Parallel(n_jobs=6)]: Done  30 out of  30 | elapsed:    0.0s finished\n",
      "[Parallel(n_jobs=6)]: Using backend LokyBackend with 6 concurrent workers.\n"
     ]
    },
    {
     "name": "stdout",
     "output_type": "stream",
     "text": [
      "portfolio value: 109.87674494573545\n",
      "Fitting 10 folds for each of 3 candidates, totalling 30 fits\n",
      "portfolio value: 109.87674494573545\n",
      "Fitting 10 folds for each of 3 candidates, totalling 30 fits\n"
     ]
    },
    {
     "name": "stderr",
     "output_type": "stream",
     "text": [
      "[Parallel(n_jobs=6)]: Done  30 out of  30 | elapsed:    0.0s finished\n",
      "[Parallel(n_jobs=6)]: Using backend LokyBackend with 6 concurrent workers.\n",
      "[Parallel(n_jobs=6)]: Done  30 out of  30 | elapsed:    0.0s finished\n",
      "[Parallel(n_jobs=6)]: Using backend LokyBackend with 6 concurrent workers.\n"
     ]
    },
    {
     "name": "stdout",
     "output_type": "stream",
     "text": [
      "portfolio value: 109.87674494573545\n",
      "Fitting 10 folds for each of 3 candidates, totalling 30 fits\n",
      "portfolio value: 109.87674494573545\n",
      "Fitting 10 folds for each of 3 candidates, totalling 30 fits\n"
     ]
    },
    {
     "name": "stderr",
     "output_type": "stream",
     "text": [
      "[Parallel(n_jobs=6)]: Done  30 out of  30 | elapsed:    0.0s finished\n",
      "[Parallel(n_jobs=6)]: Using backend LokyBackend with 6 concurrent workers.\n",
      "[Parallel(n_jobs=6)]: Done  30 out of  30 | elapsed:    0.0s finished\n",
      "[Parallel(n_jobs=6)]: Using backend LokyBackend with 6 concurrent workers.\n"
     ]
    },
    {
     "name": "stdout",
     "output_type": "stream",
     "text": [
      "LOSS! 0.9882157801978252\n",
      "portfolio value: 108.5819332321474\n",
      "Fitting 10 folds for each of 3 candidates, totalling 30 fits\n",
      "portfolio value: 108.5819332321474\n",
      "Fitting 10 folds for each of 3 candidates, totalling 30 fits\n"
     ]
    },
    {
     "name": "stderr",
     "output_type": "stream",
     "text": [
      "[Parallel(n_jobs=6)]: Done  30 out of  30 | elapsed:    0.0s finished\n",
      "[Parallel(n_jobs=6)]: Using backend LokyBackend with 6 concurrent workers.\n",
      "[Parallel(n_jobs=6)]: Done  30 out of  30 | elapsed:    0.0s finished\n",
      "[Parallel(n_jobs=6)]: Using backend LokyBackend with 6 concurrent workers.\n"
     ]
    },
    {
     "name": "stdout",
     "output_type": "stream",
     "text": [
      "portfolio value: 108.5819332321474\n",
      "Fitting 10 folds for each of 3 candidates, totalling 30 fits\n",
      "portfolio value: 108.5819332321474\n",
      "Fitting 10 folds for each of 3 candidates, totalling 30 fits\n"
     ]
    },
    {
     "name": "stderr",
     "output_type": "stream",
     "text": [
      "[Parallel(n_jobs=6)]: Done  30 out of  30 | elapsed:    0.0s finished\n",
      "[Parallel(n_jobs=6)]: Using backend LokyBackend with 6 concurrent workers.\n",
      "[Parallel(n_jobs=6)]: Done  30 out of  30 | elapsed:    0.0s finished\n",
      "[Parallel(n_jobs=6)]: Using backend LokyBackend with 6 concurrent workers.\n"
     ]
    },
    {
     "name": "stdout",
     "output_type": "stream",
     "text": [
      "portfolio value: 108.5819332321474\n",
      "Fitting 10 folds for each of 3 candidates, totalling 30 fits\n",
      "LOSS! 0.9880809570698097\n",
      "portfolio value: 107.28774050851038\n",
      "Fitting 10 folds for each of 3 candidates, totalling 30 fits\n"
     ]
    },
    {
     "name": "stderr",
     "output_type": "stream",
     "text": [
      "[Parallel(n_jobs=6)]: Done  30 out of  30 | elapsed:    0.0s finished\n",
      "[Parallel(n_jobs=6)]: Using backend LokyBackend with 6 concurrent workers.\n",
      "[Parallel(n_jobs=6)]: Done  30 out of  30 | elapsed:    0.0s finished\n",
      "[Parallel(n_jobs=6)]: Using backend LokyBackend with 6 concurrent workers.\n"
     ]
    },
    {
     "name": "stdout",
     "output_type": "stream",
     "text": [
      "portfolio value: 107.28774050851038\n",
      "Fitting 10 folds for each of 3 candidates, totalling 30 fits\n",
      "portfolio value: 107.28774050851038\n",
      "Fitting 10 folds for each of 3 candidates, totalling 30 fits\n"
     ]
    },
    {
     "name": "stderr",
     "output_type": "stream",
     "text": [
      "[Parallel(n_jobs=6)]: Done  30 out of  30 | elapsed:    0.0s finished\n",
      "[Parallel(n_jobs=6)]: Using backend LokyBackend with 6 concurrent workers.\n",
      "[Parallel(n_jobs=6)]: Done  30 out of  30 | elapsed:    0.0s finished\n",
      "[Parallel(n_jobs=6)]: Using backend LokyBackend with 6 concurrent workers.\n"
     ]
    },
    {
     "name": "stdout",
     "output_type": "stream",
     "text": [
      "portfolio value: 107.28774050851038\n",
      "Fitting 10 folds for each of 3 candidates, totalling 30 fits\n",
      "portfolio value: 107.28774050851038\n",
      "Fitting 10 folds for each of 3 candidates, totalling 30 fits\n"
     ]
    },
    {
     "name": "stderr",
     "output_type": "stream",
     "text": [
      "[Parallel(n_jobs=6)]: Done  30 out of  30 | elapsed:    0.0s finished\n",
      "[Parallel(n_jobs=6)]: Using backend LokyBackend with 6 concurrent workers.\n",
      "[Parallel(n_jobs=6)]: Done  30 out of  30 | elapsed:    0.0s finished\n",
      "[Parallel(n_jobs=6)]: Using backend LokyBackend with 6 concurrent workers.\n"
     ]
    },
    {
     "name": "stdout",
     "output_type": "stream",
     "text": [
      "portfolio value: 107.28774050851038\n",
      "Fitting 10 folds for each of 3 candidates, totalling 30 fits\n",
      "portfolio value: 107.28774050851038\n",
      "Fitting 10 folds for each of 3 candidates, totalling 30 fits\n"
     ]
    },
    {
     "name": "stderr",
     "output_type": "stream",
     "text": [
      "[Parallel(n_jobs=6)]: Done  30 out of  30 | elapsed:    0.0s finished\n",
      "[Parallel(n_jobs=6)]: Using backend LokyBackend with 6 concurrent workers.\n",
      "[Parallel(n_jobs=6)]: Done  30 out of  30 | elapsed:    0.0s finished\n",
      "[Parallel(n_jobs=6)]: Using backend LokyBackend with 6 concurrent workers.\n"
     ]
    },
    {
     "name": "stdout",
     "output_type": "stream",
     "text": [
      "portfolio value: 107.28774050851038\n",
      "Fitting 10 folds for each of 3 candidates, totalling 30 fits\n",
      "G A I N! 1.0430394464188195\n",
      "portfolio value: 111.90534546752262\n",
      "Fitting 10 folds for each of 3 candidates, totalling 30 fits\n"
     ]
    },
    {
     "name": "stderr",
     "output_type": "stream",
     "text": [
      "[Parallel(n_jobs=6)]: Done  30 out of  30 | elapsed:    0.0s finished\n",
      "[Parallel(n_jobs=6)]: Using backend LokyBackend with 6 concurrent workers.\n",
      "[Parallel(n_jobs=6)]: Done  30 out of  30 | elapsed:    0.0s finished\n",
      "[Parallel(n_jobs=6)]: Using backend LokyBackend with 6 concurrent workers.\n"
     ]
    },
    {
     "name": "stdout",
     "output_type": "stream",
     "text": [
      "LOSS! 0.9902194357285534\n",
      "portfolio value: 110.81084804385908\n",
      "Fitting 10 folds for each of 3 candidates, totalling 30 fits\n",
      "G A I N! 1.0394438687204568\n",
      "portfolio value: 115.18165658690354\n",
      "Fitting 10 folds for each of 3 candidates, totalling 30 fits\n"
     ]
    },
    {
     "name": "stderr",
     "output_type": "stream",
     "text": [
      "[Parallel(n_jobs=6)]: Done  30 out of  30 | elapsed:    0.0s finished\n",
      "[Parallel(n_jobs=6)]: Using backend LokyBackend with 6 concurrent workers.\n",
      "[Parallel(n_jobs=6)]: Done  30 out of  30 | elapsed:    0.0s finished\n",
      "[Parallel(n_jobs=6)]: Using backend LokyBackend with 6 concurrent workers.\n"
     ]
    },
    {
     "name": "stdout",
     "output_type": "stream",
     "text": [
      "portfolio value: 115.18165658690354\n",
      "Fitting 10 folds for each of 3 candidates, totalling 30 fits\n",
      "LOSS! 0.9805426310097526\n",
      "portfolio value: 112.9405245937842\n",
      "Fitting 10 folds for each of 3 candidates, totalling 30 fits\n"
     ]
    },
    {
     "name": "stderr",
     "output_type": "stream",
     "text": [
      "[Parallel(n_jobs=6)]: Done  30 out of  30 | elapsed:    0.0s finished\n",
      "[Parallel(n_jobs=6)]: Using backend LokyBackend with 6 concurrent workers.\n",
      "[Parallel(n_jobs=6)]: Done  30 out of  30 | elapsed:    0.0s finished\n",
      "[Parallel(n_jobs=6)]: Using backend LokyBackend with 6 concurrent workers.\n"
     ]
    },
    {
     "name": "stdout",
     "output_type": "stream",
     "text": [
      "portfolio value: 112.9405245937842\n",
      "Fitting 10 folds for each of 3 candidates, totalling 30 fits\n",
      "portfolio value: 112.9405245937842\n",
      "Fitting 10 folds for each of 3 candidates, totalling 30 fits\n"
     ]
    },
    {
     "name": "stderr",
     "output_type": "stream",
     "text": [
      "[Parallel(n_jobs=6)]: Done  30 out of  30 | elapsed:    0.0s finished\n",
      "[Parallel(n_jobs=6)]: Using backend LokyBackend with 6 concurrent workers.\n",
      "[Parallel(n_jobs=6)]: Done  30 out of  30 | elapsed:    0.0s finished\n",
      "[Parallel(n_jobs=6)]: Using backend LokyBackend with 6 concurrent workers.\n"
     ]
    },
    {
     "name": "stdout",
     "output_type": "stream",
     "text": [
      "portfolio value: 112.9405245937842\n",
      "Fitting 10 folds for each of 3 candidates, totalling 30 fits\n",
      "G A I N! 1.0268936188890219\n",
      "portfolio value: 115.97790401933564\n",
      "Fitting 10 folds for each of 3 candidates, totalling 30 fits\n"
     ]
    },
    {
     "name": "stderr",
     "output_type": "stream",
     "text": [
      "[Parallel(n_jobs=6)]: Done  30 out of  30 | elapsed:    0.0s finished\n",
      "[Parallel(n_jobs=6)]: Using backend LokyBackend with 6 concurrent workers.\n",
      "[Parallel(n_jobs=6)]: Done  30 out of  30 | elapsed:    0.0s finished\n",
      "[Parallel(n_jobs=6)]: Using backend LokyBackend with 6 concurrent workers.\n"
     ]
    },
    {
     "name": "stdout",
     "output_type": "stream",
     "text": [
      "portfolio value: 115.97790401933564\n",
      "Fitting 10 folds for each of 3 candidates, totalling 30 fits\n",
      "portfolio value: 115.97790401933564\n",
      "Fitting 10 folds for each of 3 candidates, totalling 30 fits\n"
     ]
    },
    {
     "name": "stderr",
     "output_type": "stream",
     "text": [
      "[Parallel(n_jobs=6)]: Done  30 out of  30 | elapsed:    0.0s finished\n",
      "[Parallel(n_jobs=6)]: Using backend LokyBackend with 6 concurrent workers.\n",
      "[Parallel(n_jobs=6)]: Done  30 out of  30 | elapsed:    0.0s finished\n",
      "[Parallel(n_jobs=6)]: Using backend LokyBackend with 6 concurrent workers.\n"
     ]
    },
    {
     "name": "stdout",
     "output_type": "stream",
     "text": [
      "portfolio value: 115.97790401933564\n",
      "Fitting 10 folds for each of 3 candidates, totalling 30 fits\n",
      "LOSS! 0.9787225139842252\n",
      "portfolio value: 113.51018578842535\n",
      "Fitting 10 folds for each of 3 candidates, totalling 30 fits\n"
     ]
    },
    {
     "name": "stderr",
     "output_type": "stream",
     "text": [
      "[Parallel(n_jobs=6)]: Done  30 out of  30 | elapsed:    0.0s finished\n",
      "[Parallel(n_jobs=6)]: Using backend LokyBackend with 6 concurrent workers.\n",
      "[Parallel(n_jobs=6)]: Done  30 out of  30 | elapsed:    0.0s finished\n",
      "[Parallel(n_jobs=6)]: Using backend LokyBackend with 6 concurrent workers.\n"
     ]
    },
    {
     "name": "stdout",
     "output_type": "stream",
     "text": [
      "LOSS! 0.9839107086642968\n",
      "portfolio value: 111.68388733970556\n",
      "Fitting 10 folds for each of 3 candidates, totalling 30 fits\n",
      "LOSS! 0.9917866038777885\n",
      "portfolio value: 110.76658333251612\n",
      "Fitting 10 folds for each of 3 candidates, totalling 30 fits\n"
     ]
    },
    {
     "name": "stderr",
     "output_type": "stream",
     "text": [
      "[Parallel(n_jobs=6)]: Done  30 out of  30 | elapsed:    0.0s finished\n",
      "[Parallel(n_jobs=6)]: Using backend LokyBackend with 6 concurrent workers.\n",
      "[Parallel(n_jobs=6)]: Done  30 out of  30 | elapsed:    0.0s finished\n",
      "[Parallel(n_jobs=6)]: Using backend LokyBackend with 6 concurrent workers.\n"
     ]
    },
    {
     "name": "stdout",
     "output_type": "stream",
     "text": [
      "G A I N! 1.0036575395972402\n",
      "portfolio value: 111.1717164971058\n",
      "Fitting 10 folds for each of 3 candidates, totalling 30 fits\n",
      "portfolio value: 111.1717164971058\n",
      "Fitting 10 folds for each of 3 candidates, totalling 30 fits\n"
     ]
    },
    {
     "name": "stderr",
     "output_type": "stream",
     "text": [
      "[Parallel(n_jobs=6)]: Done  30 out of  30 | elapsed:    0.0s finished\n",
      "[Parallel(n_jobs=6)]: Using backend LokyBackend with 6 concurrent workers.\n",
      "[Parallel(n_jobs=6)]: Done  30 out of  30 | elapsed:    0.0s finished\n",
      "[Parallel(n_jobs=6)]: Using backend LokyBackend with 6 concurrent workers.\n"
     ]
    },
    {
     "name": "stdout",
     "output_type": "stream",
     "text": [
      "portfolio value: 111.1717164971058\n",
      "Fitting 10 folds for each of 3 candidates, totalling 30 fits\n",
      "portfolio value: 111.1717164971058\n",
      "Fitting 10 folds for each of 3 candidates, totalling 30 fits\n"
     ]
    },
    {
     "name": "stderr",
     "output_type": "stream",
     "text": [
      "[Parallel(n_jobs=6)]: Done  30 out of  30 | elapsed:    0.0s finished\n",
      "[Parallel(n_jobs=6)]: Using backend LokyBackend with 6 concurrent workers.\n",
      "[Parallel(n_jobs=6)]: Done  30 out of  30 | elapsed:    0.0s finished\n",
      "[Parallel(n_jobs=6)]: Using backend LokyBackend with 6 concurrent workers.\n"
     ]
    },
    {
     "name": "stdout",
     "output_type": "stream",
     "text": [
      "LOSS! 0.9690812085318505\n",
      "portfolio value: 107.73442137757556\n",
      "Fitting 10 folds for each of 3 candidates, totalling 30 fits\n",
      "LOSS! 0.9580454394380576\n",
      "portfolio value: 103.21447107128425\n",
      "Fitting 10 folds for each of 3 candidates, totalling 30 fits\n"
     ]
    },
    {
     "name": "stderr",
     "output_type": "stream",
     "text": [
      "[Parallel(n_jobs=6)]: Done  30 out of  30 | elapsed:    0.0s finished\n",
      "[Parallel(n_jobs=6)]: Using backend LokyBackend with 6 concurrent workers.\n",
      "[Parallel(n_jobs=6)]: Done  30 out of  30 | elapsed:    0.0s finished\n",
      "[Parallel(n_jobs=6)]: Using backend LokyBackend with 6 concurrent workers.\n"
     ]
    },
    {
     "name": "stdout",
     "output_type": "stream",
     "text": [
      "portfolio value: 103.21447107128425\n",
      "Fitting 10 folds for each of 3 candidates, totalling 30 fits\n",
      "portfolio value: 103.21447107128425\n",
      "Fitting 10 folds for each of 3 candidates, totalling 30 fits\n"
     ]
    },
    {
     "name": "stderr",
     "output_type": "stream",
     "text": [
      "[Parallel(n_jobs=6)]: Done  30 out of  30 | elapsed:    0.0s finished\n",
      "[Parallel(n_jobs=6)]: Using backend LokyBackend with 6 concurrent workers.\n",
      "[Parallel(n_jobs=6)]: Done  30 out of  30 | elapsed:    0.0s finished\n",
      "[Parallel(n_jobs=6)]: Using backend LokyBackend with 6 concurrent workers.\n"
     ]
    },
    {
     "name": "stdout",
     "output_type": "stream",
     "text": [
      "G A I N! 1.0014121515478125\n",
      "portfolio value: 103.36022554636422\n",
      "Fitting 10 folds for each of 3 candidates, totalling 30 fits\n",
      "portfolio value: 103.36022554636422\n",
      "Fitting 10 folds for each of 3 candidates, totalling 30 fits\n"
     ]
    },
    {
     "name": "stderr",
     "output_type": "stream",
     "text": [
      "[Parallel(n_jobs=6)]: Done  30 out of  30 | elapsed:    0.0s finished\n",
      "[Parallel(n_jobs=6)]: Using backend LokyBackend with 6 concurrent workers.\n",
      "[Parallel(n_jobs=6)]: Done  30 out of  30 | elapsed:    0.0s finished\n",
      "[Parallel(n_jobs=6)]: Using backend LokyBackend with 6 concurrent workers.\n"
     ]
    },
    {
     "name": "stdout",
     "output_type": "stream",
     "text": [
      "portfolio value: 103.36022554636422\n",
      "Fitting 10 folds for each of 3 candidates, totalling 30 fits\n",
      "portfolio value: 103.36022554636422\n",
      "Fitting 10 folds for each of 3 candidates, totalling 30 fits\n"
     ]
    },
    {
     "name": "stderr",
     "output_type": "stream",
     "text": [
      "[Parallel(n_jobs=6)]: Done  30 out of  30 | elapsed:    0.0s finished\n",
      "[Parallel(n_jobs=6)]: Using backend LokyBackend with 6 concurrent workers.\n",
      "[Parallel(n_jobs=6)]: Done  30 out of  30 | elapsed:    0.0s finished\n",
      "[Parallel(n_jobs=6)]: Using backend LokyBackend with 6 concurrent workers.\n"
     ]
    },
    {
     "name": "stdout",
     "output_type": "stream",
     "text": [
      "LOSS! 0.9956677812083113\n",
      "portfolio value: 102.91244643493908\n",
      "Fitting 10 folds for each of 3 candidates, totalling 30 fits\n",
      "portfolio value: 102.91244643493908\n",
      "Fitting 10 folds for each of 3 candidates, totalling 30 fits\n"
     ]
    },
    {
     "name": "stderr",
     "output_type": "stream",
     "text": [
      "[Parallel(n_jobs=6)]: Done  30 out of  30 | elapsed:    0.0s finished\n",
      "[Parallel(n_jobs=6)]: Using backend LokyBackend with 6 concurrent workers.\n",
      "[Parallel(n_jobs=6)]: Done  30 out of  30 | elapsed:    0.0s finished\n",
      "[Parallel(n_jobs=6)]: Using backend LokyBackend with 6 concurrent workers.\n"
     ]
    },
    {
     "name": "stdout",
     "output_type": "stream",
     "text": [
      "portfolio value: 102.91244643493908\n",
      "Fitting 10 folds for each of 3 candidates, totalling 30 fits\n",
      "portfolio value: 102.91244643493908\n",
      "Fitting 10 folds for each of 3 candidates, totalling 30 fits\n"
     ]
    },
    {
     "name": "stderr",
     "output_type": "stream",
     "text": [
      "[Parallel(n_jobs=6)]: Done  30 out of  30 | elapsed:    0.0s finished\n",
      "[Parallel(n_jobs=6)]: Using backend LokyBackend with 6 concurrent workers.\n",
      "[Parallel(n_jobs=6)]: Done  30 out of  30 | elapsed:    0.0s finished\n",
      "[Parallel(n_jobs=6)]: Using backend LokyBackend with 6 concurrent workers.\n"
     ]
    },
    {
     "name": "stdout",
     "output_type": "stream",
     "text": [
      "portfolio value: 102.91244643493908\n",
      "Fitting 10 folds for each of 3 candidates, totalling 30 fits\n",
      "G A I N! 1.014349607801453\n",
      "portfolio value: 104.38919967916848\n",
      "Fitting 10 folds for each of 3 candidates, totalling 30 fits\n"
     ]
    },
    {
     "name": "stderr",
     "output_type": "stream",
     "text": [
      "[Parallel(n_jobs=6)]: Done  30 out of  30 | elapsed:    0.0s finished\n",
      "[Parallel(n_jobs=6)]: Using backend LokyBackend with 6 concurrent workers.\n",
      "[Parallel(n_jobs=6)]: Done  30 out of  30 | elapsed:    0.0s finished\n",
      "[Parallel(n_jobs=6)]: Using backend LokyBackend with 6 concurrent workers.\n"
     ]
    },
    {
     "name": "stdout",
     "output_type": "stream",
     "text": [
      "LOSS! 0.9828472843381522\n",
      "portfolio value: 102.59864141890385\n",
      "Fitting 10 folds for each of 3 candidates, totalling 30 fits\n",
      "LOSS! 0.986175791690628\n",
      "portfolio value: 101.18029642767036\n",
      "Fitting 10 folds for each of 3 candidates, totalling 30 fits\n"
     ]
    },
    {
     "name": "stderr",
     "output_type": "stream",
     "text": [
      "[Parallel(n_jobs=6)]: Done  30 out of  30 | elapsed:    0.0s finished\n",
      "[Parallel(n_jobs=6)]: Using backend LokyBackend with 6 concurrent workers.\n",
      "[Parallel(n_jobs=6)]: Done  30 out of  30 | elapsed:    0.0s finished\n",
      "[Parallel(n_jobs=6)]: Using backend LokyBackend with 6 concurrent workers.\n"
     ]
    },
    {
     "name": "stdout",
     "output_type": "stream",
     "text": [
      "portfolio value: 101.18029642767036\n",
      "Fitting 10 folds for each of 3 candidates, totalling 30 fits\n",
      "LOSS! 0.9698605332244129\n",
      "portfolio value: 98.13077624514453\n",
      "Fitting 10 folds for each of 3 candidates, totalling 30 fits\n"
     ]
    },
    {
     "name": "stderr",
     "output_type": "stream",
     "text": [
      "[Parallel(n_jobs=6)]: Done  30 out of  30 | elapsed:    0.0s finished\n",
      "[Parallel(n_jobs=6)]: Using backend LokyBackend with 6 concurrent workers.\n",
      "[Parallel(n_jobs=6)]: Done  30 out of  30 | elapsed:    0.0s finished\n",
      "[Parallel(n_jobs=6)]: Using backend LokyBackend with 6 concurrent workers.\n"
     ]
    },
    {
     "name": "stdout",
     "output_type": "stream",
     "text": [
      "portfolio value: 98.13077624514453\n",
      "Fitting 10 folds for each of 3 candidates, totalling 30 fits\n",
      "portfolio value: 98.13077624514453\n",
      "Fitting 10 folds for each of 3 candidates, totalling 30 fits\n"
     ]
    },
    {
     "name": "stderr",
     "output_type": "stream",
     "text": [
      "[Parallel(n_jobs=6)]: Done  30 out of  30 | elapsed:    0.0s finished\n",
      "[Parallel(n_jobs=6)]: Using backend LokyBackend with 6 concurrent workers.\n",
      "[Parallel(n_jobs=6)]: Done  30 out of  30 | elapsed:    0.0s finished\n",
      "[Parallel(n_jobs=6)]: Using backend LokyBackend with 6 concurrent workers.\n"
     ]
    },
    {
     "name": "stdout",
     "output_type": "stream",
     "text": [
      "G A I N! 1.0001168245467282\n",
      "portfolio value: 98.14224032859946\n",
      "Fitting 10 folds for each of 3 candidates, totalling 30 fits\n",
      "portfolio value: 98.14224032859946\n",
      "Fitting 10 folds for each of 3 candidates, totalling 30 fits\n"
     ]
    },
    {
     "name": "stderr",
     "output_type": "stream",
     "text": [
      "[Parallel(n_jobs=6)]: Done  30 out of  30 | elapsed:    0.0s finished\n",
      "[Parallel(n_jobs=6)]: Using backend LokyBackend with 6 concurrent workers.\n",
      "[Parallel(n_jobs=6)]: Done  30 out of  30 | elapsed:    0.0s finished\n",
      "[Parallel(n_jobs=6)]: Using backend LokyBackend with 6 concurrent workers.\n"
     ]
    },
    {
     "name": "stdout",
     "output_type": "stream",
     "text": [
      "portfolio value: 98.14224032859946\n",
      "Fitting 10 folds for each of 3 candidates, totalling 30 fits\n",
      "LOSS! 0.9899444496425026\n",
      "portfolio value: 97.15536608877761\n",
      "Fitting 10 folds for each of 3 candidates, totalling 30 fits\n"
     ]
    },
    {
     "name": "stderr",
     "output_type": "stream",
     "text": [
      "[Parallel(n_jobs=6)]: Done  30 out of  30 | elapsed:    0.0s finished\n",
      "[Parallel(n_jobs=6)]: Using backend LokyBackend with 6 concurrent workers.\n",
      "[Parallel(n_jobs=6)]: Done  30 out of  30 | elapsed:    0.0s finished\n",
      "[Parallel(n_jobs=6)]: Using backend LokyBackend with 6 concurrent workers.\n"
     ]
    },
    {
     "name": "stdout",
     "output_type": "stream",
     "text": [
      "LOSS! 0.9748555841151165\n",
      "portfolio value: 94.71245115839328\n",
      "Fitting 10 folds for each of 3 candidates, totalling 30 fits\n",
      "portfolio value: 94.71245115839328\n",
      "Fitting 10 folds for each of 3 candidates, totalling 30 fits\n"
     ]
    },
    {
     "name": "stderr",
     "output_type": "stream",
     "text": [
      "[Parallel(n_jobs=6)]: Done  30 out of  30 | elapsed:    0.0s finished\n",
      "[Parallel(n_jobs=6)]: Using backend LokyBackend with 6 concurrent workers.\n",
      "[Parallel(n_jobs=6)]: Done  30 out of  30 | elapsed:    0.0s finished\n",
      "[Parallel(n_jobs=6)]: Using backend LokyBackend with 6 concurrent workers.\n"
     ]
    },
    {
     "name": "stdout",
     "output_type": "stream",
     "text": [
      "LOSS! 0.9847279582693808\n",
      "portfolio value: 93.26599865189306\n",
      "Fitting 10 folds for each of 3 candidates, totalling 30 fits\n",
      "G A I N! 1.0198216400074884\n",
      "portfolio value: 95.11468370210979\n",
      "Fitting 10 folds for each of 3 candidates, totalling 30 fits\n"
     ]
    },
    {
     "name": "stderr",
     "output_type": "stream",
     "text": [
      "[Parallel(n_jobs=6)]: Done  30 out of  30 | elapsed:    0.0s finished\n",
      "[Parallel(n_jobs=6)]: Using backend LokyBackend with 6 concurrent workers.\n",
      "[Parallel(n_jobs=6)]: Done  30 out of  30 | elapsed:    0.0s finished\n",
      "[Parallel(n_jobs=6)]: Using backend LokyBackend with 6 concurrent workers.\n"
     ]
    },
    {
     "name": "stdout",
     "output_type": "stream",
     "text": [
      "LOSS! 0.9944348100446602\n",
      "portfolio value: 94.58535241976548\n",
      "Fitting 10 folds for each of 3 candidates, totalling 30 fits\n",
      "G A I N! 1.0843676681862628\n",
      "portfolio value: 102.56529804799699\n",
      "Fitting 10 folds for each of 3 candidates, totalling 30 fits\n"
     ]
    },
    {
     "name": "stderr",
     "output_type": "stream",
     "text": [
      "[Parallel(n_jobs=6)]: Done  30 out of  30 | elapsed:    0.0s finished\n",
      "[Parallel(n_jobs=6)]: Using backend LokyBackend with 6 concurrent workers.\n",
      "[Parallel(n_jobs=6)]: Done  30 out of  30 | elapsed:    0.0s finished\n",
      "[Parallel(n_jobs=6)]: Using backend LokyBackend with 6 concurrent workers.\n"
     ]
    },
    {
     "name": "stdout",
     "output_type": "stream",
     "text": [
      "LOSS! 0.9979226862622207\n",
      "portfolio value: 102.35223774534245\n",
      "Fitting 10 folds for each of 3 candidates, totalling 30 fits\n",
      "LOSS! 0.9899352624966742\n",
      "portfolio value: 101.32208933955758\n",
      "Fitting 10 folds for each of 3 candidates, totalling 30 fits\n"
     ]
    },
    {
     "name": "stderr",
     "output_type": "stream",
     "text": [
      "[Parallel(n_jobs=6)]: Done  30 out of  30 | elapsed:    0.0s finished\n",
      "[Parallel(n_jobs=6)]: Using backend LokyBackend with 6 concurrent workers.\n",
      "[Parallel(n_jobs=6)]: Done  30 out of  30 | elapsed:    0.0s finished\n",
      "[Parallel(n_jobs=6)]: Using backend LokyBackend with 6 concurrent workers.\n"
     ]
    },
    {
     "name": "stdout",
     "output_type": "stream",
     "text": [
      "portfolio value: 101.32208933955758\n",
      "Fitting 10 folds for each of 3 candidates, totalling 30 fits\n",
      "G A I N! 1.0017470941473823\n",
      "portfolio value: 101.49910856884327\n",
      "Fitting 10 folds for each of 3 candidates, totalling 30 fits\n"
     ]
    },
    {
     "name": "stderr",
     "output_type": "stream",
     "text": [
      "[Parallel(n_jobs=6)]: Done  30 out of  30 | elapsed:    0.0s finished\n",
      "[Parallel(n_jobs=6)]: Using backend LokyBackend with 6 concurrent workers.\n",
      "[Parallel(n_jobs=6)]: Done  30 out of  30 | elapsed:    0.0s finished\n",
      "[Parallel(n_jobs=6)]: Using backend LokyBackend with 6 concurrent workers.\n"
     ]
    },
    {
     "name": "stdout",
     "output_type": "stream",
     "text": [
      "LOSS! 0.9736955059174054\n",
      "portfolio value: 98.82922586810551\n",
      "Fitting 10 folds for each of 3 candidates, totalling 30 fits\n",
      "portfolio value: 98.82922586810551\n",
      "Fitting 10 folds for each of 3 candidates, totalling 30 fits\n"
     ]
    },
    {
     "name": "stderr",
     "output_type": "stream",
     "text": [
      "[Parallel(n_jobs=6)]: Done  30 out of  30 | elapsed:    0.0s finished\n",
      "[Parallel(n_jobs=6)]: Using backend LokyBackend with 6 concurrent workers.\n",
      "[Parallel(n_jobs=6)]: Done  30 out of  30 | elapsed:    0.0s finished\n",
      "[Parallel(n_jobs=6)]: Using backend LokyBackend with 6 concurrent workers.\n"
     ]
    },
    {
     "name": "stdout",
     "output_type": "stream",
     "text": [
      "portfolio value: 98.82922586810551\n",
      "Fitting 10 folds for each of 3 candidates, totalling 30 fits\n",
      "LOSS! 0.9927569266809558\n",
      "portfolio value: 98.11339853907845\n",
      "Fitting 10 folds for each of 3 candidates, totalling 30 fits\n"
     ]
    },
    {
     "name": "stderr",
     "output_type": "stream",
     "text": [
      "[Parallel(n_jobs=6)]: Done  30 out of  30 | elapsed:    0.0s finished\n",
      "[Parallel(n_jobs=6)]: Using backend LokyBackend with 6 concurrent workers.\n",
      "[Parallel(n_jobs=6)]: Done  30 out of  30 | elapsed:    0.0s finished\n",
      "[Parallel(n_jobs=6)]: Using backend LokyBackend with 6 concurrent workers.\n"
     ]
    },
    {
     "name": "stdout",
     "output_type": "stream",
     "text": [
      "LOSS! 0.9684200200112814\n",
      "portfolio value: 95.01497937658917\n",
      "Fitting 10 folds for each of 3 candidates, totalling 30 fits\n",
      "portfolio value: 95.01497937658917\n",
      "Fitting 10 folds for each of 3 candidates, totalling 30 fits\n"
     ]
    },
    {
     "name": "stderr",
     "output_type": "stream",
     "text": [
      "[Parallel(n_jobs=6)]: Done  30 out of  30 | elapsed:    0.0s finished\n",
      "[Parallel(n_jobs=6)]: Using backend LokyBackend with 6 concurrent workers.\n",
      "[Parallel(n_jobs=6)]: Done  30 out of  30 | elapsed:    0.0s finished\n",
      "[Parallel(n_jobs=6)]: Using backend LokyBackend with 6 concurrent workers.\n"
     ]
    },
    {
     "name": "stdout",
     "output_type": "stream",
     "text": [
      "portfolio value: 95.01497937658917\n",
      "Fitting 10 folds for each of 3 candidates, totalling 30 fits\n",
      "portfolio value: 95.01497937658917\n",
      "Fitting 10 folds for each of 3 candidates, totalling 30 fits\n"
     ]
    },
    {
     "name": "stderr",
     "output_type": "stream",
     "text": [
      "[Parallel(n_jobs=6)]: Done  30 out of  30 | elapsed:    0.0s finished\n",
      "[Parallel(n_jobs=6)]: Using backend LokyBackend with 6 concurrent workers.\n",
      "[Parallel(n_jobs=6)]: Done  30 out of  30 | elapsed:    0.0s finished\n",
      "[Parallel(n_jobs=6)]: Using backend LokyBackend with 6 concurrent workers.\n"
     ]
    },
    {
     "name": "stdout",
     "output_type": "stream",
     "text": [
      "portfolio value: 95.01497937658917\n",
      "Fitting 10 folds for each of 3 candidates, totalling 30 fits\n",
      "G A I N! 1.050049279975456\n",
      "portfolio value: 99.77041068127025\n",
      "Fitting 10 folds for each of 3 candidates, totalling 30 fits\n"
     ]
    },
    {
     "name": "stderr",
     "output_type": "stream",
     "text": [
      "[Parallel(n_jobs=6)]: Done  30 out of  30 | elapsed:    0.0s finished\n",
      "[Parallel(n_jobs=6)]: Using backend LokyBackend with 6 concurrent workers.\n",
      "[Parallel(n_jobs=6)]: Done  30 out of  30 | elapsed:    0.0s finished\n",
      "[Parallel(n_jobs=6)]: Using backend LokyBackend with 6 concurrent workers.\n"
     ]
    },
    {
     "name": "stdout",
     "output_type": "stream",
     "text": [
      "portfolio value: 99.77041068127025\n",
      "Fitting 10 folds for each of 3 candidates, totalling 30 fits\n",
      "G A I N! 1.0207144931952605\n",
      "portfolio value: 101.83710417441577\n",
      "Fitting 10 folds for each of 3 candidates, totalling 30 fits\n"
     ]
    },
    {
     "name": "stderr",
     "output_type": "stream",
     "text": [
      "[Parallel(n_jobs=6)]: Done  30 out of  30 | elapsed:    0.0s finished\n",
      "[Parallel(n_jobs=6)]: Using backend LokyBackend with 6 concurrent workers.\n",
      "[Parallel(n_jobs=6)]: Done  30 out of  30 | elapsed:    0.0s finished\n",
      "[Parallel(n_jobs=6)]: Using backend LokyBackend with 6 concurrent workers.\n"
     ]
    },
    {
     "name": "stdout",
     "output_type": "stream",
     "text": [
      "portfolio value: 101.83710417441577\n",
      "Fitting 10 folds for each of 3 candidates, totalling 30 fits\n",
      "G A I N! 1.004977081019406\n",
      "portfolio value: 102.34395569267353\n",
      "Fitting 10 folds for each of 3 candidates, totalling 30 fits\n"
     ]
    },
    {
     "name": "stderr",
     "output_type": "stream",
     "text": [
      "[Parallel(n_jobs=6)]: Done  30 out of  30 | elapsed:    0.0s finished\n",
      "[Parallel(n_jobs=6)]: Using backend LokyBackend with 6 concurrent workers.\n",
      "[Parallel(n_jobs=6)]: Done  30 out of  30 | elapsed:    0.0s finished\n",
      "[Parallel(n_jobs=6)]: Using backend LokyBackend with 6 concurrent workers.\n"
     ]
    },
    {
     "name": "stdout",
     "output_type": "stream",
     "text": [
      "portfolio value: 102.34395569267353\n",
      "Fitting 10 folds for each of 3 candidates, totalling 30 fits\n",
      "portfolio value: 102.34395569267353\n",
      "Fitting 10 folds for each of 3 candidates, totalling 30 fits\n"
     ]
    },
    {
     "name": "stderr",
     "output_type": "stream",
     "text": [
      "[Parallel(n_jobs=6)]: Done  30 out of  30 | elapsed:    0.0s finished\n",
      "[Parallel(n_jobs=6)]: Using backend LokyBackend with 6 concurrent workers.\n",
      "[Parallel(n_jobs=6)]: Done  30 out of  30 | elapsed:    0.0s finished\n",
      "[Parallel(n_jobs=6)]: Using backend LokyBackend with 6 concurrent workers.\n"
     ]
    },
    {
     "name": "stdout",
     "output_type": "stream",
     "text": [
      "portfolio value: 102.34395569267353\n",
      "Fitting 10 folds for each of 3 candidates, totalling 30 fits\n",
      "portfolio value: 102.34395569267353\n",
      "Fitting 10 folds for each of 3 candidates, totalling 30 fits\n"
     ]
    },
    {
     "name": "stderr",
     "output_type": "stream",
     "text": [
      "[Parallel(n_jobs=6)]: Done  30 out of  30 | elapsed:    0.0s finished\n",
      "[Parallel(n_jobs=6)]: Using backend LokyBackend with 6 concurrent workers.\n",
      "[Parallel(n_jobs=6)]: Done  30 out of  30 | elapsed:    0.0s finished\n",
      "[Parallel(n_jobs=6)]: Using backend LokyBackend with 6 concurrent workers.\n"
     ]
    },
    {
     "name": "stdout",
     "output_type": "stream",
     "text": [
      "portfolio value: 102.34395569267353\n",
      "Fitting 10 folds for each of 3 candidates, totalling 30 fits\n",
      "G A I N! 1.0071910763540914\n",
      "portfolio value: 103.0799188924393\n",
      "Fitting 10 folds for each of 3 candidates, totalling 30 fits\n"
     ]
    },
    {
     "name": "stderr",
     "output_type": "stream",
     "text": [
      "[Parallel(n_jobs=6)]: Done  30 out of  30 | elapsed:    0.0s finished\n",
      "[Parallel(n_jobs=6)]: Using backend LokyBackend with 6 concurrent workers.\n",
      "[Parallel(n_jobs=6)]: Done  30 out of  30 | elapsed:    0.0s finished\n",
      "[Parallel(n_jobs=6)]: Using backend LokyBackend with 6 concurrent workers.\n"
     ]
    },
    {
     "name": "stdout",
     "output_type": "stream",
     "text": [
      "G A I N! 1.0073571235400032\n",
      "portfolio value: 103.83829059022447\n",
      "Fitting 10 folds for each of 3 candidates, totalling 30 fits\n",
      "G A I N! 1.025626723407693\n",
      "portfolio value: 106.4993257423078\n",
      "Fitting 10 folds for each of 3 candidates, totalling 30 fits\n"
     ]
    },
    {
     "name": "stderr",
     "output_type": "stream",
     "text": [
      "[Parallel(n_jobs=6)]: Done  30 out of  30 | elapsed:    0.0s finished\n",
      "[Parallel(n_jobs=6)]: Using backend LokyBackend with 6 concurrent workers.\n",
      "[Parallel(n_jobs=6)]: Done  30 out of  30 | elapsed:    0.0s finished\n",
      "[Parallel(n_jobs=6)]: Using backend LokyBackend with 6 concurrent workers.\n"
     ]
    },
    {
     "name": "stdout",
     "output_type": "stream",
     "text": [
      "LOSS! 0.9744009967627031\n",
      "portfolio value: 103.77304915786053\n",
      "Fitting 10 folds for each of 3 candidates, totalling 30 fits\n",
      "G A I N! 1.0357496552119791\n",
      "portfolio value: 107.4828998855498\n",
      "Fitting 10 folds for each of 3 candidates, totalling 30 fits\n"
     ]
    },
    {
     "name": "stderr",
     "output_type": "stream",
     "text": [
      "[Parallel(n_jobs=6)]: Done  30 out of  30 | elapsed:    0.0s finished\n",
      "[Parallel(n_jobs=6)]: Using backend LokyBackend with 6 concurrent workers.\n",
      "[Parallel(n_jobs=6)]: Done  30 out of  30 | elapsed:    0.0s finished\n",
      "[Parallel(n_jobs=6)]: Using backend LokyBackend with 6 concurrent workers.\n"
     ]
    },
    {
     "name": "stdout",
     "output_type": "stream",
     "text": [
      "portfolio value: 107.4828998855498\n",
      "Fitting 10 folds for each of 3 candidates, totalling 30 fits\n",
      "LOSS! 0.9893857546196765\n",
      "portfolio value: 106.34205001197583\n",
      "Fitting 10 folds for each of 3 candidates, totalling 30 fits\n"
     ]
    },
    {
     "name": "stderr",
     "output_type": "stream",
     "text": [
      "[Parallel(n_jobs=6)]: Done  30 out of  30 | elapsed:    0.0s finished\n",
      "[Parallel(n_jobs=6)]: Using backend LokyBackend with 6 concurrent workers.\n",
      "[Parallel(n_jobs=6)]: Done  30 out of  30 | elapsed:    0.0s finished\n",
      "[Parallel(n_jobs=6)]: Using backend LokyBackend with 6 concurrent workers.\n"
     ]
    },
    {
     "name": "stdout",
     "output_type": "stream",
     "text": [
      "portfolio value: 106.34205001197583\n",
      "Fitting 10 folds for each of 3 candidates, totalling 30 fits\n",
      "portfolio value: 106.34205001197583\n",
      "Fitting 10 folds for each of 3 candidates, totalling 30 fits\n"
     ]
    },
    {
     "name": "stderr",
     "output_type": "stream",
     "text": [
      "[Parallel(n_jobs=6)]: Done  30 out of  30 | elapsed:    0.0s finished\n",
      "[Parallel(n_jobs=6)]: Using backend LokyBackend with 6 concurrent workers.\n",
      "[Parallel(n_jobs=6)]: Done  30 out of  30 | elapsed:    0.0s finished\n",
      "[Parallel(n_jobs=6)]: Using backend LokyBackend with 6 concurrent workers.\n"
     ]
    },
    {
     "name": "stdout",
     "output_type": "stream",
     "text": [
      "portfolio value: 106.34205001197583\n",
      "Fitting 10 folds for each of 3 candidates, totalling 30 fits\n",
      "portfolio value: 106.34205001197583\n",
      "Fitting 10 folds for each of 3 candidates, totalling 30 fits\n"
     ]
    },
    {
     "name": "stderr",
     "output_type": "stream",
     "text": [
      "[Parallel(n_jobs=6)]: Done  30 out of  30 | elapsed:    0.0s finished\n",
      "[Parallel(n_jobs=6)]: Using backend LokyBackend with 6 concurrent workers.\n",
      "[Parallel(n_jobs=6)]: Done  30 out of  30 | elapsed:    0.0s finished\n",
      "[Parallel(n_jobs=6)]: Using backend LokyBackend with 6 concurrent workers.\n"
     ]
    },
    {
     "name": "stdout",
     "output_type": "stream",
     "text": [
      "G A I N! 1.0465127340076705\n",
      "portfolio value: 111.28830949801326\n",
      "Fitting 10 folds for each of 3 candidates, totalling 30 fits\n",
      "portfolio value: 111.28830949801326\n",
      "Fitting 10 folds for each of 3 candidates, totalling 30 fits\n"
     ]
    },
    {
     "name": "stderr",
     "output_type": "stream",
     "text": [
      "[Parallel(n_jobs=6)]: Done  30 out of  30 | elapsed:    0.0s finished\n",
      "[Parallel(n_jobs=6)]: Using backend LokyBackend with 6 concurrent workers.\n",
      "[Parallel(n_jobs=6)]: Done  30 out of  30 | elapsed:    0.0s finished\n",
      "[Parallel(n_jobs=6)]: Using backend LokyBackend with 6 concurrent workers.\n"
     ]
    },
    {
     "name": "stdout",
     "output_type": "stream",
     "text": [
      "LOSS! 0.9978347798052194\n",
      "portfolio value: 111.04734580284517\n",
      "Fitting 10 folds for each of 3 candidates, totalling 30 fits\n",
      "portfolio value: 111.04734580284517\n",
      "Fitting 10 folds for each of 3 candidates, totalling 30 fits\n"
     ]
    },
    {
     "name": "stderr",
     "output_type": "stream",
     "text": [
      "[Parallel(n_jobs=6)]: Done  30 out of  30 | elapsed:    0.0s finished\n",
      "[Parallel(n_jobs=6)]: Using backend LokyBackend with 6 concurrent workers.\n",
      "[Parallel(n_jobs=6)]: Done  30 out of  30 | elapsed:    0.0s finished\n",
      "[Parallel(n_jobs=6)]: Using backend LokyBackend with 6 concurrent workers.\n"
     ]
    },
    {
     "name": "stdout",
     "output_type": "stream",
     "text": [
      "LOSS! 0.9974684008769168\n",
      "portfolio value: 110.76621843958998\n",
      "Fitting 10 folds for each of 3 candidates, totalling 30 fits\n",
      "G A I N! 1.027029769268814\n",
      "portfolio value: 113.76020376679114\n",
      "Fitting 10 folds for each of 3 candidates, totalling 30 fits\n"
     ]
    },
    {
     "name": "stderr",
     "output_type": "stream",
     "text": [
      "[Parallel(n_jobs=6)]: Done  30 out of  30 | elapsed:    0.0s finished\n",
      "[Parallel(n_jobs=6)]: Using backend LokyBackend with 6 concurrent workers.\n",
      "[Parallel(n_jobs=6)]: Done  30 out of  30 | elapsed:    0.0s finished\n",
      "[Parallel(n_jobs=6)]: Using backend LokyBackend with 6 concurrent workers.\n"
     ]
    },
    {
     "name": "stdout",
     "output_type": "stream",
     "text": [
      "portfolio value: 113.76020376679114\n",
      "Fitting 10 folds for each of 3 candidates, totalling 30 fits\n",
      "LOSS! 0.967920692457632\n",
      "portfolio value: 110.1108552040738\n",
      "Fitting 10 folds for each of 3 candidates, totalling 30 fits\n"
     ]
    },
    {
     "name": "stderr",
     "output_type": "stream",
     "text": [
      "[Parallel(n_jobs=6)]: Done  30 out of  30 | elapsed:    0.0s finished\n",
      "[Parallel(n_jobs=6)]: Using backend LokyBackend with 6 concurrent workers.\n",
      "[Parallel(n_jobs=6)]: Done  30 out of  30 | elapsed:    0.0s finished\n",
      "[Parallel(n_jobs=6)]: Using backend LokyBackend with 6 concurrent workers.\n"
     ]
    },
    {
     "name": "stdout",
     "output_type": "stream",
     "text": [
      "portfolio value: 110.1108552040738\n",
      "Fitting 10 folds for each of 3 candidates, totalling 30 fits\n",
      "portfolio value: 110.1108552040738\n",
      "Fitting 10 folds for each of 3 candidates, totalling 30 fits\n"
     ]
    },
    {
     "name": "stderr",
     "output_type": "stream",
     "text": [
      "[Parallel(n_jobs=6)]: Done  30 out of  30 | elapsed:    0.0s finished\n",
      "[Parallel(n_jobs=6)]: Using backend LokyBackend with 6 concurrent workers.\n",
      "[Parallel(n_jobs=6)]: Done  30 out of  30 | elapsed:    0.0s finished\n",
      "[Parallel(n_jobs=6)]: Using backend LokyBackend with 6 concurrent workers.\n"
     ]
    },
    {
     "name": "stdout",
     "output_type": "stream",
     "text": [
      "portfolio value: 110.1108552040738\n",
      "Fitting 10 folds for each of 3 candidates, totalling 30 fits\n",
      "portfolio value: 110.1108552040738\n",
      "Fitting 10 folds for each of 3 candidates, totalling 30 fits\n"
     ]
    },
    {
     "name": "stderr",
     "output_type": "stream",
     "text": [
      "[Parallel(n_jobs=6)]: Done  30 out of  30 | elapsed:    0.0s finished\n",
      "[Parallel(n_jobs=6)]: Using backend LokyBackend with 6 concurrent workers.\n",
      "[Parallel(n_jobs=6)]: Done  30 out of  30 | elapsed:    0.0s finished\n",
      "[Parallel(n_jobs=6)]: Using backend LokyBackend with 6 concurrent workers.\n"
     ]
    },
    {
     "name": "stdout",
     "output_type": "stream",
     "text": [
      "portfolio value: 110.1108552040738\n",
      "Fitting 10 folds for each of 3 candidates, totalling 30 fits\n",
      "portfolio value: 110.1108552040738\n",
      "Fitting 10 folds for each of 3 candidates, totalling 30 fits\n"
     ]
    },
    {
     "name": "stderr",
     "output_type": "stream",
     "text": [
      "[Parallel(n_jobs=6)]: Done  30 out of  30 | elapsed:    0.0s finished\n",
      "[Parallel(n_jobs=6)]: Using backend LokyBackend with 6 concurrent workers.\n",
      "[Parallel(n_jobs=6)]: Done  30 out of  30 | elapsed:    0.0s finished\n",
      "[Parallel(n_jobs=6)]: Using backend LokyBackend with 6 concurrent workers.\n"
     ]
    },
    {
     "name": "stdout",
     "output_type": "stream",
     "text": [
      "portfolio value: 110.1108552040738\n",
      "Fitting 10 folds for each of 3 candidates, totalling 30 fits\n",
      "portfolio value: 110.1108552040738\n",
      "Fitting 10 folds for each of 3 candidates, totalling 30 fits\n"
     ]
    },
    {
     "name": "stderr",
     "output_type": "stream",
     "text": [
      "[Parallel(n_jobs=6)]: Done  30 out of  30 | elapsed:    0.0s finished\n",
      "[Parallel(n_jobs=6)]: Using backend LokyBackend with 6 concurrent workers.\n",
      "[Parallel(n_jobs=6)]: Done  30 out of  30 | elapsed:    0.0s finished\n",
      "[Parallel(n_jobs=6)]: Using backend LokyBackend with 6 concurrent workers.\n"
     ]
    },
    {
     "name": "stdout",
     "output_type": "stream",
     "text": [
      "portfolio value: 110.1108552040738\n",
      "Fitting 10 folds for each of 3 candidates, totalling 30 fits\n",
      "G A I N! 1.0048728575626913\n",
      "portfolio value: 110.64740971758938\n",
      "Fitting 10 folds for each of 3 candidates, totalling 30 fits\n"
     ]
    },
    {
     "name": "stderr",
     "output_type": "stream",
     "text": [
      "[Parallel(n_jobs=6)]: Done  30 out of  30 | elapsed:    0.0s finished\n",
      "[Parallel(n_jobs=6)]: Using backend LokyBackend with 6 concurrent workers.\n",
      "[Parallel(n_jobs=6)]: Done  30 out of  30 | elapsed:    0.0s finished\n",
      "[Parallel(n_jobs=6)]: Using backend LokyBackend with 6 concurrent workers.\n"
     ]
    },
    {
     "name": "stdout",
     "output_type": "stream",
     "text": [
      "LOSS! 0.9767972207968315\n",
      "portfolio value: 108.08008230050963\n",
      "Fitting 10 folds for each of 3 candidates, totalling 30 fits\n",
      "portfolio value: 108.08008230050963\n",
      "Fitting 10 folds for each of 3 candidates, totalling 30 fits\n"
     ]
    },
    {
     "name": "stderr",
     "output_type": "stream",
     "text": [
      "[Parallel(n_jobs=6)]: Done  30 out of  30 | elapsed:    0.0s finished\n",
      "[Parallel(n_jobs=6)]: Using backend LokyBackend with 6 concurrent workers.\n",
      "[Parallel(n_jobs=6)]: Done  30 out of  30 | elapsed:    0.0s finished\n",
      "[Parallel(n_jobs=6)]: Using backend LokyBackend with 6 concurrent workers.\n"
     ]
    },
    {
     "name": "stdout",
     "output_type": "stream",
     "text": [
      "portfolio value: 108.08008230050963\n",
      "Fitting 10 folds for each of 3 candidates, totalling 30 fits\n",
      "portfolio value: 108.08008230050963\n",
      "Fitting 10 folds for each of 3 candidates, totalling 30 fits\n"
     ]
    },
    {
     "name": "stderr",
     "output_type": "stream",
     "text": [
      "[Parallel(n_jobs=6)]: Done  30 out of  30 | elapsed:    0.0s finished\n",
      "[Parallel(n_jobs=6)]: Using backend LokyBackend with 6 concurrent workers.\n",
      "[Parallel(n_jobs=6)]: Done  30 out of  30 | elapsed:    0.0s finished\n",
      "[Parallel(n_jobs=6)]: Using backend LokyBackend with 6 concurrent workers.\n"
     ]
    },
    {
     "name": "stdout",
     "output_type": "stream",
     "text": [
      "portfolio value: 108.08008230050963\n",
      "Fitting 10 folds for each of 3 candidates, totalling 30 fits\n",
      "portfolio value: 108.08008230050963\n",
      "Fitting 10 folds for each of 3 candidates, totalling 30 fits\n"
     ]
    },
    {
     "name": "stderr",
     "output_type": "stream",
     "text": [
      "[Parallel(n_jobs=6)]: Done  30 out of  30 | elapsed:    0.0s finished\n",
      "[Parallel(n_jobs=6)]: Using backend LokyBackend with 6 concurrent workers.\n",
      "[Parallel(n_jobs=6)]: Done  30 out of  30 | elapsed:    0.0s finished\n",
      "[Parallel(n_jobs=6)]: Using backend LokyBackend with 6 concurrent workers.\n"
     ]
    },
    {
     "name": "stdout",
     "output_type": "stream",
     "text": [
      "portfolio value: 108.08008230050963\n",
      "Fitting 10 folds for each of 3 candidates, totalling 30 fits\n",
      "portfolio value: 108.08008230050963\n",
      "Fitting 10 folds for each of 3 candidates, totalling 30 fits\n"
     ]
    },
    {
     "name": "stderr",
     "output_type": "stream",
     "text": [
      "[Parallel(n_jobs=6)]: Done  30 out of  30 | elapsed:    0.0s finished\n",
      "[Parallel(n_jobs=6)]: Using backend LokyBackend with 6 concurrent workers.\n",
      "[Parallel(n_jobs=6)]: Done  30 out of  30 | elapsed:    0.0s finished\n",
      "[Parallel(n_jobs=6)]: Using backend LokyBackend with 6 concurrent workers.\n"
     ]
    },
    {
     "name": "stdout",
     "output_type": "stream",
     "text": [
      "G A I N! 1.0367709261874887\n",
      "portfolio value: 112.05428702911937\n",
      "Fitting 10 folds for each of 3 candidates, totalling 30 fits\n",
      "portfolio value: 112.05428702911937\n",
      "Fitting 10 folds for each of 3 candidates, totalling 30 fits\n"
     ]
    },
    {
     "name": "stderr",
     "output_type": "stream",
     "text": [
      "[Parallel(n_jobs=6)]: Done  30 out of  30 | elapsed:    0.0s finished\n",
      "[Parallel(n_jobs=6)]: Using backend LokyBackend with 6 concurrent workers.\n",
      "[Parallel(n_jobs=6)]: Done  30 out of  30 | elapsed:    0.0s finished\n",
      "[Parallel(n_jobs=6)]: Using backend LokyBackend with 6 concurrent workers.\n"
     ]
    },
    {
     "name": "stdout",
     "output_type": "stream",
     "text": [
      "portfolio value: 112.05428702911937\n",
      "Fitting 10 folds for each of 3 candidates, totalling 30 fits\n",
      "portfolio value: 112.05428702911937\n",
      "Fitting 10 folds for each of 3 candidates, totalling 30 fits\n"
     ]
    },
    {
     "name": "stderr",
     "output_type": "stream",
     "text": [
      "[Parallel(n_jobs=6)]: Done  30 out of  30 | elapsed:    0.0s finished\n",
      "[Parallel(n_jobs=6)]: Using backend LokyBackend with 6 concurrent workers.\n",
      "[Parallel(n_jobs=6)]: Done  30 out of  30 | elapsed:    0.0s finished\n",
      "[Parallel(n_jobs=6)]: Using backend LokyBackend with 6 concurrent workers.\n"
     ]
    },
    {
     "name": "stdout",
     "output_type": "stream",
     "text": [
      "G A I N! 1.180305294438141\n",
      "portfolio value: 132.25826824496068\n",
      "Fitting 10 folds for each of 3 candidates, totalling 30 fits\n",
      "G A I N! 1.0011506637707783\n",
      "portfolio value: 132.41045304261604\n",
      "Fitting 10 folds for each of 3 candidates, totalling 30 fits\n"
     ]
    },
    {
     "name": "stderr",
     "output_type": "stream",
     "text": [
      "[Parallel(n_jobs=6)]: Done  30 out of  30 | elapsed:    0.0s finished\n",
      "[Parallel(n_jobs=6)]: Using backend LokyBackend with 6 concurrent workers.\n",
      "[Parallel(n_jobs=6)]: Done  30 out of  30 | elapsed:    0.0s finished\n",
      "[Parallel(n_jobs=6)]: Using backend LokyBackend with 6 concurrent workers.\n"
     ]
    },
    {
     "name": "stdout",
     "output_type": "stream",
     "text": [
      "LOSS! 0.9965431396348158\n",
      "portfolio value: 131.95272859555695\n",
      "Fitting 10 folds for each of 3 candidates, totalling 30 fits\n",
      "portfolio value: 131.95272859555695\n",
      "Fitting 10 folds for each of 3 candidates, totalling 30 fits\n"
     ]
    },
    {
     "name": "stderr",
     "output_type": "stream",
     "text": [
      "[Parallel(n_jobs=6)]: Done  30 out of  30 | elapsed:    0.0s finished\n",
      "[Parallel(n_jobs=6)]: Using backend LokyBackend with 6 concurrent workers.\n",
      "[Parallel(n_jobs=6)]: Done  30 out of  30 | elapsed:    0.0s finished\n",
      "[Parallel(n_jobs=6)]: Using backend LokyBackend with 6 concurrent workers.\n"
     ]
    },
    {
     "name": "stdout",
     "output_type": "stream",
     "text": [
      "portfolio value: 131.95272859555695\n",
      "Fitting 10 folds for each of 3 candidates, totalling 30 fits\n",
      "portfolio value: 131.95272859555695\n",
      "Fitting 10 folds for each of 3 candidates, totalling 30 fits\n"
     ]
    },
    {
     "name": "stderr",
     "output_type": "stream",
     "text": [
      "[Parallel(n_jobs=6)]: Done  30 out of  30 | elapsed:    0.0s finished\n",
      "[Parallel(n_jobs=6)]: Using backend LokyBackend with 6 concurrent workers.\n",
      "[Parallel(n_jobs=6)]: Done  30 out of  30 | elapsed:    0.0s finished\n",
      "[Parallel(n_jobs=6)]: Using backend LokyBackend with 6 concurrent workers.\n"
     ]
    },
    {
     "name": "stdout",
     "output_type": "stream",
     "text": [
      "LOSS! 0.9914443935942692\n",
      "portfolio value: 130.82379298553113\n",
      "Fitting 10 folds for each of 3 candidates, totalling 30 fits\n",
      "portfolio value: 130.82379298553113\n",
      "Fitting 10 folds for each of 3 candidates, totalling 30 fits\n"
     ]
    },
    {
     "name": "stderr",
     "output_type": "stream",
     "text": [
      "[Parallel(n_jobs=6)]: Done  30 out of  30 | elapsed:    0.0s finished\n",
      "[Parallel(n_jobs=6)]: Using backend LokyBackend with 6 concurrent workers.\n",
      "[Parallel(n_jobs=6)]: Done  30 out of  30 | elapsed:    0.0s finished\n",
      "[Parallel(n_jobs=6)]: Using backend LokyBackend with 6 concurrent workers.\n"
     ]
    },
    {
     "name": "stdout",
     "output_type": "stream",
     "text": [
      "portfolio value: 130.82379298553113\n",
      "Fitting 10 folds for each of 3 candidates, totalling 30 fits\n",
      "LOSS! 0.9652000583468278\n",
      "portfolio value: 126.27113262278796\n",
      "Fitting 10 folds for each of 3 candidates, totalling 30 fits\n"
     ]
    },
    {
     "name": "stderr",
     "output_type": "stream",
     "text": [
      "[Parallel(n_jobs=6)]: Done  30 out of  30 | elapsed:    0.0s finished\n",
      "[Parallel(n_jobs=6)]: Using backend LokyBackend with 6 concurrent workers.\n",
      "[Parallel(n_jobs=6)]: Done  30 out of  30 | elapsed:    0.0s finished\n",
      "[Parallel(n_jobs=6)]: Using backend LokyBackend with 6 concurrent workers.\n"
     ]
    },
    {
     "name": "stdout",
     "output_type": "stream",
     "text": [
      "G A I N! 1.0851067318758851\n",
      "portfolio value: 137.01765605057992\n",
      "Fitting 10 folds for each of 3 candidates, totalling 30 fits\n",
      "G A I N! 1.0012499732343842\n",
      "portfolio value: 137.1889244532812\n",
      "Fitting 10 folds for each of 3 candidates, totalling 30 fits\n"
     ]
    },
    {
     "name": "stderr",
     "output_type": "stream",
     "text": [
      "[Parallel(n_jobs=6)]: Done  30 out of  30 | elapsed:    0.0s finished\n",
      "[Parallel(n_jobs=6)]: Using backend LokyBackend with 6 concurrent workers.\n",
      "[Parallel(n_jobs=6)]: Done  30 out of  30 | elapsed:    0.0s finished\n",
      "[Parallel(n_jobs=6)]: Using backend LokyBackend with 6 concurrent workers.\n"
     ]
    },
    {
     "name": "stdout",
     "output_type": "stream",
     "text": [
      "portfolio value: 137.1889244532812\n",
      "Fitting 10 folds for each of 3 candidates, totalling 30 fits\n",
      "G A I N! 1.0282812878999854\n",
      "portfolio value: 141.0688039224338\n",
      "Fitting 10 folds for each of 3 candidates, totalling 30 fits\n"
     ]
    },
    {
     "name": "stderr",
     "output_type": "stream",
     "text": [
      "[Parallel(n_jobs=6)]: Done  30 out of  30 | elapsed:    0.0s finished\n",
      "[Parallel(n_jobs=6)]: Using backend LokyBackend with 6 concurrent workers.\n",
      "[Parallel(n_jobs=6)]: Done  30 out of  30 | elapsed:    0.0s finished\n",
      "[Parallel(n_jobs=6)]: Using backend LokyBackend with 6 concurrent workers.\n"
     ]
    },
    {
     "name": "stdout",
     "output_type": "stream",
     "text": [
      "LOSS! 0.9905832655942777\n",
      "portfolio value: 139.74039646296333\n",
      "Fitting 10 folds for each of 3 candidates, totalling 30 fits\n",
      "G A I N! 1.0191655082300208\n",
      "portfolio value: 142.41859218144063\n",
      "Fitting 10 folds for each of 3 candidates, totalling 30 fits\n"
     ]
    },
    {
     "name": "stderr",
     "output_type": "stream",
     "text": [
      "[Parallel(n_jobs=6)]: Done  30 out of  30 | elapsed:    0.0s finished\n",
      "[Parallel(n_jobs=6)]: Using backend LokyBackend with 6 concurrent workers.\n",
      "[Parallel(n_jobs=6)]: Done  30 out of  30 | elapsed:    0.0s finished\n",
      "[Parallel(n_jobs=6)]: Using backend LokyBackend with 6 concurrent workers.\n"
     ]
    },
    {
     "name": "stdout",
     "output_type": "stream",
     "text": [
      "LOSS! 0.9895944900688941\n",
      "portfolio value: 140.93665410612252\n",
      "Fitting 10 folds for each of 3 candidates, totalling 30 fits\n",
      "G A I N! 1.0712622121567903\n",
      "portfolio value: 150.9801118517012\n",
      "Fitting 10 folds for each of 3 candidates, totalling 30 fits\n"
     ]
    },
    {
     "name": "stderr",
     "output_type": "stream",
     "text": [
      "[Parallel(n_jobs=6)]: Done  30 out of  30 | elapsed:    0.0s finished\n",
      "[Parallel(n_jobs=6)]: Using backend LokyBackend with 6 concurrent workers.\n",
      "[Parallel(n_jobs=6)]: Done  30 out of  30 | elapsed:    0.0s finished\n",
      "[Parallel(n_jobs=6)]: Using backend LokyBackend with 6 concurrent workers.\n"
     ]
    },
    {
     "name": "stdout",
     "output_type": "stream",
     "text": [
      "portfolio value: 150.9801118517012\n",
      "Fitting 10 folds for each of 3 candidates, totalling 30 fits\n",
      "G A I N! 1.0215641903665413\n",
      "portfolio value: 154.23587572523297\n",
      "Fitting 10 folds for each of 3 candidates, totalling 30 fits\n"
     ]
    },
    {
     "name": "stderr",
     "output_type": "stream",
     "text": [
      "[Parallel(n_jobs=6)]: Done  30 out of  30 | elapsed:    0.0s finished\n",
      "[Parallel(n_jobs=6)]: Using backend LokyBackend with 6 concurrent workers.\n",
      "[Parallel(n_jobs=6)]: Done  30 out of  30 | elapsed:    0.0s finished\n",
      "[Parallel(n_jobs=6)]: Using backend LokyBackend with 6 concurrent workers.\n"
     ]
    },
    {
     "name": "stdout",
     "output_type": "stream",
     "text": [
      "portfolio value: 154.23587572523297\n",
      "Fitting 10 folds for each of 3 candidates, totalling 30 fits\n",
      "portfolio value: 154.23587572523297\n",
      "Fitting 10 folds for each of 3 candidates, totalling 30 fits\n"
     ]
    },
    {
     "name": "stderr",
     "output_type": "stream",
     "text": [
      "[Parallel(n_jobs=6)]: Done  30 out of  30 | elapsed:    0.0s finished\n",
      "[Parallel(n_jobs=6)]: Using backend LokyBackend with 6 concurrent workers.\n",
      "[Parallel(n_jobs=6)]: Done  30 out of  30 | elapsed:    0.0s finished\n",
      "[Parallel(n_jobs=6)]: Using backend LokyBackend with 6 concurrent workers.\n"
     ]
    },
    {
     "name": "stdout",
     "output_type": "stream",
     "text": [
      "LOSS! 0.9987830368591373\n",
      "portfolio value: 154.04817634947668\n",
      "Fitting 10 folds for each of 3 candidates, totalling 30 fits\n",
      "G A I N! 1.016480432667871\n",
      "portfolio value: 156.58695694741255\n",
      "Fitting 10 folds for each of 3 candidates, totalling 30 fits\n"
     ]
    },
    {
     "name": "stderr",
     "output_type": "stream",
     "text": [
      "[Parallel(n_jobs=6)]: Done  30 out of  30 | elapsed:    0.0s finished\n",
      "[Parallel(n_jobs=6)]: Using backend LokyBackend with 6 concurrent workers.\n",
      "[Parallel(n_jobs=6)]: Done  30 out of  30 | elapsed:    0.0s finished\n",
      "[Parallel(n_jobs=6)]: Using backend LokyBackend with 6 concurrent workers.\n"
     ]
    },
    {
     "name": "stdout",
     "output_type": "stream",
     "text": [
      "portfolio value: 156.58695694741255\n",
      "Fitting 10 folds for each of 3 candidates, totalling 30 fits\n",
      "LOSS! 0.9998752055024313\n",
      "portfolio value: 156.56741575679447\n",
      "Fitting 10 folds for each of 3 candidates, totalling 30 fits\n"
     ]
    },
    {
     "name": "stderr",
     "output_type": "stream",
     "text": [
      "[Parallel(n_jobs=6)]: Done  30 out of  30 | elapsed:    0.0s finished\n",
      "[Parallel(n_jobs=6)]: Using backend LokyBackend with 6 concurrent workers.\n",
      "[Parallel(n_jobs=6)]: Done  30 out of  30 | elapsed:    0.0s finished\n",
      "[Parallel(n_jobs=6)]: Using backend LokyBackend with 6 concurrent workers.\n"
     ]
    },
    {
     "name": "stdout",
     "output_type": "stream",
     "text": [
      "portfolio value: 156.56741575679447\n",
      "Fitting 10 folds for each of 3 candidates, totalling 30 fits\n",
      "G A I N! 1.0717345666984077\n",
      "portfolio value: 167.79871148519757\n",
      "Fitting 10 folds for each of 3 candidates, totalling 30 fits\n"
     ]
    },
    {
     "name": "stderr",
     "output_type": "stream",
     "text": [
      "[Parallel(n_jobs=6)]: Done  30 out of  30 | elapsed:    0.0s finished\n",
      "[Parallel(n_jobs=6)]: Using backend LokyBackend with 6 concurrent workers.\n",
      "[Parallel(n_jobs=6)]: Done  30 out of  30 | elapsed:    0.0s finished\n",
      "[Parallel(n_jobs=6)]: Using backend LokyBackend with 6 concurrent workers.\n"
     ]
    },
    {
     "name": "stdout",
     "output_type": "stream",
     "text": [
      "LOSS! 0.9971379170754802\n",
      "portfolio value: 167.31845765829937\n",
      "Fitting 10 folds for each of 3 candidates, totalling 30 fits\n",
      "G A I N! 1.0233173629517578\n",
      "portfolio value: 171.21988286404624\n",
      "Fitting 10 folds for each of 3 candidates, totalling 30 fits\n"
     ]
    },
    {
     "name": "stderr",
     "output_type": "stream",
     "text": [
      "[Parallel(n_jobs=6)]: Done  30 out of  30 | elapsed:    0.0s finished\n",
      "[Parallel(n_jobs=6)]: Using backend LokyBackend with 6 concurrent workers.\n",
      "[Parallel(n_jobs=6)]: Done  30 out of  30 | elapsed:    0.0s finished\n",
      "[Parallel(n_jobs=6)]: Using backend LokyBackend with 6 concurrent workers.\n"
     ]
    },
    {
     "name": "stdout",
     "output_type": "stream",
     "text": [
      "LOSS! 0.9901531024549559\n",
      "portfolio value: 169.53389821980952\n",
      "Fitting 10 folds for each of 3 candidates, totalling 30 fits\n",
      "LOSS! 0.9575733401219685\n",
      "portfolio value: 162.34114118224085\n",
      "Fitting 10 folds for each of 3 candidates, totalling 30 fits\n"
     ]
    },
    {
     "name": "stderr",
     "output_type": "stream",
     "text": [
      "[Parallel(n_jobs=6)]: Done  30 out of  30 | elapsed:    0.0s finished\n",
      "[Parallel(n_jobs=6)]: Using backend LokyBackend with 6 concurrent workers.\n",
      "[Parallel(n_jobs=6)]: Done  30 out of  30 | elapsed:    0.0s finished\n",
      "[Parallel(n_jobs=6)]: Using backend LokyBackend with 6 concurrent workers.\n"
     ]
    },
    {
     "name": "stdout",
     "output_type": "stream",
     "text": [
      "portfolio value: 162.34114118224085\n",
      "Fitting 10 folds for each of 3 candidates, totalling 30 fits\n",
      "portfolio value: 162.34114118224085\n",
      "Fitting 10 folds for each of 3 candidates, totalling 30 fits\n"
     ]
    },
    {
     "name": "stderr",
     "output_type": "stream",
     "text": [
      "[Parallel(n_jobs=6)]: Done  30 out of  30 | elapsed:    0.0s finished\n",
      "[Parallel(n_jobs=6)]: Using backend LokyBackend with 6 concurrent workers.\n",
      "[Parallel(n_jobs=6)]: Done  30 out of  30 | elapsed:    0.0s finished\n",
      "[Parallel(n_jobs=6)]: Using backend LokyBackend with 6 concurrent workers.\n"
     ]
    },
    {
     "name": "stdout",
     "output_type": "stream",
     "text": [
      "G A I N! 1.043309254009497\n",
      "portfolio value: 169.37201490189415\n",
      "Fitting 10 folds for each of 3 candidates, totalling 30 fits\n",
      "G A I N! 1.0157003479230886\n",
      "portfolio value: 172.03121446428844\n",
      "Fitting 10 folds for each of 3 candidates, totalling 30 fits\n"
     ]
    },
    {
     "name": "stderr",
     "output_type": "stream",
     "text": [
      "[Parallel(n_jobs=6)]: Done  30 out of  30 | elapsed:    0.0s finished\n",
      "[Parallel(n_jobs=6)]: Using backend LokyBackend with 6 concurrent workers.\n",
      "[Parallel(n_jobs=6)]: Done  30 out of  30 | elapsed:    0.0s finished\n",
      "[Parallel(n_jobs=6)]: Using backend LokyBackend with 6 concurrent workers.\n"
     ]
    },
    {
     "name": "stdout",
     "output_type": "stream",
     "text": [
      "G A I N! 1.0025764080564745\n",
      "portfolio value: 172.47443707119933\n",
      "Fitting 10 folds for each of 3 candidates, totalling 30 fits\n",
      "G A I N! 1.0144948494370194\n",
      "portfolio value: 174.97442806828104\n",
      "Fitting 10 folds for each of 3 candidates, totalling 30 fits\n"
     ]
    },
    {
     "name": "stderr",
     "output_type": "stream",
     "text": [
      "[Parallel(n_jobs=6)]: Done  30 out of  30 | elapsed:    0.0s finished\n",
      "[Parallel(n_jobs=6)]: Using backend LokyBackend with 6 concurrent workers.\n",
      "[Parallel(n_jobs=6)]: Done  30 out of  30 | elapsed:    0.0s finished\n",
      "[Parallel(n_jobs=6)]: Using backend LokyBackend with 6 concurrent workers.\n"
     ]
    },
    {
     "name": "stdout",
     "output_type": "stream",
     "text": [
      "portfolio value: 174.97442806828104\n",
      "Fitting 10 folds for each of 3 candidates, totalling 30 fits\n",
      "portfolio value: 174.97442806828104\n",
      "Fitting 10 folds for each of 3 candidates, totalling 30 fits\n"
     ]
    },
    {
     "name": "stderr",
     "output_type": "stream",
     "text": [
      "[Parallel(n_jobs=6)]: Done  30 out of  30 | elapsed:    0.0s finished\n",
      "[Parallel(n_jobs=6)]: Using backend LokyBackend with 6 concurrent workers.\n",
      "[Parallel(n_jobs=6)]: Done  30 out of  30 | elapsed:    0.0s finished\n",
      "[Parallel(n_jobs=6)]: Using backend LokyBackend with 6 concurrent workers.\n"
     ]
    },
    {
     "name": "stdout",
     "output_type": "stream",
     "text": [
      "G A I N! 1.1273680433386057\n",
      "portfolio value: 197.2605786056296\n",
      "Fitting 10 folds for each of 3 candidates, totalling 30 fits\n",
      "LOSS! 0.9841871527151077\n",
      "portfolio value: 194.1413272008093\n",
      "Fitting 10 folds for each of 3 candidates, totalling 30 fits\n"
     ]
    },
    {
     "name": "stderr",
     "output_type": "stream",
     "text": [
      "[Parallel(n_jobs=6)]: Done  30 out of  30 | elapsed:    0.0s finished\n",
      "[Parallel(n_jobs=6)]: Using backend LokyBackend with 6 concurrent workers.\n",
      "[Parallel(n_jobs=6)]: Done  30 out of  30 | elapsed:    0.0s finished\n",
      "[Parallel(n_jobs=6)]: Using backend LokyBackend with 6 concurrent workers.\n"
     ]
    },
    {
     "name": "stdout",
     "output_type": "stream",
     "text": [
      "G A I N! 1.0221364228899927\n",
      "portfolio value: 198.43892172015086\n",
      "Fitting 10 folds for each of 3 candidates, totalling 30 fits\n",
      "G A I N! 1.0134782146716854\n",
      "portfolio value: 201.11352410631284\n",
      "Fitting 10 folds for each of 3 candidates, totalling 30 fits\n"
     ]
    },
    {
     "name": "stderr",
     "output_type": "stream",
     "text": [
      "[Parallel(n_jobs=6)]: Done  30 out of  30 | elapsed:    0.0s finished\n",
      "[Parallel(n_jobs=6)]: Using backend LokyBackend with 6 concurrent workers.\n",
      "[Parallel(n_jobs=6)]: Done  30 out of  30 | elapsed:    0.0s finished\n",
      "[Parallel(n_jobs=6)]: Using backend LokyBackend with 6 concurrent workers.\n"
     ]
    },
    {
     "name": "stdout",
     "output_type": "stream",
     "text": [
      "LOSS! 0.9904108184812606\n",
      "portfolio value: 199.185010017784\n",
      "Fitting 10 folds for each of 3 candidates, totalling 30 fits\n",
      "portfolio value: 199.185010017784\n",
      "Fitting 10 folds for each of 3 candidates, totalling 30 fits\n"
     ]
    },
    {
     "name": "stderr",
     "output_type": "stream",
     "text": [
      "[Parallel(n_jobs=6)]: Done  30 out of  30 | elapsed:    0.0s finished\n",
      "[Parallel(n_jobs=6)]: Using backend LokyBackend with 6 concurrent workers.\n",
      "[Parallel(n_jobs=6)]: Done  30 out of  30 | elapsed:    0.0s finished\n",
      "[Parallel(n_jobs=6)]: Using backend LokyBackend with 6 concurrent workers.\n"
     ]
    },
    {
     "name": "stdout",
     "output_type": "stream",
     "text": [
      "portfolio value: 199.185010017784\n",
      "Fitting 10 folds for each of 3 candidates, totalling 30 fits\n",
      "G A I N! 1.0290116028197172\n",
      "portfolio value: 204.96368641606134\n",
      "Fitting 10 folds for each of 3 candidates, totalling 30 fits\n"
     ]
    },
    {
     "name": "stderr",
     "output_type": "stream",
     "text": [
      "[Parallel(n_jobs=6)]: Done  30 out of  30 | elapsed:    0.0s finished\n",
      "[Parallel(n_jobs=6)]: Using backend LokyBackend with 6 concurrent workers.\n",
      "[Parallel(n_jobs=6)]: Done  30 out of  30 | elapsed:    0.0s finished\n",
      "[Parallel(n_jobs=6)]: Using backend LokyBackend with 6 concurrent workers.\n"
     ]
    },
    {
     "name": "stdout",
     "output_type": "stream",
     "text": [
      "G A I N! 1.074458089739114\n",
      "portfolio value: 220.22489097248805\n",
      "Fitting 10 folds for each of 3 candidates, totalling 30 fits\n",
      "portfolio value: 220.22489097248805\n",
      "Fitting 10 folds for each of 3 candidates, totalling 30 fits\n"
     ]
    },
    {
     "name": "stderr",
     "output_type": "stream",
     "text": [
      "[Parallel(n_jobs=6)]: Done  30 out of  30 | elapsed:    0.0s finished\n",
      "[Parallel(n_jobs=6)]: Using backend LokyBackend with 6 concurrent workers.\n",
      "[Parallel(n_jobs=6)]: Done  30 out of  30 | elapsed:    0.0s finished\n",
      "[Parallel(n_jobs=6)]: Using backend LokyBackend with 6 concurrent workers.\n"
     ]
    },
    {
     "name": "stdout",
     "output_type": "stream",
     "text": [
      "LOSS! 0.9748996932447151\n",
      "portfolio value: 214.69717865392946\n",
      "Fitting 10 folds for each of 3 candidates, totalling 30 fits\n",
      "portfolio value: 214.69717865392946\n",
      "Fitting 10 folds for each of 3 candidates, totalling 30 fits\n"
     ]
    },
    {
     "name": "stderr",
     "output_type": "stream",
     "text": [
      "[Parallel(n_jobs=6)]: Done  30 out of  30 | elapsed:    0.0s finished\n",
      "[Parallel(n_jobs=6)]: Using backend LokyBackend with 6 concurrent workers.\n",
      "[Parallel(n_jobs=6)]: Done  30 out of  30 | elapsed:    0.0s finished\n",
      "[Parallel(n_jobs=6)]: Using backend LokyBackend with 6 concurrent workers.\n"
     ]
    },
    {
     "name": "stdout",
     "output_type": "stream",
     "text": [
      "portfolio value: 214.69717865392946\n",
      "Fitting 10 folds for each of 3 candidates, totalling 30 fits\n",
      "portfolio value: 214.69717865392946\n",
      "Fitting 10 folds for each of 3 candidates, totalling 30 fits\n"
     ]
    },
    {
     "name": "stderr",
     "output_type": "stream",
     "text": [
      "[Parallel(n_jobs=6)]: Done  30 out of  30 | elapsed:    0.0s finished\n",
      "[Parallel(n_jobs=6)]: Using backend LokyBackend with 6 concurrent workers.\n",
      "[Parallel(n_jobs=6)]: Done  30 out of  30 | elapsed:    0.0s finished\n",
      "[Parallel(n_jobs=6)]: Using backend LokyBackend with 6 concurrent workers.\n"
     ]
    },
    {
     "name": "stdout",
     "output_type": "stream",
     "text": [
      "portfolio value: 214.69717865392946\n",
      "Fitting 10 folds for each of 3 candidates, totalling 30 fits\n",
      "portfolio value: 214.69717865392946\n",
      "Fitting 10 folds for each of 3 candidates, totalling 30 fits\n"
     ]
    },
    {
     "name": "stderr",
     "output_type": "stream",
     "text": [
      "[Parallel(n_jobs=6)]: Done  30 out of  30 | elapsed:    0.0s finished\n",
      "[Parallel(n_jobs=6)]: Using backend LokyBackend with 6 concurrent workers.\n",
      "[Parallel(n_jobs=6)]: Done  30 out of  30 | elapsed:    0.0s finished\n",
      "[Parallel(n_jobs=6)]: Using backend LokyBackend with 6 concurrent workers.\n"
     ]
    },
    {
     "name": "stdout",
     "output_type": "stream",
     "text": [
      "portfolio value: 214.69717865392946\n",
      "Fitting 10 folds for each of 3 candidates, totalling 30 fits\n",
      "portfolio value: 214.69717865392946\n",
      "Fitting 10 folds for each of 3 candidates, totalling 30 fits\n"
     ]
    },
    {
     "name": "stderr",
     "output_type": "stream",
     "text": [
      "[Parallel(n_jobs=6)]: Done  30 out of  30 | elapsed:    0.0s finished\n",
      "[Parallel(n_jobs=6)]: Using backend LokyBackend with 6 concurrent workers.\n",
      "[Parallel(n_jobs=6)]: Done  30 out of  30 | elapsed:    0.0s finished\n",
      "[Parallel(n_jobs=6)]: Using backend LokyBackend with 6 concurrent workers.\n"
     ]
    },
    {
     "name": "stdout",
     "output_type": "stream",
     "text": [
      "portfolio value: 214.69717865392946\n",
      "Fitting 10 folds for each of 3 candidates, totalling 30 fits\n",
      "portfolio value: 214.69717865392946\n",
      "Fitting 10 folds for each of 3 candidates, totalling 30 fits\n"
     ]
    },
    {
     "name": "stderr",
     "output_type": "stream",
     "text": [
      "[Parallel(n_jobs=6)]: Done  30 out of  30 | elapsed:    0.0s finished\n",
      "[Parallel(n_jobs=6)]: Using backend LokyBackend with 6 concurrent workers.\n",
      "[Parallel(n_jobs=6)]: Done  30 out of  30 | elapsed:    0.0s finished\n",
      "[Parallel(n_jobs=6)]: Using backend LokyBackend with 6 concurrent workers.\n"
     ]
    },
    {
     "name": "stdout",
     "output_type": "stream",
     "text": [
      "G A I N! 1.000203001592388\n",
      "portfolio value: 214.7407625230774\n",
      "Fitting 10 folds for each of 3 candidates, totalling 30 fits\n",
      "LOSS! 0.9791937471589017\n",
      "portfolio value: 210.27281192273202\n",
      "Fitting 10 folds for each of 3 candidates, totalling 30 fits\n"
     ]
    },
    {
     "name": "stderr",
     "output_type": "stream",
     "text": [
      "[Parallel(n_jobs=6)]: Done  30 out of  30 | elapsed:    0.0s finished\n",
      "[Parallel(n_jobs=6)]: Using backend LokyBackend with 6 concurrent workers.\n",
      "[Parallel(n_jobs=6)]: Done  30 out of  30 | elapsed:    0.0s finished\n",
      "[Parallel(n_jobs=6)]: Using backend LokyBackend with 6 concurrent workers.\n"
     ]
    },
    {
     "name": "stdout",
     "output_type": "stream",
     "text": [
      "LOSS! 0.9536920566169427\n",
      "portfolio value: 200.53551045321788\n",
      "Fitting 10 folds for each of 3 candidates, totalling 30 fits\n",
      "portfolio value: 200.53551045321788\n",
      "Fitting 10 folds for each of 3 candidates, totalling 30 fits\n"
     ]
    },
    {
     "name": "stderr",
     "output_type": "stream",
     "text": [
      "[Parallel(n_jobs=6)]: Done  30 out of  30 | elapsed:    0.0s finished\n",
      "[Parallel(n_jobs=6)]: Using backend LokyBackend with 6 concurrent workers.\n",
      "[Parallel(n_jobs=6)]: Done  30 out of  30 | elapsed:    0.0s finished\n",
      "[Parallel(n_jobs=6)]: Using backend LokyBackend with 6 concurrent workers.\n"
     ]
    },
    {
     "name": "stdout",
     "output_type": "stream",
     "text": [
      "portfolio value: 200.53551045321788\n",
      "Fitting 10 folds for each of 3 candidates, totalling 30 fits\n",
      "LOSS! 0.9542008175650334\n",
      "portfolio value: 191.3511480252818\n",
      "Fitting 10 folds for each of 3 candidates, totalling 30 fits\n"
     ]
    },
    {
     "name": "stderr",
     "output_type": "stream",
     "text": [
      "[Parallel(n_jobs=6)]: Done  30 out of  30 | elapsed:    0.0s finished\n",
      "[Parallel(n_jobs=6)]: Using backend LokyBackend with 6 concurrent workers.\n",
      "[Parallel(n_jobs=6)]: Done  30 out of  30 | elapsed:    0.0s finished\n",
      "[Parallel(n_jobs=6)]: Using backend LokyBackend with 6 concurrent workers.\n"
     ]
    },
    {
     "name": "stdout",
     "output_type": "stream",
     "text": [
      "G A I N! 1.0137520681953733\n",
      "portfolio value: 193.98262206218845\n",
      "Fitting 10 folds for each of 3 candidates, totalling 30 fits\n",
      "LOSS! 0.9916344930451488\n",
      "portfolio value: 192.35985908820695\n",
      "Fitting 10 folds for each of 3 candidates, totalling 30 fits\n"
     ]
    },
    {
     "name": "stderr",
     "output_type": "stream",
     "text": [
      "[Parallel(n_jobs=6)]: Done  30 out of  30 | elapsed:    0.0s finished\n",
      "[Parallel(n_jobs=6)]: Using backend LokyBackend with 6 concurrent workers.\n",
      "[Parallel(n_jobs=6)]: Done  30 out of  30 | elapsed:    0.0s finished\n",
      "[Parallel(n_jobs=6)]: Using backend LokyBackend with 6 concurrent workers.\n"
     ]
    },
    {
     "name": "stdout",
     "output_type": "stream",
     "text": [
      "G A I N! 1.0388844527828014\n",
      "portfolio value: 199.83966694622865\n",
      "Fitting 10 folds for each of 3 candidates, totalling 30 fits\n",
      "G A I N! 1.0371048114569272\n",
      "portfolio value: 207.2546801098836\n",
      "Fitting 10 folds for each of 3 candidates, totalling 30 fits\n"
     ]
    },
    {
     "name": "stderr",
     "output_type": "stream",
     "text": [
      "[Parallel(n_jobs=6)]: Done  30 out of  30 | elapsed:    0.0s finished\n",
      "[Parallel(n_jobs=6)]: Using backend LokyBackend with 6 concurrent workers.\n",
      "[Parallel(n_jobs=6)]: Done  30 out of  30 | elapsed:    0.0s finished\n",
      "[Parallel(n_jobs=6)]: Using backend LokyBackend with 6 concurrent workers.\n"
     ]
    },
    {
     "name": "stdout",
     "output_type": "stream",
     "text": [
      "LOSS! 0.9906351683031609\n",
      "portfolio value: 205.3137749122723\n",
      "Fitting 10 folds for each of 3 candidates, totalling 30 fits\n",
      "G A I N! 1.0277044581896255\n",
      "portfolio value: 211.0018818050835\n",
      "Fitting 10 folds for each of 3 candidates, totalling 30 fits\n"
     ]
    },
    {
     "name": "stderr",
     "output_type": "stream",
     "text": [
      "[Parallel(n_jobs=6)]: Done  30 out of  30 | elapsed:    0.0s finished\n",
      "[Parallel(n_jobs=6)]: Using backend LokyBackend with 6 concurrent workers.\n",
      "[Parallel(n_jobs=6)]: Done  30 out of  30 | elapsed:    0.0s finished\n",
      "[Parallel(n_jobs=6)]: Using backend LokyBackend with 6 concurrent workers.\n"
     ]
    },
    {
     "name": "stdout",
     "output_type": "stream",
     "text": [
      "portfolio value: 211.0018818050835\n",
      "Fitting 10 folds for each of 3 candidates, totalling 30 fits\n",
      "G A I N! 1.0743546514339681\n",
      "portfolio value: 226.69085317861183\n",
      "Fitting 10 folds for each of 3 candidates, totalling 30 fits\n"
     ]
    },
    {
     "name": "stderr",
     "output_type": "stream",
     "text": [
      "[Parallel(n_jobs=6)]: Done  30 out of  30 | elapsed:    0.0s finished\n",
      "[Parallel(n_jobs=6)]: Using backend LokyBackend with 6 concurrent workers.\n",
      "[Parallel(n_jobs=6)]: Done  30 out of  30 | elapsed:    0.0s finished\n",
      "[Parallel(n_jobs=6)]: Using backend LokyBackend with 6 concurrent workers.\n"
     ]
    },
    {
     "name": "stdout",
     "output_type": "stream",
     "text": [
      "LOSS! 0.9376983602682263\n",
      "portfolio value: 212.56764131338954\n",
      "Fitting 10 folds for each of 3 candidates, totalling 30 fits\n",
      "G A I N! 1.0128970124775534\n",
      "portfolio value: 215.30912883573242\n",
      "Fitting 10 folds for each of 3 candidates, totalling 30 fits\n"
     ]
    },
    {
     "name": "stderr",
     "output_type": "stream",
     "text": [
      "[Parallel(n_jobs=6)]: Done  30 out of  30 | elapsed:    0.0s finished\n",
      "[Parallel(n_jobs=6)]: Using backend LokyBackend with 6 concurrent workers.\n",
      "[Parallel(n_jobs=6)]: Done  30 out of  30 | elapsed:    0.0s finished\n",
      "[Parallel(n_jobs=6)]: Using backend LokyBackend with 6 concurrent workers.\n"
     ]
    },
    {
     "name": "stdout",
     "output_type": "stream",
     "text": [
      "portfolio value: 215.30912883573242\n",
      "Fitting 10 folds for each of 3 candidates, totalling 30 fits\n",
      "LOSS! 0.9862571784482186\n",
      "portfolio value: 212.35017389967345\n",
      "Fitting 10 folds for each of 3 candidates, totalling 30 fits\n"
     ]
    },
    {
     "name": "stderr",
     "output_type": "stream",
     "text": [
      "[Parallel(n_jobs=6)]: Done  30 out of  30 | elapsed:    0.0s finished\n",
      "[Parallel(n_jobs=6)]: Using backend LokyBackend with 6 concurrent workers.\n",
      "[Parallel(n_jobs=6)]: Done  30 out of  30 | elapsed:    0.0s finished\n",
      "[Parallel(n_jobs=6)]: Using backend LokyBackend with 6 concurrent workers.\n"
     ]
    },
    {
     "name": "stdout",
     "output_type": "stream",
     "text": [
      "LOSS! 0.9988386217772866\n",
      "portfolio value: 212.10355503211696\n",
      "Fitting 10 folds for each of 3 candidates, totalling 30 fits\n",
      "G A I N! 1.0109654591577366\n",
      "portfolio value: 214.42936790203237\n",
      "Fitting 10 folds for each of 3 candidates, totalling 30 fits\n"
     ]
    },
    {
     "name": "stderr",
     "output_type": "stream",
     "text": [
      "[Parallel(n_jobs=6)]: Done  30 out of  30 | elapsed:    0.0s finished\n",
      "[Parallel(n_jobs=6)]: Using backend LokyBackend with 6 concurrent workers.\n",
      "[Parallel(n_jobs=6)]: Done  30 out of  30 | elapsed:    0.0s finished\n",
      "[Parallel(n_jobs=6)]: Using backend LokyBackend with 6 concurrent workers.\n"
     ]
    },
    {
     "name": "stdout",
     "output_type": "stream",
     "text": [
      "G A I N! 1.0011706666946827\n",
      "portfolio value: 214.68039322139714\n",
      "Fitting 10 folds for each of 3 candidates, totalling 30 fits\n",
      "portfolio value: 214.68039322139714\n",
      "Fitting 10 folds for each of 3 candidates, totalling 30 fits\n"
     ]
    },
    {
     "name": "stderr",
     "output_type": "stream",
     "text": [
      "[Parallel(n_jobs=6)]: Done  30 out of  30 | elapsed:    0.0s finished\n",
      "[Parallel(n_jobs=6)]: Using backend LokyBackend with 6 concurrent workers.\n",
      "[Parallel(n_jobs=6)]: Done  30 out of  30 | elapsed:    0.0s finished\n",
      "[Parallel(n_jobs=6)]: Using backend LokyBackend with 6 concurrent workers.\n"
     ]
    },
    {
     "name": "stdout",
     "output_type": "stream",
     "text": [
      "portfolio value: 214.68039322139714\n",
      "Fitting 10 folds for each of 3 candidates, totalling 30 fits\n",
      "LOSS! 0.9444485780096092\n",
      "portfolio value: 202.75459210449227\n",
      "Fitting 10 folds for each of 3 candidates, totalling 30 fits\n"
     ]
    },
    {
     "name": "stderr",
     "output_type": "stream",
     "text": [
      "[Parallel(n_jobs=6)]: Done  30 out of  30 | elapsed:    0.0s finished\n",
      "[Parallel(n_jobs=6)]: Using backend LokyBackend with 6 concurrent workers.\n",
      "[Parallel(n_jobs=6)]: Done  30 out of  30 | elapsed:    0.0s finished\n",
      "[Parallel(n_jobs=6)]: Using backend LokyBackend with 6 concurrent workers.\n"
     ]
    },
    {
     "name": "stdout",
     "output_type": "stream",
     "text": [
      "G A I N! 1.017182559759993\n",
      "portfolio value: 206.23843499994072\n",
      "Fitting 10 folds for each of 3 candidates, totalling 30 fits\n",
      "portfolio value: 206.23843499994072\n",
      "Fitting 10 folds for each of 3 candidates, totalling 30 fits\n"
     ]
    },
    {
     "name": "stderr",
     "output_type": "stream",
     "text": [
      "[Parallel(n_jobs=6)]: Done  30 out of  30 | elapsed:    0.0s finished\n",
      "[Parallel(n_jobs=6)]: Using backend LokyBackend with 6 concurrent workers.\n",
      "[Parallel(n_jobs=6)]: Done  30 out of  30 | elapsed:    0.0s finished\n",
      "[Parallel(n_jobs=6)]: Using backend LokyBackend with 6 concurrent workers.\n"
     ]
    },
    {
     "name": "stdout",
     "output_type": "stream",
     "text": [
      "LOSS! 0.9904230956881571\n",
      "portfolio value: 204.26330924252207\n",
      "Fitting 10 folds for each of 3 candidates, totalling 30 fits\n",
      "G A I N! 1.0068897027457264\n",
      "portfolio value: 205.67062272506143\n",
      "Fitting 10 folds for each of 3 candidates, totalling 30 fits\n"
     ]
    },
    {
     "name": "stderr",
     "output_type": "stream",
     "text": [
      "[Parallel(n_jobs=6)]: Done  30 out of  30 | elapsed:    0.0s finished\n",
      "[Parallel(n_jobs=6)]: Using backend LokyBackend with 6 concurrent workers.\n",
      "[Parallel(n_jobs=6)]: Done  30 out of  30 | elapsed:    0.0s finished\n",
      "[Parallel(n_jobs=6)]: Using backend LokyBackend with 6 concurrent workers.\n"
     ]
    },
    {
     "name": "stdout",
     "output_type": "stream",
     "text": [
      "G A I N! 1.0088592606946538\n",
      "portfolio value: 207.49271238901454\n",
      "Fitting 10 folds for each of 3 candidates, totalling 30 fits\n",
      "portfolio value: 207.49271238901454\n",
      "Fitting 10 folds for each of 3 candidates, totalling 30 fits\n"
     ]
    },
    {
     "name": "stderr",
     "output_type": "stream",
     "text": [
      "[Parallel(n_jobs=6)]: Done  30 out of  30 | elapsed:    0.0s finished\n",
      "[Parallel(n_jobs=6)]: Using backend LokyBackend with 6 concurrent workers.\n",
      "[Parallel(n_jobs=6)]: Done  30 out of  30 | elapsed:    0.0s finished\n",
      "[Parallel(n_jobs=6)]: Using backend LokyBackend with 6 concurrent workers.\n"
     ]
    },
    {
     "name": "stdout",
     "output_type": "stream",
     "text": [
      "portfolio value: 207.49271238901454\n",
      "Fitting 10 folds for each of 3 candidates, totalling 30 fits\n",
      "LOSS! 0.9870062092283622\n",
      "portfolio value: 204.79659549759208\n",
      "Fitting 10 folds for each of 3 candidates, totalling 30 fits\n"
     ]
    },
    {
     "name": "stderr",
     "output_type": "stream",
     "text": [
      "[Parallel(n_jobs=6)]: Done  30 out of  30 | elapsed:    0.0s finished\n",
      "[Parallel(n_jobs=6)]: Using backend LokyBackend with 6 concurrent workers.\n",
      "[Parallel(n_jobs=6)]: Done  30 out of  30 | elapsed:    0.0s finished\n",
      "[Parallel(n_jobs=6)]: Using backend LokyBackend with 6 concurrent workers.\n"
     ]
    },
    {
     "name": "stdout",
     "output_type": "stream",
     "text": [
      "portfolio value: 204.79659549759208\n",
      "Fitting 10 folds for each of 3 candidates, totalling 30 fits\n",
      "portfolio value: 204.79659549759208\n",
      "Fitting 10 folds for each of 3 candidates, totalling 30 fits\n"
     ]
    },
    {
     "name": "stderr",
     "output_type": "stream",
     "text": [
      "[Parallel(n_jobs=6)]: Done  30 out of  30 | elapsed:    0.0s finished\n",
      "[Parallel(n_jobs=6)]: Using backend LokyBackend with 6 concurrent workers.\n",
      "[Parallel(n_jobs=6)]: Done  30 out of  30 | elapsed:    0.0s finished\n",
      "[Parallel(n_jobs=6)]: Using backend LokyBackend with 6 concurrent workers.\n"
     ]
    },
    {
     "name": "stdout",
     "output_type": "stream",
     "text": [
      "portfolio value: 204.79659549759208\n",
      "Fitting 10 folds for each of 3 candidates, totalling 30 fits\n",
      "portfolio value: 204.79659549759208\n",
      "Fitting 10 folds for each of 3 candidates, totalling 30 fits\n"
     ]
    },
    {
     "name": "stderr",
     "output_type": "stream",
     "text": [
      "[Parallel(n_jobs=6)]: Done  30 out of  30 | elapsed:    0.0s finished\n",
      "[Parallel(n_jobs=6)]: Using backend LokyBackend with 6 concurrent workers.\n",
      "[Parallel(n_jobs=6)]: Done  30 out of  30 | elapsed:    0.0s finished\n",
      "[Parallel(n_jobs=6)]: Using backend LokyBackend with 6 concurrent workers.\n"
     ]
    },
    {
     "name": "stdout",
     "output_type": "stream",
     "text": [
      "portfolio value: 204.79659549759208\n",
      "Fitting 10 folds for each of 3 candidates, totalling 30 fits\n",
      "portfolio value: 204.79659549759208\n",
      "Fitting 10 folds for each of 3 candidates, totalling 30 fits\n"
     ]
    },
    {
     "name": "stderr",
     "output_type": "stream",
     "text": [
      "[Parallel(n_jobs=6)]: Done  30 out of  30 | elapsed:    0.0s finished\n",
      "[Parallel(n_jobs=6)]: Using backend LokyBackend with 6 concurrent workers.\n",
      "[Parallel(n_jobs=6)]: Done  30 out of  30 | elapsed:    0.0s finished\n",
      "[Parallel(n_jobs=6)]: Using backend LokyBackend with 6 concurrent workers.\n"
     ]
    },
    {
     "name": "stdout",
     "output_type": "stream",
     "text": [
      "portfolio value: 204.79659549759208\n",
      "Fitting 10 folds for each of 3 candidates, totalling 30 fits\n",
      "LOSS! 0.9866452943655268\n",
      "portfolio value: 202.06159724977945\n",
      "Fitting 10 folds for each of 3 candidates, totalling 30 fits\n"
     ]
    },
    {
     "name": "stderr",
     "output_type": "stream",
     "text": [
      "[Parallel(n_jobs=6)]: Done  30 out of  30 | elapsed:    0.0s finished\n",
      "[Parallel(n_jobs=6)]: Using backend LokyBackend with 6 concurrent workers.\n",
      "[Parallel(n_jobs=6)]: Done  30 out of  30 | elapsed:    0.0s finished\n",
      "[Parallel(n_jobs=6)]: Using backend LokyBackend with 6 concurrent workers.\n"
     ]
    },
    {
     "name": "stdout",
     "output_type": "stream",
     "text": [
      "portfolio value: 202.06159724977945\n",
      "Fitting 10 folds for each of 3 candidates, totalling 30 fits\n",
      "portfolio value: 202.06159724977945\n",
      "Fitting 10 folds for each of 3 candidates, totalling 30 fits\n"
     ]
    },
    {
     "name": "stderr",
     "output_type": "stream",
     "text": [
      "[Parallel(n_jobs=6)]: Done  30 out of  30 | elapsed:    0.0s finished\n",
      "[Parallel(n_jobs=6)]: Using backend LokyBackend with 6 concurrent workers.\n",
      "[Parallel(n_jobs=6)]: Done  30 out of  30 | elapsed:    0.0s finished\n",
      "[Parallel(n_jobs=6)]: Using backend LokyBackend with 6 concurrent workers.\n"
     ]
    },
    {
     "name": "stdout",
     "output_type": "stream",
     "text": [
      "portfolio value: 202.06159724977945\n",
      "Fitting 10 folds for each of 3 candidates, totalling 30 fits\n",
      "portfolio value: 202.06159724977945\n",
      "Fitting 10 folds for each of 3 candidates, totalling 30 fits\n"
     ]
    },
    {
     "name": "stderr",
     "output_type": "stream",
     "text": [
      "[Parallel(n_jobs=6)]: Done  30 out of  30 | elapsed:    0.0s finished\n",
      "[Parallel(n_jobs=6)]: Using backend LokyBackend with 6 concurrent workers.\n",
      "[Parallel(n_jobs=6)]: Done  30 out of  30 | elapsed:    0.0s finished\n",
      "[Parallel(n_jobs=6)]: Using backend LokyBackend with 6 concurrent workers.\n"
     ]
    },
    {
     "name": "stdout",
     "output_type": "stream",
     "text": [
      "portfolio value: 202.06159724977945\n",
      "Fitting 10 folds for each of 3 candidates, totalling 30 fits\n",
      "portfolio value: 202.06159724977945\n",
      "Fitting 10 folds for each of 3 candidates, totalling 30 fits\n"
     ]
    },
    {
     "name": "stderr",
     "output_type": "stream",
     "text": [
      "[Parallel(n_jobs=6)]: Done  30 out of  30 | elapsed:    0.0s finished\n",
      "[Parallel(n_jobs=6)]: Using backend LokyBackend with 6 concurrent workers.\n",
      "[Parallel(n_jobs=6)]: Done  30 out of  30 | elapsed:    0.0s finished\n",
      "[Parallel(n_jobs=6)]: Using backend LokyBackend with 6 concurrent workers.\n"
     ]
    },
    {
     "name": "stdout",
     "output_type": "stream",
     "text": [
      "portfolio value: 202.06159724977945\n",
      "Fitting 10 folds for each of 3 candidates, totalling 30 fits\n",
      "portfolio value: 202.06159724977945\n",
      "Fitting 10 folds for each of 3 candidates, totalling 30 fits\n"
     ]
    },
    {
     "name": "stderr",
     "output_type": "stream",
     "text": [
      "[Parallel(n_jobs=6)]: Done  30 out of  30 | elapsed:    0.0s finished\n",
      "[Parallel(n_jobs=6)]: Using backend LokyBackend with 6 concurrent workers.\n",
      "[Parallel(n_jobs=6)]: Done  30 out of  30 | elapsed:    0.0s finished\n",
      "[Parallel(n_jobs=6)]: Using backend LokyBackend with 6 concurrent workers.\n"
     ]
    },
    {
     "name": "stdout",
     "output_type": "stream",
     "text": [
      "G A I N! 1.0333550111628982\n",
      "portfolio value: 208.8013640816389\n",
      "Fitting 10 folds for each of 3 candidates, totalling 30 fits\n",
      "portfolio value: 208.8013640816389\n",
      "Fitting 10 folds for each of 3 candidates, totalling 30 fits\n"
     ]
    },
    {
     "name": "stderr",
     "output_type": "stream",
     "text": [
      "[Parallel(n_jobs=6)]: Done  30 out of  30 | elapsed:    0.0s finished\n",
      "[Parallel(n_jobs=6)]: Using backend LokyBackend with 6 concurrent workers.\n",
      "[Parallel(n_jobs=6)]: Done  30 out of  30 | elapsed:    0.0s finished\n",
      "[Parallel(n_jobs=6)]: Using backend LokyBackend with 6 concurrent workers.\n"
     ]
    },
    {
     "name": "stdout",
     "output_type": "stream",
     "text": [
      "G A I N! 1.0189465158811635\n",
      "portfolio value: 212.75742244222027\n",
      "Fitting 10 folds for each of 3 candidates, totalling 30 fits\n",
      "portfolio value: 212.75742244222027\n",
      "Fitting 10 folds for each of 3 candidates, totalling 30 fits\n"
     ]
    },
    {
     "name": "stderr",
     "output_type": "stream",
     "text": [
      "[Parallel(n_jobs=6)]: Done  30 out of  30 | elapsed:    0.0s finished\n",
      "[Parallel(n_jobs=6)]: Using backend LokyBackend with 6 concurrent workers.\n",
      "[Parallel(n_jobs=6)]: Done  30 out of  30 | elapsed:    0.0s finished\n",
      "[Parallel(n_jobs=6)]: Using backend LokyBackend with 6 concurrent workers.\n"
     ]
    },
    {
     "name": "stdout",
     "output_type": "stream",
     "text": [
      "G A I N! 1.0005877262208878\n",
      "portfolio value: 212.88246555807805\n",
      "Fitting 10 folds for each of 3 candidates, totalling 30 fits\n",
      "portfolio value: 212.88246555807805\n",
      "Fitting 10 folds for each of 3 candidates, totalling 30 fits\n"
     ]
    },
    {
     "name": "stderr",
     "output_type": "stream",
     "text": [
      "[Parallel(n_jobs=6)]: Done  30 out of  30 | elapsed:    0.0s finished\n",
      "[Parallel(n_jobs=6)]: Using backend LokyBackend with 6 concurrent workers.\n",
      "[Parallel(n_jobs=6)]: Done  30 out of  30 | elapsed:    0.0s finished\n",
      "[Parallel(n_jobs=6)]: Using backend LokyBackend with 6 concurrent workers.\n"
     ]
    },
    {
     "name": "stdout",
     "output_type": "stream",
     "text": [
      "G A I N! 1.0038356349679378\n",
      "portfolio value: 213.69900498703345\n",
      "Fitting 10 folds for each of 3 candidates, totalling 30 fits\n",
      "LOSS! 0.9963792090365983\n",
      "portfolio value: 212.92524556088844\n",
      "Fitting 10 folds for each of 3 candidates, totalling 30 fits\n"
     ]
    },
    {
     "name": "stderr",
     "output_type": "stream",
     "text": [
      "[Parallel(n_jobs=6)]: Done  30 out of  30 | elapsed:    0.0s finished\n",
      "[Parallel(n_jobs=6)]: Using backend LokyBackend with 6 concurrent workers.\n",
      "[Parallel(n_jobs=6)]: Done  30 out of  30 | elapsed:    0.0s finished\n",
      "[Parallel(n_jobs=6)]: Using backend LokyBackend with 6 concurrent workers.\n"
     ]
    },
    {
     "name": "stdout",
     "output_type": "stream",
     "text": [
      "G A I N! 1.000488244088642\n",
      "portfolio value: 213.0292050533562\n",
      "Fitting 10 folds for each of 3 candidates, totalling 30 fits\n",
      "portfolio value: 213.0292050533562\n",
      "Fitting 10 folds for each of 3 candidates, totalling 30 fits\n"
     ]
    },
    {
     "name": "stderr",
     "output_type": "stream",
     "text": [
      "[Parallel(n_jobs=6)]: Done  30 out of  30 | elapsed:    0.0s finished\n",
      "[Parallel(n_jobs=6)]: Using backend LokyBackend with 6 concurrent workers.\n",
      "[Parallel(n_jobs=6)]: Done  30 out of  30 | elapsed:    0.0s finished\n",
      "[Parallel(n_jobs=6)]: Using backend LokyBackend with 6 concurrent workers.\n"
     ]
    },
    {
     "name": "stdout",
     "output_type": "stream",
     "text": [
      "LOSS! 0.9934994498856212\n",
      "portfolio value: 211.6443980300806\n",
      "Fitting 10 folds for each of 3 candidates, totalling 30 fits\n",
      "portfolio value: 211.6443980300806\n",
      "Fitting 10 folds for each of 3 candidates, totalling 30 fits\n"
     ]
    },
    {
     "name": "stderr",
     "output_type": "stream",
     "text": [
      "[Parallel(n_jobs=6)]: Done  30 out of  30 | elapsed:    0.0s finished\n",
      "[Parallel(n_jobs=6)]: Using backend LokyBackend with 6 concurrent workers.\n",
      "[Parallel(n_jobs=6)]: Done  30 out of  30 | elapsed:    0.0s finished\n",
      "[Parallel(n_jobs=6)]: Using backend LokyBackend with 6 concurrent workers.\n"
     ]
    },
    {
     "name": "stdout",
     "output_type": "stream",
     "text": [
      "G A I N! 1.0008585168499806\n",
      "portfolio value: 211.82609831199343\n",
      "Fitting 10 folds for each of 3 candidates, totalling 30 fits\n",
      "G A I N! 1.003036853640908\n",
      "portfolio value: 212.46938316989156\n",
      "Fitting 10 folds for each of 3 candidates, totalling 30 fits\n"
     ]
    },
    {
     "name": "stderr",
     "output_type": "stream",
     "text": [
      "[Parallel(n_jobs=6)]: Done  30 out of  30 | elapsed:    0.0s finished\n",
      "[Parallel(n_jobs=6)]: Using backend LokyBackend with 6 concurrent workers.\n",
      "[Parallel(n_jobs=6)]: Done  30 out of  30 | elapsed:    0.0s finished\n",
      "[Parallel(n_jobs=6)]: Using backend LokyBackend with 6 concurrent workers.\n"
     ]
    },
    {
     "name": "stdout",
     "output_type": "stream",
     "text": [
      "portfolio value: 212.46938316989156\n",
      "Fitting 10 folds for each of 3 candidates, totalling 30 fits\n",
      "portfolio value: 212.46938316989156\n",
      "Fitting 10 folds for each of 3 candidates, totalling 30 fits\n"
     ]
    },
    {
     "name": "stderr",
     "output_type": "stream",
     "text": [
      "[Parallel(n_jobs=6)]: Done  30 out of  30 | elapsed:    0.0s finished\n",
      "[Parallel(n_jobs=6)]: Using backend LokyBackend with 6 concurrent workers.\n",
      "[Parallel(n_jobs=6)]: Done  30 out of  30 | elapsed:    0.0s finished\n",
      "[Parallel(n_jobs=6)]: Using backend LokyBackend with 6 concurrent workers.\n"
     ]
    },
    {
     "name": "stdout",
     "output_type": "stream",
     "text": [
      "G A I N! 1.0160300714098067\n",
      "portfolio value: 215.87528255450252\n",
      "Fitting 10 folds for each of 3 candidates, totalling 30 fits\n",
      "G A I N! 1.0056607392141264\n",
      "portfolio value: 217.0972962318194\n",
      "Fitting 10 folds for each of 3 candidates, totalling 30 fits\n"
     ]
    },
    {
     "name": "stderr",
     "output_type": "stream",
     "text": [
      "[Parallel(n_jobs=6)]: Done  30 out of  30 | elapsed:    0.0s finished\n",
      "[Parallel(n_jobs=6)]: Using backend LokyBackend with 6 concurrent workers.\n",
      "[Parallel(n_jobs=6)]: Done  30 out of  30 | elapsed:    0.0s finished\n",
      "[Parallel(n_jobs=6)]: Using backend LokyBackend with 6 concurrent workers.\n"
     ]
    },
    {
     "name": "stdout",
     "output_type": "stream",
     "text": [
      "portfolio value: 217.0972962318194\n",
      "Fitting 10 folds for each of 3 candidates, totalling 30 fits\n",
      "G A I N! 1.014427186018474\n",
      "portfolio value: 220.2293993086636\n",
      "Fitting 10 folds for each of 3 candidates, totalling 30 fits\n"
     ]
    },
    {
     "name": "stderr",
     "output_type": "stream",
     "text": [
      "[Parallel(n_jobs=6)]: Done  30 out of  30 | elapsed:    0.0s finished\n",
      "[Parallel(n_jobs=6)]: Using backend LokyBackend with 6 concurrent workers.\n",
      "[Parallel(n_jobs=6)]: Done  30 out of  30 | elapsed:    0.0s finished\n",
      "[Parallel(n_jobs=6)]: Using backend LokyBackend with 6 concurrent workers.\n"
     ]
    },
    {
     "name": "stdout",
     "output_type": "stream",
     "text": [
      "portfolio value: 220.2293993086636\n",
      "Fitting 10 folds for each of 3 candidates, totalling 30 fits\n",
      "G A I N! 1.1096043820812165\n",
      "portfolio value: 244.36750653600717\n",
      "Fitting 10 folds for each of 3 candidates, totalling 30 fits\n"
     ]
    },
    {
     "name": "stderr",
     "output_type": "stream",
     "text": [
      "[Parallel(n_jobs=6)]: Done  30 out of  30 | elapsed:    0.0s finished\n",
      "[Parallel(n_jobs=6)]: Using backend LokyBackend with 6 concurrent workers.\n",
      "[Parallel(n_jobs=6)]: Done  30 out of  30 | elapsed:    0.0s finished\n",
      "[Parallel(n_jobs=6)]: Using backend LokyBackend with 6 concurrent workers.\n"
     ]
    },
    {
     "name": "stdout",
     "output_type": "stream",
     "text": [
      "portfolio value: 244.36750653600717\n",
      "Fitting 10 folds for each of 3 candidates, totalling 30 fits\n",
      "G A I N! 1.0171827594501375\n",
      "portfolio value: 248.5664146182453\n",
      "Fitting 10 folds for each of 3 candidates, totalling 30 fits\n"
     ]
    },
    {
     "name": "stderr",
     "output_type": "stream",
     "text": [
      "[Parallel(n_jobs=6)]: Done  30 out of  30 | elapsed:    0.0s finished\n",
      "[Parallel(n_jobs=6)]: Using backend LokyBackend with 6 concurrent workers.\n",
      "[Parallel(n_jobs=6)]: Done  30 out of  30 | elapsed:    0.0s finished\n",
      "[Parallel(n_jobs=6)]: Using backend LokyBackend with 6 concurrent workers.\n"
     ]
    },
    {
     "name": "stdout",
     "output_type": "stream",
     "text": [
      "G A I N! 1.0010253180716313\n",
      "portfolio value: 248.82127425515398\n",
      "Fitting 10 folds for each of 3 candidates, totalling 30 fits\n",
      "portfolio value: 248.82127425515398\n",
      "Fitting 10 folds for each of 3 candidates, totalling 30 fits\n"
     ]
    },
    {
     "name": "stderr",
     "output_type": "stream",
     "text": [
      "[Parallel(n_jobs=6)]: Done  30 out of  30 | elapsed:    0.0s finished\n",
      "[Parallel(n_jobs=6)]: Using backend LokyBackend with 6 concurrent workers.\n",
      "[Parallel(n_jobs=6)]: Done  30 out of  30 | elapsed:    0.0s finished\n",
      "[Parallel(n_jobs=6)]: Using backend LokyBackend with 6 concurrent workers.\n"
     ]
    },
    {
     "name": "stdout",
     "output_type": "stream",
     "text": [
      "portfolio value: 248.82127425515398\n",
      "Fitting 10 folds for each of 3 candidates, totalling 30 fits\n",
      "LOSS! 0.9400319326300404\n",
      "portfolio value: 233.8999433175417\n",
      "Fitting 10 folds for each of 3 candidates, totalling 30 fits\n"
     ]
    },
    {
     "name": "stderr",
     "output_type": "stream",
     "text": [
      "[Parallel(n_jobs=6)]: Done  30 out of  30 | elapsed:    0.0s finished\n",
      "[Parallel(n_jobs=6)]: Using backend LokyBackend with 6 concurrent workers.\n",
      "[Parallel(n_jobs=6)]: Done  30 out of  30 | elapsed:    0.0s finished\n",
      "[Parallel(n_jobs=6)]: Using backend LokyBackend with 6 concurrent workers.\n"
     ]
    },
    {
     "name": "stdout",
     "output_type": "stream",
     "text": [
      "G A I N! 1.0183433831596385\n",
      "portfolio value: 238.1904595988331\n",
      "Fitting 10 folds for each of 3 candidates, totalling 30 fits\n",
      "G A I N! 1.0484833799148676\n",
      "portfolio value: 249.73873814366024\n",
      "Fitting 10 folds for each of 3 candidates, totalling 30 fits\n"
     ]
    },
    {
     "name": "stderr",
     "output_type": "stream",
     "text": [
      "[Parallel(n_jobs=6)]: Done  30 out of  30 | elapsed:    0.0s finished\n",
      "[Parallel(n_jobs=6)]: Using backend LokyBackend with 6 concurrent workers.\n",
      "[Parallel(n_jobs=6)]: Done  30 out of  30 | elapsed:    0.0s finished\n",
      "[Parallel(n_jobs=6)]: Using backend LokyBackend with 6 concurrent workers.\n"
     ]
    },
    {
     "name": "stdout",
     "output_type": "stream",
     "text": [
      "G A I N! 1.0025449082386875\n",
      "portfolio value: 250.37430031588147\n",
      "Fitting 10 folds for each of 3 candidates, totalling 30 fits\n",
      "LOSS! 0.9849373067625922\n",
      "portfolio value: 246.60298903569273\n",
      "Fitting 10 folds for each of 3 candidates, totalling 30 fits\n",
      "G A I N! 1.0128822004898905\n",
      "portfolio value: 249.7797781818568\n",
      "Fitting 10 folds for each of 3 candidates, totalling 30 fits\n",
      "LOSS! 0.9947529836248726\n",
      "portfolio value: 248.46917959556092\n"
     ]
    },
    {
     "name": "stderr",
     "output_type": "stream",
     "text": [
      "[Parallel(n_jobs=6)]: Done  30 out of  30 | elapsed:    0.0s finished\n",
      "[Parallel(n_jobs=6)]: Using backend LokyBackend with 6 concurrent workers.\n",
      "[Parallel(n_jobs=6)]: Done  30 out of  30 | elapsed:    0.0s finished\n"
     ]
    }
   ],
   "source": [
    "portfolio_value = 100\n",
    "portfolio_value_history = []\n",
    "for i in range(0, len(btc) - LOOK_BACK_DAYS - LOOK_AHEAD_DAYS - 1):\n",
    "    portfolio_value_history.append(portfolio_value)\n",
    "    train_df = btc[i: i + LOOK_BACK_DAYS]\n",
    "    X_TRAIN = train_df.drop(['MonthTrend'], axis=1)\n",
    "    Y_TRAIN = le.fit_transform(train_df['MonthTrend'])\n",
    "    test_df = btc[i + LOOK_BACK_DAYS + LOOK_AHEAD_DAYS : i + LOOK_BACK_DAYS + LOOK_AHEAD_DAYS + 1]\n",
    "    X_TEST = test_df.drop(['MonthTrend'], axis=1)\n",
    "    results_df = btc[i + LOOK_BACK_DAYS + 2*LOOK_AHEAD_DAYS : i + LOOK_BACK_DAYS + 2*LOOK_AHEAD_DAYS + 1]\n",
    "    \n",
    "    model_regression = LogisticRegression()\n",
    "    param_grid = {'C': [1,2,4]}  #simplified the CV so it runs faster\n",
    "    regression_grid =  GridSearchCV(model_regression, param_grid, cv=TimeSeriesSplit(max_train_size=None, n_splits=10), verbose=1,n_jobs=6)\n",
    "    regression_grid.fit(X_TRAIN,Y_TRAIN)\n",
    "    model_regresssion= regression_grid.best_estimator_\n",
    "    \n",
    "    prediction = model_regresssion.predict(X_TEST)[0]\n",
    "    if prediction == 1:\n",
    "        gains = ((results_df['Close'] - results_df['Open']) / results_df['Open'])[0]\n",
    "        if gains > 0:\n",
    "            print(\"GAIN! \" + str(1 + gains))\n",
    "        elif gains < 0:\n",
    "            print(\"LOSS! \" + str(1 + gains))\n",
    "        portfolio_value = portfolio_value * (1 + gains)\n",
    "    print(\"portfolio value: \" + str(portfolio_value))"
   ]
  },
  {
   "cell_type": "code",
   "execution_count": 38,
   "metadata": {},
   "outputs": [
    {
     "data": {
      "text/plain": [
       "Text(0.5, 1.0, 'Trade Performance')"
      ]
     },
     "execution_count": 38,
     "metadata": {},
     "output_type": "execute_result"
    },
    {
     "data": {
      "image/png": "[encoded data removed]",
      "text/plain": [
       "<Figure size 432x288 with 1 Axes>"
      ]
     },
     "metadata": {
      "needs_background": "light"
     },
     "output_type": "display_data"
    }
   ],
   "source": [
    "plt.plot(range(0, len(portfolio_value_history)), portfolio_value_history)\n",
    "plt.xlabel('Days')\n",
    "plt.ylabel('Portfolio value ($)')\n",
    "plt.title(\"Trade Performance\")"
   ]
  },
  {
   "cell_type": "code",
   "execution_count": null,
   "metadata": {},
   "outputs": [],
   "source": []
  }
 ],
 "metadata": {
  "kernelspec": {
   "display_name": "Python 3",
   "language": "python",
   "name": "python3"
  },
  "language_info": {
   "codemirror_mode": {
    "name": "ipython",
    "version": 3
   },
   "file_extension": ".py",
   "mimetype": "text/x-python",
   "name": "python",
   "nbconvert_exporter": "python",
   "pygments_lexer": "ipython3",
   "version": "3.7.4"
  }
 },
 "nbformat": 4,
 "nbformat_minor": 4
}
