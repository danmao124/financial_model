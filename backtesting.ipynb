{
 "cells": [
  {
   "cell_type": "code",
   "execution_count": 98,
   "metadata": {},
   "outputs": [],
   "source": [
    "#from google.colab import drive\n",
    "#drive.mount('/content/drive')"
   ]
  },
  {
   "cell_type": "code",
   "execution_count": 99,
   "metadata": {},
   "outputs": [
    {
     "data": {
      "text/html": [
       "<div>\n",
       "<style scoped>\n",
       "    .dataframe tbody tr th:only-of-type {\n",
       "        vertical-align: middle;\n",
       "    }\n",
       "\n",
       "    .dataframe tbody tr th {\n",
       "        vertical-align: top;\n",
       "    }\n",
       "\n",
       "    .dataframe thead th {\n",
       "        text-align: right;\n",
       "    }\n",
       "</style>\n",
       "<table border=\"1\" class=\"dataframe\">\n",
       "  <thead>\n",
       "    <tr style=\"text-align: right;\">\n",
       "      <th></th>\n",
       "      <th>High</th>\n",
       "      <th>Low</th>\n",
       "      <th>Open</th>\n",
       "      <th>Close</th>\n",
       "      <th>Volume</th>\n",
       "      <th>Adj Close</th>\n",
       "    </tr>\n",
       "    <tr>\n",
       "      <th>Date</th>\n",
       "      <th></th>\n",
       "      <th></th>\n",
       "      <th></th>\n",
       "      <th></th>\n",
       "      <th></th>\n",
       "      <th></th>\n",
       "    </tr>\n",
       "  </thead>\n",
       "  <tbody>\n",
       "    <tr>\n",
       "      <td>2019-08-09</td>\n",
       "      <td>11915.655273</td>\n",
       "      <td>11323.898438</td>\n",
       "      <td>11861.556641</td>\n",
       "      <td>11354.024414</td>\n",
       "      <td>1.812536e+10</td>\n",
       "      <td>11354.024414</td>\n",
       "    </tr>\n",
       "    <tr>\n",
       "      <td>2019-08-10</td>\n",
       "      <td>11523.579102</td>\n",
       "      <td>11248.294922</td>\n",
       "      <td>11349.740234</td>\n",
       "      <td>11523.579102</td>\n",
       "      <td>1.577437e+10</td>\n",
       "      <td>11523.579102</td>\n",
       "    </tr>\n",
       "    <tr>\n",
       "      <td>2019-08-11</td>\n",
       "      <td>11528.189453</td>\n",
       "      <td>11320.951172</td>\n",
       "      <td>11528.189453</td>\n",
       "      <td>11382.616211</td>\n",
       "      <td>1.364720e+10</td>\n",
       "      <td>11382.616211</td>\n",
       "    </tr>\n",
       "    <tr>\n",
       "      <td>2019-08-12</td>\n",
       "      <td>11420.049805</td>\n",
       "      <td>10830.327148</td>\n",
       "      <td>11385.052734</td>\n",
       "      <td>10895.830078</td>\n",
       "      <td>1.668150e+10</td>\n",
       "      <td>10895.830078</td>\n",
       "    </tr>\n",
       "    <tr>\n",
       "      <td>2019-08-13</td>\n",
       "      <td>10889.556641</td>\n",
       "      <td>10028.135742</td>\n",
       "      <td>10889.487305</td>\n",
       "      <td>10051.704102</td>\n",
       "      <td>1.999084e+10</td>\n",
       "      <td>10051.704102</td>\n",
       "    </tr>\n",
       "    <tr>\n",
       "      <td>...</td>\n",
       "      <td>...</td>\n",
       "      <td>...</td>\n",
       "      <td>...</td>\n",
       "      <td>...</td>\n",
       "      <td>...</td>\n",
       "      <td>...</td>\n",
       "    </tr>\n",
       "    <tr>\n",
       "      <td>2020-08-04</td>\n",
       "      <td>11786.617188</td>\n",
       "      <td>11158.285156</td>\n",
       "      <td>11203.823242</td>\n",
       "      <td>11747.022461</td>\n",
       "      <td>2.441125e+10</td>\n",
       "      <td>11747.022461</td>\n",
       "    </tr>\n",
       "    <tr>\n",
       "      <td>2020-08-05</td>\n",
       "      <td>11902.335938</td>\n",
       "      <td>11598.713867</td>\n",
       "      <td>11749.871094</td>\n",
       "      <td>11779.773438</td>\n",
       "      <td>2.340074e+10</td>\n",
       "      <td>11779.773438</td>\n",
       "    </tr>\n",
       "    <tr>\n",
       "      <td>2020-08-06</td>\n",
       "      <td>11898.038086</td>\n",
       "      <td>11408.593750</td>\n",
       "      <td>11778.894531</td>\n",
       "      <td>11601.472656</td>\n",
       "      <td>2.313231e+10</td>\n",
       "      <td>11601.472656</td>\n",
       "    </tr>\n",
       "    <tr>\n",
       "      <td>2020-08-07</td>\n",
       "      <td>11800.064453</td>\n",
       "      <td>11558.431641</td>\n",
       "      <td>11604.553711</td>\n",
       "      <td>11754.045898</td>\n",
       "      <td>1.757206e+10</td>\n",
       "      <td>11754.045898</td>\n",
       "    </tr>\n",
       "    <tr>\n",
       "      <td>2020-08-08</td>\n",
       "      <td>11806.056641</td>\n",
       "      <td>11548.784180</td>\n",
       "      <td>11737.325195</td>\n",
       "      <td>11675.739258</td>\n",
       "      <td>1.748961e+10</td>\n",
       "      <td>11675.739258</td>\n",
       "    </tr>\n",
       "  </tbody>\n",
       "</table>\n",
       "<p>365 rows × 6 columns</p>\n",
       "</div>"
      ],
      "text/plain": [
       "                    High           Low          Open         Close  \\\n",
       "Date                                                                 \n",
       "2019-08-09  11915.655273  11323.898438  11861.556641  11354.024414   \n",
       "2019-08-10  11523.579102  11248.294922  11349.740234  11523.579102   \n",
       "2019-08-11  11528.189453  11320.951172  11528.189453  11382.616211   \n",
       "2019-08-12  11420.049805  10830.327148  11385.052734  10895.830078   \n",
       "2019-08-13  10889.556641  10028.135742  10889.487305  10051.704102   \n",
       "...                  ...           ...           ...           ...   \n",
       "2020-08-04  11786.617188  11158.285156  11203.823242  11747.022461   \n",
       "2020-08-05  11902.335938  11598.713867  11749.871094  11779.773438   \n",
       "2020-08-06  11898.038086  11408.593750  11778.894531  11601.472656   \n",
       "2020-08-07  11800.064453  11558.431641  11604.553711  11754.045898   \n",
       "2020-08-08  11806.056641  11548.784180  11737.325195  11675.739258   \n",
       "\n",
       "                  Volume     Adj Close  \n",
       "Date                                    \n",
       "2019-08-09  1.812536e+10  11354.024414  \n",
       "2019-08-10  1.577437e+10  11523.579102  \n",
       "2019-08-11  1.364720e+10  11382.616211  \n",
       "2019-08-12  1.668150e+10  10895.830078  \n",
       "2019-08-13  1.999084e+10  10051.704102  \n",
       "...                  ...           ...  \n",
       "2020-08-04  2.441125e+10  11747.022461  \n",
       "2020-08-05  2.340074e+10  11779.773438  \n",
       "2020-08-06  2.313231e+10  11601.472656  \n",
       "2020-08-07  1.757206e+10  11754.045898  \n",
       "2020-08-08  1.748961e+10  11675.739258  \n",
       "\n",
       "[365 rows x 6 columns]"
      ]
     },
     "execution_count": 99,
     "metadata": {},
     "output_type": "execute_result"
    }
   ],
   "source": [
    "import pandas as pd\n",
    "from pandas_datareader import data\n",
    "from pandas_datareader._utils import RemoteDataError\n",
    "from datetime import timedelta\n",
    "import datetime\n",
    "\n",
    "# Please read, my idea was to classify the data into three cateogries: \"UP\", \"DOWN\", \"NEUTRAL\"\n",
    "# UP - the price of the stock is up MINIMUM_GAIN percent after LOOK_AHEAD_DAYS days.\n",
    "# DOWN - the price of the stock is down MINIMUM_GAIN percent after LOOK_AHEAD_DAYS days.\n",
    "# NEUTRAL - the price of stock is did not rise or fall past the MINIMUM_GAIN threshhold\n",
    "#\n",
    "# EXAMPLE: LOOK_AHEAD_DAYS = 30, MINIMUM_GAIN = .05 (5%). If stock is up over 5% ore more after 30 days, \n",
    "# we mark it as 'UP'. If the stock is down 5% or more after 30 days, we mark it as 'DOWN'. If the stock\n",
    "# is neither up nor down 5%, then we mark it as 'NEUTRAL'\n",
    "\n",
    "# MINIMUM_GAIN = .05 #minimal gain to be considered up or down for classification, UNUSED NOW\n",
    "\n",
    "LOOK_BACK_DAYS = 30 #number of days into the past we would like to take into account\n",
    "LOOK_AHEAD_DAYS = 1 #number of days into the future we are trying to predict\n",
    "\n",
    "class Utilities:\n",
    "\n",
    "    @staticmethod\n",
    "    def getData(ticker, start_date, end_date):\n",
    "        try:\n",
    "            stock_data = data.DataReader(ticker,\n",
    "                                         'yahoo',\n",
    "                                         start_date,\n",
    "                                         end_date)\n",
    "            return stock_data\n",
    "        except RemoteDataError:\n",
    "            print('No data found for {t}'.format(t=ticker))\n",
    "#just get the btc price points from the past year\n",
    "start_date = datetime.datetime.now() - timedelta(365)\n",
    "end_date = datetime.datetime.now() - timedelta(1)\n",
    "btc_df = Utilities.getData('BTC-USD', str(start_date.strftime('%Y-%m-%d')), str(end_date.strftime('%Y-%m-%d')))\n",
    "btc_df"
   ]
  },
  {
   "cell_type": "code",
   "execution_count": 100,
   "metadata": {},
   "outputs": [
    {
     "data": {
      "text/html": [
       "<div>\n",
       "<style scoped>\n",
       "    .dataframe tbody tr th:only-of-type {\n",
       "        vertical-align: middle;\n",
       "    }\n",
       "\n",
       "    .dataframe tbody tr th {\n",
       "        vertical-align: top;\n",
       "    }\n",
       "\n",
       "    .dataframe thead th {\n",
       "        text-align: right;\n",
       "    }\n",
       "</style>\n",
       "<table border=\"1\" class=\"dataframe\">\n",
       "  <thead>\n",
       "    <tr style=\"text-align: right;\">\n",
       "      <th></th>\n",
       "      <th>High</th>\n",
       "      <th>Low</th>\n",
       "      <th>Open</th>\n",
       "      <th>Close</th>\n",
       "      <th>Volume</th>\n",
       "      <th>Adj Close</th>\n",
       "      <th>Adj Close_Past_1</th>\n",
       "      <th>Volume_Past_1</th>\n",
       "      <th>Close_Past_1</th>\n",
       "      <th>Open_Past_1</th>\n",
       "      <th>...</th>\n",
       "      <th>Close_Past_29</th>\n",
       "      <th>Open_Past_29</th>\n",
       "      <th>Low_Past_29</th>\n",
       "      <th>High_Past_29</th>\n",
       "      <th>Adj Close_Past_30</th>\n",
       "      <th>Volume_Past_30</th>\n",
       "      <th>Close_Past_30</th>\n",
       "      <th>Open_Past_30</th>\n",
       "      <th>Low_Past_30</th>\n",
       "      <th>High_Past_30</th>\n",
       "    </tr>\n",
       "    <tr>\n",
       "      <th>Date</th>\n",
       "      <th></th>\n",
       "      <th></th>\n",
       "      <th></th>\n",
       "      <th></th>\n",
       "      <th></th>\n",
       "      <th></th>\n",
       "      <th></th>\n",
       "      <th></th>\n",
       "      <th></th>\n",
       "      <th></th>\n",
       "      <th></th>\n",
       "      <th></th>\n",
       "      <th></th>\n",
       "      <th></th>\n",
       "      <th></th>\n",
       "      <th></th>\n",
       "      <th></th>\n",
       "      <th></th>\n",
       "      <th></th>\n",
       "      <th></th>\n",
       "      <th></th>\n",
       "    </tr>\n",
       "  </thead>\n",
       "  <tbody>\n",
       "    <tr>\n",
       "      <td>2019-09-09</td>\n",
       "      <td>10394.353516</td>\n",
       "      <td>10020.573242</td>\n",
       "      <td>10336.408203</td>\n",
       "      <td>10115.975586</td>\n",
       "      <td>1.490681e+10</td>\n",
       "      <td>10115.975586</td>\n",
       "      <td>10335</td>\n",
       "      <td>1.75959e+10</td>\n",
       "      <td>10335</td>\n",
       "      <td>10443.2</td>\n",
       "      <td>...</td>\n",
       "      <td>11382.6</td>\n",
       "      <td>11528.2</td>\n",
       "      <td>11321</td>\n",
       "      <td>11528.2</td>\n",
       "      <td>11523.6</td>\n",
       "      <td>1.57744e+10</td>\n",
       "      <td>11523.6</td>\n",
       "      <td>11349.7</td>\n",
       "      <td>11248.3</td>\n",
       "      <td>11523.6</td>\n",
       "    </tr>\n",
       "    <tr>\n",
       "      <td>2019-09-10</td>\n",
       "      <td>10215.948242</td>\n",
       "      <td>9980.776367</td>\n",
       "      <td>10123.035156</td>\n",
       "      <td>10178.372070</td>\n",
       "      <td>1.542806e+10</td>\n",
       "      <td>10178.372070</td>\n",
       "      <td>10116</td>\n",
       "      <td>1.49068e+10</td>\n",
       "      <td>10116</td>\n",
       "      <td>10336.4</td>\n",
       "      <td>...</td>\n",
       "      <td>10895.8</td>\n",
       "      <td>11385.1</td>\n",
       "      <td>10830.3</td>\n",
       "      <td>11420</td>\n",
       "      <td>11382.6</td>\n",
       "      <td>1.36472e+10</td>\n",
       "      <td>11382.6</td>\n",
       "      <td>11528.2</td>\n",
       "      <td>11321</td>\n",
       "      <td>11528.2</td>\n",
       "    </tr>\n",
       "    <tr>\n",
       "      <td>2019-09-11</td>\n",
       "      <td>10442.253906</td>\n",
       "      <td>10099.242188</td>\n",
       "      <td>10176.819336</td>\n",
       "      <td>10410.126953</td>\n",
       "      <td>1.532356e+10</td>\n",
       "      <td>10410.126953</td>\n",
       "      <td>10178.4</td>\n",
       "      <td>1.54281e+10</td>\n",
       "      <td>10178.4</td>\n",
       "      <td>10123</td>\n",
       "      <td>...</td>\n",
       "      <td>10051.7</td>\n",
       "      <td>10889.5</td>\n",
       "      <td>10028.1</td>\n",
       "      <td>10889.6</td>\n",
       "      <td>10895.8</td>\n",
       "      <td>1.66815e+10</td>\n",
       "      <td>10895.8</td>\n",
       "      <td>11385.1</td>\n",
       "      <td>10830.3</td>\n",
       "      <td>11420</td>\n",
       "    </tr>\n",
       "    <tr>\n",
       "      <td>2019-09-12</td>\n",
       "      <td>10441.489258</td>\n",
       "      <td>10226.596680</td>\n",
       "      <td>10415.362305</td>\n",
       "      <td>10360.546875</td>\n",
       "      <td>1.410986e+10</td>\n",
       "      <td>10360.546875</td>\n",
       "      <td>10410.1</td>\n",
       "      <td>1.53236e+10</td>\n",
       "      <td>10410.1</td>\n",
       "      <td>10176.8</td>\n",
       "      <td>...</td>\n",
       "      <td>10311.5</td>\n",
       "      <td>10038.4</td>\n",
       "      <td>9675.32</td>\n",
       "      <td>10437.4</td>\n",
       "      <td>10051.7</td>\n",
       "      <td>1.99908e+10</td>\n",
       "      <td>10051.7</td>\n",
       "      <td>10889.5</td>\n",
       "      <td>10028.1</td>\n",
       "      <td>10889.6</td>\n",
       "    </tr>\n",
       "    <tr>\n",
       "      <td>2019-09-13</td>\n",
       "      <td>10422.133789</td>\n",
       "      <td>10291.694336</td>\n",
       "      <td>10345.403320</td>\n",
       "      <td>10358.048828</td>\n",
       "      <td>1.346871e+10</td>\n",
       "      <td>10358.048828</td>\n",
       "      <td>10360.5</td>\n",
       "      <td>1.41099e+10</td>\n",
       "      <td>10360.5</td>\n",
       "      <td>10415.4</td>\n",
       "      <td>...</td>\n",
       "      <td>10374.3</td>\n",
       "      <td>10319.4</td>\n",
       "      <td>9855.48</td>\n",
       "      <td>10524.3</td>\n",
       "      <td>10311.5</td>\n",
       "      <td>2.28991e+10</td>\n",
       "      <td>10311.5</td>\n",
       "      <td>10038.4</td>\n",
       "      <td>9675.32</td>\n",
       "      <td>10437.4</td>\n",
       "    </tr>\n",
       "    <tr>\n",
       "      <td>...</td>\n",
       "      <td>...</td>\n",
       "      <td>...</td>\n",
       "      <td>...</td>\n",
       "      <td>...</td>\n",
       "      <td>...</td>\n",
       "      <td>...</td>\n",
       "      <td>...</td>\n",
       "      <td>...</td>\n",
       "      <td>...</td>\n",
       "      <td>...</td>\n",
       "      <td>...</td>\n",
       "      <td>...</td>\n",
       "      <td>...</td>\n",
       "      <td>...</td>\n",
       "      <td>...</td>\n",
       "      <td>...</td>\n",
       "      <td>...</td>\n",
       "      <td>...</td>\n",
       "      <td>...</td>\n",
       "      <td>...</td>\n",
       "      <td>...</td>\n",
       "    </tr>\n",
       "    <tr>\n",
       "      <td>2020-08-04</td>\n",
       "      <td>11786.617188</td>\n",
       "      <td>11158.285156</td>\n",
       "      <td>11203.823242</td>\n",
       "      <td>11747.022461</td>\n",
       "      <td>2.441125e+10</td>\n",
       "      <td>11747.022461</td>\n",
       "      <td>11246.3</td>\n",
       "      <td>2.02717e+10</td>\n",
       "      <td>11246.3</td>\n",
       "      <td>11043.8</td>\n",
       "      <td>...</td>\n",
       "      <td>9252.28</td>\n",
       "      <td>9349.16</td>\n",
       "      <td>9201.82</td>\n",
       "      <td>9360.62</td>\n",
       "      <td>9375.47</td>\n",
       "      <td>1.78893e+10</td>\n",
       "      <td>9375.47</td>\n",
       "      <td>9072.85</td>\n",
       "      <td>9058.66</td>\n",
       "      <td>9375.47</td>\n",
       "    </tr>\n",
       "    <tr>\n",
       "      <td>2020-08-05</td>\n",
       "      <td>11902.335938</td>\n",
       "      <td>11598.713867</td>\n",
       "      <td>11749.871094</td>\n",
       "      <td>11779.773438</td>\n",
       "      <td>2.340074e+10</td>\n",
       "      <td>11779.773438</td>\n",
       "      <td>11747</td>\n",
       "      <td>2.44113e+10</td>\n",
       "      <td>11747</td>\n",
       "      <td>11203.8</td>\n",
       "      <td>...</td>\n",
       "      <td>9428.33</td>\n",
       "      <td>9253.02</td>\n",
       "      <td>9249.5</td>\n",
       "      <td>9450.34</td>\n",
       "      <td>9252.28</td>\n",
       "      <td>1.38397e+10</td>\n",
       "      <td>9252.28</td>\n",
       "      <td>9349.16</td>\n",
       "      <td>9201.82</td>\n",
       "      <td>9360.62</td>\n",
       "    </tr>\n",
       "    <tr>\n",
       "      <td>2020-08-06</td>\n",
       "      <td>11898.038086</td>\n",
       "      <td>11408.593750</td>\n",
       "      <td>11778.894531</td>\n",
       "      <td>11601.472656</td>\n",
       "      <td>2.313231e+10</td>\n",
       "      <td>11601.472656</td>\n",
       "      <td>11779.8</td>\n",
       "      <td>2.34007e+10</td>\n",
       "      <td>11779.8</td>\n",
       "      <td>11749.9</td>\n",
       "      <td>...</td>\n",
       "      <td>9277.97</td>\n",
       "      <td>9427.99</td>\n",
       "      <td>9235</td>\n",
       "      <td>9431.38</td>\n",
       "      <td>9428.33</td>\n",
       "      <td>1.97024e+10</td>\n",
       "      <td>9428.33</td>\n",
       "      <td>9253.02</td>\n",
       "      <td>9249.5</td>\n",
       "      <td>9450.34</td>\n",
       "    </tr>\n",
       "    <tr>\n",
       "      <td>2020-08-07</td>\n",
       "      <td>11800.064453</td>\n",
       "      <td>11558.431641</td>\n",
       "      <td>11604.553711</td>\n",
       "      <td>11754.045898</td>\n",
       "      <td>1.757206e+10</td>\n",
       "      <td>11754.045898</td>\n",
       "      <td>11601.5</td>\n",
       "      <td>2.31323e+10</td>\n",
       "      <td>11601.5</td>\n",
       "      <td>11778.9</td>\n",
       "      <td>...</td>\n",
       "      <td>9278.81</td>\n",
       "      <td>9273.36</td>\n",
       "      <td>9118</td>\n",
       "      <td>9287.47</td>\n",
       "      <td>9277.97</td>\n",
       "      <td>1.80007e+10</td>\n",
       "      <td>9277.97</td>\n",
       "      <td>9427.99</td>\n",
       "      <td>9235</td>\n",
       "      <td>9431.38</td>\n",
       "    </tr>\n",
       "    <tr>\n",
       "      <td>2020-08-08</td>\n",
       "      <td>11806.056641</td>\n",
       "      <td>11548.784180</td>\n",
       "      <td>11737.325195</td>\n",
       "      <td>11675.739258</td>\n",
       "      <td>1.748961e+10</td>\n",
       "      <td>11675.739258</td>\n",
       "      <td>11754</td>\n",
       "      <td>1.75721e+10</td>\n",
       "      <td>11754</td>\n",
       "      <td>11604.6</td>\n",
       "      <td>...</td>\n",
       "      <td>9240.35</td>\n",
       "      <td>9277.51</td>\n",
       "      <td>9199.49</td>\n",
       "      <td>9293.53</td>\n",
       "      <td>9278.81</td>\n",
       "      <td>1.686e+10</td>\n",
       "      <td>9278.81</td>\n",
       "      <td>9273.36</td>\n",
       "      <td>9118</td>\n",
       "      <td>9287.47</td>\n",
       "    </tr>\n",
       "  </tbody>\n",
       "</table>\n",
       "<p>333 rows × 186 columns</p>\n",
       "</div>"
      ],
      "text/plain": [
       "                    High           Low          Open         Close  \\\n",
       "Date                                                                 \n",
       "2019-09-09  10394.353516  10020.573242  10336.408203  10115.975586   \n",
       "2019-09-10  10215.948242   9980.776367  10123.035156  10178.372070   \n",
       "2019-09-11  10442.253906  10099.242188  10176.819336  10410.126953   \n",
       "2019-09-12  10441.489258  10226.596680  10415.362305  10360.546875   \n",
       "2019-09-13  10422.133789  10291.694336  10345.403320  10358.048828   \n",
       "...                  ...           ...           ...           ...   \n",
       "2020-08-04  11786.617188  11158.285156  11203.823242  11747.022461   \n",
       "2020-08-05  11902.335938  11598.713867  11749.871094  11779.773438   \n",
       "2020-08-06  11898.038086  11408.593750  11778.894531  11601.472656   \n",
       "2020-08-07  11800.064453  11558.431641  11604.553711  11754.045898   \n",
       "2020-08-08  11806.056641  11548.784180  11737.325195  11675.739258   \n",
       "\n",
       "                  Volume     Adj Close Adj Close_Past_1 Volume_Past_1  \\\n",
       "Date                                                                    \n",
       "2019-09-09  1.490681e+10  10115.975586            10335   1.75959e+10   \n",
       "2019-09-10  1.542806e+10  10178.372070            10116   1.49068e+10   \n",
       "2019-09-11  1.532356e+10  10410.126953          10178.4   1.54281e+10   \n",
       "2019-09-12  1.410986e+10  10360.546875          10410.1   1.53236e+10   \n",
       "2019-09-13  1.346871e+10  10358.048828          10360.5   1.41099e+10   \n",
       "...                  ...           ...              ...           ...   \n",
       "2020-08-04  2.441125e+10  11747.022461          11246.3   2.02717e+10   \n",
       "2020-08-05  2.340074e+10  11779.773438            11747   2.44113e+10   \n",
       "2020-08-06  2.313231e+10  11601.472656          11779.8   2.34007e+10   \n",
       "2020-08-07  1.757206e+10  11754.045898          11601.5   2.31323e+10   \n",
       "2020-08-08  1.748961e+10  11675.739258            11754   1.75721e+10   \n",
       "\n",
       "           Close_Past_1 Open_Past_1  ... Close_Past_29 Open_Past_29  \\\n",
       "Date                                 ...                              \n",
       "2019-09-09        10335     10443.2  ...       11382.6      11528.2   \n",
       "2019-09-10        10116     10336.4  ...       10895.8      11385.1   \n",
       "2019-09-11      10178.4       10123  ...       10051.7      10889.5   \n",
       "2019-09-12      10410.1     10176.8  ...       10311.5      10038.4   \n",
       "2019-09-13      10360.5     10415.4  ...       10374.3      10319.4   \n",
       "...                 ...         ...  ...           ...          ...   \n",
       "2020-08-04      11246.3     11043.8  ...       9252.28      9349.16   \n",
       "2020-08-05        11747     11203.8  ...       9428.33      9253.02   \n",
       "2020-08-06      11779.8     11749.9  ...       9277.97      9427.99   \n",
       "2020-08-07      11601.5     11778.9  ...       9278.81      9273.36   \n",
       "2020-08-08        11754     11604.6  ...       9240.35      9277.51   \n",
       "\n",
       "           Low_Past_29 High_Past_29 Adj Close_Past_30 Volume_Past_30  \\\n",
       "Date                                                                   \n",
       "2019-09-09       11321      11528.2           11523.6    1.57744e+10   \n",
       "2019-09-10     10830.3        11420           11382.6    1.36472e+10   \n",
       "2019-09-11     10028.1      10889.6           10895.8    1.66815e+10   \n",
       "2019-09-12     9675.32      10437.4           10051.7    1.99908e+10   \n",
       "2019-09-13     9855.48      10524.3           10311.5    2.28991e+10   \n",
       "...                ...          ...               ...            ...   \n",
       "2020-08-04     9201.82      9360.62           9375.47    1.78893e+10   \n",
       "2020-08-05      9249.5      9450.34           9252.28    1.38397e+10   \n",
       "2020-08-06        9235      9431.38           9428.33    1.97024e+10   \n",
       "2020-08-07        9118      9287.47           9277.97    1.80007e+10   \n",
       "2020-08-08     9199.49      9293.53           9278.81      1.686e+10   \n",
       "\n",
       "           Close_Past_30 Open_Past_30 Low_Past_30 High_Past_30  \n",
       "Date                                                            \n",
       "2019-09-09       11523.6      11349.7     11248.3      11523.6  \n",
       "2019-09-10       11382.6      11528.2       11321      11528.2  \n",
       "2019-09-11       10895.8      11385.1     10830.3        11420  \n",
       "2019-09-12       10051.7      10889.5     10028.1      10889.6  \n",
       "2019-09-13       10311.5      10038.4     9675.32      10437.4  \n",
       "...                  ...          ...         ...          ...  \n",
       "2020-08-04       9375.47      9072.85     9058.66      9375.47  \n",
       "2020-08-05       9252.28      9349.16     9201.82      9360.62  \n",
       "2020-08-06       9428.33      9253.02      9249.5      9450.34  \n",
       "2020-08-07       9277.97      9427.99        9235      9431.38  \n",
       "2020-08-08       9278.81      9273.36        9118      9287.47  \n",
       "\n",
       "[333 rows x 186 columns]"
      ]
     },
     "execution_count": 100,
     "metadata": {},
     "output_type": "execute_result"
    }
   ],
   "source": [
    "def createLookBackCols():\n",
    "    for i in range(LOOK_BACK_DAYS):\n",
    "        num_rows= btc_df.shape[0]\n",
    "        num_cols= btc_df.shape[1]\n",
    "        btc_df.insert(loc = num_cols, column = 'High_Past_' + str(i + 1), value = ['N/A'] * num_rows)\n",
    "        btc_df.insert(loc = num_cols, column = 'Low_Past_' + str(i + 1), value = ['N/A'] * num_rows)\n",
    "        btc_df.insert(loc = num_cols, column = 'Open_Past_' + str(i + 1), value = ['N/A'] * num_rows)\n",
    "        btc_df.insert(loc = num_cols, column = 'Close_Past_' + str(i + 1), value = ['N/A'] * num_rows)\n",
    "        btc_df.insert(loc = num_cols, column = 'Volume_Past_' + str(i + 1), value = ['N/A'] * num_rows)\n",
    "        btc_df.insert(loc = num_cols, column = 'Adj Close_Past_' + str(i + 1), value = ['N/A'] * num_rows)\n",
    "        \n",
    "createLookBackCols() #create additional look back columns\n",
    "btc_df = btc_df.loc[~btc_df.index.duplicated(keep='first')] #delete all duplicate indices\n",
    "\n",
    "for index, row in btc_df.iterrows():\n",
    "    current_date = index.to_pydatetime()\n",
    "    if (current_date - start_date).days >= LOOK_BACK_DAYS - 1:\n",
    "        for i in range(LOOK_BACK_DAYS):\n",
    "            index = i + 1\n",
    "            look_back_date = current_date - timedelta(days=index)\n",
    "            \n",
    "            while True: #we need to keep subtracting days to the look_back_date because there is no index for that day\n",
    "                if look_back_date in btc_df.index:\n",
    "                    break\n",
    "                look_back_date = look_back_date - timedelta(days=1)\n",
    "            \n",
    "            btc_df.at[pd.Timestamp(current_date), 'High_Past_' + str(index)] = btc_df.at[pd.Timestamp(look_back_date), 'High']\n",
    "            btc_df.at[pd.Timestamp(current_date), 'Low_Past_' + str(index)] = btc_df.at[pd.Timestamp(look_back_date), 'Low']\n",
    "            btc_df.at[pd.Timestamp(current_date), 'Open_Past_' + str(index)] = btc_df.at[pd.Timestamp(look_back_date), 'Open']\n",
    "            btc_df.at[pd.Timestamp(current_date), 'Close_Past_' + str(index)] = btc_df.at[pd.Timestamp(look_back_date), 'Close']\n",
    "            btc_df.at[pd.Timestamp(current_date), 'Volume_Past_' + str(index)] = btc_df.at[pd.Timestamp(look_back_date), 'Volume']\n",
    "            btc_df.at[pd.Timestamp(current_date), 'Adj Close_Past_' + str(index)] = btc_df.at[pd.Timestamp(look_back_date), 'Adj Close']\n",
    "\n",
    "btc_df = btc_df[btc_df.High_Past_1 != 'N/A']\n",
    "btc_df"
   ]
  },
  {
   "cell_type": "code",
   "execution_count": 101,
   "metadata": {},
   "outputs": [
    {
     "data": {
      "text/html": [
       "<div>\n",
       "<style scoped>\n",
       "    .dataframe tbody tr th:only-of-type {\n",
       "        vertical-align: middle;\n",
       "    }\n",
       "\n",
       "    .dataframe tbody tr th {\n",
       "        vertical-align: top;\n",
       "    }\n",
       "\n",
       "    .dataframe thead th {\n",
       "        text-align: right;\n",
       "    }\n",
       "</style>\n",
       "<table border=\"1\" class=\"dataframe\">\n",
       "  <thead>\n",
       "    <tr style=\"text-align: right;\">\n",
       "      <th></th>\n",
       "      <th>High</th>\n",
       "      <th>Low</th>\n",
       "      <th>Open</th>\n",
       "      <th>Close</th>\n",
       "      <th>Volume</th>\n",
       "      <th>Adj Close</th>\n",
       "      <th>Adj Close_Past_1</th>\n",
       "      <th>Volume_Past_1</th>\n",
       "      <th>Close_Past_1</th>\n",
       "      <th>Open_Past_1</th>\n",
       "      <th>...</th>\n",
       "      <th>Open_Past_29</th>\n",
       "      <th>Low_Past_29</th>\n",
       "      <th>High_Past_29</th>\n",
       "      <th>Adj Close_Past_30</th>\n",
       "      <th>Volume_Past_30</th>\n",
       "      <th>Close_Past_30</th>\n",
       "      <th>Open_Past_30</th>\n",
       "      <th>Low_Past_30</th>\n",
       "      <th>High_Past_30</th>\n",
       "      <th>MonthTrend</th>\n",
       "    </tr>\n",
       "    <tr>\n",
       "      <th>Date</th>\n",
       "      <th></th>\n",
       "      <th></th>\n",
       "      <th></th>\n",
       "      <th></th>\n",
       "      <th></th>\n",
       "      <th></th>\n",
       "      <th></th>\n",
       "      <th></th>\n",
       "      <th></th>\n",
       "      <th></th>\n",
       "      <th></th>\n",
       "      <th></th>\n",
       "      <th></th>\n",
       "      <th></th>\n",
       "      <th></th>\n",
       "      <th></th>\n",
       "      <th></th>\n",
       "      <th></th>\n",
       "      <th></th>\n",
       "      <th></th>\n",
       "      <th></th>\n",
       "    </tr>\n",
       "  </thead>\n",
       "  <tbody>\n",
       "    <tr>\n",
       "      <td>2019-09-10</td>\n",
       "      <td>10215.948242</td>\n",
       "      <td>9980.776367</td>\n",
       "      <td>10123.035156</td>\n",
       "      <td>10178.372070</td>\n",
       "      <td>1.542806e+10</td>\n",
       "      <td>10178.372070</td>\n",
       "      <td>10116</td>\n",
       "      <td>1.49068e+10</td>\n",
       "      <td>10116</td>\n",
       "      <td>10336.4</td>\n",
       "      <td>...</td>\n",
       "      <td>11385.1</td>\n",
       "      <td>10830.3</td>\n",
       "      <td>11420</td>\n",
       "      <td>11382.6</td>\n",
       "      <td>1.36472e+10</td>\n",
       "      <td>11382.6</td>\n",
       "      <td>11528.2</td>\n",
       "      <td>11321</td>\n",
       "      <td>11528.2</td>\n",
       "      <td>DOWN</td>\n",
       "    </tr>\n",
       "    <tr>\n",
       "      <td>2019-09-11</td>\n",
       "      <td>10442.253906</td>\n",
       "      <td>10099.242188</td>\n",
       "      <td>10176.819336</td>\n",
       "      <td>10410.126953</td>\n",
       "      <td>1.532356e+10</td>\n",
       "      <td>10410.126953</td>\n",
       "      <td>10178.4</td>\n",
       "      <td>1.54281e+10</td>\n",
       "      <td>10178.4</td>\n",
       "      <td>10123</td>\n",
       "      <td>...</td>\n",
       "      <td>10889.5</td>\n",
       "      <td>10028.1</td>\n",
       "      <td>10889.6</td>\n",
       "      <td>10895.8</td>\n",
       "      <td>1.66815e+10</td>\n",
       "      <td>10895.8</td>\n",
       "      <td>11385.1</td>\n",
       "      <td>10830.3</td>\n",
       "      <td>11420</td>\n",
       "      <td>UP</td>\n",
       "    </tr>\n",
       "    <tr>\n",
       "      <td>2019-09-12</td>\n",
       "      <td>10441.489258</td>\n",
       "      <td>10226.596680</td>\n",
       "      <td>10415.362305</td>\n",
       "      <td>10360.546875</td>\n",
       "      <td>1.410986e+10</td>\n",
       "      <td>10360.546875</td>\n",
       "      <td>10410.1</td>\n",
       "      <td>1.53236e+10</td>\n",
       "      <td>10410.1</td>\n",
       "      <td>10176.8</td>\n",
       "      <td>...</td>\n",
       "      <td>10038.4</td>\n",
       "      <td>9675.32</td>\n",
       "      <td>10437.4</td>\n",
       "      <td>10051.7</td>\n",
       "      <td>1.99908e+10</td>\n",
       "      <td>10051.7</td>\n",
       "      <td>10889.5</td>\n",
       "      <td>10028.1</td>\n",
       "      <td>10889.6</td>\n",
       "      <td>UP</td>\n",
       "    </tr>\n",
       "    <tr>\n",
       "      <td>2019-09-13</td>\n",
       "      <td>10422.133789</td>\n",
       "      <td>10291.694336</td>\n",
       "      <td>10345.403320</td>\n",
       "      <td>10358.048828</td>\n",
       "      <td>1.346871e+10</td>\n",
       "      <td>10358.048828</td>\n",
       "      <td>10360.5</td>\n",
       "      <td>1.41099e+10</td>\n",
       "      <td>10360.5</td>\n",
       "      <td>10415.4</td>\n",
       "      <td>...</td>\n",
       "      <td>10319.4</td>\n",
       "      <td>9855.48</td>\n",
       "      <td>10524.3</td>\n",
       "      <td>10311.5</td>\n",
       "      <td>2.28991e+10</td>\n",
       "      <td>10311.5</td>\n",
       "      <td>10038.4</td>\n",
       "      <td>9675.32</td>\n",
       "      <td>10437.4</td>\n",
       "      <td>DOWN</td>\n",
       "    </tr>\n",
       "    <tr>\n",
       "      <td>2019-09-14</td>\n",
       "      <td>10387.035156</td>\n",
       "      <td>10313.092773</td>\n",
       "      <td>10356.465820</td>\n",
       "      <td>10347.712891</td>\n",
       "      <td>1.204343e+10</td>\n",
       "      <td>10347.712891</td>\n",
       "      <td>10358</td>\n",
       "      <td>1.34687e+10</td>\n",
       "      <td>10358</td>\n",
       "      <td>10345.4</td>\n",
       "      <td>...</td>\n",
       "      <td>10358.7</td>\n",
       "      <td>10086.7</td>\n",
       "      <td>10452.6</td>\n",
       "      <td>10374.3</td>\n",
       "      <td>2.02282e+10</td>\n",
       "      <td>10374.3</td>\n",
       "      <td>10319.4</td>\n",
       "      <td>9855.48</td>\n",
       "      <td>10524.3</td>\n",
       "      <td>UP</td>\n",
       "    </tr>\n",
       "    <tr>\n",
       "      <td>...</td>\n",
       "      <td>...</td>\n",
       "      <td>...</td>\n",
       "      <td>...</td>\n",
       "      <td>...</td>\n",
       "      <td>...</td>\n",
       "      <td>...</td>\n",
       "      <td>...</td>\n",
       "      <td>...</td>\n",
       "      <td>...</td>\n",
       "      <td>...</td>\n",
       "      <td>...</td>\n",
       "      <td>...</td>\n",
       "      <td>...</td>\n",
       "      <td>...</td>\n",
       "      <td>...</td>\n",
       "      <td>...</td>\n",
       "      <td>...</td>\n",
       "      <td>...</td>\n",
       "      <td>...</td>\n",
       "      <td>...</td>\n",
       "      <td>...</td>\n",
       "    </tr>\n",
       "    <tr>\n",
       "      <td>2020-08-02</td>\n",
       "      <td>11453.079102</td>\n",
       "      <td>11012.415039</td>\n",
       "      <td>11043.768555</td>\n",
       "      <td>11246.348633</td>\n",
       "      <td>2.027171e+10</td>\n",
       "      <td>11246.348633</td>\n",
       "      <td>11053.6</td>\n",
       "      <td>2.74101e+10</td>\n",
       "      <td>11053.6</td>\n",
       "      <td>11758.8</td>\n",
       "      <td>...</td>\n",
       "      <td>9126.09</td>\n",
       "      <td>8977.02</td>\n",
       "      <td>9162.18</td>\n",
       "      <td>9132.49</td>\n",
       "      <td>1.22905e+10</td>\n",
       "      <td>9132.49</td>\n",
       "      <td>9084.23</td>\n",
       "      <td>9053.63</td>\n",
       "      <td>9183.3</td>\n",
       "      <td>DOWN</td>\n",
       "    </tr>\n",
       "    <tr>\n",
       "      <td>2020-08-04</td>\n",
       "      <td>11786.617188</td>\n",
       "      <td>11158.285156</td>\n",
       "      <td>11203.823242</td>\n",
       "      <td>11747.022461</td>\n",
       "      <td>2.441125e+10</td>\n",
       "      <td>11747.022461</td>\n",
       "      <td>11246.3</td>\n",
       "      <td>2.02717e+10</td>\n",
       "      <td>11246.3</td>\n",
       "      <td>11043.8</td>\n",
       "      <td>...</td>\n",
       "      <td>9349.16</td>\n",
       "      <td>9201.82</td>\n",
       "      <td>9360.62</td>\n",
       "      <td>9375.47</td>\n",
       "      <td>1.78893e+10</td>\n",
       "      <td>9375.47</td>\n",
       "      <td>9072.85</td>\n",
       "      <td>9058.66</td>\n",
       "      <td>9375.47</td>\n",
       "      <td>UP</td>\n",
       "    </tr>\n",
       "    <tr>\n",
       "      <td>2020-08-05</td>\n",
       "      <td>11902.335938</td>\n",
       "      <td>11598.713867</td>\n",
       "      <td>11749.871094</td>\n",
       "      <td>11779.773438</td>\n",
       "      <td>2.340074e+10</td>\n",
       "      <td>11779.773438</td>\n",
       "      <td>11747</td>\n",
       "      <td>2.44113e+10</td>\n",
       "      <td>11747</td>\n",
       "      <td>11203.8</td>\n",
       "      <td>...</td>\n",
       "      <td>9253.02</td>\n",
       "      <td>9249.5</td>\n",
       "      <td>9450.34</td>\n",
       "      <td>9252.28</td>\n",
       "      <td>1.38397e+10</td>\n",
       "      <td>9252.28</td>\n",
       "      <td>9349.16</td>\n",
       "      <td>9201.82</td>\n",
       "      <td>9360.62</td>\n",
       "      <td>UP</td>\n",
       "    </tr>\n",
       "    <tr>\n",
       "      <td>2020-08-06</td>\n",
       "      <td>11898.038086</td>\n",
       "      <td>11408.593750</td>\n",
       "      <td>11778.894531</td>\n",
       "      <td>11601.472656</td>\n",
       "      <td>2.313231e+10</td>\n",
       "      <td>11601.472656</td>\n",
       "      <td>11779.8</td>\n",
       "      <td>2.34007e+10</td>\n",
       "      <td>11779.8</td>\n",
       "      <td>11749.9</td>\n",
       "      <td>...</td>\n",
       "      <td>9427.99</td>\n",
       "      <td>9235</td>\n",
       "      <td>9431.38</td>\n",
       "      <td>9428.33</td>\n",
       "      <td>1.97024e+10</td>\n",
       "      <td>9428.33</td>\n",
       "      <td>9253.02</td>\n",
       "      <td>9249.5</td>\n",
       "      <td>9450.34</td>\n",
       "      <td>UP</td>\n",
       "    </tr>\n",
       "    <tr>\n",
       "      <td>2020-08-07</td>\n",
       "      <td>11800.064453</td>\n",
       "      <td>11558.431641</td>\n",
       "      <td>11604.553711</td>\n",
       "      <td>11754.045898</td>\n",
       "      <td>1.757206e+10</td>\n",
       "      <td>11754.045898</td>\n",
       "      <td>11601.5</td>\n",
       "      <td>2.31323e+10</td>\n",
       "      <td>11601.5</td>\n",
       "      <td>11778.9</td>\n",
       "      <td>...</td>\n",
       "      <td>9273.36</td>\n",
       "      <td>9118</td>\n",
       "      <td>9287.47</td>\n",
       "      <td>9277.97</td>\n",
       "      <td>1.80007e+10</td>\n",
       "      <td>9277.97</td>\n",
       "      <td>9427.99</td>\n",
       "      <td>9235</td>\n",
       "      <td>9431.38</td>\n",
       "      <td>DOWN</td>\n",
       "    </tr>\n",
       "  </tbody>\n",
       "</table>\n",
       "<p>331 rows × 187 columns</p>\n",
       "</div>"
      ],
      "text/plain": [
       "                    High           Low          Open         Close  \\\n",
       "Date                                                                 \n",
       "2019-09-10  10215.948242   9980.776367  10123.035156  10178.372070   \n",
       "2019-09-11  10442.253906  10099.242188  10176.819336  10410.126953   \n",
       "2019-09-12  10441.489258  10226.596680  10415.362305  10360.546875   \n",
       "2019-09-13  10422.133789  10291.694336  10345.403320  10358.048828   \n",
       "2019-09-14  10387.035156  10313.092773  10356.465820  10347.712891   \n",
       "...                  ...           ...           ...           ...   \n",
       "2020-08-02  11453.079102  11012.415039  11043.768555  11246.348633   \n",
       "2020-08-04  11786.617188  11158.285156  11203.823242  11747.022461   \n",
       "2020-08-05  11902.335938  11598.713867  11749.871094  11779.773438   \n",
       "2020-08-06  11898.038086  11408.593750  11778.894531  11601.472656   \n",
       "2020-08-07  11800.064453  11558.431641  11604.553711  11754.045898   \n",
       "\n",
       "                  Volume     Adj Close Adj Close_Past_1 Volume_Past_1  \\\n",
       "Date                                                                    \n",
       "2019-09-10  1.542806e+10  10178.372070            10116   1.49068e+10   \n",
       "2019-09-11  1.532356e+10  10410.126953          10178.4   1.54281e+10   \n",
       "2019-09-12  1.410986e+10  10360.546875          10410.1   1.53236e+10   \n",
       "2019-09-13  1.346871e+10  10358.048828          10360.5   1.41099e+10   \n",
       "2019-09-14  1.204343e+10  10347.712891            10358   1.34687e+10   \n",
       "...                  ...           ...              ...           ...   \n",
       "2020-08-02  2.027171e+10  11246.348633          11053.6   2.74101e+10   \n",
       "2020-08-04  2.441125e+10  11747.022461          11246.3   2.02717e+10   \n",
       "2020-08-05  2.340074e+10  11779.773438            11747   2.44113e+10   \n",
       "2020-08-06  2.313231e+10  11601.472656          11779.8   2.34007e+10   \n",
       "2020-08-07  1.757206e+10  11754.045898          11601.5   2.31323e+10   \n",
       "\n",
       "           Close_Past_1 Open_Past_1  ... Open_Past_29 Low_Past_29  \\\n",
       "Date                                 ...                            \n",
       "2019-09-10        10116     10336.4  ...      11385.1     10830.3   \n",
       "2019-09-11      10178.4       10123  ...      10889.5     10028.1   \n",
       "2019-09-12      10410.1     10176.8  ...      10038.4     9675.32   \n",
       "2019-09-13      10360.5     10415.4  ...      10319.4     9855.48   \n",
       "2019-09-14        10358     10345.4  ...      10358.7     10086.7   \n",
       "...                 ...         ...  ...          ...         ...   \n",
       "2020-08-02      11053.6     11758.8  ...      9126.09     8977.02   \n",
       "2020-08-04      11246.3     11043.8  ...      9349.16     9201.82   \n",
       "2020-08-05        11747     11203.8  ...      9253.02      9249.5   \n",
       "2020-08-06      11779.8     11749.9  ...      9427.99        9235   \n",
       "2020-08-07      11601.5     11778.9  ...      9273.36        9118   \n",
       "\n",
       "           High_Past_29 Adj Close_Past_30 Volume_Past_30 Close_Past_30  \\\n",
       "Date                                                                     \n",
       "2019-09-10        11420           11382.6    1.36472e+10       11382.6   \n",
       "2019-09-11      10889.6           10895.8    1.66815e+10       10895.8   \n",
       "2019-09-12      10437.4           10051.7    1.99908e+10       10051.7   \n",
       "2019-09-13      10524.3           10311.5    2.28991e+10       10311.5   \n",
       "2019-09-14      10452.6           10374.3    2.02282e+10       10374.3   \n",
       "...                 ...               ...            ...           ...   \n",
       "2020-08-02      9162.18           9132.49    1.22905e+10       9132.49   \n",
       "2020-08-04      9360.62           9375.47    1.78893e+10       9375.47   \n",
       "2020-08-05      9450.34           9252.28    1.38397e+10       9252.28   \n",
       "2020-08-06      9431.38           9428.33    1.97024e+10       9428.33   \n",
       "2020-08-07      9287.47           9277.97    1.80007e+10       9277.97   \n",
       "\n",
       "           Open_Past_30 Low_Past_30 High_Past_30 MonthTrend  \n",
       "Date                                                         \n",
       "2019-09-10      11528.2       11321      11528.2       DOWN  \n",
       "2019-09-11      11385.1     10830.3        11420         UP  \n",
       "2019-09-12      10889.5     10028.1      10889.6         UP  \n",
       "2019-09-13      10038.4     9675.32      10437.4       DOWN  \n",
       "2019-09-14      10319.4     9855.48      10524.3         UP  \n",
       "...                 ...         ...          ...        ...  \n",
       "2020-08-02      9084.23     9053.63       9183.3       DOWN  \n",
       "2020-08-04      9072.85     9058.66      9375.47         UP  \n",
       "2020-08-05      9349.16     9201.82      9360.62         UP  \n",
       "2020-08-06      9253.02      9249.5      9450.34         UP  \n",
       "2020-08-07      9427.99        9235      9431.38       DOWN  \n",
       "\n",
       "[331 rows x 187 columns]"
      ]
     },
     "execution_count": 101,
     "metadata": {},
     "output_type": "execute_result"
    }
   ],
   "source": [
    "btc_df = btc_df.assign(MonthTrend=lambda x: \"N/A\") #introduce new column that will be the trend we are predicting\n",
    "btc_df = btc_df.loc[~btc_df.index.duplicated(keep='first')] #delete all duplicate indices\n",
    "\n",
    "#Populate the classification column MonthTrend\n",
    "for index, row in btc_df.iterrows():\n",
    "    current_date = index.to_pydatetime()\n",
    "   \n",
    "    if (end_date - current_date).days > LOOK_AHEAD_DAYS:\n",
    "        look_ahead_date = current_date + timedelta(days=LOOK_AHEAD_DAYS)\n",
    "        \n",
    "        while True: #we need to keep adding days to the look_ahead_date because there is no index for that day\n",
    "            if look_ahead_date in btc_df.index:\n",
    "                break\n",
    "            look_ahead_date = look_ahead_date + timedelta(days=1)\n",
    "        \n",
    "        #Here we check if the open price in the future is higher than today's open price.\n",
    "        if btc_df.loc[pd.Timestamp(look_ahead_date)]['Open'] > btc_df.loc[index]['Open']:\n",
    "            btc_df.at[pd.Timestamp(look_ahead_date), 'MonthTrend'] = 'UP'\n",
    "        else:\n",
    "            btc_df.at[pd.Timestamp(look_ahead_date), 'MonthTrend'] = 'DOWN'\n",
    "            \n",
    "#Now delete all columns that have a MonthTrend value of N/A\n",
    "btc_df = btc_df[btc_df.MonthTrend != 'N/A']\n",
    "\n",
    "#Data is now fully processed and ready to be trained on the machine learning model\n",
    "#There are 3 values for MonthTrend: UP, DOWN,NEUTRAL\n",
    "btc_df"
   ]
  },
  {
   "cell_type": "code",
   "execution_count": 102,
   "metadata": {},
   "outputs": [
    {
     "data": {
      "text/html": [
       "<div>\n",
       "<style scoped>\n",
       "    .dataframe tbody tr th:only-of-type {\n",
       "        vertical-align: middle;\n",
       "    }\n",
       "\n",
       "    .dataframe tbody tr th {\n",
       "        vertical-align: top;\n",
       "    }\n",
       "\n",
       "    .dataframe thead th {\n",
       "        text-align: right;\n",
       "    }\n",
       "</style>\n",
       "<table border=\"1\" class=\"dataframe\">\n",
       "  <thead>\n",
       "    <tr style=\"text-align: right;\">\n",
       "      <th></th>\n",
       "      <th>Close</th>\n",
       "      <th>Close_Past_1</th>\n",
       "      <th>Close_Past_2</th>\n",
       "      <th>Close_Past_3</th>\n",
       "      <th>Close_Past_4</th>\n",
       "      <th>Close_Past_5</th>\n",
       "      <th>Close_Past_6</th>\n",
       "      <th>Close_Past_7</th>\n",
       "      <th>Close_Past_8</th>\n",
       "      <th>Close_Past_9</th>\n",
       "      <th>...</th>\n",
       "      <th>Open_Past_22</th>\n",
       "      <th>Open_Past_23</th>\n",
       "      <th>Open_Past_24</th>\n",
       "      <th>Open_Past_25</th>\n",
       "      <th>Open_Past_26</th>\n",
       "      <th>Open_Past_27</th>\n",
       "      <th>Open_Past_28</th>\n",
       "      <th>Open_Past_29</th>\n",
       "      <th>Open_Past_30</th>\n",
       "      <th>MonthTrend</th>\n",
       "    </tr>\n",
       "    <tr>\n",
       "      <th>Date</th>\n",
       "      <th></th>\n",
       "      <th></th>\n",
       "      <th></th>\n",
       "      <th></th>\n",
       "      <th></th>\n",
       "      <th></th>\n",
       "      <th></th>\n",
       "      <th></th>\n",
       "      <th></th>\n",
       "      <th></th>\n",
       "      <th></th>\n",
       "      <th></th>\n",
       "      <th></th>\n",
       "      <th></th>\n",
       "      <th></th>\n",
       "      <th></th>\n",
       "      <th></th>\n",
       "      <th></th>\n",
       "      <th></th>\n",
       "      <th></th>\n",
       "      <th></th>\n",
       "    </tr>\n",
       "  </thead>\n",
       "  <tbody>\n",
       "    <tr>\n",
       "      <td>2019-09-10</td>\n",
       "      <td>10178.372070</td>\n",
       "      <td>10116</td>\n",
       "      <td>10335</td>\n",
       "      <td>10441.3</td>\n",
       "      <td>10517.3</td>\n",
       "      <td>10353.3</td>\n",
       "      <td>10575.5</td>\n",
       "      <td>10594.5</td>\n",
       "      <td>10623.5</td>\n",
       "      <td>10346.8</td>\n",
       "      <td>...</td>\n",
       "      <td>10916.3</td>\n",
       "      <td>10350.3</td>\n",
       "      <td>10233</td>\n",
       "      <td>10358.7</td>\n",
       "      <td>10319.4</td>\n",
       "      <td>10038.4</td>\n",
       "      <td>10889.5</td>\n",
       "      <td>11385.1</td>\n",
       "      <td>11528.2</td>\n",
       "      <td>DOWN</td>\n",
       "    </tr>\n",
       "    <tr>\n",
       "      <td>2019-09-11</td>\n",
       "      <td>10410.126953</td>\n",
       "      <td>10178.4</td>\n",
       "      <td>10116</td>\n",
       "      <td>10335</td>\n",
       "      <td>10441.3</td>\n",
       "      <td>10517.3</td>\n",
       "      <td>10353.3</td>\n",
       "      <td>10575.5</td>\n",
       "      <td>10594.5</td>\n",
       "      <td>10623.5</td>\n",
       "      <td>...</td>\n",
       "      <td>10764.6</td>\n",
       "      <td>10916.3</td>\n",
       "      <td>10350.3</td>\n",
       "      <td>10233</td>\n",
       "      <td>10358.7</td>\n",
       "      <td>10319.4</td>\n",
       "      <td>10038.4</td>\n",
       "      <td>10889.5</td>\n",
       "      <td>11385.1</td>\n",
       "      <td>UP</td>\n",
       "    </tr>\n",
       "    <tr>\n",
       "      <td>2019-09-12</td>\n",
       "      <td>10360.546875</td>\n",
       "      <td>10410.1</td>\n",
       "      <td>10178.4</td>\n",
       "      <td>10116</td>\n",
       "      <td>10335</td>\n",
       "      <td>10441.3</td>\n",
       "      <td>10517.3</td>\n",
       "      <td>10353.3</td>\n",
       "      <td>10575.5</td>\n",
       "      <td>10594.5</td>\n",
       "      <td>...</td>\n",
       "      <td>10142.5</td>\n",
       "      <td>10764.6</td>\n",
       "      <td>10916.3</td>\n",
       "      <td>10350.3</td>\n",
       "      <td>10233</td>\n",
       "      <td>10358.7</td>\n",
       "      <td>10319.4</td>\n",
       "      <td>10038.4</td>\n",
       "      <td>10889.5</td>\n",
       "      <td>UP</td>\n",
       "    </tr>\n",
       "    <tr>\n",
       "      <td>2019-09-13</td>\n",
       "      <td>10358.048828</td>\n",
       "      <td>10360.5</td>\n",
       "      <td>10410.1</td>\n",
       "      <td>10178.4</td>\n",
       "      <td>10116</td>\n",
       "      <td>10335</td>\n",
       "      <td>10441.3</td>\n",
       "      <td>10517.3</td>\n",
       "      <td>10353.3</td>\n",
       "      <td>10575.5</td>\n",
       "      <td>...</td>\n",
       "      <td>10136.3</td>\n",
       "      <td>10142.5</td>\n",
       "      <td>10764.6</td>\n",
       "      <td>10916.3</td>\n",
       "      <td>10350.3</td>\n",
       "      <td>10233</td>\n",
       "      <td>10358.7</td>\n",
       "      <td>10319.4</td>\n",
       "      <td>10038.4</td>\n",
       "      <td>DOWN</td>\n",
       "    </tr>\n",
       "    <tr>\n",
       "      <td>2019-09-14</td>\n",
       "      <td>10347.712891</td>\n",
       "      <td>10358</td>\n",
       "      <td>10360.5</td>\n",
       "      <td>10410.1</td>\n",
       "      <td>10178.4</td>\n",
       "      <td>10116</td>\n",
       "      <td>10335</td>\n",
       "      <td>10441.3</td>\n",
       "      <td>10517.3</td>\n",
       "      <td>10353.3</td>\n",
       "      <td>...</td>\n",
       "      <td>10407.6</td>\n",
       "      <td>10136.3</td>\n",
       "      <td>10142.5</td>\n",
       "      <td>10764.6</td>\n",
       "      <td>10916.3</td>\n",
       "      <td>10350.3</td>\n",
       "      <td>10233</td>\n",
       "      <td>10358.7</td>\n",
       "      <td>10319.4</td>\n",
       "      <td>UP</td>\n",
       "    </tr>\n",
       "    <tr>\n",
       "      <td>...</td>\n",
       "      <td>...</td>\n",
       "      <td>...</td>\n",
       "      <td>...</td>\n",
       "      <td>...</td>\n",
       "      <td>...</td>\n",
       "      <td>...</td>\n",
       "      <td>...</td>\n",
       "      <td>...</td>\n",
       "      <td>...</td>\n",
       "      <td>...</td>\n",
       "      <td>...</td>\n",
       "      <td>...</td>\n",
       "      <td>...</td>\n",
       "      <td>...</td>\n",
       "      <td>...</td>\n",
       "      <td>...</td>\n",
       "      <td>...</td>\n",
       "      <td>...</td>\n",
       "      <td>...</td>\n",
       "      <td>...</td>\n",
       "      <td>...</td>\n",
       "    </tr>\n",
       "    <tr>\n",
       "      <td>2020-08-02</td>\n",
       "      <td>11246.348633</td>\n",
       "      <td>11053.6</td>\n",
       "      <td>11759.6</td>\n",
       "      <td>11323.5</td>\n",
       "      <td>11111.2</td>\n",
       "      <td>11100.5</td>\n",
       "      <td>10912.8</td>\n",
       "      <td>10990.9</td>\n",
       "      <td>9905.17</td>\n",
       "      <td>9677.11</td>\n",
       "      <td>...</td>\n",
       "      <td>9241.05</td>\n",
       "      <td>9277.51</td>\n",
       "      <td>9273.36</td>\n",
       "      <td>9427.99</td>\n",
       "      <td>9253.02</td>\n",
       "      <td>9349.16</td>\n",
       "      <td>9072.85</td>\n",
       "      <td>9126.09</td>\n",
       "      <td>9084.23</td>\n",
       "      <td>DOWN</td>\n",
       "    </tr>\n",
       "    <tr>\n",
       "      <td>2020-08-04</td>\n",
       "      <td>11747.022461</td>\n",
       "      <td>11246.3</td>\n",
       "      <td>11246.3</td>\n",
       "      <td>11053.6</td>\n",
       "      <td>11759.6</td>\n",
       "      <td>11323.5</td>\n",
       "      <td>11111.2</td>\n",
       "      <td>11100.5</td>\n",
       "      <td>10912.8</td>\n",
       "      <td>10990.9</td>\n",
       "      <td>...</td>\n",
       "      <td>9238.7</td>\n",
       "      <td>9277.21</td>\n",
       "      <td>9241.05</td>\n",
       "      <td>9277.51</td>\n",
       "      <td>9273.36</td>\n",
       "      <td>9427.99</td>\n",
       "      <td>9253.02</td>\n",
       "      <td>9349.16</td>\n",
       "      <td>9072.85</td>\n",
       "      <td>UP</td>\n",
       "    </tr>\n",
       "    <tr>\n",
       "      <td>2020-08-05</td>\n",
       "      <td>11779.773438</td>\n",
       "      <td>11747</td>\n",
       "      <td>11246.3</td>\n",
       "      <td>11246.3</td>\n",
       "      <td>11053.6</td>\n",
       "      <td>11759.6</td>\n",
       "      <td>11323.5</td>\n",
       "      <td>11111.2</td>\n",
       "      <td>11100.5</td>\n",
       "      <td>10912.8</td>\n",
       "      <td>...</td>\n",
       "      <td>9241.9</td>\n",
       "      <td>9238.7</td>\n",
       "      <td>9277.21</td>\n",
       "      <td>9241.05</td>\n",
       "      <td>9277.51</td>\n",
       "      <td>9273.36</td>\n",
       "      <td>9427.99</td>\n",
       "      <td>9253.02</td>\n",
       "      <td>9349.16</td>\n",
       "      <td>UP</td>\n",
       "    </tr>\n",
       "    <tr>\n",
       "      <td>2020-08-06</td>\n",
       "      <td>11601.472656</td>\n",
       "      <td>11779.8</td>\n",
       "      <td>11747</td>\n",
       "      <td>11246.3</td>\n",
       "      <td>11246.3</td>\n",
       "      <td>11053.6</td>\n",
       "      <td>11759.6</td>\n",
       "      <td>11323.5</td>\n",
       "      <td>11111.2</td>\n",
       "      <td>11100.5</td>\n",
       "      <td>...</td>\n",
       "      <td>9191.98</td>\n",
       "      <td>9241.9</td>\n",
       "      <td>9238.7</td>\n",
       "      <td>9277.21</td>\n",
       "      <td>9241.05</td>\n",
       "      <td>9277.51</td>\n",
       "      <td>9273.36</td>\n",
       "      <td>9427.99</td>\n",
       "      <td>9253.02</td>\n",
       "      <td>UP</td>\n",
       "    </tr>\n",
       "    <tr>\n",
       "      <td>2020-08-07</td>\n",
       "      <td>11754.045898</td>\n",
       "      <td>11601.5</td>\n",
       "      <td>11779.8</td>\n",
       "      <td>11747</td>\n",
       "      <td>11246.3</td>\n",
       "      <td>11246.3</td>\n",
       "      <td>11053.6</td>\n",
       "      <td>11759.6</td>\n",
       "      <td>11323.5</td>\n",
       "      <td>11111.2</td>\n",
       "      <td>...</td>\n",
       "      <td>9131.81</td>\n",
       "      <td>9191.98</td>\n",
       "      <td>9241.9</td>\n",
       "      <td>9238.7</td>\n",
       "      <td>9277.21</td>\n",
       "      <td>9241.05</td>\n",
       "      <td>9277.51</td>\n",
       "      <td>9273.36</td>\n",
       "      <td>9427.99</td>\n",
       "      <td>DOWN</td>\n",
       "    </tr>\n",
       "  </tbody>\n",
       "</table>\n",
       "<p>331 rows × 63 columns</p>\n",
       "</div>"
      ],
      "text/plain": [
       "                   Close Close_Past_1 Close_Past_2 Close_Past_3 Close_Past_4  \\\n",
       "Date                                                                           \n",
       "2019-09-10  10178.372070        10116        10335      10441.3      10517.3   \n",
       "2019-09-11  10410.126953      10178.4        10116        10335      10441.3   \n",
       "2019-09-12  10360.546875      10410.1      10178.4        10116        10335   \n",
       "2019-09-13  10358.048828      10360.5      10410.1      10178.4        10116   \n",
       "2019-09-14  10347.712891        10358      10360.5      10410.1      10178.4   \n",
       "...                  ...          ...          ...          ...          ...   \n",
       "2020-08-02  11246.348633      11053.6      11759.6      11323.5      11111.2   \n",
       "2020-08-04  11747.022461      11246.3      11246.3      11053.6      11759.6   \n",
       "2020-08-05  11779.773438        11747      11246.3      11246.3      11053.6   \n",
       "2020-08-06  11601.472656      11779.8        11747      11246.3      11246.3   \n",
       "2020-08-07  11754.045898      11601.5      11779.8        11747      11246.3   \n",
       "\n",
       "           Close_Past_5 Close_Past_6 Close_Past_7 Close_Past_8 Close_Past_9  \\\n",
       "Date                                                                          \n",
       "2019-09-10      10353.3      10575.5      10594.5      10623.5      10346.8   \n",
       "2019-09-11      10517.3      10353.3      10575.5      10594.5      10623.5   \n",
       "2019-09-12      10441.3      10517.3      10353.3      10575.5      10594.5   \n",
       "2019-09-13        10335      10441.3      10517.3      10353.3      10575.5   \n",
       "2019-09-14        10116        10335      10441.3      10517.3      10353.3   \n",
       "...                 ...          ...          ...          ...          ...   \n",
       "2020-08-02      11100.5      10912.8      10990.9      9905.17      9677.11   \n",
       "2020-08-04      11323.5      11111.2      11100.5      10912.8      10990.9   \n",
       "2020-08-05      11759.6      11323.5      11111.2      11100.5      10912.8   \n",
       "2020-08-06      11053.6      11759.6      11323.5      11111.2      11100.5   \n",
       "2020-08-07      11246.3      11053.6      11759.6      11323.5      11111.2   \n",
       "\n",
       "            ... Open_Past_22 Open_Past_23 Open_Past_24 Open_Past_25  \\\n",
       "Date        ...                                                       \n",
       "2019-09-10  ...      10916.3      10350.3        10233      10358.7   \n",
       "2019-09-11  ...      10764.6      10916.3      10350.3        10233   \n",
       "2019-09-12  ...      10142.5      10764.6      10916.3      10350.3   \n",
       "2019-09-13  ...      10136.3      10142.5      10764.6      10916.3   \n",
       "2019-09-14  ...      10407.6      10136.3      10142.5      10764.6   \n",
       "...         ...          ...          ...          ...          ...   \n",
       "2020-08-02  ...      9241.05      9277.51      9273.36      9427.99   \n",
       "2020-08-04  ...       9238.7      9277.21      9241.05      9277.51   \n",
       "2020-08-05  ...       9241.9       9238.7      9277.21      9241.05   \n",
       "2020-08-06  ...      9191.98       9241.9       9238.7      9277.21   \n",
       "2020-08-07  ...      9131.81      9191.98       9241.9       9238.7   \n",
       "\n",
       "           Open_Past_26 Open_Past_27 Open_Past_28 Open_Past_29 Open_Past_30  \\\n",
       "Date                                                                          \n",
       "2019-09-10      10319.4      10038.4      10889.5      11385.1      11528.2   \n",
       "2019-09-11      10358.7      10319.4      10038.4      10889.5      11385.1   \n",
       "2019-09-12        10233      10358.7      10319.4      10038.4      10889.5   \n",
       "2019-09-13      10350.3        10233      10358.7      10319.4      10038.4   \n",
       "2019-09-14      10916.3      10350.3        10233      10358.7      10319.4   \n",
       "...                 ...          ...          ...          ...          ...   \n",
       "2020-08-02      9253.02      9349.16      9072.85      9126.09      9084.23   \n",
       "2020-08-04      9273.36      9427.99      9253.02      9349.16      9072.85   \n",
       "2020-08-05      9277.51      9273.36      9427.99      9253.02      9349.16   \n",
       "2020-08-06      9241.05      9277.51      9273.36      9427.99      9253.02   \n",
       "2020-08-07      9277.21      9241.05      9277.51      9273.36      9427.99   \n",
       "\n",
       "           MonthTrend  \n",
       "Date                   \n",
       "2019-09-10       DOWN  \n",
       "2019-09-11         UP  \n",
       "2019-09-12         UP  \n",
       "2019-09-13       DOWN  \n",
       "2019-09-14         UP  \n",
       "...               ...  \n",
       "2020-08-02       DOWN  \n",
       "2020-08-04         UP  \n",
       "2020-08-05         UP  \n",
       "2020-08-06         UP  \n",
       "2020-08-07       DOWN  \n",
       "\n",
       "[331 rows x 63 columns]"
      ]
     },
     "execution_count": 102,
     "metadata": {},
     "output_type": "execute_result"
    }
   ],
   "source": [
    "def generateFeatures(features):\n",
    "    complete_features = []\n",
    "    for feature in features:\n",
    "        complete_features.append(feature)\n",
    "        for i in range(LOOK_BACK_DAYS):\n",
    "            complete_features.append(feature + \"_Past_\" + str(i + 1))\n",
    "    return complete_features\n",
    "\n",
    "features = generateFeatures(['Close','Open'])\n",
    "features.append('MonthTrend')\n",
    "\n",
    "# selecting the important feature open close\n",
    "btc = btc_df[features]\n",
    "btc"
   ]
  },
  {
   "cell_type": "code",
   "execution_count": 103,
   "metadata": {},
   "outputs": [
    {
     "data": {
      "text/html": [
       "<div>\n",
       "<style scoped>\n",
       "    .dataframe tbody tr th:only-of-type {\n",
       "        vertical-align: middle;\n",
       "    }\n",
       "\n",
       "    .dataframe tbody tr th {\n",
       "        vertical-align: top;\n",
       "    }\n",
       "\n",
       "    .dataframe thead th {\n",
       "        text-align: right;\n",
       "    }\n",
       "</style>\n",
       "<table border=\"1\" class=\"dataframe\">\n",
       "  <thead>\n",
       "    <tr style=\"text-align: right;\">\n",
       "      <th></th>\n",
       "      <th>Close</th>\n",
       "      <th>Close_Past_1</th>\n",
       "      <th>Close_Past_2</th>\n",
       "      <th>Close_Past_3</th>\n",
       "      <th>Close_Past_4</th>\n",
       "      <th>Close_Past_5</th>\n",
       "      <th>Close_Past_6</th>\n",
       "      <th>Close_Past_7</th>\n",
       "      <th>Close_Past_8</th>\n",
       "      <th>Close_Past_9</th>\n",
       "      <th>...</th>\n",
       "      <th>Open_Past_25</th>\n",
       "      <th>Open_Past_26</th>\n",
       "      <th>Open_Past_27</th>\n",
       "      <th>Open_Past_28</th>\n",
       "      <th>Open_Past_29</th>\n",
       "      <th>Open_Past_30</th>\n",
       "      <th>MonthTrend</th>\n",
       "      <th>negative</th>\n",
       "      <th>neutral</th>\n",
       "      <th>positive</th>\n",
       "    </tr>\n",
       "    <tr>\n",
       "      <th>Date</th>\n",
       "      <th></th>\n",
       "      <th></th>\n",
       "      <th></th>\n",
       "      <th></th>\n",
       "      <th></th>\n",
       "      <th></th>\n",
       "      <th></th>\n",
       "      <th></th>\n",
       "      <th></th>\n",
       "      <th></th>\n",
       "      <th></th>\n",
       "      <th></th>\n",
       "      <th></th>\n",
       "      <th></th>\n",
       "      <th></th>\n",
       "      <th></th>\n",
       "      <th></th>\n",
       "      <th></th>\n",
       "      <th></th>\n",
       "      <th></th>\n",
       "      <th></th>\n",
       "    </tr>\n",
       "  </thead>\n",
       "  <tbody>\n",
       "    <tr>\n",
       "      <td>2019-09-10</td>\n",
       "      <td>10178.372070</td>\n",
       "      <td>10116</td>\n",
       "      <td>10335</td>\n",
       "      <td>10441.3</td>\n",
       "      <td>10517.3</td>\n",
       "      <td>10353.3</td>\n",
       "      <td>10575.5</td>\n",
       "      <td>10594.5</td>\n",
       "      <td>10623.5</td>\n",
       "      <td>10346.8</td>\n",
       "      <td>...</td>\n",
       "      <td>10358.7</td>\n",
       "      <td>10319.4</td>\n",
       "      <td>10038.4</td>\n",
       "      <td>10889.5</td>\n",
       "      <td>11385.1</td>\n",
       "      <td>11528.2</td>\n",
       "      <td>DOWN</td>\n",
       "      <td>0.0490984</td>\n",
       "      <td>0.869071</td>\n",
       "      <td>0.0818306</td>\n",
       "    </tr>\n",
       "    <tr>\n",
       "      <td>2019-09-11</td>\n",
       "      <td>10410.126953</td>\n",
       "      <td>10178.4</td>\n",
       "      <td>10116</td>\n",
       "      <td>10335</td>\n",
       "      <td>10441.3</td>\n",
       "      <td>10517.3</td>\n",
       "      <td>10353.3</td>\n",
       "      <td>10575.5</td>\n",
       "      <td>10594.5</td>\n",
       "      <td>10623.5</td>\n",
       "      <td>...</td>\n",
       "      <td>10233</td>\n",
       "      <td>10358.7</td>\n",
       "      <td>10319.4</td>\n",
       "      <td>10038.4</td>\n",
       "      <td>10889.5</td>\n",
       "      <td>11385.1</td>\n",
       "      <td>UP</td>\n",
       "      <td>0.0484984</td>\n",
       "      <td>0.888504</td>\n",
       "      <td>0.0629979</td>\n",
       "    </tr>\n",
       "    <tr>\n",
       "      <td>2019-09-12</td>\n",
       "      <td>10360.546875</td>\n",
       "      <td>10410.1</td>\n",
       "      <td>10178.4</td>\n",
       "      <td>10116</td>\n",
       "      <td>10335</td>\n",
       "      <td>10441.3</td>\n",
       "      <td>10517.3</td>\n",
       "      <td>10353.3</td>\n",
       "      <td>10575.5</td>\n",
       "      <td>10594.5</td>\n",
       "      <td>...</td>\n",
       "      <td>10350.3</td>\n",
       "      <td>10233</td>\n",
       "      <td>10358.7</td>\n",
       "      <td>10319.4</td>\n",
       "      <td>10038.4</td>\n",
       "      <td>10889.5</td>\n",
       "      <td>UP</td>\n",
       "      <td>0.0588</td>\n",
       "      <td>0.8413</td>\n",
       "      <td>0.0999</td>\n",
       "    </tr>\n",
       "    <tr>\n",
       "      <td>2019-09-13</td>\n",
       "      <td>10358.048828</td>\n",
       "      <td>10360.5</td>\n",
       "      <td>10410.1</td>\n",
       "      <td>10178.4</td>\n",
       "      <td>10116</td>\n",
       "      <td>10335</td>\n",
       "      <td>10441.3</td>\n",
       "      <td>10517.3</td>\n",
       "      <td>10353.3</td>\n",
       "      <td>10575.5</td>\n",
       "      <td>...</td>\n",
       "      <td>10916.3</td>\n",
       "      <td>10350.3</td>\n",
       "      <td>10233</td>\n",
       "      <td>10358.7</td>\n",
       "      <td>10319.4</td>\n",
       "      <td>10038.4</td>\n",
       "      <td>DOWN</td>\n",
       "      <td>0.0439319</td>\n",
       "      <td>0.879837</td>\n",
       "      <td>0.0762308</td>\n",
       "    </tr>\n",
       "    <tr>\n",
       "      <td>2019-09-14</td>\n",
       "      <td>10347.712891</td>\n",
       "      <td>10358</td>\n",
       "      <td>10360.5</td>\n",
       "      <td>10410.1</td>\n",
       "      <td>10178.4</td>\n",
       "      <td>10116</td>\n",
       "      <td>10335</td>\n",
       "      <td>10441.3</td>\n",
       "      <td>10517.3</td>\n",
       "      <td>10353.3</td>\n",
       "      <td>...</td>\n",
       "      <td>10764.6</td>\n",
       "      <td>10916.3</td>\n",
       "      <td>10350.3</td>\n",
       "      <td>10233</td>\n",
       "      <td>10358.7</td>\n",
       "      <td>10319.4</td>\n",
       "      <td>UP</td>\n",
       "      <td>0.0253</td>\n",
       "      <td>0.9104</td>\n",
       "      <td>0.0643</td>\n",
       "    </tr>\n",
       "    <tr>\n",
       "      <td>...</td>\n",
       "      <td>...</td>\n",
       "      <td>...</td>\n",
       "      <td>...</td>\n",
       "      <td>...</td>\n",
       "      <td>...</td>\n",
       "      <td>...</td>\n",
       "      <td>...</td>\n",
       "      <td>...</td>\n",
       "      <td>...</td>\n",
       "      <td>...</td>\n",
       "      <td>...</td>\n",
       "      <td>...</td>\n",
       "      <td>...</td>\n",
       "      <td>...</td>\n",
       "      <td>...</td>\n",
       "      <td>...</td>\n",
       "      <td>...</td>\n",
       "      <td>...</td>\n",
       "      <td>...</td>\n",
       "      <td>...</td>\n",
       "      <td>...</td>\n",
       "    </tr>\n",
       "    <tr>\n",
       "      <td>2020-08-02</td>\n",
       "      <td>11246.348633</td>\n",
       "      <td>11053.6</td>\n",
       "      <td>11759.6</td>\n",
       "      <td>11323.5</td>\n",
       "      <td>11111.2</td>\n",
       "      <td>11100.5</td>\n",
       "      <td>10912.8</td>\n",
       "      <td>10990.9</td>\n",
       "      <td>9905.17</td>\n",
       "      <td>9677.11</td>\n",
       "      <td>...</td>\n",
       "      <td>9427.99</td>\n",
       "      <td>9253.02</td>\n",
       "      <td>9349.16</td>\n",
       "      <td>9072.85</td>\n",
       "      <td>9126.09</td>\n",
       "      <td>9084.23</td>\n",
       "      <td>DOWN</td>\n",
       "      <td>0.0587864</td>\n",
       "      <td>0.869428</td>\n",
       "      <td>0.0717857</td>\n",
       "    </tr>\n",
       "    <tr>\n",
       "      <td>2020-08-04</td>\n",
       "      <td>11747.022461</td>\n",
       "      <td>11246.3</td>\n",
       "      <td>11246.3</td>\n",
       "      <td>11053.6</td>\n",
       "      <td>11759.6</td>\n",
       "      <td>11323.5</td>\n",
       "      <td>11111.2</td>\n",
       "      <td>11100.5</td>\n",
       "      <td>10912.8</td>\n",
       "      <td>10990.9</td>\n",
       "      <td>...</td>\n",
       "      <td>9277.51</td>\n",
       "      <td>9273.36</td>\n",
       "      <td>9427.99</td>\n",
       "      <td>9253.02</td>\n",
       "      <td>9349.16</td>\n",
       "      <td>9072.85</td>\n",
       "      <td>UP</td>\n",
       "      <td>0.05575</td>\n",
       "      <td>0.8895</td>\n",
       "      <td>0.05475</td>\n",
       "    </tr>\n",
       "    <tr>\n",
       "      <td>2020-08-05</td>\n",
       "      <td>11779.773438</td>\n",
       "      <td>11747</td>\n",
       "      <td>11246.3</td>\n",
       "      <td>11246.3</td>\n",
       "      <td>11053.6</td>\n",
       "      <td>11759.6</td>\n",
       "      <td>11323.5</td>\n",
       "      <td>11111.2</td>\n",
       "      <td>11100.5</td>\n",
       "      <td>10912.8</td>\n",
       "      <td>...</td>\n",
       "      <td>9241.05</td>\n",
       "      <td>9277.51</td>\n",
       "      <td>9273.36</td>\n",
       "      <td>9427.99</td>\n",
       "      <td>9253.02</td>\n",
       "      <td>9349.16</td>\n",
       "      <td>UP</td>\n",
       "      <td>0.022</td>\n",
       "      <td>0.902368</td>\n",
       "      <td>0.0756316</td>\n",
       "    </tr>\n",
       "    <tr>\n",
       "      <td>2020-08-06</td>\n",
       "      <td>11601.472656</td>\n",
       "      <td>11779.8</td>\n",
       "      <td>11747</td>\n",
       "      <td>11246.3</td>\n",
       "      <td>11246.3</td>\n",
       "      <td>11053.6</td>\n",
       "      <td>11759.6</td>\n",
       "      <td>11323.5</td>\n",
       "      <td>11111.2</td>\n",
       "      <td>11100.5</td>\n",
       "      <td>...</td>\n",
       "      <td>9277.21</td>\n",
       "      <td>9241.05</td>\n",
       "      <td>9277.51</td>\n",
       "      <td>9273.36</td>\n",
       "      <td>9427.99</td>\n",
       "      <td>9253.02</td>\n",
       "      <td>UP</td>\n",
       "      <td>0.0257778</td>\n",
       "      <td>0.895</td>\n",
       "      <td>0.0792222</td>\n",
       "    </tr>\n",
       "    <tr>\n",
       "      <td>2020-08-07</td>\n",
       "      <td>11754.045898</td>\n",
       "      <td>11601.5</td>\n",
       "      <td>11779.8</td>\n",
       "      <td>11747</td>\n",
       "      <td>11246.3</td>\n",
       "      <td>11246.3</td>\n",
       "      <td>11053.6</td>\n",
       "      <td>11759.6</td>\n",
       "      <td>11323.5</td>\n",
       "      <td>11111.2</td>\n",
       "      <td>...</td>\n",
       "      <td>9238.7</td>\n",
       "      <td>9277.21</td>\n",
       "      <td>9241.05</td>\n",
       "      <td>9277.51</td>\n",
       "      <td>9273.36</td>\n",
       "      <td>9427.99</td>\n",
       "      <td>DOWN</td>\n",
       "      <td>0.0277762</td>\n",
       "      <td>0.908894</td>\n",
       "      <td>0.0633298</td>\n",
       "    </tr>\n",
       "  </tbody>\n",
       "</table>\n",
       "<p>331 rows × 66 columns</p>\n",
       "</div>"
      ],
      "text/plain": [
       "                   Close Close_Past_1 Close_Past_2 Close_Past_3 Close_Past_4  \\\n",
       "Date                                                                           \n",
       "2019-09-10  10178.372070        10116        10335      10441.3      10517.3   \n",
       "2019-09-11  10410.126953      10178.4        10116        10335      10441.3   \n",
       "2019-09-12  10360.546875      10410.1      10178.4        10116        10335   \n",
       "2019-09-13  10358.048828      10360.5      10410.1      10178.4        10116   \n",
       "2019-09-14  10347.712891        10358      10360.5      10410.1      10178.4   \n",
       "...                  ...          ...          ...          ...          ...   \n",
       "2020-08-02  11246.348633      11053.6      11759.6      11323.5      11111.2   \n",
       "2020-08-04  11747.022461      11246.3      11246.3      11053.6      11759.6   \n",
       "2020-08-05  11779.773438        11747      11246.3      11246.3      11053.6   \n",
       "2020-08-06  11601.472656      11779.8        11747      11246.3      11246.3   \n",
       "2020-08-07  11754.045898      11601.5      11779.8        11747      11246.3   \n",
       "\n",
       "           Close_Past_5 Close_Past_6 Close_Past_7 Close_Past_8 Close_Past_9  \\\n",
       "Date                                                                          \n",
       "2019-09-10      10353.3      10575.5      10594.5      10623.5      10346.8   \n",
       "2019-09-11      10517.3      10353.3      10575.5      10594.5      10623.5   \n",
       "2019-09-12      10441.3      10517.3      10353.3      10575.5      10594.5   \n",
       "2019-09-13        10335      10441.3      10517.3      10353.3      10575.5   \n",
       "2019-09-14        10116        10335      10441.3      10517.3      10353.3   \n",
       "...                 ...          ...          ...          ...          ...   \n",
       "2020-08-02      11100.5      10912.8      10990.9      9905.17      9677.11   \n",
       "2020-08-04      11323.5      11111.2      11100.5      10912.8      10990.9   \n",
       "2020-08-05      11759.6      11323.5      11111.2      11100.5      10912.8   \n",
       "2020-08-06      11053.6      11759.6      11323.5      11111.2      11100.5   \n",
       "2020-08-07      11246.3      11053.6      11759.6      11323.5      11111.2   \n",
       "\n",
       "            ... Open_Past_25 Open_Past_26 Open_Past_27 Open_Past_28  \\\n",
       "Date        ...                                                       \n",
       "2019-09-10  ...      10358.7      10319.4      10038.4      10889.5   \n",
       "2019-09-11  ...        10233      10358.7      10319.4      10038.4   \n",
       "2019-09-12  ...      10350.3        10233      10358.7      10319.4   \n",
       "2019-09-13  ...      10916.3      10350.3        10233      10358.7   \n",
       "2019-09-14  ...      10764.6      10916.3      10350.3        10233   \n",
       "...         ...          ...          ...          ...          ...   \n",
       "2020-08-02  ...      9427.99      9253.02      9349.16      9072.85   \n",
       "2020-08-04  ...      9277.51      9273.36      9427.99      9253.02   \n",
       "2020-08-05  ...      9241.05      9277.51      9273.36      9427.99   \n",
       "2020-08-06  ...      9277.21      9241.05      9277.51      9273.36   \n",
       "2020-08-07  ...       9238.7      9277.21      9241.05      9277.51   \n",
       "\n",
       "           Open_Past_29 Open_Past_30 MonthTrend   negative   neutral  \\\n",
       "Date                                                                   \n",
       "2019-09-10      11385.1      11528.2       DOWN  0.0490984  0.869071   \n",
       "2019-09-11      10889.5      11385.1         UP  0.0484984  0.888504   \n",
       "2019-09-12      10038.4      10889.5         UP     0.0588    0.8413   \n",
       "2019-09-13      10319.4      10038.4       DOWN  0.0439319  0.879837   \n",
       "2019-09-14      10358.7      10319.4         UP     0.0253    0.9104   \n",
       "...                 ...          ...        ...        ...       ...   \n",
       "2020-08-02      9126.09      9084.23       DOWN  0.0587864  0.869428   \n",
       "2020-08-04      9349.16      9072.85         UP    0.05575    0.8895   \n",
       "2020-08-05      9253.02      9349.16         UP      0.022  0.902368   \n",
       "2020-08-06      9427.99      9253.02         UP  0.0257778     0.895   \n",
       "2020-08-07      9273.36      9427.99       DOWN  0.0277762  0.908894   \n",
       "\n",
       "             positive  \n",
       "Date                   \n",
       "2019-09-10  0.0818306  \n",
       "2019-09-11  0.0629979  \n",
       "2019-09-12     0.0999  \n",
       "2019-09-13  0.0762308  \n",
       "2019-09-14     0.0643  \n",
       "...               ...  \n",
       "2020-08-02  0.0717857  \n",
       "2020-08-04    0.05475  \n",
       "2020-08-05  0.0756316  \n",
       "2020-08-06  0.0792222  \n",
       "2020-08-07  0.0633298  \n",
       "\n",
       "[331 rows x 66 columns]"
      ]
     },
     "execution_count": 103,
     "metadata": {},
     "output_type": "execute_result"
    }
   ],
   "source": [
    "# load pre-fetched news sentiment data and add in the dataframe\n",
    "import pickle\n",
    "import warnings\n",
    "import os\n",
    "warnings.filterwarnings('ignore')\n",
    "f = open(os.path.join(os.getcwd(), \"polaritys_score.pkl\"), \"rb\")\n",
    "#f = open(\"./drive/My Drive/final_project/polaritys_score.pkl\", \"rb\")\n",
    "polaritys_file = pickle.load(f)\n",
    "f.close()\n",
    "\n",
    "polaritys_df = pd.DataFrame(index=list(polaritys_file.keys())[::-1], columns=['neg', 'neu', 'pos'])\n",
    "for date in list(polaritys_file.keys())[::-1]:\n",
    "  for polar in ['neg', 'neu', 'pos']:\n",
    "    polaritys_df.loc[date][polar] = polaritys_file[date][polar]\n",
    "\n",
    "## keep data only after 2019-09-09 and remove data on 2020-08-03(error in Yahoo?)\n",
    "btc_index_str = [btc_index.strftime('%Y-%m-%d') for btc_index in list(btc.index)]\n",
    "\n",
    "sentiment_data = polaritys_df.loc[btc_index_str]\n",
    "sentiment_data.columns = ['negative', 'neutral', 'positive']\n",
    "\n",
    "## add sentiment in the dataframe\n",
    "btc[['negative', 'neutral', 'positive']] = sentiment_data[['negative', 'neutral', 'positive']]\n",
    "btc"
   ]
  },
  {
   "cell_type": "code",
   "execution_count": 104,
   "metadata": {},
   "outputs": [],
   "source": [
    "from sklearn.model_selection import TimeSeriesSplit\n",
    "from sklearn.preprocessing import StandardScaler\n",
    "from sklearn.preprocessing import LabelEncoder\n",
    "import numpy as np\n",
    "Y = btc['MonthTrend']\n",
    "le =LabelEncoder()\n",
    "Y = le.fit_transform(Y)\n",
    "X = btc.drop(['MonthTrend'], axis=1)\n",
    "X = StandardScaler().fit_transform(X)\n",
    "# Create training and testing datasets that are appropriate for time series data\n",
    "#X_train, X_test, Y_train, Y_test = train_test_split(X, Y, test_size=.3, random_state=2)\n",
    "train_size_perc = 0.7\n",
    "n_time, n_features = X.shape\n",
    "train_size = np.int16(np.round(train_size_perc * n_time))\n",
    "X_train, Y_train = X[:train_size], Y[:train_size]\n",
    "X_test, Y_test = X[(train_size+LOOK_AHEAD_DAYS):], Y[(train_size+LOOK_AHEAD_DAYS):]"
   ]
  },
  {
   "cell_type": "code",
   "execution_count": 105,
   "metadata": {},
   "outputs": [
    {
     "name": "stdout",
     "output_type": "stream",
     "text": [
      "Fitting 10 folds for each of 576 candidates, totalling 5760 fits\n"
     ]
    },
    {
     "name": "stderr",
     "output_type": "stream",
     "text": [
      "[Parallel(n_jobs=6)]: Using backend LokyBackend with 6 concurrent workers.\n",
      "[Parallel(n_jobs=6)]: Done  40 tasks      | elapsed:    1.2s\n",
      "[Parallel(n_jobs=6)]: Done 5760 out of 5760 | elapsed:    2.7s finished\n"
     ]
    },
    {
     "data": {
      "text/plain": [
       "0.4387755102040817"
      ]
     },
     "execution_count": 105,
     "metadata": {},
     "output_type": "execute_result"
    }
   ],
   "source": [
    "# decision tree\n",
    "from sklearn.model_selection import GridSearchCV\n",
    "from sklearn.tree import DecisionTreeClassifier\n",
    "model_tree = DecisionTreeClassifier(random_state=45)\n",
    "param_grid = {'splitter': [\"best\",\"random\"],  \n",
    "              'min_samples_split': [2,4,6,8],\n",
    "             'criterion':[\"gini\",\"entropy\"],\n",
    "             'max_features':[\"auto\", \"sqrt\", \"log2\"],\n",
    "              'max_depth':[6,8,10,20],\n",
    "             'max_leaf_nodes':[10,50,None]}  \n",
    "grid =  GridSearchCV(model_tree,param_grid,scoring=\"roc_auc\", cv=TimeSeriesSplit(max_train_size=None, n_splits=10), verbose=1,n_jobs=6)\n",
    "grid.fit(X_train,Y_train)\n",
    "model_tree = grid.best_estimator_\n",
    "tree_error_rate = 1 - model_tree.score(X_test,Y_test)\n",
    "tree_error_rate"
   ]
  },
  {
   "cell_type": "code",
   "execution_count": 106,
   "metadata": {},
   "outputs": [
    {
     "data": {
      "text/plain": [
       "1.0"
      ]
     },
     "execution_count": 106,
     "metadata": {},
     "output_type": "execute_result"
    }
   ],
   "source": [
    "model_tree.score(X_train, Y_train)"
   ]
  },
  {
   "cell_type": "code",
   "execution_count": 107,
   "metadata": {},
   "outputs": [
    {
     "name": "stdout",
     "output_type": "stream",
     "text": [
      "[[16 27]\n",
      " [16 39]]\n"
     ]
    }
   ],
   "source": [
    "#confusion matrix and classification for testing\n",
    "from sklearn.metrics import classification_report,confusion_matrix,roc_curve, auc\n",
    "import matplotlib.pylab as plt\n",
    "prediction = model_tree.predict(X_test)\n",
    "print(confusion_matrix(Y_test, prediction))"
   ]
  },
  {
   "cell_type": "code",
   "execution_count": 108,
   "metadata": {},
   "outputs": [
    {
     "name": "stdout",
     "output_type": "stream",
     "text": [
      "              precision    recall  f1-score   support\n",
      "\n",
      "           0       0.50      0.37      0.43        43\n",
      "           1       0.59      0.71      0.64        55\n",
      "\n",
      "    accuracy                           0.56        98\n",
      "   macro avg       0.55      0.54      0.54        98\n",
      "weighted avg       0.55      0.56      0.55        98\n",
      "\n"
     ]
    }
   ],
   "source": [
    "print(classification_report(Y_test, prediction))"
   ]
  },
  {
   "cell_type": "code",
   "execution_count": 109,
   "metadata": {},
   "outputs": [
    {
     "data": {
      "image/png": "[encoded data removed]",
      "text/plain": [
       "<Figure size 432x288 with 1 Axes>"
      ]
     },
     "metadata": {
      "needs_background": "light"
     },
     "output_type": "display_data"
    }
   ],
   "source": [
    "# Plot the ROC curve\n",
    "\n",
    "def plot_roc(Y_test,Y_pred, classifier_name):\n",
    "    fpr, tpr, _ = roc_curve(Y_test,Y_pred)\n",
    "    roc_auc = auc(fpr, tpr)\n",
    "    plt.plot(fpr, tpr, label='ROC curve (area = %0.2f)' % roc_auc)\n",
    "    plt.plot([0, 1], [0, 1], 'k--', label=\"Random\")\n",
    "    plt.xlabel('False Positive Rate')\n",
    "    plt.ylabel('True Positive Rate')\n",
    "    plt.title(\"ROC for \" + classifier_name)\n",
    "    plt.legend(loc=\"best\")\n",
    "    plt.show()\n",
    "plot_roc(Y_test,prediction, \"CART\")"
   ]
  },
  {
   "cell_type": "code",
   "execution_count": 13,
   "metadata": {},
   "outputs": [
    {
     "name": "stdout",
     "output_type": "stream",
     "text": [
      "Fitting 10 folds for each of 768 candidates, totalling 7680 fits\n"
     ]
    },
    {
     "name": "stderr",
     "output_type": "stream",
     "text": [
      "[Parallel(n_jobs=6)]: Using backend LokyBackend with 6 concurrent workers.\n",
      "[Parallel(n_jobs=6)]: Done 764 tasks      | elapsed:    1.2s\n",
      "[Parallel(n_jobs=6)]: Done 6764 tasks      | elapsed:   10.6s\n",
      "[Parallel(n_jobs=6)]: Done 7680 out of 7680 | elapsed:   11.9s finished\n"
     ]
    },
    {
     "data": {
      "text/plain": [
       "0.3979591836734694"
      ]
     },
     "execution_count": 13,
     "metadata": {},
     "output_type": "execute_result"
    }
   ],
   "source": [
    "# random forest\n",
    "from sklearn.ensemble import RandomForestClassifier\n",
    "model_random = RandomForestClassifier(random_state=42)\n",
    "param_grid = {\n",
    "             'min_samples_split': [2,4,6,8],\n",
    "             'criterion':[\"gini\",\"entropy\"],\n",
    "             'max_features':[\"auto\", \"sqrt\", \"log2\"],\n",
    "              'max_depth':[6,8,10,20],\n",
    "              'min_samples_leaf':[1,2,4,6],\n",
    "             'max_leaf_nodes':[10,50]}  \n",
    "random_grid =  GridSearchCV(model_random,param_grid,scoring=\"roc_auc\", cv=TimeSeriesSplit(max_train_size=None, n_splits=10), verbose=1,n_jobs=6)\n",
    "random_grid.fit(X_train,Y_train)\n",
    "model_random = random_grid.best_estimator_\n",
    "tree_error_rate =1 - model_random.score(X_test,Y_test)\n",
    "tree_error_rate"
   ]
  },
  {
   "cell_type": "code",
   "execution_count": 14,
   "metadata": {},
   "outputs": [
    {
     "data": {
      "text/plain": [
       "0.7931034482758621"
      ]
     },
     "execution_count": 14,
     "metadata": {},
     "output_type": "execute_result"
    }
   ],
   "source": [
    "model_random.score(X_train, Y_train)"
   ]
  },
  {
   "cell_type": "code",
   "execution_count": 15,
   "metadata": {},
   "outputs": [
    {
     "name": "stdout",
     "output_type": "stream",
     "text": [
      "[[28 15]\n",
      " [24 31]]\n"
     ]
    }
   ],
   "source": [
    "new_prediction = model_random.predict(X_test)\n",
    "print(confusion_matrix(Y_test, new_prediction))"
   ]
  },
  {
   "cell_type": "code",
   "execution_count": 16,
   "metadata": {},
   "outputs": [
    {
     "name": "stdout",
     "output_type": "stream",
     "text": [
      "              precision    recall  f1-score   support\n",
      "\n",
      "           0       0.54      0.65      0.59        43\n",
      "           1       0.67      0.56      0.61        55\n",
      "\n",
      "    accuracy                           0.60        98\n",
      "   macro avg       0.61      0.61      0.60        98\n",
      "weighted avg       0.61      0.60      0.60        98\n",
      "\n"
     ]
    }
   ],
   "source": [
    "print(classification_report(Y_test, new_prediction))"
   ]
  },
  {
   "cell_type": "code",
   "execution_count": 110,
   "metadata": {},
   "outputs": [
    {
     "data": {
      "image/png": "[encoded data removed]",
      "text/plain": [
       "<Figure size 432x288 with 1 Axes>"
      ]
     },
     "metadata": {
      "needs_background": "light"
     },
     "output_type": "display_data"
    }
   ],
   "source": [
    "plot_roc(Y_test,new_prediction, \"Random Forest\")"
   ]
  },
  {
   "cell_type": "code",
   "execution_count": 18,
   "metadata": {},
   "outputs": [
    {
     "name": "stderr",
     "output_type": "stream",
     "text": [
      "[Parallel(n_jobs=6)]: Using backend LokyBackend with 6 concurrent workers.\n"
     ]
    },
    {
     "name": "stdout",
     "output_type": "stream",
     "text": [
      "Fitting 10 folds for each of 48 candidates, totalling 480 fits\n"
     ]
    },
    {
     "name": "stderr",
     "output_type": "stream",
     "text": [
      "[Parallel(n_jobs=6)]: Done 480 out of 480 | elapsed:    0.9s finished\n"
     ]
    },
    {
     "data": {
      "text/plain": [
       "0.08163265306122447"
      ]
     },
     "execution_count": 18,
     "metadata": {},
     "output_type": "execute_result"
    }
   ],
   "source": [
    "# linear svm\n",
    "from sklearn.svm import LinearSVC\n",
    "model_svm = LinearSVC(random_state=42)\n",
    "param_grid = {\n",
    "             'C': [1,2,4,6,8,10],\n",
    "             'loss':[\"hinge\",\"squared_hinge\"],\n",
    "             'fit_intercept':[True,False],\n",
    "              'class_weight':[\"balanced\",None]}  \n",
    "svm_grid =  GridSearchCV(model_svm,param_grid,scoring=\"roc_auc\", cv=TimeSeriesSplit(max_train_size=None, n_splits=10), verbose=1,n_jobs=6)\n",
    "svm_grid.fit(X_train,Y_train)\n",
    "model_svm = svm_grid.best_estimator_\n",
    "svm_error_rate =1 - model_svm.score(X_test,Y_test)\n",
    "svm_error_rate"
   ]
  },
  {
   "cell_type": "code",
   "execution_count": 19,
   "metadata": {},
   "outputs": [
    {
     "data": {
      "text/plain": [
       "0.9956896551724138"
      ]
     },
     "execution_count": 19,
     "metadata": {},
     "output_type": "execute_result"
    }
   ],
   "source": [
    "model_svm.score(X_train, Y_train)"
   ]
  },
  {
   "cell_type": "code",
   "execution_count": 20,
   "metadata": {},
   "outputs": [
    {
     "name": "stdout",
     "output_type": "stream",
     "text": [
      "[[41  2]\n",
      " [ 6 49]]\n"
     ]
    }
   ],
   "source": [
    "svm_prediction = model_svm.predict(X_test)\n",
    "print(confusion_matrix(Y_test, svm_prediction))"
   ]
  },
  {
   "cell_type": "code",
   "execution_count": 21,
   "metadata": {},
   "outputs": [
    {
     "name": "stdout",
     "output_type": "stream",
     "text": [
      "              precision    recall  f1-score   support\n",
      "\n",
      "           0       0.87      0.95      0.91        43\n",
      "           1       0.96      0.89      0.92        55\n",
      "\n",
      "    accuracy                           0.92        98\n",
      "   macro avg       0.92      0.92      0.92        98\n",
      "weighted avg       0.92      0.92      0.92        98\n",
      "\n"
     ]
    }
   ],
   "source": [
    "print(classification_report(Y_test, svm_prediction))"
   ]
  },
  {
   "cell_type": "code",
   "execution_count": 111,
   "metadata": {},
   "outputs": [
    {
     "data": {
      "image/png": "[encoded data removed]",
      "text/plain": [
       "<Figure size 432x288 with 1 Axes>"
      ]
     },
     "metadata": {
      "needs_background": "light"
     },
     "output_type": "display_data"
    }
   ],
   "source": [
    "plot_roc(Y_test,svm_prediction, \"SVM\")"
   ]
  },
  {
   "cell_type": "code",
   "execution_count": 88,
   "metadata": {},
   "outputs": [
    {
     "name": "stdout",
     "output_type": "stream",
     "text": [
      "Fitting 10 folds for each of 96 candidates, totalling 960 fits\n"
     ]
    },
    {
     "name": "stderr",
     "output_type": "stream",
     "text": [
      "[Parallel(n_jobs=6)]: Using backend LokyBackend with 6 concurrent workers.\n",
      "[Parallel(n_jobs=6)]: Done 960 out of 960 | elapsed:    3.8s finished\n"
     ]
    },
    {
     "data": {
      "text/plain": [
       "0.061224489795918324"
      ]
     },
     "execution_count": 88,
     "metadata": {},
     "output_type": "execute_result"
    }
   ],
   "source": [
    "# logistic regression\n",
    "from sklearn.linear_model import LogisticRegression\n",
    "model_regression = LogisticRegression()\n",
    "param_grid = {\n",
    "             'C': [1,2,4,6,8,10],\n",
    "             'penalty':[\"l1\", \"l2\"],\n",
    "             'fit_intercept':[True,False],\n",
    "              'class_weight':[\"balanced\",None],\n",
    "              'warm_start':[True,False]}  \n",
    "regression_grid =  GridSearchCV(model_regression,param_grid,scoring=\"roc_auc\", cv=TimeSeriesSplit(max_train_size=None, n_splits=10), verbose=1,n_jobs=6)\n",
    "regression_grid.fit(X_train,Y_train)\n",
    "model_regresssion= regression_grid.best_estimator_\n",
    "regression_error_rate =1 - model_regresssion.score(X_test,Y_test)\n",
    "regression_error_rate"
   ]
  },
  {
   "cell_type": "code",
   "execution_count": 89,
   "metadata": {},
   "outputs": [
    {
     "name": "stdout",
     "output_type": "stream",
     "text": [
      "[[42  1]\n",
      " [ 5 50]]\n"
     ]
    }
   ],
   "source": [
    "regression_prediction = model_regresssion.predict(X_test)\n",
    "print(confusion_matrix(Y_test, regression_prediction))"
   ]
  },
  {
   "cell_type": "code",
   "execution_count": 90,
   "metadata": {},
   "outputs": [
    {
     "name": "stdout",
     "output_type": "stream",
     "text": [
      "              precision    recall  f1-score   support\n",
      "\n",
      "           0       0.89      0.98      0.93        43\n",
      "           1       0.98      0.91      0.94        55\n",
      "\n",
      "    accuracy                           0.94        98\n",
      "   macro avg       0.94      0.94      0.94        98\n",
      "weighted avg       0.94      0.94      0.94        98\n",
      "\n"
     ]
    }
   ],
   "source": [
    "print(classification_report(Y_test, regression_prediction))"
   ]
  },
  {
   "cell_type": "code",
   "execution_count": 112,
   "metadata": {},
   "outputs": [
    {
     "data": {
      "image/png": "[encoded data removed]",
      "text/plain": [
       "<Figure size 432x288 with 1 Axes>"
      ]
     },
     "metadata": {
      "needs_background": "light"
     },
     "output_type": "display_data"
    }
   ],
   "source": [
    "plot_roc(Y_test,regression_prediction, \"Logistic Regression\")"
   ]
  },
  {
   "cell_type": "code",
   "execution_count": 49,
   "metadata": {},
   "outputs": [],
   "source": [
    "# install tensorflow in virtual enviroment locally or use google colab\n",
    "# Please read this line at least.Basic model frame tuning may needed. I reached 0.7347 test accuracy for old dataset.\n",
    "import tensorflow as tf\n",
    "# Nerual network layer by layer. The input shape(...,62) may vary if new added\n",
    "NN_model = tf.keras.models.Sequential()\n",
    "NN_model.add(tf.keras.layers.Dense(units=128,activation=\"relu\",input_dim=65)) \n",
    "# dropout exist for preventing overfitting. \n",
    "NN_model.add(tf.keras.layers.Dropout(0.2))\n",
    "NN_model.add(tf.keras.layers.Dense(units=256,activation=\"relu\"))\n",
    "NN_model.add(tf.keras.layers.Dropout(0.2)) \n",
    "NN_model.add(tf.keras.layers.Dense(units=256,activation=\"relu\")) \n",
    "# please do not change this line. sigmoid function is a must for binary classification\n",
    "NN_model.add(tf.keras.layers.Dense(units=1,activation=\"sigmoid\"))\n",
    "# you can play with this line\n",
    "NN_model.compile(loss='binary_crossentropy',optimizer=tf.keras.optimizers.Adam(learning_rate=0.001),metrics=['accuracy']) "
   ]
  },
  {
   "cell_type": "code",
   "execution_count": 50,
   "metadata": {},
   "outputs": [
    {
     "name": "stdout",
     "output_type": "stream",
     "text": [
      "Model: \"sequential_1\"\n",
      "_________________________________________________________________\n",
      "Layer (type)                 Output Shape              Param #   \n",
      "=================================================================\n",
      "dense_4 (Dense)              (None, 128)               8448      \n",
      "_________________________________________________________________\n",
      "dropout_2 (Dropout)          (None, 128)               0         \n",
      "_________________________________________________________________\n",
      "dense_5 (Dense)              (None, 256)               33024     \n",
      "_________________________________________________________________\n",
      "dropout_3 (Dropout)          (None, 256)               0         \n",
      "_________________________________________________________________\n",
      "dense_6 (Dense)              (None, 256)               65792     \n",
      "_________________________________________________________________\n",
      "dense_7 (Dense)              (None, 1)                 257       \n",
      "=================================================================\n",
      "Total params: 107,521\n",
      "Trainable params: 107,521\n",
      "Non-trainable params: 0\n",
      "_________________________________________________________________\n"
     ]
    }
   ],
   "source": [
    "# a basic summary of model\n",
    "NN_model.summary()"
   ]
  },
  {
   "cell_type": "code",
   "execution_count": 51,
   "metadata": {},
   "outputs": [
    {
     "name": "stdout",
     "output_type": "stream",
     "text": [
      "Train on 232 samples\n",
      "Epoch 1/50\n",
      "232/232 [==============================] - 1s 3ms/sample - loss: 0.7142 - accuracy: 0.4957\n",
      "Epoch 2/50\n",
      "232/232 [==============================] - 0s 99us/sample - loss: 0.6897 - accuracy: 0.5905\n",
      "Epoch 3/50\n",
      "232/232 [==============================] - 0s 69us/sample - loss: 0.6681 - accuracy: 0.6121\n",
      "Epoch 4/50\n",
      "232/232 [==============================] - 0s 60us/sample - loss: 0.6793 - accuracy: 0.5819\n",
      "Epoch 5/50\n",
      "232/232 [==============================] - 0s 67us/sample - loss: 0.6520 - accuracy: 0.6509\n",
      "Epoch 6/50\n",
      "232/232 [==============================] - 0s 104us/sample - loss: 0.6431 - accuracy: 0.6336\n",
      "Epoch 7/50\n",
      "232/232 [==============================] - 0s 65us/sample - loss: 0.6412 - accuracy: 0.6078\n",
      "Epoch 8/50\n",
      "232/232 [==============================] - 0s 67us/sample - loss: 0.6138 - accuracy: 0.6810\n",
      "Epoch 9/50\n",
      "232/232 [==============================] - 0s 69us/sample - loss: 0.6193 - accuracy: 0.6638\n",
      "Epoch 10/50\n",
      "232/232 [==============================] - 0s 88us/sample - loss: 0.6168 - accuracy: 0.6379\n",
      "Epoch 11/50\n",
      "232/232 [==============================] - 0s 78us/sample - loss: 0.5595 - accuracy: 0.7328\n",
      "Epoch 12/50\n",
      "232/232 [==============================] - 0s 61us/sample - loss: 0.5890 - accuracy: 0.6767\n",
      "Epoch 13/50\n",
      "232/232 [==============================] - 0s 62us/sample - loss: 0.5661 - accuracy: 0.7069\n",
      "Epoch 14/50\n",
      "232/232 [==============================] - 0s 69us/sample - loss: 0.5458 - accuracy: 0.7328\n",
      "Epoch 15/50\n",
      "232/232 [==============================] - 0s 101us/sample - loss: 0.5306 - accuracy: 0.7371\n",
      "Epoch 16/50\n",
      "232/232 [==============================] - 0s 123us/sample - loss: 0.4979 - accuracy: 0.7931\n",
      "Epoch 17/50\n",
      "232/232 [==============================] - 0s 73us/sample - loss: 0.4979 - accuracy: 0.7586\n",
      "Epoch 18/50\n",
      "232/232 [==============================] - 0s 75us/sample - loss: 0.4983 - accuracy: 0.7672\n",
      "Epoch 19/50\n",
      "232/232 [==============================] - 0s 69us/sample - loss: 0.4748 - accuracy: 0.7802\n",
      "Epoch 20/50\n",
      "232/232 [==============================] - 0s 97us/sample - loss: 0.4612 - accuracy: 0.8017\n",
      "Epoch 21/50\n",
      "232/232 [==============================] - 0s 89us/sample - loss: 0.4237 - accuracy: 0.8147\n",
      "Epoch 22/50\n",
      "232/232 [==============================] - 0s 69us/sample - loss: 0.4682 - accuracy: 0.7716\n",
      "Epoch 23/50\n",
      "232/232 [==============================] - 0s 71us/sample - loss: 0.5040 - accuracy: 0.7802\n",
      "Epoch 24/50\n",
      "232/232 [==============================] - 0s 62us/sample - loss: 0.4282 - accuracy: 0.8147\n",
      "Epoch 25/50\n",
      "232/232 [==============================] - 0s 101us/sample - loss: 0.4666 - accuracy: 0.7759\n",
      "Epoch 26/50\n",
      "232/232 [==============================] - 0s 65us/sample - loss: 0.4202 - accuracy: 0.8017\n",
      "Epoch 27/50\n",
      "232/232 [==============================] - 0s 93us/sample - loss: 0.3798 - accuracy: 0.8491\n",
      "Epoch 28/50\n",
      "232/232 [==============================] - 0s 65us/sample - loss: 0.3683 - accuracy: 0.8448\n",
      "Epoch 29/50\n",
      "232/232 [==============================] - 0s 78us/sample - loss: 0.4063 - accuracy: 0.8319\n",
      "Epoch 30/50\n",
      "232/232 [==============================] - 0s 65us/sample - loss: 0.3545 - accuracy: 0.8319\n",
      "Epoch 31/50\n",
      "232/232 [==============================] - 0s 71us/sample - loss: 0.4208 - accuracy: 0.7931\n",
      "Epoch 32/50\n",
      "232/232 [==============================] - 0s 84us/sample - loss: 0.3973 - accuracy: 0.8103\n",
      "Epoch 33/50\n",
      "232/232 [==============================] - 0s 91us/sample - loss: 0.3802 - accuracy: 0.8276\n",
      "Epoch 34/50\n",
      "232/232 [==============================] - 0s 67us/sample - loss: 0.3169 - accuracy: 0.8621\n",
      "Epoch 35/50\n",
      "232/232 [==============================] - 0s 69us/sample - loss: 0.3452 - accuracy: 0.8664\n",
      "Epoch 36/50\n",
      "232/232 [==============================] - 0s 99us/sample - loss: 0.3254 - accuracy: 0.8664\n",
      "Epoch 37/50\n",
      "232/232 [==============================] - 0s 160us/sample - loss: 0.3208 - accuracy: 0.8836\n",
      "Epoch 38/50\n",
      "232/232 [==============================] - 0s 69us/sample - loss: 0.3366 - accuracy: 0.8491\n",
      "Epoch 39/50\n",
      "232/232 [==============================] - 0s 74us/sample - loss: 0.2922 - accuracy: 0.8793\n",
      "Epoch 40/50\n",
      "232/232 [==============================] - 0s 63us/sample - loss: 0.2913 - accuracy: 0.8793\n",
      "Epoch 41/50\n",
      "232/232 [==============================] - 0s 88us/sample - loss: 0.2878 - accuracy: 0.8664\n",
      "Epoch 42/50\n",
      "232/232 [==============================] - 0s 82us/sample - loss: 0.2940 - accuracy: 0.8491\n",
      "Epoch 43/50\n",
      "232/232 [==============================] - 0s 80us/sample - loss: 0.2776 - accuracy: 0.8966\n",
      "Epoch 44/50\n",
      "232/232 [==============================] - 0s 78us/sample - loss: 0.2602 - accuracy: 0.9009\n",
      "Epoch 45/50\n",
      "232/232 [==============================] - 0s 86us/sample - loss: 0.4208 - accuracy: 0.8362\n",
      "Epoch 46/50\n",
      "232/232 [==============================] - 0s 62us/sample - loss: 0.3241 - accuracy: 0.8534\n",
      "Epoch 47/50\n",
      "232/232 [==============================] - 0s 69us/sample - loss: 0.3572 - accuracy: 0.8491\n",
      "Epoch 48/50\n",
      "232/232 [==============================] - 0s 86us/sample - loss: 0.3277 - accuracy: 0.8578\n",
      "Epoch 49/50\n",
      "232/232 [==============================] - 0s 147us/sample - loss: 0.2967 - accuracy: 0.8707\n"
     ]
    },
    {
     "data": {
      "text/plain": [
       "<tensorflow.python.keras.callbacks.History at 0x17867ec4188>"
      ]
     },
     "execution_count": 51,
     "metadata": {},
     "output_type": "execute_result"
    }
   ],
   "source": [
    "# I added early stop here.\n",
    "earlyStopping=tf.keras.callbacks.EarlyStopping(monitor='loss', patience=5, verbose=0, mode='min')\n",
    "NN_model.fit(x=X_train,y=Y_train,batch_size=30,epochs=50,callbacks=[earlyStopping])"
   ]
  },
  {
   "cell_type": "code",
   "execution_count": 52,
   "metadata": {},
   "outputs": [
    {
     "name": "stdout",
     "output_type": "stream",
     "text": [
      "98/98 [==============================] - 0s 1ms/sample - loss: 0.5493 - accuracy: 0.7245\n"
     ]
    }
   ],
   "source": [
    "test_loss, test_accuracy = NN_model.evaluate(X_test, Y_test)"
   ]
  },
  {
   "cell_type": "code",
   "execution_count": 53,
   "metadata": {},
   "outputs": [
    {
     "name": "stdout",
     "output_type": "stream",
     "text": [
      "[[36  7]\n",
      " [20 35]]\n"
     ]
    }
   ],
   "source": [
    "NN_prediction = NN_model.predict_classes(X_test)\n",
    "print(confusion_matrix(Y_test,NN_prediction))"
   ]
  },
  {
   "cell_type": "code",
   "execution_count": 54,
   "metadata": {},
   "outputs": [
    {
     "name": "stdout",
     "output_type": "stream",
     "text": [
      "              precision    recall  f1-score   support\n",
      "\n",
      "           0       0.64      0.84      0.73        43\n",
      "           1       0.83      0.64      0.72        55\n",
      "\n",
      "    accuracy                           0.72        98\n",
      "   macro avg       0.74      0.74      0.72        98\n",
      "weighted avg       0.75      0.72      0.72        98\n",
      "\n"
     ]
    }
   ],
   "source": [
    "print(classification_report(Y_test,NN_prediction))"
   ]
  },
  {
   "cell_type": "code",
   "execution_count": 114,
   "metadata": {},
   "outputs": [
    {
     "data": {
      "image/png": "[encoded data removed]",
      "text/plain": [
       "<Figure size 432x288 with 1 Axes>"
      ]
     },
     "metadata": {
      "needs_background": "light"
     },
     "output_type": "display_data"
    }
   ],
   "source": [
    "plot_roc(Y_test,NN_prediction, \"Neural Networks\")"
   ]
  },
  {
   "cell_type": "markdown",
   "metadata": {},
   "source": [
    "### Backtesting"
   ]
  },
  {
   "cell_type": "code",
   "execution_count": 35,
   "metadata": {},
   "outputs": [
    {
     "data": {
      "text/html": [
       "<div>\n",
       "<style scoped>\n",
       "    .dataframe tbody tr th:only-of-type {\n",
       "        vertical-align: middle;\n",
       "    }\n",
       "\n",
       "    .dataframe tbody tr th {\n",
       "        vertical-align: top;\n",
       "    }\n",
       "\n",
       "    .dataframe thead th {\n",
       "        text-align: right;\n",
       "    }\n",
       "</style>\n",
       "<table border=\"1\" class=\"dataframe\">\n",
       "  <thead>\n",
       "    <tr style=\"text-align: right;\">\n",
       "      <th></th>\n",
       "      <th>Close</th>\n",
       "      <th>Close_Past_1</th>\n",
       "      <th>Close_Past_2</th>\n",
       "      <th>Close_Past_3</th>\n",
       "      <th>Close_Past_4</th>\n",
       "      <th>Close_Past_5</th>\n",
       "      <th>Close_Past_6</th>\n",
       "      <th>Close_Past_7</th>\n",
       "      <th>Close_Past_8</th>\n",
       "      <th>Close_Past_9</th>\n",
       "      <th>...</th>\n",
       "      <th>Open_Past_25</th>\n",
       "      <th>Open_Past_26</th>\n",
       "      <th>Open_Past_27</th>\n",
       "      <th>Open_Past_28</th>\n",
       "      <th>Open_Past_29</th>\n",
       "      <th>Open_Past_30</th>\n",
       "      <th>MonthTrend</th>\n",
       "      <th>negative</th>\n",
       "      <th>neutral</th>\n",
       "      <th>positive</th>\n",
       "    </tr>\n",
       "    <tr>\n",
       "      <th>Date</th>\n",
       "      <th></th>\n",
       "      <th></th>\n",
       "      <th></th>\n",
       "      <th></th>\n",
       "      <th></th>\n",
       "      <th></th>\n",
       "      <th></th>\n",
       "      <th></th>\n",
       "      <th></th>\n",
       "      <th></th>\n",
       "      <th></th>\n",
       "      <th></th>\n",
       "      <th></th>\n",
       "      <th></th>\n",
       "      <th></th>\n",
       "      <th></th>\n",
       "      <th></th>\n",
       "      <th></th>\n",
       "      <th></th>\n",
       "      <th></th>\n",
       "      <th></th>\n",
       "    </tr>\n",
       "  </thead>\n",
       "  <tbody>\n",
       "    <tr>\n",
       "      <td>2019-09-10</td>\n",
       "      <td>10178.372070</td>\n",
       "      <td>10116</td>\n",
       "      <td>10335</td>\n",
       "      <td>10441.3</td>\n",
       "      <td>10517.3</td>\n",
       "      <td>10353.3</td>\n",
       "      <td>10575.5</td>\n",
       "      <td>10594.5</td>\n",
       "      <td>10623.5</td>\n",
       "      <td>10346.8</td>\n",
       "      <td>...</td>\n",
       "      <td>10358.7</td>\n",
       "      <td>10319.4</td>\n",
       "      <td>10038.4</td>\n",
       "      <td>10889.5</td>\n",
       "      <td>11385.1</td>\n",
       "      <td>11528.2</td>\n",
       "      <td>DOWN</td>\n",
       "      <td>0.0490984</td>\n",
       "      <td>0.869071</td>\n",
       "      <td>0.0818306</td>\n",
       "    </tr>\n",
       "    <tr>\n",
       "      <td>2019-09-11</td>\n",
       "      <td>10410.126953</td>\n",
       "      <td>10178.4</td>\n",
       "      <td>10116</td>\n",
       "      <td>10335</td>\n",
       "      <td>10441.3</td>\n",
       "      <td>10517.3</td>\n",
       "      <td>10353.3</td>\n",
       "      <td>10575.5</td>\n",
       "      <td>10594.5</td>\n",
       "      <td>10623.5</td>\n",
       "      <td>...</td>\n",
       "      <td>10233</td>\n",
       "      <td>10358.7</td>\n",
       "      <td>10319.4</td>\n",
       "      <td>10038.4</td>\n",
       "      <td>10889.5</td>\n",
       "      <td>11385.1</td>\n",
       "      <td>UP</td>\n",
       "      <td>0.0484984</td>\n",
       "      <td>0.888504</td>\n",
       "      <td>0.0629979</td>\n",
       "    </tr>\n",
       "    <tr>\n",
       "      <td>2019-09-12</td>\n",
       "      <td>10360.546875</td>\n",
       "      <td>10410.1</td>\n",
       "      <td>10178.4</td>\n",
       "      <td>10116</td>\n",
       "      <td>10335</td>\n",
       "      <td>10441.3</td>\n",
       "      <td>10517.3</td>\n",
       "      <td>10353.3</td>\n",
       "      <td>10575.5</td>\n",
       "      <td>10594.5</td>\n",
       "      <td>...</td>\n",
       "      <td>10350.3</td>\n",
       "      <td>10233</td>\n",
       "      <td>10358.7</td>\n",
       "      <td>10319.4</td>\n",
       "      <td>10038.4</td>\n",
       "      <td>10889.5</td>\n",
       "      <td>UP</td>\n",
       "      <td>0.0588</td>\n",
       "      <td>0.8413</td>\n",
       "      <td>0.0999</td>\n",
       "    </tr>\n",
       "    <tr>\n",
       "      <td>2019-09-13</td>\n",
       "      <td>10358.048828</td>\n",
       "      <td>10360.5</td>\n",
       "      <td>10410.1</td>\n",
       "      <td>10178.4</td>\n",
       "      <td>10116</td>\n",
       "      <td>10335</td>\n",
       "      <td>10441.3</td>\n",
       "      <td>10517.3</td>\n",
       "      <td>10353.3</td>\n",
       "      <td>10575.5</td>\n",
       "      <td>...</td>\n",
       "      <td>10916.3</td>\n",
       "      <td>10350.3</td>\n",
       "      <td>10233</td>\n",
       "      <td>10358.7</td>\n",
       "      <td>10319.4</td>\n",
       "      <td>10038.4</td>\n",
       "      <td>DOWN</td>\n",
       "      <td>0.0439319</td>\n",
       "      <td>0.879837</td>\n",
       "      <td>0.0762308</td>\n",
       "    </tr>\n",
       "    <tr>\n",
       "      <td>2019-09-14</td>\n",
       "      <td>10347.712891</td>\n",
       "      <td>10358</td>\n",
       "      <td>10360.5</td>\n",
       "      <td>10410.1</td>\n",
       "      <td>10178.4</td>\n",
       "      <td>10116</td>\n",
       "      <td>10335</td>\n",
       "      <td>10441.3</td>\n",
       "      <td>10517.3</td>\n",
       "      <td>10353.3</td>\n",
       "      <td>...</td>\n",
       "      <td>10764.6</td>\n",
       "      <td>10916.3</td>\n",
       "      <td>10350.3</td>\n",
       "      <td>10233</td>\n",
       "      <td>10358.7</td>\n",
       "      <td>10319.4</td>\n",
       "      <td>UP</td>\n",
       "      <td>0.0253</td>\n",
       "      <td>0.9104</td>\n",
       "      <td>0.0643</td>\n",
       "    </tr>\n",
       "    <tr>\n",
       "      <td>...</td>\n",
       "      <td>...</td>\n",
       "      <td>...</td>\n",
       "      <td>...</td>\n",
       "      <td>...</td>\n",
       "      <td>...</td>\n",
       "      <td>...</td>\n",
       "      <td>...</td>\n",
       "      <td>...</td>\n",
       "      <td>...</td>\n",
       "      <td>...</td>\n",
       "      <td>...</td>\n",
       "      <td>...</td>\n",
       "      <td>...</td>\n",
       "      <td>...</td>\n",
       "      <td>...</td>\n",
       "      <td>...</td>\n",
       "      <td>...</td>\n",
       "      <td>...</td>\n",
       "      <td>...</td>\n",
       "      <td>...</td>\n",
       "      <td>...</td>\n",
       "    </tr>\n",
       "    <tr>\n",
       "      <td>2020-08-02</td>\n",
       "      <td>11246.348633</td>\n",
       "      <td>11053.6</td>\n",
       "      <td>11759.6</td>\n",
       "      <td>11323.5</td>\n",
       "      <td>11111.2</td>\n",
       "      <td>11100.5</td>\n",
       "      <td>10912.8</td>\n",
       "      <td>10990.9</td>\n",
       "      <td>9905.17</td>\n",
       "      <td>9677.11</td>\n",
       "      <td>...</td>\n",
       "      <td>9427.99</td>\n",
       "      <td>9253.02</td>\n",
       "      <td>9349.16</td>\n",
       "      <td>9072.85</td>\n",
       "      <td>9126.09</td>\n",
       "      <td>9084.23</td>\n",
       "      <td>DOWN</td>\n",
       "      <td>0.0587864</td>\n",
       "      <td>0.869428</td>\n",
       "      <td>0.0717857</td>\n",
       "    </tr>\n",
       "    <tr>\n",
       "      <td>2020-08-04</td>\n",
       "      <td>11747.022461</td>\n",
       "      <td>11246.3</td>\n",
       "      <td>11246.3</td>\n",
       "      <td>11053.6</td>\n",
       "      <td>11759.6</td>\n",
       "      <td>11323.5</td>\n",
       "      <td>11111.2</td>\n",
       "      <td>11100.5</td>\n",
       "      <td>10912.8</td>\n",
       "      <td>10990.9</td>\n",
       "      <td>...</td>\n",
       "      <td>9277.51</td>\n",
       "      <td>9273.36</td>\n",
       "      <td>9427.99</td>\n",
       "      <td>9253.02</td>\n",
       "      <td>9349.16</td>\n",
       "      <td>9072.85</td>\n",
       "      <td>UP</td>\n",
       "      <td>0.05575</td>\n",
       "      <td>0.8895</td>\n",
       "      <td>0.05475</td>\n",
       "    </tr>\n",
       "    <tr>\n",
       "      <td>2020-08-05</td>\n",
       "      <td>11779.773438</td>\n",
       "      <td>11747</td>\n",
       "      <td>11246.3</td>\n",
       "      <td>11246.3</td>\n",
       "      <td>11053.6</td>\n",
       "      <td>11759.6</td>\n",
       "      <td>11323.5</td>\n",
       "      <td>11111.2</td>\n",
       "      <td>11100.5</td>\n",
       "      <td>10912.8</td>\n",
       "      <td>...</td>\n",
       "      <td>9241.05</td>\n",
       "      <td>9277.51</td>\n",
       "      <td>9273.36</td>\n",
       "      <td>9427.99</td>\n",
       "      <td>9253.02</td>\n",
       "      <td>9349.16</td>\n",
       "      <td>UP</td>\n",
       "      <td>0.022</td>\n",
       "      <td>0.902368</td>\n",
       "      <td>0.0756316</td>\n",
       "    </tr>\n",
       "    <tr>\n",
       "      <td>2020-08-06</td>\n",
       "      <td>11601.472656</td>\n",
       "      <td>11779.8</td>\n",
       "      <td>11747</td>\n",
       "      <td>11246.3</td>\n",
       "      <td>11246.3</td>\n",
       "      <td>11053.6</td>\n",
       "      <td>11759.6</td>\n",
       "      <td>11323.5</td>\n",
       "      <td>11111.2</td>\n",
       "      <td>11100.5</td>\n",
       "      <td>...</td>\n",
       "      <td>9277.21</td>\n",
       "      <td>9241.05</td>\n",
       "      <td>9277.51</td>\n",
       "      <td>9273.36</td>\n",
       "      <td>9427.99</td>\n",
       "      <td>9253.02</td>\n",
       "      <td>UP</td>\n",
       "      <td>0.0257778</td>\n",
       "      <td>0.895</td>\n",
       "      <td>0.0792222</td>\n",
       "    </tr>\n",
       "    <tr>\n",
       "      <td>2020-08-07</td>\n",
       "      <td>11754.045898</td>\n",
       "      <td>11601.5</td>\n",
       "      <td>11779.8</td>\n",
       "      <td>11747</td>\n",
       "      <td>11246.3</td>\n",
       "      <td>11246.3</td>\n",
       "      <td>11053.6</td>\n",
       "      <td>11759.6</td>\n",
       "      <td>11323.5</td>\n",
       "      <td>11111.2</td>\n",
       "      <td>...</td>\n",
       "      <td>9238.7</td>\n",
       "      <td>9277.21</td>\n",
       "      <td>9241.05</td>\n",
       "      <td>9277.51</td>\n",
       "      <td>9273.36</td>\n",
       "      <td>9427.99</td>\n",
       "      <td>DOWN</td>\n",
       "      <td>0.0277762</td>\n",
       "      <td>0.908894</td>\n",
       "      <td>0.0633298</td>\n",
       "    </tr>\n",
       "  </tbody>\n",
       "</table>\n",
       "<p>331 rows × 66 columns</p>\n",
       "</div>"
      ],
      "text/plain": [
       "                   Close Close_Past_1 Close_Past_2 Close_Past_3 Close_Past_4  \\\n",
       "Date                                                                           \n",
       "2019-09-10  10178.372070        10116        10335      10441.3      10517.3   \n",
       "2019-09-11  10410.126953      10178.4        10116        10335      10441.3   \n",
       "2019-09-12  10360.546875      10410.1      10178.4        10116        10335   \n",
       "2019-09-13  10358.048828      10360.5      10410.1      10178.4        10116   \n",
       "2019-09-14  10347.712891        10358      10360.5      10410.1      10178.4   \n",
       "...                  ...          ...          ...          ...          ...   \n",
       "2020-08-02  11246.348633      11053.6      11759.6      11323.5      11111.2   \n",
       "2020-08-04  11747.022461      11246.3      11246.3      11053.6      11759.6   \n",
       "2020-08-05  11779.773438        11747      11246.3      11246.3      11053.6   \n",
       "2020-08-06  11601.472656      11779.8        11747      11246.3      11246.3   \n",
       "2020-08-07  11754.045898      11601.5      11779.8        11747      11246.3   \n",
       "\n",
       "           Close_Past_5 Close_Past_6 Close_Past_7 Close_Past_8 Close_Past_9  \\\n",
       "Date                                                                          \n",
       "2019-09-10      10353.3      10575.5      10594.5      10623.5      10346.8   \n",
       "2019-09-11      10517.3      10353.3      10575.5      10594.5      10623.5   \n",
       "2019-09-12      10441.3      10517.3      10353.3      10575.5      10594.5   \n",
       "2019-09-13        10335      10441.3      10517.3      10353.3      10575.5   \n",
       "2019-09-14        10116        10335      10441.3      10517.3      10353.3   \n",
       "...                 ...          ...          ...          ...          ...   \n",
       "2020-08-02      11100.5      10912.8      10990.9      9905.17      9677.11   \n",
       "2020-08-04      11323.5      11111.2      11100.5      10912.8      10990.9   \n",
       "2020-08-05      11759.6      11323.5      11111.2      11100.5      10912.8   \n",
       "2020-08-06      11053.6      11759.6      11323.5      11111.2      11100.5   \n",
       "2020-08-07      11246.3      11053.6      11759.6      11323.5      11111.2   \n",
       "\n",
       "            ... Open_Past_25 Open_Past_26 Open_Past_27 Open_Past_28  \\\n",
       "Date        ...                                                       \n",
       "2019-09-10  ...      10358.7      10319.4      10038.4      10889.5   \n",
       "2019-09-11  ...        10233      10358.7      10319.4      10038.4   \n",
       "2019-09-12  ...      10350.3        10233      10358.7      10319.4   \n",
       "2019-09-13  ...      10916.3      10350.3        10233      10358.7   \n",
       "2019-09-14  ...      10764.6      10916.3      10350.3        10233   \n",
       "...         ...          ...          ...          ...          ...   \n",
       "2020-08-02  ...      9427.99      9253.02      9349.16      9072.85   \n",
       "2020-08-04  ...      9277.51      9273.36      9427.99      9253.02   \n",
       "2020-08-05  ...      9241.05      9277.51      9273.36      9427.99   \n",
       "2020-08-06  ...      9277.21      9241.05      9277.51      9273.36   \n",
       "2020-08-07  ...       9238.7      9277.21      9241.05      9277.51   \n",
       "\n",
       "           Open_Past_29 Open_Past_30 MonthTrend   negative   neutral  \\\n",
       "Date                                                                   \n",
       "2019-09-10      11385.1      11528.2       DOWN  0.0490984  0.869071   \n",
       "2019-09-11      10889.5      11385.1         UP  0.0484984  0.888504   \n",
       "2019-09-12      10038.4      10889.5         UP     0.0588    0.8413   \n",
       "2019-09-13      10319.4      10038.4       DOWN  0.0439319  0.879837   \n",
       "2019-09-14      10358.7      10319.4         UP     0.0253    0.9104   \n",
       "...                 ...          ...        ...        ...       ...   \n",
       "2020-08-02      9126.09      9084.23       DOWN  0.0587864  0.869428   \n",
       "2020-08-04      9349.16      9072.85         UP    0.05575    0.8895   \n",
       "2020-08-05      9253.02      9349.16         UP      0.022  0.902368   \n",
       "2020-08-06      9427.99      9253.02         UP  0.0257778     0.895   \n",
       "2020-08-07      9273.36      9427.99       DOWN  0.0277762  0.908894   \n",
       "\n",
       "             positive  \n",
       "Date                   \n",
       "2019-09-10  0.0818306  \n",
       "2019-09-11  0.0629979  \n",
       "2019-09-12     0.0999  \n",
       "2019-09-13  0.0762308  \n",
       "2019-09-14     0.0643  \n",
       "...               ...  \n",
       "2020-08-02  0.0717857  \n",
       "2020-08-04    0.05475  \n",
       "2020-08-05  0.0756316  \n",
       "2020-08-06  0.0792222  \n",
       "2020-08-07  0.0633298  \n",
       "\n",
       "[331 rows x 66 columns]"
      ]
     },
     "execution_count": 35,
     "metadata": {},
     "output_type": "execute_result"
    }
   ],
   "source": [
    "btc"
   ]
  },
  {
   "cell_type": "code",
   "execution_count": 149,
   "metadata": {},
   "outputs": [
    {
     "name": "stdout",
     "output_type": "stream",
     "text": [
      "Fitting 10 folds for each of 3 candidates, totalling 30 fits\n"
     ]
    },
    {
     "name": "stderr",
     "output_type": "stream",
     "text": [
      "[Parallel(n_jobs=6)]: Using backend LokyBackend with 6 concurrent workers.\n",
      "[Parallel(n_jobs=6)]: Done  30 out of  30 | elapsed:    1.7s finished\n",
      "[Parallel(n_jobs=6)]: Using backend LokyBackend with 6 concurrent workers.\n",
      "[Parallel(n_jobs=6)]: Done  30 out of  30 | elapsed:    0.0s finished\n",
      "[Parallel(n_jobs=6)]: Using backend LokyBackend with 6 concurrent workers.\n"
     ]
    },
    {
     "name": "stdout",
     "output_type": "stream",
     "text": [
      "portfolio value: 100\n",
      "Fitting 10 folds for each of 3 candidates, totalling 30 fits\n",
      "G A I N! 0.006472248446458507\n",
      "portfolio value: 100.64722484464585\n",
      "Fitting 10 folds for each of 3 candidates, totalling 30 fits\n"
     ]
    },
    {
     "name": "stderr",
     "output_type": "stream",
     "text": [
      "[Parallel(n_jobs=6)]: Done  30 out of  30 | elapsed:    0.0s finished\n",
      "[Parallel(n_jobs=6)]: Using backend LokyBackend with 6 concurrent workers.\n",
      "[Parallel(n_jobs=6)]: Done  30 out of  30 | elapsed:    0.0s finished\n",
      "[Parallel(n_jobs=6)]: Using backend LokyBackend with 6 concurrent workers.\n"
     ]
    },
    {
     "name": "stdout",
     "output_type": "stream",
     "text": [
      "portfolio value: 100.64722484464585\n",
      "Fitting 10 folds for each of 3 candidates, totalling 30 fits\n",
      "portfolio value: 100.64722484464585\n",
      "Fitting 10 folds for each of 3 candidates, totalling 30 fits\n"
     ]
    },
    {
     "name": "stderr",
     "output_type": "stream",
     "text": [
      "[Parallel(n_jobs=6)]: Done  30 out of  30 | elapsed:    0.0s finished\n",
      "[Parallel(n_jobs=6)]: Using backend LokyBackend with 6 concurrent workers.\n",
      "[Parallel(n_jobs=6)]: Done  30 out of  30 | elapsed:    0.0s finished\n",
      "[Parallel(n_jobs=6)]: Using backend LokyBackend with 6 concurrent workers.\n"
     ]
    },
    {
     "name": "stdout",
     "output_type": "stream",
     "text": [
      "portfolio value: 100.64722484464585\n",
      "Fitting 10 folds for each of 3 candidates, totalling 30 fits\n",
      "LOSS! -0.01576683387668956\n",
      "portfolio value: 102.23411291892121\n",
      "Fitting 10 folds for each of 3 candidates, totalling 30 fits\n"
     ]
    },
    {
     "name": "stderr",
     "output_type": "stream",
     "text": [
      "[Parallel(n_jobs=6)]: Done  30 out of  30 | elapsed:    0.0s finished\n",
      "[Parallel(n_jobs=6)]: Using backend LokyBackend with 6 concurrent workers.\n",
      "[Parallel(n_jobs=6)]: Done  30 out of  30 | elapsed:    0.0s finished\n",
      "[Parallel(n_jobs=6)]: Using backend LokyBackend with 6 concurrent workers.\n"
     ]
    },
    {
     "name": "stdout",
     "output_type": "stream",
     "text": [
      "G A I N! 0.0018506645601594578\n",
      "portfolio value: 102.4233139685396\n",
      "Fitting 10 folds for each of 3 candidates, totalling 30 fits\n",
      "G A I N! 0.02804156095277337\n",
      "portfolio value: 105.29542357017344\n",
      "Fitting 10 folds for each of 3 candidates, totalling 30 fits\n"
     ]
    },
    {
     "name": "stderr",
     "output_type": "stream",
     "text": [
      "[Parallel(n_jobs=6)]: Done  30 out of  30 | elapsed:    0.0s finished\n",
      "[Parallel(n_jobs=6)]: Using backend LokyBackend with 6 concurrent workers.\n",
      "[Parallel(n_jobs=6)]: Done  30 out of  30 | elapsed:    0.0s finished\n",
      "[Parallel(n_jobs=6)]: Using backend LokyBackend with 6 concurrent workers.\n"
     ]
    },
    {
     "name": "stdout",
     "output_type": "stream",
     "text": [
      "G A I N! 0.0022620313782647896\n",
      "portfolio value: 105.53360512227687\n",
      "Fitting 10 folds for each of 3 candidates, totalling 30 fits\n",
      "LOSS! -0.02004017417338013\n",
      "portfolio value: 107.64851695007202\n",
      "Fitting 10 folds for each of 3 candidates, totalling 30 fits\n"
     ]
    },
    {
     "name": "stderr",
     "output_type": "stream",
     "text": [
      "[Parallel(n_jobs=6)]: Done  30 out of  30 | elapsed:    0.0s finished\n",
      "[Parallel(n_jobs=6)]: Using backend LokyBackend with 6 concurrent workers.\n",
      "[Parallel(n_jobs=6)]: Done  30 out of  30 | elapsed:    0.0s finished\n",
      "[Parallel(n_jobs=6)]: Using backend LokyBackend with 6 concurrent workers.\n"
     ]
    },
    {
     "name": "stdout",
     "output_type": "stream",
     "text": [
      "portfolio value: 107.64851695007202\n",
      "Fitting 10 folds for each of 3 candidates, totalling 30 fits\n",
      "portfolio value: 107.64851695007202\n",
      "Fitting 10 folds for each of 3 candidates, totalling 30 fits\n"
     ]
    },
    {
     "name": "stderr",
     "output_type": "stream",
     "text": [
      "[Parallel(n_jobs=6)]: Done  30 out of  30 | elapsed:    0.0s finished\n",
      "[Parallel(n_jobs=6)]: Using backend LokyBackend with 6 concurrent workers.\n",
      "[Parallel(n_jobs=6)]: Done  30 out of  30 | elapsed:    0.0s finished\n",
      "[Parallel(n_jobs=6)]: Using backend LokyBackend with 6 concurrent workers.\n"
     ]
    },
    {
     "name": "stdout",
     "output_type": "stream",
     "text": [
      "portfolio value: 107.64851695007202\n",
      "Fitting 10 folds for each of 3 candidates, totalling 30 fits\n",
      "G A I N! 0.0666155602568345\n",
      "portfolio value: 114.81958321751843\n",
      "Fitting 10 folds for each of 3 candidates, totalling 30 fits\n"
     ]
    },
    {
     "name": "stderr",
     "output_type": "stream",
     "text": [
      "[Parallel(n_jobs=6)]: Done  30 out of  30 | elapsed:    0.0s finished\n",
      "[Parallel(n_jobs=6)]: Using backend LokyBackend with 6 concurrent workers.\n",
      "[Parallel(n_jobs=6)]: Done  30 out of  30 | elapsed:    0.0s finished\n",
      "[Parallel(n_jobs=6)]: Using backend LokyBackend with 6 concurrent workers.\n"
     ]
    },
    {
     "name": "stdout",
     "output_type": "stream",
     "text": [
      "G A I N! 0.03354443193792408\n",
      "portfolio value: 118.67114091189929\n",
      "Fitting 10 folds for each of 3 candidates, totalling 30 fits\n",
      "portfolio value: 118.67114091189929\n",
      "Fitting 10 folds for each of 3 candidates, totalling 30 fits\n"
     ]
    },
    {
     "name": "stderr",
     "output_type": "stream",
     "text": [
      "[Parallel(n_jobs=6)]: Done  30 out of  30 | elapsed:    0.0s finished\n",
      "[Parallel(n_jobs=6)]: Using backend LokyBackend with 6 concurrent workers.\n",
      "[Parallel(n_jobs=6)]: Done  30 out of  30 | elapsed:    0.0s finished\n",
      "[Parallel(n_jobs=6)]: Using backend LokyBackend with 6 concurrent workers.\n"
     ]
    },
    {
     "name": "stdout",
     "output_type": "stream",
     "text": [
      "portfolio value: 118.67114091189929\n",
      "Fitting 10 folds for each of 3 candidates, totalling 30 fits\n",
      "portfolio value: 118.67114091189929\n",
      "Fitting 10 folds for each of 3 candidates, totalling 30 fits\n"
     ]
    },
    {
     "name": "stderr",
     "output_type": "stream",
     "text": [
      "[Parallel(n_jobs=6)]: Done  30 out of  30 | elapsed:    0.0s finished\n",
      "[Parallel(n_jobs=6)]: Using backend LokyBackend with 6 concurrent workers.\n",
      "[Parallel(n_jobs=6)]: Done  30 out of  30 | elapsed:    0.0s finished\n",
      "[Parallel(n_jobs=6)]: Using backend LokyBackend with 6 concurrent workers.\n"
     ]
    },
    {
     "name": "stdout",
     "output_type": "stream",
     "text": [
      "portfolio value: 118.67114091189929\n",
      "Fitting 10 folds for each of 3 candidates, totalling 30 fits\n",
      "portfolio value: 118.67114091189929\n",
      "Fitting 10 folds for each of 3 candidates, totalling 30 fits\n"
     ]
    },
    {
     "name": "stderr",
     "output_type": "stream",
     "text": [
      "[Parallel(n_jobs=6)]: Done  30 out of  30 | elapsed:    0.0s finished\n",
      "[Parallel(n_jobs=6)]: Using backend LokyBackend with 6 concurrent workers.\n",
      "[Parallel(n_jobs=6)]: Done  30 out of  30 | elapsed:    0.0s finished\n",
      "[Parallel(n_jobs=6)]: Using backend LokyBackend with 6 concurrent workers.\n"
     ]
    },
    {
     "name": "stdout",
     "output_type": "stream",
     "text": [
      "portfolio value: 118.67114091189929\n",
      "Fitting 10 folds for each of 3 candidates, totalling 30 fits\n",
      "portfolio value: 118.67114091189929\n",
      "Fitting 10 folds for each of 3 candidates, totalling 30 fits\n"
     ]
    },
    {
     "name": "stderr",
     "output_type": "stream",
     "text": [
      "[Parallel(n_jobs=6)]: Done  30 out of  30 | elapsed:    0.0s finished\n",
      "[Parallel(n_jobs=6)]: Using backend LokyBackend with 6 concurrent workers.\n",
      "[Parallel(n_jobs=6)]: Done  30 out of  30 | elapsed:    0.0s finished\n",
      "[Parallel(n_jobs=6)]: Using backend LokyBackend with 6 concurrent workers.\n"
     ]
    },
    {
     "name": "stdout",
     "output_type": "stream",
     "text": [
      "portfolio value: 118.67114091189929\n",
      "Fitting 10 folds for each of 3 candidates, totalling 30 fits\n",
      "LOSS! -0.007487251939196074\n",
      "portfolio value: 119.55966164181851\n",
      "Fitting 10 folds for each of 3 candidates, totalling 30 fits\n"
     ]
    },
    {
     "name": "stderr",
     "output_type": "stream",
     "text": [
      "[Parallel(n_jobs=6)]: Done  30 out of  30 | elapsed:    0.0s finished\n",
      "[Parallel(n_jobs=6)]: Using backend LokyBackend with 6 concurrent workers.\n",
      "[Parallel(n_jobs=6)]: Done  30 out of  30 | elapsed:    0.0s finished\n",
      "[Parallel(n_jobs=6)]: Using backend LokyBackend with 6 concurrent workers.\n"
     ]
    },
    {
     "name": "stdout",
     "output_type": "stream",
     "text": [
      "G A I N! 0.0021428022555042866\n",
      "portfolio value: 119.81585435445193\n",
      "Fitting 10 folds for each of 3 candidates, totalling 30 fits\n",
      "portfolio value: 119.81585435445193\n",
      "Fitting 10 folds for each of 3 candidates, totalling 30 fits\n"
     ]
    },
    {
     "name": "stderr",
     "output_type": "stream",
     "text": [
      "[Parallel(n_jobs=6)]: Done  30 out of  30 | elapsed:    0.0s finished\n",
      "[Parallel(n_jobs=6)]: Using backend LokyBackend with 6 concurrent workers.\n",
      "[Parallel(n_jobs=6)]: Done  30 out of  30 | elapsed:    0.0s finished\n",
      "[Parallel(n_jobs=6)]: Using backend LokyBackend with 6 concurrent workers.\n"
     ]
    },
    {
     "name": "stdout",
     "output_type": "stream",
     "text": [
      "portfolio value: 119.81585435445193\n",
      "Fitting 10 folds for each of 3 candidates, totalling 30 fits\n",
      "portfolio value: 119.81585435445193\n",
      "Fitting 10 folds for each of 3 candidates, totalling 30 fits\n"
     ]
    },
    {
     "name": "stderr",
     "output_type": "stream",
     "text": [
      "[Parallel(n_jobs=6)]: Done  30 out of  30 | elapsed:    0.0s finished\n",
      "[Parallel(n_jobs=6)]: Using backend LokyBackend with 6 concurrent workers.\n",
      "[Parallel(n_jobs=6)]: Done  30 out of  30 | elapsed:    0.0s finished\n",
      "[Parallel(n_jobs=6)]: Using backend LokyBackend with 6 concurrent workers.\n"
     ]
    },
    {
     "name": "stdout",
     "output_type": "stream",
     "text": [
      "portfolio value: 119.81585435445193\n",
      "Fitting 10 folds for each of 3 candidates, totalling 30 fits\n",
      "portfolio value: 119.81585435445193\n",
      "Fitting 10 folds for each of 3 candidates, totalling 30 fits\n"
     ]
    },
    {
     "name": "stderr",
     "output_type": "stream",
     "text": [
      "[Parallel(n_jobs=6)]: Done  30 out of  30 | elapsed:    0.0s finished\n",
      "[Parallel(n_jobs=6)]: Using backend LokyBackend with 6 concurrent workers.\n",
      "[Parallel(n_jobs=6)]: Done  30 out of  30 | elapsed:    0.0s finished\n",
      "[Parallel(n_jobs=6)]: Using backend LokyBackend with 6 concurrent workers.\n"
     ]
    },
    {
     "name": "stdout",
     "output_type": "stream",
     "text": [
      "portfolio value: 119.81585435445193\n",
      "Fitting 10 folds for each of 3 candidates, totalling 30 fits\n",
      "portfolio value: 119.81585435445193\n",
      "Fitting 10 folds for each of 3 candidates, totalling 30 fits\n"
     ]
    },
    {
     "name": "stderr",
     "output_type": "stream",
     "text": [
      "[Parallel(n_jobs=6)]: Done  30 out of  30 | elapsed:    0.0s finished\n",
      "[Parallel(n_jobs=6)]: Using backend LokyBackend with 6 concurrent workers.\n",
      "[Parallel(n_jobs=6)]: Done  30 out of  30 | elapsed:    0.0s finished\n",
      "[Parallel(n_jobs=6)]: Using backend LokyBackend with 6 concurrent workers.\n"
     ]
    },
    {
     "name": "stdout",
     "output_type": "stream",
     "text": [
      "LOSS! -0.011784219802174851\n",
      "portfolio value: 121.22779071795017\n",
      "Fitting 10 folds for each of 3 candidates, totalling 30 fits\n",
      "portfolio value: 121.22779071795017\n",
      "Fitting 10 folds for each of 3 candidates, totalling 30 fits\n"
     ]
    },
    {
     "name": "stderr",
     "output_type": "stream",
     "text": [
      "[Parallel(n_jobs=6)]: Done  30 out of  30 | elapsed:    0.0s finished\n",
      "[Parallel(n_jobs=6)]: Using backend LokyBackend with 6 concurrent workers.\n",
      "[Parallel(n_jobs=6)]: Done  30 out of  30 | elapsed:    0.0s finished\n",
      "[Parallel(n_jobs=6)]: Using backend LokyBackend with 6 concurrent workers.\n"
     ]
    },
    {
     "name": "stdout",
     "output_type": "stream",
     "text": [
      "portfolio value: 121.22779071795017\n",
      "Fitting 10 folds for each of 3 candidates, totalling 30 fits\n",
      "portfolio value: 121.22779071795017\n",
      "Fitting 10 folds for each of 3 candidates, totalling 30 fits\n"
     ]
    },
    {
     "name": "stderr",
     "output_type": "stream",
     "text": [
      "[Parallel(n_jobs=6)]: Done  30 out of  30 | elapsed:    0.0s finished\n",
      "[Parallel(n_jobs=6)]: Using backend LokyBackend with 6 concurrent workers.\n",
      "[Parallel(n_jobs=6)]: Done  30 out of  30 | elapsed:    0.0s finished\n",
      "[Parallel(n_jobs=6)]: Using backend LokyBackend with 6 concurrent workers.\n"
     ]
    },
    {
     "name": "stdout",
     "output_type": "stream",
     "text": [
      "portfolio value: 121.22779071795017\n",
      "Fitting 10 folds for each of 3 candidates, totalling 30 fits\n",
      "LOSS! -0.01191904293019026\n",
      "portfolio value: 122.67270995984954\n",
      "Fitting 10 folds for each of 3 candidates, totalling 30 fits\n"
     ]
    },
    {
     "name": "stderr",
     "output_type": "stream",
     "text": [
      "[Parallel(n_jobs=6)]: Done  30 out of  30 | elapsed:    0.0s finished\n",
      "[Parallel(n_jobs=6)]: Using backend LokyBackend with 6 concurrent workers.\n",
      "[Parallel(n_jobs=6)]: Done  30 out of  30 | elapsed:    0.0s finished\n",
      "[Parallel(n_jobs=6)]: Using backend LokyBackend with 6 concurrent workers.\n"
     ]
    },
    {
     "name": "stdout",
     "output_type": "stream",
     "text": [
      "portfolio value: 122.67270995984954\n",
      "Fitting 10 folds for each of 3 candidates, totalling 30 fits\n",
      "portfolio value: 122.67270995984954\n",
      "Fitting 10 folds for each of 3 candidates, totalling 30 fits\n"
     ]
    },
    {
     "name": "stderr",
     "output_type": "stream",
     "text": [
      "[Parallel(n_jobs=6)]: Done  30 out of  30 | elapsed:    0.0s finished\n",
      "[Parallel(n_jobs=6)]: Using backend LokyBackend with 6 concurrent workers.\n",
      "[Parallel(n_jobs=6)]: Done  30 out of  30 | elapsed:    0.0s finished\n",
      "[Parallel(n_jobs=6)]: Using backend LokyBackend with 6 concurrent workers.\n"
     ]
    },
    {
     "name": "stdout",
     "output_type": "stream",
     "text": [
      "portfolio value: 122.67270995984954\n",
      "Fitting 10 folds for each of 3 candidates, totalling 30 fits\n",
      "portfolio value: 122.67270995984954\n",
      "Fitting 10 folds for each of 3 candidates, totalling 30 fits\n"
     ]
    },
    {
     "name": "stderr",
     "output_type": "stream",
     "text": [
      "[Parallel(n_jobs=6)]: Done  30 out of  30 | elapsed:    0.0s finished\n",
      "[Parallel(n_jobs=6)]: Using backend LokyBackend with 6 concurrent workers.\n",
      "[Parallel(n_jobs=6)]: Done  30 out of  30 | elapsed:    0.0s finished\n",
      "[Parallel(n_jobs=6)]: Using backend LokyBackend with 6 concurrent workers.\n"
     ]
    },
    {
     "name": "stdout",
     "output_type": "stream",
     "text": [
      "portfolio value: 122.67270995984954\n",
      "Fitting 10 folds for each of 3 candidates, totalling 30 fits\n",
      "portfolio value: 122.67270995984954\n",
      "Fitting 10 folds for each of 3 candidates, totalling 30 fits\n"
     ]
    },
    {
     "name": "stderr",
     "output_type": "stream",
     "text": [
      "[Parallel(n_jobs=6)]: Done  30 out of  30 | elapsed:    0.0s finished\n",
      "[Parallel(n_jobs=6)]: Using backend LokyBackend with 6 concurrent workers.\n",
      "[Parallel(n_jobs=6)]: Done  30 out of  30 | elapsed:    0.0s finished\n",
      "[Parallel(n_jobs=6)]: Using backend LokyBackend with 6 concurrent workers.\n"
     ]
    },
    {
     "name": "stdout",
     "output_type": "stream",
     "text": [
      "portfolio value: 122.67270995984954\n",
      "Fitting 10 folds for each of 3 candidates, totalling 30 fits\n",
      "G A I N! 0.04303944641881955\n",
      "portfolio value: 127.95247548721787\n",
      "Fitting 10 folds for each of 3 candidates, totalling 30 fits\n"
     ]
    },
    {
     "name": "stderr",
     "output_type": "stream",
     "text": [
      "[Parallel(n_jobs=6)]: Done  30 out of  30 | elapsed:    0.0s finished\n",
      "[Parallel(n_jobs=6)]: Using backend LokyBackend with 6 concurrent workers.\n",
      "[Parallel(n_jobs=6)]: Done  30 out of  30 | elapsed:    0.0s finished\n",
      "[Parallel(n_jobs=6)]: Using backend LokyBackend with 6 concurrent workers.\n"
     ]
    },
    {
     "name": "stdout",
     "output_type": "stream",
     "text": [
      "LOSS! -0.009780564271446534\n",
      "portfolio value: 129.2039228974113\n",
      "Fitting 10 folds for each of 3 candidates, totalling 30 fits\n",
      "G A I N! 0.03944386872045691\n",
      "portfolio value: 134.30022547034483\n",
      "Fitting 10 folds for each of 3 candidates, totalling 30 fits\n"
     ]
    },
    {
     "name": "stderr",
     "output_type": "stream",
     "text": [
      "[Parallel(n_jobs=6)]: Done  30 out of  30 | elapsed:    0.0s finished\n",
      "[Parallel(n_jobs=6)]: Using backend LokyBackend with 6 concurrent workers.\n",
      "[Parallel(n_jobs=6)]: Done  30 out of  30 | elapsed:    0.0s finished\n",
      "[Parallel(n_jobs=6)]: Using backend LokyBackend with 6 concurrent workers.\n"
     ]
    },
    {
     "name": "stdout",
     "output_type": "stream",
     "text": [
      "portfolio value: 134.30022547034483\n",
      "Fitting 10 folds for each of 3 candidates, totalling 30 fits\n",
      "LOSS! -0.01945736899024742\n",
      "portfolio value: 136.91335451279477\n",
      "Fitting 10 folds for each of 3 candidates, totalling 30 fits\n"
     ]
    },
    {
     "name": "stderr",
     "output_type": "stream",
     "text": [
      "[Parallel(n_jobs=6)]: Done  30 out of  30 | elapsed:    0.0s finished\n",
      "[Parallel(n_jobs=6)]: Using backend LokyBackend with 6 concurrent workers.\n",
      "[Parallel(n_jobs=6)]: Done  30 out of  30 | elapsed:    0.0s finished\n",
      "[Parallel(n_jobs=6)]: Using backend LokyBackend with 6 concurrent workers.\n"
     ]
    },
    {
     "name": "stdout",
     "output_type": "stream",
     "text": [
      "portfolio value: 136.91335451279477\n",
      "Fitting 10 folds for each of 3 candidates, totalling 30 fits\n",
      "portfolio value: 136.91335451279477\n",
      "Fitting 10 folds for each of 3 candidates, totalling 30 fits\n"
     ]
    },
    {
     "name": "stderr",
     "output_type": "stream",
     "text": [
      "[Parallel(n_jobs=6)]: Done  30 out of  30 | elapsed:    0.0s finished\n",
      "[Parallel(n_jobs=6)]: Using backend LokyBackend with 6 concurrent workers.\n",
      "[Parallel(n_jobs=6)]: Done  30 out of  30 | elapsed:    0.0s finished\n",
      "[Parallel(n_jobs=6)]: Using backend LokyBackend with 6 concurrent workers.\n"
     ]
    },
    {
     "name": "stdout",
     "output_type": "stream",
     "text": [
      "portfolio value: 136.91335451279477\n",
      "Fitting 10 folds for each of 3 candidates, totalling 30 fits\n",
      "G A I N! 0.026893618889021805\n",
      "portfolio value: 140.59545008987942\n",
      "Fitting 10 folds for each of 3 candidates, totalling 30 fits\n"
     ]
    },
    {
     "name": "stderr",
     "output_type": "stream",
     "text": [
      "[Parallel(n_jobs=6)]: Done  30 out of  30 | elapsed:    0.0s finished\n",
      "[Parallel(n_jobs=6)]: Using backend LokyBackend with 6 concurrent workers.\n",
      "[Parallel(n_jobs=6)]: Done  30 out of  30 | elapsed:    0.0s finished\n",
      "[Parallel(n_jobs=6)]: Using backend LokyBackend with 6 concurrent workers.\n"
     ]
    },
    {
     "name": "stdout",
     "output_type": "stream",
     "text": [
      "portfolio value: 140.59545008987942\n",
      "Fitting 10 folds for each of 3 candidates, totalling 30 fits\n",
      "portfolio value: 140.59545008987942\n",
      "Fitting 10 folds for each of 3 candidates, totalling 30 fits\n"
     ]
    },
    {
     "name": "stderr",
     "output_type": "stream",
     "text": [
      "[Parallel(n_jobs=6)]: Done  30 out of  30 | elapsed:    0.0s finished\n",
      "[Parallel(n_jobs=6)]: Using backend LokyBackend with 6 concurrent workers.\n",
      "[Parallel(n_jobs=6)]: Done  30 out of  30 | elapsed:    0.0s finished\n",
      "[Parallel(n_jobs=6)]: Using backend LokyBackend with 6 concurrent workers.\n"
     ]
    },
    {
     "name": "stdout",
     "output_type": "stream",
     "text": [
      "portfolio value: 140.59545008987942\n",
      "Fitting 10 folds for each of 3 candidates, totalling 30 fits\n",
      "LOSS! -0.02127748601577484\n",
      "portfolio value: 143.5869678130484\n",
      "Fitting 10 folds for each of 3 candidates, totalling 30 fits\n"
     ]
    },
    {
     "name": "stderr",
     "output_type": "stream",
     "text": [
      "[Parallel(n_jobs=6)]: Done  30 out of  30 | elapsed:    0.0s finished\n",
      "[Parallel(n_jobs=6)]: Using backend LokyBackend with 6 concurrent workers.\n",
      "[Parallel(n_jobs=6)]: Done  30 out of  30 | elapsed:    0.0s finished\n",
      "[Parallel(n_jobs=6)]: Using backend LokyBackend with 6 concurrent workers.\n"
     ]
    },
    {
     "name": "stdout",
     "output_type": "stream",
     "text": [
      "LOSS! -0.016089291335703207\n",
      "portfolio value: 145.89718037020276\n",
      "Fitting 10 folds for each of 3 candidates, totalling 30 fits\n",
      "LOSS! -0.008213396122211523\n",
      "portfolio value: 147.095491705697\n",
      "Fitting 10 folds for each of 3 candidates, totalling 30 fits\n"
     ]
    },
    {
     "name": "stderr",
     "output_type": "stream",
     "text": [
      "[Parallel(n_jobs=6)]: Done  30 out of  30 | elapsed:    0.0s finished\n",
      "[Parallel(n_jobs=6)]: Using backend LokyBackend with 6 concurrent workers.\n",
      "[Parallel(n_jobs=6)]: Done  30 out of  30 | elapsed:    0.0s finished\n",
      "[Parallel(n_jobs=6)]: Using backend LokyBackend with 6 concurrent workers.\n"
     ]
    },
    {
     "name": "stdout",
     "output_type": "stream",
     "text": [
      "G A I N! 0.0036575395972403297\n",
      "portfolio value: 147.6334992911861\n",
      "Fitting 10 folds for each of 3 candidates, totalling 30 fits\n",
      "portfolio value: 147.6334992911861\n",
      "Fitting 10 folds for each of 3 candidates, totalling 30 fits\n"
     ]
    },
    {
     "name": "stderr",
     "output_type": "stream",
     "text": [
      "[Parallel(n_jobs=6)]: Done  30 out of  30 | elapsed:    0.0s finished\n",
      "[Parallel(n_jobs=6)]: Using backend LokyBackend with 6 concurrent workers.\n",
      "[Parallel(n_jobs=6)]: Done  30 out of  30 | elapsed:    0.0s finished\n",
      "[Parallel(n_jobs=6)]: Using backend LokyBackend with 6 concurrent workers.\n"
     ]
    },
    {
     "name": "stdout",
     "output_type": "stream",
     "text": [
      "portfolio value: 147.6334992911861\n",
      "Fitting 10 folds for each of 3 candidates, totalling 30 fits\n",
      "portfolio value: 147.6334992911861\n",
      "Fitting 10 folds for each of 3 candidates, totalling 30 fits\n"
     ]
    },
    {
     "name": "stderr",
     "output_type": "stream",
     "text": [
      "[Parallel(n_jobs=6)]: Done  30 out of  30 | elapsed:    0.0s finished\n",
      "[Parallel(n_jobs=6)]: Using backend LokyBackend with 6 concurrent workers.\n",
      "[Parallel(n_jobs=6)]: Done  30 out of  30 | elapsed:    0.0s finished\n",
      "[Parallel(n_jobs=6)]: Using backend LokyBackend with 6 concurrent workers.\n"
     ]
    },
    {
     "name": "stdout",
     "output_type": "stream",
     "text": [
      "LOSS! -0.030918791468149444\n",
      "portfolio value: 152.19814866948346\n",
      "Fitting 10 folds for each of 3 candidates, totalling 30 fits\n",
      "LOSS! -0.0419545605619424\n",
      "portfolio value: 158.58355511525284\n",
      "Fitting 10 folds for each of 3 candidates, totalling 30 fits\n"
     ]
    },
    {
     "name": "stderr",
     "output_type": "stream",
     "text": [
      "[Parallel(n_jobs=6)]: Done  30 out of  30 | elapsed:    0.0s finished\n",
      "[Parallel(n_jobs=6)]: Using backend LokyBackend with 6 concurrent workers.\n",
      "[Parallel(n_jobs=6)]: Done  30 out of  30 | elapsed:    0.0s finished\n",
      "[Parallel(n_jobs=6)]: Using backend LokyBackend with 6 concurrent workers.\n"
     ]
    },
    {
     "name": "stdout",
     "output_type": "stream",
     "text": [
      "portfolio value: 158.58355511525284\n",
      "Fitting 10 folds for each of 3 candidates, totalling 30 fits\n",
      "portfolio value: 158.58355511525284\n",
      "Fitting 10 folds for each of 3 candidates, totalling 30 fits\n"
     ]
    },
    {
     "name": "stderr",
     "output_type": "stream",
     "text": [
      "[Parallel(n_jobs=6)]: Done  30 out of  30 | elapsed:    0.0s finished\n",
      "[Parallel(n_jobs=6)]: Using backend LokyBackend with 6 concurrent workers.\n",
      "[Parallel(n_jobs=6)]: Done  30 out of  30 | elapsed:    0.0s finished\n",
      "[Parallel(n_jobs=6)]: Using backend LokyBackend with 6 concurrent workers.\n"
     ]
    },
    {
     "name": "stdout",
     "output_type": "stream",
     "text": [
      "G A I N! 0.0014121515478123844\n",
      "portfolio value: 158.80749912806644\n",
      "Fitting 10 folds for each of 3 candidates, totalling 30 fits\n",
      "portfolio value: 158.80749912806644\n",
      "Fitting 10 folds for each of 3 candidates, totalling 30 fits\n"
     ]
    },
    {
     "name": "stderr",
     "output_type": "stream",
     "text": [
      "[Parallel(n_jobs=6)]: Done  30 out of  30 | elapsed:    0.0s finished\n",
      "[Parallel(n_jobs=6)]: Using backend LokyBackend with 6 concurrent workers.\n",
      "[Parallel(n_jobs=6)]: Done  30 out of  30 | elapsed:    0.0s finished\n",
      "[Parallel(n_jobs=6)]: Using backend LokyBackend with 6 concurrent workers.\n"
     ]
    },
    {
     "name": "stdout",
     "output_type": "stream",
     "text": [
      "portfolio value: 158.80749912806644\n",
      "Fitting 10 folds for each of 3 candidates, totalling 30 fits\n",
      "portfolio value: 158.80749912806644\n",
      "Fitting 10 folds for each of 3 candidates, totalling 30 fits\n"
     ]
    },
    {
     "name": "stderr",
     "output_type": "stream",
     "text": [
      "[Parallel(n_jobs=6)]: Done  30 out of  30 | elapsed:    0.0s finished\n",
      "[Parallel(n_jobs=6)]: Using backend LokyBackend with 6 concurrent workers.\n",
      "[Parallel(n_jobs=6)]: Done  30 out of  30 | elapsed:    0.0s finished\n",
      "[Parallel(n_jobs=6)]: Using backend LokyBackend with 6 concurrent workers.\n"
     ]
    },
    {
     "name": "stdout",
     "output_type": "stream",
     "text": [
      "LOSS! -0.004332218791688667\n",
      "portfolio value: 159.49548796005016\n",
      "Fitting 10 folds for each of 3 candidates, totalling 30 fits\n",
      "portfolio value: 159.49548796005016\n",
      "Fitting 10 folds for each of 3 candidates, totalling 30 fits\n"
     ]
    },
    {
     "name": "stderr",
     "output_type": "stream",
     "text": [
      "[Parallel(n_jobs=6)]: Done  30 out of  30 | elapsed:    0.0s finished\n",
      "[Parallel(n_jobs=6)]: Using backend LokyBackend with 6 concurrent workers.\n",
      "[Parallel(n_jobs=6)]: Done  30 out of  30 | elapsed:    0.0s finished\n",
      "[Parallel(n_jobs=6)]: Using backend LokyBackend with 6 concurrent workers.\n"
     ]
    },
    {
     "name": "stdout",
     "output_type": "stream",
     "text": [
      "portfolio value: 159.49548796005016\n",
      "Fitting 10 folds for each of 3 candidates, totalling 30 fits\n",
      "portfolio value: 159.49548796005016\n",
      "Fitting 10 folds for each of 3 candidates, totalling 30 fits\n"
     ]
    },
    {
     "name": "stderr",
     "output_type": "stream",
     "text": [
      "[Parallel(n_jobs=6)]: Done  30 out of  30 | elapsed:    0.0s finished\n",
      "[Parallel(n_jobs=6)]: Using backend LokyBackend with 6 concurrent workers.\n",
      "[Parallel(n_jobs=6)]: Done  30 out of  30 | elapsed:    0.0s finished\n",
      "[Parallel(n_jobs=6)]: Using backend LokyBackend with 6 concurrent workers.\n"
     ]
    },
    {
     "name": "stdout",
     "output_type": "stream",
     "text": [
      "portfolio value: 159.49548796005016\n",
      "Fitting 10 folds for each of 3 candidates, totalling 30 fits\n",
      "G A I N! 0.014349607801452797\n",
      "portfolio value: 161.78418565837822\n",
      "Fitting 10 folds for each of 3 candidates, totalling 30 fits\n"
     ]
    },
    {
     "name": "stderr",
     "output_type": "stream",
     "text": [
      "[Parallel(n_jobs=6)]: Done  30 out of  30 | elapsed:    0.0s finished\n",
      "[Parallel(n_jobs=6)]: Using backend LokyBackend with 6 concurrent workers.\n",
      "[Parallel(n_jobs=6)]: Done  30 out of  30 | elapsed:    0.0s finished\n",
      "[Parallel(n_jobs=6)]: Using backend LokyBackend with 6 concurrent workers.\n"
     ]
    },
    {
     "name": "stdout",
     "output_type": "stream",
     "text": [
      "LOSS! -0.017152715661847798\n",
      "portfolio value: 164.55922379356\n",
      "Fitting 10 folds for each of 3 candidates, totalling 30 fits\n",
      "LOSS! -0.013824208309372019\n",
      "portfolio value: 166.83412478251074\n",
      "Fitting 10 folds for each of 3 candidates, totalling 30 fits\n"
     ]
    },
    {
     "name": "stderr",
     "output_type": "stream",
     "text": [
      "[Parallel(n_jobs=6)]: Done  30 out of  30 | elapsed:    0.0s finished\n",
      "[Parallel(n_jobs=6)]: Using backend LokyBackend with 6 concurrent workers.\n",
      "[Parallel(n_jobs=6)]: Done  30 out of  30 | elapsed:    0.0s finished\n",
      "[Parallel(n_jobs=6)]: Using backend LokyBackend with 6 concurrent workers.\n"
     ]
    },
    {
     "name": "stdout",
     "output_type": "stream",
     "text": [
      "portfolio value: 166.83412478251074\n",
      "Fitting 10 folds for each of 3 candidates, totalling 30 fits\n",
      "LOSS! -0.03013946677558713\n",
      "portfolio value: 171.86241634342738\n",
      "Fitting 10 folds for each of 3 candidates, totalling 30 fits\n"
     ]
    },
    {
     "name": "stderr",
     "output_type": "stream",
     "text": [
      "[Parallel(n_jobs=6)]: Done  30 out of  30 | elapsed:    0.0s finished\n",
      "[Parallel(n_jobs=6)]: Using backend LokyBackend with 6 concurrent workers.\n",
      "[Parallel(n_jobs=6)]: Done  30 out of  30 | elapsed:    0.0s finished\n",
      "[Parallel(n_jobs=6)]: Using backend LokyBackend with 6 concurrent workers.\n"
     ]
    },
    {
     "name": "stdout",
     "output_type": "stream",
     "text": [
      "portfolio value: 171.86241634342738\n",
      "Fitting 10 folds for each of 3 candidates, totalling 30 fits\n",
      "portfolio value: 171.86241634342738\n",
      "Fitting 10 folds for each of 3 candidates, totalling 30 fits\n"
     ]
    },
    {
     "name": "stderr",
     "output_type": "stream",
     "text": [
      "[Parallel(n_jobs=6)]: Done  30 out of  30 | elapsed:    0.0s finished\n",
      "[Parallel(n_jobs=6)]: Using backend LokyBackend with 6 concurrent workers.\n",
      "[Parallel(n_jobs=6)]: Done  30 out of  30 | elapsed:    0.0s finished\n",
      "[Parallel(n_jobs=6)]: Using backend LokyBackend with 6 concurrent workers.\n"
     ]
    },
    {
     "name": "stdout",
     "output_type": "stream",
     "text": [
      "G A I N! 0.00011682454672833615\n",
      "portfolio value: 171.88249409231634\n",
      "Fitting 10 folds for each of 3 candidates, totalling 30 fits\n",
      "portfolio value: 171.88249409231634\n",
      "Fitting 10 folds for each of 3 candidates, totalling 30 fits\n"
     ]
    },
    {
     "name": "stderr",
     "output_type": "stream",
     "text": [
      "[Parallel(n_jobs=6)]: Done  30 out of  30 | elapsed:    0.0s finished\n",
      "[Parallel(n_jobs=6)]: Using backend LokyBackend with 6 concurrent workers.\n",
      "[Parallel(n_jobs=6)]: Done  30 out of  30 | elapsed:    0.0s finished\n",
      "[Parallel(n_jobs=6)]: Using backend LokyBackend with 6 concurrent workers.\n"
     ]
    },
    {
     "name": "stdout",
     "output_type": "stream",
     "text": [
      "portfolio value: 171.88249409231634\n",
      "Fitting 10 folds for each of 3 candidates, totalling 30 fits\n",
      "LOSS! -0.010055550357497443\n",
      "portfolio value: 173.6108671672339\n",
      "Fitting 10 folds for each of 3 candidates, totalling 30 fits\n"
     ]
    },
    {
     "name": "stderr",
     "output_type": "stream",
     "text": [
      "[Parallel(n_jobs=6)]: Done  30 out of  30 | elapsed:    0.0s finished\n",
      "[Parallel(n_jobs=6)]: Using backend LokyBackend with 6 concurrent workers.\n",
      "[Parallel(n_jobs=6)]: Done  30 out of  30 | elapsed:    0.0s finished\n",
      "[Parallel(n_jobs=6)]: Using backend LokyBackend with 6 concurrent workers.\n"
     ]
    },
    {
     "name": "stdout",
     "output_type": "stream",
     "text": [
      "LOSS! -0.02514441588488342\n",
      "portfolio value: 177.97621101342207\n",
      "Fitting 10 folds for each of 3 candidates, totalling 30 fits\n",
      "portfolio value: 177.97621101342207\n",
      "Fitting 10 folds for each of 3 candidates, totalling 30 fits\n"
     ]
    },
    {
     "name": "stderr",
     "output_type": "stream",
     "text": [
      "[Parallel(n_jobs=6)]: Done  30 out of  30 | elapsed:    0.0s finished\n",
      "[Parallel(n_jobs=6)]: Using backend LokyBackend with 6 concurrent workers.\n",
      "[Parallel(n_jobs=6)]: Done  30 out of  30 | elapsed:    0.0s finished\n",
      "[Parallel(n_jobs=6)]: Using backend LokyBackend with 6 concurrent workers.\n"
     ]
    },
    {
     "name": "stdout",
     "output_type": "stream",
     "text": [
      "LOSS! -0.015272041730619227\n",
      "portfolio value: 180.69427113507652\n",
      "Fitting 10 folds for each of 3 candidates, totalling 30 fits\n",
      "G A I N! 0.019821640007488397\n",
      "portfolio value: 184.2759279289315\n",
      "Fitting 10 folds for each of 3 candidates, totalling 30 fits\n"
     ]
    },
    {
     "name": "stderr",
     "output_type": "stream",
     "text": [
      "[Parallel(n_jobs=6)]: Done  30 out of  30 | elapsed:    0.0s finished\n",
      "[Parallel(n_jobs=6)]: Using backend LokyBackend with 6 concurrent workers.\n",
      "[Parallel(n_jobs=6)]: Done  30 out of  30 | elapsed:    0.0s finished\n",
      "[Parallel(n_jobs=6)]: Using backend LokyBackend with 6 concurrent workers.\n"
     ]
    },
    {
     "name": "stdout",
     "output_type": "stream",
     "text": [
      "LOSS! -0.005565189955339802\n",
      "portfolio value: 185.3014584720525\n",
      "Fitting 10 folds for each of 3 candidates, totalling 30 fits\n",
      "G A I N! 0.08436766818626286\n",
      "portfolio value: 200.93491043485318\n",
      "Fitting 10 folds for each of 3 candidates, totalling 30 fits\n"
     ]
    },
    {
     "name": "stderr",
     "output_type": "stream",
     "text": [
      "[Parallel(n_jobs=6)]: Done  30 out of  30 | elapsed:    0.0s finished\n",
      "[Parallel(n_jobs=6)]: Using backend LokyBackend with 6 concurrent workers.\n",
      "[Parallel(n_jobs=6)]: Done  30 out of  30 | elapsed:    0.0s finished\n",
      "[Parallel(n_jobs=6)]: Using backend LokyBackend with 6 concurrent workers.\n"
     ]
    },
    {
     "name": "stdout",
     "output_type": "stream",
     "text": [
      "LOSS! -0.002077313737779336\n",
      "portfolio value: 201.352315284699\n",
      "Fitting 10 folds for each of 3 candidates, totalling 30 fits\n",
      "LOSS! -0.01006473750332586\n",
      "portfolio value: 203.37887348372638\n",
      "Fitting 10 folds for each of 3 candidates, totalling 30 fits\n"
     ]
    },
    {
     "name": "stderr",
     "output_type": "stream",
     "text": [
      "[Parallel(n_jobs=6)]: Done  30 out of  30 | elapsed:    0.0s finished\n",
      "[Parallel(n_jobs=6)]: Using backend LokyBackend with 6 concurrent workers.\n",
      "[Parallel(n_jobs=6)]: Done  30 out of  30 | elapsed:    0.0s finished\n",
      "[Parallel(n_jobs=6)]: Using backend LokyBackend with 6 concurrent workers.\n"
     ]
    },
    {
     "name": "stdout",
     "output_type": "stream",
     "text": [
      "portfolio value: 203.37887348372638\n",
      "Fitting 10 folds for each of 3 candidates, totalling 30 fits\n",
      "G A I N! 0.001747094147382285\n",
      "portfolio value: 203.734195523291\n",
      "Fitting 10 folds for each of 3 candidates, totalling 30 fits\n"
     ]
    },
    {
     "name": "stderr",
     "output_type": "stream",
     "text": [
      "[Parallel(n_jobs=6)]: Done  30 out of  30 | elapsed:    0.0s finished\n",
      "[Parallel(n_jobs=6)]: Using backend LokyBackend with 6 concurrent workers.\n",
      "[Parallel(n_jobs=6)]: Done  30 out of  30 | elapsed:    0.0s finished\n",
      "[Parallel(n_jobs=6)]: Using backend LokyBackend with 6 concurrent workers.\n"
     ]
    },
    {
     "name": "stdout",
     "output_type": "stream",
     "text": [
      "LOSS! -0.026304494082594658\n",
      "portfolio value: 209.0933204638556\n",
      "Fitting 10 folds for each of 3 candidates, totalling 30 fits\n",
      "portfolio value: 209.0933204638556\n",
      "Fitting 10 folds for each of 3 candidates, totalling 30 fits\n"
     ]
    },
    {
     "name": "stderr",
     "output_type": "stream",
     "text": [
      "[Parallel(n_jobs=6)]: Done  30 out of  30 | elapsed:    0.0s finished\n",
      "[Parallel(n_jobs=6)]: Using backend LokyBackend with 6 concurrent workers.\n",
      "[Parallel(n_jobs=6)]: Done  30 out of  30 | elapsed:    0.0s finished\n",
      "[Parallel(n_jobs=6)]: Using backend LokyBackend with 6 concurrent workers.\n"
     ]
    },
    {
     "name": "stdout",
     "output_type": "stream",
     "text": [
      "portfolio value: 209.0933204638556\n",
      "Fitting 10 folds for each of 3 candidates, totalling 30 fits\n",
      "LOSS! -0.0072430733190441176\n",
      "portfolio value: 210.60779871449768\n",
      "Fitting 10 folds for each of 3 candidates, totalling 30 fits\n"
     ]
    },
    {
     "name": "stderr",
     "output_type": "stream",
     "text": [
      "[Parallel(n_jobs=6)]: Done  30 out of  30 | elapsed:    0.0s finished\n",
      "[Parallel(n_jobs=6)]: Using backend LokyBackend with 6 concurrent workers.\n",
      "[Parallel(n_jobs=6)]: Done  30 out of  30 | elapsed:    0.0s finished\n",
      "[Parallel(n_jobs=6)]: Using backend LokyBackend with 6 concurrent workers.\n"
     ]
    },
    {
     "name": "stdout",
     "output_type": "stream",
     "text": [
      "LOSS! -0.03157997998871862\n",
      "portfolio value: 217.2587887833696\n",
      "Fitting 10 folds for each of 3 candidates, totalling 30 fits\n",
      "portfolio value: 217.2587887833696\n",
      "Fitting 10 folds for each of 3 candidates, totalling 30 fits\n"
     ]
    },
    {
     "name": "stderr",
     "output_type": "stream",
     "text": [
      "[Parallel(n_jobs=6)]: Done  30 out of  30 | elapsed:    0.0s finished\n",
      "[Parallel(n_jobs=6)]: Using backend LokyBackend with 6 concurrent workers.\n",
      "[Parallel(n_jobs=6)]: Done  30 out of  30 | elapsed:    0.0s finished\n",
      "[Parallel(n_jobs=6)]: Using backend LokyBackend with 6 concurrent workers.\n"
     ]
    },
    {
     "name": "stdout",
     "output_type": "stream",
     "text": [
      "portfolio value: 217.2587887833696\n",
      "Fitting 10 folds for each of 3 candidates, totalling 30 fits\n",
      "portfolio value: 217.2587887833696\n",
      "Fitting 10 folds for each of 3 candidates, totalling 30 fits\n"
     ]
    },
    {
     "name": "stderr",
     "output_type": "stream",
     "text": [
      "[Parallel(n_jobs=6)]: Done  30 out of  30 | elapsed:    0.0s finished\n",
      "[Parallel(n_jobs=6)]: Using backend LokyBackend with 6 concurrent workers.\n",
      "[Parallel(n_jobs=6)]: Done  30 out of  30 | elapsed:    0.0s finished\n",
      "[Parallel(n_jobs=6)]: Using backend LokyBackend with 6 concurrent workers.\n"
     ]
    },
    {
     "name": "stdout",
     "output_type": "stream",
     "text": [
      "portfolio value: 217.2587887833696\n",
      "Fitting 10 folds for each of 3 candidates, totalling 30 fits\n",
      "G A I N! 0.050049279975455885\n",
      "portfolio value: 228.1324347303169\n",
      "Fitting 10 folds for each of 3 candidates, totalling 30 fits\n"
     ]
    },
    {
     "name": "stderr",
     "output_type": "stream",
     "text": [
      "[Parallel(n_jobs=6)]: Done  30 out of  30 | elapsed:    0.0s finished\n",
      "[Parallel(n_jobs=6)]: Using backend LokyBackend with 6 concurrent workers.\n",
      "[Parallel(n_jobs=6)]: Done  30 out of  30 | elapsed:    0.0s finished\n",
      "[Parallel(n_jobs=6)]: Using backend LokyBackend with 6 concurrent workers.\n"
     ]
    },
    {
     "name": "stdout",
     "output_type": "stream",
     "text": [
      "portfolio value: 228.1324347303169\n",
      "Fitting 10 folds for each of 3 candidates, totalling 30 fits\n",
      "G A I N! 0.02071449319526047\n",
      "portfolio value: 232.85808249715626\n",
      "Fitting 10 folds for each of 3 candidates, totalling 30 fits\n"
     ]
    },
    {
     "name": "stderr",
     "output_type": "stream",
     "text": [
      "[Parallel(n_jobs=6)]: Done  30 out of  30 | elapsed:    0.0s finished\n",
      "[Parallel(n_jobs=6)]: Using backend LokyBackend with 6 concurrent workers.\n",
      "[Parallel(n_jobs=6)]: Done  30 out of  30 | elapsed:    0.0s finished\n",
      "[Parallel(n_jobs=6)]: Using backend LokyBackend with 6 concurrent workers.\n"
     ]
    },
    {
     "name": "stdout",
     "output_type": "stream",
     "text": [
      "portfolio value: 232.85808249715626\n",
      "Fitting 10 folds for each of 3 candidates, totalling 30 fits\n",
      "G A I N! 0.0049770810194061646\n",
      "portfolio value: 234.01703603976816\n",
      "Fitting 10 folds for each of 3 candidates, totalling 30 fits\n"
     ]
    },
    {
     "name": "stderr",
     "output_type": "stream",
     "text": [
      "[Parallel(n_jobs=6)]: Done  30 out of  30 | elapsed:    0.0s finished\n",
      "[Parallel(n_jobs=6)]: Using backend LokyBackend with 6 concurrent workers.\n",
      "[Parallel(n_jobs=6)]: Done  30 out of  30 | elapsed:    0.0s finished\n",
      "[Parallel(n_jobs=6)]: Using backend LokyBackend with 6 concurrent workers.\n"
     ]
    },
    {
     "name": "stdout",
     "output_type": "stream",
     "text": [
      "portfolio value: 234.01703603976816\n",
      "Fitting 10 folds for each of 3 candidates, totalling 30 fits\n",
      "portfolio value: 234.01703603976816\n",
      "Fitting 10 folds for each of 3 candidates, totalling 30 fits\n"
     ]
    },
    {
     "name": "stderr",
     "output_type": "stream",
     "text": [
      "[Parallel(n_jobs=6)]: Done  30 out of  30 | elapsed:    0.0s finished\n",
      "[Parallel(n_jobs=6)]: Using backend LokyBackend with 6 concurrent workers.\n",
      "[Parallel(n_jobs=6)]: Done  30 out of  30 | elapsed:    0.0s finished\n",
      "[Parallel(n_jobs=6)]: Using backend LokyBackend with 6 concurrent workers.\n"
     ]
    },
    {
     "name": "stdout",
     "output_type": "stream",
     "text": [
      "portfolio value: 234.01703603976816\n",
      "Fitting 10 folds for each of 3 candidates, totalling 30 fits\n",
      "portfolio value: 234.01703603976816\n",
      "Fitting 10 folds for each of 3 candidates, totalling 30 fits\n"
     ]
    },
    {
     "name": "stderr",
     "output_type": "stream",
     "text": [
      "[Parallel(n_jobs=6)]: Done  30 out of  30 | elapsed:    0.0s finished\n",
      "[Parallel(n_jobs=6)]: Using backend LokyBackend with 6 concurrent workers.\n",
      "[Parallel(n_jobs=6)]: Done  30 out of  30 | elapsed:    0.0s finished\n",
      "[Parallel(n_jobs=6)]: Using backend LokyBackend with 6 concurrent workers.\n"
     ]
    },
    {
     "name": "stdout",
     "output_type": "stream",
     "text": [
      "portfolio value: 234.01703603976816\n",
      "Fitting 10 folds for each of 3 candidates, totalling 30 fits\n",
      "G A I N! 0.007191076354091455\n",
      "portfolio value: 235.6998704140883\n",
      "Fitting 10 folds for each of 3 candidates, totalling 30 fits\n"
     ]
    },
    {
     "name": "stderr",
     "output_type": "stream",
     "text": [
      "[Parallel(n_jobs=6)]: Done  30 out of  30 | elapsed:    0.0s finished\n",
      "[Parallel(n_jobs=6)]: Using backend LokyBackend with 6 concurrent workers.\n",
      "[Parallel(n_jobs=6)]: Done  30 out of  30 | elapsed:    0.0s finished\n",
      "[Parallel(n_jobs=6)]: Using backend LokyBackend with 6 concurrent workers.\n"
     ]
    },
    {
     "name": "stdout",
     "output_type": "stream",
     "text": [
      "G A I N! 0.007357123540003175\n",
      "portfolio value: 237.4339434790875\n",
      "Fitting 10 folds for each of 3 candidates, totalling 30 fits\n",
      "G A I N! 0.025626723407693067\n",
      "portfolio value: 243.5185974762239\n",
      "Fitting 10 folds for each of 3 candidates, totalling 30 fits\n"
     ]
    },
    {
     "name": "stderr",
     "output_type": "stream",
     "text": [
      "[Parallel(n_jobs=6)]: Done  30 out of  30 | elapsed:    0.0s finished\n",
      "[Parallel(n_jobs=6)]: Using backend LokyBackend with 6 concurrent workers.\n",
      "[Parallel(n_jobs=6)]: Done  30 out of  30 | elapsed:    0.0s finished\n",
      "[Parallel(n_jobs=6)]: Using backend LokyBackend with 6 concurrent workers.\n"
     ]
    },
    {
     "name": "stdout",
     "output_type": "stream",
     "text": [
      "LOSS! -0.025599003237296965\n",
      "portfolio value: 249.7524308413598\n",
      "Fitting 10 folds for each of 3 candidates, totalling 30 fits\n",
      "G A I N! 0.03574965521197911\n",
      "portfolio value: 258.6809941322921\n",
      "Fitting 10 folds for each of 3 candidates, totalling 30 fits\n"
     ]
    },
    {
     "name": "stderr",
     "output_type": "stream",
     "text": [
      "[Parallel(n_jobs=6)]: Done  30 out of  30 | elapsed:    0.0s finished\n",
      "[Parallel(n_jobs=6)]: Using backend LokyBackend with 6 concurrent workers.\n",
      "[Parallel(n_jobs=6)]: Done  30 out of  30 | elapsed:    0.0s finished\n",
      "[Parallel(n_jobs=6)]: Using backend LokyBackend with 6 concurrent workers.\n"
     ]
    },
    {
     "name": "stdout",
     "output_type": "stream",
     "text": [
      "portfolio value: 258.6809941322921\n",
      "Fitting 10 folds for each of 3 candidates, totalling 30 fits\n",
      "LOSS! -0.010614245380323534\n",
      "portfolio value: 261.42669767923826\n",
      "Fitting 10 folds for each of 3 candidates, totalling 30 fits\n"
     ]
    },
    {
     "name": "stderr",
     "output_type": "stream",
     "text": [
      "[Parallel(n_jobs=6)]: Done  30 out of  30 | elapsed:    0.0s finished\n",
      "[Parallel(n_jobs=6)]: Using backend LokyBackend with 6 concurrent workers.\n",
      "[Parallel(n_jobs=6)]: Done  30 out of  30 | elapsed:    0.0s finished\n",
      "[Parallel(n_jobs=6)]: Using backend LokyBackend with 6 concurrent workers.\n"
     ]
    },
    {
     "name": "stdout",
     "output_type": "stream",
     "text": [
      "portfolio value: 261.42669767923826\n",
      "Fitting 10 folds for each of 3 candidates, totalling 30 fits\n",
      "portfolio value: 261.42669767923826\n",
      "Fitting 10 folds for each of 3 candidates, totalling 30 fits\n"
     ]
    },
    {
     "name": "stderr",
     "output_type": "stream",
     "text": [
      "[Parallel(n_jobs=6)]: Done  30 out of  30 | elapsed:    0.0s finished\n",
      "[Parallel(n_jobs=6)]: Using backend LokyBackend with 6 concurrent workers.\n",
      "[Parallel(n_jobs=6)]: Done  30 out of  30 | elapsed:    0.0s finished\n",
      "[Parallel(n_jobs=6)]: Using backend LokyBackend with 6 concurrent workers.\n"
     ]
    },
    {
     "name": "stdout",
     "output_type": "stream",
     "text": [
      "portfolio value: 261.42669767923826\n",
      "Fitting 10 folds for each of 3 candidates, totalling 30 fits\n",
      "portfolio value: 261.42669767923826\n",
      "Fitting 10 folds for each of 3 candidates, totalling 30 fits\n"
     ]
    },
    {
     "name": "stderr",
     "output_type": "stream",
     "text": [
      "[Parallel(n_jobs=6)]: Done  30 out of  30 | elapsed:    0.0s finished\n",
      "[Parallel(n_jobs=6)]: Using backend LokyBackend with 6 concurrent workers.\n",
      "[Parallel(n_jobs=6)]: Done  30 out of  30 | elapsed:    0.0s finished\n",
      "[Parallel(n_jobs=6)]: Using backend LokyBackend with 6 concurrent workers.\n"
     ]
    },
    {
     "name": "stdout",
     "output_type": "stream",
     "text": [
      "G A I N! 0.046512734007670434\n",
      "portfolio value: 273.58636813089635\n",
      "Fitting 10 folds for each of 3 candidates, totalling 30 fits\n",
      "portfolio value: 273.58636813089635\n",
      "Fitting 10 folds for each of 3 candidates, totalling 30 fits\n"
     ]
    },
    {
     "name": "stderr",
     "output_type": "stream",
     "text": [
      "[Parallel(n_jobs=6)]: Done  30 out of  30 | elapsed:    0.0s finished\n",
      "[Parallel(n_jobs=6)]: Using backend LokyBackend with 6 concurrent workers.\n",
      "[Parallel(n_jobs=6)]: Done  30 out of  30 | elapsed:    0.0s finished\n",
      "[Parallel(n_jobs=6)]: Using backend LokyBackend with 6 concurrent workers.\n"
     ]
    },
    {
     "name": "stdout",
     "output_type": "stream",
     "text": [
      "LOSS! -0.002165220194780572\n",
      "portfolio value: 274.17874286019\n",
      "Fitting 10 folds for each of 3 candidates, totalling 30 fits\n",
      "portfolio value: 274.17874286019\n",
      "Fitting 10 folds for each of 3 candidates, totalling 30 fits\n"
     ]
    },
    {
     "name": "stderr",
     "output_type": "stream",
     "text": [
      "[Parallel(n_jobs=6)]: Done  30 out of  30 | elapsed:    0.0s finished\n",
      "[Parallel(n_jobs=6)]: Using backend LokyBackend with 6 concurrent workers.\n",
      "[Parallel(n_jobs=6)]: Done  30 out of  30 | elapsed:    0.0s finished\n",
      "[Parallel(n_jobs=6)]: Using backend LokyBackend with 6 concurrent workers.\n"
     ]
    },
    {
     "name": "stdout",
     "output_type": "stream",
     "text": [
      "LOSS! -0.0025315991230832565\n",
      "portfolio value: 274.87285352518296\n",
      "Fitting 10 folds for each of 3 candidates, totalling 30 fits\n",
      "G A I N! 0.02702976926881395\n",
      "portfolio value: 282.30260333422916\n",
      "Fitting 10 folds for each of 3 candidates, totalling 30 fits\n"
     ]
    },
    {
     "name": "stderr",
     "output_type": "stream",
     "text": [
      "[Parallel(n_jobs=6)]: Done  30 out of  30 | elapsed:    0.0s finished\n",
      "[Parallel(n_jobs=6)]: Using backend LokyBackend with 6 concurrent workers.\n",
      "[Parallel(n_jobs=6)]: Done  30 out of  30 | elapsed:    0.0s finished\n",
      "[Parallel(n_jobs=6)]: Using backend LokyBackend with 6 concurrent workers.\n"
     ]
    },
    {
     "name": "stdout",
     "output_type": "stream",
     "text": [
      "portfolio value: 282.30260333422916\n",
      "Fitting 10 folds for each of 3 candidates, totalling 30 fits\n",
      "LOSS! -0.032079307542367944\n",
      "portfolio value: 291.358675366599\n",
      "Fitting 10 folds for each of 3 candidates, totalling 30 fits\n"
     ]
    },
    {
     "name": "stderr",
     "output_type": "stream",
     "text": [
      "[Parallel(n_jobs=6)]: Done  30 out of  30 | elapsed:    0.0s finished\n",
      "[Parallel(n_jobs=6)]: Using backend LokyBackend with 6 concurrent workers.\n",
      "[Parallel(n_jobs=6)]: Done  30 out of  30 | elapsed:    0.0s finished\n",
      "[Parallel(n_jobs=6)]: Using backend LokyBackend with 6 concurrent workers.\n"
     ]
    },
    {
     "name": "stdout",
     "output_type": "stream",
     "text": [
      "portfolio value: 291.358675366599\n",
      "Fitting 10 folds for each of 3 candidates, totalling 30 fits\n",
      "portfolio value: 291.358675366599\n",
      "Fitting 10 folds for each of 3 candidates, totalling 30 fits\n"
     ]
    },
    {
     "name": "stderr",
     "output_type": "stream",
     "text": [
      "[Parallel(n_jobs=6)]: Done  30 out of  30 | elapsed:    0.0s finished\n",
      "[Parallel(n_jobs=6)]: Using backend LokyBackend with 6 concurrent workers.\n",
      "[Parallel(n_jobs=6)]: Done  30 out of  30 | elapsed:    0.0s finished\n",
      "[Parallel(n_jobs=6)]: Using backend LokyBackend with 6 concurrent workers.\n"
     ]
    },
    {
     "name": "stdout",
     "output_type": "stream",
     "text": [
      "portfolio value: 291.358675366599\n",
      "Fitting 10 folds for each of 3 candidates, totalling 30 fits\n",
      "portfolio value: 291.358675366599\n",
      "Fitting 10 folds for each of 3 candidates, totalling 30 fits\n"
     ]
    },
    {
     "name": "stderr",
     "output_type": "stream",
     "text": [
      "[Parallel(n_jobs=6)]: Done  30 out of  30 | elapsed:    0.0s finished\n",
      "[Parallel(n_jobs=6)]: Using backend LokyBackend with 6 concurrent workers.\n",
      "[Parallel(n_jobs=6)]: Done  30 out of  30 | elapsed:    0.0s finished\n",
      "[Parallel(n_jobs=6)]: Using backend LokyBackend with 6 concurrent workers.\n"
     ]
    },
    {
     "name": "stdout",
     "output_type": "stream",
     "text": [
      "portfolio value: 291.358675366599\n",
      "Fitting 10 folds for each of 3 candidates, totalling 30 fits\n",
      "portfolio value: 291.358675366599\n",
      "Fitting 10 folds for each of 3 candidates, totalling 30 fits\n"
     ]
    },
    {
     "name": "stderr",
     "output_type": "stream",
     "text": [
      "[Parallel(n_jobs=6)]: Done  30 out of  30 | elapsed:    0.0s finished\n",
      "[Parallel(n_jobs=6)]: Using backend LokyBackend with 6 concurrent workers.\n",
      "[Parallel(n_jobs=6)]: Done  30 out of  30 | elapsed:    0.0s finished\n",
      "[Parallel(n_jobs=6)]: Using backend LokyBackend with 6 concurrent workers.\n"
     ]
    },
    {
     "name": "stdout",
     "output_type": "stream",
     "text": [
      "portfolio value: 291.358675366599\n",
      "Fitting 10 folds for each of 3 candidates, totalling 30 fits\n",
      "portfolio value: 291.358675366599\n",
      "Fitting 10 folds for each of 3 candidates, totalling 30 fits\n"
     ]
    },
    {
     "name": "stderr",
     "output_type": "stream",
     "text": [
      "[Parallel(n_jobs=6)]: Done  30 out of  30 | elapsed:    0.0s finished\n",
      "[Parallel(n_jobs=6)]: Using backend LokyBackend with 6 concurrent workers.\n",
      "[Parallel(n_jobs=6)]: Done  30 out of  30 | elapsed:    0.0s finished\n",
      "[Parallel(n_jobs=6)]: Using backend LokyBackend with 6 concurrent workers.\n"
     ]
    },
    {
     "name": "stdout",
     "output_type": "stream",
     "text": [
      "portfolio value: 291.358675366599\n",
      "Fitting 10 folds for each of 3 candidates, totalling 30 fits\n",
      "G A I N! 0.004872857562691288\n",
      "portfolio value: 292.77842469131485\n",
      "Fitting 10 folds for each of 3 candidates, totalling 30 fits\n"
     ]
    },
    {
     "name": "stderr",
     "output_type": "stream",
     "text": [
      "[Parallel(n_jobs=6)]: Done  30 out of  30 | elapsed:    0.0s finished\n",
      "[Parallel(n_jobs=6)]: Using backend LokyBackend with 6 concurrent workers.\n",
      "[Parallel(n_jobs=6)]: Done  30 out of  30 | elapsed:    0.0s finished\n",
      "[Parallel(n_jobs=6)]: Using backend LokyBackend with 6 concurrent workers.\n"
     ]
    },
    {
     "name": "stdout",
     "output_type": "stream",
     "text": [
      "LOSS! -0.023202779203168475\n",
      "portfolio value: 299.5716978348789\n",
      "Fitting 10 folds for each of 3 candidates, totalling 30 fits\n",
      "portfolio value: 299.5716978348789\n",
      "Fitting 10 folds for each of 3 candidates, totalling 30 fits\n"
     ]
    },
    {
     "name": "stderr",
     "output_type": "stream",
     "text": [
      "[Parallel(n_jobs=6)]: Done  30 out of  30 | elapsed:    0.0s finished\n",
      "[Parallel(n_jobs=6)]: Using backend LokyBackend with 6 concurrent workers.\n",
      "[Parallel(n_jobs=6)]: Done  30 out of  30 | elapsed:    0.0s finished\n",
      "[Parallel(n_jobs=6)]: Using backend LokyBackend with 6 concurrent workers.\n"
     ]
    },
    {
     "name": "stdout",
     "output_type": "stream",
     "text": [
      "portfolio value: 299.5716978348789\n",
      "Fitting 10 folds for each of 3 candidates, totalling 30 fits\n",
      "portfolio value: 299.5716978348789\n",
      "Fitting 10 folds for each of 3 candidates, totalling 30 fits\n"
     ]
    },
    {
     "name": "stderr",
     "output_type": "stream",
     "text": [
      "[Parallel(n_jobs=6)]: Done  30 out of  30 | elapsed:    0.0s finished\n",
      "[Parallel(n_jobs=6)]: Using backend LokyBackend with 6 concurrent workers.\n",
      "[Parallel(n_jobs=6)]: Done  30 out of  30 | elapsed:    0.0s finished\n",
      "[Parallel(n_jobs=6)]: Using backend LokyBackend with 6 concurrent workers.\n"
     ]
    },
    {
     "name": "stdout",
     "output_type": "stream",
     "text": [
      "portfolio value: 299.5716978348789\n",
      "Fitting 10 folds for each of 3 candidates, totalling 30 fits\n",
      "portfolio value: 299.5716978348789\n",
      "Fitting 10 folds for each of 3 candidates, totalling 30 fits\n"
     ]
    },
    {
     "name": "stderr",
     "output_type": "stream",
     "text": [
      "[Parallel(n_jobs=6)]: Done  30 out of  30 | elapsed:    0.0s finished\n",
      "[Parallel(n_jobs=6)]: Using backend LokyBackend with 6 concurrent workers.\n",
      "[Parallel(n_jobs=6)]: Done  30 out of  30 | elapsed:    0.0s finished\n",
      "[Parallel(n_jobs=6)]: Using backend LokyBackend with 6 concurrent workers.\n"
     ]
    },
    {
     "name": "stdout",
     "output_type": "stream",
     "text": [
      "portfolio value: 299.5716978348789\n",
      "Fitting 10 folds for each of 3 candidates, totalling 30 fits\n",
      "portfolio value: 299.5716978348789\n",
      "Fitting 10 folds for each of 3 candidates, totalling 30 fits\n"
     ]
    },
    {
     "name": "stderr",
     "output_type": "stream",
     "text": [
      "[Parallel(n_jobs=6)]: Done  30 out of  30 | elapsed:    0.0s finished\n",
      "[Parallel(n_jobs=6)]: Using backend LokyBackend with 6 concurrent workers.\n",
      "[Parallel(n_jobs=6)]: Done  30 out of  30 | elapsed:    0.0s finished\n",
      "[Parallel(n_jobs=6)]: Using backend LokyBackend with 6 concurrent workers.\n"
     ]
    },
    {
     "name": "stdout",
     "output_type": "stream",
     "text": [
      "G A I N! 0.03677092618748876\n",
      "portfolio value: 310.58722662382587\n",
      "Fitting 10 folds for each of 3 candidates, totalling 30 fits\n",
      "portfolio value: 310.58722662382587\n",
      "Fitting 10 folds for each of 3 candidates, totalling 30 fits\n"
     ]
    },
    {
     "name": "stderr",
     "output_type": "stream",
     "text": [
      "[Parallel(n_jobs=6)]: Done  30 out of  30 | elapsed:    0.0s finished\n",
      "[Parallel(n_jobs=6)]: Using backend LokyBackend with 6 concurrent workers.\n",
      "[Parallel(n_jobs=6)]: Done  30 out of  30 | elapsed:    0.0s finished\n",
      "[Parallel(n_jobs=6)]: Using backend LokyBackend with 6 concurrent workers.\n"
     ]
    },
    {
     "name": "stdout",
     "output_type": "stream",
     "text": [
      "portfolio value: 310.58722662382587\n",
      "Fitting 10 folds for each of 3 candidates, totalling 30 fits\n",
      "portfolio value: 310.58722662382587\n",
      "Fitting 10 folds for each of 3 candidates, totalling 30 fits\n"
     ]
    },
    {
     "name": "stderr",
     "output_type": "stream",
     "text": [
      "[Parallel(n_jobs=6)]: Done  30 out of  30 | elapsed:    0.0s finished\n",
      "[Parallel(n_jobs=6)]: Using backend LokyBackend with 6 concurrent workers.\n",
      "[Parallel(n_jobs=6)]: Done  30 out of  30 | elapsed:    0.0s finished\n",
      "[Parallel(n_jobs=6)]: Using backend LokyBackend with 6 concurrent workers.\n"
     ]
    },
    {
     "name": "stdout",
     "output_type": "stream",
     "text": [
      "G A I N! 0.1803052944381409\n",
      "portfolio value: 366.5877479689604\n",
      "Fitting 10 folds for each of 3 candidates, totalling 30 fits\n",
      "G A I N! 0.0011506637707782504\n",
      "portfolio value: 367.0095672093595\n",
      "Fitting 10 folds for each of 3 candidates, totalling 30 fits\n"
     ]
    },
    {
     "name": "stderr",
     "output_type": "stream",
     "text": [
      "[Parallel(n_jobs=6)]: Done  30 out of  30 | elapsed:    0.0s finished\n",
      "[Parallel(n_jobs=6)]: Using backend LokyBackend with 6 concurrent workers.\n",
      "[Parallel(n_jobs=6)]: Done  30 out of  30 | elapsed:    0.0s finished\n",
      "[Parallel(n_jobs=6)]: Using backend LokyBackend with 6 concurrent workers.\n"
     ]
    },
    {
     "name": "stdout",
     "output_type": "stream",
     "text": [
      "LOSS! -0.0034568603651841767\n",
      "portfolio value: 368.2782680358889\n",
      "Fitting 10 folds for each of 3 candidates, totalling 30 fits\n",
      "portfolio value: 368.2782680358889\n",
      "Fitting 10 folds for each of 3 candidates, totalling 30 fits\n"
     ]
    },
    {
     "name": "stderr",
     "output_type": "stream",
     "text": [
      "[Parallel(n_jobs=6)]: Done  30 out of  30 | elapsed:    0.0s finished\n",
      "[Parallel(n_jobs=6)]: Using backend LokyBackend with 6 concurrent workers.\n",
      "[Parallel(n_jobs=6)]: Done  30 out of  30 | elapsed:    0.0s finished\n",
      "[Parallel(n_jobs=6)]: Using backend LokyBackend with 6 concurrent workers.\n"
     ]
    },
    {
     "name": "stdout",
     "output_type": "stream",
     "text": [
      "portfolio value: 368.2782680358889\n",
      "Fitting 10 folds for each of 3 candidates, totalling 30 fits\n",
      "portfolio value: 368.2782680358889\n",
      "Fitting 10 folds for each of 3 candidates, totalling 30 fits\n"
     ]
    },
    {
     "name": "stderr",
     "output_type": "stream",
     "text": [
      "[Parallel(n_jobs=6)]: Done  30 out of  30 | elapsed:    0.0s finished\n",
      "[Parallel(n_jobs=6)]: Using backend LokyBackend with 6 concurrent workers.\n",
      "[Parallel(n_jobs=6)]: Done  30 out of  30 | elapsed:    0.0s finished\n",
      "[Parallel(n_jobs=6)]: Using backend LokyBackend with 6 concurrent workers.\n"
     ]
    },
    {
     "name": "stdout",
     "output_type": "stream",
     "text": [
      "LOSS! -0.008555606405730876\n",
      "portfolio value: 371.4291119449882\n",
      "Fitting 10 folds for each of 3 candidates, totalling 30 fits\n",
      "portfolio value: 371.4291119449882\n",
      "Fitting 10 folds for each of 3 candidates, totalling 30 fits\n"
     ]
    },
    {
     "name": "stderr",
     "output_type": "stream",
     "text": [
      "[Parallel(n_jobs=6)]: Done  30 out of  30 | elapsed:    0.0s finished\n",
      "[Parallel(n_jobs=6)]: Using backend LokyBackend with 6 concurrent workers.\n",
      "[Parallel(n_jobs=6)]: Done  30 out of  30 | elapsed:    0.0s finished\n",
      "[Parallel(n_jobs=6)]: Using backend LokyBackend with 6 concurrent workers.\n"
     ]
    },
    {
     "name": "stdout",
     "output_type": "stream",
     "text": [
      "portfolio value: 371.4291119449882\n",
      "Fitting 10 folds for each of 3 candidates, totalling 30 fits\n",
      "LOSS! -0.0347999416531722\n",
      "portfolio value: 384.35482336896337\n",
      "Fitting 10 folds for each of 3 candidates, totalling 30 fits\n"
     ]
    },
    {
     "name": "stderr",
     "output_type": "stream",
     "text": [
      "[Parallel(n_jobs=6)]: Done  30 out of  30 | elapsed:    0.0s finished\n",
      "[Parallel(n_jobs=6)]: Using backend LokyBackend with 6 concurrent workers.\n",
      "[Parallel(n_jobs=6)]: Done  30 out of  30 | elapsed:    0.0s finished\n",
      "[Parallel(n_jobs=6)]: Using backend LokyBackend with 6 concurrent workers.\n"
     ]
    },
    {
     "name": "stdout",
     "output_type": "stream",
     "text": [
      "LOSS! -0.0518093174448143\n",
      "portfolio value: 404.2679844243315\n",
      "Fitting 10 folds for each of 3 candidates, totalling 30 fits\n",
      "G A I N! 0.0012499732343843324\n",
      "portfolio value: 404.77330858438035\n",
      "Fitting 10 folds for each of 3 candidates, totalling 30 fits\n"
     ]
    },
    {
     "name": "stderr",
     "output_type": "stream",
     "text": [
      "[Parallel(n_jobs=6)]: Done  30 out of  30 | elapsed:    0.0s finished\n",
      "[Parallel(n_jobs=6)]: Using backend LokyBackend with 6 concurrent workers.\n",
      "[Parallel(n_jobs=6)]: Done  30 out of  30 | elapsed:    0.0s finished\n",
      "[Parallel(n_jobs=6)]: Using backend LokyBackend with 6 concurrent workers.\n"
     ]
    },
    {
     "name": "stdout",
     "output_type": "stream",
     "text": [
      "portfolio value: 404.77330858438035\n",
      "Fitting 10 folds for each of 3 candidates, totalling 30 fits\n",
      "G A I N! 0.028281287899985498\n",
      "portfolio value: 416.22081905868487\n",
      "Fitting 10 folds for each of 3 candidates, totalling 30 fits\n"
     ]
    },
    {
     "name": "stderr",
     "output_type": "stream",
     "text": [
      "[Parallel(n_jobs=6)]: Done  30 out of  30 | elapsed:    0.0s finished\n",
      "[Parallel(n_jobs=6)]: Using backend LokyBackend with 6 concurrent workers.\n",
      "[Parallel(n_jobs=6)]: Done  30 out of  30 | elapsed:    0.0s finished\n",
      "[Parallel(n_jobs=6)]: Using backend LokyBackend with 6 concurrent workers.\n"
     ]
    },
    {
     "name": "stdout",
     "output_type": "stream",
     "text": [
      "LOSS! -0.00941673440572232\n",
      "portfolio value: 420.1402599658927\n",
      "Fitting 10 folds for each of 3 candidates, totalling 30 fits\n",
      "G A I N! 0.019165508230020882\n",
      "portfolio value: 428.19246157603214\n",
      "Fitting 10 folds for each of 3 candidates, totalling 30 fits\n"
     ]
    },
    {
     "name": "stderr",
     "output_type": "stream",
     "text": [
      "[Parallel(n_jobs=6)]: Done  30 out of  30 | elapsed:    0.0s finished\n",
      "[Parallel(n_jobs=6)]: Using backend LokyBackend with 6 concurrent workers.\n",
      "[Parallel(n_jobs=6)]: Done  30 out of  30 | elapsed:    0.0s finished\n",
      "[Parallel(n_jobs=6)]: Using backend LokyBackend with 6 concurrent workers.\n"
     ]
    },
    {
     "name": "stdout",
     "output_type": "stream",
     "text": [
      "LOSS! -0.01040550993110594\n",
      "portfolio value: 432.6480224873863\n",
      "Fitting 10 folds for each of 3 candidates, totalling 30 fits\n",
      "G A I N! 0.07126221215679036\n",
      "portfolio value: 463.4794776550982\n",
      "Fitting 10 folds for each of 3 candidates, totalling 30 fits\n"
     ]
    },
    {
     "name": "stderr",
     "output_type": "stream",
     "text": [
      "[Parallel(n_jobs=6)]: Done  30 out of  30 | elapsed:    0.0s finished\n",
      "[Parallel(n_jobs=6)]: Using backend LokyBackend with 6 concurrent workers.\n",
      "[Parallel(n_jobs=6)]: Done  30 out of  30 | elapsed:    0.0s finished\n",
      "[Parallel(n_jobs=6)]: Using backend LokyBackend with 6 concurrent workers.\n"
     ]
    },
    {
     "name": "stdout",
     "output_type": "stream",
     "text": [
      "portfolio value: 463.4794776550982\n",
      "Fitting 10 folds for each of 3 candidates, totalling 30 fits\n",
      "G A I N! 0.021564190366541315\n",
      "portfolio value: 473.47403734223786\n",
      "Fitting 10 folds for each of 3 candidates, totalling 30 fits\n"
     ]
    },
    {
     "name": "stderr",
     "output_type": "stream",
     "text": [
      "[Parallel(n_jobs=6)]: Done  30 out of  30 | elapsed:    0.0s finished\n",
      "[Parallel(n_jobs=6)]: Using backend LokyBackend with 6 concurrent workers.\n",
      "[Parallel(n_jobs=6)]: Done  30 out of  30 | elapsed:    0.0s finished\n",
      "[Parallel(n_jobs=6)]: Using backend LokyBackend with 6 concurrent workers.\n"
     ]
    },
    {
     "name": "stdout",
     "output_type": "stream",
     "text": [
      "LOSS! -0.004889222928563087\n",
      "portfolio value: 475.78895746169087\n",
      "Fitting 10 folds for each of 3 candidates, totalling 30 fits\n",
      "portfolio value: 475.78895746169087\n",
      "Fitting 10 folds for each of 3 candidates, totalling 30 fits\n"
     ]
    },
    {
     "name": "stderr",
     "output_type": "stream",
     "text": [
      "[Parallel(n_jobs=6)]: Done  30 out of  30 | elapsed:    0.0s finished\n",
      "[Parallel(n_jobs=6)]: Using backend LokyBackend with 6 concurrent workers.\n",
      "[Parallel(n_jobs=6)]: Done  30 out of  30 | elapsed:    0.0s finished\n",
      "[Parallel(n_jobs=6)]: Using backend LokyBackend with 6 concurrent workers.\n"
     ]
    },
    {
     "name": "stdout",
     "output_type": "stream",
     "text": [
      "LOSS! -0.0012169631408627014\n",
      "portfolio value: 476.36797508575125\n",
      "Fitting 10 folds for each of 3 candidates, totalling 30 fits\n",
      "G A I N! 0.016480432667871005\n",
      "portfolio value: 484.218725424282\n",
      "Fitting 10 folds for each of 3 candidates, totalling 30 fits\n"
     ]
    },
    {
     "name": "stderr",
     "output_type": "stream",
     "text": [
      "[Parallel(n_jobs=6)]: Done  30 out of  30 | elapsed:    0.0s finished\n",
      "[Parallel(n_jobs=6)]: Using backend LokyBackend with 6 concurrent workers.\n",
      "[Parallel(n_jobs=6)]: Done  30 out of  30 | elapsed:    0.0s finished\n",
      "[Parallel(n_jobs=6)]: Using backend LokyBackend with 6 concurrent workers.\n"
     ]
    },
    {
     "name": "stdout",
     "output_type": "stream",
     "text": [
      "portfolio value: 484.218725424282\n",
      "Fitting 10 folds for each of 3 candidates, totalling 30 fits\n",
      "LOSS! -0.0001247944975687192\n",
      "portfolio value: 484.27915325683466\n",
      "Fitting 10 folds for each of 3 candidates, totalling 30 fits\n"
     ]
    },
    {
     "name": "stderr",
     "output_type": "stream",
     "text": [
      "[Parallel(n_jobs=6)]: Done  30 out of  30 | elapsed:    0.0s finished\n",
      "[Parallel(n_jobs=6)]: Using backend LokyBackend with 6 concurrent workers.\n",
      "[Parallel(n_jobs=6)]: Done  30 out of  30 | elapsed:    0.0s finished\n",
      "[Parallel(n_jobs=6)]: Using backend LokyBackend with 6 concurrent workers.\n"
     ]
    },
    {
     "name": "stdout",
     "output_type": "stream",
     "text": [
      "portfolio value: 484.27915325683466\n",
      "Fitting 10 folds for each of 3 candidates, totalling 30 fits\n",
      "G A I N! 0.07173456669840768\n",
      "portfolio value: 519.0187084767855\n",
      "Fitting 10 folds for each of 3 candidates, totalling 30 fits\n"
     ]
    },
    {
     "name": "stderr",
     "output_type": "stream",
     "text": [
      "[Parallel(n_jobs=6)]: Done  30 out of  30 | elapsed:    0.0s finished\n",
      "[Parallel(n_jobs=6)]: Using backend LokyBackend with 6 concurrent workers.\n",
      "[Parallel(n_jobs=6)]: Done  30 out of  30 | elapsed:    0.0s finished\n",
      "[Parallel(n_jobs=6)]: Using backend LokyBackend with 6 concurrent workers.\n"
     ]
    },
    {
     "name": "stdout",
     "output_type": "stream",
     "text": [
      "portfolio value: 519.0187084767855\n",
      "Fitting 10 folds for each of 3 candidates, totalling 30 fits\n",
      "G A I N! 0.02331736295175777\n",
      "portfolio value: 531.1208560810912\n",
      "Fitting 10 folds for each of 3 candidates, totalling 30 fits\n"
     ]
    },
    {
     "name": "stderr",
     "output_type": "stream",
     "text": [
      "[Parallel(n_jobs=6)]: Done  30 out of  30 | elapsed:    0.0s finished\n",
      "[Parallel(n_jobs=6)]: Using backend LokyBackend with 6 concurrent workers.\n",
      "[Parallel(n_jobs=6)]: Done  30 out of  30 | elapsed:    0.0s finished\n",
      "[Parallel(n_jobs=6)]: Using backend LokyBackend with 6 concurrent workers.\n"
     ]
    },
    {
     "name": "stdout",
     "output_type": "stream",
     "text": [
      "LOSS! -0.009846897545044107\n",
      "portfolio value: 536.3507487349578\n",
      "Fitting 10 folds for each of 3 candidates, totalling 30 fits\n",
      "LOSS! -0.042426659878031486\n",
      "portfolio value: 559.1063195268633\n",
      "Fitting 10 folds for each of 3 candidates, totalling 30 fits\n"
     ]
    },
    {
     "name": "stderr",
     "output_type": "stream",
     "text": [
      "[Parallel(n_jobs=6)]: Done  30 out of  30 | elapsed:    0.0s finished\n",
      "[Parallel(n_jobs=6)]: Using backend LokyBackend with 6 concurrent workers.\n",
      "[Parallel(n_jobs=6)]: Done  30 out of  30 | elapsed:    0.0s finished\n",
      "[Parallel(n_jobs=6)]: Using backend LokyBackend with 6 concurrent workers.\n"
     ]
    },
    {
     "name": "stdout",
     "output_type": "stream",
     "text": [
      "portfolio value: 559.1063195268633\n",
      "Fitting 10 folds for each of 3 candidates, totalling 30 fits\n",
      "portfolio value: 559.1063195268633\n",
      "Fitting 10 folds for each of 3 candidates, totalling 30 fits\n"
     ]
    },
    {
     "name": "stderr",
     "output_type": "stream",
     "text": [
      "[Parallel(n_jobs=6)]: Done  30 out of  30 | elapsed:    0.0s finished\n",
      "[Parallel(n_jobs=6)]: Using backend LokyBackend with 6 concurrent workers.\n",
      "[Parallel(n_jobs=6)]: Done  30 out of  30 | elapsed:    0.0s finished\n",
      "[Parallel(n_jobs=6)]: Using backend LokyBackend with 6 concurrent workers.\n"
     ]
    },
    {
     "name": "stdout",
     "output_type": "stream",
     "text": [
      "G A I N! 0.04330925400949711\n",
      "portfolio value: 583.3207971375673\n",
      "Fitting 10 folds for each of 3 candidates, totalling 30 fits\n",
      "G A I N! 0.015700347923088585\n",
      "portfolio value: 592.4791366034005\n",
      "Fitting 10 folds for each of 3 candidates, totalling 30 fits\n"
     ]
    },
    {
     "name": "stderr",
     "output_type": "stream",
     "text": [
      "[Parallel(n_jobs=6)]: Done  30 out of  30 | elapsed:    0.0s finished\n",
      "[Parallel(n_jobs=6)]: Using backend LokyBackend with 6 concurrent workers.\n",
      "[Parallel(n_jobs=6)]: Done  30 out of  30 | elapsed:    0.0s finished\n",
      "[Parallel(n_jobs=6)]: Using backend LokyBackend with 6 concurrent workers.\n"
     ]
    },
    {
     "name": "stdout",
     "output_type": "stream",
     "text": [
      "G A I N! 0.0025764080564745543\n",
      "portfolio value: 594.0056046242386\n",
      "Fitting 10 folds for each of 3 candidates, totalling 30 fits\n",
      "G A I N! 0.014494849437019487\n",
      "portfolio value: 602.6156264280125\n",
      "Fitting 10 folds for each of 3 candidates, totalling 30 fits\n"
     ]
    },
    {
     "name": "stderr",
     "output_type": "stream",
     "text": [
      "[Parallel(n_jobs=6)]: Done  30 out of  30 | elapsed:    0.0s finished\n",
      "[Parallel(n_jobs=6)]: Using backend LokyBackend with 6 concurrent workers.\n",
      "[Parallel(n_jobs=6)]: Done  30 out of  30 | elapsed:    0.0s finished\n",
      "[Parallel(n_jobs=6)]: Using backend LokyBackend with 6 concurrent workers.\n"
     ]
    },
    {
     "name": "stdout",
     "output_type": "stream",
     "text": [
      "portfolio value: 602.6156264280125\n",
      "Fitting 10 folds for each of 3 candidates, totalling 30 fits\n",
      "portfolio value: 602.6156264280125\n",
      "Fitting 10 folds for each of 3 candidates, totalling 30 fits\n"
     ]
    },
    {
     "name": "stderr",
     "output_type": "stream",
     "text": [
      "[Parallel(n_jobs=6)]: Done  30 out of  30 | elapsed:    0.0s finished\n",
      "[Parallel(n_jobs=6)]: Using backend LokyBackend with 6 concurrent workers.\n",
      "[Parallel(n_jobs=6)]: Done  30 out of  30 | elapsed:    0.0s finished\n",
      "[Parallel(n_jobs=6)]: Using backend LokyBackend with 6 concurrent workers.\n"
     ]
    },
    {
     "name": "stdout",
     "output_type": "stream",
     "text": [
      "G A I N! 0.12736804333860577\n",
      "portfolio value: 679.3695996514167\n",
      "Fitting 10 folds for each of 3 candidates, totalling 30 fits\n",
      "LOSS! -0.01581284728489233\n",
      "portfolio value: 690.1123673807031\n",
      "Fitting 10 folds for each of 3 candidates, totalling 30 fits\n"
     ]
    },
    {
     "name": "stderr",
     "output_type": "stream",
     "text": [
      "[Parallel(n_jobs=6)]: Done  30 out of  30 | elapsed:    0.0s finished\n",
      "[Parallel(n_jobs=6)]: Using backend LokyBackend with 6 concurrent workers.\n",
      "[Parallel(n_jobs=6)]: Done  30 out of  30 | elapsed:    0.0s finished\n",
      "[Parallel(n_jobs=6)]: Using backend LokyBackend with 6 concurrent workers.\n"
     ]
    },
    {
     "name": "stdout",
     "output_type": "stream",
     "text": [
      "G A I N! 0.022136422889992704\n",
      "portfolio value: 705.3889865866563\n",
      "Fitting 10 folds for each of 3 candidates, totalling 30 fits\n",
      "G A I N! 0.013478214671685432\n",
      "portfolio value: 714.8963707749139\n",
      "Fitting 10 folds for each of 3 candidates, totalling 30 fits\n"
     ]
    },
    {
     "name": "stderr",
     "output_type": "stream",
     "text": [
      "[Parallel(n_jobs=6)]: Done  30 out of  30 | elapsed:    0.0s finished\n",
      "[Parallel(n_jobs=6)]: Using backend LokyBackend with 6 concurrent workers.\n",
      "[Parallel(n_jobs=6)]: Done  30 out of  30 | elapsed:    0.0s finished\n",
      "[Parallel(n_jobs=6)]: Using backend LokyBackend with 6 concurrent workers.\n"
     ]
    },
    {
     "name": "stdout",
     "output_type": "stream",
     "text": [
      "LOSS! -0.009589181518739467\n",
      "portfolio value: 721.7516418413626\n",
      "Fitting 10 folds for each of 3 candidates, totalling 30 fits\n",
      "portfolio value: 721.7516418413626\n",
      "Fitting 10 folds for each of 3 candidates, totalling 30 fits\n"
     ]
    },
    {
     "name": "stderr",
     "output_type": "stream",
     "text": [
      "[Parallel(n_jobs=6)]: Done  30 out of  30 | elapsed:    0.0s finished\n",
      "[Parallel(n_jobs=6)]: Using backend LokyBackend with 6 concurrent workers.\n",
      "[Parallel(n_jobs=6)]: Done  30 out of  30 | elapsed:    0.0s finished\n",
      "[Parallel(n_jobs=6)]: Using backend LokyBackend with 6 concurrent workers.\n"
     ]
    },
    {
     "name": "stdout",
     "output_type": "stream",
     "text": [
      "portfolio value: 721.7516418413626\n",
      "Fitting 10 folds for each of 3 candidates, totalling 30 fits\n",
      "G A I N! 0.029011602819717205\n",
      "portfolio value: 742.690813808943\n",
      "Fitting 10 folds for each of 3 candidates, totalling 30 fits\n"
     ]
    },
    {
     "name": "stderr",
     "output_type": "stream",
     "text": [
      "[Parallel(n_jobs=6)]: Done  30 out of  30 | elapsed:    0.0s finished\n",
      "[Parallel(n_jobs=6)]: Using backend LokyBackend with 6 concurrent workers.\n",
      "[Parallel(n_jobs=6)]: Done  30 out of  30 | elapsed:    0.0s finished\n",
      "[Parallel(n_jobs=6)]: Using backend LokyBackend with 6 concurrent workers.\n"
     ]
    },
    {
     "name": "stdout",
     "output_type": "stream",
     "text": [
      "G A I N! 0.07445808973911401\n",
      "portfolio value: 797.9901530719449\n",
      "Fitting 10 folds for each of 3 candidates, totalling 30 fits\n",
      "LOSS! -0.009409678779474046\n",
      "portfolio value: 805.4989840815351\n",
      "Fitting 10 folds for each of 3 candidates, totalling 30 fits\n"
     ]
    },
    {
     "name": "stderr",
     "output_type": "stream",
     "text": [
      "[Parallel(n_jobs=6)]: Done  30 out of  30 | elapsed:    0.0s finished\n",
      "[Parallel(n_jobs=6)]: Using backend LokyBackend with 6 concurrent workers.\n",
      "[Parallel(n_jobs=6)]: Done  30 out of  30 | elapsed:    0.0s finished\n",
      "[Parallel(n_jobs=6)]: Using backend LokyBackend with 6 concurrent workers.\n"
     ]
    },
    {
     "name": "stdout",
     "output_type": "stream",
     "text": [
      "LOSS! -0.025100306755284862\n",
      "portfolio value: 825.717255673052\n",
      "Fitting 10 folds for each of 3 candidates, totalling 30 fits\n",
      "portfolio value: 825.717255673052\n",
      "Fitting 10 folds for each of 3 candidates, totalling 30 fits\n"
     ]
    },
    {
     "name": "stderr",
     "output_type": "stream",
     "text": [
      "[Parallel(n_jobs=6)]: Done  30 out of  30 | elapsed:    0.0s finished\n",
      "[Parallel(n_jobs=6)]: Using backend LokyBackend with 6 concurrent workers.\n",
      "[Parallel(n_jobs=6)]: Done  30 out of  30 | elapsed:    0.0s finished\n",
      "[Parallel(n_jobs=6)]: Using backend LokyBackend with 6 concurrent workers.\n"
     ]
    },
    {
     "name": "stdout",
     "output_type": "stream",
     "text": [
      "portfolio value: 825.717255673052\n",
      "Fitting 10 folds for each of 3 candidates, totalling 30 fits\n",
      "portfolio value: 825.717255673052\n",
      "Fitting 10 folds for each of 3 candidates, totalling 30 fits\n"
     ]
    },
    {
     "name": "stderr",
     "output_type": "stream",
     "text": [
      "[Parallel(n_jobs=6)]: Done  30 out of  30 | elapsed:    0.0s finished\n",
      "[Parallel(n_jobs=6)]: Using backend LokyBackend with 6 concurrent workers.\n",
      "[Parallel(n_jobs=6)]: Done  30 out of  30 | elapsed:    0.0s finished\n",
      "[Parallel(n_jobs=6)]: Using backend LokyBackend with 6 concurrent workers.\n"
     ]
    },
    {
     "name": "stdout",
     "output_type": "stream",
     "text": [
      "portfolio value: 825.717255673052\n",
      "Fitting 10 folds for each of 3 candidates, totalling 30 fits\n",
      "portfolio value: 825.717255673052\n",
      "Fitting 10 folds for each of 3 candidates, totalling 30 fits\n"
     ]
    },
    {
     "name": "stderr",
     "output_type": "stream",
     "text": [
      "[Parallel(n_jobs=6)]: Done  30 out of  30 | elapsed:    0.0s finished\n",
      "[Parallel(n_jobs=6)]: Using backend LokyBackend with 6 concurrent workers.\n",
      "[Parallel(n_jobs=6)]: Done  30 out of  30 | elapsed:    0.0s finished\n",
      "[Parallel(n_jobs=6)]: Using backend LokyBackend with 6 concurrent workers.\n"
     ]
    },
    {
     "name": "stdout",
     "output_type": "stream",
     "text": [
      "portfolio value: 825.717255673052\n",
      "Fitting 10 folds for each of 3 candidates, totalling 30 fits\n",
      "portfolio value: 825.717255673052\n",
      "Fitting 10 folds for each of 3 candidates, totalling 30 fits\n"
     ]
    },
    {
     "name": "stderr",
     "output_type": "stream",
     "text": [
      "[Parallel(n_jobs=6)]: Done  30 out of  30 | elapsed:    0.0s finished\n",
      "[Parallel(n_jobs=6)]: Using backend LokyBackend with 6 concurrent workers.\n",
      "[Parallel(n_jobs=6)]: Done  30 out of  30 | elapsed:    0.0s finished\n",
      "[Parallel(n_jobs=6)]: Using backend LokyBackend with 6 concurrent workers.\n"
     ]
    },
    {
     "name": "stdout",
     "output_type": "stream",
     "text": [
      "portfolio value: 825.717255673052\n",
      "Fitting 10 folds for each of 3 candidates, totalling 30 fits\n",
      "portfolio value: 825.717255673052\n",
      "Fitting 10 folds for each of 3 candidates, totalling 30 fits\n"
     ]
    },
    {
     "name": "stderr",
     "output_type": "stream",
     "text": [
      "[Parallel(n_jobs=6)]: Done  30 out of  30 | elapsed:    0.0s finished\n",
      "[Parallel(n_jobs=6)]: Using backend LokyBackend with 6 concurrent workers.\n",
      "[Parallel(n_jobs=6)]: Done  30 out of  30 | elapsed:    0.0s finished\n",
      "[Parallel(n_jobs=6)]: Using backend LokyBackend with 6 concurrent workers.\n"
     ]
    },
    {
     "name": "stdout",
     "output_type": "stream",
     "text": [
      "G A I N! 0.00020300159238786195\n",
      "portfolio value: 825.8848775908159\n",
      "Fitting 10 folds for each of 3 candidates, totalling 30 fits\n",
      "LOSS! -0.020806252841098223\n",
      "portfolio value: 843.0684471716098\n",
      "Fitting 10 folds for each of 3 candidates, totalling 30 fits\n"
     ]
    },
    {
     "name": "stderr",
     "output_type": "stream",
     "text": [
      "[Parallel(n_jobs=6)]: Done  30 out of  30 | elapsed:    0.0s finished\n",
      "[Parallel(n_jobs=6)]: Using backend LokyBackend with 6 concurrent workers.\n",
      "[Parallel(n_jobs=6)]: Done  30 out of  30 | elapsed:    0.0s finished\n",
      "[Parallel(n_jobs=6)]: Using backend LokyBackend with 6 concurrent workers.\n"
     ]
    },
    {
     "name": "stdout",
     "output_type": "stream",
     "text": [
      "LOSS! -0.046307943383057375\n",
      "portfolio value: 882.1092130912748\n",
      "Fitting 10 folds for each of 3 candidates, totalling 30 fits\n",
      "portfolio value: 882.1092130912748\n",
      "Fitting 10 folds for each of 3 candidates, totalling 30 fits\n"
     ]
    },
    {
     "name": "stderr",
     "output_type": "stream",
     "text": [
      "[Parallel(n_jobs=6)]: Done  30 out of  30 | elapsed:    0.0s finished\n",
      "[Parallel(n_jobs=6)]: Using backend LokyBackend with 6 concurrent workers.\n",
      "[Parallel(n_jobs=6)]: Done  30 out of  30 | elapsed:    0.0s finished\n",
      "[Parallel(n_jobs=6)]: Using backend LokyBackend with 6 concurrent workers.\n"
     ]
    },
    {
     "name": "stdout",
     "output_type": "stream",
     "text": [
      "portfolio value: 882.1092130912748\n",
      "Fitting 10 folds for each of 3 candidates, totalling 30 fits\n",
      "LOSS! -0.045799182434966564\n",
      "portfolio value: 922.5090938692069\n",
      "Fitting 10 folds for each of 3 candidates, totalling 30 fits\n"
     ]
    },
    {
     "name": "stderr",
     "output_type": "stream",
     "text": [
      "[Parallel(n_jobs=6)]: Done  30 out of  30 | elapsed:    0.0s finished\n",
      "[Parallel(n_jobs=6)]: Using backend LokyBackend with 6 concurrent workers.\n",
      "[Parallel(n_jobs=6)]: Done  30 out of  30 | elapsed:    0.0s finished\n",
      "[Parallel(n_jobs=6)]: Using backend LokyBackend with 6 concurrent workers.\n"
     ]
    },
    {
     "name": "stdout",
     "output_type": "stream",
     "text": [
      "G A I N! 0.013752068195373245\n",
      "portfolio value: 935.1955018389483\n",
      "Fitting 10 folds for each of 3 candidates, totalling 30 fits\n",
      "LOSS! -0.008365506954851122\n",
      "portfolio value: 943.0188863137275\n",
      "Fitting 10 folds for each of 3 candidates, totalling 30 fits\n"
     ]
    },
    {
     "name": "stderr",
     "output_type": "stream",
     "text": [
      "[Parallel(n_jobs=6)]: Done  30 out of  30 | elapsed:    0.0s finished\n",
      "[Parallel(n_jobs=6)]: Using backend LokyBackend with 6 concurrent workers.\n",
      "[Parallel(n_jobs=6)]: Done  30 out of  30 | elapsed:    0.0s finished\n",
      "[Parallel(n_jobs=6)]: Using backend LokyBackend with 6 concurrent workers.\n"
     ]
    },
    {
     "name": "stdout",
     "output_type": "stream",
     "text": [
      "G A I N! 0.03888445278280139\n",
      "portfolio value: 979.6876596718836\n",
      "Fitting 10 folds for each of 3 candidates, totalling 30 fits\n",
      "G A I N! 0.03710481145692723\n",
      "portfolio value: 1016.0387855706871\n",
      "Fitting 10 folds for each of 3 candidates, totalling 30 fits\n"
     ]
    },
    {
     "name": "stderr",
     "output_type": "stream",
     "text": [
      "[Parallel(n_jobs=6)]: Done  30 out of  30 | elapsed:    0.0s finished\n",
      "[Parallel(n_jobs=6)]: Using backend LokyBackend with 6 concurrent workers.\n",
      "[Parallel(n_jobs=6)]: Done  30 out of  30 | elapsed:    0.0s finished\n",
      "[Parallel(n_jobs=6)]: Using backend LokyBackend with 6 concurrent workers.\n"
     ]
    },
    {
     "name": "stdout",
     "output_type": "stream",
     "text": [
      "LOSS! -0.009364831696839082\n",
      "portfolio value: 1025.5538177950173\n",
      "Fitting 10 folds for each of 3 candidates, totalling 30 fits\n",
      "G A I N! 0.02770445818962556\n",
      "portfolio value: 1053.9662306613302\n",
      "Fitting 10 folds for each of 3 candidates, totalling 30 fits\n"
     ]
    },
    {
     "name": "stderr",
     "output_type": "stream",
     "text": [
      "[Parallel(n_jobs=6)]: Done  30 out of  30 | elapsed:    0.0s finished\n",
      "[Parallel(n_jobs=6)]: Using backend LokyBackend with 6 concurrent workers.\n",
      "[Parallel(n_jobs=6)]: Done  30 out of  30 | elapsed:    0.0s finished\n",
      "[Parallel(n_jobs=6)]: Using backend LokyBackend with 6 concurrent workers.\n"
     ]
    },
    {
     "name": "stdout",
     "output_type": "stream",
     "text": [
      "portfolio value: 1053.9662306613302\n",
      "Fitting 10 folds for each of 3 candidates, totalling 30 fits\n",
      "G A I N! 0.07435465143396805\n",
      "portfolio value: 1132.3335223653266\n",
      "Fitting 10 folds for each of 3 candidates, totalling 30 fits\n"
     ]
    },
    {
     "name": "stderr",
     "output_type": "stream",
     "text": [
      "[Parallel(n_jobs=6)]: Done  30 out of  30 | elapsed:    0.0s finished\n",
      "[Parallel(n_jobs=6)]: Using backend LokyBackend with 6 concurrent workers.\n",
      "[Parallel(n_jobs=6)]: Done  30 out of  30 | elapsed:    0.0s finished\n",
      "[Parallel(n_jobs=6)]: Using backend LokyBackend with 6 concurrent workers.\n"
     ]
    },
    {
     "name": "stdout",
     "output_type": "stream",
     "text": [
      "LOSS! -0.062301639731773724\n",
      "portfolio value: 1202.8797575319416\n",
      "Fitting 10 folds for each of 3 candidates, totalling 30 fits\n",
      "G A I N! 0.0128970124775533\n",
      "portfolio value: 1218.3933127738273\n",
      "Fitting 10 folds for each of 3 candidates, totalling 30 fits\n"
     ]
    },
    {
     "name": "stderr",
     "output_type": "stream",
     "text": [
      "[Parallel(n_jobs=6)]: Done  30 out of  30 | elapsed:    0.0s finished\n",
      "[Parallel(n_jobs=6)]: Using backend LokyBackend with 6 concurrent workers.\n",
      "[Parallel(n_jobs=6)]: Done  30 out of  30 | elapsed:    0.0s finished\n",
      "[Parallel(n_jobs=6)]: Using backend LokyBackend with 6 concurrent workers.\n"
     ]
    },
    {
     "name": "stdout",
     "output_type": "stream",
     "text": [
      "portfolio value: 1218.3933127738273\n",
      "Fitting 10 folds for each of 3 candidates, totalling 30 fits\n",
      "LOSS! -0.013742821551781435\n",
      "portfolio value: 1235.137474651162\n",
      "Fitting 10 folds for each of 3 candidates, totalling 30 fits\n"
     ]
    },
    {
     "name": "stderr",
     "output_type": "stream",
     "text": [
      "[Parallel(n_jobs=6)]: Done  30 out of  30 | elapsed:    0.0s finished\n",
      "[Parallel(n_jobs=6)]: Using backend LokyBackend with 6 concurrent workers.\n",
      "[Parallel(n_jobs=6)]: Done  30 out of  30 | elapsed:    0.0s finished\n",
      "[Parallel(n_jobs=6)]: Using backend LokyBackend with 6 concurrent workers.\n"
     ]
    },
    {
     "name": "stdout",
     "output_type": "stream",
     "text": [
      "LOSS! -0.0011613782227134217\n",
      "portfolio value: 1236.571936416279\n",
      "Fitting 10 folds for each of 3 candidates, totalling 30 fits\n",
      "G A I N! 0.010965459157736597\n",
      "portfolio value: 1250.131515480655\n",
      "Fitting 10 folds for each of 3 candidates, totalling 30 fits\n"
     ]
    },
    {
     "name": "stderr",
     "output_type": "stream",
     "text": [
      "[Parallel(n_jobs=6)]: Done  30 out of  30 | elapsed:    0.0s finished\n",
      "[Parallel(n_jobs=6)]: Using backend LokyBackend with 6 concurrent workers.\n",
      "[Parallel(n_jobs=6)]: Done  30 out of  30 | elapsed:    0.0s finished\n",
      "[Parallel(n_jobs=6)]: Using backend LokyBackend with 6 concurrent workers.\n"
     ]
    },
    {
     "name": "stdout",
     "output_type": "stream",
     "text": [
      "G A I N! 0.0011706666946826217\n",
      "portfolio value: 1251.5950028098014\n",
      "Fitting 10 folds for each of 3 candidates, totalling 30 fits\n",
      "portfolio value: 1251.5950028098014\n",
      "Fitting 10 folds for each of 3 candidates, totalling 30 fits\n"
     ]
    },
    {
     "name": "stderr",
     "output_type": "stream",
     "text": [
      "[Parallel(n_jobs=6)]: Done  30 out of  30 | elapsed:    0.0s finished\n",
      "[Parallel(n_jobs=6)]: Using backend LokyBackend with 6 concurrent workers.\n",
      "[Parallel(n_jobs=6)]: Done  30 out of  30 | elapsed:    0.0s finished\n",
      "[Parallel(n_jobs=6)]: Using backend LokyBackend with 6 concurrent workers.\n"
     ]
    },
    {
     "name": "stdout",
     "output_type": "stream",
     "text": [
      "portfolio value: 1251.5950028098014\n",
      "Fitting 10 folds for each of 3 candidates, totalling 30 fits\n",
      "LOSS! -0.05555142199039078\n",
      "portfolio value: 1321.122884971953\n",
      "Fitting 10 folds for each of 3 candidates, totalling 30 fits\n"
     ]
    },
    {
     "name": "stderr",
     "output_type": "stream",
     "text": [
      "[Parallel(n_jobs=6)]: Done  30 out of  30 | elapsed:    0.0s finished\n",
      "[Parallel(n_jobs=6)]: Using backend LokyBackend with 6 concurrent workers.\n",
      "[Parallel(n_jobs=6)]: Done  30 out of  30 | elapsed:    0.0s finished\n",
      "[Parallel(n_jobs=6)]: Using backend LokyBackend with 6 concurrent workers.\n"
     ]
    },
    {
     "name": "stdout",
     "output_type": "stream",
     "text": [
      "G A I N! 0.017182559759992968\n",
      "portfolio value: 1343.823157893278\n",
      "Fitting 10 folds for each of 3 candidates, totalling 30 fits\n",
      "portfolio value: 1343.823157893278\n",
      "Fitting 10 folds for each of 3 candidates, totalling 30 fits\n"
     ]
    },
    {
     "name": "stderr",
     "output_type": "stream",
     "text": [
      "[Parallel(n_jobs=6)]: Done  30 out of  30 | elapsed:    0.0s finished\n",
      "[Parallel(n_jobs=6)]: Using backend LokyBackend with 6 concurrent workers.\n",
      "[Parallel(n_jobs=6)]: Done  30 out of  30 | elapsed:    0.0s finished\n",
      "[Parallel(n_jobs=6)]: Using backend LokyBackend with 6 concurrent workers.\n"
     ]
    },
    {
     "name": "stdout",
     "output_type": "stream",
     "text": [
      "LOSS! -0.009576904311842898\n",
      "portfolio value: 1356.6928236884605\n",
      "Fitting 10 folds for each of 3 candidates, totalling 30 fits\n",
      "G A I N! 0.0068897027457263844\n",
      "portfolio value: 1366.0400339609344\n",
      "Fitting 10 folds for each of 3 candidates, totalling 30 fits\n"
     ]
    },
    {
     "name": "stderr",
     "output_type": "stream",
     "text": [
      "[Parallel(n_jobs=6)]: Done  30 out of  30 | elapsed:    0.0s finished\n",
      "[Parallel(n_jobs=6)]: Using backend LokyBackend with 6 concurrent workers.\n",
      "[Parallel(n_jobs=6)]: Done  30 out of  30 | elapsed:    0.0s finished\n",
      "[Parallel(n_jobs=6)]: Using backend LokyBackend with 6 concurrent workers.\n"
     ]
    },
    {
     "name": "stdout",
     "output_type": "stream",
     "text": [
      "G A I N! 0.008859260694653714\n",
      "portfolio value: 1378.142138741128\n",
      "Fitting 10 folds for each of 3 candidates, totalling 30 fits\n",
      "portfolio value: 1378.142138741128\n",
      "Fitting 10 folds for each of 3 candidates, totalling 30 fits\n"
     ]
    },
    {
     "name": "stderr",
     "output_type": "stream",
     "text": [
      "[Parallel(n_jobs=6)]: Done  30 out of  30 | elapsed:    0.0s finished\n",
      "[Parallel(n_jobs=6)]: Using backend LokyBackend with 6 concurrent workers.\n",
      "[Parallel(n_jobs=6)]: Done  30 out of  30 | elapsed:    0.0s finished\n",
      "[Parallel(n_jobs=6)]: Using backend LokyBackend with 6 concurrent workers.\n"
     ]
    },
    {
     "name": "stdout",
     "output_type": "stream",
     "text": [
      "portfolio value: 1378.142138741128\n",
      "Fitting 10 folds for each of 3 candidates, totalling 30 fits\n",
      "LOSS! -0.012993790771637733\n",
      "portfolio value: 1396.0494293455076\n",
      "Fitting 10 folds for each of 3 candidates, totalling 30 fits\n"
     ]
    },
    {
     "name": "stderr",
     "output_type": "stream",
     "text": [
      "[Parallel(n_jobs=6)]: Done  30 out of  30 | elapsed:    0.0s finished\n",
      "[Parallel(n_jobs=6)]: Using backend LokyBackend with 6 concurrent workers.\n",
      "[Parallel(n_jobs=6)]: Done  30 out of  30 | elapsed:    0.0s finished\n",
      "[Parallel(n_jobs=6)]: Using backend LokyBackend with 6 concurrent workers.\n"
     ]
    },
    {
     "name": "stdout",
     "output_type": "stream",
     "text": [
      "portfolio value: 1396.0494293455076\n",
      "Fitting 10 folds for each of 3 candidates, totalling 30 fits\n",
      "portfolio value: 1396.0494293455076\n",
      "Fitting 10 folds for each of 3 candidates, totalling 30 fits\n"
     ]
    },
    {
     "name": "stderr",
     "output_type": "stream",
     "text": [
      "[Parallel(n_jobs=6)]: Done  30 out of  30 | elapsed:    0.0s finished\n",
      "[Parallel(n_jobs=6)]: Using backend LokyBackend with 6 concurrent workers.\n",
      "[Parallel(n_jobs=6)]: Done  30 out of  30 | elapsed:    0.0s finished\n",
      "[Parallel(n_jobs=6)]: Using backend LokyBackend with 6 concurrent workers.\n"
     ]
    },
    {
     "name": "stdout",
     "output_type": "stream",
     "text": [
      "portfolio value: 1396.0494293455076\n",
      "Fitting 10 folds for each of 3 candidates, totalling 30 fits\n",
      "portfolio value: 1396.0494293455076\n",
      "Fitting 10 folds for each of 3 candidates, totalling 30 fits\n"
     ]
    },
    {
     "name": "stderr",
     "output_type": "stream",
     "text": [
      "[Parallel(n_jobs=6)]: Done  30 out of  30 | elapsed:    0.0s finished\n",
      "[Parallel(n_jobs=6)]: Using backend LokyBackend with 6 concurrent workers.\n",
      "[Parallel(n_jobs=6)]: Done  30 out of  30 | elapsed:    0.0s finished\n",
      "[Parallel(n_jobs=6)]: Using backend LokyBackend with 6 concurrent workers.\n"
     ]
    },
    {
     "name": "stdout",
     "output_type": "stream",
     "text": [
      "portfolio value: 1396.0494293455076\n",
      "Fitting 10 folds for each of 3 candidates, totalling 30 fits\n",
      "portfolio value: 1396.0494293455076\n",
      "Fitting 10 folds for each of 3 candidates, totalling 30 fits\n"
     ]
    },
    {
     "name": "stderr",
     "output_type": "stream",
     "text": [
      "[Parallel(n_jobs=6)]: Done  30 out of  30 | elapsed:    0.0s finished\n",
      "[Parallel(n_jobs=6)]: Using backend LokyBackend with 6 concurrent workers.\n",
      "[Parallel(n_jobs=6)]: Done  30 out of  30 | elapsed:    0.0s finished\n",
      "[Parallel(n_jobs=6)]: Using backend LokyBackend with 6 concurrent workers.\n"
     ]
    },
    {
     "name": "stdout",
     "output_type": "stream",
     "text": [
      "portfolio value: 1396.0494293455076\n",
      "Fitting 10 folds for each of 3 candidates, totalling 30 fits\n",
      "LOSS! -0.013354705634473147\n",
      "portfolio value: 1414.693258525591\n",
      "Fitting 10 folds for each of 3 candidates, totalling 30 fits\n"
     ]
    },
    {
     "name": "stderr",
     "output_type": "stream",
     "text": [
      "[Parallel(n_jobs=6)]: Done  30 out of  30 | elapsed:    0.0s finished\n",
      "[Parallel(n_jobs=6)]: Using backend LokyBackend with 6 concurrent workers.\n",
      "[Parallel(n_jobs=6)]: Done  30 out of  30 | elapsed:    0.0s finished\n",
      "[Parallel(n_jobs=6)]: Using backend LokyBackend with 6 concurrent workers.\n"
     ]
    },
    {
     "name": "stdout",
     "output_type": "stream",
     "text": [
      "portfolio value: 1414.693258525591\n",
      "Fitting 10 folds for each of 3 candidates, totalling 30 fits\n",
      "portfolio value: 1414.693258525591\n",
      "Fitting 10 folds for each of 3 candidates, totalling 30 fits\n"
     ]
    },
    {
     "name": "stderr",
     "output_type": "stream",
     "text": [
      "[Parallel(n_jobs=6)]: Done  30 out of  30 | elapsed:    0.0s finished\n",
      "[Parallel(n_jobs=6)]: Using backend LokyBackend with 6 concurrent workers.\n",
      "[Parallel(n_jobs=6)]: Done  30 out of  30 | elapsed:    0.0s finished\n",
      "[Parallel(n_jobs=6)]: Using backend LokyBackend with 6 concurrent workers.\n"
     ]
    },
    {
     "name": "stdout",
     "output_type": "stream",
     "text": [
      "portfolio value: 1414.693258525591\n",
      "Fitting 10 folds for each of 3 candidates, totalling 30 fits\n",
      "portfolio value: 1414.693258525591\n",
      "Fitting 10 folds for each of 3 candidates, totalling 30 fits\n"
     ]
    },
    {
     "name": "stderr",
     "output_type": "stream",
     "text": [
      "[Parallel(n_jobs=6)]: Done  30 out of  30 | elapsed:    0.0s finished\n",
      "[Parallel(n_jobs=6)]: Using backend LokyBackend with 6 concurrent workers.\n",
      "[Parallel(n_jobs=6)]: Done  30 out of  30 | elapsed:    0.0s finished\n",
      "[Parallel(n_jobs=6)]: Using backend LokyBackend with 6 concurrent workers.\n"
     ]
    },
    {
     "name": "stdout",
     "output_type": "stream",
     "text": [
      "portfolio value: 1414.693258525591\n",
      "Fitting 10 folds for each of 3 candidates, totalling 30 fits\n",
      "portfolio value: 1414.693258525591\n",
      "Fitting 10 folds for each of 3 candidates, totalling 30 fits\n"
     ]
    },
    {
     "name": "stderr",
     "output_type": "stream",
     "text": [
      "[Parallel(n_jobs=6)]: Done  30 out of  30 | elapsed:    0.0s finished\n",
      "[Parallel(n_jobs=6)]: Using backend LokyBackend with 6 concurrent workers.\n",
      "[Parallel(n_jobs=6)]: Done  30 out of  30 | elapsed:    0.0s finished\n",
      "[Parallel(n_jobs=6)]: Using backend LokyBackend with 6 concurrent workers.\n"
     ]
    },
    {
     "name": "stdout",
     "output_type": "stream",
     "text": [
      "portfolio value: 1414.693258525591\n",
      "Fitting 10 folds for each of 3 candidates, totalling 30 fits\n",
      "portfolio value: 1414.693258525591\n",
      "Fitting 10 folds for each of 3 candidates, totalling 30 fits\n"
     ]
    },
    {
     "name": "stderr",
     "output_type": "stream",
     "text": [
      "[Parallel(n_jobs=6)]: Done  30 out of  30 | elapsed:    0.0s finished\n",
      "[Parallel(n_jobs=6)]: Using backend LokyBackend with 6 concurrent workers.\n",
      "[Parallel(n_jobs=6)]: Done  30 out of  30 | elapsed:    0.0s finished\n",
      "[Parallel(n_jobs=6)]: Using backend LokyBackend with 6 concurrent workers.\n"
     ]
    },
    {
     "name": "stdout",
     "output_type": "stream",
     "text": [
      "G A I N! 0.033355011162898233\n",
      "portfolio value: 1461.880367955789\n",
      "Fitting 10 folds for each of 3 candidates, totalling 30 fits\n",
      "portfolio value: 1461.880367955789\n",
      "Fitting 10 folds for each of 3 candidates, totalling 30 fits\n"
     ]
    },
    {
     "name": "stderr",
     "output_type": "stream",
     "text": [
      "[Parallel(n_jobs=6)]: Done  30 out of  30 | elapsed:    0.0s finished\n",
      "[Parallel(n_jobs=6)]: Using backend LokyBackend with 6 concurrent workers.\n",
      "[Parallel(n_jobs=6)]: Done  30 out of  30 | elapsed:    0.0s finished\n",
      "[Parallel(n_jobs=6)]: Using backend LokyBackend with 6 concurrent workers.\n"
     ]
    },
    {
     "name": "stdout",
     "output_type": "stream",
     "text": [
      "G A I N! 0.018946515881163382\n",
      "portfolio value: 1489.5779075636246\n",
      "Fitting 10 folds for each of 3 candidates, totalling 30 fits\n",
      "portfolio value: 1489.5779075636246\n",
      "Fitting 10 folds for each of 3 candidates, totalling 30 fits\n"
     ]
    },
    {
     "name": "stderr",
     "output_type": "stream",
     "text": [
      "[Parallel(n_jobs=6)]: Done  30 out of  30 | elapsed:    0.0s finished\n",
      "[Parallel(n_jobs=6)]: Using backend LokyBackend with 6 concurrent workers.\n",
      "[Parallel(n_jobs=6)]: Done  30 out of  30 | elapsed:    0.0s finished\n",
      "[Parallel(n_jobs=6)]: Using backend LokyBackend with 6 concurrent workers.\n"
     ]
    },
    {
     "name": "stdout",
     "output_type": "stream",
     "text": [
      "G A I N! 0.0005877262208877541\n",
      "portfolio value: 1490.4533715579548\n",
      "Fitting 10 folds for each of 3 candidates, totalling 30 fits\n",
      "portfolio value: 1490.4533715579548\n",
      "Fitting 10 folds for each of 3 candidates, totalling 30 fits\n"
     ]
    },
    {
     "name": "stderr",
     "output_type": "stream",
     "text": [
      "[Parallel(n_jobs=6)]: Done  30 out of  30 | elapsed:    0.0s finished\n",
      "[Parallel(n_jobs=6)]: Using backend LokyBackend with 6 concurrent workers.\n",
      "[Parallel(n_jobs=6)]: Done  30 out of  30 | elapsed:    0.0s finished\n",
      "[Parallel(n_jobs=6)]: Using backend LokyBackend with 6 concurrent workers.\n"
     ]
    },
    {
     "name": "stdout",
     "output_type": "stream",
     "text": [
      "G A I N! 0.003835634967937744\n",
      "portfolio value: 1496.1702066279834\n",
      "Fitting 10 folds for each of 3 candidates, totalling 30 fits\n",
      "LOSS! -0.0036207909634017686\n",
      "portfolio value: 1501.587526191853\n",
      "Fitting 10 folds for each of 3 candidates, totalling 30 fits\n"
     ]
    },
    {
     "name": "stderr",
     "output_type": "stream",
     "text": [
      "[Parallel(n_jobs=6)]: Done  30 out of  30 | elapsed:    0.0s finished\n",
      "[Parallel(n_jobs=6)]: Using backend LokyBackend with 6 concurrent workers.\n",
      "[Parallel(n_jobs=6)]: Done  30 out of  30 | elapsed:    0.0s finished\n",
      "[Parallel(n_jobs=6)]: Using backend LokyBackend with 6 concurrent workers.\n"
     ]
    },
    {
     "name": "stdout",
     "output_type": "stream",
     "text": [
      "G A I N! 0.00048824408864204085\n",
      "portfolio value: 1502.3206674250946\n",
      "Fitting 10 folds for each of 3 candidates, totalling 30 fits\n",
      "portfolio value: 1502.3206674250946\n",
      "Fitting 10 folds for each of 3 candidates, totalling 30 fits\n"
     ]
    },
    {
     "name": "stderr",
     "output_type": "stream",
     "text": [
      "[Parallel(n_jobs=6)]: Done  30 out of  30 | elapsed:    0.0s finished\n",
      "[Parallel(n_jobs=6)]: Using backend LokyBackend with 6 concurrent workers.\n",
      "[Parallel(n_jobs=6)]: Done  30 out of  30 | elapsed:    0.0s finished\n",
      "[Parallel(n_jobs=6)]: Using backend LokyBackend with 6 concurrent workers.\n"
     ]
    },
    {
     "name": "stdout",
     "output_type": "stream",
     "text": [
      "LOSS! -0.006500550114378745\n",
      "portfolio value: 1512.0865782115582\n",
      "Fitting 10 folds for each of 3 candidates, totalling 30 fits\n",
      "portfolio value: 1512.0865782115582\n",
      "Fitting 10 folds for each of 3 candidates, totalling 30 fits\n"
     ]
    },
    {
     "name": "stderr",
     "output_type": "stream",
     "text": [
      "[Parallel(n_jobs=6)]: Done  30 out of  30 | elapsed:    0.0s finished\n",
      "[Parallel(n_jobs=6)]: Using backend LokyBackend with 6 concurrent workers.\n",
      "[Parallel(n_jobs=6)]: Done  30 out of  30 | elapsed:    0.0s finished\n",
      "[Parallel(n_jobs=6)]: Using backend LokyBackend with 6 concurrent workers.\n"
     ]
    },
    {
     "name": "stdout",
     "output_type": "stream",
     "text": [
      "G A I N! 0.0008585168499805567\n",
      "portfolio value: 1513.3847300175823\n",
      "Fitting 10 folds for each of 3 candidates, totalling 30 fits\n",
      "G A I N! 0.0030368536409080254\n",
      "portfolio value: 1517.9806579450308\n",
      "Fitting 10 folds for each of 3 candidates, totalling 30 fits\n"
     ]
    },
    {
     "name": "stderr",
     "output_type": "stream",
     "text": [
      "[Parallel(n_jobs=6)]: Done  30 out of  30 | elapsed:    0.0s finished\n",
      "[Parallel(n_jobs=6)]: Using backend LokyBackend with 6 concurrent workers.\n",
      "[Parallel(n_jobs=6)]: Done  30 out of  30 | elapsed:    0.0s finished\n",
      "[Parallel(n_jobs=6)]: Using backend LokyBackend with 6 concurrent workers.\n"
     ]
    },
    {
     "name": "stdout",
     "output_type": "stream",
     "text": [
      "portfolio value: 1517.9806579450308\n",
      "Fitting 10 folds for each of 3 candidates, totalling 30 fits\n",
      "portfolio value: 1517.9806579450308\n",
      "Fitting 10 folds for each of 3 candidates, totalling 30 fits\n"
     ]
    },
    {
     "name": "stderr",
     "output_type": "stream",
     "text": [
      "[Parallel(n_jobs=6)]: Done  30 out of  30 | elapsed:    0.0s finished\n",
      "[Parallel(n_jobs=6)]: Using backend LokyBackend with 6 concurrent workers.\n",
      "[Parallel(n_jobs=6)]: Done  30 out of  30 | elapsed:    0.0s finished\n",
      "[Parallel(n_jobs=6)]: Using backend LokyBackend with 6 concurrent workers.\n"
     ]
    },
    {
     "name": "stdout",
     "output_type": "stream",
     "text": [
      "G A I N! 0.01603007140980671\n",
      "portfolio value: 1542.313996290595\n",
      "Fitting 10 folds for each of 3 candidates, totalling 30 fits\n",
      "G A I N! 0.005660739214126417\n",
      "portfolio value: 1551.044633609893\n",
      "Fitting 10 folds for each of 3 candidates, totalling 30 fits\n"
     ]
    },
    {
     "name": "stderr",
     "output_type": "stream",
     "text": [
      "[Parallel(n_jobs=6)]: Done  30 out of  30 | elapsed:    0.0s finished\n",
      "[Parallel(n_jobs=6)]: Using backend LokyBackend with 6 concurrent workers.\n",
      "[Parallel(n_jobs=6)]: Done  30 out of  30 | elapsed:    0.0s finished\n",
      "[Parallel(n_jobs=6)]: Using backend LokyBackend with 6 concurrent workers.\n"
     ]
    },
    {
     "name": "stdout",
     "output_type": "stream",
     "text": [
      "portfolio value: 1551.044633609893\n",
      "Fitting 10 folds for each of 3 candidates, totalling 30 fits\n",
      "G A I N! 0.014427186018473996\n",
      "portfolio value: 1573.4218430619387\n",
      "Fitting 10 folds for each of 3 candidates, totalling 30 fits\n"
     ]
    },
    {
     "name": "stderr",
     "output_type": "stream",
     "text": [
      "[Parallel(n_jobs=6)]: Done  30 out of  30 | elapsed:    0.0s finished\n",
      "[Parallel(n_jobs=6)]: Using backend LokyBackend with 6 concurrent workers.\n",
      "[Parallel(n_jobs=6)]: Done  30 out of  30 | elapsed:    0.0s finished\n",
      "[Parallel(n_jobs=6)]: Using backend LokyBackend with 6 concurrent workers.\n"
     ]
    },
    {
     "name": "stdout",
     "output_type": "stream",
     "text": [
      "portfolio value: 1573.4218430619387\n",
      "Fitting 10 folds for each of 3 candidates, totalling 30 fits\n",
      "G A I N! 0.10960438208121646\n",
      "portfolio value: 1745.8757719238313\n",
      "Fitting 10 folds for each of 3 candidates, totalling 30 fits\n"
     ]
    },
    {
     "name": "stderr",
     "output_type": "stream",
     "text": [
      "[Parallel(n_jobs=6)]: Done  30 out of  30 | elapsed:    0.0s finished\n",
      "[Parallel(n_jobs=6)]: Using backend LokyBackend with 6 concurrent workers.\n",
      "[Parallel(n_jobs=6)]: Done  30 out of  30 | elapsed:    0.0s finished\n",
      "[Parallel(n_jobs=6)]: Using backend LokyBackend with 6 concurrent workers.\n"
     ]
    },
    {
     "name": "stdout",
     "output_type": "stream",
     "text": [
      "portfolio value: 1745.8757719238313\n",
      "Fitting 10 folds for each of 3 candidates, totalling 30 fits\n",
      "G A I N! 0.01718275945013738\n",
      "portfolio value: 1775.8747353426215\n",
      "Fitting 10 folds for each of 3 candidates, totalling 30 fits\n"
     ]
    },
    {
     "name": "stderr",
     "output_type": "stream",
     "text": [
      "[Parallel(n_jobs=6)]: Done  30 out of  30 | elapsed:    0.0s finished\n",
      "[Parallel(n_jobs=6)]: Using backend LokyBackend with 6 concurrent workers.\n",
      "[Parallel(n_jobs=6)]: Done  30 out of  30 | elapsed:    0.0s finished\n",
      "[Parallel(n_jobs=6)]: Using backend LokyBackend with 6 concurrent workers.\n"
     ]
    },
    {
     "name": "stdout",
     "output_type": "stream",
     "text": [
      "G A I N! 0.0010253180716313212\n",
      "portfolio value: 1777.6955718017218\n",
      "Fitting 10 folds for each of 3 candidates, totalling 30 fits\n",
      "portfolio value: 1777.6955718017218\n",
      "Fitting 10 folds for each of 3 candidates, totalling 30 fits\n"
     ]
    },
    {
     "name": "stderr",
     "output_type": "stream",
     "text": [
      "[Parallel(n_jobs=6)]: Done  30 out of  30 | elapsed:    0.0s finished\n",
      "[Parallel(n_jobs=6)]: Using backend LokyBackend with 6 concurrent workers.\n",
      "[Parallel(n_jobs=6)]: Done  30 out of  30 | elapsed:    0.0s finished\n",
      "[Parallel(n_jobs=6)]: Using backend LokyBackend with 6 concurrent workers.\n"
     ]
    },
    {
     "name": "stdout",
     "output_type": "stream",
     "text": [
      "portfolio value: 1777.6955718017218\n",
      "Fitting 10 folds for each of 3 candidates, totalling 30 fits\n",
      "LOSS! -0.05996806736995966\n",
      "portfolio value: 1884.3005396148064\n",
      "Fitting 10 folds for each of 3 candidates, totalling 30 fits\n"
     ]
    },
    {
     "name": "stderr",
     "output_type": "stream",
     "text": [
      "[Parallel(n_jobs=6)]: Done  30 out of  30 | elapsed:    0.0s finished\n",
      "[Parallel(n_jobs=6)]: Using backend LokyBackend with 6 concurrent workers.\n",
      "[Parallel(n_jobs=6)]: Done  30 out of  30 | elapsed:    0.0s finished\n",
      "[Parallel(n_jobs=6)]: Using backend LokyBackend with 6 concurrent workers.\n"
     ]
    },
    {
     "name": "stdout",
     "output_type": "stream",
     "text": [
      "G A I N! 0.01834338315963851\n",
      "portfolio value: 1918.8649864008744\n",
      "Fitting 10 folds for each of 3 candidates, totalling 30 fits\n",
      "G A I N! 0.04848337991486758\n",
      "portfolio value: 2011.8980465418854\n",
      "Fitting 10 folds for each of 3 candidates, totalling 30 fits\n"
     ]
    },
    {
     "name": "stderr",
     "output_type": "stream",
     "text": [
      "[Parallel(n_jobs=6)]: Done  30 out of  30 | elapsed:    0.0s finished\n",
      "[Parallel(n_jobs=6)]: Using backend LokyBackend with 6 concurrent workers.\n",
      "[Parallel(n_jobs=6)]: Done  30 out of  30 | elapsed:    0.0s finished\n",
      "[Parallel(n_jobs=6)]: Using backend LokyBackend with 6 concurrent workers.\n"
     ]
    },
    {
     "name": "stdout",
     "output_type": "stream",
     "text": [
      "G A I N! 0.002544908238687459\n",
      "portfolio value: 2017.0181424559291\n",
      "Fitting 10 folds for each of 3 candidates, totalling 30 fits\n",
      "LOSS! -0.015062693237407877\n",
      "portfolio value: 2047.399867990029\n",
      "Fitting 10 folds for each of 3 candidates, totalling 30 fits\n",
      "G A I N! 0.012882200489890527\n",
      "portfolio value: 2073.774883572452\n"
     ]
    },
    {
     "name": "stderr",
     "output_type": "stream",
     "text": [
      "[Parallel(n_jobs=6)]: Done  30 out of  30 | elapsed:    0.0s finished\n"
     ]
    }
   ],
   "source": [
    "portfolio_value = 100\n",
    "portfolio_value_history = []\n",
    "for i in range(0, len(btc) - LOOK_BACK_DAYS - LOOK_AHEAD_DAYS - 1):\n",
    "    portfolio_value_history.append(portfolio_value)\n",
    "    train_df = btc[i: i + LOOK_BACK_DAYS]\n",
    "    X_TRAIN = train_df.drop(['MonthTrend'], axis=1)\n",
    "    Y_TRAIN = le.fit_transform(train_df['MonthTrend'])\n",
    "    test_df = btc[i + LOOK_BACK_DAYS + LOOK_AHEAD_DAYS : i + LOOK_BACK_DAYS + LOOK_AHEAD_DAYS + 1]\n",
    "    X_TEST = test_df.drop(['MonthTrend'], axis=1)\n",
    "    results_df = btc[i + LOOK_BACK_DAYS + 2*LOOK_AHEAD_DAYS : i + LOOK_BACK_DAYS + 2*LOOK_AHEAD_DAYS + 1]\n",
    "    \n",
    "    model_regression = LogisticRegression()\n",
    "    param_grid = {'C': [1,2,4]}  #simplified the CV so it runs faster\n",
    "    regression_grid =  GridSearchCV(model_regression, param_grid, cv=TimeSeriesSplit(max_train_size=None, n_splits=10), verbose=1,n_jobs=6)\n",
    "    regression_grid.fit(X_TRAIN,Y_TRAIN)\n",
    "    model_regresssion= regression_grid.best_estimator_\n",
    "    \n",
    "    prediction = model_regresssion.predict(X_TEST)[0]\n",
    "    if prediction == 1:\n",
    "        gains = ((results_df['Close'] - results_df['Open']) / results_df['Open'])[0]\n",
    "        if gains > 0:\n",
    "            print(\"G A I N! \" + str(gains))\n",
    "            portfolio_value = portfolio_value * (1 + gains)\n",
    "        elif gains < 0:\n",
    "            print(\"LOSS! \" + str(gains))\n",
    "            portfolio_value = portfolio_value * (1-gains)\n",
    "    print(\"portfolio value: \" + str(portfolio_value))"
   ]
  },
  {
   "cell_type": "code",
   "execution_count": 150,
   "metadata": {},
   "outputs": [
    {
     "data": {
      "text/plain": [
       "Text(0.5, 1.0, 'Trade Performance')"
      ]
     },
     "execution_count": 150,
     "metadata": {},
     "output_type": "execute_result"
    },
    {
     "data": {
      "image/png": "[encoded data removed]",
      "text/plain": [
       "<Figure size 432x288 with 1 Axes>"
      ]
     },
     "metadata": {
      "needs_background": "light"
     },
     "output_type": "display_data"
    }
   ],
   "source": [
    "plt.plot(range(0, len(portfolio_value_history)), portfolio_value_history)\n",
    "plt.xlabel('Days')\n",
    "plt.ylabel('Portfolio value ($)')\n",
    "plt.title(\"Trade Performance\")"
   ]
  },
  {
   "cell_type": "code",
   "execution_count": null,
   "metadata": {},
   "outputs": [],
   "source": []
  }
 ],
 "metadata": {
  "kernelspec": {
   "display_name": "Python 3",
   "language": "python",
   "name": "python3"
  },
  "language_info": {
   "codemirror_mode": {
    "name": "ipython",
    "version": 3
   },
   "file_extension": ".py",
   "mimetype": "text/x-python",
   "name": "python",
   "nbconvert_exporter": "python",
   "pygments_lexer": "ipython3",
   "version": "3.7.4"
  }
 },
 "nbformat": 4,
 "nbformat_minor": 4
}
