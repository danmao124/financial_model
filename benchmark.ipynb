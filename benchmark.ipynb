{
  "nbformat": 4,
  "nbformat_minor": 0,
  "metadata": {
    "kernelspec": {
      "display_name": "Python 3",
      "language": "python",
      "name": "python3"
    },
    "language_info": {
      "codemirror_mode": {
        "name": "ipython",
        "version": 3
      },
      "file_extension": ".py",
      "mimetype": "text/x-python",
      "name": "python",
      "nbconvert_exporter": "python",
      "pygments_lexer": "ipython3",
      "version": "3.7.4"
    },
    "colab": {
      "name": "benchmark.ipynb",
      "provenance": [],
      "collapsed_sections": []
    }
  },
  "cells": [
    {
      "cell_type": "code",
      "metadata": {
        "id": "eIc8Eh0xajEc",
        "colab_type": "code",
        "colab": {}
      },
      "source": [
        "import pandas as pd\n",
        "from pandas_datareader import data\n",
        "from pandas_datareader._utils import RemoteDataError\n",
        "from datetime import datetime\n",
        "from datetime import timedelta\n",
        "\n",
        "import matplotlib.pyplot as plt\n",
        "from sklearn.metrics import classification_report, confusion_matrix, accuracy_score\n",
        "\n",
        "# My idea was to classify the data into three cateogries: \"UP\", \"DOWN\", \"NEUTRAL\"\n",
        "# UP - the price of the stock is up MINIMUM_GAIN percent or more after LOOK_AHEAD_DAYS days.\n",
        "# DOWN - the price of the stock is down MINIMUM_GAIN percent or more after LOOK_AHEAD_DAYS days.\n",
        "# NEUTRAL - the price of stock is did not rise or fall past the MINIMUM_GAIN threshhold\n",
        "#\n",
        "# EXAMPLE: LOOK_AHEAD_DAYS = 30, MINIMUM_GAIN = .05 (5%). If stock is up over 5% or more after 30 days, \n",
        "# we mark it as 'UP'. If the stock is down 5% or more after 30 days, we mark it as 'DOWN'. If the stock\n",
        "# is neither up nor down 5%, then we mark it as 'NEUTRAL'\n",
        "\n",
        "MINIMUM_GAIN = .05 #minimal gain to be considered up or down for classification\n",
        "LOOK_AHEAD_DAYS = 30 #number of days into the future we are trying to predict\n",
        "\n",
        "class Utilities:\n",
        "\n",
        "    @staticmethod\n",
        "    def getData(ticker, start_date, end_date):\n",
        "        try:\n",
        "            stock_data = data.DataReader(ticker,\n",
        "                                         'yahoo',\n",
        "                                         start_date,\n",
        "                                         end_date)\n",
        "            return stock_data\n",
        "        except RemoteDataError:\n",
        "            print('No data found for {t}'.format(t=ticker))"
      ],
      "execution_count": 97,
      "outputs": []
    },
    {
      "cell_type": "code",
      "metadata": {
        "id": "Sw6EMagXajEf",
        "colab_type": "code",
        "colab": {
          "base_uri": "https://localhost:8080/",
          "height": 450
        },
        "outputId": "35096c46-5fe7-4b15-b70d-439bfd2e4b26"
      },
      "source": [
        "# Just get the btc price points from the past year\n",
        "start_date = datetime.now() - timedelta(365)\n",
        "end_date = datetime.now() - timedelta(1)\n",
        "btc_df = Utilities.getData('BTC-USD', str(start_date.strftime('%Y-%m-%d')), str(end_date.strftime('%Y-%m-%d')))\n",
        "\n",
        "btc_original = btc_df['Open'].copy() ## save a copy of the original data"
      ],
      "execution_count": 98,
      "outputs": [
        {
          "output_type": "execute_result",
          "data": {
            "text/html": [
              "<div>\n",
              "<style scoped>\n",
              "    .dataframe tbody tr th:only-of-type {\n",
              "        vertical-align: middle;\n",
              "    }\n",
              "\n",
              "    .dataframe tbody tr th {\n",
              "        vertical-align: top;\n",
              "    }\n",
              "\n",
              "    .dataframe thead th {\n",
              "        text-align: right;\n",
              "    }\n",
              "</style>\n",
              "<table border=\"1\" class=\"dataframe\">\n",
              "  <thead>\n",
              "    <tr style=\"text-align: right;\">\n",
              "      <th></th>\n",
              "      <th>High</th>\n",
              "      <th>Low</th>\n",
              "      <th>Open</th>\n",
              "      <th>Close</th>\n",
              "      <th>Volume</th>\n",
              "      <th>Adj Close</th>\n",
              "    </tr>\n",
              "    <tr>\n",
              "      <th>Date</th>\n",
              "      <th></th>\n",
              "      <th></th>\n",
              "      <th></th>\n",
              "      <th></th>\n",
              "      <th></th>\n",
              "      <th></th>\n",
              "    </tr>\n",
              "  </thead>\n",
              "  <tbody>\n",
              "    <tr>\n",
              "      <th>2019-08-14</th>\n",
              "      <td>10437.411133</td>\n",
              "      <td>9675.316406</td>\n",
              "      <td>10038.421875</td>\n",
              "      <td>10311.545898</td>\n",
              "      <td>2.289912e+10</td>\n",
              "      <td>10311.545898</td>\n",
              "    </tr>\n",
              "    <tr>\n",
              "      <th>2019-08-15</th>\n",
              "      <td>10524.349609</td>\n",
              "      <td>9855.478516</td>\n",
              "      <td>10319.419922</td>\n",
              "      <td>10374.338867</td>\n",
              "      <td>2.022821e+10</td>\n",
              "      <td>10374.338867</td>\n",
              "    </tr>\n",
              "    <tr>\n",
              "      <th>2019-08-16</th>\n",
              "      <td>10452.625000</td>\n",
              "      <td>10086.698242</td>\n",
              "      <td>10358.722656</td>\n",
              "      <td>10231.744141</td>\n",
              "      <td>1.377804e+10</td>\n",
              "      <td>10231.744141</td>\n",
              "    </tr>\n",
              "    <tr>\n",
              "      <th>2019-08-17</th>\n",
              "      <td>10487.070312</td>\n",
              "      <td>10119.094727</td>\n",
              "      <td>10233.005859</td>\n",
              "      <td>10345.810547</td>\n",
              "      <td>1.299981e+10</td>\n",
              "      <td>10345.810547</td>\n",
              "    </tr>\n",
              "    <tr>\n",
              "      <th>2019-08-18</th>\n",
              "      <td>10916.053711</td>\n",
              "      <td>10313.204102</td>\n",
              "      <td>10350.283203</td>\n",
              "      <td>10916.053711</td>\n",
              "      <td>1.603826e+10</td>\n",
              "      <td>10916.053711</td>\n",
              "    </tr>\n",
              "    <tr>\n",
              "      <th>...</th>\n",
              "      <td>...</td>\n",
              "      <td>...</td>\n",
              "      <td>...</td>\n",
              "      <td>...</td>\n",
              "      <td>...</td>\n",
              "      <td>...</td>\n",
              "    </tr>\n",
              "    <tr>\n",
              "      <th>2020-08-08</th>\n",
              "      <td>11806.056641</td>\n",
              "      <td>11548.784180</td>\n",
              "      <td>11737.325195</td>\n",
              "      <td>11675.739258</td>\n",
              "      <td>1.748961e+10</td>\n",
              "      <td>11675.739258</td>\n",
              "    </tr>\n",
              "    <tr>\n",
              "      <th>2020-08-09</th>\n",
              "      <td>12045.140625</td>\n",
              "      <td>11662.256836</td>\n",
              "      <td>11662.256836</td>\n",
              "      <td>11878.111328</td>\n",
              "      <td>2.611411e+10</td>\n",
              "      <td>11878.111328</td>\n",
              "    </tr>\n",
              "    <tr>\n",
              "      <th>2020-08-10</th>\n",
              "      <td>11932.710938</td>\n",
              "      <td>11195.708984</td>\n",
              "      <td>11881.647461</td>\n",
              "      <td>11410.525391</td>\n",
              "      <td>2.703978e+10</td>\n",
              "      <td>11410.525391</td>\n",
              "    </tr>\n",
              "    <tr>\n",
              "      <th>2020-08-11</th>\n",
              "      <td>11748.396484</td>\n",
              "      <td>11249.605469</td>\n",
              "      <td>11404.596680</td>\n",
              "      <td>11584.934570</td>\n",
              "      <td>2.506455e+10</td>\n",
              "      <td>11584.934570</td>\n",
              "    </tr>\n",
              "    <tr>\n",
              "      <th>2020-08-14</th>\n",
              "      <td>11845.634766</td>\n",
              "      <td>11756.654297</td>\n",
              "      <td>11806.091797</td>\n",
              "      <td>11801.028320</td>\n",
              "      <td>2.799918e+10</td>\n",
              "      <td>11801.028320</td>\n",
              "    </tr>\n",
              "  </tbody>\n",
              "</table>\n",
              "<p>364 rows × 6 columns</p>\n",
              "</div>"
            ],
            "text/plain": [
              "                    High           Low  ...        Volume     Adj Close\n",
              "Date                                    ...                            \n",
              "2019-08-14  10437.411133   9675.316406  ...  2.289912e+10  10311.545898\n",
              "2019-08-15  10524.349609   9855.478516  ...  2.022821e+10  10374.338867\n",
              "2019-08-16  10452.625000  10086.698242  ...  1.377804e+10  10231.744141\n",
              "2019-08-17  10487.070312  10119.094727  ...  1.299981e+10  10345.810547\n",
              "2019-08-18  10916.053711  10313.204102  ...  1.603826e+10  10916.053711\n",
              "...                  ...           ...  ...           ...           ...\n",
              "2020-08-08  11806.056641  11548.784180  ...  1.748961e+10  11675.739258\n",
              "2020-08-09  12045.140625  11662.256836  ...  2.611411e+10  11878.111328\n",
              "2020-08-10  11932.710938  11195.708984  ...  2.703978e+10  11410.525391\n",
              "2020-08-11  11748.396484  11249.605469  ...  2.506455e+10  11584.934570\n",
              "2020-08-14  11845.634766  11756.654297  ...  2.799918e+10  11801.028320\n",
              "\n",
              "[364 rows x 6 columns]"
            ]
          },
          "metadata": {
            "tags": []
          },
          "execution_count": 98
        }
      ]
    },
    {
      "cell_type": "code",
      "metadata": {
        "id": "2NgiOz0dajEh",
        "colab_type": "code",
        "colab": {
          "base_uri": "https://localhost:8080/",
          "height": 518
        },
        "outputId": "79b3274a-c0a8-452b-dede-b6d48b7de84e"
      },
      "source": [
        "btc_df = btc_df.assign(MonthTrend=lambda x: \"N/A\") # Introduce new column that will be the trend we are predicting\n",
        "btc_df = btc_df.loc[~btc_df.index.duplicated(keep='first')] # Delete all duplicate indices\n",
        "\n",
        "# Populate the classification column MonthTrend\n",
        "for index, row in btc_df.iterrows():\n",
        "    current_date = index.to_pydatetime()\n",
        "    if (end_date - current_date).days > LOOK_AHEAD_DAYS:\n",
        "        look_ahead_date = current_date + timedelta(days=LOOK_AHEAD_DAYS)\n",
        "        \n",
        "        while True: #we need to keep adding days to the look_ahead_date because there is no index for that day\n",
        "            if look_ahead_date in btc_df.index:\n",
        "                break\n",
        "            print(look_ahead_date)\n",
        "            look_ahead_date = look_ahead_date + timedelta(days=1)\n",
        "        \n",
        "        #Here we check if the open price in the future is higher than today's open price.\n",
        "        if btc_df.loc[pd.Timestamp(look_ahead_date)]['Open'] >= btc_df.loc[index]['Open'] * (1 + MINIMUM_GAIN):\n",
        "            btc_df.at[pd.Timestamp(look_ahead_date), 'MonthTrend'] = 'UP'\n",
        "        else:\n",
        "            btc_df.at[pd.Timestamp(look_ahead_date), 'MonthTrend'] = 'DOWN'\n",
        "            \n",
        "# Now delete all columns that have a MonthTrend value of N/A\n",
        "btc_df = btc_df[btc_df.MonthTrend != 'N/A']\n",
        "\n",
        "# Data is now fully processed and ready to be trained on the machine learning model\n",
        "# There are 3 values for MonthTrend: UP, DOWN, NEUTRAL\n",
        "# Please be careful when testing the model of leakage. There should be a LOOK_AHEAD_DAYS day gap between the train and test data sets\n",
        "# otherwise, the train data set will unrealistically know something in the future\n",
        "btc_open = btc_df['Open'].copy() ## save a copy of test dataset\n",
        "btc_df"
      ],
      "execution_count": 100,
      "outputs": [
        {
          "output_type": "stream",
          "text": [
            "2019-10-27 00:00:00\n",
            "2020-08-03 00:00:00\n",
            "2020-08-12 00:00:00\n",
            "2020-08-13 00:00:00\n"
          ],
          "name": "stdout"
        },
        {
          "output_type": "execute_result",
          "data": {
            "text/html": [
              "<div>\n",
              "<style scoped>\n",
              "    .dataframe tbody tr th:only-of-type {\n",
              "        vertical-align: middle;\n",
              "    }\n",
              "\n",
              "    .dataframe tbody tr th {\n",
              "        vertical-align: top;\n",
              "    }\n",
              "\n",
              "    .dataframe thead th {\n",
              "        text-align: right;\n",
              "    }\n",
              "</style>\n",
              "<table border=\"1\" class=\"dataframe\">\n",
              "  <thead>\n",
              "    <tr style=\"text-align: right;\">\n",
              "      <th></th>\n",
              "      <th>High</th>\n",
              "      <th>Low</th>\n",
              "      <th>Open</th>\n",
              "      <th>Close</th>\n",
              "      <th>Volume</th>\n",
              "      <th>Adj Close</th>\n",
              "      <th>MonthTrend</th>\n",
              "    </tr>\n",
              "    <tr>\n",
              "      <th>Date</th>\n",
              "      <th></th>\n",
              "      <th></th>\n",
              "      <th></th>\n",
              "      <th></th>\n",
              "      <th></th>\n",
              "      <th></th>\n",
              "      <th></th>\n",
              "    </tr>\n",
              "  </thead>\n",
              "  <tbody>\n",
              "    <tr>\n",
              "      <th>2019-09-13</th>\n",
              "      <td>10422.133789</td>\n",
              "      <td>10291.694336</td>\n",
              "      <td>10345.403320</td>\n",
              "      <td>10358.048828</td>\n",
              "      <td>1.346871e+10</td>\n",
              "      <td>10358.048828</td>\n",
              "      <td>DOWN</td>\n",
              "    </tr>\n",
              "    <tr>\n",
              "      <th>2019-09-14</th>\n",
              "      <td>10387.035156</td>\n",
              "      <td>10313.092773</td>\n",
              "      <td>10356.465820</td>\n",
              "      <td>10347.712891</td>\n",
              "      <td>1.204343e+10</td>\n",
              "      <td>10347.712891</td>\n",
              "      <td>DOWN</td>\n",
              "    </tr>\n",
              "    <tr>\n",
              "      <th>2019-09-15</th>\n",
              "      <td>10386.867188</td>\n",
              "      <td>10189.744141</td>\n",
              "      <td>10347.222656</td>\n",
              "      <td>10276.793945</td>\n",
              "      <td>1.516017e+10</td>\n",
              "      <td>10276.793945</td>\n",
              "      <td>DOWN</td>\n",
              "    </tr>\n",
              "    <tr>\n",
              "      <th>2019-09-16</th>\n",
              "      <td>10296.771484</td>\n",
              "      <td>10199.739258</td>\n",
              "      <td>10281.513672</td>\n",
              "      <td>10241.272461</td>\n",
              "      <td>1.530460e+10</td>\n",
              "      <td>10241.272461</td>\n",
              "      <td>DOWN</td>\n",
              "    </tr>\n",
              "    <tr>\n",
              "      <th>2019-09-17</th>\n",
              "      <td>10275.928711</td>\n",
              "      <td>10191.469727</td>\n",
              "      <td>10247.795898</td>\n",
              "      <td>10198.248047</td>\n",
              "      <td>1.616927e+10</td>\n",
              "      <td>10198.248047</td>\n",
              "      <td>DOWN</td>\n",
              "    </tr>\n",
              "    <tr>\n",
              "      <th>...</th>\n",
              "      <td>...</td>\n",
              "      <td>...</td>\n",
              "      <td>...</td>\n",
              "      <td>...</td>\n",
              "      <td>...</td>\n",
              "      <td>...</td>\n",
              "      <td>...</td>\n",
              "    </tr>\n",
              "    <tr>\n",
              "      <th>2020-08-08</th>\n",
              "      <td>11806.056641</td>\n",
              "      <td>11548.784180</td>\n",
              "      <td>11737.325195</td>\n",
              "      <td>11675.739258</td>\n",
              "      <td>1.748961e+10</td>\n",
              "      <td>11675.739258</td>\n",
              "      <td>UP</td>\n",
              "    </tr>\n",
              "    <tr>\n",
              "      <th>2020-08-09</th>\n",
              "      <td>12045.140625</td>\n",
              "      <td>11662.256836</td>\n",
              "      <td>11662.256836</td>\n",
              "      <td>11878.111328</td>\n",
              "      <td>2.611411e+10</td>\n",
              "      <td>11878.111328</td>\n",
              "      <td>UP</td>\n",
              "    </tr>\n",
              "    <tr>\n",
              "      <th>2020-08-10</th>\n",
              "      <td>11932.710938</td>\n",
              "      <td>11195.708984</td>\n",
              "      <td>11881.647461</td>\n",
              "      <td>11410.525391</td>\n",
              "      <td>2.703978e+10</td>\n",
              "      <td>11410.525391</td>\n",
              "      <td>UP</td>\n",
              "    </tr>\n",
              "    <tr>\n",
              "      <th>2020-08-11</th>\n",
              "      <td>11748.396484</td>\n",
              "      <td>11249.605469</td>\n",
              "      <td>11404.596680</td>\n",
              "      <td>11584.934570</td>\n",
              "      <td>2.506455e+10</td>\n",
              "      <td>11584.934570</td>\n",
              "      <td>UP</td>\n",
              "    </tr>\n",
              "    <tr>\n",
              "      <th>2020-08-14</th>\n",
              "      <td>11845.634766</td>\n",
              "      <td>11756.654297</td>\n",
              "      <td>11806.091797</td>\n",
              "      <td>11801.028320</td>\n",
              "      <td>2.799918e+10</td>\n",
              "      <td>11801.028320</td>\n",
              "      <td>UP</td>\n",
              "    </tr>\n",
              "  </tbody>\n",
              "</table>\n",
              "<p>332 rows × 7 columns</p>\n",
              "</div>"
            ],
            "text/plain": [
              "                    High           Low  ...     Adj Close  MonthTrend\n",
              "Date                                    ...                          \n",
              "2019-09-13  10422.133789  10291.694336  ...  10358.048828        DOWN\n",
              "2019-09-14  10387.035156  10313.092773  ...  10347.712891        DOWN\n",
              "2019-09-15  10386.867188  10189.744141  ...  10276.793945        DOWN\n",
              "2019-09-16  10296.771484  10199.739258  ...  10241.272461        DOWN\n",
              "2019-09-17  10275.928711  10191.469727  ...  10198.248047        DOWN\n",
              "...                  ...           ...  ...           ...         ...\n",
              "2020-08-08  11806.056641  11548.784180  ...  11675.739258          UP\n",
              "2020-08-09  12045.140625  11662.256836  ...  11878.111328          UP\n",
              "2020-08-10  11932.710938  11195.708984  ...  11410.525391          UP\n",
              "2020-08-11  11748.396484  11249.605469  ...  11584.934570          UP\n",
              "2020-08-14  11845.634766  11756.654297  ...  11801.028320          UP\n",
              "\n",
              "[332 rows x 7 columns]"
            ]
          },
          "metadata": {
            "tags": []
          },
          "execution_count": 100
        }
      ]
    },
    {
      "cell_type": "code",
      "metadata": {
        "id": "sfMuTfc8VWlE",
        "colab_type": "code",
        "colab": {
          "base_uri": "https://localhost:8080/",
          "height": 283
        },
        "outputId": "9d62429e-47cb-402f-9f3d-cea242e9d94b"
      },
      "source": [
        "## select 30 as lags\n",
        "from pandas.plotting import autocorrelation_plot\n",
        "autocorrelation_plot(btc_open);"
      ],
      "execution_count": null,
      "outputs": [
        {
          "output_type": "display_data",
          "data": {
            "image/png": "[encoded data removed]",
            "text/plain": [
              "<Figure size 432x288 with 1 Axes>"
            ]
          },
          "metadata": {
            "tags": [],
            "needs_background": "light"
          }
        }
      ]
    },
    {
      "cell_type": "code",
      "metadata": {
        "id": "PednIUXajj8T",
        "colab_type": "code",
        "colab": {}
      },
      "source": [
        "from statsmodels.tsa.arima_model import ARIMA\n",
        "training_set = btc_original[:30].values ## select the first 30 days as the starting training dataset\n",
        "test_set = btc_open.values ## take the rest as test dataset\n",
        "history_set = list(training_set) ## define a history list to append new test data each time\n",
        "predictions = list() ## save the predicted price\n",
        "for t in range(len(test_set)):\n",
        "  model = ARIMA(history_set, order=(5,1,0))\n",
        "  model_fit = model.fit(disp=0)\n",
        "  output = model_fit.forecast()\n",
        "  yhat = output[0]\n",
        "  predictions.append(yhat)\n",
        "  obs = test_set[t]\n",
        "  history_set.append(obs)"
      ],
      "execution_count": null,
      "outputs": []
    },
    {
      "cell_type": "code",
      "metadata": {
        "id": "x_sRzo4rkSdr",
        "colab_type": "code",
        "colab": {
          "base_uri": "https://localhost:8080/",
          "height": 281
        },
        "outputId": "0d23c84c-9270-41ef-96ec-2989e0229e64"
      },
      "source": [
        "plt.plot(btc_open.index, test_set, label='actual');\n",
        "plt.plot(btc_open.index, predictions, label='prediction', color='red');\n",
        "plt.legend(loc='best');\n",
        "plt.title('Bitcoin price actual vs. prediction');"
      ],
      "execution_count": 72,
      "outputs": [
        {
          "output_type": "display_data",
          "data": {
            "image/png": "[encoded data removed]",
            "text/plain": [
              "<Figure size 432x288 with 1 Axes>"
            ]
          },
          "metadata": {
            "tags": [],
            "needs_background": "light"
          }
        }
      ]
    },
    {
      "cell_type": "code",
      "metadata": {
        "id": "RBmVj5OHqHR2",
        "colab_type": "code",
        "colab": {}
      },
      "source": [
        "## predict trends based on ARIMA result\n",
        "trends = list()\n",
        "for p in range(len(predictions)):\n",
        "  if p == 0:\n",
        "    if predictions[p] >= training_set[-1]:\n",
        "      trends.append('UP')\n",
        "    else:\n",
        "      trends.append('DOWN')\n",
        "  else:\n",
        "    if predictions[p] >= training_set[-1]:\n",
        "      trends.append('UP')\n",
        "    else:\n",
        "      trends.append('DOWN')"
      ],
      "execution_count": 84,
      "outputs": []
    },
    {
      "cell_type": "code",
      "metadata": {
        "id": "JMeCO35ftB-V",
        "colab_type": "code",
        "colab": {
          "base_uri": "https://localhost:8080/",
          "height": 170
        },
        "outputId": "5abf3d0d-8cee-4b0f-d218-ad7ed6a96f1c"
      },
      "source": [
        "print(classification_report(list(btc_df['MonthTrend'].values), trends))"
      ],
      "execution_count": 108,
      "outputs": [
        {
          "output_type": "stream",
          "text": [
            "              precision    recall  f1-score   support\n",
            "\n",
            "        DOWN       0.58      0.99      0.73       186\n",
            "          UP       0.88      0.10      0.18       146\n",
            "\n",
            "    accuracy                           0.60       332\n",
            "   macro avg       0.73      0.55      0.46       332\n",
            "weighted avg       0.72      0.60      0.49       332\n",
            "\n"
          ],
          "name": "stdout"
        }
      ]
    },
    {
      "cell_type": "code",
      "metadata": {
        "id": "JuUS50ditEAK",
        "colab_type": "code",
        "colab": {
          "base_uri": "https://localhost:8080/",
          "height": 51
        },
        "outputId": "ecf3e0a2-b06a-403b-b1d5-dd5876c3ec22"
      },
      "source": [
        "print(confusion_matrix(list(btc_df['MonthTrend'].values), trends))"
      ],
      "execution_count": 107,
      "outputs": [
        {
          "output_type": "stream",
          "text": [
            "[[184   2]\n",
            " [131  15]]\n"
          ],
          "name": "stdout"
        }
      ]
    },
    {
      "cell_type": "code",
      "metadata": {
        "id": "Kr7Y11bbuaqr",
        "colab_type": "code",
        "colab": {
          "base_uri": "https://localhost:8080/",
          "height": 34
        },
        "outputId": "45342c7e-5045-42cf-aebc-28cc2a0c3d5b"
      },
      "source": [
        "accuracy_score(list(btc_df['MonthTrend'].values), trends)"
      ],
      "execution_count": 109,
      "outputs": [
        {
          "output_type": "execute_result",
          "data": {
            "text/plain": [
              "0.5993975903614458"
            ]
          },
          "metadata": {
            "tags": []
          },
          "execution_count": 109
        }
      ]
    },
    {
      "cell_type": "code",
      "metadata": {
        "id": "ZLHV511Tumrm",
        "colab_type": "code",
        "colab": {
          "base_uri": "https://localhost:8080/",
          "height": 450
        },
        "outputId": "1ae3d2e0-79c3-426b-d3a5-9a1fa9f74570"
      },
      "source": [
        "predict_trends = pd.DataFrame(index=btc_df.index, data=trends, columns=['trends'])\n",
        "predict_trends"
      ],
      "execution_count": 112,
      "outputs": [
        {
          "output_type": "execute_result",
          "data": {
            "text/html": [
              "<div>\n",
              "<style scoped>\n",
              "    .dataframe tbody tr th:only-of-type {\n",
              "        vertical-align: middle;\n",
              "    }\n",
              "\n",
              "    .dataframe tbody tr th {\n",
              "        vertical-align: top;\n",
              "    }\n",
              "\n",
              "    .dataframe thead th {\n",
              "        text-align: right;\n",
              "    }\n",
              "</style>\n",
              "<table border=\"1\" class=\"dataframe\">\n",
              "  <thead>\n",
              "    <tr style=\"text-align: right;\">\n",
              "      <th></th>\n",
              "      <th>trends</th>\n",
              "    </tr>\n",
              "    <tr>\n",
              "      <th>Date</th>\n",
              "      <th></th>\n",
              "    </tr>\n",
              "  </thead>\n",
              "  <tbody>\n",
              "    <tr>\n",
              "      <th>2019-09-13</th>\n",
              "      <td>UP</td>\n",
              "    </tr>\n",
              "    <tr>\n",
              "      <th>2019-09-14</th>\n",
              "      <td>DOWN</td>\n",
              "    </tr>\n",
              "    <tr>\n",
              "      <th>2019-09-15</th>\n",
              "      <td>UP</td>\n",
              "    </tr>\n",
              "    <tr>\n",
              "      <th>2019-09-16</th>\n",
              "      <td>DOWN</td>\n",
              "    </tr>\n",
              "    <tr>\n",
              "      <th>2019-09-17</th>\n",
              "      <td>DOWN</td>\n",
              "    </tr>\n",
              "    <tr>\n",
              "      <th>...</th>\n",
              "      <td>...</td>\n",
              "    </tr>\n",
              "    <tr>\n",
              "      <th>2020-08-08</th>\n",
              "      <td>UP</td>\n",
              "    </tr>\n",
              "    <tr>\n",
              "      <th>2020-08-09</th>\n",
              "      <td>UP</td>\n",
              "    </tr>\n",
              "    <tr>\n",
              "      <th>2020-08-10</th>\n",
              "      <td>UP</td>\n",
              "    </tr>\n",
              "    <tr>\n",
              "      <th>2020-08-11</th>\n",
              "      <td>UP</td>\n",
              "    </tr>\n",
              "    <tr>\n",
              "      <th>2020-08-14</th>\n",
              "      <td>UP</td>\n",
              "    </tr>\n",
              "  </tbody>\n",
              "</table>\n",
              "<p>332 rows × 1 columns</p>\n",
              "</div>"
            ],
            "text/plain": [
              "           trends\n",
              "Date             \n",
              "2019-09-13     UP\n",
              "2019-09-14   DOWN\n",
              "2019-09-15     UP\n",
              "2019-09-16   DOWN\n",
              "2019-09-17   DOWN\n",
              "...           ...\n",
              "2020-08-08     UP\n",
              "2020-08-09     UP\n",
              "2020-08-10     UP\n",
              "2020-08-11     UP\n",
              "2020-08-14     UP\n",
              "\n",
              "[332 rows x 1 columns]"
            ]
          },
          "metadata": {
            "tags": []
          },
          "execution_count": 112
        }
      ]
    }
  ]
}