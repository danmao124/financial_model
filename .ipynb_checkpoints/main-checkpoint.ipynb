{
 "cells": [
  {
   "cell_type": "code",
   "execution_count": 261,
   "metadata": {},
   "outputs": [
    {
     "data": {
      "text/html": [
       "<div>\n",
       "<style scoped>\n",
       "    .dataframe tbody tr th:only-of-type {\n",
       "        vertical-align: middle;\n",
       "    }\n",
       "\n",
       "    .dataframe tbody tr th {\n",
       "        vertical-align: top;\n",
       "    }\n",
       "\n",
       "    .dataframe thead th {\n",
       "        text-align: right;\n",
       "    }\n",
       "</style>\n",
       "<table border=\"1\" class=\"dataframe\">\n",
       "  <thead>\n",
       "    <tr style=\"text-align: right;\">\n",
       "      <th></th>\n",
       "      <th>High</th>\n",
       "      <th>Low</th>\n",
       "      <th>Open</th>\n",
       "      <th>Close</th>\n",
       "      <th>Volume</th>\n",
       "      <th>Adj Close</th>\n",
       "    </tr>\n",
       "    <tr>\n",
       "      <th>Date</th>\n",
       "      <th></th>\n",
       "      <th></th>\n",
       "      <th></th>\n",
       "      <th></th>\n",
       "      <th></th>\n",
       "      <th></th>\n",
       "    </tr>\n",
       "  </thead>\n",
       "  <tbody>\n",
       "    <tr>\n",
       "      <td>2018-08-13</td>\n",
       "      <td>6287.939941</td>\n",
       "      <td>5971.049805</td>\n",
       "      <td>6287.660156</td>\n",
       "      <td>6199.709961</td>\n",
       "      <td>5.301700e+09</td>\n",
       "      <td>6199.709961</td>\n",
       "    </tr>\n",
       "    <tr>\n",
       "      <td>2018-08-14</td>\n",
       "      <td>6588.490234</td>\n",
       "      <td>6221.419922</td>\n",
       "      <td>6221.419922</td>\n",
       "      <td>6308.520020</td>\n",
       "      <td>4.895450e+09</td>\n",
       "      <td>6308.520020</td>\n",
       "    </tr>\n",
       "    <tr>\n",
       "      <td>2018-08-15</td>\n",
       "      <td>6473.500000</td>\n",
       "      <td>6276.410156</td>\n",
       "      <td>6294.229980</td>\n",
       "      <td>6334.729980</td>\n",
       "      <td>4.328420e+09</td>\n",
       "      <td>6334.729980</td>\n",
       "    </tr>\n",
       "    <tr>\n",
       "      <td>2018-08-16</td>\n",
       "      <td>6582.500000</td>\n",
       "      <td>6324.970215</td>\n",
       "      <td>6340.910156</td>\n",
       "      <td>6580.629883</td>\n",
       "      <td>4.992990e+09</td>\n",
       "      <td>6580.629883</td>\n",
       "    </tr>\n",
       "    <tr>\n",
       "      <td>2018-08-17</td>\n",
       "      <td>6617.350098</td>\n",
       "      <td>6353.729980</td>\n",
       "      <td>6583.430176</td>\n",
       "      <td>6423.759766</td>\n",
       "      <td>3.984520e+09</td>\n",
       "      <td>6423.759766</td>\n",
       "    </tr>\n",
       "    <tr>\n",
       "      <td>...</td>\n",
       "      <td>...</td>\n",
       "      <td>...</td>\n",
       "      <td>...</td>\n",
       "      <td>...</td>\n",
       "      <td>...</td>\n",
       "      <td>...</td>\n",
       "    </tr>\n",
       "    <tr>\n",
       "      <td>2020-08-28</td>\n",
       "      <td>11585.640625</td>\n",
       "      <td>11466.292969</td>\n",
       "      <td>11541.054688</td>\n",
       "      <td>11506.865234</td>\n",
       "      <td>1.748560e+10</td>\n",
       "      <td>11506.865234</td>\n",
       "    </tr>\n",
       "    <tr>\n",
       "      <td>2020-08-29</td>\n",
       "      <td>11715.264648</td>\n",
       "      <td>11492.381836</td>\n",
       "      <td>11508.713867</td>\n",
       "      <td>11711.505859</td>\n",
       "      <td>1.976013e+10</td>\n",
       "      <td>11711.505859</td>\n",
       "    </tr>\n",
       "    <tr>\n",
       "      <td>2020-08-30</td>\n",
       "      <td>11768.876953</td>\n",
       "      <td>11598.318359</td>\n",
       "      <td>11713.306641</td>\n",
       "      <td>11680.820312</td>\n",
       "      <td>2.228593e+10</td>\n",
       "      <td>11680.820312</td>\n",
       "    </tr>\n",
       "    <tr>\n",
       "      <td>2020-08-31</td>\n",
       "      <td>12067.081055</td>\n",
       "      <td>11601.128906</td>\n",
       "      <td>11679.316406</td>\n",
       "      <td>11970.478516</td>\n",
       "      <td>2.731156e+10</td>\n",
       "      <td>11970.478516</td>\n",
       "    </tr>\n",
       "    <tr>\n",
       "      <td>2020-09-02</td>\n",
       "      <td>11957.839844</td>\n",
       "      <td>11783.369141</td>\n",
       "      <td>11954.919922</td>\n",
       "      <td>11783.369141</td>\n",
       "      <td>2.661412e+10</td>\n",
       "      <td>11783.369141</td>\n",
       "    </tr>\n",
       "  </tbody>\n",
       "</table>\n",
       "<p>750 rows × 6 columns</p>\n",
       "</div>"
      ],
      "text/plain": [
       "                    High           Low          Open         Close  \\\n",
       "Date                                                                 \n",
       "2018-08-13   6287.939941   5971.049805   6287.660156   6199.709961   \n",
       "2018-08-14   6588.490234   6221.419922   6221.419922   6308.520020   \n",
       "2018-08-15   6473.500000   6276.410156   6294.229980   6334.729980   \n",
       "2018-08-16   6582.500000   6324.970215   6340.910156   6580.629883   \n",
       "2018-08-17   6617.350098   6353.729980   6583.430176   6423.759766   \n",
       "...                  ...           ...           ...           ...   \n",
       "2020-08-28  11585.640625  11466.292969  11541.054688  11506.865234   \n",
       "2020-08-29  11715.264648  11492.381836  11508.713867  11711.505859   \n",
       "2020-08-30  11768.876953  11598.318359  11713.306641  11680.820312   \n",
       "2020-08-31  12067.081055  11601.128906  11679.316406  11970.478516   \n",
       "2020-09-02  11957.839844  11783.369141  11954.919922  11783.369141   \n",
       "\n",
       "                  Volume     Adj Close  \n",
       "Date                                    \n",
       "2018-08-13  5.301700e+09   6199.709961  \n",
       "2018-08-14  4.895450e+09   6308.520020  \n",
       "2018-08-15  4.328420e+09   6334.729980  \n",
       "2018-08-16  4.992990e+09   6580.629883  \n",
       "2018-08-17  3.984520e+09   6423.759766  \n",
       "...                  ...           ...  \n",
       "2020-08-28  1.748560e+10  11506.865234  \n",
       "2020-08-29  1.976013e+10  11711.505859  \n",
       "2020-08-30  2.228593e+10  11680.820312  \n",
       "2020-08-31  2.731156e+10  11970.478516  \n",
       "2020-09-02  2.661412e+10  11783.369141  \n",
       "\n",
       "[750 rows x 6 columns]"
      ]
     },
     "execution_count": 261,
     "metadata": {},
     "output_type": "execute_result"
    }
   ],
   "source": [
    "import pandas as pd\n",
    "from pandas_datareader import data\n",
    "from pandas_datareader._utils import RemoteDataError\n",
    "from datetime import timedelta\n",
    "import datetime\n",
    "\n",
    "# Please read, my idea was to classify the data into three cateogries: \"UP\", \"DOWN\", \"NEUTRAL\"\n",
    "# UP - the price of the stock is up MINIMUM_GAIN percent after LOOK_AHEAD_DAYS days.\n",
    "# DOWN - the price of the stock is down MINIMUM_GAIN percent after LOOK_AHEAD_DAYS days.\n",
    "# NEUTRAL - the price of stock is did not rise or fall past the MINIMUM_GAIN threshhold\n",
    "#\n",
    "# EXAMPLE: LOOK_AHEAD_DAYS = 30, MINIMUM_GAIN = .05 (5%). If stock is up over 5% ore more after 30 days, \n",
    "# we mark it as 'UP'. If the stock is down 5% or more after 30 days, we mark it as 'DOWN'. If the stock\n",
    "# is neither up nor down 5%, then we mark it as 'NEUTRAL'\n",
    "\n",
    "# MINIMUM_GAIN = .05 #minimal gain to be considered up or down for classification, UNUSED NOW\n",
    "\n",
    "LOOK_BACK_DAYS = 15 #number of days into the past we would like to take into account\n",
    "LOOK_AHEAD_DAYS = 1 #number of days into the future we are trying to predict\n",
    "\n",
    "class Utilities:\n",
    "\n",
    "    @staticmethod\n",
    "    def getData(ticker, start_date, end_date):\n",
    "        try:\n",
    "            stock_data = data.DataReader(ticker,\n",
    "                                         'yahoo',\n",
    "                                         start_date,\n",
    "                                         end_date)\n",
    "            return stock_data\n",
    "        except RemoteDataError:\n",
    "            print('No data found for {t}'.format(t=ticker))\n",
    "#just get the btc price points from the past year\n",
    "start_date = datetime.datetime.now() - timedelta(750)\n",
    "end_date = datetime.datetime.now()\n",
    "btc_df = Utilities.getData('BTC-USD', str(start_date.strftime('%Y-%m-%d')), str(end_date.strftime('%Y-%m-%d')))\n",
    "btc_df"
   ]
  },
  {
   "cell_type": "code",
   "execution_count": 262,
   "metadata": {},
   "outputs": [],
   "source": [
    "# # load pre-fetched news sentiment data and add in the dataframe\n",
    "# import pickle\n",
    "# import warnings\n",
    "# import os\n",
    "# warnings.filterwarnings('ignore')\n",
    "# f = open(os.path.join(os.getcwd(), \"polaritys_score.pkl\"), \"rb\")\n",
    "# #f = open(\"./drive/My Drive/final_project/polaritys_score.pkl\", \"rb\")\n",
    "# polaritys_file = pickle.load(f)\n",
    "# f.close()\n",
    "\n",
    "# polaritys_df = pd.DataFrame(index=list(polaritys_file.keys())[::-1], columns=['neg', 'neu', 'pos'])\n",
    "# for date in list(polaritys_file.keys())[::-1]:\n",
    "#   for polar in ['neg', 'neu', 'pos']:\n",
    "#     polaritys_df.loc[date][polar] = polaritys_file[date][polar]\n",
    "\n",
    "# ## keep data only after 2019-09-09 and remove data on 2020-08-03(error in Yahoo?)\n",
    "# btc_index_str = [btc_index.strftime('%Y-%m-%d') for btc_index in list(btc_df.index)]\n",
    "\n",
    "# sentiment_data = polaritys_df.loc[btc_index_str]\n",
    "# sentiment_data.columns = ['negative', 'neutral', 'positive']\n",
    "\n",
    "# ## add sentiment in the dataframe\n",
    "# btc_df[['Negative', 'Neutral', 'Positive']] = sentiment_data[['negative', 'neutral', 'positive']]\n",
    "# btc_df = btc_df.dropna()\n",
    "# btc_df"
   ]
  },
  {
   "cell_type": "code",
   "execution_count": 263,
   "metadata": {},
   "outputs": [
    {
     "data": {
      "text/html": [
       "<div>\n",
       "<style scoped>\n",
       "    .dataframe tbody tr th:only-of-type {\n",
       "        vertical-align: middle;\n",
       "    }\n",
       "\n",
       "    .dataframe tbody tr th {\n",
       "        vertical-align: top;\n",
       "    }\n",
       "\n",
       "    .dataframe thead th {\n",
       "        text-align: right;\n",
       "    }\n",
       "</style>\n",
       "<table border=\"1\" class=\"dataframe\">\n",
       "  <thead>\n",
       "    <tr style=\"text-align: right;\">\n",
       "      <th></th>\n",
       "      <th>High</th>\n",
       "      <th>Low</th>\n",
       "      <th>Open</th>\n",
       "      <th>Close</th>\n",
       "      <th>Volume</th>\n",
       "      <th>Adj Close</th>\n",
       "      <th>Adj Close_Past_1</th>\n",
       "      <th>Volume_Past_1</th>\n",
       "      <th>Close_Past_1</th>\n",
       "      <th>Open_Past_1</th>\n",
       "      <th>...</th>\n",
       "      <th>Close_Past_10</th>\n",
       "      <th>Open_Past_10</th>\n",
       "      <th>Low_Past_10</th>\n",
       "      <th>High_Past_10</th>\n",
       "      <th>Adj Close_Past_11</th>\n",
       "      <th>Volume_Past_11</th>\n",
       "      <th>Close_Past_11</th>\n",
       "      <th>Open_Past_11</th>\n",
       "      <th>Low_Past_11</th>\n",
       "      <th>High_Past_11</th>\n",
       "    </tr>\n",
       "    <tr>\n",
       "      <th>Date</th>\n",
       "      <th></th>\n",
       "      <th></th>\n",
       "      <th></th>\n",
       "      <th></th>\n",
       "      <th></th>\n",
       "      <th></th>\n",
       "      <th></th>\n",
       "      <th></th>\n",
       "      <th></th>\n",
       "      <th></th>\n",
       "      <th></th>\n",
       "      <th></th>\n",
       "      <th></th>\n",
       "      <th></th>\n",
       "      <th></th>\n",
       "      <th></th>\n",
       "      <th></th>\n",
       "      <th></th>\n",
       "      <th></th>\n",
       "      <th></th>\n",
       "      <th></th>\n",
       "    </tr>\n",
       "  </thead>\n",
       "  <tbody>\n",
       "    <tr>\n",
       "      <td>2018-08-25</td>\n",
       "      <td>6774.750000</td>\n",
       "      <td>6620.750000</td>\n",
       "      <td>6754.640137</td>\n",
       "      <td>6707.259766</td>\n",
       "      <td>3.295500e+09</td>\n",
       "      <td>6707.259766</td>\n",
       "      <td>6763.19</td>\n",
       "      <td>3.3126e+09</td>\n",
       "      <td>6763.19</td>\n",
       "      <td>6719.95</td>\n",
       "      <td>...</td>\n",
       "      <td>6334.73</td>\n",
       "      <td>6294.23</td>\n",
       "      <td>6276.41</td>\n",
       "      <td>6473.5</td>\n",
       "      <td>6308.52</td>\n",
       "      <td>4.89545e+09</td>\n",
       "      <td>6308.52</td>\n",
       "      <td>6221.42</td>\n",
       "      <td>6221.42</td>\n",
       "      <td>6588.49</td>\n",
       "    </tr>\n",
       "    <tr>\n",
       "      <td>2018-08-26</td>\n",
       "      <td>6884.640137</td>\n",
       "      <td>6689.709961</td>\n",
       "      <td>6710.799805</td>\n",
       "      <td>6884.640137</td>\n",
       "      <td>4.019000e+09</td>\n",
       "      <td>6884.640137</td>\n",
       "      <td>6707.26</td>\n",
       "      <td>3.2955e+09</td>\n",
       "      <td>6707.26</td>\n",
       "      <td>6754.64</td>\n",
       "      <td>...</td>\n",
       "      <td>6580.63</td>\n",
       "      <td>6340.91</td>\n",
       "      <td>6324.97</td>\n",
       "      <td>6582.5</td>\n",
       "      <td>6334.73</td>\n",
       "      <td>4.32842e+09</td>\n",
       "      <td>6334.73</td>\n",
       "      <td>6294.23</td>\n",
       "      <td>6276.41</td>\n",
       "      <td>6473.5</td>\n",
       "    </tr>\n",
       "    <tr>\n",
       "      <td>2018-08-27</td>\n",
       "      <td>7109.560059</td>\n",
       "      <td>6882.339844</td>\n",
       "      <td>6891.080078</td>\n",
       "      <td>7096.279785</td>\n",
       "      <td>4.659940e+09</td>\n",
       "      <td>7096.279785</td>\n",
       "      <td>6884.64</td>\n",
       "      <td>4.019e+09</td>\n",
       "      <td>6884.64</td>\n",
       "      <td>6710.8</td>\n",
       "      <td>...</td>\n",
       "      <td>6423.76</td>\n",
       "      <td>6583.43</td>\n",
       "      <td>6353.73</td>\n",
       "      <td>6617.35</td>\n",
       "      <td>6580.63</td>\n",
       "      <td>4.99299e+09</td>\n",
       "      <td>6580.63</td>\n",
       "      <td>6340.91</td>\n",
       "      <td>6324.97</td>\n",
       "      <td>6582.5</td>\n",
       "    </tr>\n",
       "    <tr>\n",
       "      <td>2018-08-28</td>\n",
       "      <td>7113.299805</td>\n",
       "      <td>6970.819824</td>\n",
       "      <td>7091.709961</td>\n",
       "      <td>7047.160156</td>\n",
       "      <td>4.145880e+09</td>\n",
       "      <td>7047.160156</td>\n",
       "      <td>7096.28</td>\n",
       "      <td>4.65994e+09</td>\n",
       "      <td>7096.28</td>\n",
       "      <td>6891.08</td>\n",
       "      <td>...</td>\n",
       "      <td>6506.07</td>\n",
       "      <td>6422.57</td>\n",
       "      <td>6361.55</td>\n",
       "      <td>6537.98</td>\n",
       "      <td>6423.76</td>\n",
       "      <td>3.98452e+09</td>\n",
       "      <td>6423.76</td>\n",
       "      <td>6583.43</td>\n",
       "      <td>6353.73</td>\n",
       "      <td>6617.35</td>\n",
       "    </tr>\n",
       "    <tr>\n",
       "      <td>2018-08-29</td>\n",
       "      <td>7072.689941</td>\n",
       "      <td>6834.689941</td>\n",
       "      <td>7043.759766</td>\n",
       "      <td>6978.229980</td>\n",
       "      <td>4.463250e+09</td>\n",
       "      <td>6978.229980</td>\n",
       "      <td>7047.16</td>\n",
       "      <td>4.14588e+09</td>\n",
       "      <td>7047.16</td>\n",
       "      <td>7091.71</td>\n",
       "      <td>...</td>\n",
       "      <td>6308.53</td>\n",
       "      <td>6500.51</td>\n",
       "      <td>6297.93</td>\n",
       "      <td>6536.92</td>\n",
       "      <td>6506.07</td>\n",
       "      <td>3.31117e+09</td>\n",
       "      <td>6506.07</td>\n",
       "      <td>6422.57</td>\n",
       "      <td>6361.55</td>\n",
       "      <td>6537.98</td>\n",
       "    </tr>\n",
       "    <tr>\n",
       "      <td>...</td>\n",
       "      <td>...</td>\n",
       "      <td>...</td>\n",
       "      <td>...</td>\n",
       "      <td>...</td>\n",
       "      <td>...</td>\n",
       "      <td>...</td>\n",
       "      <td>...</td>\n",
       "      <td>...</td>\n",
       "      <td>...</td>\n",
       "      <td>...</td>\n",
       "      <td>...</td>\n",
       "      <td>...</td>\n",
       "      <td>...</td>\n",
       "      <td>...</td>\n",
       "      <td>...</td>\n",
       "      <td>...</td>\n",
       "      <td>...</td>\n",
       "      <td>...</td>\n",
       "      <td>...</td>\n",
       "      <td>...</td>\n",
       "      <td>...</td>\n",
       "    </tr>\n",
       "    <tr>\n",
       "      <td>2020-08-28</td>\n",
       "      <td>11585.640625</td>\n",
       "      <td>11466.292969</td>\n",
       "      <td>11541.054688</td>\n",
       "      <td>11506.865234</td>\n",
       "      <td>1.748560e+10</td>\n",
       "      <td>11506.865234</td>\n",
       "      <td>11542.5</td>\n",
       "      <td>1.98071e+10</td>\n",
       "      <td>11542.5</td>\n",
       "      <td>11325.3</td>\n",
       "      <td>...</td>\n",
       "      <td>11758.3</td>\n",
       "      <td>11990.9</td>\n",
       "      <td>11687.3</td>\n",
       "      <td>12028.9</td>\n",
       "      <td>11991.2</td>\n",
       "      <td>2.60432e+10</td>\n",
       "      <td>11991.2</td>\n",
       "      <td>12251.9</td>\n",
       "      <td>11954.5</td>\n",
       "      <td>12335.7</td>\n",
       "    </tr>\n",
       "    <tr>\n",
       "      <td>2020-08-29</td>\n",
       "      <td>11715.264648</td>\n",
       "      <td>11492.381836</td>\n",
       "      <td>11508.713867</td>\n",
       "      <td>11711.505859</td>\n",
       "      <td>1.976013e+10</td>\n",
       "      <td>11711.505859</td>\n",
       "      <td>11506.9</td>\n",
       "      <td>1.74856e+10</td>\n",
       "      <td>11506.9</td>\n",
       "      <td>11541.1</td>\n",
       "      <td>...</td>\n",
       "      <td>11878.4</td>\n",
       "      <td>11761.5</td>\n",
       "      <td>11710.1</td>\n",
       "      <td>11900.4</td>\n",
       "      <td>11758.3</td>\n",
       "      <td>2.45029e+10</td>\n",
       "      <td>11758.3</td>\n",
       "      <td>11990.9</td>\n",
       "      <td>11687.3</td>\n",
       "      <td>12028.9</td>\n",
       "    </tr>\n",
       "    <tr>\n",
       "      <td>2020-08-30</td>\n",
       "      <td>11768.876953</td>\n",
       "      <td>11598.318359</td>\n",
       "      <td>11713.306641</td>\n",
       "      <td>11680.820312</td>\n",
       "      <td>2.228593e+10</td>\n",
       "      <td>11680.820312</td>\n",
       "      <td>11711.5</td>\n",
       "      <td>1.97601e+10</td>\n",
       "      <td>11711.5</td>\n",
       "      <td>11508.7</td>\n",
       "      <td>...</td>\n",
       "      <td>11592.5</td>\n",
       "      <td>11878</td>\n",
       "      <td>11565</td>\n",
       "      <td>11899.3</td>\n",
       "      <td>11878.4</td>\n",
       "      <td>2.01752e+10</td>\n",
       "      <td>11878.4</td>\n",
       "      <td>11761.5</td>\n",
       "      <td>11710.1</td>\n",
       "      <td>11900.4</td>\n",
       "    </tr>\n",
       "    <tr>\n",
       "      <td>2020-08-31</td>\n",
       "      <td>12067.081055</td>\n",
       "      <td>11601.128906</td>\n",
       "      <td>11679.316406</td>\n",
       "      <td>11970.478516</td>\n",
       "      <td>2.731156e+10</td>\n",
       "      <td>11970.478516</td>\n",
       "      <td>11680.8</td>\n",
       "      <td>2.22859e+10</td>\n",
       "      <td>11680.8</td>\n",
       "      <td>11713.3</td>\n",
       "      <td>...</td>\n",
       "      <td>11681.8</td>\n",
       "      <td>11585.5</td>\n",
       "      <td>11448.8</td>\n",
       "      <td>11689.4</td>\n",
       "      <td>11592.5</td>\n",
       "      <td>2.37624e+10</td>\n",
       "      <td>11592.5</td>\n",
       "      <td>11878</td>\n",
       "      <td>11565</td>\n",
       "      <td>11899.3</td>\n",
       "    </tr>\n",
       "    <tr>\n",
       "      <td>2020-09-02</td>\n",
       "      <td>11957.839844</td>\n",
       "      <td>11783.369141</td>\n",
       "      <td>11954.919922</td>\n",
       "      <td>11783.369141</td>\n",
       "      <td>2.661412e+10</td>\n",
       "      <td>11783.369141</td>\n",
       "      <td>11970.5</td>\n",
       "      <td>2.73116e+10</td>\n",
       "      <td>11970.5</td>\n",
       "      <td>11679.3</td>\n",
       "      <td>...</td>\n",
       "      <td>11774.6</td>\n",
       "      <td>11663.7</td>\n",
       "      <td>11623.2</td>\n",
       "      <td>11807.6</td>\n",
       "      <td>11664.8</td>\n",
       "      <td>1.84821e+10</td>\n",
       "      <td>11664.8</td>\n",
       "      <td>11679.7</td>\n",
       "      <td>11559.9</td>\n",
       "      <td>11713.4</td>\n",
       "    </tr>\n",
       "  </tbody>\n",
       "</table>\n",
       "<p>736 rows × 72 columns</p>\n",
       "</div>"
      ],
      "text/plain": [
       "                    High           Low          Open         Close  \\\n",
       "Date                                                                 \n",
       "2018-08-25   6774.750000   6620.750000   6754.640137   6707.259766   \n",
       "2018-08-26   6884.640137   6689.709961   6710.799805   6884.640137   \n",
       "2018-08-27   7109.560059   6882.339844   6891.080078   7096.279785   \n",
       "2018-08-28   7113.299805   6970.819824   7091.709961   7047.160156   \n",
       "2018-08-29   7072.689941   6834.689941   7043.759766   6978.229980   \n",
       "...                  ...           ...           ...           ...   \n",
       "2020-08-28  11585.640625  11466.292969  11541.054688  11506.865234   \n",
       "2020-08-29  11715.264648  11492.381836  11508.713867  11711.505859   \n",
       "2020-08-30  11768.876953  11598.318359  11713.306641  11680.820312   \n",
       "2020-08-31  12067.081055  11601.128906  11679.316406  11970.478516   \n",
       "2020-09-02  11957.839844  11783.369141  11954.919922  11783.369141   \n",
       "\n",
       "                  Volume     Adj Close Adj Close_Past_1 Volume_Past_1  \\\n",
       "Date                                                                    \n",
       "2018-08-25  3.295500e+09   6707.259766          6763.19    3.3126e+09   \n",
       "2018-08-26  4.019000e+09   6884.640137          6707.26    3.2955e+09   \n",
       "2018-08-27  4.659940e+09   7096.279785          6884.64     4.019e+09   \n",
       "2018-08-28  4.145880e+09   7047.160156          7096.28   4.65994e+09   \n",
       "2018-08-29  4.463250e+09   6978.229980          7047.16   4.14588e+09   \n",
       "...                  ...           ...              ...           ...   \n",
       "2020-08-28  1.748560e+10  11506.865234          11542.5   1.98071e+10   \n",
       "2020-08-29  1.976013e+10  11711.505859          11506.9   1.74856e+10   \n",
       "2020-08-30  2.228593e+10  11680.820312          11711.5   1.97601e+10   \n",
       "2020-08-31  2.731156e+10  11970.478516          11680.8   2.22859e+10   \n",
       "2020-09-02  2.661412e+10  11783.369141          11970.5   2.73116e+10   \n",
       "\n",
       "           Close_Past_1 Open_Past_1  ... Close_Past_10 Open_Past_10  \\\n",
       "Date                                 ...                              \n",
       "2018-08-25      6763.19     6719.95  ...       6334.73      6294.23   \n",
       "2018-08-26      6707.26     6754.64  ...       6580.63      6340.91   \n",
       "2018-08-27      6884.64      6710.8  ...       6423.76      6583.43   \n",
       "2018-08-28      7096.28     6891.08  ...       6506.07      6422.57   \n",
       "2018-08-29      7047.16     7091.71  ...       6308.53      6500.51   \n",
       "...                 ...         ...  ...           ...          ...   \n",
       "2020-08-28      11542.5     11325.3  ...       11758.3      11990.9   \n",
       "2020-08-29      11506.9     11541.1  ...       11878.4      11761.5   \n",
       "2020-08-30      11711.5     11508.7  ...       11592.5        11878   \n",
       "2020-08-31      11680.8     11713.3  ...       11681.8      11585.5   \n",
       "2020-09-02      11970.5     11679.3  ...       11774.6      11663.7   \n",
       "\n",
       "           Low_Past_10 High_Past_10 Adj Close_Past_11 Volume_Past_11  \\\n",
       "Date                                                                   \n",
       "2018-08-25     6276.41       6473.5           6308.52    4.89545e+09   \n",
       "2018-08-26     6324.97       6582.5           6334.73    4.32842e+09   \n",
       "2018-08-27     6353.73      6617.35           6580.63    4.99299e+09   \n",
       "2018-08-28     6361.55      6537.98           6423.76    3.98452e+09   \n",
       "2018-08-29     6297.93      6536.92           6506.07    3.31117e+09   \n",
       "...                ...          ...               ...            ...   \n",
       "2020-08-28     11687.3      12028.9           11991.2    2.60432e+10   \n",
       "2020-08-29     11710.1      11900.4           11758.3    2.45029e+10   \n",
       "2020-08-30       11565      11899.3           11878.4    2.01752e+10   \n",
       "2020-08-31     11448.8      11689.4           11592.5    2.37624e+10   \n",
       "2020-09-02     11623.2      11807.6           11664.8    1.84821e+10   \n",
       "\n",
       "           Close_Past_11 Open_Past_11 Low_Past_11 High_Past_11  \n",
       "Date                                                            \n",
       "2018-08-25       6308.52      6221.42     6221.42      6588.49  \n",
       "2018-08-26       6334.73      6294.23     6276.41       6473.5  \n",
       "2018-08-27       6580.63      6340.91     6324.97       6582.5  \n",
       "2018-08-28       6423.76      6583.43     6353.73      6617.35  \n",
       "2018-08-29       6506.07      6422.57     6361.55      6537.98  \n",
       "...                  ...          ...         ...          ...  \n",
       "2020-08-28       11991.2      12251.9     11954.5      12335.7  \n",
       "2020-08-29       11758.3      11990.9     11687.3      12028.9  \n",
       "2020-08-30       11878.4      11761.5     11710.1      11900.4  \n",
       "2020-08-31       11592.5        11878       11565      11899.3  \n",
       "2020-09-02       11664.8      11679.7     11559.9      11713.4  \n",
       "\n",
       "[736 rows x 72 columns]"
      ]
     },
     "execution_count": 263,
     "metadata": {},
     "output_type": "execute_result"
    }
   ],
   "source": [
    "def createLookBackCols():\n",
    "    for i in range(LOOK_BACK_DAYS):\n",
    "        num_rows= btc_df.shape[0]\n",
    "        num_cols= btc_df.shape[1]\n",
    "        btc_df.insert(loc = num_cols, column = 'High_Past_' + str(i + 1), value = ['N/A'] * num_rows)\n",
    "        btc_df.insert(loc = num_cols, column = 'Low_Past_' + str(i + 1), value = ['N/A'] * num_rows)\n",
    "        btc_df.insert(loc = num_cols, column = 'Open_Past_' + str(i + 1), value = ['N/A'] * num_rows)\n",
    "        btc_df.insert(loc = num_cols, column = 'Close_Past_' + str(i + 1), value = ['N/A'] * num_rows)\n",
    "        btc_df.insert(loc = num_cols, column = 'Volume_Past_' + str(i + 1), value = ['N/A'] * num_rows)\n",
    "        btc_df.insert(loc = num_cols, column = 'Adj Close_Past_' + str(i + 1), value = ['N/A'] * num_rows)\n",
    "#         btc_df.insert(loc = num_cols, column = 'Negative_Past_' + str(i + 1), value = ['N/A'] * num_rows)\n",
    "#         btc_df.insert(loc = num_cols, column = 'Neutral_Past_' + str(i + 1), value = ['N/A'] * num_rows)\n",
    "#         btc_df.insert(loc = num_cols, column = 'Positive_Past_' + str(i + 1), value = ['N/A'] * num_rows)\n",
    "\n",
    "        \n",
    "createLookBackCols() #create additional look back columns\n",
    "btc_df = btc_df.loc[~btc_df.index.duplicated(keep='first')] #delete all duplicate indices\n",
    "\n",
    "for index, row in btc_df.iterrows():\n",
    "    current_date = index.to_pydatetime()\n",
    "    if (current_date - start_date).days >= LOOK_BACK_DAYS - 1:\n",
    "        for i in range(LOOK_BACK_DAYS):\n",
    "            index = i + 1\n",
    "            look_back_date = current_date - timedelta(days=index)\n",
    "            \n",
    "            while True: #we need to keep subtracting days to the look_back_date because there is no index for that day\n",
    "                if look_back_date in btc_df.index:\n",
    "                    break\n",
    "                look_back_date = look_back_date - timedelta(days=1)\n",
    "            \n",
    "            btc_df.at[pd.Timestamp(current_date), 'High_Past_' + str(index)] = btc_df.at[pd.Timestamp(look_back_date), 'High']\n",
    "            btc_df.at[pd.Timestamp(current_date), 'Low_Past_' + str(index)] = btc_df.at[pd.Timestamp(look_back_date), 'Low']\n",
    "            btc_df.at[pd.Timestamp(current_date), 'Open_Past_' + str(index)] = btc_df.at[pd.Timestamp(look_back_date), 'Open']\n",
    "            btc_df.at[pd.Timestamp(current_date), 'Close_Past_' + str(index)] = btc_df.at[pd.Timestamp(look_back_date), 'Close']\n",
    "            btc_df.at[pd.Timestamp(current_date), 'Volume_Past_' + str(index)] = btc_df.at[pd.Timestamp(look_back_date), 'Volume']\n",
    "            btc_df.at[pd.Timestamp(current_date), 'Adj Close_Past_' + str(index)] = btc_df.at[pd.Timestamp(look_back_date), 'Adj Close']\n",
    "#             btc_df.at[pd.Timestamp(current_date), 'Negative_Past_' + str(index)] = btc_df.at[pd.Timestamp(look_back_date), 'Negative']\n",
    "#             btc_df.at[pd.Timestamp(current_date), 'Neutral_Past_' + str(index)] = btc_df.at[pd.Timestamp(look_back_date), 'Neutral']\n",
    "#             btc_df.at[pd.Timestamp(current_date), 'Positive_Past_' + str(index)] = btc_df.at[pd.Timestamp(look_back_date), 'Positive']\n",
    "\n",
    "            \n",
    "btc_df = btc_df[btc_df.High_Past_1 != 'N/A']\n",
    "btc_df"
   ]
  },
  {
   "cell_type": "code",
   "execution_count": 264,
   "metadata": {},
   "outputs": [
    {
     "data": {
      "text/html": [
       "<div>\n",
       "<style scoped>\n",
       "    .dataframe tbody tr th:only-of-type {\n",
       "        vertical-align: middle;\n",
       "    }\n",
       "\n",
       "    .dataframe tbody tr th {\n",
       "        vertical-align: top;\n",
       "    }\n",
       "\n",
       "    .dataframe thead th {\n",
       "        text-align: right;\n",
       "    }\n",
       "</style>\n",
       "<table border=\"1\" class=\"dataframe\">\n",
       "  <thead>\n",
       "    <tr style=\"text-align: right;\">\n",
       "      <th></th>\n",
       "      <th>High</th>\n",
       "      <th>Low</th>\n",
       "      <th>Open</th>\n",
       "      <th>Close</th>\n",
       "      <th>Volume</th>\n",
       "      <th>Adj Close</th>\n",
       "      <th>Adj Close_Past_1</th>\n",
       "      <th>Volume_Past_1</th>\n",
       "      <th>Close_Past_1</th>\n",
       "      <th>Open_Past_1</th>\n",
       "      <th>...</th>\n",
       "      <th>Open_Past_10</th>\n",
       "      <th>Low_Past_10</th>\n",
       "      <th>High_Past_10</th>\n",
       "      <th>Adj Close_Past_11</th>\n",
       "      <th>Volume_Past_11</th>\n",
       "      <th>Close_Past_11</th>\n",
       "      <th>Open_Past_11</th>\n",
       "      <th>Low_Past_11</th>\n",
       "      <th>High_Past_11</th>\n",
       "      <th>MonthTrend</th>\n",
       "    </tr>\n",
       "    <tr>\n",
       "      <th>Date</th>\n",
       "      <th></th>\n",
       "      <th></th>\n",
       "      <th></th>\n",
       "      <th></th>\n",
       "      <th></th>\n",
       "      <th></th>\n",
       "      <th></th>\n",
       "      <th></th>\n",
       "      <th></th>\n",
       "      <th></th>\n",
       "      <th></th>\n",
       "      <th></th>\n",
       "      <th></th>\n",
       "      <th></th>\n",
       "      <th></th>\n",
       "      <th></th>\n",
       "      <th></th>\n",
       "      <th></th>\n",
       "      <th></th>\n",
       "      <th></th>\n",
       "      <th></th>\n",
       "    </tr>\n",
       "  </thead>\n",
       "  <tbody>\n",
       "    <tr>\n",
       "      <td>2018-08-25</td>\n",
       "      <td>6774.750000</td>\n",
       "      <td>6620.750000</td>\n",
       "      <td>6754.640137</td>\n",
       "      <td>6707.259766</td>\n",
       "      <td>3.295500e+09</td>\n",
       "      <td>6707.259766</td>\n",
       "      <td>6763.19</td>\n",
       "      <td>3.3126e+09</td>\n",
       "      <td>6763.19</td>\n",
       "      <td>6719.95</td>\n",
       "      <td>...</td>\n",
       "      <td>6294.23</td>\n",
       "      <td>6276.41</td>\n",
       "      <td>6473.5</td>\n",
       "      <td>6308.52</td>\n",
       "      <td>4.89545e+09</td>\n",
       "      <td>6308.52</td>\n",
       "      <td>6221.42</td>\n",
       "      <td>6221.42</td>\n",
       "      <td>6588.49</td>\n",
       "      <td>DOWN</td>\n",
       "    </tr>\n",
       "    <tr>\n",
       "      <td>2018-08-26</td>\n",
       "      <td>6884.640137</td>\n",
       "      <td>6689.709961</td>\n",
       "      <td>6710.799805</td>\n",
       "      <td>6884.640137</td>\n",
       "      <td>4.019000e+09</td>\n",
       "      <td>6884.640137</td>\n",
       "      <td>6707.26</td>\n",
       "      <td>3.2955e+09</td>\n",
       "      <td>6707.26</td>\n",
       "      <td>6754.64</td>\n",
       "      <td>...</td>\n",
       "      <td>6340.91</td>\n",
       "      <td>6324.97</td>\n",
       "      <td>6582.5</td>\n",
       "      <td>6334.73</td>\n",
       "      <td>4.32842e+09</td>\n",
       "      <td>6334.73</td>\n",
       "      <td>6294.23</td>\n",
       "      <td>6276.41</td>\n",
       "      <td>6473.5</td>\n",
       "      <td>UP</td>\n",
       "    </tr>\n",
       "    <tr>\n",
       "      <td>2018-08-27</td>\n",
       "      <td>7109.560059</td>\n",
       "      <td>6882.339844</td>\n",
       "      <td>6891.080078</td>\n",
       "      <td>7096.279785</td>\n",
       "      <td>4.659940e+09</td>\n",
       "      <td>7096.279785</td>\n",
       "      <td>6884.64</td>\n",
       "      <td>4.019e+09</td>\n",
       "      <td>6884.64</td>\n",
       "      <td>6710.8</td>\n",
       "      <td>...</td>\n",
       "      <td>6583.43</td>\n",
       "      <td>6353.73</td>\n",
       "      <td>6617.35</td>\n",
       "      <td>6580.63</td>\n",
       "      <td>4.99299e+09</td>\n",
       "      <td>6580.63</td>\n",
       "      <td>6340.91</td>\n",
       "      <td>6324.97</td>\n",
       "      <td>6582.5</td>\n",
       "      <td>UP</td>\n",
       "    </tr>\n",
       "    <tr>\n",
       "      <td>2018-08-28</td>\n",
       "      <td>7113.299805</td>\n",
       "      <td>6970.819824</td>\n",
       "      <td>7091.709961</td>\n",
       "      <td>7047.160156</td>\n",
       "      <td>4.145880e+09</td>\n",
       "      <td>7047.160156</td>\n",
       "      <td>7096.28</td>\n",
       "      <td>4.65994e+09</td>\n",
       "      <td>7096.28</td>\n",
       "      <td>6891.08</td>\n",
       "      <td>...</td>\n",
       "      <td>6422.57</td>\n",
       "      <td>6361.55</td>\n",
       "      <td>6537.98</td>\n",
       "      <td>6423.76</td>\n",
       "      <td>3.98452e+09</td>\n",
       "      <td>6423.76</td>\n",
       "      <td>6583.43</td>\n",
       "      <td>6353.73</td>\n",
       "      <td>6617.35</td>\n",
       "      <td>DOWN</td>\n",
       "    </tr>\n",
       "    <tr>\n",
       "      <td>2018-08-29</td>\n",
       "      <td>7072.689941</td>\n",
       "      <td>6834.689941</td>\n",
       "      <td>7043.759766</td>\n",
       "      <td>6978.229980</td>\n",
       "      <td>4.463250e+09</td>\n",
       "      <td>6978.229980</td>\n",
       "      <td>7047.16</td>\n",
       "      <td>4.14588e+09</td>\n",
       "      <td>7047.16</td>\n",
       "      <td>7091.71</td>\n",
       "      <td>...</td>\n",
       "      <td>6500.51</td>\n",
       "      <td>6297.93</td>\n",
       "      <td>6536.92</td>\n",
       "      <td>6506.07</td>\n",
       "      <td>3.31117e+09</td>\n",
       "      <td>6506.07</td>\n",
       "      <td>6422.57</td>\n",
       "      <td>6361.55</td>\n",
       "      <td>6537.98</td>\n",
       "      <td>DOWN</td>\n",
       "    </tr>\n",
       "    <tr>\n",
       "      <td>...</td>\n",
       "      <td>...</td>\n",
       "      <td>...</td>\n",
       "      <td>...</td>\n",
       "      <td>...</td>\n",
       "      <td>...</td>\n",
       "      <td>...</td>\n",
       "      <td>...</td>\n",
       "      <td>...</td>\n",
       "      <td>...</td>\n",
       "      <td>...</td>\n",
       "      <td>...</td>\n",
       "      <td>...</td>\n",
       "      <td>...</td>\n",
       "      <td>...</td>\n",
       "      <td>...</td>\n",
       "      <td>...</td>\n",
       "      <td>...</td>\n",
       "      <td>...</td>\n",
       "      <td>...</td>\n",
       "      <td>...</td>\n",
       "      <td>...</td>\n",
       "    </tr>\n",
       "    <tr>\n",
       "      <td>2020-08-27</td>\n",
       "      <td>11545.615234</td>\n",
       "      <td>11316.422852</td>\n",
       "      <td>11325.295898</td>\n",
       "      <td>11542.500000</td>\n",
       "      <td>1.980713e+10</td>\n",
       "      <td>11542.500000</td>\n",
       "      <td>11323.4</td>\n",
       "      <td>2.32404e+10</td>\n",
       "      <td>11323.4</td>\n",
       "      <td>11485.6</td>\n",
       "      <td>...</td>\n",
       "      <td>12251.9</td>\n",
       "      <td>11954.5</td>\n",
       "      <td>12335.7</td>\n",
       "      <td>12254.4</td>\n",
       "      <td>2.82277e+10</td>\n",
       "      <td>12254.4</td>\n",
       "      <td>11895.7</td>\n",
       "      <td>11806.7</td>\n",
       "      <td>12359.1</td>\n",
       "      <td>UP</td>\n",
       "    </tr>\n",
       "    <tr>\n",
       "      <td>2020-08-28</td>\n",
       "      <td>11585.640625</td>\n",
       "      <td>11466.292969</td>\n",
       "      <td>11541.054688</td>\n",
       "      <td>11506.865234</td>\n",
       "      <td>1.748560e+10</td>\n",
       "      <td>11506.865234</td>\n",
       "      <td>11542.5</td>\n",
       "      <td>1.98071e+10</td>\n",
       "      <td>11542.5</td>\n",
       "      <td>11325.3</td>\n",
       "      <td>...</td>\n",
       "      <td>11990.9</td>\n",
       "      <td>11687.3</td>\n",
       "      <td>12028.9</td>\n",
       "      <td>11991.2</td>\n",
       "      <td>2.60432e+10</td>\n",
       "      <td>11991.2</td>\n",
       "      <td>12251.9</td>\n",
       "      <td>11954.5</td>\n",
       "      <td>12335.7</td>\n",
       "      <td>DOWN</td>\n",
       "    </tr>\n",
       "    <tr>\n",
       "      <td>2020-08-29</td>\n",
       "      <td>11715.264648</td>\n",
       "      <td>11492.381836</td>\n",
       "      <td>11508.713867</td>\n",
       "      <td>11711.505859</td>\n",
       "      <td>1.976013e+10</td>\n",
       "      <td>11711.505859</td>\n",
       "      <td>11506.9</td>\n",
       "      <td>1.74856e+10</td>\n",
       "      <td>11506.9</td>\n",
       "      <td>11541.1</td>\n",
       "      <td>...</td>\n",
       "      <td>11761.5</td>\n",
       "      <td>11710.1</td>\n",
       "      <td>11900.4</td>\n",
       "      <td>11758.3</td>\n",
       "      <td>2.45029e+10</td>\n",
       "      <td>11758.3</td>\n",
       "      <td>11990.9</td>\n",
       "      <td>11687.3</td>\n",
       "      <td>12028.9</td>\n",
       "      <td>UP</td>\n",
       "    </tr>\n",
       "    <tr>\n",
       "      <td>2020-08-30</td>\n",
       "      <td>11768.876953</td>\n",
       "      <td>11598.318359</td>\n",
       "      <td>11713.306641</td>\n",
       "      <td>11680.820312</td>\n",
       "      <td>2.228593e+10</td>\n",
       "      <td>11680.820312</td>\n",
       "      <td>11711.5</td>\n",
       "      <td>1.97601e+10</td>\n",
       "      <td>11711.5</td>\n",
       "      <td>11508.7</td>\n",
       "      <td>...</td>\n",
       "      <td>11878</td>\n",
       "      <td>11565</td>\n",
       "      <td>11899.3</td>\n",
       "      <td>11878.4</td>\n",
       "      <td>2.01752e+10</td>\n",
       "      <td>11878.4</td>\n",
       "      <td>11761.5</td>\n",
       "      <td>11710.1</td>\n",
       "      <td>11900.4</td>\n",
       "      <td>DOWN</td>\n",
       "    </tr>\n",
       "    <tr>\n",
       "      <td>2020-08-31</td>\n",
       "      <td>12067.081055</td>\n",
       "      <td>11601.128906</td>\n",
       "      <td>11679.316406</td>\n",
       "      <td>11970.478516</td>\n",
       "      <td>2.731156e+10</td>\n",
       "      <td>11970.478516</td>\n",
       "      <td>11680.8</td>\n",
       "      <td>2.22859e+10</td>\n",
       "      <td>11680.8</td>\n",
       "      <td>11713.3</td>\n",
       "      <td>...</td>\n",
       "      <td>11585.5</td>\n",
       "      <td>11448.8</td>\n",
       "      <td>11689.4</td>\n",
       "      <td>11592.5</td>\n",
       "      <td>2.37624e+10</td>\n",
       "      <td>11592.5</td>\n",
       "      <td>11878</td>\n",
       "      <td>11565</td>\n",
       "      <td>11899.3</td>\n",
       "      <td>UP</td>\n",
       "    </tr>\n",
       "  </tbody>\n",
       "</table>\n",
       "<p>735 rows × 73 columns</p>\n",
       "</div>"
      ],
      "text/plain": [
       "                    High           Low          Open         Close  \\\n",
       "Date                                                                 \n",
       "2018-08-25   6774.750000   6620.750000   6754.640137   6707.259766   \n",
       "2018-08-26   6884.640137   6689.709961   6710.799805   6884.640137   \n",
       "2018-08-27   7109.560059   6882.339844   6891.080078   7096.279785   \n",
       "2018-08-28   7113.299805   6970.819824   7091.709961   7047.160156   \n",
       "2018-08-29   7072.689941   6834.689941   7043.759766   6978.229980   \n",
       "...                  ...           ...           ...           ...   \n",
       "2020-08-27  11545.615234  11316.422852  11325.295898  11542.500000   \n",
       "2020-08-28  11585.640625  11466.292969  11541.054688  11506.865234   \n",
       "2020-08-29  11715.264648  11492.381836  11508.713867  11711.505859   \n",
       "2020-08-30  11768.876953  11598.318359  11713.306641  11680.820312   \n",
       "2020-08-31  12067.081055  11601.128906  11679.316406  11970.478516   \n",
       "\n",
       "                  Volume     Adj Close Adj Close_Past_1 Volume_Past_1  \\\n",
       "Date                                                                    \n",
       "2018-08-25  3.295500e+09   6707.259766          6763.19    3.3126e+09   \n",
       "2018-08-26  4.019000e+09   6884.640137          6707.26    3.2955e+09   \n",
       "2018-08-27  4.659940e+09   7096.279785          6884.64     4.019e+09   \n",
       "2018-08-28  4.145880e+09   7047.160156          7096.28   4.65994e+09   \n",
       "2018-08-29  4.463250e+09   6978.229980          7047.16   4.14588e+09   \n",
       "...                  ...           ...              ...           ...   \n",
       "2020-08-27  1.980713e+10  11542.500000          11323.4   2.32404e+10   \n",
       "2020-08-28  1.748560e+10  11506.865234          11542.5   1.98071e+10   \n",
       "2020-08-29  1.976013e+10  11711.505859          11506.9   1.74856e+10   \n",
       "2020-08-30  2.228593e+10  11680.820312          11711.5   1.97601e+10   \n",
       "2020-08-31  2.731156e+10  11970.478516          11680.8   2.22859e+10   \n",
       "\n",
       "           Close_Past_1 Open_Past_1  ... Open_Past_10 Low_Past_10  \\\n",
       "Date                                 ...                            \n",
       "2018-08-25      6763.19     6719.95  ...      6294.23     6276.41   \n",
       "2018-08-26      6707.26     6754.64  ...      6340.91     6324.97   \n",
       "2018-08-27      6884.64      6710.8  ...      6583.43     6353.73   \n",
       "2018-08-28      7096.28     6891.08  ...      6422.57     6361.55   \n",
       "2018-08-29      7047.16     7091.71  ...      6500.51     6297.93   \n",
       "...                 ...         ...  ...          ...         ...   \n",
       "2020-08-27      11323.4     11485.6  ...      12251.9     11954.5   \n",
       "2020-08-28      11542.5     11325.3  ...      11990.9     11687.3   \n",
       "2020-08-29      11506.9     11541.1  ...      11761.5     11710.1   \n",
       "2020-08-30      11711.5     11508.7  ...        11878       11565   \n",
       "2020-08-31      11680.8     11713.3  ...      11585.5     11448.8   \n",
       "\n",
       "           High_Past_10 Adj Close_Past_11 Volume_Past_11 Close_Past_11  \\\n",
       "Date                                                                     \n",
       "2018-08-25       6473.5           6308.52    4.89545e+09       6308.52   \n",
       "2018-08-26       6582.5           6334.73    4.32842e+09       6334.73   \n",
       "2018-08-27      6617.35           6580.63    4.99299e+09       6580.63   \n",
       "2018-08-28      6537.98           6423.76    3.98452e+09       6423.76   \n",
       "2018-08-29      6536.92           6506.07    3.31117e+09       6506.07   \n",
       "...                 ...               ...            ...           ...   \n",
       "2020-08-27      12335.7           12254.4    2.82277e+10       12254.4   \n",
       "2020-08-28      12028.9           11991.2    2.60432e+10       11991.2   \n",
       "2020-08-29      11900.4           11758.3    2.45029e+10       11758.3   \n",
       "2020-08-30      11899.3           11878.4    2.01752e+10       11878.4   \n",
       "2020-08-31      11689.4           11592.5    2.37624e+10       11592.5   \n",
       "\n",
       "           Open_Past_11 Low_Past_11 High_Past_11 MonthTrend  \n",
       "Date                                                         \n",
       "2018-08-25      6221.42     6221.42      6588.49       DOWN  \n",
       "2018-08-26      6294.23     6276.41       6473.5         UP  \n",
       "2018-08-27      6340.91     6324.97       6582.5         UP  \n",
       "2018-08-28      6583.43     6353.73      6617.35       DOWN  \n",
       "2018-08-29      6422.57     6361.55      6537.98       DOWN  \n",
       "...                 ...         ...          ...        ...  \n",
       "2020-08-27      11895.7     11806.7      12359.1         UP  \n",
       "2020-08-28      12251.9     11954.5      12335.7       DOWN  \n",
       "2020-08-29      11990.9     11687.3      12028.9         UP  \n",
       "2020-08-30      11761.5     11710.1      11900.4       DOWN  \n",
       "2020-08-31        11878       11565      11899.3         UP  \n",
       "\n",
       "[735 rows x 73 columns]"
      ]
     },
     "execution_count": 264,
     "metadata": {},
     "output_type": "execute_result"
    }
   ],
   "source": [
    "btc_df = btc_df.assign(MonthTrend=lambda x: \"N/A\") #introduce new column that will be the trend we are predicting\n",
    "btc_df = btc_df.loc[~btc_df.index.duplicated(keep='first')] #delete all duplicate indices\n",
    "\n",
    "#Populate the classification column MonthTrend\n",
    "for index, row in btc_df.iterrows():\n",
    "    current_date = index.to_pydatetime()\n",
    "   \n",
    "    if (end_date - current_date).days > LOOK_AHEAD_DAYS:\n",
    "        look_ahead_date = current_date + timedelta(days=LOOK_AHEAD_DAYS)\n",
    "        \n",
    "        num_attempts = 0\n",
    "        while True: #we need to keep adding days to the look_ahead_date because there is no index for that day\n",
    "            if look_ahead_date in btc_df.index:\n",
    "                break\n",
    "            look_ahead_date = look_ahead_date + timedelta(days=1)\n",
    "            num_attempts = num_attempts + 1\n",
    "            if num_attempts > 10:\n",
    "                break\n",
    "        if num_attempts > 10:\n",
    "            break   \n",
    "        \n",
    "        #Here we check if the open price in the future is higher than today's open price.\n",
    "        if btc_df.loc[pd.Timestamp(look_ahead_date)]['Open'] > btc_df.loc[index]['Open']:\n",
    "            btc_df.at[pd.Timestamp(index), 'MonthTrend'] = 'UP'\n",
    "        else:\n",
    "            btc_df.at[pd.Timestamp(index), 'MonthTrend'] = 'DOWN'\n",
    "            \n",
    "#Now delete all columns that have a MonthTrend value of N/A\n",
    "btc_df = btc_df[btc_df.MonthTrend != 'N/A']\n",
    "\n",
    "#Data is now fully processed and ready to be trained on the machine learning model\n",
    "#There are 3 values for MonthTrend: UP, DOWN,NEUTRAL\n",
    "btc_df"
   ]
  },
  {
   "cell_type": "code",
   "execution_count": 265,
   "metadata": {},
   "outputs": [
    {
     "data": {
      "text/html": [
       "<div>\n",
       "<style scoped>\n",
       "    .dataframe tbody tr th:only-of-type {\n",
       "        vertical-align: middle;\n",
       "    }\n",
       "\n",
       "    .dataframe tbody tr th {\n",
       "        vertical-align: top;\n",
       "    }\n",
       "\n",
       "    .dataframe thead th {\n",
       "        text-align: right;\n",
       "    }\n",
       "</style>\n",
       "<table border=\"1\" class=\"dataframe\">\n",
       "  <thead>\n",
       "    <tr style=\"text-align: right;\">\n",
       "      <th></th>\n",
       "      <th>Close</th>\n",
       "      <th>Close_Past_1</th>\n",
       "      <th>Close_Past_2</th>\n",
       "      <th>Close_Past_3</th>\n",
       "      <th>Close_Past_4</th>\n",
       "      <th>Close_Past_5</th>\n",
       "      <th>Close_Past_6</th>\n",
       "      <th>Close_Past_7</th>\n",
       "      <th>Close_Past_8</th>\n",
       "      <th>Close_Past_9</th>\n",
       "      <th>...</th>\n",
       "      <th>Volume_Past_3</th>\n",
       "      <th>Volume_Past_4</th>\n",
       "      <th>Volume_Past_5</th>\n",
       "      <th>Volume_Past_6</th>\n",
       "      <th>Volume_Past_7</th>\n",
       "      <th>Volume_Past_8</th>\n",
       "      <th>Volume_Past_9</th>\n",
       "      <th>Volume_Past_10</th>\n",
       "      <th>Volume_Past_11</th>\n",
       "      <th>MonthTrend</th>\n",
       "    </tr>\n",
       "    <tr>\n",
       "      <th>Date</th>\n",
       "      <th></th>\n",
       "      <th></th>\n",
       "      <th></th>\n",
       "      <th></th>\n",
       "      <th></th>\n",
       "      <th></th>\n",
       "      <th></th>\n",
       "      <th></th>\n",
       "      <th></th>\n",
       "      <th></th>\n",
       "      <th></th>\n",
       "      <th></th>\n",
       "      <th></th>\n",
       "      <th></th>\n",
       "      <th></th>\n",
       "      <th></th>\n",
       "      <th></th>\n",
       "      <th></th>\n",
       "      <th></th>\n",
       "      <th></th>\n",
       "      <th></th>\n",
       "    </tr>\n",
       "  </thead>\n",
       "  <tbody>\n",
       "    <tr>\n",
       "      <td>2018-08-25</td>\n",
       "      <td>6707.259766</td>\n",
       "      <td>6763.19</td>\n",
       "      <td>6719.96</td>\n",
       "      <td>6534.88</td>\n",
       "      <td>6376.71</td>\n",
       "      <td>6488.76</td>\n",
       "      <td>6308.53</td>\n",
       "      <td>6506.07</td>\n",
       "      <td>6423.76</td>\n",
       "      <td>6580.63</td>\n",
       "      <td>...</td>\n",
       "      <td>3.42618e+09</td>\n",
       "      <td>4.66811e+09</td>\n",
       "      <td>3.37718e+09</td>\n",
       "      <td>3.6651e+09</td>\n",
       "      <td>3.31117e+09</td>\n",
       "      <td>3.98452e+09</td>\n",
       "      <td>4.99299e+09</td>\n",
       "      <td>4.32842e+09</td>\n",
       "      <td>4.89545e+09</td>\n",
       "      <td>DOWN</td>\n",
       "    </tr>\n",
       "    <tr>\n",
       "      <td>2018-08-26</td>\n",
       "      <td>6884.640137</td>\n",
       "      <td>6707.26</td>\n",
       "      <td>6763.19</td>\n",
       "      <td>6719.96</td>\n",
       "      <td>6534.88</td>\n",
       "      <td>6376.71</td>\n",
       "      <td>6488.76</td>\n",
       "      <td>6308.53</td>\n",
       "      <td>6506.07</td>\n",
       "      <td>6423.76</td>\n",
       "      <td>...</td>\n",
       "      <td>4.09782e+09</td>\n",
       "      <td>3.42618e+09</td>\n",
       "      <td>4.66811e+09</td>\n",
       "      <td>3.37718e+09</td>\n",
       "      <td>3.6651e+09</td>\n",
       "      <td>3.31117e+09</td>\n",
       "      <td>3.98452e+09</td>\n",
       "      <td>4.99299e+09</td>\n",
       "      <td>4.32842e+09</td>\n",
       "      <td>UP</td>\n",
       "    </tr>\n",
       "    <tr>\n",
       "      <td>2018-08-27</td>\n",
       "      <td>7096.279785</td>\n",
       "      <td>6884.64</td>\n",
       "      <td>6707.26</td>\n",
       "      <td>6763.19</td>\n",
       "      <td>6719.96</td>\n",
       "      <td>6534.88</td>\n",
       "      <td>6376.71</td>\n",
       "      <td>6488.76</td>\n",
       "      <td>6308.53</td>\n",
       "      <td>6506.07</td>\n",
       "      <td>...</td>\n",
       "      <td>3.3126e+09</td>\n",
       "      <td>4.09782e+09</td>\n",
       "      <td>3.42618e+09</td>\n",
       "      <td>4.66811e+09</td>\n",
       "      <td>3.37718e+09</td>\n",
       "      <td>3.6651e+09</td>\n",
       "      <td>3.31117e+09</td>\n",
       "      <td>3.98452e+09</td>\n",
       "      <td>4.99299e+09</td>\n",
       "      <td>UP</td>\n",
       "    </tr>\n",
       "    <tr>\n",
       "      <td>2018-08-28</td>\n",
       "      <td>7047.160156</td>\n",
       "      <td>7096.28</td>\n",
       "      <td>6884.64</td>\n",
       "      <td>6707.26</td>\n",
       "      <td>6763.19</td>\n",
       "      <td>6719.96</td>\n",
       "      <td>6534.88</td>\n",
       "      <td>6376.71</td>\n",
       "      <td>6488.76</td>\n",
       "      <td>6308.53</td>\n",
       "      <td>...</td>\n",
       "      <td>3.2955e+09</td>\n",
       "      <td>3.3126e+09</td>\n",
       "      <td>4.09782e+09</td>\n",
       "      <td>3.42618e+09</td>\n",
       "      <td>4.66811e+09</td>\n",
       "      <td>3.37718e+09</td>\n",
       "      <td>3.6651e+09</td>\n",
       "      <td>3.31117e+09</td>\n",
       "      <td>3.98452e+09</td>\n",
       "      <td>DOWN</td>\n",
       "    </tr>\n",
       "    <tr>\n",
       "      <td>2018-08-29</td>\n",
       "      <td>6978.229980</td>\n",
       "      <td>7047.16</td>\n",
       "      <td>7096.28</td>\n",
       "      <td>6884.64</td>\n",
       "      <td>6707.26</td>\n",
       "      <td>6763.19</td>\n",
       "      <td>6719.96</td>\n",
       "      <td>6534.88</td>\n",
       "      <td>6376.71</td>\n",
       "      <td>6488.76</td>\n",
       "      <td>...</td>\n",
       "      <td>4.019e+09</td>\n",
       "      <td>3.2955e+09</td>\n",
       "      <td>3.3126e+09</td>\n",
       "      <td>4.09782e+09</td>\n",
       "      <td>3.42618e+09</td>\n",
       "      <td>4.66811e+09</td>\n",
       "      <td>3.37718e+09</td>\n",
       "      <td>3.6651e+09</td>\n",
       "      <td>3.31117e+09</td>\n",
       "      <td>DOWN</td>\n",
       "    </tr>\n",
       "    <tr>\n",
       "      <td>...</td>\n",
       "      <td>...</td>\n",
       "      <td>...</td>\n",
       "      <td>...</td>\n",
       "      <td>...</td>\n",
       "      <td>...</td>\n",
       "      <td>...</td>\n",
       "      <td>...</td>\n",
       "      <td>...</td>\n",
       "      <td>...</td>\n",
       "      <td>...</td>\n",
       "      <td>...</td>\n",
       "      <td>...</td>\n",
       "      <td>...</td>\n",
       "      <td>...</td>\n",
       "      <td>...</td>\n",
       "      <td>...</td>\n",
       "      <td>...</td>\n",
       "      <td>...</td>\n",
       "      <td>...</td>\n",
       "      <td>...</td>\n",
       "      <td>...</td>\n",
       "    </tr>\n",
       "    <tr>\n",
       "      <td>2020-08-27</td>\n",
       "      <td>11542.500000</td>\n",
       "      <td>11323.4</td>\n",
       "      <td>11488.4</td>\n",
       "      <td>11366.1</td>\n",
       "      <td>11774.6</td>\n",
       "      <td>11664.8</td>\n",
       "      <td>11681.8</td>\n",
       "      <td>11592.5</td>\n",
       "      <td>11878.4</td>\n",
       "      <td>11758.3</td>\n",
       "      <td>...</td>\n",
       "      <td>2.63015e+10</td>\n",
       "      <td>2.06815e+10</td>\n",
       "      <td>1.84821e+10</td>\n",
       "      <td>2.02242e+10</td>\n",
       "      <td>2.37624e+10</td>\n",
       "      <td>2.01752e+10</td>\n",
       "      <td>2.45029e+10</td>\n",
       "      <td>2.60432e+10</td>\n",
       "      <td>2.82277e+10</td>\n",
       "      <td>UP</td>\n",
       "    </tr>\n",
       "    <tr>\n",
       "      <td>2020-08-28</td>\n",
       "      <td>11506.865234</td>\n",
       "      <td>11542.5</td>\n",
       "      <td>11323.4</td>\n",
       "      <td>11488.4</td>\n",
       "      <td>11366.1</td>\n",
       "      <td>11774.6</td>\n",
       "      <td>11664.8</td>\n",
       "      <td>11681.8</td>\n",
       "      <td>11592.5</td>\n",
       "      <td>11878.4</td>\n",
       "      <td>...</td>\n",
       "      <td>2.24667e+10</td>\n",
       "      <td>2.63015e+10</td>\n",
       "      <td>2.06815e+10</td>\n",
       "      <td>1.84821e+10</td>\n",
       "      <td>2.02242e+10</td>\n",
       "      <td>2.37624e+10</td>\n",
       "      <td>2.01752e+10</td>\n",
       "      <td>2.45029e+10</td>\n",
       "      <td>2.60432e+10</td>\n",
       "      <td>DOWN</td>\n",
       "    </tr>\n",
       "    <tr>\n",
       "      <td>2020-08-29</td>\n",
       "      <td>11711.505859</td>\n",
       "      <td>11506.9</td>\n",
       "      <td>11542.5</td>\n",
       "      <td>11323.4</td>\n",
       "      <td>11488.4</td>\n",
       "      <td>11366.1</td>\n",
       "      <td>11774.6</td>\n",
       "      <td>11664.8</td>\n",
       "      <td>11681.8</td>\n",
       "      <td>11592.5</td>\n",
       "      <td>...</td>\n",
       "      <td>2.32404e+10</td>\n",
       "      <td>2.24667e+10</td>\n",
       "      <td>2.63015e+10</td>\n",
       "      <td>2.06815e+10</td>\n",
       "      <td>1.84821e+10</td>\n",
       "      <td>2.02242e+10</td>\n",
       "      <td>2.37624e+10</td>\n",
       "      <td>2.01752e+10</td>\n",
       "      <td>2.45029e+10</td>\n",
       "      <td>UP</td>\n",
       "    </tr>\n",
       "    <tr>\n",
       "      <td>2020-08-30</td>\n",
       "      <td>11680.820312</td>\n",
       "      <td>11711.5</td>\n",
       "      <td>11506.9</td>\n",
       "      <td>11542.5</td>\n",
       "      <td>11323.4</td>\n",
       "      <td>11488.4</td>\n",
       "      <td>11366.1</td>\n",
       "      <td>11774.6</td>\n",
       "      <td>11664.8</td>\n",
       "      <td>11681.8</td>\n",
       "      <td>...</td>\n",
       "      <td>1.98071e+10</td>\n",
       "      <td>2.32404e+10</td>\n",
       "      <td>2.24667e+10</td>\n",
       "      <td>2.63015e+10</td>\n",
       "      <td>2.06815e+10</td>\n",
       "      <td>1.84821e+10</td>\n",
       "      <td>2.02242e+10</td>\n",
       "      <td>2.37624e+10</td>\n",
       "      <td>2.01752e+10</td>\n",
       "      <td>DOWN</td>\n",
       "    </tr>\n",
       "    <tr>\n",
       "      <td>2020-08-31</td>\n",
       "      <td>11970.478516</td>\n",
       "      <td>11680.8</td>\n",
       "      <td>11711.5</td>\n",
       "      <td>11506.9</td>\n",
       "      <td>11542.5</td>\n",
       "      <td>11323.4</td>\n",
       "      <td>11488.4</td>\n",
       "      <td>11366.1</td>\n",
       "      <td>11774.6</td>\n",
       "      <td>11664.8</td>\n",
       "      <td>...</td>\n",
       "      <td>1.74856e+10</td>\n",
       "      <td>1.98071e+10</td>\n",
       "      <td>2.32404e+10</td>\n",
       "      <td>2.24667e+10</td>\n",
       "      <td>2.63015e+10</td>\n",
       "      <td>2.06815e+10</td>\n",
       "      <td>1.84821e+10</td>\n",
       "      <td>2.02242e+10</td>\n",
       "      <td>2.37624e+10</td>\n",
       "      <td>UP</td>\n",
       "    </tr>\n",
       "  </tbody>\n",
       "</table>\n",
       "<p>735 rows × 37 columns</p>\n",
       "</div>"
      ],
      "text/plain": [
       "                   Close Close_Past_1 Close_Past_2 Close_Past_3 Close_Past_4  \\\n",
       "Date                                                                           \n",
       "2018-08-25   6707.259766      6763.19      6719.96      6534.88      6376.71   \n",
       "2018-08-26   6884.640137      6707.26      6763.19      6719.96      6534.88   \n",
       "2018-08-27   7096.279785      6884.64      6707.26      6763.19      6719.96   \n",
       "2018-08-28   7047.160156      7096.28      6884.64      6707.26      6763.19   \n",
       "2018-08-29   6978.229980      7047.16      7096.28      6884.64      6707.26   \n",
       "...                  ...          ...          ...          ...          ...   \n",
       "2020-08-27  11542.500000      11323.4      11488.4      11366.1      11774.6   \n",
       "2020-08-28  11506.865234      11542.5      11323.4      11488.4      11366.1   \n",
       "2020-08-29  11711.505859      11506.9      11542.5      11323.4      11488.4   \n",
       "2020-08-30  11680.820312      11711.5      11506.9      11542.5      11323.4   \n",
       "2020-08-31  11970.478516      11680.8      11711.5      11506.9      11542.5   \n",
       "\n",
       "           Close_Past_5 Close_Past_6 Close_Past_7 Close_Past_8 Close_Past_9  \\\n",
       "Date                                                                          \n",
       "2018-08-25      6488.76      6308.53      6506.07      6423.76      6580.63   \n",
       "2018-08-26      6376.71      6488.76      6308.53      6506.07      6423.76   \n",
       "2018-08-27      6534.88      6376.71      6488.76      6308.53      6506.07   \n",
       "2018-08-28      6719.96      6534.88      6376.71      6488.76      6308.53   \n",
       "2018-08-29      6763.19      6719.96      6534.88      6376.71      6488.76   \n",
       "...                 ...          ...          ...          ...          ...   \n",
       "2020-08-27      11664.8      11681.8      11592.5      11878.4      11758.3   \n",
       "2020-08-28      11774.6      11664.8      11681.8      11592.5      11878.4   \n",
       "2020-08-29      11366.1      11774.6      11664.8      11681.8      11592.5   \n",
       "2020-08-30      11488.4      11366.1      11774.6      11664.8      11681.8   \n",
       "2020-08-31      11323.4      11488.4      11366.1      11774.6      11664.8   \n",
       "\n",
       "            ... Volume_Past_3 Volume_Past_4  Volume_Past_5 Volume_Past_6  \\\n",
       "Date        ...                                                            \n",
       "2018-08-25  ...   3.42618e+09   4.66811e+09    3.37718e+09    3.6651e+09   \n",
       "2018-08-26  ...   4.09782e+09   3.42618e+09    4.66811e+09   3.37718e+09   \n",
       "2018-08-27  ...    3.3126e+09   4.09782e+09    3.42618e+09   4.66811e+09   \n",
       "2018-08-28  ...    3.2955e+09    3.3126e+09    4.09782e+09   3.42618e+09   \n",
       "2018-08-29  ...     4.019e+09    3.2955e+09     3.3126e+09   4.09782e+09   \n",
       "...         ...           ...           ...            ...           ...   \n",
       "2020-08-27  ...   2.63015e+10   2.06815e+10    1.84821e+10   2.02242e+10   \n",
       "2020-08-28  ...   2.24667e+10   2.63015e+10    2.06815e+10   1.84821e+10   \n",
       "2020-08-29  ...   2.32404e+10   2.24667e+10    2.63015e+10   2.06815e+10   \n",
       "2020-08-30  ...   1.98071e+10   2.32404e+10    2.24667e+10   2.63015e+10   \n",
       "2020-08-31  ...   1.74856e+10   1.98071e+10    2.32404e+10   2.24667e+10   \n",
       "\n",
       "           Volume_Past_7 Volume_Past_8 Volume_Past_9 Volume_Past_10  \\\n",
       "Date                                                                  \n",
       "2018-08-25   3.31117e+09   3.98452e+09   4.99299e+09    4.32842e+09   \n",
       "2018-08-26    3.6651e+09   3.31117e+09   3.98452e+09    4.99299e+09   \n",
       "2018-08-27   3.37718e+09    3.6651e+09   3.31117e+09    3.98452e+09   \n",
       "2018-08-28   4.66811e+09   3.37718e+09    3.6651e+09    3.31117e+09   \n",
       "2018-08-29   3.42618e+09   4.66811e+09   3.37718e+09     3.6651e+09   \n",
       "...                  ...           ...           ...            ...   \n",
       "2020-08-27   2.37624e+10   2.01752e+10   2.45029e+10    2.60432e+10   \n",
       "2020-08-28   2.02242e+10   2.37624e+10   2.01752e+10    2.45029e+10   \n",
       "2020-08-29   1.84821e+10   2.02242e+10   2.37624e+10    2.01752e+10   \n",
       "2020-08-30   2.06815e+10   1.84821e+10   2.02242e+10    2.37624e+10   \n",
       "2020-08-31   2.63015e+10   2.06815e+10   1.84821e+10    2.02242e+10   \n",
       "\n",
       "           Volume_Past_11 MonthTrend  \n",
       "Date                                  \n",
       "2018-08-25    4.89545e+09       DOWN  \n",
       "2018-08-26    4.32842e+09         UP  \n",
       "2018-08-27    4.99299e+09         UP  \n",
       "2018-08-28    3.98452e+09       DOWN  \n",
       "2018-08-29    3.31117e+09       DOWN  \n",
       "...                   ...        ...  \n",
       "2020-08-27    2.82277e+10         UP  \n",
       "2020-08-28    2.60432e+10       DOWN  \n",
       "2020-08-29    2.45029e+10         UP  \n",
       "2020-08-30    2.01752e+10       DOWN  \n",
       "2020-08-31    2.37624e+10         UP  \n",
       "\n",
       "[735 rows x 37 columns]"
      ]
     },
     "execution_count": 265,
     "metadata": {},
     "output_type": "execute_result"
    }
   ],
   "source": [
    "def generateFeatures(features):\n",
    "    complete_features = []\n",
    "    for feature in features:\n",
    "        complete_features.append(feature)\n",
    "        for i in range(LOOK_BACK_DAYS):\n",
    "            complete_features.append(feature + \"_Past_\" + str(i + 1))\n",
    "    return complete_features\n",
    "\n",
    "features = generateFeatures(['Close','Open','Volume'])\n",
    "features.append('MonthTrend')\n",
    "\n",
    "# selecting the important feature open close\n",
    "btc = btc_df[features]\n",
    "btc"
   ]
  },
  {
   "cell_type": "code",
   "execution_count": 266,
   "metadata": {},
   "outputs": [],
   "source": [
    "from sklearn.model_selection import TimeSeriesSplit\n",
    "from sklearn.preprocessing import StandardScaler\n",
    "from sklearn.preprocessing import LabelEncoder\n",
    "import numpy as np\n",
    "Y = btc['MonthTrend']\n",
    "le =LabelEncoder()\n",
    "Y = le.fit_transform(Y)\n",
    "X = btc.drop(['MonthTrend'], axis=1)\n",
    "X = StandardScaler().fit_transform(X)\n",
    "# Create training and testing datasets that are appropriate for time series data\n",
    "#X_train, X_test, Y_train, Y_test = train_test_split(X, Y, test_size=.3, random_state=2)\n",
    "train_size_perc = 0.7\n",
    "n_time, n_features = X.shape\n",
    "train_size = np.int16(np.round(train_size_perc * n_time))\n",
    "X_train, Y_train = X[:train_size], Y[:train_size]\n",
    "X_test, Y_test = X[(train_size+LOOK_AHEAD_DAYS):], Y[(train_size+LOOK_AHEAD_DAYS):]"
   ]
  },
  {
   "cell_type": "code",
   "execution_count": 267,
   "metadata": {},
   "outputs": [
    {
     "name": "stdout",
     "output_type": "stream",
     "text": [
      "Fitting 10 folds for each of 576 candidates, totalling 5760 fits\n"
     ]
    },
    {
     "name": "stderr",
     "output_type": "stream",
     "text": [
      "[Parallel(n_jobs=6)]: Using backend LokyBackend with 6 concurrent workers.\n",
      "[Parallel(n_jobs=6)]: Done  47 tasks      | elapsed:    1.3s\n",
      "[Parallel(n_jobs=6)]: Done 5760 out of 5760 | elapsed:    3.9s finished\n"
     ]
    },
    {
     "data": {
      "text/plain": [
       "0.4409090909090909"
      ]
     },
     "execution_count": 267,
     "metadata": {},
     "output_type": "execute_result"
    }
   ],
   "source": [
    "# decision tree\n",
    "from sklearn.model_selection import GridSearchCV\n",
    "from sklearn.tree import DecisionTreeClassifier\n",
    "model_tree = DecisionTreeClassifier(random_state=45)\n",
    "param_grid = {'splitter': [\"best\",\"random\"],  \n",
    "              'min_samples_split': [2,4,6,8],\n",
    "             'criterion':[\"gini\",\"entropy\"],\n",
    "             'max_features':[\"auto\", \"sqrt\", \"log2\"],\n",
    "              'max_depth':[6,8,10,20],\n",
    "             'max_leaf_nodes':[10,50,None]}  \n",
    "grid =  GridSearchCV(model_tree,param_grid,scoring=\"roc_auc\", cv=TimeSeriesSplit(max_train_size=None, n_splits=10), verbose=1,n_jobs=6)\n",
    "grid.fit(X_train,Y_train)\n",
    "model_tree = grid.best_estimator_\n",
    "tree_error_rate = 1 - model_tree.score(X_test,Y_test)\n",
    "tree_error_rate"
   ]
  },
  {
   "cell_type": "code",
   "execution_count": 268,
   "metadata": {},
   "outputs": [
    {
     "data": {
      "text/plain": [
       "0.6848249027237354"
      ]
     },
     "execution_count": 268,
     "metadata": {},
     "output_type": "execute_result"
    }
   ],
   "source": [
    "model_tree.score(X_train, Y_train)"
   ]
  },
  {
   "cell_type": "code",
   "execution_count": 269,
   "metadata": {},
   "outputs": [
    {
     "name": "stdout",
     "output_type": "stream",
     "text": [
      "[[36 65]\n",
      " [32 87]]\n"
     ]
    }
   ],
   "source": [
    "#confusion matrix and classification for testing\n",
    "from sklearn.metrics import classification_report,confusion_matrix,roc_curve, auc\n",
    "import matplotlib.pylab as plt\n",
    "prediction = model_tree.predict(X_test)\n",
    "print(confusion_matrix(Y_test, prediction))"
   ]
  },
  {
   "cell_type": "code",
   "execution_count": 270,
   "metadata": {},
   "outputs": [
    {
     "name": "stdout",
     "output_type": "stream",
     "text": [
      "              precision    recall  f1-score   support\n",
      "\n",
      "           0       0.53      0.36      0.43       101\n",
      "           1       0.57      0.73      0.64       119\n",
      "\n",
      "    accuracy                           0.56       220\n",
      "   macro avg       0.55      0.54      0.53       220\n",
      "weighted avg       0.55      0.56      0.54       220\n",
      "\n"
     ]
    }
   ],
   "source": [
    "print(classification_report(Y_test, prediction))"
   ]
  },
  {
   "cell_type": "code",
   "execution_count": 271,
   "metadata": {},
   "outputs": [
    {
     "data": {
      "image/png": "[encoded data removed]",
      "text/plain": [
       "<Figure size 432x288 with 1 Axes>"
      ]
     },
     "metadata": {
      "needs_background": "light"
     },
     "output_type": "display_data"
    }
   ],
   "source": [
    "# Plot the ROC curve\n",
    "\n",
    "def plot_roc(Y_test,Y_pred, name):\n",
    "    fpr, tpr, _ = roc_curve(Y_test,Y_pred)\n",
    "    roc_auc = auc(fpr, tpr)\n",
    "    plt.plot(fpr, tpr, label='ROC curve (area = %0.2f)' % roc_auc)\n",
    "    plt.plot([0, 1], [0, 1], 'k--', label=\"Random\")\n",
    "    plt.xlabel('False Positive Rate')\n",
    "    plt.ylabel('True Positive Rate')\n",
    "    plt.title(\"ROC for \" + name)\n",
    "    plt.legend(loc=\"best\")\n",
    "    plt.show()\n",
    "plot_roc(Y_test,prediction, 'CART')"
   ]
  },
  {
   "cell_type": "code",
   "execution_count": 272,
   "metadata": {},
   "outputs": [],
   "source": [
    "# # random forest\n",
    "# from sklearn.ensemble import RandomForestClassifier\n",
    "# model_random = RandomForestClassifier(random_state=42)\n",
    "# param_grid = {\n",
    "#              'min_samples_split': [2,4,6,8],\n",
    "#              'criterion':[\"gini\",\"entropy\"],\n",
    "#              'max_features':[\"auto\", \"sqrt\", \"log2\"],\n",
    "#               'max_depth':[6,8,10,20],\n",
    "#               'min_samples_leaf':[1,2,4,6],\n",
    "#              'max_leaf_nodes':[10,50]}  \n",
    "# random_grid =  GridSearchCV(model_random,param_grid,scoring=\"roc_auc\", cv=TimeSeriesSplit(max_train_size=None, n_splits=10), verbose=1,n_jobs=6)\n",
    "# random_grid.fit(X_train,Y_train)\n",
    "# model_random = random_grid.best_estimator_\n",
    "# tree_error_rate =1 - model_random.score(X_test,Y_test)\n",
    "# tree_error_rate"
   ]
  },
  {
   "cell_type": "code",
   "execution_count": 273,
   "metadata": {},
   "outputs": [],
   "source": [
    "# model_random.score(X_train, Y_train)"
   ]
  },
  {
   "cell_type": "code",
   "execution_count": 274,
   "metadata": {},
   "outputs": [],
   "source": [
    "# new_prediction = model_random.predict(X_test)\n",
    "# print(confusion_matrix(Y_test, new_prediction))"
   ]
  },
  {
   "cell_type": "code",
   "execution_count": 275,
   "metadata": {},
   "outputs": [],
   "source": [
    "# print(classification_report(Y_test, new_prediction))"
   ]
  },
  {
   "cell_type": "code",
   "execution_count": 276,
   "metadata": {},
   "outputs": [],
   "source": [
    "# plot_roc(Y_test,new_prediction, \"Random Forest\")"
   ]
  },
  {
   "cell_type": "code",
   "execution_count": 277,
   "metadata": {},
   "outputs": [
    {
     "name": "stdout",
     "output_type": "stream",
     "text": [
      "Fitting 10 folds for each of 48 candidates, totalling 480 fits\n"
     ]
    },
    {
     "name": "stderr",
     "output_type": "stream",
     "text": [
      "[Parallel(n_jobs=6)]: Using backend LokyBackend with 6 concurrent workers.\n",
      "[Parallel(n_jobs=6)]: Done 480 out of 480 | elapsed:    1.8s finished\n",
      "C:\\Users\\Mao\\Anaconda3\\lib\\site-packages\\sklearn\\svm\\_base.py:977: ConvergenceWarning: Liblinear failed to converge, increase the number of iterations.\n",
      "  \"the number of iterations.\", ConvergenceWarning)\n"
     ]
    },
    {
     "data": {
      "text/plain": [
       "0.09545454545454546"
      ]
     },
     "execution_count": 277,
     "metadata": {},
     "output_type": "execute_result"
    }
   ],
   "source": [
    "# linear svm\n",
    "from sklearn.svm import LinearSVC\n",
    "model_svm = LinearSVC(random_state=42)\n",
    "param_grid = {\n",
    "             'C': [1,2,4,6,8,10],\n",
    "             'loss':[\"hinge\",\"squared_hinge\"],\n",
    "             'fit_intercept':[True,False],\n",
    "              'class_weight':[\"balanced\",None]}  \n",
    "svm_grid =  GridSearchCV(model_svm,param_grid,scoring=\"roc_auc\", cv=TimeSeriesSplit(max_train_size=None, n_splits=10), verbose=1,n_jobs=6)\n",
    "svm_grid.fit(X_train,Y_train)\n",
    "model_svm = svm_grid.best_estimator_\n",
    "svm_error_rate =1 - model_svm.score(X_test,Y_test)\n",
    "svm_error_rate"
   ]
  },
  {
   "cell_type": "code",
   "execution_count": 278,
   "metadata": {},
   "outputs": [
    {
     "data": {
      "text/plain": [
       "0.8852140077821011"
      ]
     },
     "execution_count": 278,
     "metadata": {},
     "output_type": "execute_result"
    }
   ],
   "source": [
    "model_svm.score(X_train, Y_train)"
   ]
  },
  {
   "cell_type": "code",
   "execution_count": 279,
   "metadata": {},
   "outputs": [
    {
     "name": "stdout",
     "output_type": "stream",
     "text": [
      "[[ 84  17]\n",
      " [  4 115]]\n"
     ]
    }
   ],
   "source": [
    "svm_prediction = model_svm.predict(X_test)\n",
    "print(confusion_matrix(Y_test, svm_prediction))"
   ]
  },
  {
   "cell_type": "code",
   "execution_count": 280,
   "metadata": {},
   "outputs": [
    {
     "name": "stdout",
     "output_type": "stream",
     "text": [
      "              precision    recall  f1-score   support\n",
      "\n",
      "           0       0.95      0.83      0.89       101\n",
      "           1       0.87      0.97      0.92       119\n",
      "\n",
      "    accuracy                           0.90       220\n",
      "   macro avg       0.91      0.90      0.90       220\n",
      "weighted avg       0.91      0.90      0.90       220\n",
      "\n"
     ]
    }
   ],
   "source": [
    "print(classification_report(Y_test, svm_prediction))"
   ]
  },
  {
   "cell_type": "code",
   "execution_count": 281,
   "metadata": {},
   "outputs": [
    {
     "data": {
      "image/png": "[encoded data removed]",
      "text/plain": [
       "<Figure size 432x288 with 1 Axes>"
      ]
     },
     "metadata": {
      "needs_background": "light"
     },
     "output_type": "display_data"
    }
   ],
   "source": [
    "plot_roc(Y_test,svm_prediction, \"SVM\")"
   ]
  },
  {
   "cell_type": "code",
   "execution_count": 282,
   "metadata": {},
   "outputs": [
    {
     "name": "stdout",
     "output_type": "stream",
     "text": [
      "Fitting 10 folds for each of 112 candidates, totalling 1120 fits\n"
     ]
    },
    {
     "name": "stderr",
     "output_type": "stream",
     "text": [
      "[Parallel(n_jobs=6)]: Using backend LokyBackend with 6 concurrent workers.\n",
      "[Parallel(n_jobs=6)]: Done 688 tasks      | elapsed:    2.1s\n",
      "[Parallel(n_jobs=6)]: Done 1120 out of 1120 | elapsed:    3.6s finished\n",
      "C:\\Users\\Mao\\Anaconda3\\lib\\site-packages\\sklearn\\linear_model\\_logistic.py:1321: UserWarning: Setting penalty='none' will ignore the C and l1_ratio parameters\n",
      "  \"Setting penalty='none' will ignore the C and l1_ratio \"\n"
     ]
    },
    {
     "data": {
      "text/plain": [
       "0.07727272727272727"
      ]
     },
     "execution_count": 282,
     "metadata": {},
     "output_type": "execute_result"
    }
   ],
   "source": [
    "# logistic regression\n",
    "from sklearn.linear_model import LogisticRegression\n",
    "model_regression = LogisticRegression(max_iter=9000)\n",
    "param_grid = {\n",
    "             'C': [.00001, .0001, .001, .005, .1, .5, 1],\n",
    "             'penalty':[\"none\", \"l2\"],\n",
    "             'fit_intercept':[True,False],\n",
    "              'class_weight':[\"balanced\",None],\n",
    "              'warm_start':[True,False]}  \n",
    "regression_grid =  GridSearchCV(model_regression,param_grid,scoring=\"roc_auc\", cv=TimeSeriesSplit(max_train_size=None, n_splits=10), verbose=1,n_jobs=6)\n",
    "regression_grid.fit(X_train,Y_train)\n",
    "model_regresssion= regression_grid.best_estimator_\n",
    "regression_error_rate =1 - model_regresssion.score(X_test,Y_test)\n",
    "regression_error_rate"
   ]
  },
  {
   "cell_type": "code",
   "execution_count": 283,
   "metadata": {},
   "outputs": [
    {
     "name": "stdout",
     "output_type": "stream",
     "text": [
      "{'C': 1e-05, 'class_weight': None, 'fit_intercept': False, 'penalty': 'none', 'warm_start': True}\n"
     ]
    }
   ],
   "source": [
    " print(regression_grid.best_params_)"
   ]
  },
  {
   "cell_type": "code",
   "execution_count": 284,
   "metadata": {},
   "outputs": [
    {
     "name": "stdout",
     "output_type": "stream",
     "text": [
      "[[ 90  11]\n",
      " [  6 113]]\n"
     ]
    }
   ],
   "source": [
    "regression_prediction = model_regresssion.predict(X_test)\n",
    "print(confusion_matrix(Y_test, regression_prediction))"
   ]
  },
  {
   "cell_type": "code",
   "execution_count": 285,
   "metadata": {},
   "outputs": [
    {
     "name": "stdout",
     "output_type": "stream",
     "text": [
      "              precision    recall  f1-score   support\n",
      "\n",
      "           0       0.94      0.89      0.91       101\n",
      "           1       0.91      0.95      0.93       119\n",
      "\n",
      "    accuracy                           0.92       220\n",
      "   macro avg       0.92      0.92      0.92       220\n",
      "weighted avg       0.92      0.92      0.92       220\n",
      "\n"
     ]
    }
   ],
   "source": [
    "print(classification_report(Y_test, regression_prediction))"
   ]
  },
  {
   "cell_type": "code",
   "execution_count": 286,
   "metadata": {},
   "outputs": [
    {
     "data": {
      "image/png": "[encoded data removed]",
      "text/plain": [
       "<Figure size 432x288 with 1 Axes>"
      ]
     },
     "metadata": {
      "needs_background": "light"
     },
     "output_type": "display_data"
    }
   ],
   "source": [
    "plot_roc(Y_test,regression_prediction, \"Logistic Regression\")"
   ]
  },
  {
   "cell_type": "code",
   "execution_count": 287,
   "metadata": {},
   "outputs": [
    {
     "data": {
      "text/plain": [
       "array([[ 2.89903058e+05, -1.45617354e+05,  1.05752400e+03,\n",
       "         8.69801331e+01, -3.90738643e+02,  1.02883619e+03,\n",
       "        -1.32302182e+03,  3.11820670e+03,  3.63415055e+03,\n",
       "        -2.37685388e+03, -2.97320369e+03,  1.85284727e+03,\n",
       "        -1.45618951e+05,  4.30343128e+03, -4.19616292e+03,\n",
       "         1.37571965e+03,  1.48768545e+03, -3.43109726e+03,\n",
       "        -5.17277630e+03,  4.88334606e+03, -9.66230981e+02,\n",
       "         1.61394707e+02,  1.64485803e+03, -2.63203390e+03,\n",
       "        -8.18307771e+03,  3.14908023e+03,  3.48424412e+02,\n",
       "         3.80432765e+03, -3.53322115e+03,  6.98335457e+03,\n",
       "        -8.91353141e+03, -6.03751960e+02,  2.80549444e+03,\n",
       "        -4.58065457e+03,  7.35617599e+03,  1.51218089e+03]])"
      ]
     },
     "execution_count": 287,
     "metadata": {},
     "output_type": "execute_result"
    }
   ],
   "source": [
    "model_regresssion.coef_"
   ]
  },
  {
   "cell_type": "code",
   "execution_count": null,
   "metadata": {},
   "outputs": [],
   "source": []
  },
  {
   "cell_type": "code",
   "execution_count": 288,
   "metadata": {},
   "outputs": [],
   "source": [
    "# # install tensoraflow in virtual enviroment locally or use google colab\n",
    "# # Please read this line at least.Basic model frame tuning may needed. I reached 0.7347 test accuracy for old dataset.\n",
    "# import tensorflow as tf\n",
    "# # Nerual network layer by layer. The input shape(...,62) may vary if new added\n",
    "# NN_model = tf.keras.models.Sequential()\n",
    "# NN_model.add(tf.keras.layers.Dense(units=128,activation=\"relu\",input_dim=X_train.shape[1])) \n",
    "# # dropout exist for preventing overfitting. \n",
    "# NN_model.add(tf.keras.layers.Dropout(0.2))\n",
    "# NN_model.add(tf.keras.layers.Dense(units=256,activation=\"relu\"))\n",
    "# NN_model.add(tf.keras.layers.Dropout(0.2)) \n",
    "# NN_model.add(tf.keras.layers.Dense(units=256,activation=\"relu\")) \n",
    "# # please do not change this line. sigmoid function is a must for binary classification\n",
    "# NN_model.add(tf.keras.layers.Dense(units=1,activation=\"sigmoid\"))\n",
    "# # you can play with this line\n",
    "# NN_model.compile(loss='binary_crossentropy',optimizer=tf.keras.optimizers.Adam(learning_rate=0.001),metrics=['accuracy']) "
   ]
  },
  {
   "cell_type": "code",
   "execution_count": 289,
   "metadata": {},
   "outputs": [],
   "source": [
    "# # a basic summary of model\n",
    "# NN_model.summary()"
   ]
  },
  {
   "cell_type": "code",
   "execution_count": 290,
   "metadata": {},
   "outputs": [],
   "source": [
    "# # I added early stop here.\n",
    "# earlyStopping=tf.keras.callbacks.EarlyStopping(monitor='loss', patience=5, verbose=0, mode='min')\n",
    "# NN_model.fit(x=X_train,y=Y_train,batch_size=30,epochs=50,callbacks=[earlyStopping])"
   ]
  },
  {
   "cell_type": "code",
   "execution_count": 291,
   "metadata": {},
   "outputs": [],
   "source": [
    "# test_loss, test_accuracy = NN_model.evaluate(X_test, Y_test)"
   ]
  },
  {
   "cell_type": "code",
   "execution_count": 292,
   "metadata": {},
   "outputs": [],
   "source": [
    "# NN_prediction = NN_model.predict_classes(X_test)\n",
    "# print(confusion_matrix(Y_test,NN_prediction))"
   ]
  },
  {
   "cell_type": "code",
   "execution_count": 293,
   "metadata": {},
   "outputs": [],
   "source": [
    "# print(classification_report(Y_test,NN_prediction))"
   ]
  },
  {
   "cell_type": "code",
   "execution_count": 294,
   "metadata": {},
   "outputs": [],
   "source": [
    "# plot_roc(Y_test,NN_prediction, 'NN')"
   ]
  },
  {
   "cell_type": "markdown",
   "metadata": {},
   "source": [
    "### Backtesting"
   ]
  },
  {
   "cell_type": "code",
   "execution_count": 295,
   "metadata": {},
   "outputs": [
    {
     "name": "stdout",
     "output_type": "stream",
     "text": [
      "Fitting 10 folds for each of 7 candidates, totalling 70 fits\n",
      "LOSS! 0.9637486406335456\n",
      "portfolio value: 96.37486406335456\n",
      "Fitting 10 folds for each of 7 candidates, totalling 70 fits\n"
     ]
    },
    {
     "name": "stderr",
     "output_type": "stream",
     "text": [
      "[Parallel(n_jobs=6)]: Using backend LokyBackend with 6 concurrent workers.\n",
      "[Parallel(n_jobs=6)]: Done  70 out of  70 | elapsed:    0.0s finished\n",
      "[Parallel(n_jobs=6)]: Using backend LokyBackend with 6 concurrent workers.\n",
      "[Parallel(n_jobs=6)]: Done  70 out of  70 | elapsed:    0.0s finished\n",
      "[Parallel(n_jobs=6)]: Using backend LokyBackend with 6 concurrent workers.\n",
      "[Parallel(n_jobs=6)]: Done  70 out of  70 | elapsed:    0.0s finished\n",
      "[Parallel(n_jobs=6)]: Using backend LokyBackend with 6 concurrent workers.\n"
     ]
    },
    {
     "name": "stdout",
     "output_type": "stream",
     "text": [
      "GAIN! 1.0124498233962436\n",
      "portfolio value: 97.57471410078031\n",
      "Fitting 10 folds for each of 7 candidates, totalling 70 fits\n",
      "portfolio value: 97.57471410078031\n",
      "Fitting 10 folds for each of 7 candidates, totalling 70 fits\n"
     ]
    },
    {
     "name": "stderr",
     "output_type": "stream",
     "text": [
      "[Parallel(n_jobs=6)]: Done  70 out of  70 | elapsed:    0.0s finished\n",
      "[Parallel(n_jobs=6)]: Using backend LokyBackend with 6 concurrent workers.\n",
      "[Parallel(n_jobs=6)]: Done  70 out of  70 | elapsed:    0.1s finished\n"
     ]
    },
    {
     "name": "stdout",
     "output_type": "stream",
     "text": [
      "portfolio value: 97.57471410078031\n",
      "Fitting 10 folds for each of 7 candidates, totalling 70 fits\n",
      "portfolio value: 97.57471410078031\n",
      "Fitting 10 folds for each of 7 candidates, totalling 70 fits\n",
      "GAIN! 1.0256631506213094\n",
      "portfolio value: 100.07878868557984\n",
      "Fitting 10 folds for each of 7 candidates, totalling 70 fits\n"
     ]
    },
    {
     "name": "stderr",
     "output_type": "stream",
     "text": [
      "[Parallel(n_jobs=6)]: Using backend LokyBackend with 6 concurrent workers.\n",
      "[Parallel(n_jobs=6)]: Done  70 out of  70 | elapsed:    0.0s finished\n",
      "[Parallel(n_jobs=6)]: Using backend LokyBackend with 6 concurrent workers.\n",
      "[Parallel(n_jobs=6)]: Done  70 out of  70 | elapsed:    0.1s finished\n",
      "[Parallel(n_jobs=6)]: Using backend LokyBackend with 6 concurrent workers.\n",
      "[Parallel(n_jobs=6)]: Done  70 out of  70 | elapsed:    0.0s finished\n",
      "[Parallel(n_jobs=6)]: Using backend LokyBackend with 6 concurrent workers.\n"
     ]
    },
    {
     "name": "stdout",
     "output_type": "stream",
     "text": [
      "portfolio value: 100.07878868557984\n",
      "Fitting 10 folds for each of 7 candidates, totalling 70 fits\n",
      "portfolio value: 100.07878868557984\n",
      "Fitting 10 folds for each of 7 candidates, totalling 70 fits\n"
     ]
    },
    {
     "name": "stderr",
     "output_type": "stream",
     "text": [
      "[Parallel(n_jobs=6)]: Done  70 out of  70 | elapsed:    0.1s finished\n",
      "[Parallel(n_jobs=6)]: Using backend LokyBackend with 6 concurrent workers.\n",
      "[Parallel(n_jobs=6)]: Done  70 out of  70 | elapsed:    0.1s finished\n",
      "[Parallel(n_jobs=6)]: Using backend LokyBackend with 6 concurrent workers.\n"
     ]
    },
    {
     "name": "stdout",
     "output_type": "stream",
     "text": [
      "portfolio value: 100.07878868557984\n",
      "Fitting 10 folds for each of 7 candidates, totalling 70 fits\n",
      "portfolio value: 100.07878868557984\n",
      "Fitting 10 folds for each of 7 candidates, totalling 70 fits\n"
     ]
    },
    {
     "name": "stderr",
     "output_type": "stream",
     "text": [
      "[Parallel(n_jobs=6)]: Done  70 out of  70 | elapsed:    0.0s finished\n",
      "[Parallel(n_jobs=6)]: Using backend LokyBackend with 6 concurrent workers.\n",
      "[Parallel(n_jobs=6)]: Done  70 out of  70 | elapsed:    0.0s finished\n",
      "[Parallel(n_jobs=6)]: Using backend LokyBackend with 6 concurrent workers.\n"
     ]
    },
    {
     "name": "stdout",
     "output_type": "stream",
     "text": [
      "portfolio value: 100.07878868557984\n",
      "Fitting 10 folds for each of 7 candidates, totalling 70 fits\n",
      "portfolio value: 100.07878868557984\n",
      "Fitting 10 folds for each of 7 candidates, totalling 70 fits\n"
     ]
    },
    {
     "name": "stderr",
     "output_type": "stream",
     "text": [
      "[Parallel(n_jobs=6)]: Done  70 out of  70 | elapsed:    0.0s finished\n",
      "[Parallel(n_jobs=6)]: Using backend LokyBackend with 6 concurrent workers.\n",
      "[Parallel(n_jobs=6)]: Done  70 out of  70 | elapsed:    0.0s finished\n",
      "[Parallel(n_jobs=6)]: Using backend LokyBackend with 6 concurrent workers.\n"
     ]
    },
    {
     "name": "stdout",
     "output_type": "stream",
     "text": [
      "portfolio value: 100.07878868557984\n",
      "Fitting 10 folds for each of 7 candidates, totalling 70 fits\n",
      "GAIN! 1.0339398965818583\n",
      "portfolio value: 103.47545242360606\n",
      "Fitting 10 folds for each of 7 candidates, totalling 70 fits\n"
     ]
    },
    {
     "name": "stderr",
     "output_type": "stream",
     "text": [
      "[Parallel(n_jobs=6)]: Done  70 out of  70 | elapsed:    0.1s finished\n",
      "[Parallel(n_jobs=6)]: Using backend LokyBackend with 6 concurrent workers.\n",
      "[Parallel(n_jobs=6)]: Done  70 out of  70 | elapsed:    0.1s finished\n"
     ]
    },
    {
     "name": "stdout",
     "output_type": "stream",
     "text": [
      "LOSS! 0.9980594316897771\n",
      "portfolio value: 103.27465123974683\n",
      "Fitting 10 folds for each of 7 candidates, totalling 70 fits\n",
      "LOSS! 0.9993016056525952\n",
      "portfolio value: 103.20252480709078\n",
      "Fitting 10 folds for each of 7 candidates, totalling 70 fits\n",
      "LOSS! 0.9836892446776428\n",
      "portfolio value: 101.51921367631283\n",
      "Fitting 10 folds for each of 7 candidates, totalling 70 fits\n"
     ]
    },
    {
     "name": "stderr",
     "output_type": "stream",
     "text": [
      "[Parallel(n_jobs=6)]: Using backend LokyBackend with 6 concurrent workers.\n",
      "[Parallel(n_jobs=6)]: Done  70 out of  70 | elapsed:    0.0s finished\n",
      "[Parallel(n_jobs=6)]: Using backend LokyBackend with 6 concurrent workers.\n",
      "[Parallel(n_jobs=6)]: Done  70 out of  70 | elapsed:    0.0s finished\n",
      "[Parallel(n_jobs=6)]: Using backend LokyBackend with 6 concurrent workers.\n",
      "[Parallel(n_jobs=6)]: Done  70 out of  70 | elapsed:    0.0s finished\n",
      "[Parallel(n_jobs=6)]: Using backend LokyBackend with 6 concurrent workers.\n"
     ]
    },
    {
     "name": "stdout",
     "output_type": "stream",
     "text": [
      "LOSS! 0.9761995023016056\n",
      "portfolio value: 99.10300586486693\n",
      "Fitting 10 folds for each of 7 candidates, totalling 70 fits\n",
      "GAIN! 1.0065413504363196\n",
      "portfolio value: 99.75127335552166\n",
      "Fitting 10 folds for each of 7 candidates, totalling 70 fits\n"
     ]
    },
    {
     "name": "stderr",
     "output_type": "stream",
     "text": [
      "[Parallel(n_jobs=6)]: Done  70 out of  70 | elapsed:    0.0s finished\n",
      "[Parallel(n_jobs=6)]: Using backend LokyBackend with 6 concurrent workers.\n",
      "[Parallel(n_jobs=6)]: Done  70 out of  70 | elapsed:    0.0s finished\n",
      "[Parallel(n_jobs=6)]: Using backend LokyBackend with 6 concurrent workers.\n"
     ]
    },
    {
     "name": "stdout",
     "output_type": "stream",
     "text": [
      "portfolio value: 99.75127335552166\n",
      "Fitting 10 folds for each of 7 candidates, totalling 70 fits\n",
      "portfolio value: 99.75127335552166\n",
      "Fitting 10 folds for each of 7 candidates, totalling 70 fits\n"
     ]
    },
    {
     "name": "stderr",
     "output_type": "stream",
     "text": [
      "[Parallel(n_jobs=6)]: Done  70 out of  70 | elapsed:    0.0s finished\n",
      "[Parallel(n_jobs=6)]: Using backend LokyBackend with 6 concurrent workers.\n",
      "[Parallel(n_jobs=6)]: Done  70 out of  70 | elapsed:    0.0s finished\n"
     ]
    },
    {
     "name": "stdout",
     "output_type": "stream",
     "text": [
      "portfolio value: 99.75127335552166\n",
      "Fitting 10 folds for each of 7 candidates, totalling 70 fits\n",
      "GAIN! 1.0031568528791672\n",
      "portfolio value: 100.06617345001463\n",
      "Fitting 10 folds for each of 7 candidates, totalling 70 fits\n",
      "LOSS! 0.9954334342888742\n",
      "portfolio value: 99.60921469349422\n",
      "Fitting 10 folds for each of 7 candidates, totalling 70 fits\n"
     ]
    },
    {
     "name": "stderr",
     "output_type": "stream",
     "text": [
      "[Parallel(n_jobs=6)]: Using backend LokyBackend with 6 concurrent workers.\n",
      "[Parallel(n_jobs=6)]: Done  70 out of  70 | elapsed:    0.0s finished\n",
      "[Parallel(n_jobs=6)]: Using backend LokyBackend with 6 concurrent workers.\n",
      "[Parallel(n_jobs=6)]: Done  70 out of  70 | elapsed:    0.0s finished\n",
      "[Parallel(n_jobs=6)]: Using backend LokyBackend with 6 concurrent workers.\n",
      "[Parallel(n_jobs=6)]: Done  70 out of  70 | elapsed:    0.0s finished\n",
      "[Parallel(n_jobs=6)]: Using backend LokyBackend with 6 concurrent workers.\n"
     ]
    },
    {
     "name": "stdout",
     "output_type": "stream",
     "text": [
      "portfolio value: 99.60921469349422\n",
      "Fitting 10 folds for each of 7 candidates, totalling 70 fits\n",
      "portfolio value: 99.60921469349422\n",
      "Fitting 10 folds for each of 7 candidates, totalling 70 fits\n"
     ]
    },
    {
     "name": "stderr",
     "output_type": "stream",
     "text": [
      "[Parallel(n_jobs=6)]: Done  70 out of  70 | elapsed:    0.0s finished\n",
      "[Parallel(n_jobs=6)]: Using backend LokyBackend with 6 concurrent workers.\n",
      "[Parallel(n_jobs=6)]: Done  70 out of  70 | elapsed:    0.0s finished\n",
      "[Parallel(n_jobs=6)]: Using backend LokyBackend with 6 concurrent workers.\n"
     ]
    },
    {
     "name": "stdout",
     "output_type": "stream",
     "text": [
      "portfolio value: 99.60921469349422\n",
      "Fitting 10 folds for each of 7 candidates, totalling 70 fits\n",
      "portfolio value: 99.60921469349422\n",
      "Fitting 10 folds for each of 7 candidates, totalling 70 fits\n"
     ]
    },
    {
     "name": "stderr",
     "output_type": "stream",
     "text": [
      "[Parallel(n_jobs=6)]: Done  70 out of  70 | elapsed:    0.0s finished\n",
      "[Parallel(n_jobs=6)]: Using backend LokyBackend with 6 concurrent workers.\n",
      "[Parallel(n_jobs=6)]: Done  70 out of  70 | elapsed:    0.0s finished\n",
      "[Parallel(n_jobs=6)]: Using backend LokyBackend with 6 concurrent workers.\n"
     ]
    },
    {
     "name": "stdout",
     "output_type": "stream",
     "text": [
      "portfolio value: 99.60921469349422\n",
      "Fitting 10 folds for each of 7 candidates, totalling 70 fits\n",
      "portfolio value: 99.60921469349422\n",
      "Fitting 10 folds for each of 7 candidates, totalling 70 fits\n"
     ]
    },
    {
     "name": "stderr",
     "output_type": "stream",
     "text": [
      "[Parallel(n_jobs=6)]: Done  70 out of  70 | elapsed:    0.0s finished\n",
      "[Parallel(n_jobs=6)]: Using backend LokyBackend with 6 concurrent workers.\n",
      "[Parallel(n_jobs=6)]: Done  70 out of  70 | elapsed:    0.0s finished\n",
      "[Parallel(n_jobs=6)]: Using backend LokyBackend with 6 concurrent workers.\n"
     ]
    },
    {
     "name": "stdout",
     "output_type": "stream",
     "text": [
      "portfolio value: 99.60921469349422\n",
      "Fitting 10 folds for each of 7 candidates, totalling 70 fits\n",
      "portfolio value: 99.60921469349422\n",
      "Fitting 10 folds for each of 7 candidates, totalling 70 fits\n"
     ]
    },
    {
     "name": "stderr",
     "output_type": "stream",
     "text": [
      "[Parallel(n_jobs=6)]: Done  70 out of  70 | elapsed:    0.1s finished\n",
      "[Parallel(n_jobs=6)]: Using backend LokyBackend with 6 concurrent workers.\n",
      "[Parallel(n_jobs=6)]: Done  70 out of  70 | elapsed:    0.0s finished\n",
      "[Parallel(n_jobs=6)]: Using backend LokyBackend with 6 concurrent workers.\n"
     ]
    },
    {
     "name": "stdout",
     "output_type": "stream",
     "text": [
      "portfolio value: 99.60921469349422\n",
      "Fitting 10 folds for each of 7 candidates, totalling 70 fits\n",
      "portfolio value: 99.60921469349422\n",
      "Fitting 10 folds for each of 7 candidates, totalling 70 fits\n"
     ]
    },
    {
     "name": "stderr",
     "output_type": "stream",
     "text": [
      "[Parallel(n_jobs=6)]: Done  70 out of  70 | elapsed:    0.1s finished\n",
      "[Parallel(n_jobs=6)]: Using backend LokyBackend with 6 concurrent workers.\n",
      "[Parallel(n_jobs=6)]: Done  70 out of  70 | elapsed:    0.1s finished\n"
     ]
    },
    {
     "name": "stdout",
     "output_type": "stream",
     "text": [
      "portfolio value: 99.60921469349422\n",
      "Fitting 10 folds for each of 7 candidates, totalling 70 fits\n",
      "portfolio value: 99.60921469349422\n",
      "Fitting 10 folds for each of 7 candidates, totalling 70 fits\n",
      "portfolio value: 99.60921469349422\n",
      "Fitting 10 folds for each of 7 candidates, totalling 70 fits\n"
     ]
    },
    {
     "name": "stderr",
     "output_type": "stream",
     "text": [
      "[Parallel(n_jobs=6)]: Using backend LokyBackend with 6 concurrent workers.\n",
      "[Parallel(n_jobs=6)]: Done  70 out of  70 | elapsed:    0.0s finished\n",
      "[Parallel(n_jobs=6)]: Using backend LokyBackend with 6 concurrent workers.\n",
      "[Parallel(n_jobs=6)]: Done  70 out of  70 | elapsed:    0.0s finished\n",
      "[Parallel(n_jobs=6)]: Using backend LokyBackend with 6 concurrent workers.\n",
      "[Parallel(n_jobs=6)]: Done  70 out of  70 | elapsed:    0.0s finished\n",
      "[Parallel(n_jobs=6)]: Using backend LokyBackend with 6 concurrent workers.\n"
     ]
    },
    {
     "name": "stdout",
     "output_type": "stream",
     "text": [
      "portfolio value: 99.60921469349422\n",
      "Fitting 10 folds for each of 7 candidates, totalling 70 fits\n",
      "LOSS! 0.9991970968560813\n",
      "portfolio value: 99.52923814185354\n",
      "Fitting 10 folds for each of 7 candidates, totalling 70 fits\n"
     ]
    },
    {
     "name": "stderr",
     "output_type": "stream",
     "text": [
      "[Parallel(n_jobs=6)]: Done  70 out of  70 | elapsed:    0.0s finished\n",
      "[Parallel(n_jobs=6)]: Using backend LokyBackend with 6 concurrent workers.\n",
      "[Parallel(n_jobs=6)]: Done  70 out of  70 | elapsed:    0.0s finished\n",
      "[Parallel(n_jobs=6)]: Using backend LokyBackend with 6 concurrent workers.\n"
     ]
    },
    {
     "name": "stdout",
     "output_type": "stream",
     "text": [
      "LOSS! 0.9930066453613051\n",
      "portfolio value: 98.83319488260844\n",
      "Fitting 10 folds for each of 7 candidates, totalling 70 fits\n",
      "LOSS! 0.989969916466473\n",
      "portfolio value: 97.84188968205052\n",
      "Fitting 10 folds for each of 7 candidates, totalling 70 fits\n"
     ]
    },
    {
     "name": "stderr",
     "output_type": "stream",
     "text": [
      "[Parallel(n_jobs=6)]: Done  70 out of  70 | elapsed:    0.0s finished\n",
      "[Parallel(n_jobs=6)]: Using backend LokyBackend with 6 concurrent workers.\n",
      "[Parallel(n_jobs=6)]: Done  70 out of  70 | elapsed:    0.0s finished\n",
      "[Parallel(n_jobs=6)]: Using backend LokyBackend with 6 concurrent workers.\n"
     ]
    },
    {
     "name": "stdout",
     "output_type": "stream",
     "text": [
      "LOSS! 0.9980457654344168\n",
      "portfolio value: 97.65068367927188\n",
      "Fitting 10 folds for each of 7 candidates, totalling 70 fits\n",
      "GAIN! 1.0043755409249904\n",
      "portfolio value: 98.07795824206383\n",
      "Fitting 10 folds for each of 7 candidates, totalling 70 fits\n"
     ]
    },
    {
     "name": "stderr",
     "output_type": "stream",
     "text": [
      "[Parallel(n_jobs=6)]: Done  70 out of  70 | elapsed:    0.1s finished\n",
      "[Parallel(n_jobs=6)]: Using backend LokyBackend with 6 concurrent workers.\n",
      "[Parallel(n_jobs=6)]: Done  70 out of  70 | elapsed:    0.0s finished\n",
      "[Parallel(n_jobs=6)]: Using backend LokyBackend with 6 concurrent workers.\n"
     ]
    },
    {
     "name": "stdout",
     "output_type": "stream",
     "text": [
      "portfolio value: 98.07795824206383\n",
      "Fitting 10 folds for each of 7 candidates, totalling 70 fits\n",
      "portfolio value: 98.07795824206383\n",
      "Fitting 10 folds for each of 7 candidates, totalling 70 fits\n"
     ]
    },
    {
     "name": "stderr",
     "output_type": "stream",
     "text": [
      "[Parallel(n_jobs=6)]: Done  70 out of  70 | elapsed:    0.0s finished\n",
      "[Parallel(n_jobs=6)]: Using backend LokyBackend with 6 concurrent workers.\n",
      "[Parallel(n_jobs=6)]: Done  70 out of  70 | elapsed:    0.0s finished\n",
      "[Parallel(n_jobs=6)]: Using backend LokyBackend with 6 concurrent workers.\n"
     ]
    },
    {
     "name": "stdout",
     "output_type": "stream",
     "text": [
      "portfolio value: 98.07795824206383\n",
      "Fitting 10 folds for each of 7 candidates, totalling 70 fits\n",
      "portfolio value: 98.07795824206383\n",
      "Fitting 10 folds for each of 7 candidates, totalling 70 fits\n"
     ]
    },
    {
     "name": "stderr",
     "output_type": "stream",
     "text": [
      "[Parallel(n_jobs=6)]: Done  70 out of  70 | elapsed:    0.0s finished\n",
      "[Parallel(n_jobs=6)]: Using backend LokyBackend with 6 concurrent workers.\n",
      "[Parallel(n_jobs=6)]: Done  70 out of  70 | elapsed:    0.0s finished\n",
      "[Parallel(n_jobs=6)]: Using backend LokyBackend with 6 concurrent workers.\n"
     ]
    },
    {
     "name": "stdout",
     "output_type": "stream",
     "text": [
      "portfolio value: 98.07795824206383\n",
      "Fitting 10 folds for each of 7 candidates, totalling 70 fits\n",
      "portfolio value: 98.07795824206383\n",
      "Fitting 10 folds for each of 7 candidates, totalling 70 fits\n"
     ]
    },
    {
     "name": "stderr",
     "output_type": "stream",
     "text": [
      "[Parallel(n_jobs=6)]: Done  70 out of  70 | elapsed:    0.1s finished\n",
      "[Parallel(n_jobs=6)]: Using backend LokyBackend with 6 concurrent workers.\n",
      "[Parallel(n_jobs=6)]: Done  70 out of  70 | elapsed:    0.1s finished\n"
     ]
    },
    {
     "name": "stdout",
     "output_type": "stream",
     "text": [
      "portfolio value: 98.07795824206383\n",
      "Fitting 10 folds for each of 7 candidates, totalling 70 fits\n"
     ]
    },
    {
     "name": "stderr",
     "output_type": "stream",
     "text": [
      "[Parallel(n_jobs=6)]: Using backend LokyBackend with 6 concurrent workers.\n",
      "[Parallel(n_jobs=6)]: Done  70 out of  70 | elapsed:    0.0s finished\n",
      "[Parallel(n_jobs=6)]: Using backend LokyBackend with 6 concurrent workers.\n"
     ]
    },
    {
     "name": "stdout",
     "output_type": "stream",
     "text": [
      "portfolio value: 98.07795824206383\n",
      "Fitting 10 folds for each of 7 candidates, totalling 70 fits\n",
      "portfolio value: 98.07795824206383\n",
      "Fitting 10 folds for each of 7 candidates, totalling 70 fits\n"
     ]
    },
    {
     "name": "stderr",
     "output_type": "stream",
     "text": [
      "[Parallel(n_jobs=6)]: Done  70 out of  70 | elapsed:    0.0s finished\n",
      "[Parallel(n_jobs=6)]: Using backend LokyBackend with 6 concurrent workers.\n",
      "[Parallel(n_jobs=6)]: Done  70 out of  70 | elapsed:    0.0s finished\n",
      "[Parallel(n_jobs=6)]: Using backend LokyBackend with 6 concurrent workers.\n"
     ]
    },
    {
     "name": "stdout",
     "output_type": "stream",
     "text": [
      "portfolio value: 98.07795824206383\n",
      "Fitting 10 folds for each of 7 candidates, totalling 70 fits\n",
      "LOSS! 0.9969417072810652\n",
      "portfolio value: 97.77800713648413\n",
      "Fitting 10 folds for each of 7 candidates, totalling 70 fits\n"
     ]
    },
    {
     "name": "stderr",
     "output_type": "stream",
     "text": [
      "[Parallel(n_jobs=6)]: Done  70 out of  70 | elapsed:    0.1s finished\n",
      "[Parallel(n_jobs=6)]: Using backend LokyBackend with 6 concurrent workers.\n",
      "[Parallel(n_jobs=6)]: Done  70 out of  70 | elapsed:    0.0s finished\n",
      "[Parallel(n_jobs=6)]: Using backend LokyBackend with 6 concurrent workers.\n"
     ]
    },
    {
     "name": "stdout",
     "output_type": "stream",
     "text": [
      "GAIN! 1.0094394310899968\n",
      "portfolio value: 98.70097589696618\n",
      "Fitting 10 folds for each of 7 candidates, totalling 70 fits\n",
      "GAIN! 1.0014924187241485\n",
      "portfolio value: 98.84827908148655\n",
      "Fitting 10 folds for each of 7 candidates, totalling 70 fits\n"
     ]
    },
    {
     "name": "stderr",
     "output_type": "stream",
     "text": [
      "[Parallel(n_jobs=6)]: Done  70 out of  70 | elapsed:    0.1s finished\n",
      "[Parallel(n_jobs=6)]: Using backend LokyBackend with 6 concurrent workers.\n"
     ]
    },
    {
     "name": "stdout",
     "output_type": "stream",
     "text": [
      "portfolio value: 98.84827908148655\n",
      "Fitting 10 folds for each of 7 candidates, totalling 70 fits\n"
     ]
    },
    {
     "name": "stderr",
     "output_type": "stream",
     "text": [
      "[Parallel(n_jobs=6)]: Done  70 out of  70 | elapsed:    0.1s finished\n",
      "[Parallel(n_jobs=6)]: Using backend LokyBackend with 6 concurrent workers.\n",
      "[Parallel(n_jobs=6)]: Done  70 out of  70 | elapsed:    0.1s finished\n"
     ]
    },
    {
     "name": "stdout",
     "output_type": "stream",
     "text": [
      "GAIN! 1.0016746080979049\n",
      "portfolio value: 99.01381121010037\n",
      "Fitting 10 folds for each of 7 candidates, totalling 70 fits\n",
      "GAIN! 1.008806314335317\n",
      "portfolio value: 99.88575795515425\n",
      "Fitting 10 folds for each of 7 candidates, totalling 70 fits\n",
      "GAIN! 1.0042947693616409\n",
      "portfolio value: 100.31474424808432\n",
      "Fitting 10 folds for each of 7 candidates, totalling 70 fits\n"
     ]
    },
    {
     "name": "stderr",
     "output_type": "stream",
     "text": [
      "[Parallel(n_jobs=6)]: Using backend LokyBackend with 6 concurrent workers.\n",
      "[Parallel(n_jobs=6)]: Done  70 out of  70 | elapsed:    0.0s finished\n",
      "[Parallel(n_jobs=6)]: Using backend LokyBackend with 6 concurrent workers.\n",
      "[Parallel(n_jobs=6)]: Done  70 out of  70 | elapsed:    0.1s finished\n",
      "[Parallel(n_jobs=6)]: Using backend LokyBackend with 6 concurrent workers.\n",
      "[Parallel(n_jobs=6)]: Done  70 out of  70 | elapsed:    0.0s finished\n",
      "[Parallel(n_jobs=6)]: Using backend LokyBackend with 6 concurrent workers.\n"
     ]
    },
    {
     "name": "stdout",
     "output_type": "stream",
     "text": [
      "portfolio value: 100.31474424808432\n",
      "Fitting 10 folds for each of 7 candidates, totalling 70 fits\n",
      "LOSS! 0.9894898855027123\n",
      "portfolio value: 99.26042480027083\n",
      "Fitting 10 folds for each of 7 candidates, totalling 70 fits\n"
     ]
    },
    {
     "name": "stderr",
     "output_type": "stream",
     "text": [
      "[Parallel(n_jobs=6)]: Done  70 out of  70 | elapsed:    0.0s finished\n",
      "[Parallel(n_jobs=6)]: Using backend LokyBackend with 6 concurrent workers.\n",
      "[Parallel(n_jobs=6)]: Done  70 out of  70 | elapsed:    0.0s finished\n",
      "[Parallel(n_jobs=6)]: Using backend LokyBackend with 6 concurrent workers.\n"
     ]
    },
    {
     "name": "stdout",
     "output_type": "stream",
     "text": [
      "LOSS! 0.9911557477408106\n",
      "portfolio value: 98.38254056398293\n",
      "Fitting 10 folds for each of 7 candidates, totalling 70 fits\n",
      "GAIN! 1.0036157003466832\n",
      "portfolio value: 98.7382623500077\n",
      "Fitting 10 folds for each of 7 candidates, totalling 70 fits\n"
     ]
    },
    {
     "name": "stderr",
     "output_type": "stream",
     "text": [
      "[Parallel(n_jobs=6)]: Done  70 out of  70 | elapsed:    0.0s finished\n",
      "[Parallel(n_jobs=6)]: Using backend LokyBackend with 6 concurrent workers.\n",
      "[Parallel(n_jobs=6)]: Done  70 out of  70 | elapsed:    0.0s finished\n",
      "[Parallel(n_jobs=6)]: Using backend LokyBackend with 6 concurrent workers.\n"
     ]
    },
    {
     "name": "stdout",
     "output_type": "stream",
     "text": [
      "portfolio value: 98.7382623500077\n",
      "Fitting 10 folds for each of 7 candidates, totalling 70 fits\n",
      "portfolio value: 98.7382623500077\n",
      "Fitting 10 folds for each of 7 candidates, totalling 70 fits\n"
     ]
    },
    {
     "name": "stderr",
     "output_type": "stream",
     "text": [
      "[Parallel(n_jobs=6)]: Done  70 out of  70 | elapsed:    0.0s finished\n",
      "[Parallel(n_jobs=6)]: Using backend LokyBackend with 6 concurrent workers.\n",
      "[Parallel(n_jobs=6)]: Done  70 out of  70 | elapsed:    0.0s finished\n",
      "[Parallel(n_jobs=6)]: Using backend LokyBackend with 6 concurrent workers.\n"
     ]
    },
    {
     "name": "stdout",
     "output_type": "stream",
     "text": [
      "LOSS! 0.9978504160150251\n",
      "portfolio value: 98.52601616255588\n",
      "Fitting 10 folds for each of 7 candidates, totalling 70 fits\n",
      "LOSS! 0.9035007157497228\n",
      "portfolio value: 89.01832612283799\n",
      "Fitting 10 folds for each of 7 candidates, totalling 70 fits\n"
     ]
    },
    {
     "name": "stderr",
     "output_type": "stream",
     "text": [
      "[Parallel(n_jobs=6)]: Done  70 out of  70 | elapsed:    0.0s finished\n",
      "[Parallel(n_jobs=6)]: Using backend LokyBackend with 6 concurrent workers.\n",
      "[Parallel(n_jobs=6)]: Done  70 out of  70 | elapsed:    0.0s finished\n",
      "[Parallel(n_jobs=6)]: Using backend LokyBackend with 6 concurrent workers.\n"
     ]
    },
    {
     "name": "stdout",
     "output_type": "stream",
     "text": [
      "portfolio value: 89.01832612283799\n",
      "Fitting 10 folds for each of 7 candidates, totalling 70 fits\n",
      "portfolio value: 89.01832612283799\n",
      "Fitting 10 folds for each of 7 candidates, totalling 70 fits\n"
     ]
    },
    {
     "name": "stderr",
     "output_type": "stream",
     "text": [
      "[Parallel(n_jobs=6)]: Done  70 out of  70 | elapsed:    0.1s finished\n",
      "[Parallel(n_jobs=6)]: Using backend LokyBackend with 6 concurrent workers.\n",
      "[Parallel(n_jobs=6)]: Done  70 out of  70 | elapsed:    0.0s finished\n",
      "[Parallel(n_jobs=6)]: Using backend LokyBackend with 6 concurrent workers.\n"
     ]
    },
    {
     "name": "stdout",
     "output_type": "stream",
     "text": [
      "portfolio value: 89.01832612283799\n",
      "Fitting 10 folds for each of 7 candidates, totalling 70 fits\n",
      "portfolio value: 89.01832612283799\n",
      "Fitting 10 folds for each of 7 candidates, totalling 70 fits\n"
     ]
    },
    {
     "name": "stderr",
     "output_type": "stream",
     "text": [
      "[Parallel(n_jobs=6)]: Done  70 out of  70 | elapsed:    0.1s finished\n",
      "[Parallel(n_jobs=6)]: Using backend LokyBackend with 6 concurrent workers.\n",
      "[Parallel(n_jobs=6)]: Done  70 out of  70 | elapsed:    0.0s finished\n",
      "[Parallel(n_jobs=6)]: Using backend LokyBackend with 6 concurrent workers.\n"
     ]
    },
    {
     "name": "stdout",
     "output_type": "stream",
     "text": [
      "portfolio value: 89.01832612283799\n",
      "Fitting 10 folds for each of 7 candidates, totalling 70 fits\n",
      "portfolio value: 89.01832612283799\n",
      "Fitting 10 folds for each of 7 candidates, totalling 70 fits\n"
     ]
    },
    {
     "name": "stderr",
     "output_type": "stream",
     "text": [
      "[Parallel(n_jobs=6)]: Done  70 out of  70 | elapsed:    0.0s finished\n",
      "[Parallel(n_jobs=6)]: Using backend LokyBackend with 6 concurrent workers.\n",
      "[Parallel(n_jobs=6)]: Done  70 out of  70 | elapsed:    0.0s finished\n",
      "[Parallel(n_jobs=6)]: Using backend LokyBackend with 6 concurrent workers.\n"
     ]
    },
    {
     "name": "stdout",
     "output_type": "stream",
     "text": [
      "portfolio value: 89.01832612283799\n",
      "Fitting 10 folds for each of 7 candidates, totalling 70 fits\n",
      "portfolio value: 89.01832612283799\n",
      "Fitting 10 folds for each of 7 candidates, totalling 70 fits\n"
     ]
    },
    {
     "name": "stderr",
     "output_type": "stream",
     "text": [
      "[Parallel(n_jobs=6)]: Done  70 out of  70 | elapsed:    0.0s finished\n",
      "[Parallel(n_jobs=6)]: Using backend LokyBackend with 6 concurrent workers.\n",
      "[Parallel(n_jobs=6)]: Done  70 out of  70 | elapsed:    0.0s finished\n",
      "[Parallel(n_jobs=6)]: Using backend LokyBackend with 6 concurrent workers.\n",
      "[Parallel(n_jobs=6)]: Done  70 out of  70 | elapsed:    0.0s finished\n"
     ]
    },
    {
     "name": "stdout",
     "output_type": "stream",
     "text": [
      "portfolio value: 89.01832612283799\n",
      "Fitting 10 folds for each of 7 candidates, totalling 70 fits\n",
      "portfolio value: 89.01832612283799\n",
      "Fitting 10 folds for each of 7 candidates, totalling 70 fits\n",
      "portfolio value: 89.01832612283799\n",
      "Fitting 10 folds for each of 7 candidates, totalling 70 fits\n"
     ]
    },
    {
     "name": "stderr",
     "output_type": "stream",
     "text": [
      "[Parallel(n_jobs=6)]: Using backend LokyBackend with 6 concurrent workers.\n",
      "[Parallel(n_jobs=6)]: Done  70 out of  70 | elapsed:    0.0s finished\n",
      "[Parallel(n_jobs=6)]: Using backend LokyBackend with 6 concurrent workers.\n"
     ]
    },
    {
     "name": "stdout",
     "output_type": "stream",
     "text": [
      "portfolio value: 89.01832612283799\n",
      "Fitting 10 folds for each of 7 candidates, totalling 70 fits\n",
      "portfolio value: 89.01832612283799\n",
      "Fitting 10 folds for each of 7 candidates, totalling 70 fits\n"
     ]
    },
    {
     "name": "stderr",
     "output_type": "stream",
     "text": [
      "[Parallel(n_jobs=6)]: Done  70 out of  70 | elapsed:    0.0s finished\n",
      "[Parallel(n_jobs=6)]: Using backend LokyBackend with 6 concurrent workers.\n",
      "[Parallel(n_jobs=6)]: Done  70 out of  70 | elapsed:    0.0s finished\n",
      "[Parallel(n_jobs=6)]: Using backend LokyBackend with 6 concurrent workers.\n"
     ]
    },
    {
     "name": "stdout",
     "output_type": "stream",
     "text": [
      "portfolio value: 89.01832612283799\n",
      "Fitting 10 folds for each of 7 candidates, totalling 70 fits\n",
      "portfolio value: 89.01832612283799\n",
      "Fitting 10 folds for each of 7 candidates, totalling 70 fits\n"
     ]
    },
    {
     "name": "stderr",
     "output_type": "stream",
     "text": [
      "[Parallel(n_jobs=6)]: Done  70 out of  70 | elapsed:    0.0s finished\n",
      "[Parallel(n_jobs=6)]: Using backend LokyBackend with 6 concurrent workers.\n",
      "[Parallel(n_jobs=6)]: Done  70 out of  70 | elapsed:    0.1s finished\n",
      "[Parallel(n_jobs=6)]: Using backend LokyBackend with 6 concurrent workers.\n"
     ]
    },
    {
     "name": "stdout",
     "output_type": "stream",
     "text": [
      "portfolio value: 89.01832612283799\n",
      "Fitting 10 folds for each of 7 candidates, totalling 70 fits\n",
      "portfolio value: 89.01832612283799\n",
      "Fitting 10 folds for each of 7 candidates, totalling 70 fits\n"
     ]
    },
    {
     "name": "stderr",
     "output_type": "stream",
     "text": [
      "[Parallel(n_jobs=6)]: Done  70 out of  70 | elapsed:    0.0s finished\n",
      "[Parallel(n_jobs=6)]: Using backend LokyBackend with 6 concurrent workers.\n",
      "[Parallel(n_jobs=6)]: Done  70 out of  70 | elapsed:    0.0s finished\n",
      "[Parallel(n_jobs=6)]: Using backend LokyBackend with 6 concurrent workers.\n"
     ]
    },
    {
     "name": "stdout",
     "output_type": "stream",
     "text": [
      "portfolio value: 89.01832612283799\n",
      "Fitting 10 folds for each of 7 candidates, totalling 70 fits\n",
      "portfolio value: 89.01832612283799\n",
      "Fitting 10 folds for each of 7 candidates, totalling 70 fits\n"
     ]
    },
    {
     "name": "stderr",
     "output_type": "stream",
     "text": [
      "[Parallel(n_jobs=6)]: Done  70 out of  70 | elapsed:    0.1s finished\n",
      "[Parallel(n_jobs=6)]: Using backend LokyBackend with 6 concurrent workers.\n",
      "[Parallel(n_jobs=6)]: Done  70 out of  70 | elapsed:    0.1s finished\n",
      "[Parallel(n_jobs=6)]: Using backend LokyBackend with 6 concurrent workers.\n"
     ]
    },
    {
     "name": "stdout",
     "output_type": "stream",
     "text": [
      "GAIN! 1.0181661140938485\n",
      "portfolio value: 90.63544319162888\n",
      "Fitting 10 folds for each of 7 candidates, totalling 70 fits\n",
      "portfolio value: 90.63544319162888\n",
      "Fitting 10 folds for each of 7 candidates, totalling 70 fits\n"
     ]
    },
    {
     "name": "stderr",
     "output_type": "stream",
     "text": [
      "[Parallel(n_jobs=6)]: Done  70 out of  70 | elapsed:    0.0s finished\n",
      "[Parallel(n_jobs=6)]: Using backend LokyBackend with 6 concurrent workers.\n",
      "[Parallel(n_jobs=6)]: Done  70 out of  70 | elapsed:    0.0s finished\n",
      "[Parallel(n_jobs=6)]: Using backend LokyBackend with 6 concurrent workers.\n"
     ]
    },
    {
     "name": "stdout",
     "output_type": "stream",
     "text": [
      "portfolio value: 90.63544319162888\n",
      "Fitting 10 folds for each of 7 candidates, totalling 70 fits\n",
      "LOSS! 0.9736225783784197\n",
      "portfolio value: 88.2447138927045\n",
      "Fitting 10 folds for each of 7 candidates, totalling 70 fits\n"
     ]
    },
    {
     "name": "stderr",
     "output_type": "stream",
     "text": [
      "[Parallel(n_jobs=6)]: Done  70 out of  70 | elapsed:    0.0s finished\n",
      "[Parallel(n_jobs=6)]: Using backend LokyBackend with 6 concurrent workers.\n",
      "[Parallel(n_jobs=6)]: Done  70 out of  70 | elapsed:    0.1s finished\n"
     ]
    },
    {
     "name": "stdout",
     "output_type": "stream",
     "text": [
      "GAIN! 1.0158403755098138\n",
      "portfolio value: 89.64254329752102\n",
      "Fitting 10 folds for each of 7 candidates, totalling 70 fits\n",
      "portfolio value: 89.64254329752102\n",
      "Fitting 10 folds for each of 7 candidates, totalling 70 fits\n"
     ]
    },
    {
     "name": "stderr",
     "output_type": "stream",
     "text": [
      "[Parallel(n_jobs=6)]: Using backend LokyBackend with 6 concurrent workers.\n",
      "[Parallel(n_jobs=6)]: Done  70 out of  70 | elapsed:    0.0s finished\n",
      "[Parallel(n_jobs=6)]: Using backend LokyBackend with 6 concurrent workers.\n",
      "[Parallel(n_jobs=6)]: Done  70 out of  70 | elapsed:    0.0s finished\n",
      "[Parallel(n_jobs=6)]: Using backend LokyBackend with 6 concurrent workers.\n",
      "[Parallel(n_jobs=6)]: Done  70 out of  70 | elapsed:    0.0s finished\n",
      "[Parallel(n_jobs=6)]: Using backend LokyBackend with 6 concurrent workers.\n"
     ]
    },
    {
     "name": "stdout",
     "output_type": "stream",
     "text": [
      "portfolio value: 89.64254329752102\n",
      "Fitting 10 folds for each of 7 candidates, totalling 70 fits\n",
      "portfolio value: 89.64254329752102\n",
      "Fitting 10 folds for each of 7 candidates, totalling 70 fits\n"
     ]
    },
    {
     "name": "stderr",
     "output_type": "stream",
     "text": [
      "[Parallel(n_jobs=6)]: Done  70 out of  70 | elapsed:    0.1s finished\n",
      "[Parallel(n_jobs=6)]: Using backend LokyBackend with 6 concurrent workers.\n",
      "[Parallel(n_jobs=6)]: Done  70 out of  70 | elapsed:    0.0s finished\n",
      "[Parallel(n_jobs=6)]: Using backend LokyBackend with 6 concurrent workers.\n"
     ]
    },
    {
     "name": "stdout",
     "output_type": "stream",
     "text": [
      "portfolio value: 89.64254329752102\n",
      "Fitting 10 folds for each of 7 candidates, totalling 70 fits\n",
      "portfolio value: 89.64254329752102\n",
      "Fitting 10 folds for each of 7 candidates, totalling 70 fits\n"
     ]
    },
    {
     "name": "stderr",
     "output_type": "stream",
     "text": [
      "[Parallel(n_jobs=6)]: Done  70 out of  70 | elapsed:    0.0s finished\n",
      "[Parallel(n_jobs=6)]: Using backend LokyBackend with 6 concurrent workers.\n",
      "[Parallel(n_jobs=6)]: Done  70 out of  70 | elapsed:    0.0s finished\n",
      "[Parallel(n_jobs=6)]: Using backend LokyBackend with 6 concurrent workers.\n"
     ]
    },
    {
     "name": "stdout",
     "output_type": "stream",
     "text": [
      "portfolio value: 89.64254329752102\n",
      "Fitting 10 folds for each of 7 candidates, totalling 70 fits\n",
      "portfolio value: 89.64254329752102\n",
      "Fitting 10 folds for each of 7 candidates, totalling 70 fits\n"
     ]
    },
    {
     "name": "stderr",
     "output_type": "stream",
     "text": [
      "[Parallel(n_jobs=6)]: Done  70 out of  70 | elapsed:    0.1s finished\n",
      "[Parallel(n_jobs=6)]: Using backend LokyBackend with 6 concurrent workers.\n",
      "[Parallel(n_jobs=6)]: Done  70 out of  70 | elapsed:    0.1s finished\n",
      "[Parallel(n_jobs=6)]: Using backend LokyBackend with 6 concurrent workers.\n"
     ]
    },
    {
     "name": "stdout",
     "output_type": "stream",
     "text": [
      "portfolio value: 89.64254329752102\n",
      "Fitting 10 folds for each of 7 candidates, totalling 70 fits\n",
      "portfolio value: 89.64254329752102\n",
      "Fitting 10 folds for each of 7 candidates, totalling 70 fits\n"
     ]
    },
    {
     "name": "stderr",
     "output_type": "stream",
     "text": [
      "[Parallel(n_jobs=6)]: Done  70 out of  70 | elapsed:    0.0s finished\n",
      "[Parallel(n_jobs=6)]: Using backend LokyBackend with 6 concurrent workers.\n",
      "[Parallel(n_jobs=6)]: Done  70 out of  70 | elapsed:    0.0s finished\n",
      "[Parallel(n_jobs=6)]: Using backend LokyBackend with 6 concurrent workers.\n"
     ]
    },
    {
     "name": "stdout",
     "output_type": "stream",
     "text": [
      "portfolio value: 89.64254329752102\n",
      "Fitting 10 folds for each of 7 candidates, totalling 70 fits\n",
      "portfolio value: 89.64254329752102\n",
      "Fitting 10 folds for each of 7 candidates, totalling 70 fits\n"
     ]
    },
    {
     "name": "stderr",
     "output_type": "stream",
     "text": [
      "[Parallel(n_jobs=6)]: Done  70 out of  70 | elapsed:    0.0s finished\n",
      "[Parallel(n_jobs=6)]: Using backend LokyBackend with 6 concurrent workers.\n",
      "[Parallel(n_jobs=6)]: Done  70 out of  70 | elapsed:    0.0s finished\n",
      "[Parallel(n_jobs=6)]: Using backend LokyBackend with 6 concurrent workers.\n"
     ]
    },
    {
     "name": "stdout",
     "output_type": "stream",
     "text": [
      "portfolio value: 89.64254329752102\n",
      "Fitting 10 folds for each of 7 candidates, totalling 70 fits\n",
      "LOSS! 0.9426277415372984\n",
      "portfolio value: 84.49954813420173\n",
      "Fitting 10 folds for each of 7 candidates, totalling 70 fits\n"
     ]
    },
    {
     "name": "stderr",
     "output_type": "stream",
     "text": [
      "[Parallel(n_jobs=6)]: Done  70 out of  70 | elapsed:    0.0s finished\n",
      "[Parallel(n_jobs=6)]: Using backend LokyBackend with 6 concurrent workers.\n",
      "[Parallel(n_jobs=6)]: Done  70 out of  70 | elapsed:    0.0s finished\n",
      "[Parallel(n_jobs=6)]: Using backend LokyBackend with 6 concurrent workers.\n"
     ]
    },
    {
     "name": "stdout",
     "output_type": "stream",
     "text": [
      "GAIN! 1.0297835769290438\n",
      "portfolio value: 87.01624692652616\n",
      "Fitting 10 folds for each of 7 candidates, totalling 70 fits\n",
      "LOSS! 0.9945251346175353\n",
      "portfolio value: 86.53984468851613\n",
      "Fitting 10 folds for each of 7 candidates, totalling 70 fits\n"
     ]
    },
    {
     "name": "stderr",
     "output_type": "stream",
     "text": [
      "[Parallel(n_jobs=6)]: Done  70 out of  70 | elapsed:    0.1s finished\n",
      "[Parallel(n_jobs=6)]: Using backend LokyBackend with 6 concurrent workers.\n",
      "[Parallel(n_jobs=6)]: Done  70 out of  70 | elapsed:    0.0s finished\n",
      "[Parallel(n_jobs=6)]: Using backend LokyBackend with 6 concurrent workers.\n"
     ]
    },
    {
     "name": "stdout",
     "output_type": "stream",
     "text": [
      "GAIN! 1.0195652106249244\n",
      "portfolio value: 88.2330149772952\n",
      "Fitting 10 folds for each of 7 candidates, totalling 70 fits\n",
      "LOSS! 0.9349331513748496\n",
      "portfolio value: 82.4919707480269\n",
      "Fitting 10 folds for each of 7 candidates, totalling 70 fits\n"
     ]
    },
    {
     "name": "stderr",
     "output_type": "stream",
     "text": [
      "[Parallel(n_jobs=6)]: Done  70 out of  70 | elapsed:    0.0s finished\n",
      "[Parallel(n_jobs=6)]: Using backend LokyBackend with 6 concurrent workers.\n",
      "[Parallel(n_jobs=6)]: Done  70 out of  70 | elapsed:    0.0s finished\n",
      "[Parallel(n_jobs=6)]: Using backend LokyBackend with 6 concurrent workers.\n"
     ]
    },
    {
     "name": "stdout",
     "output_type": "stream",
     "text": [
      "GAIN! 1.0098518697722103\n",
      "portfolio value: 83.30467090108944\n",
      "Fitting 10 folds for each of 7 candidates, totalling 70 fits\n",
      "LOSS! 0.9481527543188198\n",
      "portfolio value: 78.98555316249079\n",
      "Fitting 10 folds for each of 7 candidates, totalling 70 fits\n"
     ]
    },
    {
     "name": "stderr",
     "output_type": "stream",
     "text": [
      "[Parallel(n_jobs=6)]: Done  70 out of  70 | elapsed:    0.1s finished\n",
      "[Parallel(n_jobs=6)]: Using backend LokyBackend with 6 concurrent workers.\n",
      "[Parallel(n_jobs=6)]: Done  70 out of  70 | elapsed:    0.0s finished\n",
      "[Parallel(n_jobs=6)]: Using backend LokyBackend with 6 concurrent workers.\n"
     ]
    },
    {
     "name": "stdout",
     "output_type": "stream",
     "text": [
      "GAIN! 1.0741245806052009\n",
      "portfolio value: 84.84032416453022\n",
      "Fitting 10 folds for each of 7 candidates, totalling 70 fits\n",
      "LOSS! 0.9714982213860065\n",
      "portfolio value: 82.42222402765333\n",
      "Fitting 10 folds for each of 7 candidates, totalling 70 fits\n"
     ]
    },
    {
     "name": "stderr",
     "output_type": "stream",
     "text": [
      "[Parallel(n_jobs=6)]: Done  70 out of  70 | elapsed:    0.0s finished\n",
      "[Parallel(n_jobs=6)]: Using backend LokyBackend with 6 concurrent workers.\n",
      "[Parallel(n_jobs=6)]: Done  70 out of  70 | elapsed:    0.0s finished\n",
      "[Parallel(n_jobs=6)]: Using backend LokyBackend with 6 concurrent workers.\n"
     ]
    },
    {
     "name": "stdout",
     "output_type": "stream",
     "text": [
      "GAIN! 1.011398086211927\n",
      "portfolio value: 83.36167964289928\n",
      "Fitting 10 folds for each of 7 candidates, totalling 70 fits\n",
      "LOSS! 0.9678966028063261\n",
      "portfolio value: 80.68548653059148\n",
      "Fitting 10 folds for each of 7 candidates, totalling 70 fits\n"
     ]
    },
    {
     "name": "stderr",
     "output_type": "stream",
     "text": [
      "[Parallel(n_jobs=6)]: Done  70 out of  70 | elapsed:    0.0s finished\n",
      "[Parallel(n_jobs=6)]: Using backend LokyBackend with 6 concurrent workers.\n",
      "[Parallel(n_jobs=6)]: Done  70 out of  70 | elapsed:    0.0s finished\n",
      "[Parallel(n_jobs=6)]: Using backend LokyBackend with 6 concurrent workers.\n"
     ]
    },
    {
     "name": "stdout",
     "output_type": "stream",
     "text": [
      "GAIN! 1.0258377492044135\n",
      "portfolio value: 82.77021789600498\n",
      "Fitting 10 folds for each of 7 candidates, totalling 70 fits\n",
      "GAIN! 1.0244707253848218\n",
      "portfolio value: 84.79566516817998\n",
      "Fitting 10 folds for each of 7 candidates, totalling 70 fits\n"
     ]
    },
    {
     "name": "stderr",
     "output_type": "stream",
     "text": [
      "[Parallel(n_jobs=6)]: Done  70 out of  70 | elapsed:    0.0s finished\n",
      "[Parallel(n_jobs=6)]: Using backend LokyBackend with 6 concurrent workers.\n",
      "[Parallel(n_jobs=6)]: Done  70 out of  70 | elapsed:    0.0s finished\n",
      "[Parallel(n_jobs=6)]: Using backend LokyBackend with 6 concurrent workers.\n"
     ]
    },
    {
     "name": "stdout",
     "output_type": "stream",
     "text": [
      "portfolio value: 84.79566516817998\n",
      "Fitting 10 folds for each of 7 candidates, totalling 70 fits\n",
      "GAIN! 1.0067007364152325\n",
      "portfolio value: 85.36385856962626\n",
      "Fitting 10 folds for each of 7 candidates, totalling 70 fits\n"
     ]
    },
    {
     "name": "stderr",
     "output_type": "stream",
     "text": [
      "[Parallel(n_jobs=6)]: Done  70 out of  70 | elapsed:    0.0s finished\n",
      "[Parallel(n_jobs=6)]: Using backend LokyBackend with 6 concurrent workers.\n",
      "[Parallel(n_jobs=6)]: Done  70 out of  70 | elapsed:    0.0s finished\n",
      "[Parallel(n_jobs=6)]: Using backend LokyBackend with 6 concurrent workers.\n"
     ]
    },
    {
     "name": "stdout",
     "output_type": "stream",
     "text": [
      "LOSS! 0.9982400459890028\n",
      "portfolio value: 85.21362210434245\n",
      "Fitting 10 folds for each of 7 candidates, totalling 70 fits\n",
      "GAIN! 1.0625862983348628\n",
      "portfolio value: 90.54682727955908\n",
      "Fitting 10 folds for each of 7 candidates, totalling 70 fits\n"
     ]
    },
    {
     "name": "stderr",
     "output_type": "stream",
     "text": [
      "[Parallel(n_jobs=6)]: Done  70 out of  70 | elapsed:    0.0s finished\n",
      "[Parallel(n_jobs=6)]: Using backend LokyBackend with 6 concurrent workers.\n",
      "[Parallel(n_jobs=6)]: Done  70 out of  70 | elapsed:    0.0s finished\n",
      "[Parallel(n_jobs=6)]: Using backend LokyBackend with 6 concurrent workers.\n"
     ]
    },
    {
     "name": "stdout",
     "output_type": "stream",
     "text": [
      "LOSS! 0.9869227512893062\n",
      "portfolio value: 89.36272389926005\n",
      "Fitting 10 folds for each of 7 candidates, totalling 70 fits\n",
      "GAIN! 1.0005897353445221\n",
      "portfolio value: 89.41542425602621\n",
      "Fitting 10 folds for each of 7 candidates, totalling 70 fits\n"
     ]
    },
    {
     "name": "stderr",
     "output_type": "stream",
     "text": [
      "[Parallel(n_jobs=6)]: Done  70 out of  70 | elapsed:    0.0s finished\n",
      "[Parallel(n_jobs=6)]: Using backend LokyBackend with 6 concurrent workers.\n",
      "[Parallel(n_jobs=6)]: Done  70 out of  70 | elapsed:    0.0s finished\n",
      "[Parallel(n_jobs=6)]: Using backend LokyBackend with 6 concurrent workers.\n"
     ]
    },
    {
     "name": "stdout",
     "output_type": "stream",
     "text": [
      "GAIN! 1.0009287700527765\n",
      "portfolio value: 89.49847062433152\n",
      "Fitting 10 folds for each of 7 candidates, totalling 70 fits\n",
      "LOSS! 0.9118863241272334\n",
      "portfolio value: 81.61243139263084\n",
      "Fitting 10 folds for each of 7 candidates, totalling 70 fits\n"
     ]
    },
    {
     "name": "stderr",
     "output_type": "stream",
     "text": [
      "[Parallel(n_jobs=6)]: Done  70 out of  70 | elapsed:    0.0s finished\n",
      "[Parallel(n_jobs=6)]: Using backend LokyBackend with 6 concurrent workers.\n",
      "[Parallel(n_jobs=6)]: Done  70 out of  70 | elapsed:    0.0s finished\n",
      "[Parallel(n_jobs=6)]: Using backend LokyBackend with 6 concurrent workers.\n"
     ]
    },
    {
     "name": "stdout",
     "output_type": "stream",
     "text": [
      "GAIN! 1.0036336531757053\n",
      "portfolio value: 81.9089826631377\n",
      "Fitting 10 folds for each of 7 candidates, totalling 70 fits\n",
      "LOSS! 0.9930370745502436\n",
      "portfolio value: 81.33865652318889\n",
      "Fitting 10 folds for each of 7 candidates, totalling 70 fits\n"
     ]
    },
    {
     "name": "stderr",
     "output_type": "stream",
     "text": [
      "[Parallel(n_jobs=6)]: Done  70 out of  70 | elapsed:    0.0s finished\n",
      "[Parallel(n_jobs=6)]: Using backend LokyBackend with 6 concurrent workers.\n",
      "[Parallel(n_jobs=6)]: Done  70 out of  70 | elapsed:    0.0s finished\n",
      "[Parallel(n_jobs=6)]: Using backend LokyBackend with 6 concurrent workers.\n"
     ]
    },
    {
     "name": "stdout",
     "output_type": "stream",
     "text": [
      "LOSS! 0.9710525128773974\n",
      "portfolio value: 78.98410681091408\n",
      "Fitting 10 folds for each of 7 candidates, totalling 70 fits\n",
      "GAIN! 1.0418128213888294\n",
      "portfolio value: 82.28665516155506\n",
      "Fitting 10 folds for each of 7 candidates, totalling 70 fits\n"
     ]
    },
    {
     "name": "stderr",
     "output_type": "stream",
     "text": [
      "[Parallel(n_jobs=6)]: Done  70 out of  70 | elapsed:    0.0s finished\n",
      "[Parallel(n_jobs=6)]: Using backend LokyBackend with 6 concurrent workers.\n",
      "[Parallel(n_jobs=6)]: Done  70 out of  70 | elapsed:    0.0s finished\n",
      "[Parallel(n_jobs=6)]: Using backend LokyBackend with 6 concurrent workers.\n"
     ]
    },
    {
     "name": "stdout",
     "output_type": "stream",
     "text": [
      "LOSS! 0.9801466735475503\n",
      "portfolio value: 80.65299133395254\n",
      "Fitting 10 folds for each of 7 candidates, totalling 70 fits\n",
      "portfolio value: 80.65299133395254\n",
      "Fitting 10 folds for each of 7 candidates, totalling 70 fits\n"
     ]
    },
    {
     "name": "stderr",
     "output_type": "stream",
     "text": [
      "[Parallel(n_jobs=6)]: Done  70 out of  70 | elapsed:    0.0s finished\n",
      "[Parallel(n_jobs=6)]: Using backend LokyBackend with 6 concurrent workers.\n",
      "[Parallel(n_jobs=6)]: Done  70 out of  70 | elapsed:    0.0s finished\n",
      "[Parallel(n_jobs=6)]: Using backend LokyBackend with 6 concurrent workers.\n"
     ]
    },
    {
     "name": "stdout",
     "output_type": "stream",
     "text": [
      "GAIN! 1.0073093683781538\n",
      "portfolio value: 81.24251375841244\n",
      "Fitting 10 folds for each of 7 candidates, totalling 70 fits\n",
      "portfolio value: 81.24251375841244\n",
      "Fitting 10 folds for each of 7 candidates, totalling 70 fits\n"
     ]
    },
    {
     "name": "stderr",
     "output_type": "stream",
     "text": [
      "[Parallel(n_jobs=6)]: Done  70 out of  70 | elapsed:    0.0s finished\n",
      "[Parallel(n_jobs=6)]: Using backend LokyBackend with 6 concurrent workers.\n",
      "[Parallel(n_jobs=6)]: Done  70 out of  70 | elapsed:    0.0s finished\n",
      "[Parallel(n_jobs=6)]: Using backend LokyBackend with 6 concurrent workers.\n"
     ]
    },
    {
     "name": "stdout",
     "output_type": "stream",
     "text": [
      "GAIN! 1.020860499968583\n",
      "portfolio value: 82.93727321411741\n",
      "Fitting 10 folds for each of 7 candidates, totalling 70 fits\n",
      "LOSS! 0.9665993356107015\n",
      "portfolio value: 80.16711318612913\n",
      "Fitting 10 folds for each of 7 candidates, totalling 70 fits\n"
     ]
    },
    {
     "name": "stderr",
     "output_type": "stream",
     "text": [
      "[Parallel(n_jobs=6)]: Done  70 out of  70 | elapsed:    0.0s finished\n",
      "[Parallel(n_jobs=6)]: Using backend LokyBackend with 6 concurrent workers.\n",
      "[Parallel(n_jobs=6)]: Done  70 out of  70 | elapsed:    0.0s finished\n",
      "[Parallel(n_jobs=6)]: Using backend LokyBackend with 6 concurrent workers.\n"
     ]
    },
    {
     "name": "stdout",
     "output_type": "stream",
     "text": [
      "LOSS! 0.9932394967507908\n",
      "portfolio value: 79.62514315695458\n",
      "Fitting 10 folds for each of 7 candidates, totalling 70 fits\n",
      "GAIN! 1.0082503996815522\n",
      "portfolio value: 80.28208241270026\n",
      "Fitting 10 folds for each of 7 candidates, totalling 70 fits\n"
     ]
    },
    {
     "name": "stderr",
     "output_type": "stream",
     "text": [
      "[Parallel(n_jobs=6)]: Done  70 out of  70 | elapsed:    0.0s finished\n",
      "[Parallel(n_jobs=6)]: Using backend LokyBackend with 6 concurrent workers.\n",
      "[Parallel(n_jobs=6)]: Done  70 out of  70 | elapsed:    0.0s finished\n",
      "[Parallel(n_jobs=6)]: Using backend LokyBackend with 6 concurrent workers.\n"
     ]
    },
    {
     "name": "stdout",
     "output_type": "stream",
     "text": [
      "portfolio value: 80.28208241270026\n",
      "Fitting 10 folds for each of 7 candidates, totalling 70 fits\n",
      "portfolio value: 80.28208241270026\n",
      "Fitting 10 folds for each of 7 candidates, totalling 70 fits\n"
     ]
    },
    {
     "name": "stderr",
     "output_type": "stream",
     "text": [
      "[Parallel(n_jobs=6)]: Done  70 out of  70 | elapsed:    0.0s finished\n",
      "[Parallel(n_jobs=6)]: Using backend LokyBackend with 6 concurrent workers.\n",
      "[Parallel(n_jobs=6)]: Done  70 out of  70 | elapsed:    0.0s finished\n",
      "[Parallel(n_jobs=6)]: Using backend LokyBackend with 6 concurrent workers.\n"
     ]
    },
    {
     "name": "stdout",
     "output_type": "stream",
     "text": [
      "portfolio value: 80.28208241270026\n",
      "Fitting 10 folds for each of 7 candidates, totalling 70 fits\n",
      "portfolio value: 80.28208241270026\n",
      "Fitting 10 folds for each of 7 candidates, totalling 70 fits\n"
     ]
    },
    {
     "name": "stderr",
     "output_type": "stream",
     "text": [
      "[Parallel(n_jobs=6)]: Done  70 out of  70 | elapsed:    0.0s finished\n",
      "[Parallel(n_jobs=6)]: Using backend LokyBackend with 6 concurrent workers.\n",
      "[Parallel(n_jobs=6)]: Done  70 out of  70 | elapsed:    0.0s finished\n",
      "[Parallel(n_jobs=6)]: Using backend LokyBackend with 6 concurrent workers.\n"
     ]
    },
    {
     "name": "stdout",
     "output_type": "stream",
     "text": [
      "LOSS! 0.9942515302781975\n",
      "portfolio value: 79.8205832927476\n",
      "Fitting 10 folds for each of 7 candidates, totalling 70 fits\n",
      "portfolio value: 79.8205832927476\n",
      "Fitting 10 folds for each of 7 candidates, totalling 70 fits\n"
     ]
    },
    {
     "name": "stderr",
     "output_type": "stream",
     "text": [
      "[Parallel(n_jobs=6)]: Done  70 out of  70 | elapsed:    0.0s finished\n",
      "[Parallel(n_jobs=6)]: Using backend LokyBackend with 6 concurrent workers.\n",
      "[Parallel(n_jobs=6)]: Done  70 out of  70 | elapsed:    0.0s finished\n",
      "[Parallel(n_jobs=6)]: Using backend LokyBackend with 6 concurrent workers.\n"
     ]
    },
    {
     "name": "stdout",
     "output_type": "stream",
     "text": [
      "LOSS! 0.9940173102113863\n",
      "portfolio value: 79.3430415041609\n",
      "Fitting 10 folds for each of 7 candidates, totalling 70 fits\n",
      "portfolio value: 79.3430415041609\n",
      "Fitting 10 folds for each of 7 candidates, totalling 70 fits\n"
     ]
    },
    {
     "name": "stderr",
     "output_type": "stream",
     "text": [
      "[Parallel(n_jobs=6)]: Done  70 out of  70 | elapsed:    0.0s finished\n",
      "[Parallel(n_jobs=6)]: Using backend LokyBackend with 6 concurrent workers.\n",
      "[Parallel(n_jobs=6)]: Done  70 out of  70 | elapsed:    0.0s finished\n",
      "[Parallel(n_jobs=6)]: Using backend LokyBackend with 6 concurrent workers.\n"
     ]
    },
    {
     "name": "stdout",
     "output_type": "stream",
     "text": [
      "portfolio value: 79.3430415041609\n",
      "Fitting 10 folds for each of 7 candidates, totalling 70 fits\n",
      "portfolio value: 79.3430415041609\n",
      "Fitting 10 folds for each of 7 candidates, totalling 70 fits\n"
     ]
    },
    {
     "name": "stderr",
     "output_type": "stream",
     "text": [
      "[Parallel(n_jobs=6)]: Done  70 out of  70 | elapsed:    0.0s finished\n",
      "[Parallel(n_jobs=6)]: Using backend LokyBackend with 6 concurrent workers.\n",
      "[Parallel(n_jobs=6)]: Done  70 out of  70 | elapsed:    0.0s finished\n",
      "[Parallel(n_jobs=6)]: Using backend LokyBackend with 6 concurrent workers.\n"
     ]
    },
    {
     "name": "stdout",
     "output_type": "stream",
     "text": [
      "portfolio value: 79.3430415041609\n",
      "Fitting 10 folds for each of 7 candidates, totalling 70 fits\n",
      "portfolio value: 79.3430415041609\n",
      "Fitting 10 folds for each of 7 candidates, totalling 70 fits\n"
     ]
    },
    {
     "name": "stderr",
     "output_type": "stream",
     "text": [
      "[Parallel(n_jobs=6)]: Done  70 out of  70 | elapsed:    0.0s finished\n",
      "[Parallel(n_jobs=6)]: Using backend LokyBackend with 6 concurrent workers.\n",
      "[Parallel(n_jobs=6)]: Done  70 out of  70 | elapsed:    0.0s finished\n",
      "[Parallel(n_jobs=6)]: Using backend LokyBackend with 6 concurrent workers.\n"
     ]
    },
    {
     "name": "stdout",
     "output_type": "stream",
     "text": [
      "portfolio value: 79.3430415041609\n",
      "Fitting 10 folds for each of 7 candidates, totalling 70 fits\n",
      "portfolio value: 79.3430415041609\n",
      "Fitting 10 folds for each of 7 candidates, totalling 70 fits\n"
     ]
    },
    {
     "name": "stderr",
     "output_type": "stream",
     "text": [
      "[Parallel(n_jobs=6)]: Done  70 out of  70 | elapsed:    0.0s finished\n",
      "[Parallel(n_jobs=6)]: Using backend LokyBackend with 6 concurrent workers.\n",
      "[Parallel(n_jobs=6)]: Done  70 out of  70 | elapsed:    0.0s finished\n",
      "[Parallel(n_jobs=6)]: Using backend LokyBackend with 6 concurrent workers.\n"
     ]
    },
    {
     "name": "stdout",
     "output_type": "stream",
     "text": [
      "portfolio value: 79.3430415041609\n",
      "Fitting 10 folds for each of 7 candidates, totalling 70 fits\n",
      "portfolio value: 79.3430415041609\n",
      "Fitting 10 folds for each of 7 candidates, totalling 70 fits\n"
     ]
    },
    {
     "name": "stderr",
     "output_type": "stream",
     "text": [
      "[Parallel(n_jobs=6)]: Done  70 out of  70 | elapsed:    0.0s finished\n",
      "[Parallel(n_jobs=6)]: Using backend LokyBackend with 6 concurrent workers.\n",
      "[Parallel(n_jobs=6)]: Done  70 out of  70 | elapsed:    0.0s finished\n",
      "[Parallel(n_jobs=6)]: Using backend LokyBackend with 6 concurrent workers.\n"
     ]
    },
    {
     "name": "stdout",
     "output_type": "stream",
     "text": [
      "portfolio value: 79.3430415041609\n",
      "Fitting 10 folds for each of 7 candidates, totalling 70 fits\n",
      "portfolio value: 79.3430415041609\n",
      "Fitting 10 folds for each of 7 candidates, totalling 70 fits\n"
     ]
    },
    {
     "name": "stderr",
     "output_type": "stream",
     "text": [
      "[Parallel(n_jobs=6)]: Done  70 out of  70 | elapsed:    0.0s finished\n",
      "[Parallel(n_jobs=6)]: Using backend LokyBackend with 6 concurrent workers.\n",
      "[Parallel(n_jobs=6)]: Done  70 out of  70 | elapsed:    0.0s finished\n",
      "[Parallel(n_jobs=6)]: Using backend LokyBackend with 6 concurrent workers.\n"
     ]
    },
    {
     "name": "stdout",
     "output_type": "stream",
     "text": [
      "portfolio value: 79.3430415041609\n",
      "Fitting 10 folds for each of 7 candidates, totalling 70 fits\n",
      "portfolio value: 79.3430415041609\n",
      "Fitting 10 folds for each of 7 candidates, totalling 70 fits\n"
     ]
    },
    {
     "name": "stderr",
     "output_type": "stream",
     "text": [
      "[Parallel(n_jobs=6)]: Done  70 out of  70 | elapsed:    0.0s finished\n",
      "[Parallel(n_jobs=6)]: Using backend LokyBackend with 6 concurrent workers.\n",
      "[Parallel(n_jobs=6)]: Done  70 out of  70 | elapsed:    0.0s finished\n",
      "[Parallel(n_jobs=6)]: Using backend LokyBackend with 6 concurrent workers.\n"
     ]
    },
    {
     "name": "stdout",
     "output_type": "stream",
     "text": [
      "GAIN! 1.0029583708873946\n",
      "portfolio value: 79.57776764826414\n",
      "Fitting 10 folds for each of 7 candidates, totalling 70 fits\n",
      "LOSS! 0.9941062448906334\n",
      "portfolio value: 79.10875577359519\n",
      "Fitting 10 folds for each of 7 candidates, totalling 70 fits\n"
     ]
    },
    {
     "name": "stderr",
     "output_type": "stream",
     "text": [
      "[Parallel(n_jobs=6)]: Done  70 out of  70 | elapsed:    0.0s finished\n",
      "[Parallel(n_jobs=6)]: Using backend LokyBackend with 6 concurrent workers.\n",
      "[Parallel(n_jobs=6)]: Done  70 out of  70 | elapsed:    0.0s finished\n",
      "[Parallel(n_jobs=6)]: Using backend LokyBackend with 6 concurrent workers.\n"
     ]
    },
    {
     "name": "stdout",
     "output_type": "stream",
     "text": [
      "LOSS! 0.9960648204332698\n",
      "portfolio value: 78.79744861432549\n",
      "Fitting 10 folds for each of 7 candidates, totalling 70 fits\n",
      "GAIN! 1.0009516262719311\n",
      "portfolio value: 78.87243433658803\n",
      "Fitting 10 folds for each of 7 candidates, totalling 70 fits\n"
     ]
    },
    {
     "name": "stderr",
     "output_type": "stream",
     "text": [
      "[Parallel(n_jobs=6)]: Done  70 out of  70 | elapsed:    0.0s finished\n",
      "[Parallel(n_jobs=6)]: Using backend LokyBackend with 6 concurrent workers.\n",
      "[Parallel(n_jobs=6)]: Done  70 out of  70 | elapsed:    0.0s finished\n",
      "[Parallel(n_jobs=6)]: Using backend LokyBackend with 6 concurrent workers.\n"
     ]
    },
    {
     "name": "stdout",
     "output_type": "stream",
     "text": [
      "portfolio value: 78.87243433658803\n",
      "Fitting 10 folds for each of 7 candidates, totalling 70 fits\n",
      "portfolio value: 78.87243433658803\n",
      "Fitting 10 folds for each of 7 candidates, totalling 70 fits\n"
     ]
    },
    {
     "name": "stderr",
     "output_type": "stream",
     "text": [
      "[Parallel(n_jobs=6)]: Done  70 out of  70 | elapsed:    0.0s finished\n",
      "[Parallel(n_jobs=6)]: Using backend LokyBackend with 6 concurrent workers.\n",
      "[Parallel(n_jobs=6)]: Done  70 out of  70 | elapsed:    0.0s finished\n",
      "[Parallel(n_jobs=6)]: Using backend LokyBackend with 6 concurrent workers.\n"
     ]
    },
    {
     "name": "stdout",
     "output_type": "stream",
     "text": [
      "portfolio value: 78.87243433658803\n",
      "Fitting 10 folds for each of 7 candidates, totalling 70 fits\n",
      "portfolio value: 78.87243433658803\n",
      "Fitting 10 folds for each of 7 candidates, totalling 70 fits\n"
     ]
    },
    {
     "name": "stderr",
     "output_type": "stream",
     "text": [
      "[Parallel(n_jobs=6)]: Done  70 out of  70 | elapsed:    0.0s finished\n",
      "[Parallel(n_jobs=6)]: Using backend LokyBackend with 6 concurrent workers.\n",
      "[Parallel(n_jobs=6)]: Done  70 out of  70 | elapsed:    0.0s finished\n",
      "[Parallel(n_jobs=6)]: Using backend LokyBackend with 6 concurrent workers.\n"
     ]
    },
    {
     "name": "stdout",
     "output_type": "stream",
     "text": [
      "GAIN! 1.0134633235887862\n",
      "portfolio value: 79.93431944229681\n",
      "Fitting 10 folds for each of 7 candidates, totalling 70 fits\n",
      "LOSS! 0.9884660726130133\n",
      "portfolio value: 79.01236280612116\n",
      "Fitting 10 folds for each of 7 candidates, totalling 70 fits\n"
     ]
    },
    {
     "name": "stderr",
     "output_type": "stream",
     "text": [
      "[Parallel(n_jobs=6)]: Done  70 out of  70 | elapsed:    0.0s finished\n",
      "[Parallel(n_jobs=6)]: Using backend LokyBackend with 6 concurrent workers.\n",
      "[Parallel(n_jobs=6)]: Done  70 out of  70 | elapsed:    0.0s finished\n",
      "[Parallel(n_jobs=6)]: Using backend LokyBackend with 6 concurrent workers.\n"
     ]
    },
    {
     "name": "stdout",
     "output_type": "stream",
     "text": [
      "GAIN! 1.0134399427959269\n",
      "portfolio value: 80.07428444240645\n",
      "Fitting 10 folds for each of 7 candidates, totalling 70 fits\n",
      "GAIN! 1.0359123788482487\n",
      "portfolio value: 82.94994248130457\n",
      "Fitting 10 folds for each of 7 candidates, totalling 70 fits\n"
     ]
    },
    {
     "name": "stderr",
     "output_type": "stream",
     "text": [
      "[Parallel(n_jobs=6)]: Done  70 out of  70 | elapsed:    0.1s finished\n",
      "[Parallel(n_jobs=6)]: Using backend LokyBackend with 6 concurrent workers.\n",
      "[Parallel(n_jobs=6)]: Done  70 out of  70 | elapsed:    0.0s finished\n",
      "[Parallel(n_jobs=6)]: Using backend LokyBackend with 6 concurrent workers.\n"
     ]
    },
    {
     "name": "stdout",
     "output_type": "stream",
     "text": [
      "LOSS! 0.9191813022959757\n",
      "portfolio value: 76.24603615534181\n",
      "Fitting 10 folds for each of 7 candidates, totalling 70 fits\n",
      "GAIN! 1.019882794618931\n",
      "portfolio value: 77.76202043272606\n",
      "Fitting 10 folds for each of 7 candidates, totalling 70 fits\n"
     ]
    },
    {
     "name": "stderr",
     "output_type": "stream",
     "text": [
      "[Parallel(n_jobs=6)]: Done  70 out of  70 | elapsed:    0.0s finished\n",
      "[Parallel(n_jobs=6)]: Using backend LokyBackend with 6 concurrent workers.\n",
      "[Parallel(n_jobs=6)]: Done  70 out of  70 | elapsed:    0.0s finished\n",
      "[Parallel(n_jobs=6)]: Using backend LokyBackend with 6 concurrent workers.\n"
     ]
    },
    {
     "name": "stdout",
     "output_type": "stream",
     "text": [
      "LOSS! 0.993724863323452\n",
      "portfolio value: 77.27405312626618\n",
      "Fitting 10 folds for each of 7 candidates, totalling 70 fits\n",
      "LOSS! 0.9983324933670299\n",
      "portfolio value: 77.14519813012164\n",
      "Fitting 10 folds for each of 7 candidates, totalling 70 fits\n"
     ]
    },
    {
     "name": "stderr",
     "output_type": "stream",
     "text": [
      "[Parallel(n_jobs=6)]: Done  70 out of  70 | elapsed:    0.1s finished\n",
      "[Parallel(n_jobs=6)]: Using backend LokyBackend with 6 concurrent workers.\n",
      "[Parallel(n_jobs=6)]: Done  70 out of  70 | elapsed:    0.0s finished\n",
      "[Parallel(n_jobs=6)]: Using backend LokyBackend with 6 concurrent workers.\n"
     ]
    },
    {
     "name": "stdout",
     "output_type": "stream",
     "text": [
      "GAIN! 1.0016951646127281\n",
      "portfolio value: 77.27597194003373\n",
      "Fitting 10 folds for each of 7 candidates, totalling 70 fits\n",
      "GAIN! 1.0015119427704384\n",
      "portfolio value: 77.39280878713707\n",
      "Fitting 10 folds for each of 7 candidates, totalling 70 fits\n"
     ]
    },
    {
     "name": "stderr",
     "output_type": "stream",
     "text": [
      "[Parallel(n_jobs=6)]: Done  70 out of  70 | elapsed:    0.0s finished\n",
      "[Parallel(n_jobs=6)]: Using backend LokyBackend with 6 concurrent workers.\n",
      "[Parallel(n_jobs=6)]: Done  70 out of  70 | elapsed:    0.0s finished\n",
      "[Parallel(n_jobs=6)]: Using backend LokyBackend with 6 concurrent workers.\n"
     ]
    },
    {
     "name": "stdout",
     "output_type": "stream",
     "text": [
      "GAIN! 1.0023595780052956\n",
      "portfolio value: 77.57542315651925\n",
      "Fitting 10 folds for each of 7 candidates, totalling 70 fits\n",
      "LOSS! 0.9960928813321903\n",
      "portfolio value: 77.27232677254118\n",
      "Fitting 10 folds for each of 7 candidates, totalling 70 fits\n"
     ]
    },
    {
     "name": "stderr",
     "output_type": "stream",
     "text": [
      "[Parallel(n_jobs=6)]: Done  70 out of  70 | elapsed:    0.0s finished\n",
      "[Parallel(n_jobs=6)]: Using backend LokyBackend with 6 concurrent workers.\n",
      "[Parallel(n_jobs=6)]: Done  70 out of  70 | elapsed:    0.0s finished\n",
      "[Parallel(n_jobs=6)]: Using backend LokyBackend with 6 concurrent workers.\n"
     ]
    },
    {
     "name": "stdout",
     "output_type": "stream",
     "text": [
      "LOSS! 0.9782750494539666\n",
      "portfolio value: 75.59358929483079\n",
      "Fitting 10 folds for each of 7 candidates, totalling 70 fits\n",
      "GAIN! 1.0363161071030296\n",
      "portfolio value: 78.3388541799643\n",
      "Fitting 10 folds for each of 7 candidates, totalling 70 fits\n"
     ]
    },
    {
     "name": "stderr",
     "output_type": "stream",
     "text": [
      "[Parallel(n_jobs=6)]: Done  70 out of  70 | elapsed:    0.0s finished\n",
      "[Parallel(n_jobs=6)]: Using backend LokyBackend with 6 concurrent workers.\n",
      "[Parallel(n_jobs=6)]: Done  70 out of  70 | elapsed:    0.0s finished\n",
      "[Parallel(n_jobs=6)]: Using backend LokyBackend with 6 concurrent workers.\n"
     ]
    },
    {
     "name": "stdout",
     "output_type": "stream",
     "text": [
      "GAIN! 1.0017606952920242\n",
      "portfolio value: 78.47678503170152\n",
      "Fitting 10 folds for each of 7 candidates, totalling 70 fits\n",
      "GAIN! 1.002075022028658\n",
      "portfolio value: 78.63962608938057\n",
      "Fitting 10 folds for each of 7 candidates, totalling 70 fits\n"
     ]
    },
    {
     "name": "stderr",
     "output_type": "stream",
     "text": [
      "[Parallel(n_jobs=6)]: Done  70 out of  70 | elapsed:    0.0s finished\n",
      "[Parallel(n_jobs=6)]: Using backend LokyBackend with 6 concurrent workers.\n",
      "[Parallel(n_jobs=6)]: Done  70 out of  70 | elapsed:    0.0s finished\n",
      "[Parallel(n_jobs=6)]: Using backend LokyBackend with 6 concurrent workers.\n"
     ]
    },
    {
     "name": "stdout",
     "output_type": "stream",
     "text": [
      "LOSS! 0.9969093942423946\n",
      "portfolio value: 78.39658200821279\n",
      "Fitting 10 folds for each of 7 candidates, totalling 70 fits\n",
      "GAIN! 1.0176557462355866\n",
      "portfolio value: 79.78073216588714\n",
      "Fitting 10 folds for each of 7 candidates, totalling 70 fits\n"
     ]
    },
    {
     "name": "stderr",
     "output_type": "stream",
     "text": [
      "[Parallel(n_jobs=6)]: Done  70 out of  70 | elapsed:    0.0s finished\n",
      "[Parallel(n_jobs=6)]: Using backend LokyBackend with 6 concurrent workers.\n",
      "[Parallel(n_jobs=6)]: Done  70 out of  70 | elapsed:    0.0s finished\n",
      "[Parallel(n_jobs=6)]: Using backend LokyBackend with 6 concurrent workers.\n"
     ]
    },
    {
     "name": "stdout",
     "output_type": "stream",
     "text": [
      "LOSS! 0.996325309548212\n",
      "portfolio value: 79.4875626711605\n",
      "Fitting 10 folds for each of 7 candidates, totalling 70 fits\n",
      "LOSS! 0.9877298617063056\n",
      "portfolio value: 78.51223928455667\n",
      "Fitting 10 folds for each of 7 candidates, totalling 70 fits\n"
     ]
    },
    {
     "name": "stderr",
     "output_type": "stream",
     "text": [
      "[Parallel(n_jobs=6)]: Done  70 out of  70 | elapsed:    0.0s finished\n",
      "[Parallel(n_jobs=6)]: Using backend LokyBackend with 6 concurrent workers.\n",
      "[Parallel(n_jobs=6)]: Done  70 out of  70 | elapsed:    0.0s finished\n",
      "[Parallel(n_jobs=6)]: Using backend LokyBackend with 6 concurrent workers.\n"
     ]
    },
    {
     "name": "stdout",
     "output_type": "stream",
     "text": [
      "GAIN! 1.001382757026138\n",
      "portfolio value: 78.62080263506522\n",
      "Fitting 10 folds for each of 7 candidates, totalling 70 fits\n",
      "LOSS! 0.9983823149741556\n",
      "portfolio value: 78.49361893992261\n",
      "Fitting 10 folds for each of 7 candidates, totalling 70 fits\n"
     ]
    },
    {
     "name": "stderr",
     "output_type": "stream",
     "text": [
      "[Parallel(n_jobs=6)]: Done  70 out of  70 | elapsed:    0.0s finished\n",
      "[Parallel(n_jobs=6)]: Using backend LokyBackend with 6 concurrent workers.\n",
      "[Parallel(n_jobs=6)]: Done  70 out of  70 | elapsed:    0.0s finished\n",
      "[Parallel(n_jobs=6)]: Using backend LokyBackend with 6 concurrent workers.\n"
     ]
    },
    {
     "name": "stdout",
     "output_type": "stream",
     "text": [
      "GAIN! 1.0048116416059942\n",
      "portfolio value: 78.871302102619\n",
      "Fitting 10 folds for each of 7 candidates, totalling 70 fits\n",
      "GAIN! 1.008721858701773\n",
      "portfolio value: 79.55920645518289\n",
      "Fitting 10 folds for each of 7 candidates, totalling 70 fits\n"
     ]
    },
    {
     "name": "stderr",
     "output_type": "stream",
     "text": [
      "[Parallel(n_jobs=6)]: Done  70 out of  70 | elapsed:    0.0s finished\n",
      "[Parallel(n_jobs=6)]: Using backend LokyBackend with 6 concurrent workers.\n",
      "[Parallel(n_jobs=6)]: Done  70 out of  70 | elapsed:    0.0s finished\n",
      "[Parallel(n_jobs=6)]: Using backend LokyBackend with 6 concurrent workers.\n"
     ]
    },
    {
     "name": "stdout",
     "output_type": "stream",
     "text": [
      "portfolio value: 79.55920645518289\n",
      "Fitting 10 folds for each of 7 candidates, totalling 70 fits\n",
      "LOSS! 0.9944436667083045\n",
      "portfolio value: 79.11714898769509\n",
      "Fitting 10 folds for each of 7 candidates, totalling 70 fits\n"
     ]
    },
    {
     "name": "stderr",
     "output_type": "stream",
     "text": [
      "[Parallel(n_jobs=6)]: Done  70 out of  70 | elapsed:    0.0s finished\n",
      "[Parallel(n_jobs=6)]: Using backend LokyBackend with 6 concurrent workers.\n",
      "[Parallel(n_jobs=6)]: Done  70 out of  70 | elapsed:    0.0s finished\n",
      "[Parallel(n_jobs=6)]: Using backend LokyBackend with 6 concurrent workers.\n"
     ]
    },
    {
     "name": "stdout",
     "output_type": "stream",
     "text": [
      "GAIN! 1.0006299846650621\n",
      "portfolio value: 79.16699157830077\n",
      "Fitting 10 folds for each of 7 candidates, totalling 70 fits\n",
      "GAIN! 1.0095465490601532\n",
      "portfolio value: 79.92276314734775\n",
      "Fitting 10 folds for each of 7 candidates, totalling 70 fits\n"
     ]
    },
    {
     "name": "stderr",
     "output_type": "stream",
     "text": [
      "[Parallel(n_jobs=6)]: Done  70 out of  70 | elapsed:    0.0s finished\n",
      "[Parallel(n_jobs=6)]: Using backend LokyBackend with 6 concurrent workers.\n",
      "[Parallel(n_jobs=6)]: Done  70 out of  70 | elapsed:    0.0s finished\n",
      "[Parallel(n_jobs=6)]: Using backend LokyBackend with 6 concurrent workers.\n"
     ]
    },
    {
     "name": "stdout",
     "output_type": "stream",
     "text": [
      "GAIN! 1.004098063736703\n",
      "portfolio value: 80.250291724739\n",
      "Fitting 10 folds for each of 7 candidates, totalling 70 fits\n",
      "LOSS! 0.9866240033477055\n",
      "portfolio value: 79.17686409128324\n",
      "Fitting 10 folds for each of 7 candidates, totalling 70 fits\n"
     ]
    },
    {
     "name": "stderr",
     "output_type": "stream",
     "text": [
      "[Parallel(n_jobs=6)]: Done  70 out of  70 | elapsed:    0.0s finished\n",
      "[Parallel(n_jobs=6)]: Using backend LokyBackend with 6 concurrent workers.\n",
      "[Parallel(n_jobs=6)]: Done  70 out of  70 | elapsed:    0.0s finished\n",
      "[Parallel(n_jobs=6)]: Using backend LokyBackend with 6 concurrent workers.\n"
     ]
    },
    {
     "name": "stdout",
     "output_type": "stream",
     "text": [
      "LOSS! 0.9988714483834598\n",
      "portfolio value: 79.08750891332043\n",
      "Fitting 10 folds for each of 7 candidates, totalling 70 fits\n",
      "GAIN! 1.0032597492971125\n",
      "portfolio value: 79.345314364911\n",
      "Fitting 10 folds for each of 7 candidates, totalling 70 fits\n"
     ]
    },
    {
     "name": "stderr",
     "output_type": "stream",
     "text": [
      "[Parallel(n_jobs=6)]: Done  70 out of  70 | elapsed:    0.0s finished\n",
      "[Parallel(n_jobs=6)]: Using backend LokyBackend with 6 concurrent workers.\n",
      "[Parallel(n_jobs=6)]: Done  70 out of  70 | elapsed:    0.0s finished\n",
      "[Parallel(n_jobs=6)]: Using backend LokyBackend with 6 concurrent workers.\n"
     ]
    },
    {
     "name": "stdout",
     "output_type": "stream",
     "text": [
      "LOSS! 0.9967794709956359\n",
      "portfolio value: 79.08978047863842\n",
      "Fitting 10 folds for each of 7 candidates, totalling 70 fits\n",
      "LOSS! 0.9848308833602322\n",
      "portfolio value: 77.89005837354432\n",
      "Fitting 10 folds for each of 7 candidates, totalling 70 fits\n"
     ]
    },
    {
     "name": "stderr",
     "output_type": "stream",
     "text": [
      "[Parallel(n_jobs=6)]: Done  70 out of  70 | elapsed:    0.0s finished\n",
      "[Parallel(n_jobs=6)]: Using backend LokyBackend with 6 concurrent workers.\n",
      "[Parallel(n_jobs=6)]: Done  70 out of  70 | elapsed:    0.0s finished\n",
      "[Parallel(n_jobs=6)]: Using backend LokyBackend with 6 concurrent workers.\n"
     ]
    },
    {
     "name": "stdout",
     "output_type": "stream",
     "text": [
      "GAIN! 1.0039937357458293\n",
      "portfolio value: 78.20113068391548\n",
      "Fitting 10 folds for each of 7 candidates, totalling 70 fits\n",
      "GAIN! 1.0258069702889194\n",
      "portfolio value: 80.21926494003519\n",
      "Fitting 10 folds for each of 7 candidates, totalling 70 fits\n"
     ]
    },
    {
     "name": "stderr",
     "output_type": "stream",
     "text": [
      "[Parallel(n_jobs=6)]: Done  70 out of  70 | elapsed:    0.0s finished\n",
      "[Parallel(n_jobs=6)]: Using backend LokyBackend with 6 concurrent workers.\n",
      "[Parallel(n_jobs=6)]: Done  70 out of  70 | elapsed:    0.0s finished\n",
      "[Parallel(n_jobs=6)]: Using backend LokyBackend with 6 concurrent workers.\n"
     ]
    },
    {
     "name": "stdout",
     "output_type": "stream",
     "text": [
      "LOSS! 0.9954796542932682\n",
      "portfolio value: 79.85664613016633\n",
      "Fitting 10 folds for each of 7 candidates, totalling 70 fits\n",
      "GAIN! 1.0073924510176457\n",
      "portfolio value: 80.44698247511705\n",
      "Fitting 10 folds for each of 7 candidates, totalling 70 fits\n"
     ]
    },
    {
     "name": "stderr",
     "output_type": "stream",
     "text": [
      "[Parallel(n_jobs=6)]: Done  70 out of  70 | elapsed:    0.0s finished\n",
      "[Parallel(n_jobs=6)]: Using backend LokyBackend with 6 concurrent workers.\n",
      "[Parallel(n_jobs=6)]: Done  70 out of  70 | elapsed:    0.0s finished\n",
      "[Parallel(n_jobs=6)]: Using backend LokyBackend with 6 concurrent workers.\n"
     ]
    },
    {
     "name": "stdout",
     "output_type": "stream",
     "text": [
      "GAIN! 1.00354922831579\n",
      "portfolio value: 80.7325071832376\n",
      "Fitting 10 folds for each of 7 candidates, totalling 70 fits\n",
      "LOSS! 0.9999873929201017\n",
      "portfolio value: 80.73148938206916\n",
      "Fitting 10 folds for each of 7 candidates, totalling 70 fits\n"
     ]
    },
    {
     "name": "stderr",
     "output_type": "stream",
     "text": [
      "[Parallel(n_jobs=6)]: Done  70 out of  70 | elapsed:    0.0s finished\n",
      "[Parallel(n_jobs=6)]: Using backend LokyBackend with 6 concurrent workers.\n",
      "[Parallel(n_jobs=6)]: Done  70 out of  70 | elapsed:    0.0s finished\n",
      "[Parallel(n_jobs=6)]: Using backend LokyBackend with 6 concurrent workers.\n"
     ]
    },
    {
     "name": "stdout",
     "output_type": "stream",
     "text": [
      "GAIN! 1.1739168890912894\n",
      "portfolio value: 94.77205886710509\n",
      "Fitting 10 folds for each of 7 candidates, totalling 70 fits\n",
      "GAIN! 1.0190706487012307\n",
      "portfolio value: 96.579423508452\n",
      "Fitting 10 folds for each of 7 candidates, totalling 70 fits\n"
     ]
    },
    {
     "name": "stderr",
     "output_type": "stream",
     "text": [
      "[Parallel(n_jobs=6)]: Done  70 out of  70 | elapsed:    0.0s finished\n",
      "[Parallel(n_jobs=6)]: Using backend LokyBackend with 6 concurrent workers.\n",
      "[Parallel(n_jobs=6)]: Done  70 out of  70 | elapsed:    0.0s finished\n",
      "[Parallel(n_jobs=6)]: Using backend LokyBackend with 6 concurrent workers.\n"
     ]
    },
    {
     "name": "stdout",
     "output_type": "stream",
     "text": [
      "LOSS! 0.9902422475537848\n",
      "portfolio value: 95.63702540245833\n",
      "Fitting 10 folds for each of 7 candidates, totalling 70 fits\n",
      "GAIN! 1.0231321316493\n",
      "portfolio value: 97.84931366461545\n",
      "Fitting 10 folds for each of 7 candidates, totalling 70 fits\n"
     ]
    },
    {
     "name": "stderr",
     "output_type": "stream",
     "text": [
      "[Parallel(n_jobs=6)]: Done  70 out of  70 | elapsed:    0.0s finished\n",
      "[Parallel(n_jobs=6)]: Using backend LokyBackend with 6 concurrent workers.\n",
      "[Parallel(n_jobs=6)]: Done  70 out of  70 | elapsed:    0.0s finished\n",
      "[Parallel(n_jobs=6)]: Using backend LokyBackend with 6 concurrent workers.\n"
     ]
    },
    {
     "name": "stdout",
     "output_type": "stream",
     "text": [
      "GAIN! 1.0045712448785074\n",
      "portfolio value: 98.29660683857028\n",
      "Fitting 10 folds for each of 7 candidates, totalling 70 fits\n",
      "GAIN! 1.026882987696895\n",
      "portfolio value: 100.93911331085809\n",
      "Fitting 10 folds for each of 7 candidates, totalling 70 fits\n"
     ]
    },
    {
     "name": "stderr",
     "output_type": "stream",
     "text": [
      "[Parallel(n_jobs=6)]: Done  70 out of  70 | elapsed:    0.0s finished\n",
      "[Parallel(n_jobs=6)]: Using backend LokyBackend with 6 concurrent workers.\n",
      "[Parallel(n_jobs=6)]: Done  70 out of  70 | elapsed:    0.0s finished\n",
      "[Parallel(n_jobs=6)]: Using backend LokyBackend with 6 concurrent workers.\n"
     ]
    },
    {
     "name": "stdout",
     "output_type": "stream",
     "text": [
      "GAIN! 1.017295844792264\n",
      "portfolio value: 102.68494054815145\n",
      "Fitting 10 folds for each of 7 candidates, totalling 70 fits\n",
      "LOSS! 0.9839393591435359\n",
      "portfolio value: 101.03575459664022\n",
      "Fitting 10 folds for each of 7 candidates, totalling 70 fits\n"
     ]
    },
    {
     "name": "stderr",
     "output_type": "stream",
     "text": [
      "[Parallel(n_jobs=6)]: Done  70 out of  70 | elapsed:    0.1s finished\n",
      "[Parallel(n_jobs=6)]: Using backend LokyBackend with 6 concurrent workers.\n",
      "[Parallel(n_jobs=6)]: Done  70 out of  70 | elapsed:    0.0s finished\n",
      "[Parallel(n_jobs=6)]: Using backend LokyBackend with 6 concurrent workers.\n"
     ]
    },
    {
     "name": "stdout",
     "output_type": "stream",
     "text": [
      "GAIN! 1.0231444750276038\n",
      "portfolio value: 103.37417409579726\n",
      "Fitting 10 folds for each of 7 candidates, totalling 70 fits\n",
      "LOSS! 0.9510629559571555\n",
      "portfolio value: 98.31534758517856\n",
      "Fitting 10 folds for each of 7 candidates, totalling 70 fits\n"
     ]
    },
    {
     "name": "stderr",
     "output_type": "stream",
     "text": [
      "[Parallel(n_jobs=6)]: Done  70 out of  70 | elapsed:    0.0s finished\n",
      "[Parallel(n_jobs=6)]: Using backend LokyBackend with 6 concurrent workers.\n",
      "[Parallel(n_jobs=6)]: Done  70 out of  70 | elapsed:    0.0s finished\n",
      "[Parallel(n_jobs=6)]: Using backend LokyBackend with 6 concurrent workers.\n"
     ]
    },
    {
     "name": "stdout",
     "output_type": "stream",
     "text": [
      "GAIN! 1.0055991415234948\n",
      "portfolio value: 98.86582913023956\n",
      "Fitting 10 folds for each of 7 candidates, totalling 70 fits\n",
      "GAIN! 1.0015202507396639\n",
      "portfolio value: 99.01612998010229\n",
      "Fitting 10 folds for each of 7 candidates, totalling 70 fits\n"
     ]
    },
    {
     "name": "stderr",
     "output_type": "stream",
     "text": [
      "[Parallel(n_jobs=6)]: Done  70 out of  70 | elapsed:    0.0s finished\n",
      "[Parallel(n_jobs=6)]: Using backend LokyBackend with 6 concurrent workers.\n",
      "[Parallel(n_jobs=6)]: Done  70 out of  70 | elapsed:    0.0s finished\n",
      "[Parallel(n_jobs=6)]: Using backend LokyBackend with 6 concurrent workers.\n"
     ]
    },
    {
     "name": "stdout",
     "output_type": "stream",
     "text": [
      "GAIN! 1.0141222106236094\n",
      "portfolio value: 100.41445662281598\n",
      "Fitting 10 folds for each of 7 candidates, totalling 70 fits\n",
      "LOSS! 0.9806063211806089\n",
      "portfolio value: 98.4670509022494\n",
      "Fitting 10 folds for each of 7 candidates, totalling 70 fits\n"
     ]
    },
    {
     "name": "stderr",
     "output_type": "stream",
     "text": [
      "[Parallel(n_jobs=6)]: Done  70 out of  70 | elapsed:    0.0s finished\n",
      "[Parallel(n_jobs=6)]: Using backend LokyBackend with 6 concurrent workers.\n",
      "[Parallel(n_jobs=6)]: Done  70 out of  70 | elapsed:    0.0s finished\n",
      "[Parallel(n_jobs=6)]: Using backend LokyBackend with 6 concurrent workers.\n"
     ]
    },
    {
     "name": "stdout",
     "output_type": "stream",
     "text": [
      "GAIN! 1.0333522834761468\n",
      "portfolio value: 101.75115189700139\n",
      "Fitting 10 folds for each of 7 candidates, totalling 70 fits\n",
      "GAIN! 1.0030180149306134\n",
      "portfolio value: 102.05823839263365\n",
      "Fitting 10 folds for each of 7 candidates, totalling 70 fits\n"
     ]
    },
    {
     "name": "stderr",
     "output_type": "stream",
     "text": [
      "[Parallel(n_jobs=6)]: Done  70 out of  70 | elapsed:    0.0s finished\n",
      "[Parallel(n_jobs=6)]: Using backend LokyBackend with 6 concurrent workers.\n",
      "[Parallel(n_jobs=6)]: Done  70 out of  70 | elapsed:    0.0s finished\n",
      "[Parallel(n_jobs=6)]: Using backend LokyBackend with 6 concurrent workers.\n"
     ]
    },
    {
     "name": "stdout",
     "output_type": "stream",
     "text": [
      "GAIN! 1.0089318190778047\n",
      "portfolio value: 102.96980411335612\n",
      "Fitting 10 folds for each of 7 candidates, totalling 70 fits\n",
      "GAIN! 1.0010679574070422\n",
      "portfolio value: 103.07977147836067\n",
      "Fitting 10 folds for each of 7 candidates, totalling 70 fits\n"
     ]
    },
    {
     "name": "stderr",
     "output_type": "stream",
     "text": [
      "[Parallel(n_jobs=6)]: Done  70 out of  70 | elapsed:    0.0s finished\n",
      "[Parallel(n_jobs=6)]: Using backend LokyBackend with 6 concurrent workers.\n",
      "[Parallel(n_jobs=6)]: Done  70 out of  70 | elapsed:    0.1s finished\n"
     ]
    },
    {
     "name": "stdout",
     "output_type": "stream",
     "text": [
      "GAIN! 1.0063583266416096\n",
      "portfolio value: 103.73518633556256\n",
      "Fitting 10 folds for each of 7 candidates, totalling 70 fits\n",
      "LOSS! 0.9959992240031919\n",
      "portfolio value: 103.32016509204682\n",
      "Fitting 10 folds for each of 7 candidates, totalling 70 fits\n"
     ]
    },
    {
     "name": "stderr",
     "output_type": "stream",
     "text": [
      "[Parallel(n_jobs=6)]: Using backend LokyBackend with 6 concurrent workers.\n",
      "[Parallel(n_jobs=6)]: Done  70 out of  70 | elapsed:    0.1s finished\n",
      "[Parallel(n_jobs=6)]: Using backend LokyBackend with 6 concurrent workers.\n"
     ]
    },
    {
     "name": "stdout",
     "output_type": "stream",
     "text": [
      "GAIN! 1.0163521305030732\n",
      "portfolio value: 105.00966991523103\n",
      "Fitting 10 folds for each of 7 candidates, totalling 70 fits\n",
      "GAIN! 1.0320400770453633\n",
      "portfolio value: 108.3741878298232\n",
      "Fitting 10 folds for each of 7 candidates, totalling 70 fits\n"
     ]
    },
    {
     "name": "stderr",
     "output_type": "stream",
     "text": [
      "[Parallel(n_jobs=6)]: Done  70 out of  70 | elapsed:    0.0s finished\n",
      "[Parallel(n_jobs=6)]: Using backend LokyBackend with 6 concurrent workers.\n",
      "[Parallel(n_jobs=6)]: Done  70 out of  70 | elapsed:    0.1s finished\n",
      "[Parallel(n_jobs=6)]: Using backend LokyBackend with 6 concurrent workers.\n"
     ]
    },
    {
     "name": "stdout",
     "output_type": "stream",
     "text": [
      "LOSS! 0.9808594736280755\n",
      "portfolio value: 106.29984882963056\n",
      "Fitting 10 folds for each of 7 candidates, totalling 70 fits\n",
      "LOSS! 0.9531679052957445\n",
      "portfolio value: 101.32160424219326\n",
      "Fitting 10 folds for each of 7 candidates, totalling 70 fits\n"
     ]
    },
    {
     "name": "stderr",
     "output_type": "stream",
     "text": [
      "[Parallel(n_jobs=6)]: Done  70 out of  70 | elapsed:    0.0s finished\n",
      "[Parallel(n_jobs=6)]: Using backend LokyBackend with 6 concurrent workers.\n",
      "[Parallel(n_jobs=6)]: Done  70 out of  70 | elapsed:    0.1s finished\n"
     ]
    },
    {
     "name": "stdout",
     "output_type": "stream",
     "text": [
      "GAIN! 1.0132513281223057\n",
      "portfolio value: 102.66425006588496\n",
      "Fitting 10 folds for each of 7 candidates, totalling 70 fits\n",
      "LOSS! 0.997882330374404\n",
      "portfolio value: 102.44684110188584\n",
      "Fitting 10 folds for each of 7 candidates, totalling 70 fits\n"
     ]
    },
    {
     "name": "stderr",
     "output_type": "stream",
     "text": [
      "[Parallel(n_jobs=6)]: Using backend LokyBackend with 6 concurrent workers.\n",
      "[Parallel(n_jobs=6)]: Done  70 out of  70 | elapsed:    0.0s finished\n",
      "[Parallel(n_jobs=6)]: Using backend LokyBackend with 6 concurrent workers.\n",
      "[Parallel(n_jobs=6)]: Done  70 out of  70 | elapsed:    0.0s finished\n",
      "[Parallel(n_jobs=6)]: Using backend LokyBackend with 6 concurrent workers.\n",
      "[Parallel(n_jobs=6)]: Done  70 out of  70 | elapsed:    0.0s finished\n",
      "[Parallel(n_jobs=6)]: Using backend LokyBackend with 6 concurrent workers.\n"
     ]
    },
    {
     "name": "stdout",
     "output_type": "stream",
     "text": [
      "GAIN! 1.0025404442183636\n",
      "portfolio value: 102.70710158705275\n",
      "Fitting 10 folds for each of 7 candidates, totalling 70 fits\n",
      "LOSS! 0.9929031477198919\n",
      "portfolio value: 101.97820445897138\n",
      "Fitting 10 folds for each of 7 candidates, totalling 70 fits\n"
     ]
    },
    {
     "name": "stderr",
     "output_type": "stream",
     "text": [
      "[Parallel(n_jobs=6)]: Done  70 out of  70 | elapsed:    0.0s finished\n",
      "[Parallel(n_jobs=6)]: Using backend LokyBackend with 6 concurrent workers.\n",
      "[Parallel(n_jobs=6)]: Done  70 out of  70 | elapsed:    0.0s finished\n",
      "[Parallel(n_jobs=6)]: Using backend LokyBackend with 6 concurrent workers.\n"
     ]
    },
    {
     "name": "stdout",
     "output_type": "stream",
     "text": [
      "GAIN! 1.0196276419204262\n",
      "portfolio value: 103.97979613978008\n",
      "Fitting 10 folds for each of 7 candidates, totalling 70 fits\n",
      "GAIN! 1.00967735783338\n",
      "portfolio value: 104.98604583446664\n",
      "Fitting 10 folds for each of 7 candidates, totalling 70 fits\n"
     ]
    },
    {
     "name": "stderr",
     "output_type": "stream",
     "text": [
      "[Parallel(n_jobs=6)]: Done  70 out of  70 | elapsed:    0.0s finished\n",
      "[Parallel(n_jobs=6)]: Using backend LokyBackend with 6 concurrent workers.\n",
      "[Parallel(n_jobs=6)]: Done  70 out of  70 | elapsed:    0.0s finished\n",
      "[Parallel(n_jobs=6)]: Using backend LokyBackend with 6 concurrent workers.\n"
     ]
    },
    {
     "name": "stdout",
     "output_type": "stream",
     "text": [
      "GAIN! 1.019039760986869\n",
      "portfolio value: 106.98495505411137\n",
      "Fitting 10 folds for each of 7 candidates, totalling 70 fits\n",
      "GAIN! 1.0477222434632085\n",
      "portfolio value: 112.09051712610409\n",
      "Fitting 10 folds for each of 7 candidates, totalling 70 fits\n"
     ]
    },
    {
     "name": "stderr",
     "output_type": "stream",
     "text": [
      "[Parallel(n_jobs=6)]: Done  70 out of  70 | elapsed:    0.0s finished\n",
      "[Parallel(n_jobs=6)]: Using backend LokyBackend with 6 concurrent workers.\n",
      "[Parallel(n_jobs=6)]: Done  70 out of  70 | elapsed:    0.0s finished\n",
      "[Parallel(n_jobs=6)]: Using backend LokyBackend with 6 concurrent workers.\n"
     ]
    },
    {
     "name": "stdout",
     "output_type": "stream",
     "text": [
      "GAIN! 1.0107406252912001\n",
      "portfolio value: 113.29443936925243\n",
      "Fitting 10 folds for each of 7 candidates, totalling 70 fits\n",
      "LOSS! 0.9939359545966564\n",
      "portfolio value: 112.60741674497092\n",
      "Fitting 10 folds for each of 7 candidates, totalling 70 fits\n"
     ]
    },
    {
     "name": "stderr",
     "output_type": "stream",
     "text": [
      "[Parallel(n_jobs=6)]: Done  70 out of  70 | elapsed:    0.0s finished\n",
      "[Parallel(n_jobs=6)]: Using backend LokyBackend with 6 concurrent workers.\n",
      "[Parallel(n_jobs=6)]: Done  70 out of  70 | elapsed:    0.0s finished\n",
      "[Parallel(n_jobs=6)]: Using backend LokyBackend with 6 concurrent workers.\n"
     ]
    },
    {
     "name": "stdout",
     "output_type": "stream",
     "text": [
      "LOSS! 0.9922498952061934\n",
      "portfolio value: 111.73469746463755\n",
      "Fitting 10 folds for each of 7 candidates, totalling 70 fits\n",
      "GAIN! 1.0146028885729201\n",
      "portfolio value: 113.36634680144259\n",
      "Fitting 10 folds for each of 7 candidates, totalling 70 fits\n"
     ]
    },
    {
     "name": "stderr",
     "output_type": "stream",
     "text": [
      "[Parallel(n_jobs=6)]: Done  70 out of  70 | elapsed:    0.0s finished\n",
      "[Parallel(n_jobs=6)]: Using backend LokyBackend with 6 concurrent workers.\n",
      "[Parallel(n_jobs=6)]: Done  70 out of  70 | elapsed:    0.0s finished\n",
      "[Parallel(n_jobs=6)]: Using backend LokyBackend with 6 concurrent workers.\n"
     ]
    },
    {
     "name": "stdout",
     "output_type": "stream",
     "text": [
      "GAIN! 1.0227329679497164\n",
      "portfolio value: 115.9435003298562\n",
      "Fitting 10 folds for each of 7 candidates, totalling 70 fits\n",
      "GAIN! 1.032130096319034\n",
      "portfolio value: 119.66877616302044\n",
      "Fitting 10 folds for each of 7 candidates, totalling 70 fits\n"
     ]
    },
    {
     "name": "stderr",
     "output_type": "stream",
     "text": [
      "[Parallel(n_jobs=6)]: Done  70 out of  70 | elapsed:    0.0s finished\n",
      "[Parallel(n_jobs=6)]: Using backend LokyBackend with 6 concurrent workers.\n",
      "[Parallel(n_jobs=6)]: Done  70 out of  70 | elapsed:    0.1s finished\n",
      "[Parallel(n_jobs=6)]: Using backend LokyBackend with 6 concurrent workers.\n"
     ]
    },
    {
     "name": "stdout",
     "output_type": "stream",
     "text": [
      "GAIN! 1.0328743837505836\n",
      "portfolio value: 123.60281343356627\n",
      "Fitting 10 folds for each of 7 candidates, totalling 70 fits\n",
      "GAIN! 1.129333473549312\n",
      "portfolio value: 139.58879463539694\n",
      "Fitting 10 folds for each of 7 candidates, totalling 70 fits\n"
     ]
    },
    {
     "name": "stderr",
     "output_type": "stream",
     "text": [
      "[Parallel(n_jobs=6)]: Done  70 out of  70 | elapsed:    0.0s finished\n",
      "[Parallel(n_jobs=6)]: Using backend LokyBackend with 6 concurrent workers.\n",
      "[Parallel(n_jobs=6)]: Done  70 out of  70 | elapsed:    0.0s finished\n",
      "[Parallel(n_jobs=6)]: Using backend LokyBackend with 6 concurrent workers.\n"
     ]
    },
    {
     "name": "stdout",
     "output_type": "stream",
     "text": [
      "LOSS! 0.9679134438566608\n",
      "portfolio value: 135.10987093934722\n",
      "Fitting 10 folds for each of 7 candidates, totalling 70 fits\n",
      "GAIN! 1.121032168373506\n",
      "portfolio value: 151.46251158780098\n",
      "Fitting 10 folds for each of 7 candidates, totalling 70 fits\n"
     ]
    },
    {
     "name": "stderr",
     "output_type": "stream",
     "text": [
      "[Parallel(n_jobs=6)]: Done  70 out of  70 | elapsed:    0.0s finished\n",
      "[Parallel(n_jobs=6)]: Using backend LokyBackend with 6 concurrent workers.\n",
      "[Parallel(n_jobs=6)]: Done  70 out of  70 | elapsed:    0.0s finished\n",
      "[Parallel(n_jobs=6)]: Using backend LokyBackend with 6 concurrent workers.\n"
     ]
    },
    {
     "name": "stdout",
     "output_type": "stream",
     "text": [
      "GAIN! 1.0238901771152669\n",
      "portfolio value: 155.0809778159567\n",
      "Fitting 10 folds for each of 7 candidates, totalling 70 fits\n",
      "GAIN! 1.02701005650877\n",
      "portfolio value: 159.269723790201\n",
      "Fitting 10 folds for each of 7 candidates, totalling 70 fits\n"
     ]
    },
    {
     "name": "stderr",
     "output_type": "stream",
     "text": [
      "[Parallel(n_jobs=6)]: Done  70 out of  70 | elapsed:    0.0s finished\n",
      "[Parallel(n_jobs=6)]: Using backend LokyBackend with 6 concurrent workers.\n",
      "[Parallel(n_jobs=6)]: Done  70 out of  70 | elapsed:    0.0s finished\n",
      "[Parallel(n_jobs=6)]: Using backend LokyBackend with 6 concurrent workers.\n"
     ]
    },
    {
     "name": "stdout",
     "output_type": "stream",
     "text": [
      "LOSS! 0.9622195667850332\n",
      "portfolio value: 153.2524446273791\n",
      "Fitting 10 folds for each of 7 candidates, totalling 70 fits\n",
      "LOSS! 0.9311480431667718\n",
      "portfolio value: 142.7007139253081\n",
      "Fitting 10 folds for each of 7 candidates, totalling 70 fits\n"
     ]
    },
    {
     "name": "stderr",
     "output_type": "stream",
     "text": [
      "[Parallel(n_jobs=6)]: Done  70 out of  70 | elapsed:    0.0s finished\n",
      "[Parallel(n_jobs=6)]: Using backend LokyBackend with 6 concurrent workers.\n",
      "[Parallel(n_jobs=6)]: Done  70 out of  70 | elapsed:    0.1s finished\n",
      "[Parallel(n_jobs=6)]: Using backend LokyBackend with 6 concurrent workers.\n"
     ]
    },
    {
     "name": "stdout",
     "output_type": "stream",
     "text": [
      "LOSS! 0.9904031922895126\n",
      "portfolio value: 141.33124261361763\n",
      "Fitting 10 folds for each of 7 candidates, totalling 70 fits\n",
      "GAIN! 1.1279212038491915\n",
      "portfolio value: 159.41050531025374\n",
      "Fitting 10 folds for each of 7 candidates, totalling 70 fits\n"
     ]
    },
    {
     "name": "stderr",
     "output_type": "stream",
     "text": [
      "[Parallel(n_jobs=6)]: Done  70 out of  70 | elapsed:    0.0s finished\n",
      "[Parallel(n_jobs=6)]: Using backend LokyBackend with 6 concurrent workers.\n",
      "[Parallel(n_jobs=6)]: Done  70 out of  70 | elapsed:    0.0s finished\n",
      "[Parallel(n_jobs=6)]: Using backend LokyBackend with 6 concurrent workers.\n"
     ]
    },
    {
     "name": "stdout",
     "output_type": "stream",
     "text": [
      "LOSS! 0.9733296599214882\n",
      "portfolio value: 155.15897292154187\n",
      "Fitting 10 folds for each of 7 candidates, totalling 70 fits\n",
      "LOSS! 0.9981647457986872\n",
      "portfolio value: 154.87421676461622\n",
      "Fitting 10 folds for each of 7 candidates, totalling 70 fits\n"
     ]
    },
    {
     "name": "stderr",
     "output_type": "stream",
     "text": [
      "[Parallel(n_jobs=6)]: Done  70 out of  70 | elapsed:    0.0s finished\n",
      "[Parallel(n_jobs=6)]: Using backend LokyBackend with 6 concurrent workers.\n",
      "[Parallel(n_jobs=6)]: Done  70 out of  70 | elapsed:    0.0s finished\n",
      "[Parallel(n_jobs=6)]: Using backend LokyBackend with 6 concurrent workers.\n"
     ]
    },
    {
     "name": "stdout",
     "output_type": "stream",
     "text": [
      "LOSS! 0.9652821205897504\n",
      "portfolio value: 149.49731238322542\n",
      "Fitting 10 folds for each of 7 candidates, totalling 70 fits\n",
      "GAIN! 1.026647188677869\n",
      "portfolio value: 153.48099547313555\n",
      "Fitting 10 folds for each of 7 candidates, totalling 70 fits\n"
     ]
    },
    {
     "name": "stderr",
     "output_type": "stream",
     "text": [
      "[Parallel(n_jobs=6)]: Done  70 out of  70 | elapsed:    0.1s finished\n",
      "[Parallel(n_jobs=6)]: Using backend LokyBackend with 6 concurrent workers.\n",
      "[Parallel(n_jobs=6)]: Done  70 out of  70 | elapsed:    0.0s finished\n",
      "[Parallel(n_jobs=6)]: Using backend LokyBackend with 6 concurrent workers.\n"
     ]
    },
    {
     "name": "stdout",
     "output_type": "stream",
     "text": [
      "portfolio value: 153.48099547313555\n",
      "Fitting 10 folds for each of 7 candidates, totalling 70 fits\n",
      "portfolio value: 153.48099547313555\n",
      "Fitting 10 folds for each of 7 candidates, totalling 70 fits\n"
     ]
    },
    {
     "name": "stderr",
     "output_type": "stream",
     "text": [
      "[Parallel(n_jobs=6)]: Done  70 out of  70 | elapsed:    0.0s finished\n",
      "[Parallel(n_jobs=6)]: Using backend LokyBackend with 6 concurrent workers.\n",
      "[Parallel(n_jobs=6)]: Done  70 out of  70 | elapsed:    0.0s finished\n",
      "[Parallel(n_jobs=6)]: Using backend LokyBackend with 6 concurrent workers.\n"
     ]
    },
    {
     "name": "stdout",
     "output_type": "stream",
     "text": [
      "portfolio value: 153.48099547313555\n",
      "Fitting 10 folds for each of 7 candidates, totalling 70 fits\n",
      "portfolio value: 153.48099547313555\n",
      "Fitting 10 folds for each of 7 candidates, totalling 70 fits\n"
     ]
    },
    {
     "name": "stderr",
     "output_type": "stream",
     "text": [
      "[Parallel(n_jobs=6)]: Done  70 out of  70 | elapsed:    0.0s finished\n",
      "[Parallel(n_jobs=6)]: Using backend LokyBackend with 6 concurrent workers.\n",
      "[Parallel(n_jobs=6)]: Done  70 out of  70 | elapsed:    0.0s finished\n",
      "[Parallel(n_jobs=6)]: Using backend LokyBackend with 6 concurrent workers.\n"
     ]
    },
    {
     "name": "stdout",
     "output_type": "stream",
     "text": [
      "portfolio value: 153.48099547313555\n",
      "Fitting 10 folds for each of 7 candidates, totalling 70 fits\n",
      "portfolio value: 153.48099547313555\n",
      "Fitting 10 folds for each of 7 candidates, totalling 70 fits\n"
     ]
    },
    {
     "name": "stderr",
     "output_type": "stream",
     "text": [
      "[Parallel(n_jobs=6)]: Done  70 out of  70 | elapsed:    0.0s finished\n",
      "[Parallel(n_jobs=6)]: Using backend LokyBackend with 6 concurrent workers.\n",
      "[Parallel(n_jobs=6)]: Done  70 out of  70 | elapsed:    0.0s finished\n",
      "[Parallel(n_jobs=6)]: Using backend LokyBackend with 6 concurrent workers.\n"
     ]
    },
    {
     "name": "stdout",
     "output_type": "stream",
     "text": [
      "LOSS! 0.9604828514518566\n",
      "portfolio value: 147.41586417570673\n",
      "Fitting 10 folds for each of 7 candidates, totalling 70 fits\n",
      "GAIN! 1.0305537353228702\n",
      "portfolio value: 151.91996947212346\n",
      "Fitting 10 folds for each of 7 candidates, totalling 70 fits\n"
     ]
    },
    {
     "name": "stderr",
     "output_type": "stream",
     "text": [
      "[Parallel(n_jobs=6)]: Done  70 out of  70 | elapsed:    0.1s finished\n",
      "[Parallel(n_jobs=6)]: Using backend LokyBackend with 6 concurrent workers.\n",
      "[Parallel(n_jobs=6)]: Done  70 out of  70 | elapsed:    0.0s finished\n",
      "[Parallel(n_jobs=6)]: Using backend LokyBackend with 6 concurrent workers.\n"
     ]
    },
    {
     "name": "stdout",
     "output_type": "stream",
     "text": [
      "LOSS! 0.9988542773872011\n",
      "portfolio value: 151.74591132776354\n",
      "Fitting 10 folds for each of 7 candidates, totalling 70 fits\n",
      "portfolio value: 151.74591132776354\n",
      "Fitting 10 folds for each of 7 candidates, totalling 70 fits\n"
     ]
    },
    {
     "name": "stderr",
     "output_type": "stream",
     "text": [
      "[Parallel(n_jobs=6)]: Done  70 out of  70 | elapsed:    0.0s finished\n",
      "[Parallel(n_jobs=6)]: Using backend LokyBackend with 6 concurrent workers.\n",
      "[Parallel(n_jobs=6)]: Done  70 out of  70 | elapsed:    0.0s finished\n",
      "[Parallel(n_jobs=6)]: Using backend LokyBackend with 6 concurrent workers.\n"
     ]
    },
    {
     "name": "stdout",
     "output_type": "stream",
     "text": [
      "LOSS! 0.9390565811570712\n",
      "portfolio value: 142.49799669601373\n",
      "Fitting 10 folds for each of 7 candidates, totalling 70 fits\n",
      "LOSS! 0.9387144984526137\n",
      "portfolio value: 133.76493549900073\n",
      "Fitting 10 folds for each of 7 candidates, totalling 70 fits\n"
     ]
    },
    {
     "name": "stderr",
     "output_type": "stream",
     "text": [
      "[Parallel(n_jobs=6)]: Done  70 out of  70 | elapsed:    0.0s finished\n",
      "[Parallel(n_jobs=6)]: Using backend LokyBackend with 6 concurrent workers.\n",
      "[Parallel(n_jobs=6)]: Done  70 out of  70 | elapsed:    0.0s finished\n",
      "[Parallel(n_jobs=6)]: Using backend LokyBackend with 6 concurrent workers.\n"
     ]
    },
    {
     "name": "stdout",
     "output_type": "stream",
     "text": [
      "GAIN! 1.01556111657037\n",
      "portfolio value: 135.8464672533287\n",
      "Fitting 10 folds for each of 7 candidates, totalling 70 fits\n",
      "GAIN! 1.0003056584147636\n",
      "portfolio value: 135.8879898691606\n",
      "Fitting 10 folds for each of 7 candidates, totalling 70 fits\n"
     ]
    },
    {
     "name": "stderr",
     "output_type": "stream",
     "text": [
      "[Parallel(n_jobs=6)]: Done  70 out of  70 | elapsed:    0.0s finished\n",
      "[Parallel(n_jobs=6)]: Using backend LokyBackend with 6 concurrent workers.\n",
      "[Parallel(n_jobs=6)]: Done  70 out of  70 | elapsed:    0.0s finished\n",
      "[Parallel(n_jobs=6)]: Using backend LokyBackend with 6 concurrent workers.\n"
     ]
    },
    {
     "name": "stdout",
     "output_type": "stream",
     "text": [
      "portfolio value: 135.8879898691606\n",
      "Fitting 10 folds for each of 7 candidates, totalling 70 fits\n",
      "portfolio value: 135.8879898691606\n",
      "Fitting 10 folds for each of 7 candidates, totalling 70 fits\n"
     ]
    },
    {
     "name": "stderr",
     "output_type": "stream",
     "text": [
      "[Parallel(n_jobs=6)]: Done  70 out of  70 | elapsed:    0.0s finished\n",
      "[Parallel(n_jobs=6)]: Using backend LokyBackend with 6 concurrent workers.\n",
      "[Parallel(n_jobs=6)]: Done  70 out of  70 | elapsed:    0.0s finished\n",
      "[Parallel(n_jobs=6)]: Using backend LokyBackend with 6 concurrent workers.\n"
     ]
    },
    {
     "name": "stdout",
     "output_type": "stream",
     "text": [
      "portfolio value: 135.8879898691606\n",
      "Fitting 10 folds for each of 7 candidates, totalling 70 fits\n",
      "portfolio value: 135.8879898691606\n",
      "Fitting 10 folds for each of 7 candidates, totalling 70 fits\n"
     ]
    },
    {
     "name": "stderr",
     "output_type": "stream",
     "text": [
      "[Parallel(n_jobs=6)]: Done  70 out of  70 | elapsed:    0.0s finished\n",
      "[Parallel(n_jobs=6)]: Using backend LokyBackend with 6 concurrent workers.\n",
      "[Parallel(n_jobs=6)]: Done  70 out of  70 | elapsed:    0.0s finished\n",
      "[Parallel(n_jobs=6)]: Using backend LokyBackend with 6 concurrent workers.\n"
     ]
    },
    {
     "name": "stdout",
     "output_type": "stream",
     "text": [
      "portfolio value: 135.8879898691606\n",
      "Fitting 10 folds for each of 7 candidates, totalling 70 fits\n",
      "portfolio value: 135.8879898691606\n",
      "Fitting 10 folds for each of 7 candidates, totalling 70 fits\n"
     ]
    },
    {
     "name": "stderr",
     "output_type": "stream",
     "text": [
      "[Parallel(n_jobs=6)]: Done  70 out of  70 | elapsed:    0.0s finished\n",
      "[Parallel(n_jobs=6)]: Using backend LokyBackend with 6 concurrent workers.\n",
      "[Parallel(n_jobs=6)]: Done  70 out of  70 | elapsed:    0.0s finished\n",
      "[Parallel(n_jobs=6)]: Using backend LokyBackend with 6 concurrent workers.\n"
     ]
    },
    {
     "name": "stdout",
     "output_type": "stream",
     "text": [
      "GAIN! 1.0104816084951531\n",
      "portfolio value: 137.31231457816247\n",
      "Fitting 10 folds for each of 7 candidates, totalling 70 fits\n",
      "portfolio value: 137.31231457816247\n",
      "Fitting 10 folds for each of 7 candidates, totalling 70 fits\n"
     ]
    },
    {
     "name": "stderr",
     "output_type": "stream",
     "text": [
      "[Parallel(n_jobs=6)]: Done  70 out of  70 | elapsed:    0.0s finished\n",
      "[Parallel(n_jobs=6)]: Using backend LokyBackend with 6 concurrent workers.\n",
      "[Parallel(n_jobs=6)]: Done  70 out of  70 | elapsed:    0.0s finished\n",
      "[Parallel(n_jobs=6)]: Using backend LokyBackend with 6 concurrent workers.\n"
     ]
    },
    {
     "name": "stdout",
     "output_type": "stream",
     "text": [
      "GAIN! 1.0171039412022522\n",
      "portfolio value: 139.66089633305253\n",
      "Fitting 10 folds for each of 7 candidates, totalling 70 fits\n",
      "GAIN! 1.0173102847640754\n",
      "portfolio value: 142.0784662189837\n",
      "Fitting 10 folds for each of 7 candidates, totalling 70 fits\n"
     ]
    },
    {
     "name": "stderr",
     "output_type": "stream",
     "text": [
      "[Parallel(n_jobs=6)]: Done  70 out of  70 | elapsed:    0.0s finished\n",
      "[Parallel(n_jobs=6)]: Using backend LokyBackend with 6 concurrent workers.\n",
      "[Parallel(n_jobs=6)]: Done  70 out of  70 | elapsed:    0.0s finished\n",
      "[Parallel(n_jobs=6)]: Using backend LokyBackend with 6 concurrent workers.\n"
     ]
    },
    {
     "name": "stdout",
     "output_type": "stream",
     "text": [
      "GAIN! 1.0368707886811221\n",
      "portfolio value: 147.3170113230818\n",
      "Fitting 10 folds for each of 7 candidates, totalling 70 fits\n",
      "LOSS! 0.9728236298106243\n",
      "portfolio value: 143.31346968817329\n",
      "Fitting 10 folds for each of 7 candidates, totalling 70 fits\n"
     ]
    },
    {
     "name": "stderr",
     "output_type": "stream",
     "text": [
      "[Parallel(n_jobs=6)]: Done  70 out of  70 | elapsed:    0.0s finished\n",
      "[Parallel(n_jobs=6)]: Using backend LokyBackend with 6 concurrent workers.\n",
      "[Parallel(n_jobs=6)]: Done  70 out of  70 | elapsed:    0.0s finished\n",
      "[Parallel(n_jobs=6)]: Using backend LokyBackend with 6 concurrent workers.\n"
     ]
    },
    {
     "name": "stdout",
     "output_type": "stream",
     "text": [
      "GAIN! 1.0214560845090208\n",
      "portfolio value: 146.38841560508374\n",
      "Fitting 10 folds for each of 7 candidates, totalling 70 fits\n",
      "GAIN! 1.027401914189014\n",
      "portfolio value: 150.39973840775997\n",
      "Fitting 10 folds for each of 7 candidates, totalling 70 fits\n"
     ]
    },
    {
     "name": "stderr",
     "output_type": "stream",
     "text": [
      "[Parallel(n_jobs=6)]: Done  70 out of  70 | elapsed:    0.0s finished\n",
      "[Parallel(n_jobs=6)]: Using backend LokyBackend with 6 concurrent workers.\n",
      "[Parallel(n_jobs=6)]: Done  70 out of  70 | elapsed:    0.0s finished\n",
      "[Parallel(n_jobs=6)]: Using backend LokyBackend with 6 concurrent workers.\n"
     ]
    },
    {
     "name": "stdout",
     "output_type": "stream",
     "text": [
      "GAIN! 1.0650370178381976\n",
      "portfolio value: 160.1812888774457\n",
      "Fitting 10 folds for each of 7 candidates, totalling 70 fits\n",
      "GAIN! 1.0516677981287401\n",
      "portfolio value: 168.45750337516697\n",
      "Fitting 10 folds for each of 7 candidates, totalling 70 fits\n"
     ]
    },
    {
     "name": "stderr",
     "output_type": "stream",
     "text": [
      "[Parallel(n_jobs=6)]: Done  70 out of  70 | elapsed:    0.0s finished\n",
      "[Parallel(n_jobs=6)]: Using backend LokyBackend with 6 concurrent workers.\n",
      "[Parallel(n_jobs=6)]: Done  70 out of  70 | elapsed:    0.1s finished\n"
     ]
    },
    {
     "name": "stdout",
     "output_type": "stream",
     "text": [
      "GAIN! 1.0148344643659892\n",
      "portfolio value: 170.9564802061694\n",
      "Fitting 10 folds for each of 7 candidates, totalling 70 fits\n",
      "GAIN! 1.0144980751709924\n",
      "portfolio value: 173.43502010716674\n",
      "Fitting 10 folds for each of 7 candidates, totalling 70 fits\n"
     ]
    },
    {
     "name": "stderr",
     "output_type": "stream",
     "text": [
      "[Parallel(n_jobs=6)]: Using backend LokyBackend with 6 concurrent workers.\n",
      "[Parallel(n_jobs=6)]: Done  70 out of  70 | elapsed:    0.0s finished\n",
      "[Parallel(n_jobs=6)]: Using backend LokyBackend with 6 concurrent workers.\n"
     ]
    },
    {
     "name": "stdout",
     "output_type": "stream",
     "text": [
      "GAIN! 1.0712001863126726\n",
      "portfolio value: 185.78362585193912\n",
      "Fitting 10 folds for each of 7 candidates, totalling 70 fits\n",
      "GAIN! 1.1050763572351063\n",
      "portfolio value: 205.30509249039082\n",
      "Fitting 10 folds for each of 7 candidates, totalling 70 fits\n"
     ]
    },
    {
     "name": "stderr",
     "output_type": "stream",
     "text": [
      "[Parallel(n_jobs=6)]: Done  70 out of  70 | elapsed:    0.0s finished\n",
      "[Parallel(n_jobs=6)]: Using backend LokyBackend with 6 concurrent workers.\n",
      "[Parallel(n_jobs=6)]: Done  70 out of  70 | elapsed:    0.0s finished\n",
      "[Parallel(n_jobs=6)]: Using backend LokyBackend with 6 concurrent workers.\n"
     ]
    },
    {
     "name": "stdout",
     "output_type": "stream",
     "text": [
      "LOSS! 0.8590842171850543\n",
      "portfolio value: 176.37436466621259\n",
      "Fitting 10 folds for each of 7 candidates, totalling 70 fits\n",
      "GAIN! 1.1115521703298146\n",
      "portfolio value: 196.04930783527075\n",
      "Fitting 10 folds for each of 7 candidates, totalling 70 fits\n"
     ]
    },
    {
     "name": "stderr",
     "output_type": "stream",
     "text": [
      "[Parallel(n_jobs=6)]: Done  70 out of  70 | elapsed:    0.0s finished\n",
      "[Parallel(n_jobs=6)]: Using backend LokyBackend with 6 concurrent workers.\n",
      "[Parallel(n_jobs=6)]: Done  70 out of  70 | elapsed:    0.1s finished\n",
      "[Parallel(n_jobs=6)]: Using backend LokyBackend with 6 concurrent workers.\n"
     ]
    },
    {
     "name": "stdout",
     "output_type": "stream",
     "text": [
      "LOSS! 0.9644060164515448\n",
      "portfolio value: 189.07113199749608\n",
      "Fitting 10 folds for each of 7 candidates, totalling 70 fits\n",
      "LOSS! 0.9065674858628724\n",
      "portfolio value: 171.4057407842173\n",
      "Fitting 10 folds for each of 7 candidates, totalling 70 fits\n"
     ]
    },
    {
     "name": "stderr",
     "output_type": "stream",
     "text": [
      "[Parallel(n_jobs=6)]: Done  70 out of  70 | elapsed:    0.1s finished\n",
      "[Parallel(n_jobs=6)]: Using backend LokyBackend with 6 concurrent workers.\n",
      "[Parallel(n_jobs=6)]: Done  70 out of  70 | elapsed:    0.1s finished\n",
      "[Parallel(n_jobs=6)]: Using backend LokyBackend with 6 concurrent workers.\n"
     ]
    },
    {
     "name": "stdout",
     "output_type": "stream",
     "text": [
      "LOSS! 0.9801984559233007\n",
      "portfolio value: 168.01164245307933\n",
      "Fitting 10 folds for each of 7 candidates, totalling 70 fits\n",
      "GAIN! 1.020115261612947\n",
      "portfolio value: 171.39124059504394\n",
      "Fitting 10 folds for each of 7 candidates, totalling 70 fits\n",
      "GAIN! 1.1056661832971768\n",
      "portfolio value: 189.50149883929038\n",
      "Fitting 10 folds for each of 7 candidates, totalling 70 fits\n"
     ]
    },
    {
     "name": "stderr",
     "output_type": "stream",
     "text": [
      "[Parallel(n_jobs=6)]: Done  70 out of  70 | elapsed:    0.0s finished\n",
      "[Parallel(n_jobs=6)]: Using backend LokyBackend with 6 concurrent workers.\n",
      "[Parallel(n_jobs=6)]: Done  70 out of  70 | elapsed:    0.0s finished\n",
      "[Parallel(n_jobs=6)]: Using backend LokyBackend with 6 concurrent workers.\n",
      "[Parallel(n_jobs=6)]: Done  70 out of  70 | elapsed:    0.0s finished\n"
     ]
    },
    {
     "name": "stdout",
     "output_type": "stream",
     "text": [
      "LOSS! 0.9367494329556518\n",
      "portfolio value: 177.5154215819514\n",
      "Fitting 10 folds for each of 7 candidates, totalling 70 fits\n",
      "LOSS! 0.9799481815558033\n",
      "portfolio value: 173.95591457734506\n",
      "Fitting 10 folds for each of 7 candidates, totalling 70 fits\n"
     ]
    },
    {
     "name": "stderr",
     "output_type": "stream",
     "text": [
      "[Parallel(n_jobs=6)]: Using backend LokyBackend with 6 concurrent workers.\n",
      "[Parallel(n_jobs=6)]: Done  70 out of  70 | elapsed:    0.0s finished\n",
      "[Parallel(n_jobs=6)]: Using backend LokyBackend with 6 concurrent workers.\n",
      "[Parallel(n_jobs=6)]: Done  70 out of  70 | elapsed:    0.0s finished\n",
      "[Parallel(n_jobs=6)]: Using backend LokyBackend with 6 concurrent workers.\n",
      "[Parallel(n_jobs=6)]: Done  70 out of  70 | elapsed:    0.0s finished\n",
      "[Parallel(n_jobs=6)]: Using backend LokyBackend with 6 concurrent workers.\n"
     ]
    },
    {
     "name": "stdout",
     "output_type": "stream",
     "text": [
      "GAIN! 1.0205787326745879\n",
      "portfolio value: 177.53570684059568\n",
      "Fitting 10 folds for each of 7 candidates, totalling 70 fits\n",
      "GAIN! 1.0207914466286157\n",
      "portfolio value: 181.22693101404548\n",
      "Fitting 10 folds for each of 7 candidates, totalling 70 fits\n"
     ]
    },
    {
     "name": "stderr",
     "output_type": "stream",
     "text": [
      "[Parallel(n_jobs=6)]: Done  70 out of  70 | elapsed:    0.0s finished\n",
      "[Parallel(n_jobs=6)]: Using backend LokyBackend with 6 concurrent workers.\n",
      "[Parallel(n_jobs=6)]: Done  70 out of  70 | elapsed:    0.0s finished\n",
      "[Parallel(n_jobs=6)]: Using backend LokyBackend with 6 concurrent workers.\n"
     ]
    },
    {
     "name": "stdout",
     "output_type": "stream",
     "text": [
      "portfolio value: 181.22693101404548\n",
      "Fitting 10 folds for each of 7 candidates, totalling 70 fits\n",
      "portfolio value: 181.22693101404548\n",
      "Fitting 10 folds for each of 7 candidates, totalling 70 fits\n"
     ]
    },
    {
     "name": "stderr",
     "output_type": "stream",
     "text": [
      "[Parallel(n_jobs=6)]: Done  70 out of  70 | elapsed:    0.0s finished\n",
      "[Parallel(n_jobs=6)]: Using backend LokyBackend with 6 concurrent workers.\n",
      "[Parallel(n_jobs=6)]: Done  70 out of  70 | elapsed:    0.0s finished\n",
      "[Parallel(n_jobs=6)]: Using backend LokyBackend with 6 concurrent workers.\n"
     ]
    },
    {
     "name": "stdout",
     "output_type": "stream",
     "text": [
      "portfolio value: 181.22693101404548\n",
      "Fitting 10 folds for each of 7 candidates, totalling 70 fits\n",
      "LOSS! 0.93566143598132\n",
      "portfolio value: 169.5670505110894\n",
      "Fitting 10 folds for each of 7 candidates, totalling 70 fits\n"
     ]
    },
    {
     "name": "stderr",
     "output_type": "stream",
     "text": [
      "[Parallel(n_jobs=6)]: Done  70 out of  70 | elapsed:    0.0s finished\n",
      "[Parallel(n_jobs=6)]: Using backend LokyBackend with 6 concurrent workers.\n",
      "[Parallel(n_jobs=6)]: Done  70 out of  70 | elapsed:    0.0s finished\n",
      "[Parallel(n_jobs=6)]: Using backend LokyBackend with 6 concurrent workers.\n"
     ]
    },
    {
     "name": "stdout",
     "output_type": "stream",
     "text": [
      "GAIN! 1.0406618225147533\n",
      "portfolio value: 176.46195582332152\n",
      "Fitting 10 folds for each of 7 candidates, totalling 70 fits\n",
      "LOSS! 0.964383008110846\n",
      "portfolio value: 170.176911774018\n",
      "Fitting 10 folds for each of 7 candidates, totalling 70 fits\n"
     ]
    },
    {
     "name": "stderr",
     "output_type": "stream",
     "text": [
      "[Parallel(n_jobs=6)]: Done  70 out of  70 | elapsed:    0.0s finished\n",
      "[Parallel(n_jobs=6)]: Using backend LokyBackend with 6 concurrent workers.\n",
      "[Parallel(n_jobs=6)]: Done  70 out of  70 | elapsed:    0.0s finished\n",
      "[Parallel(n_jobs=6)]: Using backend LokyBackend with 6 concurrent workers.\n"
     ]
    },
    {
     "name": "stdout",
     "output_type": "stream",
     "text": [
      "LOSS! 0.9011545657711213\n",
      "portfolio value: 153.3557010339856\n",
      "Fitting 10 folds for each of 7 candidates, totalling 70 fits\n",
      "GAIN! 1.062123317085914\n",
      "portfolio value: 162.8826658762525\n",
      "Fitting 10 folds for each of 7 candidates, totalling 70 fits\n"
     ]
    },
    {
     "name": "stderr",
     "output_type": "stream",
     "text": [
      "[Parallel(n_jobs=6)]: Done  70 out of  70 | elapsed:    0.0s finished\n",
      "[Parallel(n_jobs=6)]: Using backend LokyBackend with 6 concurrent workers.\n",
      "[Parallel(n_jobs=6)]: Done  70 out of  70 | elapsed:    0.0s finished\n",
      "[Parallel(n_jobs=6)]: Using backend LokyBackend with 6 concurrent workers.\n"
     ]
    },
    {
     "name": "stdout",
     "output_type": "stream",
     "text": [
      "LOSS! 0.8697754551753231\n",
      "portfolio value: 141.67134485268758\n",
      "Fitting 10 folds for each of 7 candidates, totalling 70 fits\n",
      "portfolio value: 141.67134485268758\n",
      "Fitting 10 folds for each of 7 candidates, totalling 70 fits\n"
     ]
    },
    {
     "name": "stderr",
     "output_type": "stream",
     "text": [
      "[Parallel(n_jobs=6)]: Done  70 out of  70 | elapsed:    0.0s finished\n",
      "[Parallel(n_jobs=6)]: Using backend LokyBackend with 6 concurrent workers.\n",
      "[Parallel(n_jobs=6)]: Done  70 out of  70 | elapsed:    0.0s finished\n",
      "[Parallel(n_jobs=6)]: Using backend LokyBackend with 6 concurrent workers.\n"
     ]
    },
    {
     "name": "stdout",
     "output_type": "stream",
     "text": [
      "GAIN! 1.0998071041690853\n",
      "portfolio value: 155.81115152617417\n",
      "Fitting 10 folds for each of 7 candidates, totalling 70 fits\n",
      "LOSS! 0.9884340021509396\n",
      "portfolio value: 154.00904008276282\n",
      "Fitting 10 folds for each of 7 candidates, totalling 70 fits\n"
     ]
    },
    {
     "name": "stderr",
     "output_type": "stream",
     "text": [
      "[Parallel(n_jobs=6)]: Done  70 out of  70 | elapsed:    0.0s finished\n",
      "[Parallel(n_jobs=6)]: Using backend LokyBackend with 6 concurrent workers.\n",
      "[Parallel(n_jobs=6)]: Done  70 out of  70 | elapsed:    0.0s finished\n",
      "[Parallel(n_jobs=6)]: Using backend LokyBackend with 6 concurrent workers.\n"
     ]
    },
    {
     "name": "stdout",
     "output_type": "stream",
     "text": [
      "GAIN! 1.0229265109725072\n",
      "portfolio value: 157.53993003008557\n",
      "Fitting 10 folds for each of 7 candidates, totalling 70 fits\n",
      "LOSS! 0.983444830145186\n",
      "portfolio value: 154.931829729522\n",
      "Fitting 10 folds for each of 7 candidates, totalling 70 fits\n"
     ]
    },
    {
     "name": "stderr",
     "output_type": "stream",
     "text": [
      "[Parallel(n_jobs=6)]: Done  70 out of  70 | elapsed:    0.0s finished\n",
      "[Parallel(n_jobs=6)]: Using backend LokyBackend with 6 concurrent workers.\n",
      "[Parallel(n_jobs=6)]: Done  70 out of  70 | elapsed:    0.0s finished\n",
      "[Parallel(n_jobs=6)]: Using backend LokyBackend with 6 concurrent workers.\n"
     ]
    },
    {
     "name": "stdout",
     "output_type": "stream",
     "text": [
      "portfolio value: 154.931829729522\n",
      "Fitting 10 folds for each of 7 candidates, totalling 70 fits\n",
      "portfolio value: 154.931829729522\n",
      "Fitting 10 folds for each of 7 candidates, totalling 70 fits\n"
     ]
    },
    {
     "name": "stderr",
     "output_type": "stream",
     "text": [
      "[Parallel(n_jobs=6)]: Done  70 out of  70 | elapsed:    0.0s finished\n",
      "[Parallel(n_jobs=6)]: Using backend LokyBackend with 6 concurrent workers.\n",
      "[Parallel(n_jobs=6)]: Done  70 out of  70 | elapsed:    0.0s finished\n",
      "[Parallel(n_jobs=6)]: Using backend LokyBackend with 6 concurrent workers.\n"
     ]
    },
    {
     "name": "stdout",
     "output_type": "stream",
     "text": [
      "portfolio value: 154.931829729522\n",
      "Fitting 10 folds for each of 7 candidates, totalling 70 fits\n",
      "portfolio value: 154.931829729522\n",
      "Fitting 10 folds for each of 7 candidates, totalling 70 fits\n"
     ]
    },
    {
     "name": "stderr",
     "output_type": "stream",
     "text": [
      "[Parallel(n_jobs=6)]: Done  70 out of  70 | elapsed:    0.0s finished\n",
      "[Parallel(n_jobs=6)]: Using backend LokyBackend with 6 concurrent workers.\n",
      "[Parallel(n_jobs=6)]: Done  70 out of  70 | elapsed:    0.0s finished\n",
      "[Parallel(n_jobs=6)]: Using backend LokyBackend with 6 concurrent workers.\n"
     ]
    },
    {
     "name": "stdout",
     "output_type": "stream",
     "text": [
      "portfolio value: 154.931829729522\n",
      "Fitting 10 folds for each of 7 candidates, totalling 70 fits\n",
      "portfolio value: 154.931829729522\n",
      "Fitting 10 folds for each of 7 candidates, totalling 70 fits\n"
     ]
    },
    {
     "name": "stderr",
     "output_type": "stream",
     "text": [
      "[Parallel(n_jobs=6)]: Done  70 out of  70 | elapsed:    0.0s finished\n",
      "[Parallel(n_jobs=6)]: Using backend LokyBackend with 6 concurrent workers.\n",
      "[Parallel(n_jobs=6)]: Done  70 out of  70 | elapsed:    0.0s finished\n",
      "[Parallel(n_jobs=6)]: Using backend LokyBackend with 6 concurrent workers.\n"
     ]
    },
    {
     "name": "stdout",
     "output_type": "stream",
     "text": [
      "portfolio value: 154.931829729522\n",
      "Fitting 10 folds for each of 7 candidates, totalling 70 fits\n",
      "portfolio value: 154.931829729522\n",
      "Fitting 10 folds for each of 7 candidates, totalling 70 fits\n"
     ]
    },
    {
     "name": "stderr",
     "output_type": "stream",
     "text": [
      "[Parallel(n_jobs=6)]: Done  70 out of  70 | elapsed:    0.0s finished\n",
      "[Parallel(n_jobs=6)]: Using backend LokyBackend with 6 concurrent workers.\n",
      "[Parallel(n_jobs=6)]: Done  70 out of  70 | elapsed:    0.0s finished\n",
      "[Parallel(n_jobs=6)]: Using backend LokyBackend with 6 concurrent workers.\n"
     ]
    },
    {
     "name": "stdout",
     "output_type": "stream",
     "text": [
      "portfolio value: 154.931829729522\n",
      "Fitting 10 folds for each of 7 candidates, totalling 70 fits\n",
      "portfolio value: 154.931829729522\n",
      "Fitting 10 folds for each of 7 candidates, totalling 70 fits\n"
     ]
    },
    {
     "name": "stderr",
     "output_type": "stream",
     "text": [
      "[Parallel(n_jobs=6)]: Done  70 out of  70 | elapsed:    0.1s finished\n",
      "[Parallel(n_jobs=6)]: Using backend LokyBackend with 6 concurrent workers.\n",
      "[Parallel(n_jobs=6)]: Done  70 out of  70 | elapsed:    0.0s finished\n",
      "[Parallel(n_jobs=6)]: Using backend LokyBackend with 6 concurrent workers.\n"
     ]
    },
    {
     "name": "stdout",
     "output_type": "stream",
     "text": [
      "portfolio value: 154.931829729522\n",
      "Fitting 10 folds for each of 7 candidates, totalling 70 fits\n",
      "portfolio value: 154.931829729522\n",
      "Fitting 10 folds for each of 7 candidates, totalling 70 fits\n"
     ]
    },
    {
     "name": "stderr",
     "output_type": "stream",
     "text": [
      "[Parallel(n_jobs=6)]: Done  70 out of  70 | elapsed:    0.0s finished\n",
      "[Parallel(n_jobs=6)]: Using backend LokyBackend with 6 concurrent workers.\n",
      "[Parallel(n_jobs=6)]: Done  70 out of  70 | elapsed:    0.0s finished\n",
      "[Parallel(n_jobs=6)]: Using backend LokyBackend with 6 concurrent workers.\n"
     ]
    },
    {
     "name": "stdout",
     "output_type": "stream",
     "text": [
      "portfolio value: 154.931829729522\n",
      "Fitting 10 folds for each of 7 candidates, totalling 70 fits\n",
      "portfolio value: 154.931829729522\n",
      "Fitting 10 folds for each of 7 candidates, totalling 70 fits\n"
     ]
    },
    {
     "name": "stderr",
     "output_type": "stream",
     "text": [
      "[Parallel(n_jobs=6)]: Done  70 out of  70 | elapsed:    0.0s finished\n",
      "[Parallel(n_jobs=6)]: Using backend LokyBackend with 6 concurrent workers.\n",
      "[Parallel(n_jobs=6)]: Done  70 out of  70 | elapsed:    0.0s finished\n",
      "[Parallel(n_jobs=6)]: Using backend LokyBackend with 6 concurrent workers.\n"
     ]
    },
    {
     "name": "stdout",
     "output_type": "stream",
     "text": [
      "GAIN! 1.0770858835333117\n",
      "portfolio value: 166.87488671165482\n",
      "Fitting 10 folds for each of 7 candidates, totalling 70 fits\n",
      "LOSS! 0.971775413058364\n",
      "portfolio value: 162.16491196328607\n",
      "Fitting 10 folds for each of 7 candidates, totalling 70 fits\n"
     ]
    },
    {
     "name": "stderr",
     "output_type": "stream",
     "text": [
      "[Parallel(n_jobs=6)]: Done  70 out of  70 | elapsed:    0.1s finished\n",
      "[Parallel(n_jobs=6)]: Using backend LokyBackend with 6 concurrent workers.\n",
      "[Parallel(n_jobs=6)]: Done  70 out of  70 | elapsed:    0.0s finished\n",
      "[Parallel(n_jobs=6)]: Using backend LokyBackend with 6 concurrent workers.\n"
     ]
    },
    {
     "name": "stdout",
     "output_type": "stream",
     "text": [
      "GAIN! 1.0405862271608124\n",
      "portfolio value: 168.74657391774116\n",
      "Fitting 10 folds for each of 7 candidates, totalling 70 fits\n",
      "GAIN! 1.0010345613248397\n",
      "portfolio value: 168.92115259681566\n",
      "Fitting 10 folds for each of 7 candidates, totalling 70 fits\n"
     ]
    },
    {
     "name": "stderr",
     "output_type": "stream",
     "text": [
      "[Parallel(n_jobs=6)]: Done  70 out of  70 | elapsed:    0.0s finished\n",
      "[Parallel(n_jobs=6)]: Using backend LokyBackend with 6 concurrent workers.\n",
      "[Parallel(n_jobs=6)]: Done  70 out of  70 | elapsed:    0.1s finished\n",
      "[Parallel(n_jobs=6)]: Using backend LokyBackend with 6 concurrent workers.\n"
     ]
    },
    {
     "name": "stdout",
     "output_type": "stream",
     "text": [
      "LOSS! 0.9924261988195928\n",
      "portfolio value: 167.64177737188214\n",
      "Fitting 10 folds for each of 7 candidates, totalling 70 fits\n",
      "LOSS! 0.9572120049720761\n",
      "portfolio value: 160.46872183522174\n",
      "Fitting 10 folds for each of 7 candidates, totalling 70 fits\n"
     ]
    },
    {
     "name": "stderr",
     "output_type": "stream",
     "text": [
      "[Parallel(n_jobs=6)]: Done  70 out of  70 | elapsed:    0.0s finished\n",
      "[Parallel(n_jobs=6)]: Using backend LokyBackend with 6 concurrent workers.\n",
      "[Parallel(n_jobs=6)]: Done  70 out of  70 | elapsed:    0.0s finished\n",
      "[Parallel(n_jobs=6)]: Using backend LokyBackend with 6 concurrent workers.\n",
      "[Parallel(n_jobs=6)]: Done  70 out of  70 | elapsed:    0.0s finished\n",
      "[Parallel(n_jobs=6)]: Using backend LokyBackend with 6 concurrent workers.\n"
     ]
    },
    {
     "name": "stdout",
     "output_type": "stream",
     "text": [
      "GAIN! 1.0153165502996266\n",
      "portfolio value: 162.92654908472772\n",
      "Fitting 10 folds for each of 7 candidates, totalling 70 fits\n",
      "LOSS! 0.9873724106652291\n",
      "portfolio value: 160.86917953115437\n",
      "Fitting 10 folds for each of 7 candidates, totalling 70 fits\n",
      "LOSS! 0.9570293904065209\n",
      "portfolio value: 153.95653282189784\n",
      "Fitting 10 folds for each of 7 candidates, totalling 70 fits\n"
     ]
    },
    {
     "name": "stderr",
     "output_type": "stream",
     "text": [
      "[Parallel(n_jobs=6)]: Done  70 out of  70 | elapsed:    0.0s finished\n",
      "[Parallel(n_jobs=6)]: Using backend LokyBackend with 6 concurrent workers.\n",
      "[Parallel(n_jobs=6)]: Done  70 out of  70 | elapsed:    0.0s finished\n",
      "[Parallel(n_jobs=6)]: Using backend LokyBackend with 6 concurrent workers.\n"
     ]
    },
    {
     "name": "stdout",
     "output_type": "stream",
     "text": [
      "LOSS! 0.9230649543285323\n",
      "portfolio value: 142.1118799378243\n",
      "Fitting 10 folds for each of 7 candidates, totalling 70 fits\n",
      "GAIN! 1.027207864626381\n",
      "portfolio value: 145.97844072897314\n",
      "Fitting 10 folds for each of 7 candidates, totalling 70 fits\n"
     ]
    },
    {
     "name": "stderr",
     "output_type": "stream",
     "text": [
      "[Parallel(n_jobs=6)]: Done  70 out of  70 | elapsed:    0.0s finished\n",
      "[Parallel(n_jobs=6)]: Using backend LokyBackend with 6 concurrent workers.\n",
      "[Parallel(n_jobs=6)]: Done  70 out of  70 | elapsed:    0.0s finished\n",
      "[Parallel(n_jobs=6)]: Using backend LokyBackend with 6 concurrent workers.\n"
     ]
    },
    {
     "name": "stdout",
     "output_type": "stream",
     "text": [
      "portfolio value: 145.97844072897314\n",
      "Fitting 10 folds for each of 7 candidates, totalling 70 fits\n",
      "portfolio value: 145.97844072897314\n",
      "Fitting 10 folds for each of 7 candidates, totalling 70 fits\n"
     ]
    },
    {
     "name": "stderr",
     "output_type": "stream",
     "text": [
      "[Parallel(n_jobs=6)]: Done  70 out of  70 | elapsed:    0.0s finished\n",
      "[Parallel(n_jobs=6)]: Using backend LokyBackend with 6 concurrent workers.\n",
      "[Parallel(n_jobs=6)]: Done  70 out of  70 | elapsed:    0.1s finished\n",
      "[Parallel(n_jobs=6)]: Using backend LokyBackend with 6 concurrent workers.\n"
     ]
    },
    {
     "name": "stdout",
     "output_type": "stream",
     "text": [
      "portfolio value: 145.97844072897314\n",
      "Fitting 10 folds for each of 7 candidates, totalling 70 fits\n",
      "portfolio value: 145.97844072897314\n",
      "Fitting 10 folds for each of 7 candidates, totalling 70 fits\n"
     ]
    },
    {
     "name": "stderr",
     "output_type": "stream",
     "text": [
      "[Parallel(n_jobs=6)]: Done  70 out of  70 | elapsed:    0.0s finished\n",
      "[Parallel(n_jobs=6)]: Using backend LokyBackend with 6 concurrent workers.\n",
      "[Parallel(n_jobs=6)]: Done  70 out of  70 | elapsed:    0.0s finished\n",
      "[Parallel(n_jobs=6)]: Using backend LokyBackend with 6 concurrent workers.\n"
     ]
    },
    {
     "name": "stdout",
     "output_type": "stream",
     "text": [
      "portfolio value: 145.97844072897314\n",
      "Fitting 10 folds for each of 7 candidates, totalling 70 fits\n",
      "portfolio value: 145.97844072897314\n",
      "Fitting 10 folds for each of 7 candidates, totalling 70 fits\n"
     ]
    },
    {
     "name": "stderr",
     "output_type": "stream",
     "text": [
      "[Parallel(n_jobs=6)]: Done  70 out of  70 | elapsed:    0.0s finished\n",
      "[Parallel(n_jobs=6)]: Using backend LokyBackend with 6 concurrent workers.\n",
      "[Parallel(n_jobs=6)]: Done  70 out of  70 | elapsed:    0.0s finished\n",
      "[Parallel(n_jobs=6)]: Using backend LokyBackend with 6 concurrent workers.\n"
     ]
    },
    {
     "name": "stdout",
     "output_type": "stream",
     "text": [
      "portfolio value: 145.97844072897314\n",
      "Fitting 10 folds for each of 7 candidates, totalling 70 fits\n",
      "portfolio value: 145.97844072897314\n",
      "Fitting 10 folds for each of 7 candidates, totalling 70 fits\n"
     ]
    },
    {
     "name": "stderr",
     "output_type": "stream",
     "text": [
      "[Parallel(n_jobs=6)]: Done  70 out of  70 | elapsed:    0.0s finished\n",
      "[Parallel(n_jobs=6)]: Using backend LokyBackend with 6 concurrent workers.\n",
      "[Parallel(n_jobs=6)]: Done  70 out of  70 | elapsed:    0.0s finished\n",
      "[Parallel(n_jobs=6)]: Using backend LokyBackend with 6 concurrent workers.\n"
     ]
    },
    {
     "name": "stdout",
     "output_type": "stream",
     "text": [
      "portfolio value: 145.97844072897314\n",
      "Fitting 10 folds for each of 7 candidates, totalling 70 fits\n",
      "portfolio value: 145.97844072897314\n",
      "Fitting 10 folds for each of 7 candidates, totalling 70 fits\n"
     ]
    },
    {
     "name": "stderr",
     "output_type": "stream",
     "text": [
      "[Parallel(n_jobs=6)]: Done  70 out of  70 | elapsed:    0.0s finished\n",
      "[Parallel(n_jobs=6)]: Using backend LokyBackend with 6 concurrent workers.\n",
      "[Parallel(n_jobs=6)]: Done  70 out of  70 | elapsed:    0.0s finished\n",
      "[Parallel(n_jobs=6)]: Using backend LokyBackend with 6 concurrent workers.\n"
     ]
    },
    {
     "name": "stdout",
     "output_type": "stream",
     "text": [
      "portfolio value: 145.97844072897314\n",
      "Fitting 10 folds for each of 7 candidates, totalling 70 fits\n",
      "portfolio value: 145.97844072897314\n",
      "Fitting 10 folds for each of 7 candidates, totalling 70 fits\n"
     ]
    },
    {
     "name": "stderr",
     "output_type": "stream",
     "text": [
      "[Parallel(n_jobs=6)]: Done  70 out of  70 | elapsed:    0.0s finished\n",
      "[Parallel(n_jobs=6)]: Using backend LokyBackend with 6 concurrent workers.\n",
      "[Parallel(n_jobs=6)]: Done  70 out of  70 | elapsed:    0.0s finished\n",
      "[Parallel(n_jobs=6)]: Using backend LokyBackend with 6 concurrent workers.\n"
     ]
    },
    {
     "name": "stdout",
     "output_type": "stream",
     "text": [
      "portfolio value: 145.97844072897314\n",
      "Fitting 10 folds for each of 7 candidates, totalling 70 fits\n",
      "portfolio value: 145.97844072897314\n",
      "Fitting 10 folds for each of 7 candidates, totalling 70 fits\n"
     ]
    },
    {
     "name": "stderr",
     "output_type": "stream",
     "text": [
      "[Parallel(n_jobs=6)]: Done  70 out of  70 | elapsed:    0.0s finished\n",
      "[Parallel(n_jobs=6)]: Using backend LokyBackend with 6 concurrent workers.\n",
      "[Parallel(n_jobs=6)]: Done  70 out of  70 | elapsed:    0.0s finished\n",
      "[Parallel(n_jobs=6)]: Using backend LokyBackend with 6 concurrent workers.\n"
     ]
    },
    {
     "name": "stdout",
     "output_type": "stream",
     "text": [
      "portfolio value: 145.97844072897314\n",
      "Fitting 10 folds for each of 7 candidates, totalling 70 fits\n",
      "portfolio value: 145.97844072897314\n",
      "Fitting 10 folds for each of 7 candidates, totalling 70 fits\n"
     ]
    },
    {
     "name": "stderr",
     "output_type": "stream",
     "text": [
      "[Parallel(n_jobs=6)]: Done  70 out of  70 | elapsed:    0.0s finished\n",
      "[Parallel(n_jobs=6)]: Using backend LokyBackend with 6 concurrent workers.\n",
      "[Parallel(n_jobs=6)]: Done  70 out of  70 | elapsed:    0.0s finished\n",
      "[Parallel(n_jobs=6)]: Using backend LokyBackend with 6 concurrent workers.\n"
     ]
    },
    {
     "name": "stdout",
     "output_type": "stream",
     "text": [
      "portfolio value: 145.97844072897314\n",
      "Fitting 10 folds for each of 7 candidates, totalling 70 fits\n",
      "portfolio value: 145.97844072897314\n",
      "Fitting 10 folds for each of 7 candidates, totalling 70 fits\n"
     ]
    },
    {
     "name": "stderr",
     "output_type": "stream",
     "text": [
      "[Parallel(n_jobs=6)]: Done  70 out of  70 | elapsed:    0.0s finished\n",
      "[Parallel(n_jobs=6)]: Using backend LokyBackend with 6 concurrent workers.\n",
      "[Parallel(n_jobs=6)]: Done  70 out of  70 | elapsed:    0.0s finished\n",
      "[Parallel(n_jobs=6)]: Using backend LokyBackend with 6 concurrent workers.\n"
     ]
    },
    {
     "name": "stdout",
     "output_type": "stream",
     "text": [
      "portfolio value: 145.97844072897314\n",
      "Fitting 10 folds for each of 7 candidates, totalling 70 fits\n",
      "portfolio value: 145.97844072897314\n",
      "Fitting 10 folds for each of 7 candidates, totalling 70 fits\n"
     ]
    },
    {
     "name": "stderr",
     "output_type": "stream",
     "text": [
      "[Parallel(n_jobs=6)]: Done  70 out of  70 | elapsed:    0.0s finished\n",
      "[Parallel(n_jobs=6)]: Using backend LokyBackend with 6 concurrent workers.\n",
      "[Parallel(n_jobs=6)]: Done  70 out of  70 | elapsed:    0.0s finished\n",
      "[Parallel(n_jobs=6)]: Using backend LokyBackend with 6 concurrent workers.\n"
     ]
    },
    {
     "name": "stdout",
     "output_type": "stream",
     "text": [
      "LOSS! 0.9988052350516035\n",
      "portfolio value: 145.8040308047686\n",
      "Fitting 10 folds for each of 7 candidates, totalling 70 fits\n",
      "LOSS! 0.9787397151515291\n",
      "portfolio value: 142.70419557780397\n",
      "Fitting 10 folds for each of 7 candidates, totalling 70 fits\n"
     ]
    },
    {
     "name": "stderr",
     "output_type": "stream",
     "text": [
      "[Parallel(n_jobs=6)]: Done  70 out of  70 | elapsed:    0.0s finished\n",
      "[Parallel(n_jobs=6)]: Using backend LokyBackend with 6 concurrent workers.\n",
      "[Parallel(n_jobs=6)]: Done  70 out of  70 | elapsed:    0.0s finished\n",
      "[Parallel(n_jobs=6)]: Using backend LokyBackend with 6 concurrent workers.\n"
     ]
    },
    {
     "name": "stdout",
     "output_type": "stream",
     "text": [
      "GAIN! 1.0157740313396197\n",
      "portfolio value: 144.95521603114346\n",
      "Fitting 10 folds for each of 7 candidates, totalling 70 fits\n",
      "LOSS! 0.9926947085055738\n",
      "portfolio value: 143.89627592439845\n",
      "Fitting 10 folds for each of 7 candidates, totalling 70 fits\n"
     ]
    },
    {
     "name": "stderr",
     "output_type": "stream",
     "text": [
      "[Parallel(n_jobs=6)]: Done  70 out of  70 | elapsed:    0.0s finished\n",
      "[Parallel(n_jobs=6)]: Using backend LokyBackend with 6 concurrent workers.\n",
      "[Parallel(n_jobs=6)]: Done  70 out of  70 | elapsed:    0.0s finished\n",
      "[Parallel(n_jobs=6)]: Using backend LokyBackend with 6 concurrent workers.\n"
     ]
    },
    {
     "name": "stdout",
     "output_type": "stream",
     "text": [
      "portfolio value: 143.89627592439845\n",
      "Fitting 10 folds for each of 7 candidates, totalling 70 fits\n",
      "LOSS! 0.9786741571292766\n",
      "portfolio value: 140.82756655435247\n",
      "Fitting 10 folds for each of 7 candidates, totalling 70 fits\n"
     ]
    },
    {
     "name": "stderr",
     "output_type": "stream",
     "text": [
      "[Parallel(n_jobs=6)]: Done  70 out of  70 | elapsed:    0.0s finished\n",
      "[Parallel(n_jobs=6)]: Using backend LokyBackend with 6 concurrent workers.\n",
      "[Parallel(n_jobs=6)]: Done  70 out of  70 | elapsed:    0.0s finished\n",
      "[Parallel(n_jobs=6)]: Using backend LokyBackend with 6 concurrent workers.\n"
     ]
    },
    {
     "name": "stdout",
     "output_type": "stream",
     "text": [
      "GAIN! 1.0054664350373548\n",
      "portfolio value: 141.5973912983906\n",
      "Fitting 10 folds for each of 7 candidates, totalling 70 fits\n",
      "GAIN! 1.0229253963823077\n",
      "portfolio value: 144.84356762060693\n",
      "Fitting 10 folds for each of 7 candidates, totalling 70 fits\n"
     ]
    },
    {
     "name": "stderr",
     "output_type": "stream",
     "text": [
      "[Parallel(n_jobs=6)]: Done  70 out of  70 | elapsed:    0.0s finished\n",
      "[Parallel(n_jobs=6)]: Using backend LokyBackend with 6 concurrent workers.\n",
      "[Parallel(n_jobs=6)]: Done  70 out of  70 | elapsed:    0.0s finished\n",
      "[Parallel(n_jobs=6)]: Using backend LokyBackend with 6 concurrent workers.\n"
     ]
    },
    {
     "name": "stdout",
     "output_type": "stream",
     "text": [
      "portfolio value: 144.84356762060693\n",
      "Fitting 10 folds for each of 7 candidates, totalling 70 fits\n",
      "portfolio value: 144.84356762060693\n",
      "Fitting 10 folds for each of 7 candidates, totalling 70 fits\n"
     ]
    },
    {
     "name": "stderr",
     "output_type": "stream",
     "text": [
      "[Parallel(n_jobs=6)]: Done  70 out of  70 | elapsed:    0.0s finished\n",
      "[Parallel(n_jobs=6)]: Using backend LokyBackend with 6 concurrent workers.\n",
      "[Parallel(n_jobs=6)]: Done  70 out of  70 | elapsed:    0.0s finished\n",
      "[Parallel(n_jobs=6)]: Using backend LokyBackend with 6 concurrent workers.\n"
     ]
    },
    {
     "name": "stdout",
     "output_type": "stream",
     "text": [
      "portfolio value: 144.84356762060693\n",
      "Fitting 10 folds for each of 7 candidates, totalling 70 fits\n",
      "portfolio value: 144.84356762060693\n",
      "Fitting 10 folds for each of 7 candidates, totalling 70 fits\n"
     ]
    },
    {
     "name": "stderr",
     "output_type": "stream",
     "text": [
      "[Parallel(n_jobs=6)]: Done  70 out of  70 | elapsed:    0.0s finished\n",
      "[Parallel(n_jobs=6)]: Using backend LokyBackend with 6 concurrent workers.\n",
      "[Parallel(n_jobs=6)]: Done  70 out of  70 | elapsed:    0.0s finished\n",
      "[Parallel(n_jobs=6)]: Using backend LokyBackend with 6 concurrent workers.\n"
     ]
    },
    {
     "name": "stdout",
     "output_type": "stream",
     "text": [
      "portfolio value: 144.84356762060693\n",
      "Fitting 10 folds for each of 7 candidates, totalling 70 fits\n",
      "portfolio value: 144.84356762060693\n",
      "Fitting 10 folds for each of 7 candidates, totalling 70 fits\n"
     ]
    },
    {
     "name": "stderr",
     "output_type": "stream",
     "text": [
      "[Parallel(n_jobs=6)]: Done  70 out of  70 | elapsed:    0.0s finished\n",
      "[Parallel(n_jobs=6)]: Using backend LokyBackend with 6 concurrent workers.\n",
      "[Parallel(n_jobs=6)]: Done  70 out of  70 | elapsed:    0.0s finished\n",
      "[Parallel(n_jobs=6)]: Using backend LokyBackend with 6 concurrent workers.\n"
     ]
    },
    {
     "name": "stdout",
     "output_type": "stream",
     "text": [
      "portfolio value: 144.84356762060693\n",
      "Fitting 10 folds for each of 7 candidates, totalling 70 fits\n",
      "portfolio value: 144.84356762060693\n",
      "Fitting 10 folds for each of 7 candidates, totalling 70 fits\n"
     ]
    },
    {
     "name": "stderr",
     "output_type": "stream",
     "text": [
      "[Parallel(n_jobs=6)]: Done  70 out of  70 | elapsed:    0.0s finished\n",
      "[Parallel(n_jobs=6)]: Using backend LokyBackend with 6 concurrent workers.\n",
      "[Parallel(n_jobs=6)]: Done  70 out of  70 | elapsed:    0.0s finished\n",
      "[Parallel(n_jobs=6)]: Using backend LokyBackend with 6 concurrent workers.\n"
     ]
    },
    {
     "name": "stdout",
     "output_type": "stream",
     "text": [
      "portfolio value: 144.84356762060693\n",
      "Fitting 10 folds for each of 7 candidates, totalling 70 fits\n",
      "portfolio value: 144.84356762060693\n",
      "Fitting 10 folds for each of 7 candidates, totalling 70 fits\n"
     ]
    },
    {
     "name": "stderr",
     "output_type": "stream",
     "text": [
      "[Parallel(n_jobs=6)]: Done  70 out of  70 | elapsed:    0.0s finished\n",
      "[Parallel(n_jobs=6)]: Using backend LokyBackend with 6 concurrent workers.\n",
      "[Parallel(n_jobs=6)]: Done  70 out of  70 | elapsed:    0.0s finished\n",
      "[Parallel(n_jobs=6)]: Using backend LokyBackend with 6 concurrent workers.\n"
     ]
    },
    {
     "name": "stdout",
     "output_type": "stream",
     "text": [
      "portfolio value: 144.84356762060693\n",
      "Fitting 10 folds for each of 7 candidates, totalling 70 fits\n",
      "portfolio value: 144.84356762060693\n",
      "Fitting 10 folds for each of 7 candidates, totalling 70 fits\n"
     ]
    },
    {
     "name": "stderr",
     "output_type": "stream",
     "text": [
      "[Parallel(n_jobs=6)]: Done  70 out of  70 | elapsed:    0.0s finished\n",
      "[Parallel(n_jobs=6)]: Using backend LokyBackend with 6 concurrent workers.\n",
      "[Parallel(n_jobs=6)]: Done  70 out of  70 | elapsed:    0.0s finished\n",
      "[Parallel(n_jobs=6)]: Using backend LokyBackend with 6 concurrent workers.\n"
     ]
    },
    {
     "name": "stdout",
     "output_type": "stream",
     "text": [
      "portfolio value: 144.84356762060693\n",
      "Fitting 10 folds for each of 7 candidates, totalling 70 fits\n",
      "portfolio value: 144.84356762060693\n",
      "Fitting 10 folds for each of 7 candidates, totalling 70 fits\n"
     ]
    },
    {
     "name": "stderr",
     "output_type": "stream",
     "text": [
      "[Parallel(n_jobs=6)]: Done  70 out of  70 | elapsed:    0.0s finished\n",
      "[Parallel(n_jobs=6)]: Using backend LokyBackend with 6 concurrent workers.\n",
      "[Parallel(n_jobs=6)]: Done  70 out of  70 | elapsed:    0.0s finished\n",
      "[Parallel(n_jobs=6)]: Using backend LokyBackend with 6 concurrent workers.\n"
     ]
    },
    {
     "name": "stdout",
     "output_type": "stream",
     "text": [
      "portfolio value: 144.84356762060693\n",
      "Fitting 10 folds for each of 7 candidates, totalling 70 fits\n",
      "portfolio value: 144.84356762060693\n",
      "Fitting 10 folds for each of 7 candidates, totalling 70 fits\n"
     ]
    },
    {
     "name": "stderr",
     "output_type": "stream",
     "text": [
      "[Parallel(n_jobs=6)]: Done  70 out of  70 | elapsed:    0.0s finished\n",
      "[Parallel(n_jobs=6)]: Using backend LokyBackend with 6 concurrent workers.\n",
      "[Parallel(n_jobs=6)]: Done  70 out of  70 | elapsed:    0.0s finished\n",
      "[Parallel(n_jobs=6)]: Using backend LokyBackend with 6 concurrent workers.\n"
     ]
    },
    {
     "name": "stdout",
     "output_type": "stream",
     "text": [
      "portfolio value: 144.84356762060693\n",
      "Fitting 10 folds for each of 7 candidates, totalling 70 fits\n",
      "portfolio value: 144.84356762060693\n",
      "Fitting 10 folds for each of 7 candidates, totalling 70 fits\n"
     ]
    },
    {
     "name": "stderr",
     "output_type": "stream",
     "text": [
      "[Parallel(n_jobs=6)]: Done  70 out of  70 | elapsed:    0.0s finished\n",
      "[Parallel(n_jobs=6)]: Using backend LokyBackend with 6 concurrent workers.\n",
      "[Parallel(n_jobs=6)]: Done  70 out of  70 | elapsed:    0.0s finished\n",
      "[Parallel(n_jobs=6)]: Using backend LokyBackend with 6 concurrent workers.\n"
     ]
    },
    {
     "name": "stdout",
     "output_type": "stream",
     "text": [
      "portfolio value: 144.84356762060693\n",
      "Fitting 10 folds for each of 7 candidates, totalling 70 fits\n",
      "portfolio value: 144.84356762060693\n",
      "Fitting 10 folds for each of 7 candidates, totalling 70 fits\n"
     ]
    },
    {
     "name": "stderr",
     "output_type": "stream",
     "text": [
      "[Parallel(n_jobs=6)]: Done  70 out of  70 | elapsed:    0.0s finished\n",
      "[Parallel(n_jobs=6)]: Using backend LokyBackend with 6 concurrent workers.\n",
      "[Parallel(n_jobs=6)]: Done  70 out of  70 | elapsed:    0.0s finished\n",
      "[Parallel(n_jobs=6)]: Using backend LokyBackend with 6 concurrent workers.\n"
     ]
    },
    {
     "name": "stdout",
     "output_type": "stream",
     "text": [
      "portfolio value: 144.84356762060693\n",
      "Fitting 10 folds for each of 7 candidates, totalling 70 fits\n",
      "portfolio value: 144.84356762060693\n",
      "Fitting 10 folds for each of 7 candidates, totalling 70 fits\n"
     ]
    },
    {
     "name": "stderr",
     "output_type": "stream",
     "text": [
      "[Parallel(n_jobs=6)]: Done  70 out of  70 | elapsed:    0.0s finished\n",
      "[Parallel(n_jobs=6)]: Using backend LokyBackend with 6 concurrent workers.\n",
      "[Parallel(n_jobs=6)]: Done  70 out of  70 | elapsed:    0.0s finished\n",
      "[Parallel(n_jobs=6)]: Using backend LokyBackend with 6 concurrent workers.\n"
     ]
    },
    {
     "name": "stdout",
     "output_type": "stream",
     "text": [
      "portfolio value: 144.84356762060693\n",
      "Fitting 10 folds for each of 7 candidates, totalling 70 fits\n",
      "portfolio value: 144.84356762060693\n",
      "Fitting 10 folds for each of 7 candidates, totalling 70 fits\n"
     ]
    },
    {
     "name": "stderr",
     "output_type": "stream",
     "text": [
      "[Parallel(n_jobs=6)]: Done  70 out of  70 | elapsed:    0.0s finished\n",
      "[Parallel(n_jobs=6)]: Using backend LokyBackend with 6 concurrent workers.\n",
      "[Parallel(n_jobs=6)]: Done  70 out of  70 | elapsed:    0.0s finished\n",
      "[Parallel(n_jobs=6)]: Using backend LokyBackend with 6 concurrent workers.\n"
     ]
    },
    {
     "name": "stdout",
     "output_type": "stream",
     "text": [
      "portfolio value: 144.84356762060693\n",
      "Fitting 10 folds for each of 7 candidates, totalling 70 fits\n",
      "portfolio value: 144.84356762060693\n",
      "Fitting 10 folds for each of 7 candidates, totalling 70 fits\n"
     ]
    },
    {
     "name": "stderr",
     "output_type": "stream",
     "text": [
      "[Parallel(n_jobs=6)]: Done  70 out of  70 | elapsed:    0.0s finished\n",
      "[Parallel(n_jobs=6)]: Using backend LokyBackend with 6 concurrent workers.\n",
      "[Parallel(n_jobs=6)]: Done  70 out of  70 | elapsed:    0.0s finished\n",
      "[Parallel(n_jobs=6)]: Using backend LokyBackend with 6 concurrent workers.\n"
     ]
    },
    {
     "name": "stdout",
     "output_type": "stream",
     "text": [
      "portfolio value: 144.84356762060693\n",
      "Fitting 10 folds for each of 7 candidates, totalling 70 fits\n",
      "portfolio value: 144.84356762060693\n",
      "Fitting 10 folds for each of 7 candidates, totalling 70 fits\n"
     ]
    },
    {
     "name": "stderr",
     "output_type": "stream",
     "text": [
      "[Parallel(n_jobs=6)]: Done  70 out of  70 | elapsed:    0.0s finished\n",
      "[Parallel(n_jobs=6)]: Using backend LokyBackend with 6 concurrent workers.\n",
      "[Parallel(n_jobs=6)]: Done  70 out of  70 | elapsed:    0.0s finished\n",
      "[Parallel(n_jobs=6)]: Using backend LokyBackend with 6 concurrent workers.\n"
     ]
    },
    {
     "name": "stdout",
     "output_type": "stream",
     "text": [
      "portfolio value: 144.84356762060693\n",
      "Fitting 10 folds for each of 7 candidates, totalling 70 fits\n",
      "portfolio value: 144.84356762060693\n",
      "Fitting 10 folds for each of 7 candidates, totalling 70 fits\n"
     ]
    },
    {
     "name": "stderr",
     "output_type": "stream",
     "text": [
      "[Parallel(n_jobs=6)]: Done  70 out of  70 | elapsed:    0.0s finished\n",
      "[Parallel(n_jobs=6)]: Using backend LokyBackend with 6 concurrent workers.\n",
      "[Parallel(n_jobs=6)]: Done  70 out of  70 | elapsed:    0.0s finished\n",
      "[Parallel(n_jobs=6)]: Using backend LokyBackend with 6 concurrent workers.\n"
     ]
    },
    {
     "name": "stdout",
     "output_type": "stream",
     "text": [
      "portfolio value: 144.84356762060693\n",
      "Fitting 10 folds for each of 7 candidates, totalling 70 fits\n",
      "portfolio value: 144.84356762060693\n",
      "Fitting 10 folds for each of 7 candidates, totalling 70 fits\n"
     ]
    },
    {
     "name": "stderr",
     "output_type": "stream",
     "text": [
      "[Parallel(n_jobs=6)]: Done  70 out of  70 | elapsed:    0.0s finished\n",
      "[Parallel(n_jobs=6)]: Using backend LokyBackend with 6 concurrent workers.\n",
      "[Parallel(n_jobs=6)]: Done  70 out of  70 | elapsed:    0.0s finished\n",
      "[Parallel(n_jobs=6)]: Using backend LokyBackend with 6 concurrent workers.\n"
     ]
    },
    {
     "name": "stdout",
     "output_type": "stream",
     "text": [
      "portfolio value: 144.84356762060693\n",
      "Fitting 10 folds for each of 7 candidates, totalling 70 fits\n",
      "portfolio value: 144.84356762060693\n",
      "Fitting 10 folds for each of 7 candidates, totalling 70 fits\n"
     ]
    },
    {
     "name": "stderr",
     "output_type": "stream",
     "text": [
      "[Parallel(n_jobs=6)]: Done  70 out of  70 | elapsed:    0.0s finished\n",
      "[Parallel(n_jobs=6)]: Using backend LokyBackend with 6 concurrent workers.\n",
      "[Parallel(n_jobs=6)]: Done  70 out of  70 | elapsed:    0.0s finished\n",
      "[Parallel(n_jobs=6)]: Using backend LokyBackend with 6 concurrent workers.\n"
     ]
    },
    {
     "name": "stdout",
     "output_type": "stream",
     "text": [
      "portfolio value: 144.84356762060693\n",
      "Fitting 10 folds for each of 7 candidates, totalling 70 fits\n",
      "portfolio value: 144.84356762060693\n",
      "Fitting 10 folds for each of 7 candidates, totalling 70 fits\n"
     ]
    },
    {
     "name": "stderr",
     "output_type": "stream",
     "text": [
      "[Parallel(n_jobs=6)]: Done  70 out of  70 | elapsed:    0.0s finished\n",
      "[Parallel(n_jobs=6)]: Using backend LokyBackend with 6 concurrent workers.\n",
      "[Parallel(n_jobs=6)]: Done  70 out of  70 | elapsed:    0.0s finished\n",
      "[Parallel(n_jobs=6)]: Using backend LokyBackend with 6 concurrent workers.\n"
     ]
    },
    {
     "name": "stdout",
     "output_type": "stream",
     "text": [
      "portfolio value: 144.84356762060693\n",
      "Fitting 10 folds for each of 7 candidates, totalling 70 fits\n",
      "portfolio value: 144.84356762060693\n",
      "Fitting 10 folds for each of 7 candidates, totalling 70 fits\n"
     ]
    },
    {
     "name": "stderr",
     "output_type": "stream",
     "text": [
      "[Parallel(n_jobs=6)]: Done  70 out of  70 | elapsed:    0.0s finished\n",
      "[Parallel(n_jobs=6)]: Using backend LokyBackend with 6 concurrent workers.\n",
      "[Parallel(n_jobs=6)]: Done  70 out of  70 | elapsed:    0.0s finished\n",
      "[Parallel(n_jobs=6)]: Using backend LokyBackend with 6 concurrent workers.\n"
     ]
    },
    {
     "name": "stdout",
     "output_type": "stream",
     "text": [
      "portfolio value: 144.84356762060693\n",
      "Fitting 10 folds for each of 7 candidates, totalling 70 fits\n",
      "portfolio value: 144.84356762060693\n",
      "Fitting 10 folds for each of 7 candidates, totalling 70 fits\n"
     ]
    },
    {
     "name": "stderr",
     "output_type": "stream",
     "text": [
      "[Parallel(n_jobs=6)]: Done  70 out of  70 | elapsed:    0.0s finished\n",
      "[Parallel(n_jobs=6)]: Using backend LokyBackend with 6 concurrent workers.\n",
      "[Parallel(n_jobs=6)]: Done  70 out of  70 | elapsed:    0.0s finished\n",
      "[Parallel(n_jobs=6)]: Using backend LokyBackend with 6 concurrent workers.\n"
     ]
    },
    {
     "name": "stdout",
     "output_type": "stream",
     "text": [
      "portfolio value: 144.84356762060693\n",
      "Fitting 10 folds for each of 7 candidates, totalling 70 fits\n",
      "LOSS! 0.9978375704481746\n",
      "portfolio value: 144.5303536095923\n",
      "Fitting 10 folds for each of 7 candidates, totalling 70 fits\n"
     ]
    },
    {
     "name": "stderr",
     "output_type": "stream",
     "text": [
      "[Parallel(n_jobs=6)]: Done  70 out of  70 | elapsed:    0.0s finished\n",
      "[Parallel(n_jobs=6)]: Using backend LokyBackend with 6 concurrent workers.\n",
      "[Parallel(n_jobs=6)]: Done  70 out of  70 | elapsed:    0.0s finished\n",
      "[Parallel(n_jobs=6)]: Using backend LokyBackend with 6 concurrent workers.\n"
     ]
    },
    {
     "name": "stdout",
     "output_type": "stream",
     "text": [
      "GAIN! 1.1561932238921162\n",
      "portfolio value: 167.10501549014208\n",
      "Fitting 10 folds for each of 7 candidates, totalling 70 fits\n",
      "portfolio value: 167.10501549014208\n",
      "Fitting 10 folds for each of 7 candidates, totalling 70 fits\n"
     ]
    },
    {
     "name": "stderr",
     "output_type": "stream",
     "text": [
      "[Parallel(n_jobs=6)]: Done  70 out of  70 | elapsed:    0.0s finished\n",
      "[Parallel(n_jobs=6)]: Using backend LokyBackend with 6 concurrent workers.\n",
      "[Parallel(n_jobs=6)]: Done  70 out of  70 | elapsed:    0.0s finished\n",
      "[Parallel(n_jobs=6)]: Using backend LokyBackend with 6 concurrent workers.\n"
     ]
    },
    {
     "name": "stdout",
     "output_type": "stream",
     "text": [
      "portfolio value: 167.10501549014208\n",
      "Fitting 10 folds for each of 7 candidates, totalling 70 fits\n",
      "portfolio value: 167.10501549014208\n",
      "Fitting 10 folds for each of 7 candidates, totalling 70 fits\n"
     ]
    },
    {
     "name": "stderr",
     "output_type": "stream",
     "text": [
      "[Parallel(n_jobs=6)]: Done  70 out of  70 | elapsed:    0.0s finished\n",
      "[Parallel(n_jobs=6)]: Using backend LokyBackend with 6 concurrent workers.\n",
      "[Parallel(n_jobs=6)]: Done  70 out of  70 | elapsed:    0.0s finished\n",
      "[Parallel(n_jobs=6)]: Using backend LokyBackend with 6 concurrent workers.\n"
     ]
    },
    {
     "name": "stdout",
     "output_type": "stream",
     "text": [
      "GAIN! 1.0193813293901008\n",
      "portfolio value: 170.34373283809444\n",
      "Fitting 10 folds for each of 7 candidates, totalling 70 fits\n",
      "LOSS! 0.9769979111999852\n",
      "portfolio value: 166.4254711688266\n",
      "Fitting 10 folds for each of 7 candidates, totalling 70 fits\n"
     ]
    },
    {
     "name": "stderr",
     "output_type": "stream",
     "text": [
      "[Parallel(n_jobs=6)]: Done  70 out of  70 | elapsed:    0.0s finished\n",
      "[Parallel(n_jobs=6)]: Using backend LokyBackend with 6 concurrent workers.\n",
      "[Parallel(n_jobs=6)]: Done  70 out of  70 | elapsed:    0.0s finished\n",
      "[Parallel(n_jobs=6)]: Using backend LokyBackend with 6 concurrent workers.\n"
     ]
    },
    {
     "name": "stdout",
     "output_type": "stream",
     "text": [
      "LOSS! 0.9996877957093028\n",
      "portfolio value: 166.37351242264637\n",
      "Fitting 10 folds for each of 7 candidates, totalling 70 fits\n",
      "GAIN! 1.007299582522894\n",
      "portfolio value: 167.5879696061992\n",
      "Fitting 10 folds for each of 7 candidates, totalling 70 fits\n"
     ]
    },
    {
     "name": "stderr",
     "output_type": "stream",
     "text": [
      "[Parallel(n_jobs=6)]: Done  70 out of  70 | elapsed:    0.0s finished\n",
      "[Parallel(n_jobs=6)]: Using backend LokyBackend with 6 concurrent workers.\n",
      "[Parallel(n_jobs=6)]: Done  70 out of  70 | elapsed:    0.0s finished\n",
      "[Parallel(n_jobs=6)]: Using backend LokyBackend with 6 concurrent workers.\n"
     ]
    },
    {
     "name": "stdout",
     "output_type": "stream",
     "text": [
      "GAIN! 1.0070125367827818\n",
      "portfolio value: 168.7631864074144\n",
      "Fitting 10 folds for each of 7 candidates, totalling 70 fits\n",
      "portfolio value: 168.7631864074144\n",
      "Fitting 10 folds for each of 7 candidates, totalling 70 fits\n"
     ]
    },
    {
     "name": "stderr",
     "output_type": "stream",
     "text": [
      "[Parallel(n_jobs=6)]: Done  70 out of  70 | elapsed:    0.0s finished\n",
      "[Parallel(n_jobs=6)]: Using backend LokyBackend with 6 concurrent workers.\n",
      "[Parallel(n_jobs=6)]: Done  70 out of  70 | elapsed:    0.0s finished\n",
      "[Parallel(n_jobs=6)]: Using backend LokyBackend with 6 concurrent workers.\n"
     ]
    },
    {
     "name": "stdout",
     "output_type": "stream",
     "text": [
      "portfolio value: 168.7631864074144\n",
      "Fitting 10 folds for each of 7 candidates, totalling 70 fits\n",
      "LOSS! 0.9925127480608039\n",
      "portfolio value: 167.49961391272058\n",
      "Fitting 10 folds for each of 7 candidates, totalling 70 fits\n"
     ]
    },
    {
     "name": "stderr",
     "output_type": "stream",
     "text": [
      "[Parallel(n_jobs=6)]: Done  70 out of  70 | elapsed:    0.0s finished\n",
      "[Parallel(n_jobs=6)]: Using backend LokyBackend with 6 concurrent workers.\n",
      "[Parallel(n_jobs=6)]: Done  70 out of  70 | elapsed:    0.0s finished\n",
      "[Parallel(n_jobs=6)]: Using backend LokyBackend with 6 concurrent workers.\n"
     ]
    },
    {
     "name": "stdout",
     "output_type": "stream",
     "text": [
      "GAIN! 1.0021428022555043\n",
      "portfolio value: 167.85853246320886\n",
      "Fitting 10 folds for each of 7 candidates, totalling 70 fits\n",
      "LOSS! 0.9909293775166805\n",
      "portfolio value: 166.33595108463106\n",
      "Fitting 10 folds for each of 7 candidates, totalling 70 fits\n"
     ]
    },
    {
     "name": "stderr",
     "output_type": "stream",
     "text": [
      "[Parallel(n_jobs=6)]: Done  70 out of  70 | elapsed:    0.0s finished\n",
      "[Parallel(n_jobs=6)]: Using backend LokyBackend with 6 concurrent workers.\n",
      "[Parallel(n_jobs=6)]: Done  70 out of  70 | elapsed:    0.0s finished\n",
      "[Parallel(n_jobs=6)]: Using backend LokyBackend with 6 concurrent workers.\n"
     ]
    },
    {
     "name": "stdout",
     "output_type": "stream",
     "text": [
      "LOSS! 0.9503001611448547\n",
      "portfolio value: 158.06908111990757\n",
      "Fitting 10 folds for each of 7 candidates, totalling 70 fits\n",
      "GAIN! 1.0004669159249813\n",
      "portfolio value: 158.1428860911296\n",
      "Fitting 10 folds for each of 7 candidates, totalling 70 fits\n"
     ]
    },
    {
     "name": "stderr",
     "output_type": "stream",
     "text": [
      "[Parallel(n_jobs=6)]: Done  70 out of  70 | elapsed:    0.0s finished\n",
      "[Parallel(n_jobs=6)]: Using backend LokyBackend with 6 concurrent workers.\n",
      "[Parallel(n_jobs=6)]: Done  70 out of  70 | elapsed:    0.0s finished\n",
      "[Parallel(n_jobs=6)]: Using backend LokyBackend with 6 concurrent workers.\n"
     ]
    },
    {
     "name": "stdout",
     "output_type": "stream",
     "text": [
      "portfolio value: 158.1428860911296\n",
      "Fitting 10 folds for each of 7 candidates, totalling 70 fits\n",
      "portfolio value: 158.1428860911296\n",
      "Fitting 10 folds for each of 7 candidates, totalling 70 fits\n"
     ]
    },
    {
     "name": "stderr",
     "output_type": "stream",
     "text": [
      "[Parallel(n_jobs=6)]: Done  70 out of  70 | elapsed:    0.0s finished\n",
      "[Parallel(n_jobs=6)]: Using backend LokyBackend with 6 concurrent workers.\n",
      "[Parallel(n_jobs=6)]: Done  70 out of  70 | elapsed:    0.0s finished\n",
      "[Parallel(n_jobs=6)]: Using backend LokyBackend with 6 concurrent workers.\n"
     ]
    },
    {
     "name": "stdout",
     "output_type": "stream",
     "text": [
      "portfolio value: 158.1428860911296\n",
      "Fitting 10 folds for each of 7 candidates, totalling 70 fits\n",
      "LOSS! 0.9995721182926135\n",
      "portfolio value: 158.0752196430179\n",
      "Fitting 10 folds for each of 7 candidates, totalling 70 fits\n"
     ]
    },
    {
     "name": "stderr",
     "output_type": "stream",
     "text": [
      "[Parallel(n_jobs=6)]: Done  70 out of  70 | elapsed:    0.0s finished\n",
      "[Parallel(n_jobs=6)]: Using backend LokyBackend with 6 concurrent workers.\n",
      "[Parallel(n_jobs=6)]: Done  70 out of  70 | elapsed:    0.0s finished\n",
      "[Parallel(n_jobs=6)]: Using backend LokyBackend with 6 concurrent workers.\n"
     ]
    },
    {
     "name": "stdout",
     "output_type": "stream",
     "text": [
      "LOSS! 0.9882157801978252\n",
      "portfolio value: 156.21242650946752\n",
      "Fitting 10 folds for each of 7 candidates, totalling 70 fits\n",
      "LOSS! 0.9754510695602573\n",
      "portfolio value: 152.37757851726317\n",
      "Fitting 10 folds for each of 7 candidates, totalling 70 fits\n"
     ]
    },
    {
     "name": "stderr",
     "output_type": "stream",
     "text": [
      "[Parallel(n_jobs=6)]: Done  70 out of  70 | elapsed:    0.0s finished\n",
      "[Parallel(n_jobs=6)]: Using backend LokyBackend with 6 concurrent workers.\n",
      "[Parallel(n_jobs=6)]: Done  70 out of  70 | elapsed:    0.0s finished\n",
      "[Parallel(n_jobs=6)]: Using backend LokyBackend with 6 concurrent workers.\n"
     ]
    },
    {
     "name": "stdout",
     "output_type": "stream",
     "text": [
      "portfolio value: 152.37757851726317\n",
      "Fitting 10 folds for each of 7 candidates, totalling 70 fits\n",
      "portfolio value: 152.37757851726317\n",
      "Fitting 10 folds for each of 7 candidates, totalling 70 fits\n"
     ]
    },
    {
     "name": "stderr",
     "output_type": "stream",
     "text": [
      "[Parallel(n_jobs=6)]: Done  70 out of  70 | elapsed:    0.0s finished\n",
      "[Parallel(n_jobs=6)]: Using backend LokyBackend with 6 concurrent workers.\n",
      "[Parallel(n_jobs=6)]: Done  70 out of  70 | elapsed:    0.0s finished\n",
      "[Parallel(n_jobs=6)]: Using backend LokyBackend with 6 concurrent workers.\n"
     ]
    },
    {
     "name": "stdout",
     "output_type": "stream",
     "text": [
      "portfolio value: 152.37757851726317\n",
      "Fitting 10 folds for each of 7 candidates, totalling 70 fits\n",
      "portfolio value: 152.37757851726317\n",
      "Fitting 10 folds for each of 7 candidates, totalling 70 fits\n"
     ]
    },
    {
     "name": "stderr",
     "output_type": "stream",
     "text": [
      "[Parallel(n_jobs=6)]: Done  70 out of  70 | elapsed:    0.0s finished\n",
      "[Parallel(n_jobs=6)]: Using backend LokyBackend with 6 concurrent workers.\n",
      "[Parallel(n_jobs=6)]: Done  70 out of  70 | elapsed:    0.0s finished\n",
      "[Parallel(n_jobs=6)]: Using backend LokyBackend with 6 concurrent workers.\n"
     ]
    },
    {
     "name": "stdout",
     "output_type": "stream",
     "text": [
      "portfolio value: 152.37757851726317\n",
      "Fitting 10 folds for each of 7 candidates, totalling 70 fits\n",
      "portfolio value: 152.37757851726317\n",
      "Fitting 10 folds for each of 7 candidates, totalling 70 fits\n"
     ]
    },
    {
     "name": "stderr",
     "output_type": "stream",
     "text": [
      "[Parallel(n_jobs=6)]: Done  70 out of  70 | elapsed:    0.0s finished\n",
      "[Parallel(n_jobs=6)]: Using backend LokyBackend with 6 concurrent workers.\n",
      "[Parallel(n_jobs=6)]: Done  70 out of  70 | elapsed:    0.0s finished\n",
      "[Parallel(n_jobs=6)]: Using backend LokyBackend with 6 concurrent workers.\n"
     ]
    },
    {
     "name": "stdout",
     "output_type": "stream",
     "text": [
      "portfolio value: 152.37757851726317\n",
      "Fitting 10 folds for each of 7 candidates, totalling 70 fits\n",
      "portfolio value: 152.37757851726317\n",
      "Fitting 10 folds for each of 7 candidates, totalling 70 fits\n"
     ]
    },
    {
     "name": "stderr",
     "output_type": "stream",
     "text": [
      "[Parallel(n_jobs=6)]: Done  70 out of  70 | elapsed:    0.0s finished\n",
      "[Parallel(n_jobs=6)]: Using backend LokyBackend with 6 concurrent workers.\n",
      "[Parallel(n_jobs=6)]: Done  70 out of  70 | elapsed:    0.0s finished\n",
      "[Parallel(n_jobs=6)]: Using backend LokyBackend with 6 concurrent workers.\n"
     ]
    },
    {
     "name": "stdout",
     "output_type": "stream",
     "text": [
      "portfolio value: 152.37757851726317\n",
      "Fitting 10 folds for each of 7 candidates, totalling 70 fits\n",
      "portfolio value: 152.37757851726317\n",
      "Fitting 10 folds for each of 7 candidates, totalling 70 fits\n"
     ]
    },
    {
     "name": "stderr",
     "output_type": "stream",
     "text": [
      "[Parallel(n_jobs=6)]: Done  70 out of  70 | elapsed:    0.0s finished\n",
      "[Parallel(n_jobs=6)]: Using backend LokyBackend with 6 concurrent workers.\n",
      "[Parallel(n_jobs=6)]: Done  70 out of  70 | elapsed:    0.0s finished\n",
      "[Parallel(n_jobs=6)]: Using backend LokyBackend with 6 concurrent workers.\n"
     ]
    },
    {
     "name": "stdout",
     "output_type": "stream",
     "text": [
      "portfolio value: 152.37757851726317\n",
      "Fitting 10 folds for each of 7 candidates, totalling 70 fits\n",
      "portfolio value: 152.37757851726317\n",
      "Fitting 10 folds for each of 7 candidates, totalling 70 fits\n"
     ]
    },
    {
     "name": "stderr",
     "output_type": "stream",
     "text": [
      "[Parallel(n_jobs=6)]: Done  70 out of  70 | elapsed:    0.0s finished\n",
      "[Parallel(n_jobs=6)]: Using backend LokyBackend with 6 concurrent workers.\n",
      "[Parallel(n_jobs=6)]: Done  70 out of  70 | elapsed:    0.0s finished\n",
      "[Parallel(n_jobs=6)]: Using backend LokyBackend with 6 concurrent workers.\n"
     ]
    },
    {
     "name": "stdout",
     "output_type": "stream",
     "text": [
      "portfolio value: 152.37757851726317\n",
      "Fitting 10 folds for each of 7 candidates, totalling 70 fits\n",
      "portfolio value: 152.37757851726317\n",
      "Fitting 10 folds for each of 7 candidates, totalling 70 fits\n"
     ]
    },
    {
     "name": "stderr",
     "output_type": "stream",
     "text": [
      "[Parallel(n_jobs=6)]: Done  70 out of  70 | elapsed:    0.0s finished\n",
      "[Parallel(n_jobs=6)]: Using backend LokyBackend with 6 concurrent workers.\n",
      "[Parallel(n_jobs=6)]: Done  70 out of  70 | elapsed:    0.0s finished\n",
      "[Parallel(n_jobs=6)]: Using backend LokyBackend with 6 concurrent workers.\n"
     ]
    },
    {
     "name": "stdout",
     "output_type": "stream",
     "text": [
      "portfolio value: 152.37757851726317\n",
      "Fitting 10 folds for each of 7 candidates, totalling 70 fits\n",
      "portfolio value: 152.37757851726317\n",
      "Fitting 10 folds for each of 7 candidates, totalling 70 fits\n"
     ]
    },
    {
     "name": "stderr",
     "output_type": "stream",
     "text": [
      "[Parallel(n_jobs=6)]: Done  70 out of  70 | elapsed:    0.0s finished\n",
      "[Parallel(n_jobs=6)]: Using backend LokyBackend with 6 concurrent workers.\n",
      "[Parallel(n_jobs=6)]: Done  70 out of  70 | elapsed:    0.0s finished\n",
      "[Parallel(n_jobs=6)]: Using backend LokyBackend with 6 concurrent workers.\n"
     ]
    },
    {
     "name": "stdout",
     "output_type": "stream",
     "text": [
      "portfolio value: 152.37757851726317\n",
      "Fitting 10 folds for each of 7 candidates, totalling 70 fits\n",
      "portfolio value: 152.37757851726317\n",
      "Fitting 10 folds for each of 7 candidates, totalling 70 fits\n"
     ]
    },
    {
     "name": "stderr",
     "output_type": "stream",
     "text": [
      "[Parallel(n_jobs=6)]: Done  70 out of  70 | elapsed:    0.0s finished\n",
      "[Parallel(n_jobs=6)]: Using backend LokyBackend with 6 concurrent workers.\n",
      "[Parallel(n_jobs=6)]: Done  70 out of  70 | elapsed:    0.0s finished\n",
      "[Parallel(n_jobs=6)]: Using backend LokyBackend with 6 concurrent workers.\n"
     ]
    },
    {
     "name": "stdout",
     "output_type": "stream",
     "text": [
      "portfolio value: 152.37757851726317\n",
      "Fitting 10 folds for each of 7 candidates, totalling 70 fits\n",
      "portfolio value: 152.37757851726317\n",
      "Fitting 10 folds for each of 7 candidates, totalling 70 fits\n"
     ]
    },
    {
     "name": "stderr",
     "output_type": "stream",
     "text": [
      "[Parallel(n_jobs=6)]: Done  70 out of  70 | elapsed:    0.1s finished\n",
      "[Parallel(n_jobs=6)]: Using backend LokyBackend with 6 concurrent workers.\n",
      "[Parallel(n_jobs=6)]: Done  70 out of  70 | elapsed:    0.0s finished\n",
      "[Parallel(n_jobs=6)]: Using backend LokyBackend with 6 concurrent workers.\n"
     ]
    },
    {
     "name": "stdout",
     "output_type": "stream",
     "text": [
      "portfolio value: 152.37757851726317\n",
      "Fitting 10 folds for each of 7 candidates, totalling 70 fits\n",
      "portfolio value: 152.37757851726317\n",
      "Fitting 10 folds for each of 7 candidates, totalling 70 fits\n"
     ]
    },
    {
     "name": "stderr",
     "output_type": "stream",
     "text": [
      "[Parallel(n_jobs=6)]: Done  70 out of  70 | elapsed:    0.0s finished\n",
      "[Parallel(n_jobs=6)]: Using backend LokyBackend with 6 concurrent workers.\n",
      "[Parallel(n_jobs=6)]: Done  70 out of  70 | elapsed:    0.0s finished\n",
      "[Parallel(n_jobs=6)]: Using backend LokyBackend with 6 concurrent workers.\n"
     ]
    },
    {
     "name": "stdout",
     "output_type": "stream",
     "text": [
      "portfolio value: 152.37757851726317\n",
      "Fitting 10 folds for each of 7 candidates, totalling 70 fits\n",
      "portfolio value: 152.37757851726317\n",
      "Fitting 10 folds for each of 7 candidates, totalling 70 fits\n"
     ]
    },
    {
     "name": "stderr",
     "output_type": "stream",
     "text": [
      "[Parallel(n_jobs=6)]: Done  70 out of  70 | elapsed:    0.0s finished\n",
      "[Parallel(n_jobs=6)]: Using backend LokyBackend with 6 concurrent workers.\n",
      "[Parallel(n_jobs=6)]: Done  70 out of  70 | elapsed:    0.0s finished\n",
      "[Parallel(n_jobs=6)]: Using backend LokyBackend with 6 concurrent workers.\n"
     ]
    },
    {
     "name": "stdout",
     "output_type": "stream",
     "text": [
      "portfolio value: 152.37757851726317\n",
      "Fitting 10 folds for each of 7 candidates, totalling 70 fits\n",
      "portfolio value: 152.37757851726317\n",
      "Fitting 10 folds for each of 7 candidates, totalling 70 fits\n"
     ]
    },
    {
     "name": "stderr",
     "output_type": "stream",
     "text": [
      "[Parallel(n_jobs=6)]: Done  70 out of  70 | elapsed:    0.0s finished\n",
      "[Parallel(n_jobs=6)]: Using backend LokyBackend with 6 concurrent workers.\n",
      "[Parallel(n_jobs=6)]: Done  70 out of  70 | elapsed:    0.0s finished\n",
      "[Parallel(n_jobs=6)]: Using backend LokyBackend with 6 concurrent workers.\n"
     ]
    },
    {
     "name": "stdout",
     "output_type": "stream",
     "text": [
      "portfolio value: 152.37757851726317\n",
      "Fitting 10 folds for each of 7 candidates, totalling 70 fits\n",
      "portfolio value: 152.37757851726317\n",
      "Fitting 10 folds for each of 7 candidates, totalling 70 fits\n"
     ]
    },
    {
     "name": "stderr",
     "output_type": "stream",
     "text": [
      "[Parallel(n_jobs=6)]: Done  70 out of  70 | elapsed:    0.0s finished\n",
      "[Parallel(n_jobs=6)]: Using backend LokyBackend with 6 concurrent workers.\n",
      "[Parallel(n_jobs=6)]: Done  70 out of  70 | elapsed:    0.0s finished\n",
      "[Parallel(n_jobs=6)]: Using backend LokyBackend with 6 concurrent workers.\n"
     ]
    },
    {
     "name": "stdout",
     "output_type": "stream",
     "text": [
      "portfolio value: 152.37757851726317\n",
      "Fitting 10 folds for each of 7 candidates, totalling 70 fits\n",
      "portfolio value: 152.37757851726317\n",
      "Fitting 10 folds for each of 7 candidates, totalling 70 fits\n"
     ]
    },
    {
     "name": "stderr",
     "output_type": "stream",
     "text": [
      "[Parallel(n_jobs=6)]: Done  70 out of  70 | elapsed:    0.0s finished\n",
      "[Parallel(n_jobs=6)]: Using backend LokyBackend with 6 concurrent workers.\n",
      "[Parallel(n_jobs=6)]: Done  70 out of  70 | elapsed:    0.0s finished\n",
      "[Parallel(n_jobs=6)]: Using backend LokyBackend with 6 concurrent workers.\n"
     ]
    },
    {
     "name": "stdout",
     "output_type": "stream",
     "text": [
      "LOSS! 0.9690812085318505\n",
      "portfolio value: 147.66624794266633\n",
      "Fitting 10 folds for each of 7 candidates, totalling 70 fits\n",
      "LOSS! 0.9580454394380576\n",
      "portfolio value: 141.47097540040093\n",
      "Fitting 10 folds for each of 7 candidates, totalling 70 fits\n"
     ]
    },
    {
     "name": "stderr",
     "output_type": "stream",
     "text": [
      "[Parallel(n_jobs=6)]: Done  70 out of  70 | elapsed:    0.0s finished\n",
      "[Parallel(n_jobs=6)]: Using backend LokyBackend with 6 concurrent workers.\n",
      "[Parallel(n_jobs=6)]: Done  70 out of  70 | elapsed:    0.0s finished\n",
      "[Parallel(n_jobs=6)]: Using backend LokyBackend with 6 concurrent workers.\n"
     ]
    },
    {
     "name": "stdout",
     "output_type": "stream",
     "text": [
      "GAIN! 1.094634935171258\n",
      "portfolio value: 154.85907198603252\n",
      "Fitting 10 folds for each of 7 candidates, totalling 70 fits\n",
      "LOSS! 0.9897292134338435\n",
      "portfolio value: 153.2685475098309\n",
      "Fitting 10 folds for each of 7 candidates, totalling 70 fits\n"
     ]
    },
    {
     "name": "stderr",
     "output_type": "stream",
     "text": [
      "[Parallel(n_jobs=6)]: Done  70 out of  70 | elapsed:    0.0s finished\n",
      "[Parallel(n_jobs=6)]: Using backend LokyBackend with 6 concurrent workers.\n",
      "[Parallel(n_jobs=6)]: Done  70 out of  70 | elapsed:    0.0s finished\n",
      "[Parallel(n_jobs=6)]: Using backend LokyBackend with 6 concurrent workers.\n"
     ]
    },
    {
     "name": "stdout",
     "output_type": "stream",
     "text": [
      "portfolio value: 153.2685475098309\n",
      "Fitting 10 folds for each of 7 candidates, totalling 70 fits\n",
      "portfolio value: 153.2685475098309\n",
      "Fitting 10 folds for each of 7 candidates, totalling 70 fits\n"
     ]
    },
    {
     "name": "stderr",
     "output_type": "stream",
     "text": [
      "[Parallel(n_jobs=6)]: Done  70 out of  70 | elapsed:    0.0s finished\n",
      "[Parallel(n_jobs=6)]: Using backend LokyBackend with 6 concurrent workers.\n",
      "[Parallel(n_jobs=6)]: Done  70 out of  70 | elapsed:    0.0s finished\n",
      "[Parallel(n_jobs=6)]: Using backend LokyBackend with 6 concurrent workers.\n"
     ]
    },
    {
     "name": "stdout",
     "output_type": "stream",
     "text": [
      "portfolio value: 153.2685475098309\n",
      "Fitting 10 folds for each of 7 candidates, totalling 70 fits\n",
      "portfolio value: 153.2685475098309\n",
      "Fitting 10 folds for each of 7 candidates, totalling 70 fits\n"
     ]
    },
    {
     "name": "stderr",
     "output_type": "stream",
     "text": [
      "[Parallel(n_jobs=6)]: Done  70 out of  70 | elapsed:    0.0s finished\n",
      "[Parallel(n_jobs=6)]: Using backend LokyBackend with 6 concurrent workers.\n",
      "[Parallel(n_jobs=6)]: Done  70 out of  70 | elapsed:    0.0s finished\n",
      "[Parallel(n_jobs=6)]: Using backend LokyBackend with 6 concurrent workers.\n"
     ]
    },
    {
     "name": "stdout",
     "output_type": "stream",
     "text": [
      "portfolio value: 153.2685475098309\n",
      "Fitting 10 folds for each of 7 candidates, totalling 70 fits\n",
      "LOSS! 0.9930928495806347\n",
      "portfolio value: 152.20989859762287\n",
      "Fitting 10 folds for each of 7 candidates, totalling 70 fits\n"
     ]
    },
    {
     "name": "stderr",
     "output_type": "stream",
     "text": [
      "[Parallel(n_jobs=6)]: Done  70 out of  70 | elapsed:    0.0s finished\n",
      "[Parallel(n_jobs=6)]: Using backend LokyBackend with 6 concurrent workers.\n",
      "[Parallel(n_jobs=6)]: Done  70 out of  70 | elapsed:    0.0s finished\n",
      "[Parallel(n_jobs=6)]: Using backend LokyBackend with 6 concurrent workers.\n"
     ]
    },
    {
     "name": "stdout",
     "output_type": "stream",
     "text": [
      "portfolio value: 152.20989859762287\n",
      "Fitting 10 folds for each of 7 candidates, totalling 70 fits\n",
      "portfolio value: 152.20989859762287\n",
      "Fitting 10 folds for each of 7 candidates, totalling 70 fits\n"
     ]
    },
    {
     "name": "stderr",
     "output_type": "stream",
     "text": [
      "[Parallel(n_jobs=6)]: Done  70 out of  70 | elapsed:    0.0s finished\n",
      "[Parallel(n_jobs=6)]: Using backend LokyBackend with 6 concurrent workers.\n",
      "[Parallel(n_jobs=6)]: Done  70 out of  70 | elapsed:    0.0s finished\n",
      "[Parallel(n_jobs=6)]: Using backend LokyBackend with 6 concurrent workers.\n"
     ]
    },
    {
     "name": "stdout",
     "output_type": "stream",
     "text": [
      "portfolio value: 152.20989859762287\n",
      "Fitting 10 folds for each of 7 candidates, totalling 70 fits\n",
      "portfolio value: 152.20989859762287\n",
      "Fitting 10 folds for each of 7 candidates, totalling 70 fits\n"
     ]
    },
    {
     "name": "stderr",
     "output_type": "stream",
     "text": [
      "[Parallel(n_jobs=6)]: Done  70 out of  70 | elapsed:    0.0s finished\n",
      "[Parallel(n_jobs=6)]: Using backend LokyBackend with 6 concurrent workers.\n",
      "[Parallel(n_jobs=6)]: Done  70 out of  70 | elapsed:    0.0s finished\n",
      "[Parallel(n_jobs=6)]: Using backend LokyBackend with 6 concurrent workers.\n"
     ]
    },
    {
     "name": "stdout",
     "output_type": "stream",
     "text": [
      "portfolio value: 152.20989859762287\n",
      "Fitting 10 folds for each of 7 candidates, totalling 70 fits\n",
      "portfolio value: 152.20989859762287\n",
      "Fitting 10 folds for each of 7 candidates, totalling 70 fits\n"
     ]
    },
    {
     "name": "stderr",
     "output_type": "stream",
     "text": [
      "[Parallel(n_jobs=6)]: Done  70 out of  70 | elapsed:    0.0s finished\n",
      "[Parallel(n_jobs=6)]: Using backend LokyBackend with 6 concurrent workers.\n",
      "[Parallel(n_jobs=6)]: Done  70 out of  70 | elapsed:    0.0s finished\n",
      "[Parallel(n_jobs=6)]: Using backend LokyBackend with 6 concurrent workers.\n"
     ]
    },
    {
     "name": "stdout",
     "output_type": "stream",
     "text": [
      "portfolio value: 152.20989859762287\n",
      "Fitting 10 folds for each of 7 candidates, totalling 70 fits\n",
      "portfolio value: 152.20989859762287\n",
      "Fitting 10 folds for each of 7 candidates, totalling 70 fits\n"
     ]
    },
    {
     "name": "stderr",
     "output_type": "stream",
     "text": [
      "[Parallel(n_jobs=6)]: Done  70 out of  70 | elapsed:    0.0s finished\n",
      "[Parallel(n_jobs=6)]: Using backend LokyBackend with 6 concurrent workers.\n",
      "[Parallel(n_jobs=6)]: Done  70 out of  70 | elapsed:    0.0s finished\n",
      "[Parallel(n_jobs=6)]: Using backend LokyBackend with 6 concurrent workers.\n"
     ]
    },
    {
     "name": "stdout",
     "output_type": "stream",
     "text": [
      "portfolio value: 152.20989859762287\n",
      "Fitting 10 folds for each of 7 candidates, totalling 70 fits\n",
      "portfolio value: 152.20989859762287\n",
      "Fitting 10 folds for each of 7 candidates, totalling 70 fits\n"
     ]
    },
    {
     "name": "stderr",
     "output_type": "stream",
     "text": [
      "[Parallel(n_jobs=6)]: Done  70 out of  70 | elapsed:    0.0s finished\n",
      "[Parallel(n_jobs=6)]: Using backend LokyBackend with 6 concurrent workers.\n",
      "[Parallel(n_jobs=6)]: Done  70 out of  70 | elapsed:    0.0s finished\n",
      "[Parallel(n_jobs=6)]: Using backend LokyBackend with 6 concurrent workers.\n"
     ]
    },
    {
     "name": "stdout",
     "output_type": "stream",
     "text": [
      "portfolio value: 152.20989859762287\n",
      "Fitting 10 folds for each of 7 candidates, totalling 70 fits\n",
      "portfolio value: 152.20989859762287\n",
      "Fitting 10 folds for each of 7 candidates, totalling 70 fits\n"
     ]
    },
    {
     "name": "stderr",
     "output_type": "stream",
     "text": [
      "[Parallel(n_jobs=6)]: Done  70 out of  70 | elapsed:    0.0s finished\n",
      "[Parallel(n_jobs=6)]: Using backend LokyBackend with 6 concurrent workers.\n",
      "[Parallel(n_jobs=6)]: Done  70 out of  70 | elapsed:    0.0s finished\n",
      "[Parallel(n_jobs=6)]: Using backend LokyBackend with 6 concurrent workers.\n"
     ]
    },
    {
     "name": "stdout",
     "output_type": "stream",
     "text": [
      "GAIN! 1.0508464945986744\n",
      "portfolio value: 159.94923838453167\n",
      "Fitting 10 folds for each of 7 candidates, totalling 70 fits\n",
      "LOSS! 0.9899444496425026\n",
      "portfolio value: 158.34086076331266\n",
      "Fitting 10 folds for each of 7 candidates, totalling 70 fits\n"
     ]
    },
    {
     "name": "stderr",
     "output_type": "stream",
     "text": [
      "[Parallel(n_jobs=6)]: Done  70 out of  70 | elapsed:    0.0s finished\n",
      "[Parallel(n_jobs=6)]: Using backend LokyBackend with 6 concurrent workers.\n",
      "[Parallel(n_jobs=6)]: Done  70 out of  70 | elapsed:    0.0s finished\n",
      "[Parallel(n_jobs=6)]: Using backend LokyBackend with 6 concurrent workers.\n"
     ]
    },
    {
     "name": "stdout",
     "output_type": "stream",
     "text": [
      "LOSS! 0.9748555841151165\n",
      "portfolio value: 154.3594723087095\n",
      "Fitting 10 folds for each of 7 candidates, totalling 70 fits\n",
      "GAIN! 1.0365873733341415\n",
      "portfolio value: 160.00707994972936\n",
      "Fitting 10 folds for each of 7 candidates, totalling 70 fits\n"
     ]
    },
    {
     "name": "stderr",
     "output_type": "stream",
     "text": [
      "[Parallel(n_jobs=6)]: Done  70 out of  70 | elapsed:    0.0s finished\n",
      "[Parallel(n_jobs=6)]: Using backend LokyBackend with 6 concurrent workers.\n",
      "[Parallel(n_jobs=6)]: Done  70 out of  70 | elapsed:    0.0s finished\n",
      "[Parallel(n_jobs=6)]: Using backend LokyBackend with 6 concurrent workers.\n"
     ]
    },
    {
     "name": "stdout",
     "output_type": "stream",
     "text": [
      "LOSS! 0.9847279582693808\n",
      "portfolio value: 157.56344514754255\n",
      "Fitting 10 folds for each of 7 candidates, totalling 70 fits\n",
      "GAIN! 1.0198216400074884\n",
      "portfolio value: 160.6866110355968\n",
      "Fitting 10 folds for each of 7 candidates, totalling 70 fits\n"
     ]
    },
    {
     "name": "stderr",
     "output_type": "stream",
     "text": [
      "[Parallel(n_jobs=6)]: Done  70 out of  70 | elapsed:    0.0s finished\n",
      "[Parallel(n_jobs=6)]: Using backend LokyBackend with 6 concurrent workers.\n",
      "[Parallel(n_jobs=6)]: Done  70 out of  70 | elapsed:    0.0s finished\n",
      "[Parallel(n_jobs=6)]: Using backend LokyBackend with 6 concurrent workers.\n"
     ]
    },
    {
     "name": "stdout",
     "output_type": "stream",
     "text": [
      "LOSS! 0.9944348100446602\n",
      "portfolio value: 159.7923595219039\n",
      "Fitting 10 folds for each of 7 candidates, totalling 70 fits\n",
      "GAIN! 1.0843676681862628\n",
      "portfolio value: 173.2736682887479\n",
      "Fitting 10 folds for each of 7 candidates, totalling 70 fits\n"
     ]
    },
    {
     "name": "stderr",
     "output_type": "stream",
     "text": [
      "[Parallel(n_jobs=6)]: Done  70 out of  70 | elapsed:    0.0s finished\n",
      "[Parallel(n_jobs=6)]: Using backend LokyBackend with 6 concurrent workers.\n",
      "[Parallel(n_jobs=6)]: Done  70 out of  70 | elapsed:    0.0s finished\n",
      "[Parallel(n_jobs=6)]: Using backend LokyBackend with 6 concurrent workers.\n",
      "[Parallel(n_jobs=6)]: Done  70 out of  70 | elapsed:    0.0s finished\n"
     ]
    },
    {
     "name": "stdout",
     "output_type": "stream",
     "text": [
      "LOSS! 0.9979226862622207\n",
      "portfolio value: 172.91372451721628\n",
      "Fitting 10 folds for each of 7 candidates, totalling 70 fits\n",
      "LOSS! 0.9899352624966742\n",
      "portfolio value: 171.17339326922811\n",
      "Fitting 10 folds for each of 7 candidates, totalling 70 fits\n",
      "GAIN! 1.0233608275230661\n",
      "portfolio value: 175.17214538592853\n",
      "Fitting 10 folds for each of 7 candidates, totalling 70 fits\n",
      "GAIN! 1.0017470941473823\n",
      "portfolio value: 175.47818761591668\n",
      "Fitting 10 folds for each of 7 candidates, totalling 70 fits\n"
     ]
    },
    {
     "name": "stderr",
     "output_type": "stream",
     "text": [
      "[Parallel(n_jobs=6)]: Using backend LokyBackend with 6 concurrent workers.\n",
      "[Parallel(n_jobs=6)]: Done  70 out of  70 | elapsed:    0.0s finished\n",
      "[Parallel(n_jobs=6)]: Using backend LokyBackend with 6 concurrent workers.\n",
      "[Parallel(n_jobs=6)]: Done  70 out of  70 | elapsed:    0.0s finished\n",
      "[Parallel(n_jobs=6)]: Using backend LokyBackend with 6 concurrent workers.\n",
      "[Parallel(n_jobs=6)]: Done  70 out of  70 | elapsed:    0.0s finished\n",
      "[Parallel(n_jobs=6)]: Using backend LokyBackend with 6 concurrent workers.\n"
     ]
    },
    {
     "name": "stdout",
     "output_type": "stream",
     "text": [
      "portfolio value: 175.47818761591668\n",
      "Fitting 10 folds for each of 7 candidates, totalling 70 fits\n",
      "portfolio value: 175.47818761591668\n",
      "Fitting 10 folds for each of 7 candidates, totalling 70 fits\n"
     ]
    },
    {
     "name": "stderr",
     "output_type": "stream",
     "text": [
      "[Parallel(n_jobs=6)]: Done  70 out of  70 | elapsed:    0.0s finished\n",
      "[Parallel(n_jobs=6)]: Using backend LokyBackend with 6 concurrent workers.\n",
      "[Parallel(n_jobs=6)]: Done  70 out of  70 | elapsed:    0.0s finished\n",
      "[Parallel(n_jobs=6)]: Using backend LokyBackend with 6 concurrent workers.\n"
     ]
    },
    {
     "name": "stdout",
     "output_type": "stream",
     "text": [
      "portfolio value: 175.47818761591668\n",
      "Fitting 10 folds for each of 7 candidates, totalling 70 fits\n",
      "portfolio value: 175.47818761591668\n",
      "Fitting 10 folds for each of 7 candidates, totalling 70 fits\n"
     ]
    },
    {
     "name": "stderr",
     "output_type": "stream",
     "text": [
      "[Parallel(n_jobs=6)]: Done  70 out of  70 | elapsed:    0.0s finished\n",
      "[Parallel(n_jobs=6)]: Using backend LokyBackend with 6 concurrent workers.\n",
      "[Parallel(n_jobs=6)]: Done  70 out of  70 | elapsed:    0.0s finished\n",
      "[Parallel(n_jobs=6)]: Using backend LokyBackend with 6 concurrent workers.\n"
     ]
    },
    {
     "name": "stdout",
     "output_type": "stream",
     "text": [
      "portfolio value: 175.47818761591668\n",
      "Fitting 10 folds for each of 7 candidates, totalling 70 fits\n",
      "portfolio value: 175.47818761591668\n",
      "Fitting 10 folds for each of 7 candidates, totalling 70 fits\n"
     ]
    },
    {
     "name": "stderr",
     "output_type": "stream",
     "text": [
      "[Parallel(n_jobs=6)]: Done  70 out of  70 | elapsed:    0.0s finished\n",
      "[Parallel(n_jobs=6)]: Using backend LokyBackend with 6 concurrent workers.\n",
      "[Parallel(n_jobs=6)]: Done  70 out of  70 | elapsed:    0.1s finished\n",
      "[Parallel(n_jobs=6)]: Using backend LokyBackend with 6 concurrent workers.\n"
     ]
    },
    {
     "name": "stdout",
     "output_type": "stream",
     "text": [
      "portfolio value: 175.47818761591668\n",
      "Fitting 10 folds for each of 7 candidates, totalling 70 fits\n",
      "portfolio value: 175.47818761591668\n",
      "Fitting 10 folds for each of 7 candidates, totalling 70 fits\n"
     ]
    },
    {
     "name": "stderr",
     "output_type": "stream",
     "text": [
      "[Parallel(n_jobs=6)]: Done  70 out of  70 | elapsed:    0.0s finished\n",
      "[Parallel(n_jobs=6)]: Using backend LokyBackend with 6 concurrent workers.\n",
      "[Parallel(n_jobs=6)]: Done  70 out of  70 | elapsed:    0.0s finished\n",
      "[Parallel(n_jobs=6)]: Using backend LokyBackend with 6 concurrent workers.\n"
     ]
    },
    {
     "name": "stdout",
     "output_type": "stream",
     "text": [
      "portfolio value: 175.47818761591668\n",
      "Fitting 10 folds for each of 7 candidates, totalling 70 fits\n",
      "portfolio value: 175.47818761591668\n",
      "Fitting 10 folds for each of 7 candidates, totalling 70 fits\n"
     ]
    },
    {
     "name": "stderr",
     "output_type": "stream",
     "text": [
      "[Parallel(n_jobs=6)]: Done  70 out of  70 | elapsed:    0.0s finished\n",
      "[Parallel(n_jobs=6)]: Using backend LokyBackend with 6 concurrent workers.\n",
      "[Parallel(n_jobs=6)]: Done  70 out of  70 | elapsed:    0.0s finished\n",
      "[Parallel(n_jobs=6)]: Using backend LokyBackend with 6 concurrent workers.\n"
     ]
    },
    {
     "name": "stdout",
     "output_type": "stream",
     "text": [
      "portfolio value: 175.47818761591668\n",
      "Fitting 10 folds for each of 7 candidates, totalling 70 fits\n",
      "GAIN! 1.0207144931952605\n",
      "portfolio value: 179.11312933920323\n",
      "Fitting 10 folds for each of 7 candidates, totalling 70 fits\n"
     ]
    },
    {
     "name": "stderr",
     "output_type": "stream",
     "text": [
      "[Parallel(n_jobs=6)]: Done  70 out of  70 | elapsed:    0.0s finished\n",
      "[Parallel(n_jobs=6)]: Using backend LokyBackend with 6 concurrent workers.\n",
      "[Parallel(n_jobs=6)]: Done  70 out of  70 | elapsed:    0.0s finished\n",
      "[Parallel(n_jobs=6)]: Using backend LokyBackend with 6 concurrent workers.\n"
     ]
    },
    {
     "name": "stdout",
     "output_type": "stream",
     "text": [
      "LOSS! 0.9834056607329544\n",
      "portfolio value: 176.14086530376628\n",
      "Fitting 10 folds for each of 7 candidates, totalling 70 fits\n",
      "portfolio value: 176.14086530376628\n",
      "Fitting 10 folds for each of 7 candidates, totalling 70 fits\n"
     ]
    },
    {
     "name": "stderr",
     "output_type": "stream",
     "text": [
      "[Parallel(n_jobs=6)]: Done  70 out of  70 | elapsed:    0.0s finished\n",
      "[Parallel(n_jobs=6)]: Using backend LokyBackend with 6 concurrent workers.\n",
      "[Parallel(n_jobs=6)]: Done  70 out of  70 | elapsed:    0.0s finished\n",
      "[Parallel(n_jobs=6)]: Using backend LokyBackend with 6 concurrent workers.\n"
     ]
    },
    {
     "name": "stdout",
     "output_type": "stream",
     "text": [
      "LOSS! 0.9951591109720717\n",
      "portfolio value: 175.28818692154746\n",
      "Fitting 10 folds for each of 7 candidates, totalling 70 fits\n",
      "LOSS! 0.9945250035636072\n",
      "portfolio value: 174.32848472281023\n",
      "Fitting 10 folds for each of 7 candidates, totalling 70 fits\n"
     ]
    },
    {
     "name": "stderr",
     "output_type": "stream",
     "text": [
      "[Parallel(n_jobs=6)]: Done  70 out of  70 | elapsed:    0.0s finished\n",
      "[Parallel(n_jobs=6)]: Using backend LokyBackend with 6 concurrent workers.\n",
      "[Parallel(n_jobs=6)]: Done  70 out of  70 | elapsed:    0.0s finished\n",
      "[Parallel(n_jobs=6)]: Using backend LokyBackend with 6 concurrent workers.\n"
     ]
    },
    {
     "name": "stdout",
     "output_type": "stream",
     "text": [
      "LOSS! 0.9879607434737969\n",
      "portfolio value: 172.22969937540805\n",
      "Fitting 10 folds for each of 7 candidates, totalling 70 fits\n",
      "GAIN! 1.0468243855846635\n",
      "portfolio value: 180.29424922809284\n",
      "Fitting 10 folds for each of 7 candidates, totalling 70 fits\n"
     ]
    },
    {
     "name": "stderr",
     "output_type": "stream",
     "text": [
      "[Parallel(n_jobs=6)]: Done  70 out of  70 | elapsed:    0.0s finished\n",
      "[Parallel(n_jobs=6)]: Using backend LokyBackend with 6 concurrent workers.\n",
      "[Parallel(n_jobs=6)]: Done  70 out of  70 | elapsed:    0.0s finished\n",
      "[Parallel(n_jobs=6)]: Using backend LokyBackend with 6 concurrent workers.\n"
     ]
    },
    {
     "name": "stdout",
     "output_type": "stream",
     "text": [
      "GAIN! 1.0116430182454466\n",
      "portfolio value: 182.39341846140462\n",
      "Fitting 10 folds for each of 7 candidates, totalling 70 fits\n",
      "portfolio value: 182.39341846140462\n",
      "Fitting 10 folds for each of 7 candidates, totalling 70 fits\n"
     ]
    },
    {
     "name": "stderr",
     "output_type": "stream",
     "text": [
      "[Parallel(n_jobs=6)]: Done  70 out of  70 | elapsed:    0.0s finished\n",
      "[Parallel(n_jobs=6)]: Using backend LokyBackend with 6 concurrent workers.\n",
      "[Parallel(n_jobs=6)]: Done  70 out of  70 | elapsed:    0.0s finished\n",
      "[Parallel(n_jobs=6)]: Using backend LokyBackend with 6 concurrent workers.\n"
     ]
    },
    {
     "name": "stdout",
     "output_type": "stream",
     "text": [
      "GAIN! 1.0073571235400032\n",
      "portfolio value: 183.73530937390868\n",
      "Fitting 10 folds for each of 7 candidates, totalling 70 fits\n",
      "GAIN! 1.025626723407693\n",
      "portfolio value: 188.44384332746074\n",
      "Fitting 10 folds for each of 7 candidates, totalling 70 fits\n"
     ]
    },
    {
     "name": "stderr",
     "output_type": "stream",
     "text": [
      "[Parallel(n_jobs=6)]: Done  70 out of  70 | elapsed:    0.0s finished\n",
      "[Parallel(n_jobs=6)]: Using backend LokyBackend with 6 concurrent workers.\n",
      "[Parallel(n_jobs=6)]: Done  70 out of  70 | elapsed:    0.0s finished\n",
      "[Parallel(n_jobs=6)]: Using backend LokyBackend with 6 concurrent workers.\n"
     ]
    },
    {
     "name": "stdout",
     "output_type": "stream",
     "text": [
      "LOSS! 0.9744009967627031\n",
      "portfolio value: 183.6198687720724\n",
      "Fitting 10 folds for each of 7 candidates, totalling 70 fits\n",
      "GAIN! 1.0357496552119791\n",
      "portfolio value: 190.18421577074287\n",
      "Fitting 10 folds for each of 7 candidates, totalling 70 fits\n"
     ]
    },
    {
     "name": "stderr",
     "output_type": "stream",
     "text": [
      "[Parallel(n_jobs=6)]: Done  70 out of  70 | elapsed:    0.0s finished\n",
      "[Parallel(n_jobs=6)]: Using backend LokyBackend with 6 concurrent workers.\n",
      "[Parallel(n_jobs=6)]: Done  70 out of  70 | elapsed:    0.0s finished\n",
      "[Parallel(n_jobs=6)]: Using backend LokyBackend with 6 concurrent workers.\n"
     ]
    },
    {
     "name": "stdout",
     "output_type": "stream",
     "text": [
      "GAIN! 1.012121377454056\n",
      "portfolio value: 192.4895104359037\n",
      "Fitting 10 folds for each of 7 candidates, totalling 70 fits\n",
      "LOSS! 0.9893857546196765\n",
      "portfolio value: 190.44637953899868\n",
      "Fitting 10 folds for each of 7 candidates, totalling 70 fits\n"
     ]
    },
    {
     "name": "stderr",
     "output_type": "stream",
     "text": [
      "[Parallel(n_jobs=6)]: Done  70 out of  70 | elapsed:    0.0s finished\n",
      "[Parallel(n_jobs=6)]: Using backend LokyBackend with 6 concurrent workers.\n",
      "[Parallel(n_jobs=6)]: Done  70 out of  70 | elapsed:    0.0s finished\n",
      "[Parallel(n_jobs=6)]: Using backend LokyBackend with 6 concurrent workers.\n"
     ]
    },
    {
     "name": "stdout",
     "output_type": "stream",
     "text": [
      "GAIN! 1.009848203455263\n",
      "portfolio value: 192.32193423201696\n",
      "Fitting 10 folds for each of 7 candidates, totalling 70 fits\n",
      "LOSS! 0.9588484052618458\n",
      "portfolio value: 184.40757993524304\n",
      "Fitting 10 folds for each of 7 candidates, totalling 70 fits\n"
     ]
    },
    {
     "name": "stderr",
     "output_type": "stream",
     "text": [
      "[Parallel(n_jobs=6)]: Done  70 out of  70 | elapsed:    0.0s finished\n",
      "[Parallel(n_jobs=6)]: Using backend LokyBackend with 6 concurrent workers.\n",
      "[Parallel(n_jobs=6)]: Done  70 out of  70 | elapsed:    0.1s finished\n"
     ]
    },
    {
     "name": "stdout",
     "output_type": "stream",
     "text": [
      "GAIN! 1.0045761031430342\n",
      "portfolio value: 185.25144804138404\n",
      "Fitting 10 folds for each of 7 candidates, totalling 70 fits\n"
     ]
    },
    {
     "name": "stderr",
     "output_type": "stream",
     "text": [
      "[Parallel(n_jobs=6)]: Using backend LokyBackend with 6 concurrent workers.\n",
      "[Parallel(n_jobs=6)]: Done  70 out of  70 | elapsed:    0.0s finished\n",
      "[Parallel(n_jobs=6)]: Using backend LokyBackend with 6 concurrent workers.\n"
     ]
    },
    {
     "name": "stdout",
     "output_type": "stream",
     "text": [
      "LOSS! 0.9752008788566686\n",
      "portfolio value: 180.6573749394282\n",
      "Fitting 10 folds for each of 7 candidates, totalling 70 fits\n",
      "GAIN! 1.0465127340076705\n",
      "portfolio value: 189.0602433665098\n",
      "Fitting 10 folds for each of 7 candidates, totalling 70 fits\n"
     ]
    },
    {
     "name": "stderr",
     "output_type": "stream",
     "text": [
      "[Parallel(n_jobs=6)]: Done  70 out of  70 | elapsed:    0.0s finished\n",
      "[Parallel(n_jobs=6)]: Using backend LokyBackend with 6 concurrent workers.\n",
      "[Parallel(n_jobs=6)]: Done  70 out of  70 | elapsed:    0.0s finished\n",
      "[Parallel(n_jobs=6)]: Using backend LokyBackend with 6 concurrent workers.\n"
     ]
    },
    {
     "name": "stdout",
     "output_type": "stream",
     "text": [
      "LOSS! 0.9496823509591086\n",
      "portfolio value: 179.54717639320825\n",
      "Fitting 10 folds for each of 7 candidates, totalling 70 fits\n",
      "LOSS! 0.9978347798052194\n",
      "portfolio value: 179.15841722096584\n",
      "Fitting 10 folds for each of 7 candidates, totalling 70 fits\n"
     ]
    },
    {
     "name": "stderr",
     "output_type": "stream",
     "text": [
      "[Parallel(n_jobs=6)]: Done  70 out of  70 | elapsed:    0.0s finished\n",
      "[Parallel(n_jobs=6)]: Using backend LokyBackend with 6 concurrent workers.\n",
      "[Parallel(n_jobs=6)]: Done  70 out of  70 | elapsed:    0.0s finished\n",
      "[Parallel(n_jobs=6)]: Using backend LokyBackend with 6 concurrent workers.\n"
     ]
    },
    {
     "name": "stdout",
     "output_type": "stream",
     "text": [
      "GAIN! 1.0077674647560342\n",
      "portfolio value: 180.55002391247658\n",
      "Fitting 10 folds for each of 7 candidates, totalling 70 fits\n",
      "LOSS! 0.9974684008769168\n",
      "portfolio value: 180.0929436302671\n",
      "Fitting 10 folds for each of 7 candidates, totalling 70 fits\n"
     ]
    },
    {
     "name": "stderr",
     "output_type": "stream",
     "text": [
      "[Parallel(n_jobs=6)]: Done  70 out of  70 | elapsed:    0.0s finished\n",
      "[Parallel(n_jobs=6)]: Using backend LokyBackend with 6 concurrent workers.\n",
      "[Parallel(n_jobs=6)]: Done  70 out of  70 | elapsed:    0.0s finished\n",
      "[Parallel(n_jobs=6)]: Using backend LokyBackend with 6 concurrent workers.\n"
     ]
    },
    {
     "name": "stdout",
     "output_type": "stream",
     "text": [
      "portfolio value: 180.0929436302671\n",
      "Fitting 10 folds for each of 7 candidates, totalling 70 fits\n",
      "LOSS! 0.9726446673972\n",
      "portfolio value: 175.16644125784381\n",
      "Fitting 10 folds for each of 7 candidates, totalling 70 fits\n"
     ]
    },
    {
     "name": "stderr",
     "output_type": "stream",
     "text": [
      "[Parallel(n_jobs=6)]: Done  70 out of  70 | elapsed:    0.1s finished\n",
      "[Parallel(n_jobs=6)]: Using backend LokyBackend with 6 concurrent workers.\n",
      "[Parallel(n_jobs=6)]: Done  70 out of  70 | elapsed:    0.1s finished\n"
     ]
    },
    {
     "name": "stdout",
     "output_type": "stream",
     "text": [
      "portfolio value: 175.16644125784381\n",
      "Fitting 10 folds for each of 7 candidates, totalling 70 fits\n",
      "portfolio value: 175.16644125784381\n",
      "Fitting 10 folds for each of 7 candidates, totalling 70 fits\n"
     ]
    },
    {
     "name": "stderr",
     "output_type": "stream",
     "text": [
      "[Parallel(n_jobs=6)]: Using backend LokyBackend with 6 concurrent workers.\n",
      "[Parallel(n_jobs=6)]: Done  70 out of  70 | elapsed:    0.1s finished\n",
      "[Parallel(n_jobs=6)]: Using backend LokyBackend with 6 concurrent workers.\n"
     ]
    },
    {
     "name": "stdout",
     "output_type": "stream",
     "text": [
      "portfolio value: 175.16644125784381\n",
      "Fitting 10 folds for each of 7 candidates, totalling 70 fits\n",
      "portfolio value: 175.16644125784381\n",
      "Fitting 10 folds for each of 7 candidates, totalling 70 fits\n"
     ]
    },
    {
     "name": "stderr",
     "output_type": "stream",
     "text": [
      "[Parallel(n_jobs=6)]: Done  70 out of  70 | elapsed:    0.0s finished\n",
      "[Parallel(n_jobs=6)]: Using backend LokyBackend with 6 concurrent workers.\n",
      "[Parallel(n_jobs=6)]: Done  70 out of  70 | elapsed:    0.0s finished\n",
      "[Parallel(n_jobs=6)]: Using backend LokyBackend with 6 concurrent workers.\n"
     ]
    },
    {
     "name": "stdout",
     "output_type": "stream",
     "text": [
      "portfolio value: 175.16644125784381\n",
      "Fitting 10 folds for each of 7 candidates, totalling 70 fits\n",
      "portfolio value: 175.16644125784381\n",
      "Fitting 10 folds for each of 7 candidates, totalling 70 fits\n"
     ]
    },
    {
     "name": "stderr",
     "output_type": "stream",
     "text": [
      "[Parallel(n_jobs=6)]: Done  70 out of  70 | elapsed:    0.0s finished\n",
      "[Parallel(n_jobs=6)]: Using backend LokyBackend with 6 concurrent workers.\n",
      "[Parallel(n_jobs=6)]: Done  70 out of  70 | elapsed:    0.0s finished\n",
      "[Parallel(n_jobs=6)]: Using backend LokyBackend with 6 concurrent workers.\n"
     ]
    },
    {
     "name": "stdout",
     "output_type": "stream",
     "text": [
      "portfolio value: 175.16644125784381\n",
      "Fitting 10 folds for each of 7 candidates, totalling 70 fits\n",
      "portfolio value: 175.16644125784381\n",
      "Fitting 10 folds for each of 7 candidates, totalling 70 fits\n"
     ]
    },
    {
     "name": "stderr",
     "output_type": "stream",
     "text": [
      "[Parallel(n_jobs=6)]: Done  70 out of  70 | elapsed:    0.0s finished\n",
      "[Parallel(n_jobs=6)]: Using backend LokyBackend with 6 concurrent workers.\n",
      "[Parallel(n_jobs=6)]: Done  70 out of  70 | elapsed:    0.0s finished\n",
      "[Parallel(n_jobs=6)]: Using backend LokyBackend with 6 concurrent workers.\n"
     ]
    },
    {
     "name": "stdout",
     "output_type": "stream",
     "text": [
      "portfolio value: 175.16644125784381\n",
      "Fitting 10 folds for each of 7 candidates, totalling 70 fits\n",
      "portfolio value: 175.16644125784381\n",
      "Fitting 10 folds for each of 7 candidates, totalling 70 fits\n"
     ]
    },
    {
     "name": "stderr",
     "output_type": "stream",
     "text": [
      "[Parallel(n_jobs=6)]: Done  70 out of  70 | elapsed:    0.0s finished\n",
      "[Parallel(n_jobs=6)]: Using backend LokyBackend with 6 concurrent workers.\n",
      "[Parallel(n_jobs=6)]: Done  70 out of  70 | elapsed:    0.1s finished\n",
      "[Parallel(n_jobs=6)]: Using backend LokyBackend with 6 concurrent workers.\n"
     ]
    },
    {
     "name": "stdout",
     "output_type": "stream",
     "text": [
      "portfolio value: 175.16644125784381\n",
      "Fitting 10 folds for each of 7 candidates, totalling 70 fits\n",
      "portfolio value: 175.16644125784381\n",
      "Fitting 10 folds for each of 7 candidates, totalling 70 fits\n"
     ]
    },
    {
     "name": "stderr",
     "output_type": "stream",
     "text": [
      "[Parallel(n_jobs=6)]: Done  70 out of  70 | elapsed:    0.1s finished\n",
      "[Parallel(n_jobs=6)]: Using backend LokyBackend with 6 concurrent workers.\n",
      "[Parallel(n_jobs=6)]: Done  70 out of  70 | elapsed:    0.0s finished\n",
      "[Parallel(n_jobs=6)]: Using backend LokyBackend with 6 concurrent workers.\n",
      "[Parallel(n_jobs=6)]: Done  70 out of  70 | elapsed:    0.0s finished\n"
     ]
    },
    {
     "name": "stdout",
     "output_type": "stream",
     "text": [
      "portfolio value: 175.16644125784381\n",
      "Fitting 10 folds for each of 7 candidates, totalling 70 fits\n",
      "portfolio value: 175.16644125784381\n",
      "Fitting 10 folds for each of 7 candidates, totalling 70 fits\n"
     ]
    },
    {
     "name": "stderr",
     "output_type": "stream",
     "text": [
      "[Parallel(n_jobs=6)]: Using backend LokyBackend with 6 concurrent workers.\n",
      "[Parallel(n_jobs=6)]: Done  70 out of  70 | elapsed:    0.0s finished\n",
      "[Parallel(n_jobs=6)]: Using backend LokyBackend with 6 concurrent workers.\n"
     ]
    },
    {
     "name": "stdout",
     "output_type": "stream",
     "text": [
      "portfolio value: 175.16644125784381\n",
      "Fitting 10 folds for each of 7 candidates, totalling 70 fits\n",
      "portfolio value: 175.16644125784381\n",
      "Fitting 10 folds for each of 7 candidates, totalling 70 fits\n"
     ]
    },
    {
     "name": "stderr",
     "output_type": "stream",
     "text": [
      "[Parallel(n_jobs=6)]: Done  70 out of  70 | elapsed:    0.0s finished\n",
      "[Parallel(n_jobs=6)]: Using backend LokyBackend with 6 concurrent workers.\n",
      "[Parallel(n_jobs=6)]: Done  70 out of  70 | elapsed:    0.0s finished\n",
      "[Parallel(n_jobs=6)]: Using backend LokyBackend with 6 concurrent workers.\n"
     ]
    },
    {
     "name": "stdout",
     "output_type": "stream",
     "text": [
      "portfolio value: 175.16644125784381\n",
      "Fitting 10 folds for each of 7 candidates, totalling 70 fits\n",
      "portfolio value: 175.16644125784381\n",
      "Fitting 10 folds for each of 7 candidates, totalling 70 fits\n"
     ]
    },
    {
     "name": "stderr",
     "output_type": "stream",
     "text": [
      "[Parallel(n_jobs=6)]: Done  70 out of  70 | elapsed:    0.0s finished\n",
      "[Parallel(n_jobs=6)]: Using backend LokyBackend with 6 concurrent workers.\n",
      "[Parallel(n_jobs=6)]: Done  70 out of  70 | elapsed:    0.0s finished\n",
      "[Parallel(n_jobs=6)]: Using backend LokyBackend with 6 concurrent workers.\n"
     ]
    },
    {
     "name": "stdout",
     "output_type": "stream",
     "text": [
      "portfolio value: 175.16644125784381\n",
      "Fitting 10 folds for each of 7 candidates, totalling 70 fits\n",
      "portfolio value: 175.16644125784381\n",
      "Fitting 10 folds for each of 7 candidates, totalling 70 fits\n"
     ]
    },
    {
     "name": "stderr",
     "output_type": "stream",
     "text": [
      "[Parallel(n_jobs=6)]: Done  70 out of  70 | elapsed:    0.0s finished\n",
      "[Parallel(n_jobs=6)]: Using backend LokyBackend with 6 concurrent workers.\n",
      "[Parallel(n_jobs=6)]: Done  70 out of  70 | elapsed:    0.0s finished\n",
      "[Parallel(n_jobs=6)]: Using backend LokyBackend with 6 concurrent workers.\n"
     ]
    },
    {
     "name": "stdout",
     "output_type": "stream",
     "text": [
      "portfolio value: 175.16644125784381\n",
      "Fitting 10 folds for each of 7 candidates, totalling 70 fits\n",
      "portfolio value: 175.16644125784381\n",
      "Fitting 10 folds for each of 7 candidates, totalling 70 fits\n"
     ]
    },
    {
     "name": "stderr",
     "output_type": "stream",
     "text": [
      "[Parallel(n_jobs=6)]: Done  70 out of  70 | elapsed:    0.0s finished\n",
      "[Parallel(n_jobs=6)]: Using backend LokyBackend with 6 concurrent workers.\n",
      "[Parallel(n_jobs=6)]: Done  70 out of  70 | elapsed:    0.0s finished\n",
      "[Parallel(n_jobs=6)]: Using backend LokyBackend with 6 concurrent workers.\n"
     ]
    },
    {
     "name": "stdout",
     "output_type": "stream",
     "text": [
      "portfolio value: 175.16644125784381\n",
      "Fitting 10 folds for each of 7 candidates, totalling 70 fits\n",
      "portfolio value: 175.16644125784381\n",
      "Fitting 10 folds for each of 7 candidates, totalling 70 fits\n"
     ]
    },
    {
     "name": "stderr",
     "output_type": "stream",
     "text": [
      "[Parallel(n_jobs=6)]: Done  70 out of  70 | elapsed:    0.0s finished\n",
      "[Parallel(n_jobs=6)]: Using backend LokyBackend with 6 concurrent workers.\n",
      "[Parallel(n_jobs=6)]: Done  70 out of  70 | elapsed:    0.0s finished\n",
      "[Parallel(n_jobs=6)]: Using backend LokyBackend with 6 concurrent workers.\n"
     ]
    },
    {
     "name": "stdout",
     "output_type": "stream",
     "text": [
      "portfolio value: 175.16644125784381\n",
      "Fitting 10 folds for each of 7 candidates, totalling 70 fits\n",
      "portfolio value: 175.16644125784381\n",
      "Fitting 10 folds for each of 7 candidates, totalling 70 fits\n"
     ]
    },
    {
     "name": "stderr",
     "output_type": "stream",
     "text": [
      "[Parallel(n_jobs=6)]: Done  70 out of  70 | elapsed:    0.0s finished\n",
      "[Parallel(n_jobs=6)]: Using backend LokyBackend with 6 concurrent workers.\n",
      "[Parallel(n_jobs=6)]: Done  70 out of  70 | elapsed:    0.1s finished\n",
      "[Parallel(n_jobs=6)]: Using backend LokyBackend with 6 concurrent workers.\n"
     ]
    },
    {
     "name": "stdout",
     "output_type": "stream",
     "text": [
      "LOSS! 0.9425592296445942\n",
      "portfolio value: 165.10474593157832\n",
      "Fitting 10 folds for each of 7 candidates, totalling 70 fits\n",
      "GAIN! 1.100309185855239\n",
      "portfolio value: 181.666268576811\n",
      "Fitting 10 folds for each of 7 candidates, totalling 70 fits\n"
     ]
    },
    {
     "name": "stderr",
     "output_type": "stream",
     "text": [
      "[Parallel(n_jobs=6)]: Done  70 out of  70 | elapsed:    0.0s finished\n",
      "[Parallel(n_jobs=6)]: Using backend LokyBackend with 6 concurrent workers.\n",
      "[Parallel(n_jobs=6)]: Done  70 out of  70 | elapsed:    0.0s finished\n",
      "[Parallel(n_jobs=6)]: Using backend LokyBackend with 6 concurrent workers.\n"
     ]
    },
    {
     "name": "stdout",
     "output_type": "stream",
     "text": [
      "GAIN! 1.0463224622454266\n",
      "portfolio value: 190.08149744422786\n",
      "Fitting 10 folds for each of 7 candidates, totalling 70 fits\n",
      "LOSS! 0.9914443935942692\n",
      "portfolio value: 188.45523496708313\n",
      "Fitting 10 folds for each of 7 candidates, totalling 70 fits\n"
     ]
    },
    {
     "name": "stderr",
     "output_type": "stream",
     "text": [
      "[Parallel(n_jobs=6)]: Done  70 out of  70 | elapsed:    0.1s finished\n",
      "[Parallel(n_jobs=6)]: Using backend LokyBackend with 6 concurrent workers.\n",
      "[Parallel(n_jobs=6)]: Done  70 out of  70 | elapsed:    0.0s finished\n",
      "[Parallel(n_jobs=6)]: Using backend LokyBackend with 6 concurrent workers.\n"
     ]
    },
    {
     "name": "stdout",
     "output_type": "stream",
     "text": [
      "GAIN! 1.0061825430206828\n",
      "portfolio value: 189.62036756474\n",
      "Fitting 10 folds for each of 7 candidates, totalling 70 fits\n",
      "LOSS! 0.9628551324586927\n",
      "portfolio value: 182.57694412841374\n",
      "Fitting 10 folds for each of 7 candidates, totalling 70 fits\n"
     ]
    },
    {
     "name": "stderr",
     "output_type": "stream",
     "text": [
      "[Parallel(n_jobs=6)]: Done  70 out of  70 | elapsed:    0.0s finished\n",
      "[Parallel(n_jobs=6)]: Using backend LokyBackend with 6 concurrent workers.\n",
      "[Parallel(n_jobs=6)]: Done  70 out of  70 | elapsed:    0.0s finished\n",
      "[Parallel(n_jobs=6)]: Using backend LokyBackend with 6 concurrent workers.\n"
     ]
    },
    {
     "name": "stdout",
     "output_type": "stream",
     "text": [
      "LOSS! 0.9652000583468278\n",
      "portfolio value: 176.22327712553044\n",
      "Fitting 10 folds for each of 7 candidates, totalling 70 fits\n",
      "GAIN! 1.0851067318758851\n",
      "portfolio value: 191.22106432214275\n",
      "Fitting 10 folds for each of 7 candidates, totalling 70 fits\n"
     ]
    },
    {
     "name": "stderr",
     "output_type": "stream",
     "text": [
      "[Parallel(n_jobs=6)]: Done  70 out of  70 | elapsed:    0.0s finished\n",
      "[Parallel(n_jobs=6)]: Using backend LokyBackend with 6 concurrent workers.\n",
      "[Parallel(n_jobs=6)]: Done  70 out of  70 | elapsed:    0.0s finished\n",
      "[Parallel(n_jobs=6)]: Using backend LokyBackend with 6 concurrent workers.\n"
     ]
    },
    {
     "name": "stdout",
     "output_type": "stream",
     "text": [
      "GAIN! 1.0012499732343842\n",
      "portfolio value: 191.4600855343959\n",
      "Fitting 10 folds for each of 7 candidates, totalling 70 fits\n",
      "GAIN! 1.0263241610997882\n",
      "portfolio value: 196.50011167018255\n",
      "Fitting 10 folds for each of 7 candidates, totalling 70 fits\n"
     ]
    },
    {
     "name": "stderr",
     "output_type": "stream",
     "text": [
      "[Parallel(n_jobs=6)]: Done  70 out of  70 | elapsed:    0.0s finished\n",
      "[Parallel(n_jobs=6)]: Using backend LokyBackend with 6 concurrent workers.\n",
      "[Parallel(n_jobs=6)]: Done  70 out of  70 | elapsed:    0.0s finished\n",
      "[Parallel(n_jobs=6)]: Using backend LokyBackend with 6 concurrent workers.\n"
     ]
    },
    {
     "name": "stdout",
     "output_type": "stream",
     "text": [
      "GAIN! 1.0282812878999854\n",
      "portfolio value: 202.05738790070626\n",
      "Fitting 10 folds for each of 7 candidates, totalling 70 fits\n",
      "LOSS! 0.9905832655942777\n",
      "portfolio value: 200.1546671441313\n",
      "Fitting 10 folds for each of 7 candidates, totalling 70 fits\n"
     ]
    },
    {
     "name": "stderr",
     "output_type": "stream",
     "text": [
      "[Parallel(n_jobs=6)]: Done  70 out of  70 | elapsed:    0.0s finished\n",
      "[Parallel(n_jobs=6)]: Using backend LokyBackend with 6 concurrent workers.\n",
      "[Parallel(n_jobs=6)]: Done  70 out of  70 | elapsed:    0.0s finished\n",
      "[Parallel(n_jobs=6)]: Using backend LokyBackend with 6 concurrent workers.\n"
     ]
    },
    {
     "name": "stdout",
     "output_type": "stream",
     "text": [
      "GAIN! 1.0191655082300208\n",
      "portfolio value: 203.99073306455924\n",
      "Fitting 10 folds for each of 7 candidates, totalling 70 fits\n",
      "LOSS! 0.9895944900688941\n",
      "portfolio value: 201.8681054658024\n",
      "Fitting 10 folds for each of 7 candidates, totalling 70 fits\n"
     ]
    },
    {
     "name": "stderr",
     "output_type": "stream",
     "text": [
      "[Parallel(n_jobs=6)]: Done  70 out of  70 | elapsed:    0.0s finished\n",
      "[Parallel(n_jobs=6)]: Using backend LokyBackend with 6 concurrent workers.\n",
      "[Parallel(n_jobs=6)]: Done  70 out of  70 | elapsed:    0.0s finished\n",
      "[Parallel(n_jobs=6)]: Using backend LokyBackend with 6 concurrent workers.\n"
     ]
    },
    {
     "name": "stdout",
     "output_type": "stream",
     "text": [
      "GAIN! 1.0712622121567903\n",
      "portfolio value: 216.2536732251957\n",
      "Fitting 10 folds for each of 7 candidates, totalling 70 fits\n",
      "LOSS! 0.9866326298602021\n",
      "portfolio value: 213.3629303311036\n",
      "Fitting 10 folds for each of 7 candidates, totalling 70 fits\n"
     ]
    },
    {
     "name": "stderr",
     "output_type": "stream",
     "text": [
      "[Parallel(n_jobs=6)]: Done  70 out of  70 | elapsed:    0.1s finished\n",
      "[Parallel(n_jobs=6)]: Using backend LokyBackend with 6 concurrent workers.\n",
      "[Parallel(n_jobs=6)]: Done  70 out of  70 | elapsed:    0.1s finished\n",
      "[Parallel(n_jobs=6)]: Using backend LokyBackend with 6 concurrent workers.\n"
     ]
    },
    {
     "name": "stdout",
     "output_type": "stream",
     "text": [
      "GAIN! 1.0215641903665413\n",
      "portfolio value: 217.96392917792662\n",
      "Fitting 10 folds for each of 7 candidates, totalling 70 fits\n",
      "LOSS! 0.9951107770714369\n",
      "portfolio value: 216.8982549377902\n",
      "Fitting 10 folds for each of 7 candidates, totalling 70 fits\n"
     ]
    },
    {
     "name": "stderr",
     "output_type": "stream",
     "text": [
      "[Parallel(n_jobs=6)]: Done  70 out of  70 | elapsed:    0.0s finished\n",
      "[Parallel(n_jobs=6)]: Using backend LokyBackend with 6 concurrent workers.\n",
      "[Parallel(n_jobs=6)]: Done  70 out of  70 | elapsed:    0.0s finished\n",
      "[Parallel(n_jobs=6)]: Using backend LokyBackend with 6 concurrent workers.\n"
     ]
    },
    {
     "name": "stdout",
     "output_type": "stream",
     "text": [
      "LOSS! 0.9399872203994407\n",
      "portfolio value: 203.88158776846268\n",
      "Fitting 10 folds for each of 7 candidates, totalling 70 fits\n",
      "LOSS! 0.9987830368591373\n",
      "portfolio value: 203.6334713910479\n",
      "Fitting 10 folds for each of 7 candidates, totalling 70 fits\n"
     ]
    },
    {
     "name": "stderr",
     "output_type": "stream",
     "text": [
      "[Parallel(n_jobs=6)]: Done  70 out of  70 | elapsed:    0.0s finished\n",
      "[Parallel(n_jobs=6)]: Using backend LokyBackend with 6 concurrent workers.\n",
      "[Parallel(n_jobs=6)]: Done  70 out of  70 | elapsed:    0.0s finished\n",
      "[Parallel(n_jobs=6)]: Using backend LokyBackend with 6 concurrent workers.\n"
     ]
    },
    {
     "name": "stdout",
     "output_type": "stream",
     "text": [
      "GAIN! 1.016480432667871\n",
      "portfolio value: 206.98943910523286\n",
      "Fitting 10 folds for each of 7 candidates, totalling 70 fits\n",
      "LOSS! 0.9826893860559361\n",
      "portfolio value: 203.40632483438387\n",
      "Fitting 10 folds for each of 7 candidates, totalling 70 fits\n"
     ]
    },
    {
     "name": "stderr",
     "output_type": "stream",
     "text": [
      "[Parallel(n_jobs=6)]: Done  70 out of  70 | elapsed:    0.0s finished\n",
      "[Parallel(n_jobs=6)]: Using backend LokyBackend with 6 concurrent workers.\n",
      "[Parallel(n_jobs=6)]: Done  70 out of  70 | elapsed:    0.0s finished\n",
      "[Parallel(n_jobs=6)]: Using backend LokyBackend with 6 concurrent workers.\n"
     ]
    },
    {
     "name": "stdout",
     "output_type": "stream",
     "text": [
      "portfolio value: 203.40632483438387\n",
      "Fitting 10 folds for each of 7 candidates, totalling 70 fits\n",
      "portfolio value: 203.40632483438387\n",
      "Fitting 10 folds for each of 7 candidates, totalling 70 fits\n"
     ]
    },
    {
     "name": "stderr",
     "output_type": "stream",
     "text": [
      "[Parallel(n_jobs=6)]: Done  70 out of  70 | elapsed:    0.0s finished\n",
      "[Parallel(n_jobs=6)]: Using backend LokyBackend with 6 concurrent workers.\n",
      "[Parallel(n_jobs=6)]: Done  70 out of  70 | elapsed:    0.1s finished\n",
      "[Parallel(n_jobs=6)]: Using backend LokyBackend with 6 concurrent workers.\n"
     ]
    },
    {
     "name": "stdout",
     "output_type": "stream",
     "text": [
      "portfolio value: 203.40632483438387\n",
      "Fitting 10 folds for each of 7 candidates, totalling 70 fits\n",
      "portfolio value: 203.40632483438387\n",
      "Fitting 10 folds for each of 7 candidates, totalling 70 fits\n"
     ]
    },
    {
     "name": "stderr",
     "output_type": "stream",
     "text": [
      "[Parallel(n_jobs=6)]: Done  70 out of  70 | elapsed:    0.0s finished\n",
      "[Parallel(n_jobs=6)]: Using backend LokyBackend with 6 concurrent workers.\n",
      "[Parallel(n_jobs=6)]: Done  70 out of  70 | elapsed:    0.0s finished\n",
      "[Parallel(n_jobs=6)]: Using backend LokyBackend with 6 concurrent workers.\n"
     ]
    },
    {
     "name": "stdout",
     "output_type": "stream",
     "text": [
      "portfolio value: 203.40632483438387\n",
      "Fitting 10 folds for each of 7 candidates, totalling 70 fits\n",
      "portfolio value: 203.40632483438387\n",
      "Fitting 10 folds for each of 7 candidates, totalling 70 fits\n"
     ]
    },
    {
     "name": "stderr",
     "output_type": "stream",
     "text": [
      "[Parallel(n_jobs=6)]: Done  70 out of  70 | elapsed:    0.1s finished\n",
      "[Parallel(n_jobs=6)]: Using backend LokyBackend with 6 concurrent workers.\n",
      "[Parallel(n_jobs=6)]: Done  70 out of  70 | elapsed:    0.0s finished\n",
      "[Parallel(n_jobs=6)]: Using backend LokyBackend with 6 concurrent workers.\n"
     ]
    },
    {
     "name": "stdout",
     "output_type": "stream",
     "text": [
      "portfolio value: 203.40632483438387\n",
      "Fitting 10 folds for each of 7 candidates, totalling 70 fits\n",
      "portfolio value: 203.40632483438387\n",
      "Fitting 10 folds for each of 7 candidates, totalling 70 fits\n"
     ]
    },
    {
     "name": "stderr",
     "output_type": "stream",
     "text": [
      "[Parallel(n_jobs=6)]: Done  70 out of  70 | elapsed:    0.1s finished\n",
      "[Parallel(n_jobs=6)]: Using backend LokyBackend with 6 concurrent workers.\n",
      "[Parallel(n_jobs=6)]: Done  70 out of  70 | elapsed:    0.0s finished\n",
      "[Parallel(n_jobs=6)]: Using backend LokyBackend with 6 concurrent workers.\n"
     ]
    },
    {
     "name": "stdout",
     "output_type": "stream",
     "text": [
      "portfolio value: 203.40632483438387\n",
      "Fitting 10 folds for each of 7 candidates, totalling 70 fits\n",
      "portfolio value: 203.40632483438387\n",
      "Fitting 10 folds for each of 7 candidates, totalling 70 fits\n"
     ]
    },
    {
     "name": "stderr",
     "output_type": "stream",
     "text": [
      "[Parallel(n_jobs=6)]: Done  70 out of  70 | elapsed:    0.0s finished\n",
      "[Parallel(n_jobs=6)]: Using backend LokyBackend with 6 concurrent workers.\n",
      "[Parallel(n_jobs=6)]: Done  70 out of  70 | elapsed:    0.0s finished\n",
      "[Parallel(n_jobs=6)]: Using backend LokyBackend with 6 concurrent workers.\n"
     ]
    },
    {
     "name": "stdout",
     "output_type": "stream",
     "text": [
      "portfolio value: 203.40632483438387\n",
      "Fitting 10 folds for each of 7 candidates, totalling 70 fits\n",
      "portfolio value: 203.40632483438387\n",
      "Fitting 10 folds for each of 7 candidates, totalling 70 fits\n"
     ]
    },
    {
     "name": "stderr",
     "output_type": "stream",
     "text": [
      "[Parallel(n_jobs=6)]: Done  70 out of  70 | elapsed:    0.0s finished\n",
      "[Parallel(n_jobs=6)]: Using backend LokyBackend with 6 concurrent workers.\n",
      "[Parallel(n_jobs=6)]: Done  70 out of  70 | elapsed:    0.0s finished\n",
      "[Parallel(n_jobs=6)]: Using backend LokyBackend with 6 concurrent workers.\n"
     ]
    },
    {
     "name": "stdout",
     "output_type": "stream",
     "text": [
      "portfolio value: 203.40632483438387\n",
      "Fitting 10 folds for each of 7 candidates, totalling 70 fits\n",
      "GAIN! 1.015129026002308\n",
      "portfolio value: 206.48366441183717\n",
      "Fitting 10 folds for each of 7 candidates, totalling 70 fits\n"
     ]
    },
    {
     "name": "stderr",
     "output_type": "stream",
     "text": [
      "[Parallel(n_jobs=6)]: Done  70 out of  70 | elapsed:    0.0s finished\n",
      "[Parallel(n_jobs=6)]: Using backend LokyBackend with 6 concurrent workers.\n",
      "[Parallel(n_jobs=6)]: Done  70 out of  70 | elapsed:    0.0s finished\n",
      "[Parallel(n_jobs=6)]: Using backend LokyBackend with 6 concurrent workers.\n"
     ]
    },
    {
     "name": "stdout",
     "output_type": "stream",
     "text": [
      "GAIN! 1.0012938844997823\n",
      "portfolio value: 206.7508304246779\n",
      "Fitting 10 folds for each of 7 candidates, totalling 70 fits\n",
      "GAIN! 1.1273680433386057\n",
      "portfolio value: 233.084279154501\n",
      "Fitting 10 folds for each of 7 candidates, totalling 70 fits\n"
     ]
    },
    {
     "name": "stderr",
     "output_type": "stream",
     "text": [
      "[Parallel(n_jobs=6)]: Done  70 out of  70 | elapsed:    0.0s finished\n",
      "[Parallel(n_jobs=6)]: Using backend LokyBackend with 6 concurrent workers.\n",
      "[Parallel(n_jobs=6)]: Done  70 out of  70 | elapsed:    0.0s finished\n",
      "[Parallel(n_jobs=6)]: Using backend LokyBackend with 6 concurrent workers.\n"
     ]
    },
    {
     "name": "stdout",
     "output_type": "stream",
     "text": [
      "LOSS! 0.9841871527151077\n",
      "portfolio value: 229.39855304372165\n",
      "Fitting 10 folds for each of 7 candidates, totalling 70 fits\n",
      "GAIN! 1.0221364228899927\n",
      "portfolio value: 234.4766164242499\n",
      "Fitting 10 folds for each of 7 candidates, totalling 70 fits\n"
     ]
    },
    {
     "name": "stderr",
     "output_type": "stream",
     "text": [
      "[Parallel(n_jobs=6)]: Done  70 out of  70 | elapsed:    0.0s finished\n",
      "[Parallel(n_jobs=6)]: Using backend LokyBackend with 6 concurrent workers.\n",
      "[Parallel(n_jobs=6)]: Done  70 out of  70 | elapsed:    0.0s finished\n",
      "[Parallel(n_jobs=6)]: Using backend LokyBackend with 6 concurrent workers.\n"
     ]
    },
    {
     "name": "stdout",
     "output_type": "stream",
     "text": [
      "GAIN! 1.0134782146716854\n",
      "portfolio value: 237.6369425959064\n",
      "Fitting 10 folds for each of 7 candidates, totalling 70 fits\n",
      "LOSS! 0.9904108184812606\n",
      "portfolio value: 235.35819881779597\n",
      "Fitting 10 folds for each of 7 candidates, totalling 70 fits\n"
     ]
    },
    {
     "name": "stderr",
     "output_type": "stream",
     "text": [
      "[Parallel(n_jobs=6)]: Done  70 out of  70 | elapsed:    0.1s finished\n",
      "[Parallel(n_jobs=6)]: Using backend LokyBackend with 6 concurrent workers.\n",
      "[Parallel(n_jobs=6)]: Done  70 out of  70 | elapsed:    0.1s finished\n",
      "[Parallel(n_jobs=6)]: Using backend LokyBackend with 6 concurrent workers.\n"
     ]
    },
    {
     "name": "stdout",
     "output_type": "stream",
     "text": [
      "GAIN! 1.0019008165662064\n",
      "portfolio value: 235.80557158110133\n",
      "Fitting 10 folds for each of 7 candidates, totalling 70 fits\n",
      "GAIN! 1.0101245351571317\n",
      "portfolio value: 238.19299338082175\n",
      "Fitting 10 folds for each of 7 candidates, totalling 70 fits\n",
      "GAIN! 1.0290116028197172\n",
      "portfolio value: 245.10335389922565\n",
      "Fitting 10 folds for each of 7 candidates, totalling 70 fits\n"
     ]
    },
    {
     "name": "stderr",
     "output_type": "stream",
     "text": [
      "[Parallel(n_jobs=6)]: Done  70 out of  70 | elapsed:    0.0s finished\n",
      "[Parallel(n_jobs=6)]: Using backend LokyBackend with 6 concurrent workers.\n",
      "[Parallel(n_jobs=6)]: Done  70 out of  70 | elapsed:    0.0s finished\n",
      "[Parallel(n_jobs=6)]: Using backend LokyBackend with 6 concurrent workers.\n",
      "[Parallel(n_jobs=6)]: Done  70 out of  70 | elapsed:    0.0s finished\n"
     ]
    },
    {
     "name": "stdout",
     "output_type": "stream",
     "text": [
      "GAIN! 1.074458089739114\n",
      "portfolio value: 263.353281419212\n",
      "Fitting 10 folds for each of 7 candidates, totalling 70 fits\n",
      "LOSS! 0.9905903212205259\n",
      "portfolio value: 260.8752116355368\n",
      "Fitting 10 folds for each of 7 candidates, totalling 70 fits\n"
     ]
    },
    {
     "name": "stderr",
     "output_type": "stream",
     "text": [
      "[Parallel(n_jobs=6)]: Using backend LokyBackend with 6 concurrent workers.\n",
      "[Parallel(n_jobs=6)]: Done  70 out of  70 | elapsed:    0.0s finished\n",
      "[Parallel(n_jobs=6)]: Using backend LokyBackend with 6 concurrent workers.\n",
      "[Parallel(n_jobs=6)]: Done  70 out of  70 | elapsed:    0.0s finished\n",
      "[Parallel(n_jobs=6)]: Using backend LokyBackend with 6 concurrent workers.\n",
      "[Parallel(n_jobs=6)]: Done  70 out of  70 | elapsed:    0.0s finished\n",
      "[Parallel(n_jobs=6)]: Using backend LokyBackend with 6 concurrent workers.\n"
     ]
    },
    {
     "name": "stdout",
     "output_type": "stream",
     "text": [
      "LOSS! 0.9748996932447151\n",
      "portfolio value: 254.32716379863498\n",
      "Fitting 10 folds for each of 7 candidates, totalling 70 fits\n",
      "LOSS! 0.9129680348652431\n",
      "portfolio value: 232.1925709460906\n",
      "Fitting 10 folds for each of 7 candidates, totalling 70 fits\n"
     ]
    },
    {
     "name": "stderr",
     "output_type": "stream",
     "text": [
      "[Parallel(n_jobs=6)]: Done  70 out of  70 | elapsed:    0.0s finished\n",
      "[Parallel(n_jobs=6)]: Using backend LokyBackend with 6 concurrent workers.\n",
      "[Parallel(n_jobs=6)]: Done  70 out of  70 | elapsed:    0.0s finished\n",
      "[Parallel(n_jobs=6)]: Using backend LokyBackend with 6 concurrent workers.\n"
     ]
    },
    {
     "name": "stdout",
     "output_type": "stream",
     "text": [
      "LOSS! 0.9824409068013672\n",
      "portfolio value: 228.11547995281802\n",
      "Fitting 10 folds for each of 7 candidates, totalling 70 fits\n",
      "GAIN! 1.0225415913626292\n",
      "portfolio value: 233.2575658854045\n",
      "Fitting 10 folds for each of 7 candidates, totalling 70 fits\n"
     ]
    },
    {
     "name": "stderr",
     "output_type": "stream",
     "text": [
      "[Parallel(n_jobs=6)]: Done  70 out of  70 | elapsed:    0.0s finished\n",
      "[Parallel(n_jobs=6)]: Using backend LokyBackend with 6 concurrent workers.\n",
      "[Parallel(n_jobs=6)]: Done  70 out of  70 | elapsed:    0.0s finished\n",
      "[Parallel(n_jobs=6)]: Using backend LokyBackend with 6 concurrent workers.\n"
     ]
    },
    {
     "name": "stdout",
     "output_type": "stream",
     "text": [
      "GAIN! 1.0527631065719374\n",
      "portfolio value: 245.5649596929268\n",
      "Fitting 10 folds for each of 7 candidates, totalling 70 fits\n",
      "GAIN! 1.0498733863354146\n",
      "portfolio value: 257.81211579813265\n",
      "Fitting 10 folds for each of 7 candidates, totalling 70 fits\n"
     ]
    },
    {
     "name": "stderr",
     "output_type": "stream",
     "text": [
      "[Parallel(n_jobs=6)]: Done  70 out of  70 | elapsed:    0.1s finished\n",
      "[Parallel(n_jobs=6)]: Using backend LokyBackend with 6 concurrent workers.\n",
      "[Parallel(n_jobs=6)]: Done  70 out of  70 | elapsed:    0.0s finished\n",
      "[Parallel(n_jobs=6)]: Using backend LokyBackend with 6 concurrent workers.\n"
     ]
    },
    {
     "name": "stdout",
     "output_type": "stream",
     "text": [
      "LOSS! 0.9582821440875192\n",
      "portfolio value: 247.05674709877434\n",
      "Fitting 10 folds for each of 7 candidates, totalling 70 fits\n",
      "GAIN! 1.0046900579435187\n",
      "portfolio value: 248.21545755800483\n",
      "Fitting 10 folds for each of 7 candidates, totalling 70 fits\n"
     ]
    },
    {
     "name": "stderr",
     "output_type": "stream",
     "text": [
      "[Parallel(n_jobs=6)]: Done  70 out of  70 | elapsed:    0.0s finished\n",
      "[Parallel(n_jobs=6)]: Using backend LokyBackend with 6 concurrent workers.\n",
      "[Parallel(n_jobs=6)]: Done  70 out of  70 | elapsed:    0.0s finished\n",
      "[Parallel(n_jobs=6)]: Using backend LokyBackend with 6 concurrent workers.\n"
     ]
    },
    {
     "name": "stdout",
     "output_type": "stream",
     "text": [
      "GAIN! 1.0315532574827644\n",
      "portfolio value: 256.0474638015347\n",
      "Fitting 10 folds for each of 7 candidates, totalling 70 fits\n",
      "GAIN! 1.0052585247022783\n",
      "portfolio value: 257.3938957148908\n",
      "Fitting 10 folds for each of 7 candidates, totalling 70 fits\n"
     ]
    },
    {
     "name": "stderr",
     "output_type": "stream",
     "text": [
      "[Parallel(n_jobs=6)]: Done  70 out of  70 | elapsed:    0.1s finished\n",
      "[Parallel(n_jobs=6)]: Using backend LokyBackend with 6 concurrent workers.\n",
      "[Parallel(n_jobs=6)]: Done  70 out of  70 | elapsed:    0.0s finished\n"
     ]
    },
    {
     "name": "stdout",
     "output_type": "stream",
     "text": [
      "GAIN! 1.000203001592388\n",
      "portfolio value: 257.44614708559186\n",
      "Fitting 10 folds for each of 7 candidates, totalling 70 fits\n",
      "LOSS! 0.9791937471589017\n",
      "portfolio value: 252.08965745636246\n",
      "Fitting 10 folds for each of 7 candidates, totalling 70 fits\n"
     ]
    },
    {
     "name": "stderr",
     "output_type": "stream",
     "text": [
      "[Parallel(n_jobs=6)]: Using backend LokyBackend with 6 concurrent workers.\n",
      "[Parallel(n_jobs=6)]: Done  70 out of  70 | elapsed:    0.0s finished\n",
      "[Parallel(n_jobs=6)]: Using backend LokyBackend with 6 concurrent workers.\n"
     ]
    },
    {
     "name": "stdout",
     "output_type": "stream",
     "text": [
      "LOSS! 0.9536920566169427\n",
      "portfolio value: 240.41590387141892\n",
      "Fitting 10 folds for each of 7 candidates, totalling 70 fits\n",
      "GAIN! 1.0112597374369816\n",
      "portfolio value: 243.1229238246857\n",
      "Fitting 10 folds for each of 7 candidates, totalling 70 fits\n"
     ]
    },
    {
     "name": "stderr",
     "output_type": "stream",
     "text": [
      "[Parallel(n_jobs=6)]: Done  70 out of  70 | elapsed:    0.0s finished\n",
      "[Parallel(n_jobs=6)]: Using backend LokyBackend with 6 concurrent workers.\n",
      "[Parallel(n_jobs=6)]: Done  70 out of  70 | elapsed:    0.1s finished\n",
      "[Parallel(n_jobs=6)]: Using backend LokyBackend with 6 concurrent workers.\n",
      "[Parallel(n_jobs=6)]: Done  70 out of  70 | elapsed:    0.1s finished\n"
     ]
    },
    {
     "name": "stdout",
     "output_type": "stream",
     "text": [
      "GAIN! 1.0026373918930873\n",
      "portfolio value: 243.7641342530046\n",
      "Fitting 10 folds for each of 7 candidates, totalling 70 fits\n",
      "LOSS! 0.9542008175650334\n",
      "portfolio value: 232.59993619724955\n",
      "Fitting 10 folds for each of 7 candidates, totalling 70 fits\n"
     ]
    },
    {
     "name": "stderr",
     "output_type": "stream",
     "text": [
      "[Parallel(n_jobs=6)]: Using backend LokyBackend with 6 concurrent workers.\n",
      "[Parallel(n_jobs=6)]: Done  70 out of  70 | elapsed:    0.1s finished\n"
     ]
    },
    {
     "name": "stdout",
     "output_type": "stream",
     "text": [
      "GAIN! 1.0137520681953733\n",
      "portfolio value: 235.7986663820736\n",
      "Fitting 10 folds for each of 7 candidates, totalling 70 fits\n",
      "LOSS! 0.9916344930451488\n",
      "portfolio value: 233.82609099850973\n",
      "Fitting 10 folds for each of 7 candidates, totalling 70 fits\n"
     ]
    },
    {
     "name": "stderr",
     "output_type": "stream",
     "text": [
      "[Parallel(n_jobs=6)]: Using backend LokyBackend with 6 concurrent workers.\n",
      "[Parallel(n_jobs=6)]: Done  70 out of  70 | elapsed:    0.0s finished\n",
      "[Parallel(n_jobs=6)]: Using backend LokyBackend with 6 concurrent workers.\n",
      "[Parallel(n_jobs=6)]: Done  70 out of  70 | elapsed:    0.1s finished\n",
      "[Parallel(n_jobs=6)]: Using backend LokyBackend with 6 concurrent workers.\n",
      "[Parallel(n_jobs=6)]: Done  70 out of  70 | elapsed:    0.1s finished\n",
      "[Parallel(n_jobs=6)]: Using backend LokyBackend with 6 concurrent workers.\n"
     ]
    },
    {
     "name": "stdout",
     "output_type": "stream",
     "text": [
      "GAIN! 1.0388844527828014\n",
      "portfolio value: 242.9182905933283\n",
      "Fitting 10 folds for each of 7 candidates, totalling 70 fits\n",
      "GAIN! 1.0371048114569272\n",
      "portfolio value: 251.9317279652328\n",
      "Fitting 10 folds for each of 7 candidates, totalling 70 fits\n"
     ]
    },
    {
     "name": "stderr",
     "output_type": "stream",
     "text": [
      "[Parallel(n_jobs=6)]: Done  70 out of  70 | elapsed:    0.0s finished\n",
      "[Parallel(n_jobs=6)]: Using backend LokyBackend with 6 concurrent workers.\n",
      "[Parallel(n_jobs=6)]: Done  70 out of  70 | elapsed:    0.1s finished\n"
     ]
    },
    {
     "name": "stdout",
     "output_type": "stream",
     "text": [
      "LOSS! 0.9906351683031609\n",
      "portfolio value: 249.57242973374454\n",
      "Fitting 10 folds for each of 7 candidates, totalling 70 fits\n",
      "GAIN! 1.0277044581896255\n",
      "portfolio value: 256.4866986785863\n"
     ]
    },
    {
     "name": "stderr",
     "output_type": "stream",
     "text": [
      "[Parallel(n_jobs=6)]: Using backend LokyBackend with 6 concurrent workers.\n",
      "[Parallel(n_jobs=6)]: Done  70 out of  70 | elapsed:    0.0s finished\n",
      "[Parallel(n_jobs=6)]: Using backend LokyBackend with 6 concurrent workers.\n"
     ]
    },
    {
     "name": "stdout",
     "output_type": "stream",
     "text": [
      "Fitting 10 folds for each of 7 candidates, totalling 70 fits\n",
      "LOSS! 0.9753562602210752\n",
      "portfolio value: 250.16590721959577\n",
      "Fitting 10 folds for each of 7 candidates, totalling 70 fits\n"
     ]
    },
    {
     "name": "stderr",
     "output_type": "stream",
     "text": [
      "[Parallel(n_jobs=6)]: Done  70 out of  70 | elapsed:    0.0s finished\n",
      "[Parallel(n_jobs=6)]: Using backend LokyBackend with 6 concurrent workers.\n",
      "[Parallel(n_jobs=6)]: Done  70 out of  70 | elapsed:    0.1s finished\n"
     ]
    },
    {
     "name": "stdout",
     "output_type": "stream",
     "text": [
      "portfolio value: 250.16590721959577\n",
      "Fitting 10 folds for each of 7 candidates, totalling 70 fits\n",
      "LOSS! 0.9376983602682263\n",
      "portfolio value: 234.5801609948282\n",
      "Fitting 10 folds for each of 7 candidates, totalling 70 fits\n"
     ]
    },
    {
     "name": "stderr",
     "output_type": "stream",
     "text": [
      "[Parallel(n_jobs=6)]: Using backend LokyBackend with 6 concurrent workers.\n",
      "[Parallel(n_jobs=6)]: Done  70 out of  70 | elapsed:    0.0s finished\n",
      "[Parallel(n_jobs=6)]: Using backend LokyBackend with 6 concurrent workers.\n"
     ]
    },
    {
     "name": "stdout",
     "output_type": "stream",
     "text": [
      "GAIN! 1.0128970124775534\n",
      "portfolio value: 237.60554425816497\n",
      "Fitting 10 folds for each of 7 candidates, totalling 70 fits\n",
      "GAIN! 1.0149942427860363\n",
      "portfolio value: 241.1682594760802\n",
      "Fitting 10 folds for each of 7 candidates, totalling 70 fits\n"
     ]
    },
    {
     "name": "stderr",
     "output_type": "stream",
     "text": [
      "[Parallel(n_jobs=6)]: Done  70 out of  70 | elapsed:    0.0s finished\n",
      "[Parallel(n_jobs=6)]: Using backend LokyBackend with 6 concurrent workers.\n",
      "[Parallel(n_jobs=6)]: Done  70 out of  70 | elapsed:    0.0s finished\n",
      "[Parallel(n_jobs=6)]: Using backend LokyBackend with 6 concurrent workers.\n"
     ]
    },
    {
     "name": "stdout",
     "output_type": "stream",
     "text": [
      "LOSS! 0.9862571784482186\n",
      "portfolio value: 237.85392712214673\n",
      "Fitting 10 folds for each of 7 candidates, totalling 70 fits\n"
     ]
    },
    {
     "name": "stderr",
     "output_type": "stream",
     "text": [
      "[Parallel(n_jobs=6)]: Done  70 out of  70 | elapsed:    0.1s finished\n",
      "[Parallel(n_jobs=6)]: Using backend LokyBackend with 6 concurrent workers.\n",
      "[Parallel(n_jobs=6)]: Done  70 out of  70 | elapsed:    0.0s finished\n",
      "[Parallel(n_jobs=6)]: Using backend LokyBackend with 6 concurrent workers.\n"
     ]
    },
    {
     "name": "stdout",
     "output_type": "stream",
     "text": [
      "LOSS! 0.9988386217772866\n",
      "portfolio value: 237.5776887510002\n",
      "Fitting 10 folds for each of 7 candidates, totalling 70 fits\n",
      "GAIN! 1.0109654591577366\n",
      "portfolio value: 240.18283719378877\n",
      "Fitting 10 folds for each of 7 candidates, totalling 70 fits\n"
     ]
    },
    {
     "name": "stderr",
     "output_type": "stream",
     "text": [
      "[Parallel(n_jobs=6)]: Done  70 out of  70 | elapsed:    0.1s finished\n",
      "[Parallel(n_jobs=6)]: Using backend LokyBackend with 6 concurrent workers.\n",
      "[Parallel(n_jobs=6)]: Done  70 out of  70 | elapsed:    0.1s finished\n",
      "[Parallel(n_jobs=6)]: Using backend LokyBackend with 6 concurrent workers.\n"
     ]
    },
    {
     "name": "stdout",
     "output_type": "stream",
     "text": [
      "GAIN! 1.0011706666946827\n",
      "portfolio value: 240.46401124192593\n",
      "Fitting 10 folds for each of 7 candidates, totalling 70 fits\n",
      "GAIN! 1.0021832470854821\n",
      "portfolio value: 240.9890035936332\n",
      "Fitting 10 folds for each of 7 candidates, totalling 70 fits\n"
     ]
    },
    {
     "name": "stderr",
     "output_type": "stream",
     "text": [
      "[Parallel(n_jobs=6)]: Done  70 out of  70 | elapsed:    0.0s finished\n",
      "[Parallel(n_jobs=6)]: Using backend LokyBackend with 6 concurrent workers.\n"
     ]
    },
    {
     "name": "stdout",
     "output_type": "stream",
     "text": [
      "GAIN! 1.0077572658497038\n",
      "portfolio value: 242.85841936136427\n",
      "Fitting 10 folds for each of 7 candidates, totalling 70 fits\n"
     ]
    },
    {
     "name": "stderr",
     "output_type": "stream",
     "text": [
      "[Parallel(n_jobs=6)]: Done  70 out of  70 | elapsed:    0.1s finished\n",
      "[Parallel(n_jobs=6)]: Using backend LokyBackend with 6 concurrent workers.\n",
      "[Parallel(n_jobs=6)]: Done  70 out of  70 | elapsed:    0.1s finished\n"
     ]
    },
    {
     "name": "stdout",
     "output_type": "stream",
     "text": [
      "LOSS! 0.9444485780096092\n",
      "portfolio value: 229.36728882350184\n",
      "Fitting 10 folds for each of 7 candidates, totalling 70 fits\n"
     ]
    },
    {
     "name": "stderr",
     "output_type": "stream",
     "text": [
      "[Parallel(n_jobs=6)]: Using backend LokyBackend with 6 concurrent workers.\n",
      "[Parallel(n_jobs=6)]: Done  70 out of  70 | elapsed:    0.1s finished\n",
      "[Parallel(n_jobs=6)]: Using backend LokyBackend with 6 concurrent workers.\n"
     ]
    },
    {
     "name": "stdout",
     "output_type": "stream",
     "text": [
      "GAIN! 1.017182559759993\n",
      "portfolio value: 233.30840597069925\n",
      "Fitting 10 folds for each of 7 candidates, totalling 70 fits\n",
      "LOSS! 0.9994243054351686\n",
      "portfolio value: 233.17409158945244\n",
      "Fitting 10 folds for each of 7 candidates, totalling 70 fits\n"
     ]
    },
    {
     "name": "stderr",
     "output_type": "stream",
     "text": [
      "[Parallel(n_jobs=6)]: Done  70 out of  70 | elapsed:    0.1s finished\n",
      "[Parallel(n_jobs=6)]: Using backend LokyBackend with 6 concurrent workers.\n",
      "[Parallel(n_jobs=6)]: Done  70 out of  70 | elapsed:    0.0s finished\n",
      "[Parallel(n_jobs=6)]: Using backend LokyBackend with 6 concurrent workers.\n"
     ]
    },
    {
     "name": "stdout",
     "output_type": "stream",
     "text": [
      "LOSS! 0.9904230956881571\n",
      "portfolio value: 230.94100562629936\n",
      "Fitting 10 folds for each of 7 candidates, totalling 70 fits\n",
      "GAIN! 1.0068897027457264\n",
      "portfolio value: 232.5321205068637\n",
      "Fitting 10 folds for each of 7 candidates, totalling 70 fits\n"
     ]
    },
    {
     "name": "stderr",
     "output_type": "stream",
     "text": [
      "[Parallel(n_jobs=6)]: Done  70 out of  70 | elapsed:    0.0s finished\n",
      "[Parallel(n_jobs=6)]: Using backend LokyBackend with 6 concurrent workers.\n",
      "[Parallel(n_jobs=6)]: Done  70 out of  70 | elapsed:    0.0s finished\n",
      "[Parallel(n_jobs=6)]: Using backend LokyBackend with 6 concurrent workers.\n"
     ]
    },
    {
     "name": "stdout",
     "output_type": "stream",
     "text": [
      "GAIN! 1.0088592606946538\n",
      "portfolio value: 234.59218318231464\n",
      "Fitting 10 folds for each of 7 candidates, totalling 70 fits\n",
      "LOSS! 0.9943853043171411\n",
      "portfolio value: 233.27501946416845\n",
      "Fitting 10 folds for each of 7 candidates, totalling 70 fits\n"
     ]
    },
    {
     "name": "stderr",
     "output_type": "stream",
     "text": [
      "[Parallel(n_jobs=6)]: Done  70 out of  70 | elapsed:    0.0s finished\n",
      "[Parallel(n_jobs=6)]: Using backend LokyBackend with 6 concurrent workers.\n",
      "[Parallel(n_jobs=6)]: Done  70 out of  70 | elapsed:    0.1s finished\n"
     ]
    },
    {
     "name": "stdout",
     "output_type": "stream",
     "text": [
      "LOSS! 0.9926460932370321\n",
      "portfolio value: 231.55953672089944\n",
      "Fitting 10 folds for each of 7 candidates, totalling 70 fits\n",
      "LOSS! 0.9870062092283622\n",
      "portfolio value: 228.5507005495707\n",
      "Fitting 10 folds for each of 7 candidates, totalling 70 fits\n",
      "GAIN! 1.0044538841571786\n",
      "portfolio value: 229.5686388938605\n",
      "Fitting 10 folds for each of 7 candidates, totalling 70 fits\n"
     ]
    },
    {
     "name": "stderr",
     "output_type": "stream",
     "text": [
      "[Parallel(n_jobs=6)]: Using backend LokyBackend with 6 concurrent workers.\n",
      "[Parallel(n_jobs=6)]: Done  70 out of  70 | elapsed:    0.0s finished\n",
      "[Parallel(n_jobs=6)]: Using backend LokyBackend with 6 concurrent workers.\n",
      "[Parallel(n_jobs=6)]: Done  70 out of  70 | elapsed:    0.0s finished\n",
      "[Parallel(n_jobs=6)]: Using backend LokyBackend with 6 concurrent workers.\n",
      "[Parallel(n_jobs=6)]: Done  70 out of  70 | elapsed:    0.0s finished\n",
      "[Parallel(n_jobs=6)]: Using backend LokyBackend with 6 concurrent workers.\n"
     ]
    },
    {
     "name": "stdout",
     "output_type": "stream",
     "text": [
      "LOSS! 0.9970745805096857\n",
      "portfolio value: 228.89705432327548\n",
      "Fitting 10 folds for each of 7 candidates, totalling 70 fits\n",
      "portfolio value: 228.89705432327548\n",
      "Fitting 10 folds for each of 7 candidates, totalling 70 fits\n"
     ]
    },
    {
     "name": "stderr",
     "output_type": "stream",
     "text": [
      "[Parallel(n_jobs=6)]: Done  70 out of  70 | elapsed:    0.0s finished\n",
      "[Parallel(n_jobs=6)]: Using backend LokyBackend with 6 concurrent workers.\n",
      "[Parallel(n_jobs=6)]: Done  70 out of  70 | elapsed:    0.0s finished\n",
      "[Parallel(n_jobs=6)]: Using backend LokyBackend with 6 concurrent workers.\n"
     ]
    },
    {
     "name": "stdout",
     "output_type": "stream",
     "text": [
      "portfolio value: 228.89705432327548\n",
      "Fitting 10 folds for each of 7 candidates, totalling 70 fits\n",
      "portfolio value: 228.89705432327548\n",
      "Fitting 10 folds for each of 7 candidates, totalling 70 fits\n"
     ]
    },
    {
     "name": "stderr",
     "output_type": "stream",
     "text": [
      "[Parallel(n_jobs=6)]: Done  70 out of  70 | elapsed:    0.0s finished\n",
      "[Parallel(n_jobs=6)]: Using backend LokyBackend with 6 concurrent workers.\n",
      "[Parallel(n_jobs=6)]: Done  70 out of  70 | elapsed:    0.0s finished\n",
      "[Parallel(n_jobs=6)]: Using backend LokyBackend with 6 concurrent workers.\n"
     ]
    },
    {
     "name": "stdout",
     "output_type": "stream",
     "text": [
      "portfolio value: 228.89705432327548\n",
      "Fitting 10 folds for each of 7 candidates, totalling 70 fits\n",
      "portfolio value: 228.89705432327548\n",
      "Fitting 10 folds for each of 7 candidates, totalling 70 fits\n"
     ]
    },
    {
     "name": "stderr",
     "output_type": "stream",
     "text": [
      "[Parallel(n_jobs=6)]: Done  70 out of  70 | elapsed:    0.0s finished\n",
      "[Parallel(n_jobs=6)]: Using backend LokyBackend with 6 concurrent workers.\n",
      "[Parallel(n_jobs=6)]: Done  70 out of  70 | elapsed:    0.0s finished\n",
      "[Parallel(n_jobs=6)]: Using backend LokyBackend with 6 concurrent workers.\n"
     ]
    },
    {
     "name": "stdout",
     "output_type": "stream",
     "text": [
      "portfolio value: 228.89705432327548\n",
      "Fitting 10 folds for each of 7 candidates, totalling 70 fits\n",
      "portfolio value: 228.89705432327548\n",
      "Fitting 10 folds for each of 7 candidates, totalling 70 fits\n"
     ]
    },
    {
     "name": "stderr",
     "output_type": "stream",
     "text": [
      "[Parallel(n_jobs=6)]: Done  70 out of  70 | elapsed:    0.0s finished\n",
      "[Parallel(n_jobs=6)]: Using backend LokyBackend with 6 concurrent workers.\n",
      "[Parallel(n_jobs=6)]: Done  70 out of  70 | elapsed:    0.0s finished\n",
      "[Parallel(n_jobs=6)]: Using backend LokyBackend with 6 concurrent workers.\n"
     ]
    },
    {
     "name": "stdout",
     "output_type": "stream",
     "text": [
      "portfolio value: 228.89705432327548\n",
      "Fitting 10 folds for each of 7 candidates, totalling 70 fits\n",
      "portfolio value: 228.89705432327548\n",
      "Fitting 10 folds for each of 7 candidates, totalling 70 fits\n"
     ]
    },
    {
     "name": "stderr",
     "output_type": "stream",
     "text": [
      "[Parallel(n_jobs=6)]: Done  70 out of  70 | elapsed:    0.0s finished\n",
      "[Parallel(n_jobs=6)]: Using backend LokyBackend with 6 concurrent workers.\n",
      "[Parallel(n_jobs=6)]: Done  70 out of  70 | elapsed:    0.0s finished\n",
      "[Parallel(n_jobs=6)]: Using backend LokyBackend with 6 concurrent workers.\n"
     ]
    },
    {
     "name": "stdout",
     "output_type": "stream",
     "text": [
      "portfolio value: 228.89705432327548\n",
      "Fitting 10 folds for each of 7 candidates, totalling 70 fits\n",
      "portfolio value: 228.89705432327548\n",
      "Fitting 10 folds for each of 7 candidates, totalling 70 fits\n"
     ]
    },
    {
     "name": "stderr",
     "output_type": "stream",
     "text": [
      "[Parallel(n_jobs=6)]: Done  70 out of  70 | elapsed:    0.0s finished\n",
      "[Parallel(n_jobs=6)]: Using backend LokyBackend with 6 concurrent workers.\n",
      "[Parallel(n_jobs=6)]: Done  70 out of  70 | elapsed:    0.0s finished\n",
      "[Parallel(n_jobs=6)]: Using backend LokyBackend with 6 concurrent workers.\n"
     ]
    },
    {
     "name": "stdout",
     "output_type": "stream",
     "text": [
      "portfolio value: 228.89705432327548\n",
      "Fitting 10 folds for each of 7 candidates, totalling 70 fits\n",
      "portfolio value: 228.89705432327548\n",
      "Fitting 10 folds for each of 7 candidates, totalling 70 fits\n"
     ]
    },
    {
     "name": "stderr",
     "output_type": "stream",
     "text": [
      "[Parallel(n_jobs=6)]: Done  70 out of  70 | elapsed:    0.0s finished\n",
      "[Parallel(n_jobs=6)]: Using backend LokyBackend with 6 concurrent workers.\n",
      "[Parallel(n_jobs=6)]: Done  70 out of  70 | elapsed:    0.0s finished\n",
      "[Parallel(n_jobs=6)]: Using backend LokyBackend with 6 concurrent workers.\n"
     ]
    },
    {
     "name": "stdout",
     "output_type": "stream",
     "text": [
      "portfolio value: 228.89705432327548\n",
      "Fitting 10 folds for each of 7 candidates, totalling 70 fits\n",
      "portfolio value: 228.89705432327548\n",
      "Fitting 10 folds for each of 7 candidates, totalling 70 fits\n"
     ]
    },
    {
     "name": "stderr",
     "output_type": "stream",
     "text": [
      "[Parallel(n_jobs=6)]: Done  70 out of  70 | elapsed:    0.0s finished\n",
      "[Parallel(n_jobs=6)]: Using backend LokyBackend with 6 concurrent workers.\n",
      "[Parallel(n_jobs=6)]: Done  70 out of  70 | elapsed:    0.0s finished\n",
      "[Parallel(n_jobs=6)]: Using backend LokyBackend with 6 concurrent workers.\n"
     ]
    },
    {
     "name": "stdout",
     "output_type": "stream",
     "text": [
      "portfolio value: 228.89705432327548\n",
      "Fitting 10 folds for each of 7 candidates, totalling 70 fits\n",
      "portfolio value: 228.89705432327548\n",
      "Fitting 10 folds for each of 7 candidates, totalling 70 fits\n"
     ]
    },
    {
     "name": "stderr",
     "output_type": "stream",
     "text": [
      "[Parallel(n_jobs=6)]: Done  70 out of  70 | elapsed:    0.0s finished\n",
      "[Parallel(n_jobs=6)]: Using backend LokyBackend with 6 concurrent workers.\n",
      "[Parallel(n_jobs=6)]: Done  70 out of  70 | elapsed:    0.0s finished\n",
      "[Parallel(n_jobs=6)]: Using backend LokyBackend with 6 concurrent workers.\n"
     ]
    },
    {
     "name": "stdout",
     "output_type": "stream",
     "text": [
      "portfolio value: 228.89705432327548\n",
      "Fitting 10 folds for each of 7 candidates, totalling 70 fits\n",
      "portfolio value: 228.89705432327548\n",
      "Fitting 10 folds for each of 7 candidates, totalling 70 fits\n"
     ]
    },
    {
     "name": "stderr",
     "output_type": "stream",
     "text": [
      "[Parallel(n_jobs=6)]: Done  70 out of  70 | elapsed:    0.0s finished\n",
      "[Parallel(n_jobs=6)]: Using backend LokyBackend with 6 concurrent workers.\n",
      "[Parallel(n_jobs=6)]: Done  70 out of  70 | elapsed:    0.0s finished\n",
      "[Parallel(n_jobs=6)]: Using backend LokyBackend with 6 concurrent workers.\n"
     ]
    },
    {
     "name": "stdout",
     "output_type": "stream",
     "text": [
      "LOSS! 0.995994072528371\n",
      "portfolio value: 227.98010932518693\n",
      "Fitting 10 folds for each of 7 candidates, totalling 70 fits\n",
      "portfolio value: 227.98010932518693\n",
      "Fitting 10 folds for each of 7 candidates, totalling 70 fits\n"
     ]
    },
    {
     "name": "stderr",
     "output_type": "stream",
     "text": [
      "[Parallel(n_jobs=6)]: Done  70 out of  70 | elapsed:    0.0s finished\n",
      "[Parallel(n_jobs=6)]: Using backend LokyBackend with 6 concurrent workers.\n",
      "[Parallel(n_jobs=6)]: Done  70 out of  70 | elapsed:    0.1s finished\n",
      "[Parallel(n_jobs=6)]: Using backend LokyBackend with 6 concurrent workers.\n"
     ]
    },
    {
     "name": "stdout",
     "output_type": "stream",
     "text": [
      "portfolio value: 227.98010932518693\n",
      "Fitting 10 folds for each of 7 candidates, totalling 70 fits\n",
      "portfolio value: 227.98010932518693\n",
      "Fitting 10 folds for each of 7 candidates, totalling 70 fits\n"
     ]
    },
    {
     "name": "stderr",
     "output_type": "stream",
     "text": [
      "[Parallel(n_jobs=6)]: Done  70 out of  70 | elapsed:    0.0s finished\n",
      "[Parallel(n_jobs=6)]: Using backend LokyBackend with 6 concurrent workers.\n",
      "[Parallel(n_jobs=6)]: Done  70 out of  70 | elapsed:    0.0s finished\n",
      "[Parallel(n_jobs=6)]: Using backend LokyBackend with 6 concurrent workers.\n"
     ]
    },
    {
     "name": "stdout",
     "output_type": "stream",
     "text": [
      "portfolio value: 227.98010932518693\n",
      "Fitting 10 folds for each of 7 candidates, totalling 70 fits\n",
      "portfolio value: 227.98010932518693\n",
      "Fitting 10 folds for each of 7 candidates, totalling 70 fits\n"
     ]
    },
    {
     "name": "stderr",
     "output_type": "stream",
     "text": [
      "[Parallel(n_jobs=6)]: Done  70 out of  70 | elapsed:    0.0s finished\n",
      "[Parallel(n_jobs=6)]: Using backend LokyBackend with 6 concurrent workers.\n",
      "[Parallel(n_jobs=6)]: Done  70 out of  70 | elapsed:    0.0s finished\n",
      "[Parallel(n_jobs=6)]: Using backend LokyBackend with 6 concurrent workers.\n"
     ]
    },
    {
     "name": "stdout",
     "output_type": "stream",
     "text": [
      "GAIN! 1.002144161208413\n",
      "portfolio value: 228.46893543189174\n",
      "Fitting 10 folds for each of 7 candidates, totalling 70 fits\n",
      "portfolio value: 228.46893543189174\n",
      "Fitting 10 folds for each of 7 candidates, totalling 70 fits\n"
     ]
    },
    {
     "name": "stderr",
     "output_type": "stream",
     "text": [
      "[Parallel(n_jobs=6)]: Done  70 out of  70 | elapsed:    0.0s finished\n",
      "[Parallel(n_jobs=6)]: Using backend LokyBackend with 6 concurrent workers.\n",
      "[Parallel(n_jobs=6)]: Done  70 out of  70 | elapsed:    0.0s finished\n",
      "[Parallel(n_jobs=6)]: Using backend LokyBackend with 6 concurrent workers.\n"
     ]
    },
    {
     "name": "stdout",
     "output_type": "stream",
     "text": [
      "portfolio value: 228.46893543189174\n",
      "Fitting 10 folds for each of 7 candidates, totalling 70 fits\n",
      "portfolio value: 228.46893543189174\n",
      "Fitting 10 folds for each of 7 candidates, totalling 70 fits\n"
     ]
    },
    {
     "name": "stderr",
     "output_type": "stream",
     "text": [
      "[Parallel(n_jobs=6)]: Done  70 out of  70 | elapsed:    0.0s finished\n",
      "[Parallel(n_jobs=6)]: Using backend LokyBackend with 6 concurrent workers.\n",
      "[Parallel(n_jobs=6)]: Done  70 out of  70 | elapsed:    0.0s finished\n",
      "[Parallel(n_jobs=6)]: Using backend LokyBackend with 6 concurrent workers.\n"
     ]
    },
    {
     "name": "stdout",
     "output_type": "stream",
     "text": [
      "GAIN! 1.0231784673775355\n",
      "portfolio value: 233.7644951985801\n",
      "Fitting 10 folds for each of 7 candidates, totalling 70 fits\n",
      "GAIN! 1.0160300714098067\n",
      "portfolio value: 237.51175674969076\n",
      "Fitting 10 folds for each of 7 candidates, totalling 70 fits\n"
     ]
    },
    {
     "name": "stderr",
     "output_type": "stream",
     "text": [
      "[Parallel(n_jobs=6)]: Done  70 out of  70 | elapsed:    0.0s finished\n",
      "[Parallel(n_jobs=6)]: Using backend LokyBackend with 6 concurrent workers.\n",
      "[Parallel(n_jobs=6)]: Done  70 out of  70 | elapsed:    0.0s finished\n",
      "[Parallel(n_jobs=6)]: Using backend LokyBackend with 6 concurrent workers.\n"
     ]
    },
    {
     "name": "stdout",
     "output_type": "stream",
     "text": [
      "GAIN! 1.0056607392141264\n",
      "portfolio value: 238.85624886493977\n",
      "Fitting 10 folds for each of 7 candidates, totalling 70 fits\n",
      "LOSS! 0.9949275472318614\n",
      "portfolio value: 237.6446618241976\n",
      "Fitting 10 folds for each of 7 candidates, totalling 70 fits\n"
     ]
    },
    {
     "name": "stderr",
     "output_type": "stream",
     "text": [
      "[Parallel(n_jobs=6)]: Done  70 out of  70 | elapsed:    0.1s finished\n",
      "[Parallel(n_jobs=6)]: Using backend LokyBackend with 6 concurrent workers.\n",
      "[Parallel(n_jobs=6)]: Done  70 out of  70 | elapsed:    0.0s finished\n",
      "[Parallel(n_jobs=6)]: Using backend LokyBackend with 6 concurrent workers.\n"
     ]
    },
    {
     "name": "stdout",
     "output_type": "stream",
     "text": [
      "GAIN! 1.014427186018474\n",
      "portfolio value: 241.07320556663265\n",
      "Fitting 10 folds for each of 7 candidates, totalling 70 fits\n",
      "GAIN! 1.0232362780149629\n",
      "portfolio value: 246.67484959313722\n",
      "Fitting 10 folds for each of 7 candidates, totalling 70 fits\n"
     ]
    },
    {
     "name": "stderr",
     "output_type": "stream",
     "text": [
      "[Parallel(n_jobs=6)]: Done  70 out of  70 | elapsed:    0.0s finished\n",
      "[Parallel(n_jobs=6)]: Using backend LokyBackend with 6 concurrent workers.\n",
      "[Parallel(n_jobs=6)]: Done  70 out of  70 | elapsed:    0.0s finished\n",
      "[Parallel(n_jobs=6)]: Using backend LokyBackend with 6 concurrent workers.\n"
     ]
    },
    {
     "name": "stdout",
     "output_type": "stream",
     "text": [
      "GAIN! 1.1096043820812165\n",
      "portfolio value: 273.71149405777004\n",
      "Fitting 10 folds for each of 7 candidates, totalling 70 fits\n",
      "LOSS! 0.9905022946967275\n",
      "portfolio value: 271.1118629490909\n",
      "Fitting 10 folds for each of 7 candidates, totalling 70 fits\n"
     ]
    },
    {
     "name": "stderr",
     "output_type": "stream",
     "text": [
      "[Parallel(n_jobs=6)]: Done  70 out of  70 | elapsed:    0.0s finished\n",
      "[Parallel(n_jobs=6)]: Using backend LokyBackend with 6 concurrent workers.\n",
      "[Parallel(n_jobs=6)]: Done  70 out of  70 | elapsed:    0.0s finished\n",
      "[Parallel(n_jobs=6)]: Using backend LokyBackend with 6 concurrent workers.\n"
     ]
    },
    {
     "name": "stdout",
     "output_type": "stream",
     "text": [
      "GAIN! 1.0171827594501375\n",
      "portfolio value: 275.77031287422375\n",
      "Fitting 10 folds for each of 7 candidates, totalling 70 fits\n",
      "GAIN! 1.0010253180716313\n",
      "portfolio value: 276.0530651596331\n",
      "Fitting 10 folds for each of 7 candidates, totalling 70 fits\n"
     ]
    },
    {
     "name": "stderr",
     "output_type": "stream",
     "text": [
      "[Parallel(n_jobs=6)]: Done  70 out of  70 | elapsed:    0.0s finished\n",
      "[Parallel(n_jobs=6)]: Using backend LokyBackend with 6 concurrent workers.\n",
      "[Parallel(n_jobs=6)]: Done  70 out of  70 | elapsed:    0.0s finished\n",
      "[Parallel(n_jobs=6)]: Using backend LokyBackend with 6 concurrent workers.\n"
     ]
    },
    {
     "name": "stdout",
     "output_type": "stream",
     "text": [
      "GAIN! 1.01919458240484\n",
      "portfolio value: 281.35178846694834\n",
      "Fitting 10 folds for each of 7 candidates, totalling 70 fits\n",
      "GAIN! 1.0385974605478963\n",
      "portfolio value: 292.2112530223814\n",
      "Fitting 10 folds for each of 7 candidates, totalling 70 fits\n"
     ]
    },
    {
     "name": "stderr",
     "output_type": "stream",
     "text": [
      "[Parallel(n_jobs=6)]: Done  70 out of  70 | elapsed:    0.1s finished\n",
      "[Parallel(n_jobs=6)]: Using backend LokyBackend with 6 concurrent workers.\n",
      "[Parallel(n_jobs=6)]: Done  70 out of  70 | elapsed:    0.0s finished\n",
      "[Parallel(n_jobs=6)]: Using backend LokyBackend with 6 concurrent workers.\n"
     ]
    },
    {
     "name": "stdout",
     "output_type": "stream",
     "text": [
      "LOSS! 0.9400319326300404\n",
      "portfolio value: 274.6879089148749\n",
      "Fitting 10 folds for each of 7 candidates, totalling 70 fits\n",
      "GAIN! 1.0183433831596385\n",
      "portfolio value: 279.72661447742036\n",
      "Fitting 10 folds for each of 7 candidates, totalling 70 fits\n"
     ]
    },
    {
     "name": "stderr",
     "output_type": "stream",
     "text": [
      "[Parallel(n_jobs=6)]: Done  70 out of  70 | elapsed:    0.0s finished\n",
      "[Parallel(n_jobs=6)]: Using backend LokyBackend with 6 concurrent workers.\n",
      "[Parallel(n_jobs=6)]: Done  70 out of  70 | elapsed:    0.1s finished\n"
     ]
    },
    {
     "name": "stdout",
     "output_type": "stream",
     "text": [
      "GAIN! 1.0484833799148676\n",
      "portfolio value: 293.2887061994288\n",
      "Fitting 10 folds for each of 7 candidates, totalling 70 fits\n",
      "GAIN! 1.0025449082386875\n",
      "portfolio value: 294.0350990441497\n",
      "Fitting 10 folds for each of 7 candidates, totalling 70 fits\n"
     ]
    },
    {
     "name": "stderr",
     "output_type": "stream",
     "text": [
      "[Parallel(n_jobs=6)]: Using backend LokyBackend with 6 concurrent workers.\n",
      "[Parallel(n_jobs=6)]: Done  70 out of  70 | elapsed:    0.0s finished\n",
      "[Parallel(n_jobs=6)]: Using backend LokyBackend with 6 concurrent workers.\n"
     ]
    },
    {
     "name": "stdout",
     "output_type": "stream",
     "text": [
      "LOSS! 0.9849373067625922\n",
      "portfolio value: 289.60613854621687\n",
      "Fitting 10 folds for each of 7 candidates, totalling 70 fits\n",
      "GAIN! 1.0128822004898905\n",
      "portfolio value: 293.33690288607227\n",
      "Fitting 10 folds for each of 7 candidates, totalling 70 fits\n"
     ]
    },
    {
     "name": "stderr",
     "output_type": "stream",
     "text": [
      "[Parallel(n_jobs=6)]: Done  70 out of  70 | elapsed:    0.0s finished\n",
      "[Parallel(n_jobs=6)]: Using backend LokyBackend with 6 concurrent workers.\n",
      "[Parallel(n_jobs=6)]: Done  70 out of  70 | elapsed:    0.0s finished\n",
      "[Parallel(n_jobs=6)]: Using backend LokyBackend with 6 concurrent workers.\n"
     ]
    },
    {
     "name": "stdout",
     "output_type": "stream",
     "text": [
      "LOSS! 0.9947529836248726\n",
      "portfolio value: 291.7977593531999\n",
      "Fitting 10 folds for each of 7 candidates, totalling 70 fits\n",
      "GAIN! 1.0185088096775865\n",
      "portfolio value: 297.1985885454145\n",
      "Fitting 10 folds for each of 7 candidates, totalling 70 fits\n"
     ]
    },
    {
     "name": "stderr",
     "output_type": "stream",
     "text": [
      "[Parallel(n_jobs=6)]: Done  70 out of  70 | elapsed:    0.1s finished\n",
      "[Parallel(n_jobs=6)]: Using backend LokyBackend with 6 concurrent workers.\n",
      "[Parallel(n_jobs=6)]: Done  70 out of  70 | elapsed:    0.1s finished\n"
     ]
    },
    {
     "name": "stdout",
     "output_type": "stream",
     "text": [
      "LOSS! 0.9603487587170569\n",
      "portfolio value: 285.4142956020502\n",
      "Fitting 10 folds for each of 7 candidates, totalling 70 fits\n",
      "GAIN! 1.0158127372400811\n",
      "portfolio value: 289.92747686296826\n",
      "Fitting 10 folds for each of 7 candidates, totalling 70 fits\n"
     ]
    },
    {
     "name": "stderr",
     "output_type": "stream",
     "text": [
      "[Parallel(n_jobs=6)]: Using backend LokyBackend with 6 concurrent workers.\n",
      "[Parallel(n_jobs=6)]: Done  70 out of  70 | elapsed:    0.0s finished\n",
      "[Parallel(n_jobs=6)]: Using backend LokyBackend with 6 concurrent workers.\n",
      "[Parallel(n_jobs=6)]: Done  70 out of  70 | elapsed:    0.0s finished\n",
      "[Parallel(n_jobs=6)]: Using backend LokyBackend with 6 concurrent workers.\n",
      "[Parallel(n_jobs=6)]: Done  70 out of  70 | elapsed:    0.0s finished\n",
      "[Parallel(n_jobs=6)]: Using backend LokyBackend with 6 concurrent workers.\n"
     ]
    },
    {
     "name": "stdout",
     "output_type": "stream",
     "text": [
      "GAIN! 1.0168903673332559\n",
      "portfolio value: 294.82445844718785\n",
      "Fitting 10 folds for each of 7 candidates, totalling 70 fits\n",
      "LOSS! 0.9996782302214239\n",
      "portfolio value: 294.7295928464745\n",
      "Fitting 10 folds for each of 7 candidates, totalling 70 fits\n"
     ]
    },
    {
     "name": "stderr",
     "output_type": "stream",
     "text": [
      "[Parallel(n_jobs=6)]: Done  70 out of  70 | elapsed:    0.1s finished\n",
      "[Parallel(n_jobs=6)]: Using backend LokyBackend with 6 concurrent workers.\n",
      "[Parallel(n_jobs=6)]: Done  70 out of  70 | elapsed:    0.0s finished\n",
      "[Parallel(n_jobs=6)]: Using backend LokyBackend with 6 concurrent workers.\n"
     ]
    },
    {
     "name": "stdout",
     "output_type": "stream",
     "text": [
      "GAIN! 1.0082422866671767\n",
      "portfolio value: 297.1588386400154\n",
      "Fitting 10 folds for each of 7 candidates, totalling 70 fits\n",
      "GAIN! 1.002200965379872\n",
      "portfolio value: 297.81287495618506\n",
      "Fitting 10 folds for each of 7 candidates, totalling 70 fits\n"
     ]
    },
    {
     "name": "stderr",
     "output_type": "stream",
     "text": [
      "[Parallel(n_jobs=6)]: Done  70 out of  70 | elapsed:    0.0s finished\n",
      "[Parallel(n_jobs=6)]: Using backend LokyBackend with 6 concurrent workers.\n",
      "[Parallel(n_jobs=6)]: Done  70 out of  70 | elapsed:    0.0s finished\n",
      "[Parallel(n_jobs=6)]: Using backend LokyBackend with 6 concurrent workers.\n"
     ]
    },
    {
     "name": "stdout",
     "output_type": "stream",
     "text": [
      "GAIN! 1.030157569635849\n",
      "portfolio value: 306.79418747112857\n",
      "Fitting 10 folds for each of 7 candidates, totalling 70 fits\n",
      "LOSS! 0.9787247524916625\n",
      "portfolio value: 300.267065198561\n",
      "Fitting 10 folds for each of 7 candidates, totalling 70 fits\n"
     ]
    },
    {
     "name": "stderr",
     "output_type": "stream",
     "text": [
      "[Parallel(n_jobs=6)]: Done  70 out of  70 | elapsed:    0.1s finished\n",
      "[Parallel(n_jobs=6)]: Using backend LokyBackend with 6 concurrent workers.\n",
      "[Parallel(n_jobs=6)]: Done  70 out of  70 | elapsed:    0.0s finished\n",
      "[Parallel(n_jobs=6)]: Using backend LokyBackend with 6 concurrent workers.\n"
     ]
    },
    {
     "name": "stdout",
     "output_type": "stream",
     "text": [
      "LOSS! 0.9806018015312087\n",
      "portfolio value: 294.4424250741978\n",
      "Fitting 10 folds for each of 7 candidates, totalling 70 fits\n",
      "GAIN! 1.009936833763763\n",
      "portfolio value: 297.3682505051594\n",
      "Fitting 10 folds for each of 7 candidates, totalling 70 fits\n"
     ]
    },
    {
     "name": "stderr",
     "output_type": "stream",
     "text": [
      "[Parallel(n_jobs=6)]: Done  70 out of  70 | elapsed:    0.0s finished\n",
      "[Parallel(n_jobs=6)]: Using backend LokyBackend with 6 concurrent workers.\n",
      "[Parallel(n_jobs=6)]: Done  70 out of  70 | elapsed:    0.0s finished\n",
      "[Parallel(n_jobs=6)]: Using backend LokyBackend with 6 concurrent workers.\n"
     ]
    },
    {
     "name": "stdout",
     "output_type": "stream",
     "text": [
      "LOSS! 0.9759608961499039\n",
      "portfolio value: 290.21978424954443\n",
      "Fitting 10 folds for each of 7 candidates, totalling 70 fits\n",
      "GAIN! 1.008316243842789\n",
      "portfolio value: 292.6333227433653\n",
      "Fitting 10 folds for each of 7 candidates, totalling 70 fits\n"
     ]
    },
    {
     "name": "stderr",
     "output_type": "stream",
     "text": [
      "[Parallel(n_jobs=6)]: Done  70 out of  70 | elapsed:    0.0s finished\n",
      "[Parallel(n_jobs=6)]: Using backend LokyBackend with 6 concurrent workers.\n",
      "[Parallel(n_jobs=6)]: Done  70 out of  70 | elapsed:    0.0s finished\n",
      "[Parallel(n_jobs=6)]: Using backend LokyBackend with 6 concurrent workers.\n"
     ]
    },
    {
     "name": "stdout",
     "output_type": "stream",
     "text": [
      "LOSS! 0.9987286798864449\n",
      "portfolio value: 292.2612921142652\n",
      "Fitting 10 folds for each of 7 candidates, totalling 70 fits\n",
      "GAIN! 1.0095086765166132\n",
      "portfolio value: 295.04031019930716\n",
      "Fitting 10 folds for each of 7 candidates, totalling 70 fits\n"
     ]
    },
    {
     "name": "stderr",
     "output_type": "stream",
     "text": [
      "[Parallel(n_jobs=6)]: Done  70 out of  70 | elapsed:    0.0s finished\n",
      "[Parallel(n_jobs=6)]: Using backend LokyBackend with 6 concurrent workers.\n",
      "[Parallel(n_jobs=6)]: Done  70 out of  70 | elapsed:    0.0s finished\n",
      "[Parallel(n_jobs=6)]: Using backend LokyBackend with 6 concurrent workers.\n"
     ]
    },
    {
     "name": "stdout",
     "output_type": "stream",
     "text": [
      "LOSS! 0.9653925318644294\n",
      "portfolio value: 284.82971206537576\n",
      "Fitting 10 folds for each of 7 candidates, totalling 70 fits\n",
      "GAIN! 1.0106861860700878\n",
      "portfolio value: 287.8734553667959\n",
      "Fitting 10 folds for each of 7 candidates, totalling 70 fits\n"
     ]
    },
    {
     "name": "stderr",
     "output_type": "stream",
     "text": [
      "[Parallel(n_jobs=6)]: Done  70 out of  70 | elapsed:    0.0s finished\n",
      "[Parallel(n_jobs=6)]: Using backend LokyBackend with 6 concurrent workers.\n",
      "[Parallel(n_jobs=6)]: Done  70 out of  70 | elapsed:    0.0s finished\n",
      "[Parallel(n_jobs=6)]: Using backend LokyBackend with 6 concurrent workers.\n"
     ]
    },
    {
     "name": "stdout",
     "output_type": "stream",
     "text": [
      "LOSS! 0.9858770269825613\n",
      "portfolio value: 283.8078263242138\n",
      "Fitting 10 folds for each of 7 candidates, totalling 70 fits\n",
      "GAIN! 1.0191786690175986\n",
      "portfolio value: 289.25088268989\n",
      "Fitting 10 folds for each of 7 candidates, totalling 70 fits\n"
     ]
    },
    {
     "name": "stderr",
     "output_type": "stream",
     "text": [
      "[Parallel(n_jobs=6)]: Done  70 out of  70 | elapsed:    0.0s finished\n",
      "[Parallel(n_jobs=6)]: Using backend LokyBackend with 6 concurrent workers.\n",
      "[Parallel(n_jobs=6)]: Done  70 out of  70 | elapsed:    0.0s finished\n",
      "[Parallel(n_jobs=6)]: Using backend LokyBackend with 6 concurrent workers.\n"
     ]
    },
    {
     "name": "stdout",
     "output_type": "stream",
     "text": [
      "LOSS! 0.9970375798355734\n",
      "portfolio value: 288.39400004243123\n",
      "Fitting 10 folds for each of 7 candidates, totalling 70 fits\n",
      "portfolio value: 288.39400004243123\n",
      "Fitting 10 folds for each of 7 candidates, totalling 70 fits\n",
      "portfolio value: 288.39400004243123\n",
      "Fitting 10 folds for each of 7 candidates, totalling 70 fits\n",
      "portfolio value: 288.39400004243123\n"
     ]
    },
    {
     "name": "stderr",
     "output_type": "stream",
     "text": [
      "[Parallel(n_jobs=6)]: Done  70 out of  70 | elapsed:    0.0s finished\n",
      "[Parallel(n_jobs=6)]: Using backend LokyBackend with 6 concurrent workers.\n",
      "[Parallel(n_jobs=6)]: Done  70 out of  70 | elapsed:    0.0s finished\n"
     ]
    }
   ],
   "source": [
    "portfolio_value = 100\n",
    "portfolio_value_history = []\n",
    "for i in range(0, len(btc) - LOOK_BACK_DAYS - LOOK_AHEAD_DAYS - 1):\n",
    "    portfolio_value_history.append(portfolio_value)\n",
    "    train_df = btc[i: i + LOOK_BACK_DAYS]\n",
    "    X_TRAIN = StandardScaler().fit_transform(train_df.drop(['MonthTrend'], axis=1))\n",
    "    Y_TRAIN = le.fit_transform(train_df['MonthTrend'])\n",
    "    test_df = btc[i + LOOK_BACK_DAYS + LOOK_AHEAD_DAYS : i + LOOK_BACK_DAYS + LOOK_AHEAD_DAYS + 1]\n",
    "    X_TEST = StandardScaler().fit_transform(test_df.drop(['MonthTrend'], axis=1))\n",
    "    results_df = btc[i + LOOK_BACK_DAYS + LOOK_AHEAD_DAYS + 1 : i + LOOK_BACK_DAYS + 2*LOOK_AHEAD_DAYS + 2]\n",
    "    \n",
    "    model_regression = LogisticRegression()\n",
    "    param_grid = {'C': [.00001, .0001, .001, .005, .1, .5, 1],}  #simplified the CV so it runs faster\n",
    "    regression_grid =  GridSearchCV(model_regression, param_grid, cv=TimeSeriesSplit(max_train_size=None, n_splits=10), verbose=1,n_jobs=6)\n",
    "    regression_grid.fit(X_TRAIN,Y_TRAIN)\n",
    "    model_regresssion= regression_grid.best_estimator_\n",
    "    \n",
    "    prediction = model_regresssion.predict(X_TEST)[0]\n",
    "    if prediction == 1:\n",
    "        gains = ((results_df['Close'] - results_df['Open']) / results_df['Open'])[0]\n",
    "        if gains > 0:\n",
    "            print(\"GAIN! \" + str(1 + gains))\n",
    "        elif gains < 0:\n",
    "            print(\"LOSS! \" + str(1 + gains))\n",
    "        portfolio_value = portfolio_value * (1 + gains)\n",
    "    print(\"portfolio value: \" + str(portfolio_value))"
   ]
  },
  {
   "cell_type": "code",
   "execution_count": 296,
   "metadata": {},
   "outputs": [
    {
     "name": "stdout",
     "output_type": "stream",
     "text": [
      "LOSS! 0.9637486406335456\n",
      "portfolio value: 96.37486406335456\n",
      "GAIN! 1.0124498233962436\n",
      "portfolio value: 97.57471410078031\n",
      "GAIN! 1.0044640259297988\n",
      "portfolio value: 98.0102901546189\n",
      "LOSS! 0.9983133464788254\n",
      "portfolio value: 97.84498075361827\n",
      "GAIN! 1.005507358758857\n",
      "portfolio value: 98.3838481653819\n",
      "GAIN! 1.0256631506213094\n",
      "portfolio value: 100.90868767955413\n",
      "LOSS! 0.9995855678694442\n",
      "portfolio value: 100.8668678771275\n",
      "GAIN! 1.005192535944301\n",
      "portfolio value: 101.39062271416856\n",
      "LOSS! 0.9970168343141143\n",
      "portfolio value: 101.08815768761706\n",
      "LOSS! 0.9642527300659368\n",
      "portfolio value: 97.47453202762067\n",
      "GAIN! 1.0143911704178024\n",
      "portfolio value: 98.8773046294257\n",
      "GAIN! 1.004188727135321\n",
      "portfolio value: 99.29147467839437\n",
      "GAIN! 1.018881490013808\n",
      "portfolio value: 101.16624566599073\n",
      "GAIN! 1.0339398965818583\n",
      "portfolio value: 104.59981758146932\n",
      "LOSS! 0.9980594316897771\n",
      "portfolio value: 104.39683449021562\n",
      "LOSS! 0.9993016056525952\n",
      "portfolio value: 104.32392433112071\n",
      "LOSS! 0.9836892446776428\n",
      "portfolio value: 102.6223223270877\n",
      "LOSS! 0.9761995023016056\n",
      "portfolio value: 100.17985998073796\n",
      "GAIN! 1.0065413504363196\n",
      "portfolio value: 100.8351715515334\n",
      "GAIN! 1.0279371605957863\n",
      "portfolio value: 103.65221993287226\n",
      "LOSS! 0.9948163777372263\n",
      "portfolio value: 103.11492597804231\n",
      "LOSS! 0.9938070876377033\n",
      "portfolio value: 102.47634427821558\n",
      "GAIN! 1.0031568528791672\n",
      "portfolio value: 102.79984702069679\n",
      "LOSS! 0.9954334342888742\n",
      "portfolio value: 102.3304047641831\n",
      "LOSS! 0.994366937135839\n",
      "portfolio value: 101.75397116123142\n",
      "LOSS! 0.9921771260599428\n",
      "portfolio value: 100.95796267193688\n",
      "GAIN! 1.0121238649445585\n",
      "portfolio value: 102.18196337644923\n",
      "GAIN! 1.007351532721785\n",
      "portfolio value: 102.93315742378743\n",
      "LOSS! 0.9948447876976236\n",
      "portfolio value: 102.40251514431388\n",
      "GAIN! 1.0018617227970397\n",
      "portfolio value: 102.59316024123225\n",
      "GAIN! 1.007884627491707\n",
      "portfolio value: 103.40206909293138\n",
      "LOSS! 0.9984308107998615\n",
      "portfolio value: 103.23981168283878\n",
      "LOSS! 0.9917533340284664\n",
      "portfolio value: 102.38842744092638\n",
      "LOSS! 0.9498234349253397\n",
      "portfolio value: 97.2509278485446\n",
      "GAIN! 1.005662552089594\n",
      "portfolio value: 97.80161629324834\n",
      "GAIN! 1.0012599642170161\n",
      "portfolio value: 97.92484283014417\n",
      "GAIN! 1.0003880011442035\n",
      "portfolio value: 97.96283778120821\n",
      "GAIN! 1.0482944989290641\n",
      "portfolio value: 102.69390394552084\n",
      "LOSS! 0.9991970968560813\n",
      "portfolio value: 102.6114506871817\n",
      "LOSS! 0.9930066453613051\n",
      "portfolio value: 101.89385242253529\n",
      "LOSS! 0.989969916466473\n",
      "portfolio value: 100.87184857118439\n",
      "LOSS! 0.9980457654344168\n",
      "portfolio value: 100.6747213180123\n",
      "GAIN! 1.0043755409249904\n",
      "portfolio value: 101.11522768125127\n",
      "LOSS! 0.998807451625465\n",
      "portfolio value: 100.99464288083927\n",
      "GAIN! 1.0001711907240827\n",
      "portfolio value: 101.01193222688251\n",
      "GAIN! 1.000522277989042\n",
      "portfolio value: 101.0646885357152\n",
      "GAIN! 1.002616143610028\n",
      "portfolio value: 101.3290882748274\n",
      "LOSS! 0.9987108227264161\n",
      "portfolio value: 101.19845711707052\n",
      "GAIN! 1.0009755147533113\n",
      "portfolio value: 101.29717770500055\n",
      "LOSS! 0.9999290275722608\n",
      "portfolio value: 101.2899883983757\n",
      "GAIN! 1.0005753780668503\n",
      "portfolio value: 101.34826843609164\n",
      "LOSS! 0.9753987057935447\n",
      "portfolio value: 98.85496986698054\n",
      "LOSS! 0.9995628843254618\n",
      "portfolio value: 98.81175881014568\n",
      "LOSS! 0.9969417072810652\n",
      "portfolio value: 98.50956352763147\n",
      "GAIN! 1.0094394310899968\n",
      "portfolio value: 99.43943776425621\n",
      "GAIN! 1.0014924187241485\n",
      "portfolio value: 99.5878430430944\n",
      "LOSS! 0.9959324422134339\n",
      "portfolio value: 99.18276373667713\n",
      "GAIN! 1.0016746080979049\n",
      "portfolio value: 99.34885599600315\n",
      "GAIN! 1.008806314335317\n",
      "portfolio value: 100.2237532507581\n",
      "GAIN! 1.0042947693616409\n",
      "portfolio value: 100.6541911555281\n",
      "GAIN! 1.0095292783054417\n",
      "portfolio value: 101.61335295565826\n",
      "LOSS! 0.9894898855027123\n",
      "portfolio value: 100.54538498164098\n",
      "LOSS! 0.9911557477408106\n",
      "portfolio value: 99.65613623336603\n",
      "GAIN! 1.0036157003466832\n",
      "portfolio value: 100.01646295969412\n",
      "LOSS! 0.9996320549635123\n",
      "portfolio value: 99.97966239858104\n",
      "LOSS! 0.9936850806059788\n",
      "portfolio value: 99.34829888949255\n",
      "LOSS! 0.9978504160150251\n",
      "portfolio value: 99.1347413772652\n",
      "LOSS! 0.9035007157497228\n",
      "portfolio value: 89.56830979002277\n",
      "LOSS! 0.9846377590042592\n",
      "portfolio value: 88.19233982944726\n",
      "LOSS! 0.9876410864745107\n",
      "portfolio value: 87.10237832788455\n",
      "LOSS! 0.9956530157028506\n",
      "portfolio value: 86.72374565704887\n",
      "GAIN! 1.0114753211477463\n",
      "portfolio value: 87.71892848959897\n",
      "LOSS! 0.8666929537499358\n",
      "portfolio value: 76.02537723242992\n",
      "LOSS! 0.915282488912875\n",
      "portfolio value: 69.58469649383868\n",
      "GAIN! 1.0305964970904582\n",
      "portfolio value: 71.71374445765282\n",
      "LOSS! 0.9467361674711036\n",
      "portfolio value: 67.89399558284033\n",
      "LOSS! 0.9968834518718213\n",
      "portfolio value: 67.68240067799205\n",
      "LOSS! 0.8926027527414714\n",
      "portfolio value: 60.41349715732693\n",
      "GAIN! 1.0332896841436428\n",
      "portfolio value: 62.4246433957072\n",
      "LOSS! 0.9412363466814206\n",
      "portfolio value: 58.75634329266592\n",
      "GAIN! 1.0145434804608082\n",
      "portfolio value: 59.610865023291346\n",
      "GAIN! 1.1137876698850477\n",
      "portfolio value: 66.39384645412376\n",
      "GAIN! 1.0023055223763317\n",
      "portfolio value: 66.54691895277448\n",
      "LOSS! 0.9366251619127114\n",
      "portfolio value: 62.329518738934475\n",
      "GAIN! 1.047262816298219\n",
      "portfolio value: 65.27538733304912\n",
      "LOSS! 0.985513132356213\n",
      "portfolio value: 64.32975143635831\n",
      "LOSS! 0.9389502996272893\n",
      "portfolio value: 60.40243938611768\n",
      "GAIN! 1.0181661140938485\n",
      "portfolio value: 61.49971699155266\n",
      "LOSS! 0.9482431552317446\n",
      "portfolio value: 58.31668568592923\n",
      "LOSS! 0.9379413864714309\n",
      "portfolio value: 54.69763302667911\n",
      "LOSS! 0.9736225783784197\n",
      "portfolio value: 53.25485049863192\n",
      "GAIN! 1.0158403755098138\n",
      "portfolio value: 54.09842732824924\n",
      "GAIN! 1.0405982142982664\n",
      "portfolio value: 56.29472687412069\n",
      "LOSS! 0.9697151229116004\n",
      "portfolio value: 54.58984799001292\n",
      "LOSS! 0.979137837931412\n",
      "portfolio value: 53.450985733945686\n",
      "GAIN! 1.019141529294414\n",
      "portfolio value: 54.47411934318731\n",
      "LOSS! 0.9500549965372551\n",
      "portfolio value: 51.75340926396184\n",
      "LOSS! 0.9790844571622012\n",
      "portfolio value: 50.670958615499316\n",
      "LOSS! 0.9977694681598692\n",
      "portfolio value: 50.5579354289375\n",
      "GAIN! 1.0051183706188267\n",
      "portfolio value: 50.81670968018551\n",
      "GAIN! 1.0899878962463354\n",
      "portfolio value: 55.38959847846619\n",
      "GAIN! 1.0426820276923\n",
      "portfolio value: 57.75373885458946\n",
      "GAIN! 1.0105550526224623\n",
      "portfolio value: 58.363332607343594\n",
      "GAIN! 1.1048171810195322\n",
      "portfolio value: 64.48081260615069\n",
      "LOSS! 0.9426277415372984\n",
      "portfolio value: 60.78140275942559\n",
      "GAIN! 1.0297835769290438\n",
      "portfolio value: 62.591690344366135\n",
      "LOSS! 0.9945251346175353\n",
      "portfolio value: 62.24900926566982\n",
      "GAIN! 1.0195652106249244\n",
      "portfolio value: 63.46692424314552\n",
      "LOSS! 0.9349331513748496\n",
      "portfolio value: 59.33733149071288\n",
      "GAIN! 1.0098518697722103\n",
      "portfolio value: 59.92191515318986\n",
      "LOSS! 0.9481527543188198\n",
      "portfolio value: 56.81512889655559\n",
      "GAIN! 1.0741245806052009\n",
      "portfolio value: 61.026526498043204\n",
      "LOSS! 0.9714982213860065\n",
      "portfolio value: 59.287161950214966\n",
      "GAIN! 1.011398086211927\n",
      "portfolio value: 59.96292213338399\n",
      "LOSS! 0.9678966028063261\n",
      "portfolio value: 58.03790862724262\n",
      "GAIN! 1.0258377492044135\n",
      "portfolio value: 59.53747755470199\n",
      "GAIN! 1.0244707253848218\n",
      "portfolio value: 60.99440281804809\n",
      "LOSS! 0.9760096139663356\n",
      "portfolio value: 59.53112354855028\n",
      "GAIN! 1.0067007364152325\n",
      "portfolio value: 59.93002591595176\n",
      "LOSS! 0.9982400459890028\n",
      "portfolio value: 59.824551826461814\n",
      "GAIN! 1.0625862983348628\n",
      "portfolio value: 63.568749074822215\n",
      "LOSS! 0.9869227512893062\n",
      "portfolio value: 62.737444732943075\n",
      "GAIN! 1.0005897353445221\n",
      "portfolio value: 62.77444322152709\n",
      "GAIN! 1.0009287700527765\n",
      "portfolio value: 62.83274624447097\n",
      "LOSS! 0.9118863241272334\n",
      "portfolio value: 57.29632200768986\n",
      "GAIN! 1.0036336531757053\n",
      "portfolio value: 57.504516970109336\n",
      "LOSS! 0.9930370745502436\n",
      "portfolio value: 57.104117305422214\n",
      "LOSS! 0.9710525128773974\n",
      "portfolio value: 55.45109660507591\n",
      "GAIN! 1.0418128213888294\n",
      "portfolio value: 57.769663403238674\n",
      "LOSS! 0.9801466735475503\n",
      "portfolio value: 56.62274341664604\n",
      "GAIN! 1.0064703310273093\n",
      "portfolio value: 56.989111310226136\n",
      "GAIN! 1.0073093683781538\n",
      "portfolio value: 57.40566571833619\n",
      "LOSS! 0.9945211595395408\n",
      "portfolio value: 57.09114923433897\n",
      "GAIN! 1.020860499968583\n",
      "portfolio value: 58.28209915114827\n",
      "LOSS! 0.9665993356107015\n",
      "portfolio value: 56.33543831749695\n",
      "LOSS! 0.9932394967507908\n",
      "portfolio value: 55.95458240370589\n",
      "GAIN! 1.0082503996815522\n",
      "portfolio value: 56.41623007255081\n",
      "LOSS! 0.9943326145445243\n",
      "portfolio value: 56.09649755078486\n",
      "GAIN! 1.00456555538021\n",
      "portfolio value: 56.35260921698878\n",
      "LOSS! 0.9978864190138097\n",
      "portfolio value: 56.23350341362554\n",
      "GAIN! 1.000762592853683\n",
      "portfolio value: 56.27638668146633\n",
      "LOSS! 0.9942515302781975\n",
      "portfolio value: 55.952883576575466\n",
      "LOSS! 0.9682411357527138\n",
      "portfolio value: 54.175883542822795\n",
      "LOSS! 0.9940173102113863\n",
      "portfolio value: 53.85176603756202\n",
      "GAIN! 1.0122781454568708\n",
      "portfolio value: 54.51296585408058\n",
      "LOSS! 0.9920765529513521\n",
      "portfolio value: 54.081035255671026\n",
      "GAIN! 1.0079173010556142\n",
      "portfolio value: 54.50921109318946\n",
      "GAIN! 1.010455875235444\n",
      "portfolio value: 55.07915260356233\n",
      "LOSS! 0.9851751563035078\n",
      "portfolio value: 54.26261277527928\n",
      "LOSS! 0.9976760527032716\n",
      "portfolio value: 54.13650932300675\n",
      "GAIN! 1.003301492374048\n",
      "portfolio value: 54.315240595694235\n",
      "LOSS! 0.984052317479978\n",
      "portfolio value: 53.4490383826755\n",
      "LOSS! 0.9954734749492602\n",
      "portfolio value: 53.207099971498366\n",
      "GAIN! 1.0780283545020477\n",
      "portfolio value: 57.358762430100334\n",
      "LOSS! 0.999895869462064\n",
      "portfolio value: 57.352789631313144\n",
      "GAIN! 1.0046245262598956\n",
      "portfolio value: 57.61801911304142\n",
      "LOSS! 0.987232869736876\n",
      "portfolio value: 56.88240235752205\n",
      "GAIN! 1.0029583708873946\n",
      "portfolio value: 57.050681600661605\n",
      "LOSS! 0.9941062448906334\n",
      "portfolio value: 56.714438854484854\n",
      "LOSS! 0.9960648204332698\n",
      "portfolio value: 56.49125735356612\n",
      "GAIN! 1.0009516262719311\n",
      "portfolio value: 56.545015918198196\n",
      "GAIN! 1.0040155598131217\n",
      "portfolio value: 56.77207581175164\n",
      "GAIN! 1.011140325649902\n",
      "portfolio value: 57.404535224115484\n",
      "GAIN! 1.0665540359242238\n",
      "portfolio value: 61.22503872363464\n",
      "GAIN! 1.0090582634083307\n",
      "portfolio value: 61.77963125157857\n",
      "GAIN! 1.0134633235887862\n",
      "portfolio value: 62.611390418314464\n",
      "LOSS! 0.9884660726130133\n",
      "portfolio value: 61.88923518763135\n",
      "GAIN! 1.0134399427959269\n",
      "portfolio value: 62.72102296823678\n",
      "GAIN! 1.0359123788482487\n",
      "portfolio value: 64.97348410682181\n",
      "LOSS! 0.9191813022959757\n",
      "portfolio value: 59.72241173601536\n",
      "GAIN! 1.019882794618931\n",
      "portfolio value: 60.90986018270979\n",
      "LOSS! 0.993724863323452\n",
      "portfolio value: 60.52764248511386\n",
      "LOSS! 0.9983324933670299\n",
      "portfolio value: 60.42671223979189\n",
      "GAIN! 1.0016951646127281\n",
      "portfolio value: 60.52914546404429\n",
      "GAIN! 1.0015119427704384\n",
      "portfolio value: 60.620662067929466\n",
      "GAIN! 1.0023595780052956\n",
      "portfolio value: 60.76370124881141\n",
      "LOSS! 0.9960928813321903\n",
      "portfolio value: 60.52629025733697\n",
      "LOSS! 0.9782750494539666\n",
      "portfolio value: 59.21135959476146\n",
      "GAIN! 1.0363161071030296\n",
      "portfolio value: 61.36168567152082\n",
      "GAIN! 1.0017606952920242\n",
      "portfolio value: 61.46972490259333\n",
      "GAIN! 1.002075022028658\n",
      "portfolio value: 61.59727593586176\n",
      "LOSS! 0.9969093942423946\n",
      "portfolio value: 61.40690304020158\n",
      "GAIN! 1.0176557462355866\n",
      "portfolio value: 62.49108773739265\n",
      "LOSS! 0.996325309548212\n",
      "portfolio value: 62.261452333962204\n",
      "LOSS! 0.9877298617063056\n",
      "portfolio value: 61.49749570345823\n",
      "GAIN! 1.001382757026138\n",
      "portfolio value: 61.582531797732074\n",
      "LOSS! 0.9983823149741556\n",
      "portfolio value: 61.4829106581893\n",
      "GAIN! 1.0048116416059942\n",
      "portfolio value: 61.778744389169866\n",
      "GAIN! 1.008721858701773\n",
      "portfolio value: 62.31756986850516\n",
      "GAIN! 1.021399551063107\n",
      "portfolio value: 63.65113788703498\n",
      "LOSS! 0.9944436667083045\n",
      "portfolio value: 63.297470950538944\n",
      "GAIN! 1.0006299846650621\n",
      "portfolio value: 63.337347386575\n",
      "GAIN! 1.0095465490601532\n",
      "portfolio value: 63.9420004807409\n",
      "GAIN! 1.004098063736703\n",
      "portfolio value: 64.20403887416327\n",
      "LOSS! 0.9866240033477055\n",
      "portfolio value: 63.34524586511868\n",
      "LOSS! 0.9988714483834598\n",
      "portfolio value: 63.273757485497455\n",
      "GAIN! 1.0032597492971125\n",
      "portfolio value: 63.480014071986474\n",
      "LOSS! 0.9967794709956359\n",
      "portfolio value: 63.2755748454702\n",
      "LOSS! 0.9848308833602322\n",
      "portfolio value: 62.31574027019091\n",
      "GAIN! 1.0039937357458293\n",
      "portfolio value: 62.56461286963578\n",
      "GAIN! 1.0258069702889194\n",
      "portfolio value: 64.17921597510022\n",
      "LOSS! 0.9954796542932682\n",
      "portfolio value: 63.88910373170577\n",
      "GAIN! 1.0073924510176457\n",
      "portfolio value: 64.3614008016037\n",
      "GAIN! 1.00354922831579\n",
      "portfolio value: 64.58983410777266\n",
      "LOSS! 0.9999873929201017\n",
      "portfolio value: 64.58901981857345\n",
      "GAIN! 1.1739168890912894\n",
      "portfolio value: 75.82214121487539\n",
      "GAIN! 1.0190706487012307\n",
      "portfolio value: 77.26811863375937\n",
      "LOSS! 0.9902422475537848\n",
      "portfolio value: 76.51415546014636\n",
      "GAIN! 1.0231321316493\n",
      "portfolio value: 78.28409097728547\n",
      "GAIN! 1.0045712448785074\n",
      "portfolio value: 78.64194672723399\n",
      "GAIN! 1.026882987696895\n",
      "portfolio value: 80.7560772135621\n",
      "GAIN! 1.017295844792264\n",
      "portfolio value: 82.15282179107994\n",
      "LOSS! 0.9839393591435359\n",
      "portfolio value: 80.83339482494831\n",
      "GAIN! 1.0231444750276038\n",
      "portfolio value: 82.70424131287076\n",
      "LOSS! 0.9510629559571555\n",
      "portfolio value: 78.65694021321276\n",
      "GAIN! 1.0055991415234948\n",
      "portfolio value: 79.09735155327161\n",
      "GAIN! 1.0015202507396639\n",
      "portfolio value: 79.21759936047593\n",
      "GAIN! 1.0141222106236094\n",
      "portfolio value: 80.33632698374127\n",
      "LOSS! 0.9806063211806089\n",
      "portfolio value: 78.77831006068901\n",
      "GAIN! 1.0333522834761468\n",
      "portfolio value: 81.4057465896049\n",
      "GAIN! 1.0030180149306134\n",
      "portfolio value: 81.65143034825006\n",
      "GAIN! 1.0089318190778047\n",
      "portfolio value: 82.3807261515646\n",
      "GAIN! 1.0010679574070422\n",
      "portfolio value: 82.46870525825568\n",
      "GAIN! 1.0063583266416096\n",
      "portfolio value: 82.9930682239983\n",
      "LOSS! 0.9959992240031919\n",
      "portfolio value: 82.66103154874628\n",
      "GAIN! 1.0163521305030732\n",
      "portfolio value: 84.01271552415002\n",
      "GAIN! 1.0320400770453633\n",
      "portfolio value: 86.70448940233398\n",
      "LOSS! 0.9808594736280755\n",
      "portfolio value: 85.04491983636436\n",
      "LOSS! 0.9531679052957445\n",
      "portfolio value: 81.06208809647192\n",
      "GAIN! 1.0132513281223057\n",
      "portfolio value: 82.13626842411752\n",
      "LOSS! 0.997882330374404\n",
      "portfolio value: 81.96233094331596\n",
      "GAIN! 1.0025404442183636\n",
      "portfolio value: 82.17055167308452\n",
      "LOSS! 0.9929031477198919\n",
      "portfolio value: 81.58739940608564\n",
      "GAIN! 1.0196276419204262\n",
      "portfolio value: 83.18876766684708\n",
      "GAIN! 1.00967735783338\n",
      "portfolio value: 83.99381513927707\n",
      "GAIN! 1.019039760986869\n",
      "portfolio value: 85.59303730390418\n",
      "GAIN! 1.0477222434632085\n",
      "portfolio value: 89.67772906887659\n",
      "GAIN! 1.0107406252912001\n",
      "portfolio value: 90.64092395377115\n",
      "LOSS! 0.9939359545966564\n",
      "portfolio value: 90.09127327551447\n",
      "LOSS! 0.9922498952061934\n",
      "portfolio value: 89.39305646662177\n",
      "GAIN! 1.0146028885729201\n",
      "portfolio value: 90.69845330939661\n",
      "GAIN! 1.0227329679497164\n",
      "portfolio value: 92.76029834156797\n",
      "GAIN! 1.032130096319034\n",
      "portfolio value: 95.74069566186489\n",
      "GAIN! 1.0328743837505836\n",
      "portfolio value: 98.88811203160087\n",
      "GAIN! 1.129333473549312\n",
      "portfolio value: 111.67765505338132\n",
      "LOSS! 0.9679134438566608\n",
      "portfolio value: 108.09430370455452\n",
      "GAIN! 1.121032168373506\n",
      "portfolio value: 121.17719167074107\n",
      "GAIN! 1.0238901771152669\n",
      "portfolio value: 124.0721362420857\n",
      "GAIN! 1.02701005650877\n",
      "portfolio value: 127.42333165314827\n",
      "LOSS! 0.9622195667850332\n",
      "portfolio value: 122.60922298159792\n",
      "LOSS! 0.9311480431667718\n",
      "portfolio value: 114.16733805351329\n",
      "LOSS! 0.9904031922895126\n",
      "portfolio value: 113.0716960633955\n",
      "GAIN! 1.1279212038491915\n",
      "portfolio value: 127.53596354509494\n",
      "LOSS! 0.9733296599214882\n",
      "portfolio value: 124.13453602510658\n",
      "LOSS! 0.9981647457986872\n",
      "portfolio value: 123.9067175963385\n",
      "LOSS! 0.9652821205897504\n",
      "portfolio value: 119.60493911670896\n",
      "GAIN! 1.026647188677869\n",
      "portfolio value: 122.79207449615694\n",
      "GAIN! 1.013407809530984\n",
      "portfolio value: 124.43844724291581\n",
      "GAIN! 1.0075900353269713\n",
      "portfolio value: 125.38293945352301\n",
      "GAIN! 1.0767217823391826\n",
      "portfolio value: 135.0025420433231\n",
      "GAIN! 1.0151838779588505\n",
      "portfolio value: 137.0524041658435\n",
      "LOSS! 0.9905943228018919\n",
      "portfolio value: 135.76333349303493\n",
      "LOSS! 0.99322086713491\n",
      "portfolio value: 134.84297581707813\n",
      "LOSS! 0.9604828514518566\n",
      "portfolio value: 129.51436591104095\n",
      "GAIN! 1.0305537353228702\n",
      "portfolio value: 133.47151356759628\n",
      "LOSS! 0.9988542773872011\n",
      "portfolio value: 133.3185922363374\n",
      "GAIN! 1.0207209061178002\n",
      "portfolio value: 136.08107426982383\n",
      "LOSS! 0.9390565811570712\n",
      "portfolio value: 127.78782836400227\n",
      "LOSS! 0.9387144984526137\n",
      "portfolio value: 119.95628721106307\n",
      "GAIN! 1.01556111657037\n",
      "portfolio value: 121.8229409797032\n",
      "GAIN! 1.0003056584147636\n",
      "portfolio value: 121.8601771867249\n",
      "GAIN! 1.0277312558961624\n",
      "portfolio value: 125.23951294384166\n",
      "LOSS! 0.9897164007129093\n",
      "portfolio value: 123.95159997781678\n",
      "LOSS! 0.9670932883825952\n",
      "portfolio value: 119.87276042283085\n",
      "GAIN! 1.0400459597078775\n",
      "portfolio value: 124.67318015679558\n",
      "LOSS! 0.9904389096335678\n",
      "portfolio value: 123.48116861504599\n",
      "GAIN! 1.0278121472669237\n",
      "portfolio value: 126.91544506125949\n",
      "GAIN! 1.0104816084951531\n",
      "portfolio value: 128.24572306837973\n",
      "GAIN! 1.0562435041359968\n",
      "portfolio value: 135.45871192420003\n",
      "GAIN! 1.0171039412022522\n",
      "portfolio value: 137.77558976828436\n",
      "GAIN! 1.0173102847640754\n",
      "portfolio value: 140.1605244607118\n",
      "GAIN! 1.0368707886811221\n",
      "portfolio value: 145.32835353953794\n",
      "LOSS! 0.9728236298106243\n",
      "portfolio value: 141.378856404735\n",
      "GAIN! 1.0214560845090208\n",
      "portfolio value: 144.4122930955437\n",
      "GAIN! 1.027401914189014\n",
      "portfolio value: 148.36946635878653\n",
      "GAIN! 1.0650370178381976\n",
      "portfolio value: 158.01897398900678\n",
      "GAIN! 1.0516677981287401\n",
      "portfolio value: 166.18346643758142\n",
      "GAIN! 1.0148344643659892\n",
      "portfolio value: 168.64870914866628\n",
      "GAIN! 1.0144980751709924\n",
      "portfolio value: 171.09379081139448\n",
      "GAIN! 1.0712001863126726\n",
      "portfolio value: 183.2757005941072\n",
      "GAIN! 1.1050763572351063\n",
      "portfolio value: 202.533643582248\n",
      "LOSS! 0.8590842171850543\n",
      "portfolio value: 173.99345665049233\n"
     ]
    },
    {
     "name": "stdout",
     "output_type": "stream",
     "text": [
      "GAIN! 1.1115521703298146\n",
      "portfolio value: 193.40280436304127\n",
      "LOSS! 0.9644060164515448\n",
      "portfolio value: 186.51882812631808\n",
      "LOSS! 0.9065674858628724\n",
      "portfolio value: 169.0919050805654\n",
      "LOSS! 0.9801984559233007\n",
      "portfolio value: 165.7436242690995\n",
      "GAIN! 1.020115261612947\n",
      "portfolio value: 169.07760063195045\n",
      "GAIN! 1.1056661832971768\n",
      "portfolio value: 186.943385371773\n",
      "LOSS! 0.9367494329556518\n",
      "portfolio value: 175.11911024181825\n",
      "LOSS! 0.9799481815558033\n",
      "portfolio value: 171.60765363714003\n",
      "GAIN! 1.0205787326745879\n",
      "portfolio value: 175.139121666252\n",
      "GAIN! 1.0207914466286157\n",
      "portfolio value: 178.78051736695852\n",
      "GAIN! 1.0733284618662666\n",
      "portfolio value: 191.89021771713297\n",
      "GAIN! 1.0235655032335254\n",
      "portfolio value: 196.41220726322794\n",
      "LOSS! 0.9669869793604632\n",
      "portfolio value: 189.92804701099\n",
      "LOSS! 0.93566143598132\n",
      "portfolio value: 177.70834919943056\n",
      "GAIN! 1.0406618225147533\n",
      "portfolio value: 184.9342945539676\n",
      "LOSS! 0.964383008110846\n",
      "portfolio value: 178.34749128481252\n",
      "LOSS! 0.9011545657711213\n",
      "portfolio value: 160.71865606513407\n",
      "GAIN! 1.062123317085914\n",
      "portfolio value: 170.70303209749034\n",
      "LOSS! 0.8697754551753231\n",
      "portfolio value: 148.47330744240244\n",
      "GAIN! 1.0235016197827236\n",
      "portfolio value: 151.9626706617972\n",
      "GAIN! 1.0998071041690853\n",
      "portfolio value: 167.1296247623516\n",
      "LOSS! 0.9884340021509396\n",
      "portfolio value: 165.19660388183596\n",
      "GAIN! 1.0229265109725072\n",
      "portfolio value: 168.9839856333538\n",
      "LOSS! 0.983444830145186\n",
      "portfolio value: 166.18642704845018\n",
      "LOSS! 0.9760457642074318\n",
      "portfolio value: 162.20555818940718\n",
      "LOSS! 0.9568965566060441\n",
      "portfolio value: 155.21394009380506\n",
      "LOSS! 0.9923334593575766\n",
      "portfolio value: 154.02398611380522\n",
      "GAIN! 1.010474472883957\n",
      "portfolio value: 155.63730617983325\n",
      "LOSS! 0.9956801479099388\n",
      "portfolio value: 154.96497603744078\n",
      "LOSS! 0.9601377037937894\n",
      "portfolio value: 148.787716261048\n",
      "GAIN! 1.0064513068981646\n",
      "portfolio value: 149.74759148132506\n",
      "LOSS! 0.9969592941225804\n",
      "portfolio value: 149.29225309977838\n",
      "GAIN! 1.0089363353917833\n",
      "portfolio value: 150.626378744873\n",
      "GAIN! 1.050143128082755\n",
      "portfolio value: 158.1792565469187\n",
      "GAIN! 1.0319750339679015\n",
      "portfolio value: 163.23704364802384\n",
      "GAIN! 1.0111643295731796\n",
      "portfolio value: 165.05947580186188\n",
      "GAIN! 1.0287518053024112\n",
      "portfolio value: 169.80523371343506\n",
      "GAIN! 1.0137272960916683\n",
      "portfolio value: 172.13620043453432\n",
      "GAIN! 1.0770858835333117\n",
      "portfolio value: 185.40547153309763\n",
      "LOSS! 0.971775413058364\n",
      "portfolio value: 180.17247868235668\n",
      "GAIN! 1.0405862271608124\n",
      "portfolio value: 187.48499983028543\n",
      "GAIN! 1.0010345613248397\n",
      "portfolio value: 187.67896456009743\n",
      "LOSS! 0.9924261988195928\n",
      "portfolio value: 186.25752139677456\n",
      "LOSS! 0.9572120049720761\n",
      "portfolio value: 178.28793549733595\n",
      "GAIN! 1.0153165502996266\n",
      "portfolio value: 181.0186916291975\n",
      "LOSS! 0.9873724106652291\n",
      "portfolio value: 178.73286192938644\n",
      "LOSS! 0.9570293904065209\n",
      "portfolio value: 171.05260189789357\n",
      "LOSS! 0.9230649543285323\n",
      "portfolio value: 157.89266215865575\n",
      "GAIN! 1.027207864626381\n",
      "portfolio value: 162.18858433616737\n",
      "GAIN! 1.0053219023674076\n",
      "portfolio value: 163.0517361471125\n",
      "LOSS! 0.9877418751482465\n",
      "portfolio value: 161.05302760812603\n",
      "GAIN! 1.0110236121282636\n",
      "portfolio value: 162.82841371656053\n",
      "GAIN! 1.0546623214755786\n",
      "portfolio value: 171.7289928124937\n",
      "LOSS! 0.9859738553285958\n",
      "portfolio value: 169.3202971150311\n",
      "LOSS! 0.9417977374783202\n",
      "portfolio value: 159.46547273209325\n",
      "LOSS! 0.9988695296006852\n",
      "portfolio value: 159.28520173545687\n",
      "GAIN! 1.0268002147678215\n",
      "portfolio value: 163.55407935130287\n",
      "LOSS! 0.9762017627517634\n",
      "portfolio value: 159.66178056798364\n",
      "LOSS! 0.997813177735414\n",
      "portfolio value: 159.31262863143414\n",
      "GAIN! 1.0241470737118914\n",
      "portfolio value: 163.15956241823255\n",
      "LOSS! 0.9819406814718521\n",
      "portfolio value: 160.21301190960847\n",
      "LOSS! 0.9559947930330162\n",
      "portfolio value: 153.1628051617223\n",
      "LOSS! 0.9747267251589413\n",
      "portfolio value: 149.2918794914426\n",
      "GAIN! 1.0087577994131498\n",
      "portfolio value: 150.59934782604077\n",
      "GAIN! 1.003451405593068\n",
      "portfolio value: 151.11912725743994\n",
      "GAIN! 1.013226385196021\n",
      "portfolio value: 153.11788704503337\n",
      "GAIN! 1.060393410379644\n",
      "portfolio value: 162.36519843380805\n",
      "GAIN! 1.0268530661109572\n",
      "portfolio value: 166.72520184146978\n",
      "LOSS! 0.9974873320731377\n",
      "portfolio value: 166.30627677420307\n",
      "LOSS! 0.9988052350516035\n",
      "portfolio value: 166.10757986401492\n",
      "LOSS! 0.9787397151515291\n",
      "portfolio value: 162.57608540061585\n",
      "GAIN! 1.0157740313396197\n",
      "portfolio value: 165.14056566679787\n",
      "LOSS! 0.9926947085055738\n",
      "portfolio value: 163.9341656970475\n",
      "LOSS! 0.9896340575054896\n",
      "portfolio value: 162.23483356254636\n",
      "LOSS! 0.9786741571292766\n",
      "portfolio value: 158.77503899383353\n",
      "GAIN! 1.0054664350373548\n",
      "portfolio value: 159.6429724300468\n",
      "GAIN! 1.0229253963823077\n",
      "portfolio value: 163.30285085265544\n",
      "LOSS! 0.9947370597311982\n",
      "portfolio value: 162.44339770289287\n",
      "GAIN! 1.001222331060566\n",
      "portfolio value: 162.64195731348897\n",
      "LOSS! 0.9991548342997152\n",
      "portfolio value: 162.50449790974042\n",
      "LOSS! 0.993193467147925\n",
      "portfolio value: 161.3984057061078\n",
      "LOSS! 0.9960860616226598\n",
      "portfolio value: 160.76670229197316\n",
      "LOSS! 0.9951650235764302\n",
      "portfolio value: 159.9893990766964\n",
      "GAIN! 1.006462327391399\n",
      "portfolio value: 161.02330295268322\n",
      "LOSS! 0.9917519840269541\n",
      "portfolio value: 159.69518017789687\n",
      "LOSS! 0.9839024646588013\n",
      "portfolio value: 157.12448137116408\n",
      "GAIN! 1.0046166013326847\n",
      "portfolio value: 157.8498624612596\n",
      "LOSS! 0.9663647278447629\n",
      "portfolio value: 152.54053937770837\n",
      "LOSS! 0.8860398531541004\n",
      "portfolio value: 135.156997110272\n",
      "LOSS! 0.9864663786047327\n",
      "portfolio value: 133.32783348246033\n",
      "LOSS! 0.9565602630838346\n",
      "portfolio value: 127.53610747237994\n",
      "GAIN! 1.0171013065949768\n",
      "portfolio value: 129.71714154819503\n",
      "LOSS! 0.9993505973983182\n",
      "portfolio value: 129.63290289899092\n",
      "LOSS! 0.9827976080366255\n",
      "portfolio value: 127.40290689197242\n",
      "GAIN! 1.0234003331594914\n",
      "portfolio value: 130.38417735873225\n",
      "GAIN! 1.0052478469602115\n",
      "portfolio value: 131.06841356754396\n",
      "GAIN! 1.0058518523199906\n",
      "portfolio value: 131.83540656755667\n",
      "LOSS! 0.9844135689855615\n",
      "portfolio value: 129.780563097831\n",
      "LOSS! 0.9935159845641651\n",
      "portfolio value: 128.9390639234333\n",
      "LOSS! 0.9928565336849053\n",
      "portfolio value: 128.01799206359644\n",
      "LOSS! 0.9801566094388408\n",
      "portfolio value: 125.4776810482231\n",
      "GAIN! 1.032106467541705\n",
      "portfolio value: 129.50632614200632\n",
      "LOSS! 0.9978092960214211\n",
      "portfolio value: 129.22261611807588\n",
      "GAIN! 1.0444600839859994\n",
      "portfolio value: 134.9678644835761\n",
      "GAIN! 1.0001390006309627\n",
      "portfolio value: 134.98662510189902\n",
      "LOSS! 0.9693071873596981\n",
      "portfolio value: 130.84350590869977\n",
      "GAIN! 1.0025122013575423\n",
      "portfolio value: 131.17221114186918\n",
      "LOSS! 0.9980932385051965\n",
      "portfolio value: 130.92209702047563\n",
      "GAIN! 1.0064722484464586\n",
      "portfolio value: 131.7694573595235\n",
      "LOSS! 0.979925991504266\n",
      "portfolio value: 129.12431615301017\n",
      "LOSS! 0.9808465353033897\n",
      "portfolio value: 126.65113812209954\n",
      "GAIN! 1.0069706684658097\n",
      "portfolio value: 127.53398121676616\n",
      "LOSS! 0.9842331661233105\n",
      "portfolio value: 125.52317412128856\n",
      "GAIN! 1.0018506645601595\n",
      "portfolio value: 125.75547541111357\n",
      "GAIN! 1.0280415609527733\n",
      "portfolio value: 129.2818552399993\n",
      "GAIN! 1.0022620313782649\n",
      "portfolio value: 129.57429485319247\n",
      "LOSS! 0.9799598258266199\n",
      "portfolio value: 126.97760341594159\n",
      "LOSS! 0.9304679604423572\n",
      "portfolio value: 118.14859167228967\n",
      "LOSS! 0.9978375704481746\n",
      "portfolio value: 117.89310366615095\n",
      "GAIN! 1.1561932238921162\n",
      "portfolio value: 136.30720760241454\n",
      "GAIN! 1.0666155602568346\n",
      "portfolio value: 145.38738860389404\n",
      "GAIN! 1.0335444319379241\n",
      "portfolio value: 150.2643259655499\n",
      "LOSS! 0.9676999639803877\n",
      "portfolio value: 145.41078282439986\n",
      "GAIN! 1.0193813293901008\n",
      "portfolio value: 148.22903710319198\n",
      "LOSS! 0.9769979111999852\n",
      "portfolio value: 144.8194596290037\n",
      "LOSS! 0.9996877957093028\n",
      "portfolio value: 144.77424637233105\n",
      "GAIN! 1.007299582522894\n",
      "portfolio value: 145.83103793091567\n",
      "GAIN! 1.0070125367827818\n",
      "portfolio value: 146.85368344847745\n",
      "LOSS! 0.9904091518510287\n",
      "portfolio value: 145.445232070406\n",
      "GAIN! 1.019165483625176\n",
      "portfolio value: 148.2327602840113\n",
      "LOSS! 0.9925127480608039\n",
      "portfolio value: 147.12290426212246\n",
      "GAIN! 1.0021428022555043\n",
      "portfolio value: 147.43815955321168\n",
      "LOSS! 0.9909293775166805\n",
      "portfolio value: 146.10080366826907\n",
      "LOSS! 0.9503001611448547\n",
      "portfolio value: 138.83961726934888\n",
      "GAIN! 1.0004669159249813\n",
      "portfolio value: 138.90444369767025\n",
      "GAIN! 1.0275787126956826\n",
      "portfolio value: 142.73524944256192\n",
      "LOSS! 0.9669722212517969\n",
      "portfolio value: 138.0210212044034\n",
      "GAIN! 1.0063826186573759\n",
      "portfolio value: 138.90195674945272\n",
      "LOSS! 0.9995721182926135\n",
      "portfolio value: 138.84252314303944\n",
      "LOSS! 0.9882157801978252\n",
      "portfolio value: 137.20637233243332\n",
      "LOSS! 0.9754510695602573\n",
      "portfolio value: 133.83810264215498\n",
      "GAIN! 1.007018438510428\n",
      "portfolio value: 134.7774371359013\n",
      "GAIN! 1.0033341108242035\n",
      "portfolio value: 135.2268000479145\n",
      "LOSS! 0.9691281853390914\n",
      "portfolio value: 131.05210333964754\n",
      "LOSS! 0.9880809570698097\n",
      "portfolio value: 129.49008769385054\n",
      "LOSS! 0.9785039580977323\n",
      "portfolio value: 126.7065633428552\n",
      "LOSS! 0.952528488797514\n",
      "portfolio value: 120.69161130169634\n",
      "LOSS! 0.9546034471634461\n",
      "portfolio value: 115.21262819231006\n",
      "GAIN! 1.0139295548382152\n",
      "portfolio value: 116.81748881476975\n",
      "LOSS! 0.9525970865873279\n",
      "portfolio value: 111.27999950739742\n",
      "GAIN! 1.0150791312976608\n",
      "portfolio value: 112.9580052307731\n",
      "GAIN! 1.0102463657171739\n",
      "portfolio value: 114.11541426305004\n",
      "GAIN! 1.0430394464188195\n",
      "portfolio value: 119.02687852078597\n",
      "LOSS! 0.9902194357285534\n",
      "portfolio value: 117.86272848538376\n",
      "GAIN! 1.0394438687204568\n",
      "portfolio value: 122.51169047479607\n",
      "LOSS! 0.9749580351012771\n",
      "portfolio value: 119.44375702224302\n",
      "LOSS! 0.9805426310097526\n",
      "portfolio value: 117.11969576827978\n",
      "LOSS! 0.9862543972393302\n",
      "portfolio value: 115.5098149547985\n",
      "LOSS! 0.9994770493047036\n",
      "portfolio value: 115.44940901675433\n",
      "LOSS! 0.9906982009144311\n",
      "portfolio value: 114.37552180953281\n",
      "GAIN! 1.0268936188890219\n",
      "portfolio value: 117.4514935033114\n",
      "GAIN! 1.0129433275989186\n",
      "portfolio value: 118.97170666070701\n",
      "GAIN! 1.001188797163708\n",
      "portfolio value: 119.11313988814675\n",
      "GAIN! 1.0017223896165972\n",
      "portfolio value: 119.31829912349038\n",
      "LOSS! 0.9787225139842252\n",
      "portfolio value: 116.77950568246428\n",
      "LOSS! 0.9839107086642968\n",
      "portfolio value: 114.9006061934997\n",
      "LOSS! 0.9917866038777885\n",
      "portfolio value: 113.95688200015026\n",
      "GAIN! 1.0036575395972402\n",
      "portfolio value: 114.37368380844384\n",
      "GAIN! 1.0034539169059546\n",
      "portfolio value: 114.76872100854614\n",
      "LOSS! 0.9801580778779037\n",
      "portfolio value: 112.49148898424197\n",
      "GAIN! 1.003938948255375\n",
      "portfolio value: 112.934587138521\n",
      "LOSS! 0.9690812085318505\n",
      "portfolio value: 109.4427861892435\n",
      "LOSS! 0.9580454394380576\n",
      "portfolio value: 104.85116218799918\n",
      "GAIN! 1.094634935171258\n",
      "portfolio value: 114.77374512429155\n",
      "LOSS! 0.9897292134338435\n",
      "portfolio value: 113.5949284847215\n",
      "GAIN! 1.0014121515478125\n",
      "portfolio value: 113.75534173880486\n",
      "LOSS! 0.9959234573204246\n",
      "portfolio value: 113.29161323317695\n",
      "GAIN! 1.0445545811612709\n",
      "portfolio value: 118.33927360986584\n",
      "LOSS! 0.9795877055307788\n",
      "portfolio value: 115.92369750966752\n",
      "LOSS! 0.9956677812083113\n",
      "portfolio value: 115.4214906889141\n",
      "LOSS! 0.9930928495806347\n",
      "portfolio value: 114.6242570910984\n",
      "LOSS! 0.9950744318883904\n",
      "portfolio value: 114.05966750555355\n",
      "GAIN! 1.007176879368887\n",
      "portfolio value: 114.87825998009626\n",
      "GAIN! 1.0039729537961577\n",
      "portfolio value: 115.33466599918017\n",
      "GAIN! 1.014349607801453\n",
      "portfolio value: 116.98967322217997\n",
      "LOSS! 0.9828472843381522\n",
      "portfolio value: 114.98298262202742\n",
      "LOSS! 0.986175791690628\n",
      "portfolio value: 113.39343391822761\n",
      "GAIN! 1.0007341634171214\n",
      "portfolio value: 113.47668322915214\n",
      "LOSS! 0.9698605332244129\n",
      "portfolio value: 110.05655650516329\n",
      "GAIN! 1.0516084537940493\n",
      "portfolio value: 115.73640521629218\n",
      "GAIN! 1.008887394538802\n",
      "portfolio value: 116.76500031195202\n",
      "GAIN! 1.0001168245467282\n",
      "portfolio value: 116.77864133018718\n",
      "GAIN! 1.048413657177369\n",
      "portfolio value: 122.4323224371858\n",
      "GAIN! 1.0508464945986744\n",
      "portfolio value: 128.65757685869133\n",
      "LOSS! 0.9899444496425026\n",
      "portfolio value: 127.36385411571517\n",
      "LOSS! 0.9748555841151165\n",
      "portfolio value: 124.161364399128\n",
      "GAIN! 1.0365873733341415\n",
      "portfolio value: 128.7041025920753\n",
      "LOSS! 0.9847279582693808\n",
      "portfolio value: 126.73852816638721\n",
      "GAIN! 1.0198216400074884\n",
      "portfolio value: 129.25069364678026\n",
      "LOSS! 0.9944348100446602\n",
      "portfolio value: 128.5313889847765\n",
      "GAIN! 1.0843676681862628\n",
      "portfolio value: 139.3752825621636\n",
      "LOSS! 0.9979226862622207\n",
      "portfolio value: 139.08575637299035\n",
      "LOSS! 0.9899352624966742\n",
      "portfolio value: 137.68589474464468\n",
      "GAIN! 1.0233608275230661\n",
      "portfolio value: 140.90235118413335\n",
      "GAIN! 1.0017470941473823\n",
      "portfolio value: 141.14852085723956\n",
      "LOSS! 0.9736955059174054\n",
      "portfolio value: 137.4356804255833\n",
      "LOSS! 0.9946018098527152\n",
      "portfolio value: 136.69377648962455\n",
      "GAIN! 1.0100361945399285\n",
      "portfolio value: 138.06566182287193\n",
      "LOSS! 0.9927569266809558\n",
      "portfolio value: 137.06564211144652\n",
      "LOSS! 0.9684200200112814\n",
      "portfolio value: 132.73711187642616\n",
      "GAIN! 1.0047429502000684\n",
      "portfolio value: 133.36667738775697\n",
      "LOSS! 0.9914371487924697\n",
      "portfolio value: 132.2246783732429\n",
      "GAIN! 1.0277867676899288\n",
      "portfolio value: 135.89877479407576\n",
      "GAIN! 1.0363498342277357\n",
      "portfolio value: 140.83867272959282\n",
      "GAIN! 1.050049279975456\n",
      "portfolio value: 147.8875468924078\n",
      "LOSS! 0.9956354850997438\n",
      "portfolio value: 147.24208949043356\n",
      "GAIN! 1.0207144931952605\n",
      "portfolio value: 150.29213475123908\n",
      "LOSS! 0.9834056607329544\n",
      "portfolio value: 147.7981360780085\n",
      "GAIN! 1.004977081019406\n",
      "portfolio value: 148.53373937578596\n",
      "LOSS! 0.9951591109720717\n",
      "portfolio value: 147.81470402656456\n",
      "LOSS! 0.9945250035636072\n",
      "portfolio value: 147.00541904877267\n",
      "LOSS! 0.9879607434737969\n",
      "portfolio value: 145.23558309810252\n",
      "GAIN! 1.0468243855846635\n",
      "portfolio value: 152.03615004170152\n",
      "GAIN! 1.0116430182454466\n",
      "portfolio value: 153.8063097106045\n",
      "GAIN! 1.0071910763540914\n",
      "portfolio value: 154.9123426274745\n",
      "GAIN! 1.0073571235400032\n",
      "portfolio value: 156.05205187005612\n",
      "GAIN! 1.025626723407693\n",
      "portfolio value: 160.051154640533\n",
      "LOSS! 0.9744009967627031\n",
      "portfolio value: 155.9540046147569\n",
      "GAIN! 1.0357496552119791\n",
      "portfolio value: 161.52930650866188\n",
      "GAIN! 1.012121377454056\n",
      "portfolio value: 163.48726420274528\n",
      "LOSS! 0.9893857546196765\n",
      "portfolio value: 161.75197026393957\n",
      "GAIN! 1.009848203455263\n",
      "portfolio value: 163.34493657638848\n",
      "LOSS! 0.9588484052618458\n",
      "portfolio value: 156.62303194386743\n",
      "GAIN! 1.0045761031430342\n",
      "portfolio value: 157.3397550926173\n",
      "LOSS! 0.9752008788566686\n",
      "portfolio value: 153.4378674454134\n",
      "GAIN! 1.0465127340076705\n",
      "portfolio value: 160.5746821606061\n",
      "LOSS! 0.9496823509591086\n",
      "portfolio value: 152.49494165879602\n",
      "LOSS! 0.9978347798052194\n",
      "portfolio value: 152.1647565315145\n",
      "GAIN! 1.0077674647560342\n",
      "portfolio value: 153.34669091498358\n",
      "LOSS! 0.9974684008769168\n",
      "portfolio value: 152.9584785667355\n",
      "GAIN! 1.027029769268814\n",
      "portfolio value: 157.09291095010317\n",
      "LOSS! 0.9726446673972\n",
      "portfolio value: 152.79558212152105\n",
      "LOSS! 0.967920692457632\n",
      "portfolio value: 147.89400565152962\n",
      "LOSS! 0.9445543481773264\n",
      "portfolio value: 139.6939261075144\n",
      "LOSS! 0.995399526563103\n",
      "portfolio value: 139.05126791116092\n",
      "LOSS! 0.9867701639328961\n",
      "portfolio value: 137.2116424317733\n",
      "LOSS! 0.991730787553374\n",
      "portfolio value: 136.07701021035447\n",
      "LOSS! 0.9956621239717275\n",
      "portfolio value: 135.48672500976397\n",
      "GAIN! 1.0357813621342893\n",
      "portfolio value: 140.3346245817272\n",
      "LOSS! 0.9912466814574808\n",
      "portfolio value: 139.10623091021853\n",
      "LOSS! 0.9962114422998607\n",
      "portfolio value: 138.57921892796625\n",
      "GAIN! 1.0363547000333981\n",
      "portfolio value: 143.61722486295508\n",
      "GAIN! 1.0048728575626913\n",
      "portfolio value: 144.31705114326127\n",
      "LOSS! 0.9767972207968315\n",
      "portfolio value: 140.9684944703318\n",
      "LOSS! 0.9101850766766905\n",
      "portfolio value: 128.30741994847656\n",
      "LOSS! 0.9768834216610196\n",
      "portfolio value: 125.34139142376515\n",
      "LOSS! 0.9984325612095295\n",
      "portfolio value: 125.14492646479599\n",
      "GAIN! 1.000169445866953\n",
      "portfolio value: 125.16613175535558\n",
      "LOSS! 0.6281310532936026\n",
      "portfolio value: 78.62073417617735\n",
      "GAIN! 1.108787237077773\n",
      "portfolio value: 87.17366662422972\n",
      "LOSS! 0.9331228721226481\n",
      "portfolio value: 81.34374217386348\n",
      "GAIN! 1.0367709261874887\n",
      "portfolio value: 84.33482691315272\n",
      "LOSS! 0.9311543709963324\n",
      "portfolio value: 78.52874270740129\n",
      "GAIN! 1.044587263598457\n",
      "portfolio value: 82.0301244585516\n",
      "GAIN! 1.0021665315756587\n",
      "portfolio value: 82.20784531334627\n",
      "GAIN! 1.180305294438141\n",
      "portfolio value: 97.03035506769432\n",
      "GAIN! 1.0011506637707783\n",
      "portfolio value: 97.14200438193647\n",
      "LOSS! 0.9965431396348158\n",
      "portfolio value: 96.80619803719401\n",
      "LOSS! 0.9425592296445942\n",
      "portfolio value: 91.2455754467596\n",
      "GAIN! 1.100309185855239\n",
      "portfolio value: 100.39834483271684\n",
      "GAIN! 1.0463224622454266\n",
      "portfolio value: 105.04904337073368\n",
      "LOSS! 0.9914443935942692\n",
      "portfolio value: 104.15028510235514\n",
      "GAIN! 1.0061825430206828\n",
      "portfolio value: 104.79419872061683\n",
      "LOSS! 0.9628551324586927\n",
      "portfolio value: 100.90163209004209\n",
      "LOSS! 0.9652000583468278\n",
      "portfolio value: 97.39026118059877\n",
      "GAIN! 1.0851067318758851\n",
      "portfolio value: 105.67882802621841\n",
      "GAIN! 1.0012499732343842\n",
      "portfolio value: 105.81092373269227\n",
      "GAIN! 1.0263241610997882\n",
      "portfolio value: 108.59630753514907\n",
      "GAIN! 1.0282812878999854\n",
      "portfolio value: 111.66755097342597\n",
      "LOSS! 0.9905832655942777\n",
      "portfolio value: 110.61600730417176\n",
      "GAIN! 1.0191655082300208\n",
      "portfolio value: 112.73601930253191\n",
      "LOSS! 0.9895944900688941\n",
      "portfolio value: 111.56294353408607\n",
      "GAIN! 1.0712622121567903\n",
      "portfolio value: 119.51316568504814\n",
      "LOSS! 0.9866326298602021\n",
      "portfolio value: 117.9155889627571\n",
      "GAIN! 1.0215641903665413\n",
      "portfolio value: 120.45834317033284\n",
      "LOSS! 0.9951107770714369\n",
      "portfolio value: 119.86939547696772\n",
      "LOSS! 0.9399872203994407\n",
      "portfolio value: 112.67569986535618\n",
      "LOSS! 0.9987830368591373\n",
      "portfolio value: 112.53857769174913\n",
      "GAIN! 1.016480432667871\n",
      "portfolio value: 114.39326214393596\n",
      "LOSS! 0.9826893860559361\n",
      "portfolio value: 112.41304454516019\n",
      "LOSS! 0.9998752055024313\n",
      "portfolio value: 112.399016015746\n",
      "LOSS! 0.9702797704089456\n",
      "portfolio value: 109.05849145394943\n",
      "GAIN! 1.0717345666984077\n",
      "portfolio value: 116.8817550831805\n",
      "LOSS! 0.9971379170754802\n",
      "portfolio value: 116.54722980776901\n",
      "GAIN! 1.0233173629517578\n",
      "portfolio value: 119.26480386621868\n",
      "LOSS! 0.9901531024549559\n",
      "portfolio value: 118.09041556181825\n",
      "LOSS! 0.9575733401219685\n",
      "portfolio value: 113.08023366592158\n",
      "GAIN! 1.0000783545654806\n",
      "portfolio value: 113.08909401849492\n",
      "GAIN! 1.0345619810613798\n",
      "portfolio value: 116.99767714421074\n",
      "GAIN! 1.043309254009497\n",
      "portfolio value: 122.06475926217048\n",
      "GAIN! 1.0157003479230886\n",
      "portfolio value: 123.9812184517346\n",
      "GAIN! 1.0025764080564745\n",
      "portfolio value: 124.30064466180518\n",
      "GAIN! 1.0144948494370194\n",
      "portfolio value: 126.10236379110249\n",
      "GAIN! 1.015129026002308\n",
      "portfolio value: 128.0101697318506\n",
      "GAIN! 1.0012938844997823\n",
      "portfolio value: 128.17580010628114\n",
      "GAIN! 1.1273680433386057\n",
      "portfolio value: 144.50130096917843\n",
      "LOSS! 0.9841871527151077\n",
      "portfolio value: 142.21632396448456\n"
     ]
    },
    {
     "name": "stdout",
     "output_type": "stream",
     "text": [
      "GAIN! 1.0221364228899927\n",
      "portfolio value: 145.3644846536226\n",
      "GAIN! 1.0134782146716854\n",
      "portfolio value: 147.32373838342306\n",
      "LOSS! 0.9904108184812606\n",
      "portfolio value: 145.91102431404514\n",
      "GAIN! 1.0019008165662064\n",
      "portfolio value: 146.18837440625342\n",
      "GAIN! 1.0101245351571317\n",
      "portfolio value: 147.66846374249346\n",
      "GAIN! 1.0290116028197172\n",
      "portfolio value: 151.95256256158848\n",
      "GAIN! 1.074458089739114\n",
      "portfolio value: 163.26666010088758\n",
      "LOSS! 0.9905903212205259\n",
      "portfolio value: 161.73037327394064\n",
      "LOSS! 0.9748996932447151\n",
      "portfolio value: 157.67089129311802\n",
      "LOSS! 0.9129680348652431\n",
      "portfolio value: 143.94848377932934\n",
      "LOSS! 0.9824409068013672\n",
      "portfolio value: 141.4208789368462\n",
      "GAIN! 1.0225415913626292\n",
      "portfolio value: 144.60873059998445\n",
      "GAIN! 1.0527631065719374\n",
      "portfolio value: 152.23873646386403\n",
      "GAIN! 1.0498733863354146\n",
      "portfolio value: 159.8313977827417\n",
      "LOSS! 0.9582821440875192\n",
      "portfolio value: 153.16357455975088\n",
      "GAIN! 1.0046900579435187\n",
      "portfolio value: 153.88192059927258\n",
      "GAIN! 1.0315532574827644\n",
      "portfolio value: 158.73739646188372\n",
      "GAIN! 1.0052585247022783\n",
      "portfolio value: 159.57212098235388\n",
      "GAIN! 1.000203001592388\n",
      "portfolio value: 159.60451437701403\n",
      "LOSS! 0.9791937471589017\n",
      "portfolio value: 156.28374249630517\n",
      "LOSS! 0.9536920566169427\n",
      "portfolio value: 149.04656379709397\n",
      "GAIN! 1.0112597374369816\n",
      "portfolio value: 150.72478897133357\n",
      "GAIN! 1.0026373918930873\n",
      "portfolio value: 151.12230930785387\n",
      "LOSS! 0.9542008175650334\n",
      "portfolio value: 144.20103109387003\n",
      "GAIN! 1.0137520681953733\n",
      "portfolio value: 146.18409350731608\n",
      "LOSS! 0.9916344930451488\n",
      "portfolio value: 144.96118945639202\n",
      "GAIN! 1.0388844527828014\n",
      "portfolio value: 150.59792598314783\n",
      "GAIN! 1.0371048114569272\n",
      "portfolio value: 156.1858336325568\n",
      "LOSS! 0.9906351683031609\n",
      "portfolio value: 154.7231795871574\n",
      "GAIN! 1.0277044581896255\n",
      "portfolio value: 159.00970144699573\n",
      "LOSS! 0.9753562602210752\n",
      "portfolio value: 155.09110774221145\n",
      "GAIN! 1.0743546514339681\n",
      "portfolio value: 166.62285299889157\n",
      "LOSS! 0.9376983602682263\n",
      "portfolio value: 156.24197604027435\n",
      "GAIN! 1.0128970124775534\n",
      "portfolio value: 158.25703075478336\n",
      "GAIN! 1.0149942427860363\n",
      "portfolio value: 160.6299750965178\n",
      "LOSS! 0.9862571784482186\n",
      "portfolio value: 158.42246601289926\n",
      "LOSS! 0.9988386217772866\n",
      "portfolio value: 158.2384776108833\n",
      "GAIN! 1.0109654591577366\n",
      "portfolio value: 159.97363517430787\n",
      "GAIN! 1.0011706666946827\n",
      "portfolio value: 160.16091098103377\n",
      "GAIN! 1.0021832470854821\n",
      "portfolio value: 160.51058182314128\n",
      "GAIN! 1.0077572658497038\n",
      "portfolio value: 161.75570507803403\n",
      "LOSS! 0.9444485780096092\n",
      "portfolio value: 152.76994564589097\n",
      "GAIN! 1.017182559759993\n",
      "portfolio value: 155.39492436648237\n",
      "LOSS! 0.9994243054351686\n",
      "portfolio value: 155.3054643531222\n",
      "LOSS! 0.9904230956881571\n",
      "portfolio value: 153.81811878190604\n",
      "GAIN! 1.0068897027457264\n",
      "portfolio value: 154.8778798972202\n",
      "GAIN! 1.0088592606946538\n",
      "portfolio value: 156.24998341106496\n",
      "LOSS! 0.9943853043171411\n",
      "portfolio value: 155.37268730376007\n",
      "LOSS! 0.9926460932370321\n",
      "portfolio value: 154.23009104781647\n",
      "LOSS! 0.9870062092283622\n",
      "portfolio value: 152.2260575140505\n",
      "GAIN! 1.0044538841571786\n",
      "portfolio value: 152.9040547399221\n",
      "LOSS! 0.9970745805096857\n",
      "portfolio value: 152.45674623803782\n",
      "GAIN! 1.0373944641913488\n",
      "portfolio value: 158.15778457596568\n",
      "LOSS! 0.9985049922363692\n",
      "portfolio value: 157.92133746014596\n",
      "LOSS! 0.9669295970393744\n",
      "portfolio value: 152.698815194258\n",
      "LOSS! 0.99470551810055\n",
      "portfolio value: 151.89035408114455\n",
      "LOSS! 0.9894096533691635\n",
      "portfolio value: 150.28178258154475\n",
      "LOSS! 0.9866452943655268\n",
      "portfolio value: 148.2748136129443\n",
      "GAIN! 1.0105124058563135\n",
      "portfolio value: 149.83353863191283\n",
      "GAIN! 1.0055607256455816\n",
      "portfolio value: 150.66672183275156\n",
      "LOSS! 0.9948192835769801\n",
      "portfolio value: 149.88616027255006\n",
      "GAIN! 1.0090028401079751\n",
      "portfolio value: 151.23556140788216\n",
      "LOSS! 0.9883297733226541\n",
      "portfolio value: 149.47060812457653\n",
      "LOSS! 0.9958860592525193\n",
      "portfolio value: 148.85569489926212\n",
      "GAIN! 1.005311937804328\n",
      "portfolio value: 149.64640709238702\n",
      "LOSS! 0.9942857858280426\n",
      "portfolio value: 148.7912954721972\n",
      "GAIN! 1.0333550111628982\n",
      "portfolio value: 153.7542307936144\n",
      "LOSS! 0.9896371676895728\n",
      "portfolio value: 152.16090148288146\n",
      "GAIN! 1.0189465158811635\n",
      "portfolio value: 155.04382041931902\n",
      "LOSS! 0.9840871382661303\n",
      "portfolio value: 152.57662954229548\n",
      "GAIN! 1.0005877262208878\n",
      "portfolio value: 152.66630282817218\n",
      "LOSS! 0.995994072528371\n",
      "portfolio value: 152.05473269168078\n",
      "GAIN! 1.0038356349679378\n",
      "portfolio value: 152.63795914143344\n",
      "LOSS! 0.9963792090365983\n",
      "portfolio value: 152.08528899830205\n",
      "GAIN! 1.000488244088642\n",
      "portfolio value: 152.15954374162487\n",
      "LOSS! 0.994691507119359\n",
      "portfolio value: 151.35180588695087\n",
      "LOSS! 0.9934994498856212\n",
      "portfolio value: 150.367935887881\n",
      "GAIN! 1.002144161208413\n",
      "portfolio value: 150.69034898300092\n",
      "GAIN! 1.0008585168499806\n",
      "portfolio value: 150.81971918673227\n",
      "GAIN! 1.003036853640908\n",
      "portfolio value: 151.27773660006523\n",
      "LOSS! 0.9974976917878243\n",
      "portfolio value: 150.89919307745154\n",
      "GAIN! 1.0231784673775355\n",
      "portfolio value: 154.39680510149367\n",
      "GAIN! 1.0160300714098067\n",
      "portfolio value: 156.87179691271663\n",
      "GAIN! 1.0056607392141264\n",
      "portfolio value: 157.7598072450909\n",
      "LOSS! 0.9949275472318614\n",
      "portfolio value: 156.95957807412952\n",
      "GAIN! 1.014427186018474\n",
      "portfolio value: 159.22406310438618\n",
      "GAIN! 1.0232362780149629\n",
      "portfolio value: 162.9238377013517\n",
      "GAIN! 1.1096043820812165\n",
      "portfolio value: 180.78100425890875\n",
      "LOSS! 0.9905022946967275\n",
      "portfolio value: 179.06399955602797\n",
      "GAIN! 1.0171827594501375\n",
      "portfolio value: 182.14081318657873\n",
      "GAIN! 1.0010253180716313\n",
      "portfolio value: 182.32756545392056\n",
      "GAIN! 1.01919458240484\n",
      "portfolio value: 185.82726693369972\n",
      "GAIN! 1.0385974605478963\n",
      "portfolio value: 192.99972753789658\n",
      "LOSS! 0.9400319326300404\n",
      "portfolio value: 181.42590687452014\n",
      "GAIN! 1.0183433831596385\n",
      "portfolio value: 184.75387179940435\n",
      "GAIN! 1.0484833799148676\n",
      "portfolio value: 193.7113639565976\n",
      "GAIN! 1.0025449082386875\n",
      "portfolio value: 194.20434160265813\n",
      "LOSS! 0.9849373067625922\n",
      "portfolio value: 191.27910117972453\n",
      "GAIN! 1.0128822004898905\n",
      "portfolio value: 193.7431969106478\n",
      "LOSS! 0.9947529836248726\n",
      "portfolio value: 192.7266231838881\n",
      "GAIN! 1.0185088096775865\n",
      "portfolio value: 196.29376357220264\n",
      "LOSS! 0.9603487587170569\n",
      "portfolio value: 188.51047219046424\n",
      "GAIN! 1.0158127372400811\n",
      "portfolio value: 191.4913387542157\n",
      "GAIN! 1.0168903673332559\n",
      "portfolio value: 194.72569780691134\n",
      "LOSS! 0.9996782302214239\n",
      "portfolio value: 194.66304096224493\n",
      "GAIN! 1.0082422866671767\n",
      "portfolio value: 196.2675095493601\n",
      "GAIN! 1.002200965379872\n",
      "portfolio value: 196.69948754307197\n",
      "GAIN! 1.030157569635849\n",
      "portfolio value: 202.63146603598796\n",
      "LOSS! 0.9787247524916625\n",
      "portfolio value: 198.32043144309503\n",
      "LOSS! 0.9806018015312087\n",
      "portfolio value: 194.47337235354556\n",
      "GAIN! 1.009936833763763\n",
      "portfolio value: 196.40582192610114\n",
      "LOSS! 0.9759608961499039\n",
      "portfolio value: 191.6844019760561\n",
      "GAIN! 1.008316243842789\n",
      "portfolio value: 193.27849620374818\n",
      "LOSS! 0.9987286798864449\n",
      "portfolio value: 193.03277736400665\n",
      "GAIN! 1.0095086765166132\n",
      "portfolio value: 194.8682636010644\n",
      "LOSS! 0.9653925318644294\n",
      "portfolio value: 188.1243663778566\n",
      "GAIN! 1.0106861860700878\n",
      "portfolio value: 190.13469836128775\n",
      "LOSS! 0.9858770269825613\n",
      "portfolio value: 187.44943114665244\n",
      "GAIN! 1.0191786690175986\n",
      "portfolio value: 191.04446174415122\n",
      "LOSS! 0.9970375798355734\n",
      "portfolio value: 190.47850777837832\n",
      "GAIN! 1.0176207345605908\n",
      "portfolio value: 193.83487900343854\n",
      "LOSS! 0.9972265450635154\n",
      "portfolio value: 193.29728670140355\n",
      "GAIN! 1.0249297218473497\n",
      "portfolio value: 198.11613429271694\n"
     ]
    }
   ],
   "source": [
    "always_buy_portfolio_value = 100\n",
    "always_buy_portfolio_value_history = []\n",
    "for i in range(0, len(btc) - LOOK_BACK_DAYS - LOOK_AHEAD_DAYS - 1):\n",
    "    results_df = btc[i + LOOK_BACK_DAYS + 2*LOOK_AHEAD_DAYS : i + LOOK_BACK_DAYS + 2*LOOK_AHEAD_DAYS + 1]\n",
    "    always_buy_portfolio_value_history.append(always_buy_portfolio_value)\n",
    "   \n",
    "    gains = ((results_df['Close'] - results_df['Open']) / results_df['Open'])[0]\n",
    "    if gains > 0:\n",
    "        print(\"GAIN! \" + str(1 + gains))\n",
    "    elif gains < 0:\n",
    "        print(\"LOSS! \" + str(1 + gains))\n",
    "    always_buy_portfolio_value = always_buy_portfolio_value * (1 + gains)\n",
    "    print(\"portfolio value: \" + str(always_buy_portfolio_value))\n"
   ]
  },
  {
   "cell_type": "code",
   "execution_count": 297,
   "metadata": {},
   "outputs": [
    {
     "data": {
      "image/png": "[encoded data removed]",
      "text/plain": [
       "<Figure size 432x288 with 1 Axes>"
      ]
     },
     "metadata": {
      "needs_background": "light"
     },
     "output_type": "display_data"
    }
   ],
   "source": [
    "   \n",
    "plt.plot(range(0, len(portfolio_value_history)), portfolio_value_history, label='Logstic Regression')\n",
    "plt.plot(range(0, len(always_buy_portfolio_value_history)), always_buy_portfolio_value_history, label='Always Buy')\n",
    "\n",
    "plt.xlabel('Days')\n",
    "plt.ylabel('Portfolio value ($)')\n",
    "plt.title(\"Trade Performance \" + str(LOOK_BACK_DAYS) + \" Days\")\n",
    "plt.legend([\"Logstic Regression\", \"Always Buy\"])\n",
    "plt.show()"
   ]
  },
  {
   "cell_type": "code",
   "execution_count": null,
   "metadata": {},
   "outputs": [],
   "source": []
  }
 ],
 "metadata": {
  "kernelspec": {
   "display_name": "Python 3",
   "language": "python",
   "name": "python3"
  },
  "language_info": {
   "codemirror_mode": {
    "name": "ipython",
    "version": 3
   },
   "file_extension": ".py",
   "mimetype": "text/x-python",
   "name": "python",
   "nbconvert_exporter": "python",
   "pygments_lexer": "ipython3",
   "version": "3.7.4"
  }
 },
 "nbformat": 4,
 "nbformat_minor": 4
}
