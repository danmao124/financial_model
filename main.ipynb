{
 "cells": [
  {
   "cell_type": "code",
   "execution_count": 1,
   "metadata": {},
   "outputs": [
    {
     "data": {
      "text/html": [
       "<div>\n",
       "<style scoped>\n",
       "    .dataframe tbody tr th:only-of-type {\n",
       "        vertical-align: middle;\n",
       "    }\n",
       "\n",
       "    .dataframe tbody tr th {\n",
       "        vertical-align: top;\n",
       "    }\n",
       "\n",
       "    .dataframe thead th {\n",
       "        text-align: right;\n",
       "    }\n",
       "</style>\n",
       "<table border=\"1\" class=\"dataframe\">\n",
       "  <thead>\n",
       "    <tr style=\"text-align: right;\">\n",
       "      <th></th>\n",
       "      <th>High</th>\n",
       "      <th>Low</th>\n",
       "      <th>Open</th>\n",
       "      <th>Close</th>\n",
       "      <th>Volume</th>\n",
       "      <th>Adj Close</th>\n",
       "    </tr>\n",
       "    <tr>\n",
       "      <th>Date</th>\n",
       "      <th></th>\n",
       "      <th></th>\n",
       "      <th></th>\n",
       "      <th></th>\n",
       "      <th></th>\n",
       "      <th></th>\n",
       "    </tr>\n",
       "  </thead>\n",
       "  <tbody>\n",
       "    <tr>\n",
       "      <th>2019-08-07</th>\n",
       "      <td>11979.419922</td>\n",
       "      <td>11556.167969</td>\n",
       "      <td>11954.040039</td>\n",
       "      <td>11966.407227</td>\n",
       "      <td>1.948159e+10</td>\n",
       "      <td>11966.407227</td>\n",
       "    </tr>\n",
       "    <tr>\n",
       "      <th>2019-08-08</th>\n",
       "      <td>11970.458008</td>\n",
       "      <td>11709.745117</td>\n",
       "      <td>11953.469727</td>\n",
       "      <td>11862.936523</td>\n",
       "      <td>1.833999e+10</td>\n",
       "      <td>11862.936523</td>\n",
       "    </tr>\n",
       "    <tr>\n",
       "      <th>2019-08-09</th>\n",
       "      <td>11915.655273</td>\n",
       "      <td>11323.898438</td>\n",
       "      <td>11861.556641</td>\n",
       "      <td>11354.024414</td>\n",
       "      <td>1.812536e+10</td>\n",
       "      <td>11354.024414</td>\n",
       "    </tr>\n",
       "    <tr>\n",
       "      <th>2019-08-10</th>\n",
       "      <td>11523.579102</td>\n",
       "      <td>11248.294922</td>\n",
       "      <td>11349.740234</td>\n",
       "      <td>11523.579102</td>\n",
       "      <td>1.577437e+10</td>\n",
       "      <td>11523.579102</td>\n",
       "    </tr>\n",
       "    <tr>\n",
       "      <th>2019-08-11</th>\n",
       "      <td>11528.189453</td>\n",
       "      <td>11320.951172</td>\n",
       "      <td>11528.189453</td>\n",
       "      <td>11382.616211</td>\n",
       "      <td>1.364720e+10</td>\n",
       "      <td>11382.616211</td>\n",
       "    </tr>\n",
       "    <tr>\n",
       "      <th>...</th>\n",
       "      <td>...</td>\n",
       "      <td>...</td>\n",
       "      <td>...</td>\n",
       "      <td>...</td>\n",
       "      <td>...</td>\n",
       "      <td>...</td>\n",
       "    </tr>\n",
       "    <tr>\n",
       "      <th>2020-08-01</th>\n",
       "      <td>12034.144531</td>\n",
       "      <td>11018.129883</td>\n",
       "      <td>11758.764648</td>\n",
       "      <td>11053.614258</td>\n",
       "      <td>2.741007e+10</td>\n",
       "      <td>11053.614258</td>\n",
       "    </tr>\n",
       "    <tr>\n",
       "      <th>2020-08-02</th>\n",
       "      <td>11453.079102</td>\n",
       "      <td>11012.415039</td>\n",
       "      <td>11043.768555</td>\n",
       "      <td>11246.348633</td>\n",
       "      <td>2.027171e+10</td>\n",
       "      <td>11246.348633</td>\n",
       "    </tr>\n",
       "    <tr>\n",
       "      <th>2020-08-04</th>\n",
       "      <td>11786.617188</td>\n",
       "      <td>11158.285156</td>\n",
       "      <td>11203.823242</td>\n",
       "      <td>11747.022461</td>\n",
       "      <td>2.441125e+10</td>\n",
       "      <td>11747.022461</td>\n",
       "    </tr>\n",
       "    <tr>\n",
       "      <th>2020-08-05</th>\n",
       "      <td>11902.335938</td>\n",
       "      <td>11598.713867</td>\n",
       "      <td>11749.871094</td>\n",
       "      <td>11779.773438</td>\n",
       "      <td>2.340074e+10</td>\n",
       "      <td>11779.773438</td>\n",
       "    </tr>\n",
       "    <tr>\n",
       "      <th>2020-08-07</th>\n",
       "      <td>11894.520508</td>\n",
       "      <td>11776.771484</td>\n",
       "      <td>11776.771484</td>\n",
       "      <td>11848.524414</td>\n",
       "      <td>2.322731e+10</td>\n",
       "      <td>11848.524414</td>\n",
       "    </tr>\n",
       "  </tbody>\n",
       "</table>\n",
       "<p>365 rows × 6 columns</p>\n",
       "</div>"
      ],
      "text/plain": [
       "                    High           Low          Open         Close  \\\n",
       "Date                                                                 \n",
       "2019-08-07  11979.419922  11556.167969  11954.040039  11966.407227   \n",
       "2019-08-08  11970.458008  11709.745117  11953.469727  11862.936523   \n",
       "2019-08-09  11915.655273  11323.898438  11861.556641  11354.024414   \n",
       "2019-08-10  11523.579102  11248.294922  11349.740234  11523.579102   \n",
       "2019-08-11  11528.189453  11320.951172  11528.189453  11382.616211   \n",
       "...                  ...           ...           ...           ...   \n",
       "2020-08-01  12034.144531  11018.129883  11758.764648  11053.614258   \n",
       "2020-08-02  11453.079102  11012.415039  11043.768555  11246.348633   \n",
       "2020-08-04  11786.617188  11158.285156  11203.823242  11747.022461   \n",
       "2020-08-05  11902.335938  11598.713867  11749.871094  11779.773438   \n",
       "2020-08-07  11894.520508  11776.771484  11776.771484  11848.524414   \n",
       "\n",
       "                  Volume     Adj Close  \n",
       "Date                                    \n",
       "2019-08-07  1.948159e+10  11966.407227  \n",
       "2019-08-08  1.833999e+10  11862.936523  \n",
       "2019-08-09  1.812536e+10  11354.024414  \n",
       "2019-08-10  1.577437e+10  11523.579102  \n",
       "2019-08-11  1.364720e+10  11382.616211  \n",
       "...                  ...           ...  \n",
       "2020-08-01  2.741007e+10  11053.614258  \n",
       "2020-08-02  2.027171e+10  11246.348633  \n",
       "2020-08-04  2.441125e+10  11747.022461  \n",
       "2020-08-05  2.340074e+10  11779.773438  \n",
       "2020-08-07  2.322731e+10  11848.524414  \n",
       "\n",
       "[365 rows x 6 columns]"
      ]
     },
     "execution_count": 1,
     "metadata": {},
     "output_type": "execute_result"
    }
   ],
   "source": [
    "import pandas as pd\n",
    "from pandas_datareader import data\n",
    "from pandas_datareader._utils import RemoteDataError\n",
    "from datetime import timedelta\n",
    "import datetime\n",
    "\n",
    "# Please read, my idea was to classify the data into three cateogries: \"UP\", \"DOWN\", \"NEUTRAL\"\n",
    "# UP - the price of the stock is up MINIMUM_GAIN percent after LOOK_AHEAD_DAYS days.\n",
    "# DOWN - the price of the stock is down MINIMUM_GAIN percent after LOOK_AHEAD_DAYS days.\n",
    "# NEUTRAL - the price of stock is did not rise or fall past the MINIMUM_GAIN threshhold\n",
    "#\n",
    "# EXAMPLE: LOOK_AHEAD_DAYS = 30, MINIMUM_GAIN = .05 (5%). If stock is up over 5% ore more after 30 days, \n",
    "# we mark it as 'UP'. If the stock is down 5% or more after 30 days, we mark it as 'DOWN'. If the stock\n",
    "# is neither up nor down 5%, then we mark it as 'NEUTRAL'\n",
    "\n",
    "MINIMUM_GAIN = .05 #minimal gain to be considered up or down for classification\n",
    "LOOK_AHEAD_DAYS = 30 #number of days into the future we are trying to predict\n",
    "\n",
    "class Utilities:\n",
    "\n",
    "    @staticmethod\n",
    "    def getData(ticker, start_date, end_date):\n",
    "        try:\n",
    "            stock_data = data.DataReader(ticker,\n",
    "                                         'yahoo',\n",
    "                                         start_date,\n",
    "                                         end_date)\n",
    "            return stock_data\n",
    "        except RemoteDataError:\n",
    "            print('No data found for {t}'.format(t=ticker))\n",
    "#just get the btc price points from the past year\n",
    "start_date = datetime.datetime.now() - timedelta(365)\n",
    "end_date = datetime.datetime.now() - timedelta(1)\n",
    "btc_df = Utilities.getData('BTC-USD', str(start_date.strftime('%Y-%m-%d')), str(end_date.strftime('%Y-%m-%d')))\n",
    "btc_df"
   ]
  },
  {
   "cell_type": "code",
   "execution_count": 2,
   "metadata": {},
   "outputs": [
    {
     "name": "stdout",
     "output_type": "stream",
     "text": [
      "2019-10-27 00:00:00\n",
      "2020-08-03 00:00:00\n"
     ]
    },
    {
     "data": {
      "text/html": [
       "<div>\n",
       "<style scoped>\n",
       "    .dataframe tbody tr th:only-of-type {\n",
       "        vertical-align: middle;\n",
       "    }\n",
       "\n",
       "    .dataframe tbody tr th {\n",
       "        vertical-align: top;\n",
       "    }\n",
       "\n",
       "    .dataframe thead th {\n",
       "        text-align: right;\n",
       "    }\n",
       "</style>\n",
       "<table border=\"1\" class=\"dataframe\">\n",
       "  <thead>\n",
       "    <tr style=\"text-align: right;\">\n",
       "      <th></th>\n",
       "      <th>High</th>\n",
       "      <th>Low</th>\n",
       "      <th>Open</th>\n",
       "      <th>Close</th>\n",
       "      <th>Volume</th>\n",
       "      <th>Adj Close</th>\n",
       "      <th>MonthTrend</th>\n",
       "    </tr>\n",
       "    <tr>\n",
       "      <th>Date</th>\n",
       "      <th></th>\n",
       "      <th></th>\n",
       "      <th></th>\n",
       "      <th></th>\n",
       "      <th></th>\n",
       "      <th></th>\n",
       "      <th></th>\n",
       "    </tr>\n",
       "  </thead>\n",
       "  <tbody>\n",
       "    <tr>\n",
       "      <th>2019-09-06</th>\n",
       "      <td>10558.673828</td>\n",
       "      <td>10348.918945</td>\n",
       "      <td>10353.931641</td>\n",
       "      <td>10517.254883</td>\n",
       "      <td>1.530737e+10</td>\n",
       "      <td>10517.254883</td>\n",
       "      <td>DOWN</td>\n",
       "    </tr>\n",
       "    <tr>\n",
       "      <th>2019-09-07</th>\n",
       "      <td>10595.637695</td>\n",
       "      <td>10409.090820</td>\n",
       "      <td>10518.114258</td>\n",
       "      <td>10441.276367</td>\n",
       "      <td>1.367057e+10</td>\n",
       "      <td>10441.276367</td>\n",
       "      <td>DOWN</td>\n",
       "    </tr>\n",
       "    <tr>\n",
       "      <th>2019-09-08</th>\n",
       "      <td>10450.311523</td>\n",
       "      <td>10144.929688</td>\n",
       "      <td>10443.228516</td>\n",
       "      <td>10334.974609</td>\n",
       "      <td>1.759594e+10</td>\n",
       "      <td>10334.974609</td>\n",
       "      <td>DOWN</td>\n",
       "    </tr>\n",
       "    <tr>\n",
       "      <th>2019-09-09</th>\n",
       "      <td>10394.353516</td>\n",
       "      <td>10020.573242</td>\n",
       "      <td>10336.408203</td>\n",
       "      <td>10115.975586</td>\n",
       "      <td>1.490681e+10</td>\n",
       "      <td>10115.975586</td>\n",
       "      <td>DOWN</td>\n",
       "    </tr>\n",
       "    <tr>\n",
       "      <th>2019-09-10</th>\n",
       "      <td>10215.948242</td>\n",
       "      <td>9980.776367</td>\n",
       "      <td>10123.035156</td>\n",
       "      <td>10178.372070</td>\n",
       "      <td>1.542806e+10</td>\n",
       "      <td>10178.372070</td>\n",
       "      <td>DOWN</td>\n",
       "    </tr>\n",
       "    <tr>\n",
       "      <th>...</th>\n",
       "      <td>...</td>\n",
       "      <td>...</td>\n",
       "      <td>...</td>\n",
       "      <td>...</td>\n",
       "      <td>...</td>\n",
       "      <td>...</td>\n",
       "      <td>...</td>\n",
       "    </tr>\n",
       "    <tr>\n",
       "      <th>2020-07-31</th>\n",
       "      <td>11794.775391</td>\n",
       "      <td>11239.682617</td>\n",
       "      <td>11322.570312</td>\n",
       "      <td>11759.592773</td>\n",
       "      <td>2.607567e+10</td>\n",
       "      <td>11759.592773</td>\n",
       "      <td>UP</td>\n",
       "    </tr>\n",
       "    <tr>\n",
       "      <th>2020-08-01</th>\n",
       "      <td>12034.144531</td>\n",
       "      <td>11018.129883</td>\n",
       "      <td>11758.764648</td>\n",
       "      <td>11053.614258</td>\n",
       "      <td>2.741007e+10</td>\n",
       "      <td>11053.614258</td>\n",
       "      <td>UP</td>\n",
       "    </tr>\n",
       "    <tr>\n",
       "      <th>2020-08-02</th>\n",
       "      <td>11453.079102</td>\n",
       "      <td>11012.415039</td>\n",
       "      <td>11043.768555</td>\n",
       "      <td>11246.348633</td>\n",
       "      <td>2.027171e+10</td>\n",
       "      <td>11246.348633</td>\n",
       "      <td>UP</td>\n",
       "    </tr>\n",
       "    <tr>\n",
       "      <th>2020-08-04</th>\n",
       "      <td>11786.617188</td>\n",
       "      <td>11158.285156</td>\n",
       "      <td>11203.823242</td>\n",
       "      <td>11747.022461</td>\n",
       "      <td>2.441125e+10</td>\n",
       "      <td>11747.022461</td>\n",
       "      <td>UP</td>\n",
       "    </tr>\n",
       "    <tr>\n",
       "      <th>2020-08-05</th>\n",
       "      <td>11902.335938</td>\n",
       "      <td>11598.713867</td>\n",
       "      <td>11749.871094</td>\n",
       "      <td>11779.773438</td>\n",
       "      <td>2.340074e+10</td>\n",
       "      <td>11779.773438</td>\n",
       "      <td>UP</td>\n",
       "    </tr>\n",
       "  </tbody>\n",
       "</table>\n",
       "<p>332 rows × 7 columns</p>\n",
       "</div>"
      ],
      "text/plain": [
       "                    High           Low          Open         Close  \\\n",
       "Date                                                                 \n",
       "2019-09-06  10558.673828  10348.918945  10353.931641  10517.254883   \n",
       "2019-09-07  10595.637695  10409.090820  10518.114258  10441.276367   \n",
       "2019-09-08  10450.311523  10144.929688  10443.228516  10334.974609   \n",
       "2019-09-09  10394.353516  10020.573242  10336.408203  10115.975586   \n",
       "2019-09-10  10215.948242   9980.776367  10123.035156  10178.372070   \n",
       "...                  ...           ...           ...           ...   \n",
       "2020-07-31  11794.775391  11239.682617  11322.570312  11759.592773   \n",
       "2020-08-01  12034.144531  11018.129883  11758.764648  11053.614258   \n",
       "2020-08-02  11453.079102  11012.415039  11043.768555  11246.348633   \n",
       "2020-08-04  11786.617188  11158.285156  11203.823242  11747.022461   \n",
       "2020-08-05  11902.335938  11598.713867  11749.871094  11779.773438   \n",
       "\n",
       "                  Volume     Adj Close MonthTrend  \n",
       "Date                                               \n",
       "2019-09-06  1.530737e+10  10517.254883       DOWN  \n",
       "2019-09-07  1.367057e+10  10441.276367       DOWN  \n",
       "2019-09-08  1.759594e+10  10334.974609       DOWN  \n",
       "2019-09-09  1.490681e+10  10115.975586       DOWN  \n",
       "2019-09-10  1.542806e+10  10178.372070       DOWN  \n",
       "...                  ...           ...        ...  \n",
       "2020-07-31  2.607567e+10  11759.592773         UP  \n",
       "2020-08-01  2.741007e+10  11053.614258         UP  \n",
       "2020-08-02  2.027171e+10  11246.348633         UP  \n",
       "2020-08-04  2.441125e+10  11747.022461         UP  \n",
       "2020-08-05  2.340074e+10  11779.773438         UP  \n",
       "\n",
       "[332 rows x 7 columns]"
      ]
     },
     "execution_count": 2,
     "metadata": {},
     "output_type": "execute_result"
    }
   ],
   "source": [
    "btc_df = btc_df.assign(MonthTrend=lambda x: \"N/A\") #introduce new column that will be the trend we are predicting\n",
    "btc_df = btc_df.loc[~btc_df.index.duplicated(keep='first')] #delete all duplicate indices\n",
    "\n",
    "#Populate the classification column MonthTrend\n",
    "for index, row in btc_df.iterrows():\n",
    "    current_date = index.to_pydatetime()\n",
    "    if (end_date - current_date).days > LOOK_AHEAD_DAYS:\n",
    "        look_ahead_date = current_date + timedelta(days=LOOK_AHEAD_DAYS)\n",
    "        \n",
    "        while True: #we need to keep adding days to the look_ahead_date because there is no index for that day\n",
    "            if look_ahead_date in btc_df.index:\n",
    "                break\n",
    "            print(look_ahead_date)\n",
    "            look_ahead_date = look_ahead_date + timedelta(days=1)\n",
    "        \n",
    "        #Here we check if the open price in the future is higher than today's open price.\n",
    "        if btc_df.loc[pd.Timestamp(look_ahead_date)]['Open'] >= btc_df.loc[index]['Open'] * (1 + MINIMUM_GAIN):\n",
    "            btc_df.at[pd.Timestamp(look_ahead_date), 'MonthTrend'] = 'UP'\n",
    "        elif btc_df.loc[pd.Timestamp(look_ahead_date)]['Open'] <= btc_df.loc[index]['Open'] * (1 - MINIMUM_GAIN):\n",
    "            btc_df.at[pd.Timestamp(look_ahead_date), 'MonthTrend'] = 'DOWN'\n",
    "        else:\n",
    "            btc_df.at[pd.Timestamp(look_ahead_date), 'MonthTrend'] = 'NEUTRAL'\n",
    "            \n",
    "#Now delete all columns that have a MonthTrend value of N/A\n",
    "btc_df = btc_df[btc_df.MonthTrend != 'N/A']\n",
    "\n",
    "#Data is now fully processed and ready to be trained on the machine learning model\n",
    "#There are 3 values for MonthTrend: UP, DOWN, NEUTRAL\n",
    "btc_df"
   ]
  },
  {
   "cell_type": "code",
   "execution_count": 3,
   "metadata": {},
   "outputs": [
    {
     "data": {
      "text/html": [
       "<div>\n",
       "<style scoped>\n",
       "    .dataframe tbody tr th:only-of-type {\n",
       "        vertical-align: middle;\n",
       "    }\n",
       "\n",
       "    .dataframe tbody tr th {\n",
       "        vertical-align: top;\n",
       "    }\n",
       "\n",
       "    .dataframe thead th {\n",
       "        text-align: right;\n",
       "    }\n",
       "</style>\n",
       "<table border=\"1\" class=\"dataframe\">\n",
       "  <thead>\n",
       "    <tr style=\"text-align: right;\">\n",
       "      <th></th>\n",
       "      <th>Close</th>\n",
       "      <th>Open</th>\n",
       "      <th>MonthTrend</th>\n",
       "    </tr>\n",
       "    <tr>\n",
       "      <th>Date</th>\n",
       "      <th></th>\n",
       "      <th></th>\n",
       "      <th></th>\n",
       "    </tr>\n",
       "  </thead>\n",
       "  <tbody>\n",
       "    <tr>\n",
       "      <th>2019-09-06</th>\n",
       "      <td>10517.254883</td>\n",
       "      <td>10353.931641</td>\n",
       "      <td>DOWN</td>\n",
       "    </tr>\n",
       "    <tr>\n",
       "      <th>2019-09-07</th>\n",
       "      <td>10441.276367</td>\n",
       "      <td>10518.114258</td>\n",
       "      <td>DOWN</td>\n",
       "    </tr>\n",
       "    <tr>\n",
       "      <th>2019-09-08</th>\n",
       "      <td>10334.974609</td>\n",
       "      <td>10443.228516</td>\n",
       "      <td>DOWN</td>\n",
       "    </tr>\n",
       "    <tr>\n",
       "      <th>2019-09-09</th>\n",
       "      <td>10115.975586</td>\n",
       "      <td>10336.408203</td>\n",
       "      <td>DOWN</td>\n",
       "    </tr>\n",
       "    <tr>\n",
       "      <th>2019-09-10</th>\n",
       "      <td>10178.372070</td>\n",
       "      <td>10123.035156</td>\n",
       "      <td>DOWN</td>\n",
       "    </tr>\n",
       "    <tr>\n",
       "      <th>2019-09-11</th>\n",
       "      <td>10410.126953</td>\n",
       "      <td>10176.819336</td>\n",
       "      <td>DOWN</td>\n",
       "    </tr>\n",
       "    <tr>\n",
       "      <th>2019-09-12</th>\n",
       "      <td>10360.546875</td>\n",
       "      <td>10415.362305</td>\n",
       "      <td>NEUTRAL</td>\n",
       "    </tr>\n",
       "    <tr>\n",
       "      <th>2019-09-13</th>\n",
       "      <td>10358.048828</td>\n",
       "      <td>10345.403320</td>\n",
       "      <td>NEUTRAL</td>\n",
       "    </tr>\n",
       "    <tr>\n",
       "      <th>2019-09-14</th>\n",
       "      <td>10347.712891</td>\n",
       "      <td>10356.465820</td>\n",
       "      <td>NEUTRAL</td>\n",
       "    </tr>\n",
       "    <tr>\n",
       "      <th>2019-09-15</th>\n",
       "      <td>10276.793945</td>\n",
       "      <td>10347.222656</td>\n",
       "      <td>NEUTRAL</td>\n",
       "    </tr>\n",
       "  </tbody>\n",
       "</table>\n",
       "</div>"
      ],
      "text/plain": [
       "                   Close          Open MonthTrend\n",
       "Date                                             \n",
       "2019-09-06  10517.254883  10353.931641       DOWN\n",
       "2019-09-07  10441.276367  10518.114258       DOWN\n",
       "2019-09-08  10334.974609  10443.228516       DOWN\n",
       "2019-09-09  10115.975586  10336.408203       DOWN\n",
       "2019-09-10  10178.372070  10123.035156       DOWN\n",
       "2019-09-11  10410.126953  10176.819336       DOWN\n",
       "2019-09-12  10360.546875  10415.362305    NEUTRAL\n",
       "2019-09-13  10358.048828  10345.403320    NEUTRAL\n",
       "2019-09-14  10347.712891  10356.465820    NEUTRAL\n",
       "2019-09-15  10276.793945  10347.222656    NEUTRAL"
      ]
     },
     "execution_count": 3,
     "metadata": {},
     "output_type": "execute_result"
    }
   ],
   "source": [
    "# selecting the important feature open close\n",
    "btc = btc_df[['Close','Open','MonthTrend']]\n",
    "btc.head(10)"
   ]
  },
  {
   "cell_type": "code",
   "execution_count": 4,
   "metadata": {},
   "outputs": [],
   "source": [
    "from sklearn.model_selection import train_test_split\n",
    "from sklearn.multiclass import OneVsRestClassifier\n",
    "from sklearn.preprocessing import StandardScaler\n",
    "Y = btc['MonthTrend']\n",
    "X = btc.drop(['MonthTrend'], axis=1)\n",
    "X = StandardScaler().fit_transform(X)\n",
    "X_train, X_test, Y_train, Y_test = train_test_split(X, Y, test_size=.3, random_state=2)"
   ]
  },
  {
   "cell_type": "code",
   "execution_count": 5,
   "metadata": {},
   "outputs": [
    {
     "name": "stdout",
     "output_type": "stream",
     "text": [
      "Fitting 10 folds for each of 576 candidates, totalling 5760 fits\n"
     ]
    },
    {
     "name": "stderr",
     "output_type": "stream",
     "text": [
      "[Parallel(n_jobs=6)]: Using backend LokyBackend with 6 concurrent workers.\n",
      "[Parallel(n_jobs=6)]: Done  38 tasks      | elapsed:    1.5s\n"
     ]
    },
    {
     "name": "stdout",
     "output_type": "stream",
     "text": [
      "{'criterion': 'gini', 'max_depth': 6, 'max_features': 'auto', 'max_leaf_nodes': None, 'min_samples_split': 8, 'splitter': 'random'}\n"
     ]
    },
    {
     "name": "stderr",
     "output_type": "stream",
     "text": [
      "[Parallel(n_jobs=6)]: Done 5506 tasks      | elapsed:    3.5s\n",
      "[Parallel(n_jobs=6)]: Done 5760 out of 5760 | elapsed:    3.5s finished\n",
      "C:\\Users\\dong\\anaconda3\\lib\\site-packages\\sklearn\\model_selection\\_search.py:813: DeprecationWarning: The default of the `iid` parameter will change from True to False in version 0.22 and will be removed in 0.24. This will change numeric results when test-set sizes are unequal.\n",
      "  DeprecationWarning)\n"
     ]
    }
   ],
   "source": [
    "# decision tree\n",
    "from sklearn.model_selection import GridSearchCV\n",
    "from sklearn.tree import DecisionTreeClassifier\n",
    "model_tree = DecisionTreeClassifier(random_state=45)\n",
    "param_grid = {'splitter': [\"best\",\"random\"],  \n",
    "              'min_samples_split': [2,4,6,8],\n",
    "             'criterion':[\"gini\",\"entropy\"],\n",
    "             'max_features':[\"auto\", \"sqrt\", \"log2\"],\n",
    "              'max_depth':[6,8,10,20],\n",
    "             'max_leaf_nodes':[10,50,None]}  \n",
    "grid =  GridSearchCV(model_tree,param_grid,scoring=\"accuracy\", cv=10, verbose=1,n_jobs=6)\n",
    "grid.fit(X_train,Y_train)\n",
    "print(grid.best_params_)"
   ]
  },
  {
   "cell_type": "code",
   "execution_count": 6,
   "metadata": {},
   "outputs": [
    {
     "data": {
      "text/plain": [
       "0.38"
      ]
     },
     "execution_count": 6,
     "metadata": {},
     "output_type": "execute_result"
    }
   ],
   "source": [
    "# error rate\n",
    "model_tree = OneVsRestClassifier(DecisionTreeClassifier(criterion='gini',min_samples_split=2,splitter=\"best\",max_features=\"auto\",\n",
    "                                    max_leaf_nodes=10,max_depth=6))\n",
    "model_tree.fit(X_train,Y_train)\n",
    "tree_error_rate = 1 - model_tree.score(X_test,Y_test)\n",
    "tree_error_rate"
   ]
  },
  {
   "cell_type": "code",
   "execution_count": 7,
   "metadata": {},
   "outputs": [
    {
     "data": {
      "text/plain": [
       "0.728448275862069"
      ]
     },
     "execution_count": 7,
     "metadata": {},
     "output_type": "execute_result"
    }
   ],
   "source": [
    "model_tree.score(X_train, Y_train)"
   ]
  },
  {
   "cell_type": "code",
   "execution_count": 8,
   "metadata": {},
   "outputs": [
    {
     "name": "stdout",
     "output_type": "stream",
     "text": [
      "[[[56 10]\n",
      "  [14 20]]\n",
      "\n",
      " [[73  4]\n",
      "  [20  3]]\n",
      "\n",
      " [[33 24]\n",
      "  [ 4 39]]]\n"
     ]
    }
   ],
   "source": [
    "#confusion matrix and classification for testing\n",
    "from sklearn.metrics import classification_report,multilabel_confusion_matrix,roc_curve, auc\n",
    "import matplotlib.pylab as plt\n",
    "prediction = model_tree.predict(X_test)\n",
    "print(multilabel_confusion_matrix(Y_test, prediction))"
   ]
  },
  {
   "cell_type": "code",
   "execution_count": 9,
   "metadata": {},
   "outputs": [
    {
     "name": "stdout",
     "output_type": "stream",
     "text": [
      "              precision    recall  f1-score   support\n",
      "\n",
      "        DOWN       0.67      0.59      0.62        34\n",
      "     NEUTRAL       0.43      0.13      0.20        23\n",
      "          UP       0.62      0.91      0.74        43\n",
      "\n",
      "    accuracy                           0.62       100\n",
      "   macro avg       0.57      0.54      0.52       100\n",
      "weighted avg       0.59      0.62      0.57       100\n",
      "\n"
     ]
    }
   ],
   "source": [
    "print(classification_report(Y_test, prediction))"
   ]
  },
  {
   "cell_type": "code",
   "execution_count": 10,
   "metadata": {},
   "outputs": [
    {
     "data": {
      "image/png": "[encoded data removed]",
      "text/plain": [
       "<Figure size 432x288 with 1 Axes>"
      ]
     },
     "metadata": {
      "needs_background": "light"
     },
     "output_type": "display_data"
    },
    {
     "data": {
      "image/png": "[encoded data removed]",
      "text/plain": [
       "<Figure size 432x288 with 1 Axes>"
      ]
     },
     "metadata": {
      "needs_background": "light"
     },
     "output_type": "display_data"
    },
    {
     "data": {
      "image/png": "[encoded data removed]",
      "text/plain": [
       "<Figure size 432x288 with 1 Axes>"
      ]
     },
     "metadata": {
      "needs_background": "light"
     },
     "output_type": "display_data"
    }
   ],
   "source": [
    " # Plot the ROC curve\n",
    "\n",
    "def plot_roc(Y_test,Y_pred):\n",
    "    fpr = dict()\n",
    "    tpr = dict()\n",
    "    roc_auc = dict()\n",
    "    n_classes= 3\n",
    "    Y_test_dummies = pd.get_dummies(Y_test, drop_first=False).values\n",
    "    Y_pred_dummies = pd.get_dummies(Y_pred,drop_first=False).values\n",
    "    for i in range(n_classes):\n",
    "        fpr[i], tpr[i], _ = roc_curve(Y_test_dummies[:, i],Y_pred_dummies[:, i])\n",
    "        roc_auc[i] = auc(fpr[i], tpr[i])\n",
    "    title = [\"ROC for UP\",\"ROC for NEUTRAL\",\"ROC for DOWN\"]\n",
    "    for i in range(n_classes):\n",
    "        plt.plot(fpr[i], tpr[i], label='ROC curve (area = %0.2f)' % roc_auc[i])\n",
    "        plt.plot([0, 1], [0, 1], 'k--', label=\"Random\")\n",
    "        plt.xlabel('False Positive Rate')\n",
    "        plt.ylabel('True Positive Rate')\n",
    "        plt.title(title[i])\n",
    "        plt.legend(loc=\"best\")\n",
    "        plt.show()\n",
    "plot_roc(Y_test,prediction)"
   ]
  },
  {
   "cell_type": "code",
   "execution_count": 11,
   "metadata": {},
   "outputs": [
    {
     "name": "stdout",
     "output_type": "stream",
     "text": [
      "Fitting 10 folds for each of 1152 candidates, totalling 11520 fits\n"
     ]
    },
    {
     "name": "stderr",
     "output_type": "stream",
     "text": [
      "[Parallel(n_jobs=6)]: Using backend LokyBackend with 6 concurrent workers.\n",
      "[Parallel(n_jobs=6)]: Done 100 tasks      | elapsed:    0.3s\n",
      "[Parallel(n_jobs=6)]: Done 2420 tasks      | elapsed:    6.4s\n",
      "[Parallel(n_jobs=6)]: Done 6420 tasks      | elapsed:   17.3s\n"
     ]
    },
    {
     "name": "stdout",
     "output_type": "stream",
     "text": [
      "{'criterion': 'entropy', 'max_depth': 8, 'max_features': 'auto', 'max_leaf_nodes': 10, 'min_samples_leaf': 1, 'min_samples_split': 8}\n"
     ]
    },
    {
     "name": "stderr",
     "output_type": "stream",
     "text": [
      "[Parallel(n_jobs=6)]: Done 11520 out of 11520 | elapsed:   33.4s finished\n",
      "C:\\Users\\dong\\anaconda3\\lib\\site-packages\\sklearn\\model_selection\\_search.py:813: DeprecationWarning: The default of the `iid` parameter will change from True to False in version 0.22 and will be removed in 0.24. This will change numeric results when test-set sizes are unequal.\n",
      "  DeprecationWarning)\n",
      "C:\\Users\\dong\\anaconda3\\lib\\site-packages\\sklearn\\ensemble\\forest.py:245: FutureWarning: The default value of n_estimators will change from 10 in version 0.20 to 100 in 0.22.\n",
      "  \"10 in version 0.20 to 100 in 0.22.\", FutureWarning)\n"
     ]
    }
   ],
   "source": [
    "# random forest\n",
    "from sklearn.ensemble import RandomForestClassifier\n",
    "model_random = RandomForestClassifier(random_state=42)\n",
    "param_grid = {\n",
    "             'min_samples_split': [2,4,6,8],\n",
    "             'criterion':[\"gini\",\"entropy\"],\n",
    "             'max_features':[\"auto\", \"sqrt\", \"log2\"],\n",
    "              'max_depth':[6,8,10,20],\n",
    "              'min_samples_leaf':[1,2,4,6],\n",
    "             'max_leaf_nodes':[10,50,None]}  \n",
    "random_grid =  GridSearchCV(model_random,param_grid,scoring=\"accuracy\", cv=10, verbose=1,n_jobs=6)\n",
    "random_grid.fit(X_train,Y_train)\n",
    "print(random_grid.best_params_)"
   ]
  },
  {
   "cell_type": "code",
   "execution_count": 12,
   "metadata": {},
   "outputs": [
    {
     "name": "stderr",
     "output_type": "stream",
     "text": [
      "C:\\Users\\dong\\anaconda3\\lib\\site-packages\\sklearn\\ensemble\\forest.py:245: FutureWarning: The default value of n_estimators will change from 10 in version 0.20 to 100 in 0.22.\n",
      "  \"10 in version 0.20 to 100 in 0.22.\", FutureWarning)\n",
      "C:\\Users\\dong\\anaconda3\\lib\\site-packages\\sklearn\\ensemble\\forest.py:245: FutureWarning: The default value of n_estimators will change from 10 in version 0.20 to 100 in 0.22.\n",
      "  \"10 in version 0.20 to 100 in 0.22.\", FutureWarning)\n",
      "C:\\Users\\dong\\anaconda3\\lib\\site-packages\\sklearn\\ensemble\\forest.py:245: FutureWarning: The default value of n_estimators will change from 10 in version 0.20 to 100 in 0.22.\n",
      "  \"10 in version 0.20 to 100 in 0.22.\", FutureWarning)\n"
     ]
    },
    {
     "data": {
      "text/plain": [
       "0.39"
      ]
     },
     "execution_count": 12,
     "metadata": {},
     "output_type": "execute_result"
    }
   ],
   "source": [
    "model_random_tree = OneVsRestClassifier(RandomForestClassifier(criterion= 'gini',min_samples_split=2,max_features=\"auto\",\n",
    "                                    max_leaf_nodes=10,max_depth=6,min_samples_leaf=6))\n",
    "model_random_tree.fit(X_train,Y_train)\n",
    "tree_error_rate = 1 - model_random_tree.score(X_test,Y_test)\n",
    "tree_error_rate"
   ]
  },
  {
   "cell_type": "code",
   "execution_count": 13,
   "metadata": {},
   "outputs": [
    {
     "data": {
      "text/plain": [
       "0.6767241379310345"
      ]
     },
     "execution_count": 13,
     "metadata": {},
     "output_type": "execute_result"
    }
   ],
   "source": [
    "model_random_tree.score(X_train, Y_train)"
   ]
  },
  {
   "cell_type": "code",
   "execution_count": 17,
   "metadata": {},
   "outputs": [
    {
     "name": "stdout",
     "output_type": "stream",
     "text": [
      "[[[54 12]\n",
      "  [14 20]]\n",
      "\n",
      " [[74  3]\n",
      "  [19  4]]\n",
      "\n",
      " [[33 24]\n",
      "  [ 6 37]]]\n"
     ]
    }
   ],
   "source": [
    "new_prediction = model_random_tree.predict(X_test)\n",
    "print(multilabel_confusion_matrix(Y_test, new_prediction))"
   ]
  },
  {
   "cell_type": "code",
   "execution_count": 18,
   "metadata": {},
   "outputs": [
    {
     "name": "stdout",
     "output_type": "stream",
     "text": [
      "              precision    recall  f1-score   support\n",
      "\n",
      "        DOWN       0.62      0.59      0.61        34\n",
      "     NEUTRAL       0.57      0.17      0.27        23\n",
      "          UP       0.61      0.86      0.71        43\n",
      "\n",
      "    accuracy                           0.61       100\n",
      "   macro avg       0.60      0.54      0.53       100\n",
      "weighted avg       0.60      0.61      0.57       100\n",
      "\n"
     ]
    }
   ],
   "source": [
    "print(classification_report(Y_test, new_prediction))"
   ]
  },
  {
   "cell_type": "code",
   "execution_count": 19,
   "metadata": {},
   "outputs": [
    {
     "data": {
      "image/png": "[encoded data removed]",
      "text/plain": [
       "<Figure size 432x288 with 1 Axes>"
      ]
     },
     "metadata": {
      "needs_background": "light"
     },
     "output_type": "display_data"
    },
    {
     "data": {
      "image/png": "[encoded data removed]",
      "text/plain": [
       "<Figure size 432x288 with 1 Axes>"
      ]
     },
     "metadata": {
      "needs_background": "light"
     },
     "output_type": "display_data"
    },
    {
     "data": {
      "image/png": "[encoded data removed]",
      "text/plain": [
       "<Figure size 432x288 with 1 Axes>"
      ]
     },
     "metadata": {
      "needs_background": "light"
     },
     "output_type": "display_data"
    }
   ],
   "source": [
    "plot_roc(Y_test,new_prediction)"
   ]
  }
 ],
 "metadata": {
  "kernelspec": {
   "display_name": "Python 3",
   "language": "python",
   "name": "python3"
  },
  "language_info": {
   "codemirror_mode": {
    "name": "ipython",
    "version": 3
   },
   "file_extension": ".py",
   "mimetype": "text/x-python",
   "name": "python",
   "nbconvert_exporter": "python",
   "pygments_lexer": "ipython3",
   "version": "3.7.6"
  }
 },
 "nbformat": 4,
 "nbformat_minor": 4
}
