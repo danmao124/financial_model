{
 "cells": [
  {
   "cell_type": "code",
   "execution_count": 1,
   "metadata": {},
   "outputs": [],
   "source": [
    "#from google.colab import drive\n",
    "#drive.mount('/content/drive')"
   ]
  },
  {
   "cell_type": "code",
   "execution_count": 2,
   "metadata": {},
   "outputs": [
    {
     "data": {
      "text/html": [
       "<div>\n",
       "<style scoped>\n",
       "    .dataframe tbody tr th:only-of-type {\n",
       "        vertical-align: middle;\n",
       "    }\n",
       "\n",
       "    .dataframe tbody tr th {\n",
       "        vertical-align: top;\n",
       "    }\n",
       "\n",
       "    .dataframe thead th {\n",
       "        text-align: right;\n",
       "    }\n",
       "</style>\n",
       "<table border=\"1\" class=\"dataframe\">\n",
       "  <thead>\n",
       "    <tr style=\"text-align: right;\">\n",
       "      <th></th>\n",
       "      <th>High</th>\n",
       "      <th>Low</th>\n",
       "      <th>Open</th>\n",
       "      <th>Close</th>\n",
       "      <th>Volume</th>\n",
       "      <th>Adj Close</th>\n",
       "    </tr>\n",
       "    <tr>\n",
       "      <th>Date</th>\n",
       "      <th></th>\n",
       "      <th></th>\n",
       "      <th></th>\n",
       "      <th></th>\n",
       "      <th></th>\n",
       "      <th></th>\n",
       "    </tr>\n",
       "  </thead>\n",
       "  <tbody>\n",
       "    <tr>\n",
       "      <td>2019-08-13</td>\n",
       "      <td>10889.556641</td>\n",
       "      <td>10028.135742</td>\n",
       "      <td>10889.487305</td>\n",
       "      <td>10051.704102</td>\n",
       "      <td>1.999084e+10</td>\n",
       "      <td>10051.704102</td>\n",
       "    </tr>\n",
       "    <tr>\n",
       "      <td>2019-08-14</td>\n",
       "      <td>10437.411133</td>\n",
       "      <td>9675.316406</td>\n",
       "      <td>10038.421875</td>\n",
       "      <td>10311.545898</td>\n",
       "      <td>2.289912e+10</td>\n",
       "      <td>10311.545898</td>\n",
       "    </tr>\n",
       "    <tr>\n",
       "      <td>2019-08-15</td>\n",
       "      <td>10524.349609</td>\n",
       "      <td>9855.478516</td>\n",
       "      <td>10319.419922</td>\n",
       "      <td>10374.338867</td>\n",
       "      <td>2.022821e+10</td>\n",
       "      <td>10374.338867</td>\n",
       "    </tr>\n",
       "    <tr>\n",
       "      <td>2019-08-16</td>\n",
       "      <td>10452.625000</td>\n",
       "      <td>10086.698242</td>\n",
       "      <td>10358.722656</td>\n",
       "      <td>10231.744141</td>\n",
       "      <td>1.377804e+10</td>\n",
       "      <td>10231.744141</td>\n",
       "    </tr>\n",
       "    <tr>\n",
       "      <td>2019-08-17</td>\n",
       "      <td>10487.070312</td>\n",
       "      <td>10119.094727</td>\n",
       "      <td>10233.005859</td>\n",
       "      <td>10345.810547</td>\n",
       "      <td>1.299981e+10</td>\n",
       "      <td>10345.810547</td>\n",
       "    </tr>\n",
       "    <tr>\n",
       "      <td>...</td>\n",
       "      <td>...</td>\n",
       "      <td>...</td>\n",
       "      <td>...</td>\n",
       "      <td>...</td>\n",
       "      <td>...</td>\n",
       "      <td>...</td>\n",
       "    </tr>\n",
       "    <tr>\n",
       "      <td>2020-08-08</td>\n",
       "      <td>11806.056641</td>\n",
       "      <td>11548.784180</td>\n",
       "      <td>11737.325195</td>\n",
       "      <td>11675.739258</td>\n",
       "      <td>1.748961e+10</td>\n",
       "      <td>11675.739258</td>\n",
       "    </tr>\n",
       "    <tr>\n",
       "      <td>2020-08-09</td>\n",
       "      <td>12045.140625</td>\n",
       "      <td>11662.256836</td>\n",
       "      <td>11662.256836</td>\n",
       "      <td>11878.111328</td>\n",
       "      <td>2.611411e+10</td>\n",
       "      <td>11878.111328</td>\n",
       "    </tr>\n",
       "    <tr>\n",
       "      <td>2020-08-10</td>\n",
       "      <td>11932.710938</td>\n",
       "      <td>11195.708984</td>\n",
       "      <td>11881.647461</td>\n",
       "      <td>11410.525391</td>\n",
       "      <td>2.703978e+10</td>\n",
       "      <td>11410.525391</td>\n",
       "    </tr>\n",
       "    <tr>\n",
       "      <td>2020-08-11</td>\n",
       "      <td>11748.396484</td>\n",
       "      <td>11249.605469</td>\n",
       "      <td>11404.596680</td>\n",
       "      <td>11584.934570</td>\n",
       "      <td>2.506455e+10</td>\n",
       "      <td>11584.934570</td>\n",
       "    </tr>\n",
       "    <tr>\n",
       "      <td>2020-08-12</td>\n",
       "      <td>11796.396484</td>\n",
       "      <td>11216.872070</td>\n",
       "      <td>11588.405273</td>\n",
       "      <td>11784.137695</td>\n",
       "      <td>2.752220e+10</td>\n",
       "      <td>11784.137695</td>\n",
       "    </tr>\n",
       "  </tbody>\n",
       "</table>\n",
       "<p>365 rows × 6 columns</p>\n",
       "</div>"
      ],
      "text/plain": [
       "                    High           Low          Open         Close  \\\n",
       "Date                                                                 \n",
       "2019-08-13  10889.556641  10028.135742  10889.487305  10051.704102   \n",
       "2019-08-14  10437.411133   9675.316406  10038.421875  10311.545898   \n",
       "2019-08-15  10524.349609   9855.478516  10319.419922  10374.338867   \n",
       "2019-08-16  10452.625000  10086.698242  10358.722656  10231.744141   \n",
       "2019-08-17  10487.070312  10119.094727  10233.005859  10345.810547   \n",
       "...                  ...           ...           ...           ...   \n",
       "2020-08-08  11806.056641  11548.784180  11737.325195  11675.739258   \n",
       "2020-08-09  12045.140625  11662.256836  11662.256836  11878.111328   \n",
       "2020-08-10  11932.710938  11195.708984  11881.647461  11410.525391   \n",
       "2020-08-11  11748.396484  11249.605469  11404.596680  11584.934570   \n",
       "2020-08-12  11796.396484  11216.872070  11588.405273  11784.137695   \n",
       "\n",
       "                  Volume     Adj Close  \n",
       "Date                                    \n",
       "2019-08-13  1.999084e+10  10051.704102  \n",
       "2019-08-14  2.289912e+10  10311.545898  \n",
       "2019-08-15  2.022821e+10  10374.338867  \n",
       "2019-08-16  1.377804e+10  10231.744141  \n",
       "2019-08-17  1.299981e+10  10345.810547  \n",
       "...                  ...           ...  \n",
       "2020-08-08  1.748961e+10  11675.739258  \n",
       "2020-08-09  2.611411e+10  11878.111328  \n",
       "2020-08-10  2.703978e+10  11410.525391  \n",
       "2020-08-11  2.506455e+10  11584.934570  \n",
       "2020-08-12  2.752220e+10  11784.137695  \n",
       "\n",
       "[365 rows x 6 columns]"
      ]
     },
     "execution_count": 2,
     "metadata": {},
     "output_type": "execute_result"
    }
   ],
   "source": [
    "import pandas as pd\n",
    "from pandas_datareader import data\n",
    "from pandas_datareader._utils import RemoteDataError\n",
    "from datetime import timedelta\n",
    "import datetime\n",
    "\n",
    "# Please read, my idea was to classify the data into three cateogries: \"UP\", \"DOWN\", \"NEUTRAL\"\n",
    "# UP - the price of the stock is up MINIMUM_GAIN percent after LOOK_AHEAD_DAYS days.\n",
    "# DOWN - the price of the stock is down MINIMUM_GAIN percent after LOOK_AHEAD_DAYS days.\n",
    "# NEUTRAL - the price of stock is did not rise or fall past the MINIMUM_GAIN threshhold\n",
    "#\n",
    "# EXAMPLE: LOOK_AHEAD_DAYS = 30, MINIMUM_GAIN = .05 (5%). If stock is up over 5% ore more after 30 days, \n",
    "# we mark it as 'UP'. If the stock is down 5% or more after 30 days, we mark it as 'DOWN'. If the stock\n",
    "# is neither up nor down 5%, then we mark it as 'NEUTRAL'\n",
    "\n",
    "# MINIMUM_GAIN = .05 #minimal gain to be considered up or down for classification, UNUSED NOW\n",
    "\n",
    "LOOK_BACK_DAYS = 30 #number of days into the past we would like to take into account\n",
    "LOOK_AHEAD_DAYS = 1 #number of days into the future we are trying to predict\n",
    "\n",
    "class Utilities:\n",
    "\n",
    "    @staticmethod\n",
    "    def getData(ticker, start_date, end_date):\n",
    "        try:\n",
    "            stock_data = data.DataReader(ticker,\n",
    "                                         'yahoo',\n",
    "                                         start_date,\n",
    "                                         end_date)\n",
    "            return stock_data\n",
    "        except RemoteDataError:\n",
    "            print('No data found for {t}'.format(t=ticker))\n",
    "#just get the btc price points from the past year\n",
    "start_date = datetime.datetime.now() - timedelta(365)\n",
    "end_date = datetime.datetime.now() - timedelta(1)\n",
    "btc_df = Utilities.getData('BTC-USD', str(start_date.strftime('%Y-%m-%d')), str(end_date.strftime('%Y-%m-%d')))\n",
    "btc_df"
   ]
  },
  {
   "cell_type": "code",
   "execution_count": 3,
   "metadata": {},
   "outputs": [
    {
     "data": {
      "text/html": [
       "<div>\n",
       "<style scoped>\n",
       "    .dataframe tbody tr th:only-of-type {\n",
       "        vertical-align: middle;\n",
       "    }\n",
       "\n",
       "    .dataframe tbody tr th {\n",
       "        vertical-align: top;\n",
       "    }\n",
       "\n",
       "    .dataframe thead th {\n",
       "        text-align: right;\n",
       "    }\n",
       "</style>\n",
       "<table border=\"1\" class=\"dataframe\">\n",
       "  <thead>\n",
       "    <tr style=\"text-align: right;\">\n",
       "      <th></th>\n",
       "      <th>High</th>\n",
       "      <th>Low</th>\n",
       "      <th>Open</th>\n",
       "      <th>Close</th>\n",
       "      <th>Volume</th>\n",
       "      <th>Adj Close</th>\n",
       "      <th>Adj Close_Past_1</th>\n",
       "      <th>Volume_Past_1</th>\n",
       "      <th>Close_Past_1</th>\n",
       "      <th>Open_Past_1</th>\n",
       "      <th>...</th>\n",
       "      <th>Close_Past_29</th>\n",
       "      <th>Open_Past_29</th>\n",
       "      <th>Low_Past_29</th>\n",
       "      <th>High_Past_29</th>\n",
       "      <th>Adj Close_Past_30</th>\n",
       "      <th>Volume_Past_30</th>\n",
       "      <th>Close_Past_30</th>\n",
       "      <th>Open_Past_30</th>\n",
       "      <th>Low_Past_30</th>\n",
       "      <th>High_Past_30</th>\n",
       "    </tr>\n",
       "    <tr>\n",
       "      <th>Date</th>\n",
       "      <th></th>\n",
       "      <th></th>\n",
       "      <th></th>\n",
       "      <th></th>\n",
       "      <th></th>\n",
       "      <th></th>\n",
       "      <th></th>\n",
       "      <th></th>\n",
       "      <th></th>\n",
       "      <th></th>\n",
       "      <th></th>\n",
       "      <th></th>\n",
       "      <th></th>\n",
       "      <th></th>\n",
       "      <th></th>\n",
       "      <th></th>\n",
       "      <th></th>\n",
       "      <th></th>\n",
       "      <th></th>\n",
       "      <th></th>\n",
       "      <th></th>\n",
       "    </tr>\n",
       "  </thead>\n",
       "  <tbody>\n",
       "    <tr>\n",
       "      <td>2019-09-13</td>\n",
       "      <td>10422.133789</td>\n",
       "      <td>10291.694336</td>\n",
       "      <td>10345.403320</td>\n",
       "      <td>10358.048828</td>\n",
       "      <td>1.346871e+10</td>\n",
       "      <td>10358.048828</td>\n",
       "      <td>10360.5</td>\n",
       "      <td>1.41099e+10</td>\n",
       "      <td>10360.5</td>\n",
       "      <td>10415.4</td>\n",
       "      <td>...</td>\n",
       "      <td>10374.3</td>\n",
       "      <td>10319.4</td>\n",
       "      <td>9855.48</td>\n",
       "      <td>10524.3</td>\n",
       "      <td>10311.5</td>\n",
       "      <td>2.28991e+10</td>\n",
       "      <td>10311.5</td>\n",
       "      <td>10038.4</td>\n",
       "      <td>9675.32</td>\n",
       "      <td>10437.4</td>\n",
       "    </tr>\n",
       "    <tr>\n",
       "      <td>2019-09-14</td>\n",
       "      <td>10387.035156</td>\n",
       "      <td>10313.092773</td>\n",
       "      <td>10356.465820</td>\n",
       "      <td>10347.712891</td>\n",
       "      <td>1.204343e+10</td>\n",
       "      <td>10347.712891</td>\n",
       "      <td>10358</td>\n",
       "      <td>1.34687e+10</td>\n",
       "      <td>10358</td>\n",
       "      <td>10345.4</td>\n",
       "      <td>...</td>\n",
       "      <td>10231.7</td>\n",
       "      <td>10358.7</td>\n",
       "      <td>10086.7</td>\n",
       "      <td>10452.6</td>\n",
       "      <td>10374.3</td>\n",
       "      <td>2.02282e+10</td>\n",
       "      <td>10374.3</td>\n",
       "      <td>10319.4</td>\n",
       "      <td>9855.48</td>\n",
       "      <td>10524.3</td>\n",
       "    </tr>\n",
       "    <tr>\n",
       "      <td>2019-09-15</td>\n",
       "      <td>10386.867188</td>\n",
       "      <td>10189.744141</td>\n",
       "      <td>10347.222656</td>\n",
       "      <td>10276.793945</td>\n",
       "      <td>1.516017e+10</td>\n",
       "      <td>10276.793945</td>\n",
       "      <td>10347.7</td>\n",
       "      <td>1.20434e+10</td>\n",
       "      <td>10347.7</td>\n",
       "      <td>10356.5</td>\n",
       "      <td>...</td>\n",
       "      <td>10345.8</td>\n",
       "      <td>10233</td>\n",
       "      <td>10119.1</td>\n",
       "      <td>10487.1</td>\n",
       "      <td>10231.7</td>\n",
       "      <td>1.3778e+10</td>\n",
       "      <td>10231.7</td>\n",
       "      <td>10358.7</td>\n",
       "      <td>10086.7</td>\n",
       "      <td>10452.6</td>\n",
       "    </tr>\n",
       "    <tr>\n",
       "      <td>2019-09-16</td>\n",
       "      <td>10296.771484</td>\n",
       "      <td>10199.739258</td>\n",
       "      <td>10281.513672</td>\n",
       "      <td>10241.272461</td>\n",
       "      <td>1.530460e+10</td>\n",
       "      <td>10241.272461</td>\n",
       "      <td>10276.8</td>\n",
       "      <td>1.51602e+10</td>\n",
       "      <td>10276.8</td>\n",
       "      <td>10347.2</td>\n",
       "      <td>...</td>\n",
       "      <td>10916.1</td>\n",
       "      <td>10350.3</td>\n",
       "      <td>10313.2</td>\n",
       "      <td>10916.1</td>\n",
       "      <td>10345.8</td>\n",
       "      <td>1.29998e+10</td>\n",
       "      <td>10345.8</td>\n",
       "      <td>10233</td>\n",
       "      <td>10119.1</td>\n",
       "      <td>10487.1</td>\n",
       "    </tr>\n",
       "    <tr>\n",
       "      <td>2019-09-17</td>\n",
       "      <td>10275.928711</td>\n",
       "      <td>10191.469727</td>\n",
       "      <td>10247.795898</td>\n",
       "      <td>10198.248047</td>\n",
       "      <td>1.616927e+10</td>\n",
       "      <td>10198.248047</td>\n",
       "      <td>10241.3</td>\n",
       "      <td>1.53046e+10</td>\n",
       "      <td>10241.3</td>\n",
       "      <td>10281.5</td>\n",
       "      <td>...</td>\n",
       "      <td>10763.2</td>\n",
       "      <td>10916.3</td>\n",
       "      <td>10619</td>\n",
       "      <td>10947</td>\n",
       "      <td>10916.1</td>\n",
       "      <td>1.60383e+10</td>\n",
       "      <td>10916.1</td>\n",
       "      <td>10350.3</td>\n",
       "      <td>10313.2</td>\n",
       "      <td>10916.1</td>\n",
       "    </tr>\n",
       "    <tr>\n",
       "      <td>...</td>\n",
       "      <td>...</td>\n",
       "      <td>...</td>\n",
       "      <td>...</td>\n",
       "      <td>...</td>\n",
       "      <td>...</td>\n",
       "      <td>...</td>\n",
       "      <td>...</td>\n",
       "      <td>...</td>\n",
       "      <td>...</td>\n",
       "      <td>...</td>\n",
       "      <td>...</td>\n",
       "      <td>...</td>\n",
       "      <td>...</td>\n",
       "      <td>...</td>\n",
       "      <td>...</td>\n",
       "      <td>...</td>\n",
       "      <td>...</td>\n",
       "      <td>...</td>\n",
       "      <td>...</td>\n",
       "      <td>...</td>\n",
       "      <td>...</td>\n",
       "    </tr>\n",
       "    <tr>\n",
       "      <td>2020-08-08</td>\n",
       "      <td>11806.056641</td>\n",
       "      <td>11548.784180</td>\n",
       "      <td>11737.325195</td>\n",
       "      <td>11675.739258</td>\n",
       "      <td>1.748961e+10</td>\n",
       "      <td>11675.739258</td>\n",
       "      <td>11754</td>\n",
       "      <td>1.75721e+10</td>\n",
       "      <td>11754</td>\n",
       "      <td>11604.6</td>\n",
       "      <td>...</td>\n",
       "      <td>9240.35</td>\n",
       "      <td>9277.51</td>\n",
       "      <td>9199.49</td>\n",
       "      <td>9293.53</td>\n",
       "      <td>9278.81</td>\n",
       "      <td>1.686e+10</td>\n",
       "      <td>9278.81</td>\n",
       "      <td>9273.36</td>\n",
       "      <td>9118</td>\n",
       "      <td>9287.47</td>\n",
       "    </tr>\n",
       "    <tr>\n",
       "      <td>2020-08-09</td>\n",
       "      <td>12045.140625</td>\n",
       "      <td>11662.256836</td>\n",
       "      <td>11662.256836</td>\n",
       "      <td>11878.111328</td>\n",
       "      <td>2.611411e+10</td>\n",
       "      <td>11878.111328</td>\n",
       "      <td>11675.7</td>\n",
       "      <td>1.74896e+10</td>\n",
       "      <td>11675.7</td>\n",
       "      <td>11737.3</td>\n",
       "      <td>...</td>\n",
       "      <td>9276.5</td>\n",
       "      <td>9241.05</td>\n",
       "      <td>9197.45</td>\n",
       "      <td>9319.42</td>\n",
       "      <td>9240.35</td>\n",
       "      <td>1.32499e+10</td>\n",
       "      <td>9240.35</td>\n",
       "      <td>9277.51</td>\n",
       "      <td>9199.49</td>\n",
       "      <td>9293.53</td>\n",
       "    </tr>\n",
       "    <tr>\n",
       "      <td>2020-08-10</td>\n",
       "      <td>11932.710938</td>\n",
       "      <td>11195.708984</td>\n",
       "      <td>11881.647461</td>\n",
       "      <td>11410.525391</td>\n",
       "      <td>2.703978e+10</td>\n",
       "      <td>11410.525391</td>\n",
       "      <td>11878.1</td>\n",
       "      <td>2.61141e+10</td>\n",
       "      <td>11878.1</td>\n",
       "      <td>11662.3</td>\n",
       "      <td>...</td>\n",
       "      <td>9243.61</td>\n",
       "      <td>9277.21</td>\n",
       "      <td>9224.29</td>\n",
       "      <td>9306.41</td>\n",
       "      <td>9276.5</td>\n",
       "      <td>1.44524e+10</td>\n",
       "      <td>9276.5</td>\n",
       "      <td>9241.05</td>\n",
       "      <td>9197.45</td>\n",
       "      <td>9319.42</td>\n",
       "    </tr>\n",
       "    <tr>\n",
       "      <td>2020-08-11</td>\n",
       "      <td>11748.396484</td>\n",
       "      <td>11249.605469</td>\n",
       "      <td>11404.596680</td>\n",
       "      <td>11584.934570</td>\n",
       "      <td>2.506455e+10</td>\n",
       "      <td>11584.934570</td>\n",
       "      <td>11410.5</td>\n",
       "      <td>2.70398e+10</td>\n",
       "      <td>11410.5</td>\n",
       "      <td>11881.6</td>\n",
       "      <td>...</td>\n",
       "      <td>9243.21</td>\n",
       "      <td>9238.7</td>\n",
       "      <td>9171.66</td>\n",
       "      <td>9283.84</td>\n",
       "      <td>9243.61</td>\n",
       "      <td>1.75198e+10</td>\n",
       "      <td>9243.61</td>\n",
       "      <td>9277.21</td>\n",
       "      <td>9224.29</td>\n",
       "      <td>9306.41</td>\n",
       "    </tr>\n",
       "    <tr>\n",
       "      <td>2020-08-12</td>\n",
       "      <td>11796.396484</td>\n",
       "      <td>11216.872070</td>\n",
       "      <td>11588.405273</td>\n",
       "      <td>11784.137695</td>\n",
       "      <td>2.752220e+10</td>\n",
       "      <td>11784.137695</td>\n",
       "      <td>11584.9</td>\n",
       "      <td>2.50645e+10</td>\n",
       "      <td>11584.9</td>\n",
       "      <td>11404.6</td>\n",
       "      <td>...</td>\n",
       "      <td>9192.84</td>\n",
       "      <td>9241.9</td>\n",
       "      <td>9171.93</td>\n",
       "      <td>9275.33</td>\n",
       "      <td>9243.21</td>\n",
       "      <td>1.8085e+10</td>\n",
       "      <td>9243.21</td>\n",
       "      <td>9238.7</td>\n",
       "      <td>9171.66</td>\n",
       "      <td>9283.84</td>\n",
       "    </tr>\n",
       "  </tbody>\n",
       "</table>\n",
       "<p>333 rows × 186 columns</p>\n",
       "</div>"
      ],
      "text/plain": [
       "                    High           Low          Open         Close  \\\n",
       "Date                                                                 \n",
       "2019-09-13  10422.133789  10291.694336  10345.403320  10358.048828   \n",
       "2019-09-14  10387.035156  10313.092773  10356.465820  10347.712891   \n",
       "2019-09-15  10386.867188  10189.744141  10347.222656  10276.793945   \n",
       "2019-09-16  10296.771484  10199.739258  10281.513672  10241.272461   \n",
       "2019-09-17  10275.928711  10191.469727  10247.795898  10198.248047   \n",
       "...                  ...           ...           ...           ...   \n",
       "2020-08-08  11806.056641  11548.784180  11737.325195  11675.739258   \n",
       "2020-08-09  12045.140625  11662.256836  11662.256836  11878.111328   \n",
       "2020-08-10  11932.710938  11195.708984  11881.647461  11410.525391   \n",
       "2020-08-11  11748.396484  11249.605469  11404.596680  11584.934570   \n",
       "2020-08-12  11796.396484  11216.872070  11588.405273  11784.137695   \n",
       "\n",
       "                  Volume     Adj Close Adj Close_Past_1 Volume_Past_1  \\\n",
       "Date                                                                    \n",
       "2019-09-13  1.346871e+10  10358.048828          10360.5   1.41099e+10   \n",
       "2019-09-14  1.204343e+10  10347.712891            10358   1.34687e+10   \n",
       "2019-09-15  1.516017e+10  10276.793945          10347.7   1.20434e+10   \n",
       "2019-09-16  1.530460e+10  10241.272461          10276.8   1.51602e+10   \n",
       "2019-09-17  1.616927e+10  10198.248047          10241.3   1.53046e+10   \n",
       "...                  ...           ...              ...           ...   \n",
       "2020-08-08  1.748961e+10  11675.739258            11754   1.75721e+10   \n",
       "2020-08-09  2.611411e+10  11878.111328          11675.7   1.74896e+10   \n",
       "2020-08-10  2.703978e+10  11410.525391          11878.1   2.61141e+10   \n",
       "2020-08-11  2.506455e+10  11584.934570          11410.5   2.70398e+10   \n",
       "2020-08-12  2.752220e+10  11784.137695          11584.9   2.50645e+10   \n",
       "\n",
       "           Close_Past_1 Open_Past_1  ... Close_Past_29 Open_Past_29  \\\n",
       "Date                                 ...                              \n",
       "2019-09-13      10360.5     10415.4  ...       10374.3      10319.4   \n",
       "2019-09-14        10358     10345.4  ...       10231.7      10358.7   \n",
       "2019-09-15      10347.7     10356.5  ...       10345.8        10233   \n",
       "2019-09-16      10276.8     10347.2  ...       10916.1      10350.3   \n",
       "2019-09-17      10241.3     10281.5  ...       10763.2      10916.3   \n",
       "...                 ...         ...  ...           ...          ...   \n",
       "2020-08-08        11754     11604.6  ...       9240.35      9277.51   \n",
       "2020-08-09      11675.7     11737.3  ...        9276.5      9241.05   \n",
       "2020-08-10      11878.1     11662.3  ...       9243.61      9277.21   \n",
       "2020-08-11      11410.5     11881.6  ...       9243.21       9238.7   \n",
       "2020-08-12      11584.9     11404.6  ...       9192.84       9241.9   \n",
       "\n",
       "           Low_Past_29 High_Past_29 Adj Close_Past_30 Volume_Past_30  \\\n",
       "Date                                                                   \n",
       "2019-09-13     9855.48      10524.3           10311.5    2.28991e+10   \n",
       "2019-09-14     10086.7      10452.6           10374.3    2.02282e+10   \n",
       "2019-09-15     10119.1      10487.1           10231.7     1.3778e+10   \n",
       "2019-09-16     10313.2      10916.1           10345.8    1.29998e+10   \n",
       "2019-09-17       10619        10947           10916.1    1.60383e+10   \n",
       "...                ...          ...               ...            ...   \n",
       "2020-08-08     9199.49      9293.53           9278.81      1.686e+10   \n",
       "2020-08-09     9197.45      9319.42           9240.35    1.32499e+10   \n",
       "2020-08-10     9224.29      9306.41            9276.5    1.44524e+10   \n",
       "2020-08-11     9171.66      9283.84           9243.61    1.75198e+10   \n",
       "2020-08-12     9171.93      9275.33           9243.21     1.8085e+10   \n",
       "\n",
       "           Close_Past_30 Open_Past_30 Low_Past_30 High_Past_30  \n",
       "Date                                                            \n",
       "2019-09-13       10311.5      10038.4     9675.32      10437.4  \n",
       "2019-09-14       10374.3      10319.4     9855.48      10524.3  \n",
       "2019-09-15       10231.7      10358.7     10086.7      10452.6  \n",
       "2019-09-16       10345.8        10233     10119.1      10487.1  \n",
       "2019-09-17       10916.1      10350.3     10313.2      10916.1  \n",
       "...                  ...          ...         ...          ...  \n",
       "2020-08-08       9278.81      9273.36        9118      9287.47  \n",
       "2020-08-09       9240.35      9277.51     9199.49      9293.53  \n",
       "2020-08-10        9276.5      9241.05     9197.45      9319.42  \n",
       "2020-08-11       9243.61      9277.21     9224.29      9306.41  \n",
       "2020-08-12       9243.21       9238.7     9171.66      9283.84  \n",
       "\n",
       "[333 rows x 186 columns]"
      ]
     },
     "execution_count": 3,
     "metadata": {},
     "output_type": "execute_result"
    }
   ],
   "source": [
    "def createLookBackCols():\n",
    "    for i in range(LOOK_BACK_DAYS):\n",
    "        num_rows= btc_df.shape[0]\n",
    "        num_cols= btc_df.shape[1]\n",
    "        btc_df.insert(loc = num_cols, column = 'High_Past_' + str(i + 1), value = ['N/A'] * num_rows)\n",
    "        btc_df.insert(loc = num_cols, column = 'Low_Past_' + str(i + 1), value = ['N/A'] * num_rows)\n",
    "        btc_df.insert(loc = num_cols, column = 'Open_Past_' + str(i + 1), value = ['N/A'] * num_rows)\n",
    "        btc_df.insert(loc = num_cols, column = 'Close_Past_' + str(i + 1), value = ['N/A'] * num_rows)\n",
    "        btc_df.insert(loc = num_cols, column = 'Volume_Past_' + str(i + 1), value = ['N/A'] * num_rows)\n",
    "        btc_df.insert(loc = num_cols, column = 'Adj Close_Past_' + str(i + 1), value = ['N/A'] * num_rows)\n",
    "        \n",
    "createLookBackCols() #create additional look back columns\n",
    "btc_df = btc_df.loc[~btc_df.index.duplicated(keep='first')] #delete all duplicate indices\n",
    "\n",
    "for index, row in btc_df.iterrows():\n",
    "    current_date = index.to_pydatetime()\n",
    "    if (current_date - start_date).days >= LOOK_BACK_DAYS - 1:\n",
    "        for i in range(LOOK_BACK_DAYS):\n",
    "            index = i + 1\n",
    "            look_back_date = current_date - timedelta(days=index)\n",
    "            \n",
    "            while True: #we need to keep subtracting days to the look_back_date because there is no index for that day\n",
    "                if look_back_date in btc_df.index:\n",
    "                    break\n",
    "                look_back_date = look_back_date - timedelta(days=1)\n",
    "            \n",
    "            btc_df.at[pd.Timestamp(current_date), 'High_Past_' + str(index)] = btc_df.at[pd.Timestamp(look_back_date), 'High']\n",
    "            btc_df.at[pd.Timestamp(current_date), 'Low_Past_' + str(index)] = btc_df.at[pd.Timestamp(look_back_date), 'Low']\n",
    "            btc_df.at[pd.Timestamp(current_date), 'Open_Past_' + str(index)] = btc_df.at[pd.Timestamp(look_back_date), 'Open']\n",
    "            btc_df.at[pd.Timestamp(current_date), 'Close_Past_' + str(index)] = btc_df.at[pd.Timestamp(look_back_date), 'Close']\n",
    "            btc_df.at[pd.Timestamp(current_date), 'Volume_Past_' + str(index)] = btc_df.at[pd.Timestamp(look_back_date), 'Volume']\n",
    "            btc_df.at[pd.Timestamp(current_date), 'Adj Close_Past_' + str(index)] = btc_df.at[pd.Timestamp(look_back_date), 'Adj Close']\n",
    "\n",
    "btc_df = btc_df[btc_df.High_Past_1 != 'N/A']\n",
    "btc_df"
   ]
  },
  {
   "cell_type": "code",
   "execution_count": 4,
   "metadata": {},
   "outputs": [
    {
     "data": {
      "text/html": [
       "<div>\n",
       "<style scoped>\n",
       "    .dataframe tbody tr th:only-of-type {\n",
       "        vertical-align: middle;\n",
       "    }\n",
       "\n",
       "    .dataframe tbody tr th {\n",
       "        vertical-align: top;\n",
       "    }\n",
       "\n",
       "    .dataframe thead th {\n",
       "        text-align: right;\n",
       "    }\n",
       "</style>\n",
       "<table border=\"1\" class=\"dataframe\">\n",
       "  <thead>\n",
       "    <tr style=\"text-align: right;\">\n",
       "      <th></th>\n",
       "      <th>High</th>\n",
       "      <th>Low</th>\n",
       "      <th>Open</th>\n",
       "      <th>Close</th>\n",
       "      <th>Volume</th>\n",
       "      <th>Adj Close</th>\n",
       "      <th>Adj Close_Past_1</th>\n",
       "      <th>Volume_Past_1</th>\n",
       "      <th>Close_Past_1</th>\n",
       "      <th>Open_Past_1</th>\n",
       "      <th>...</th>\n",
       "      <th>Open_Past_29</th>\n",
       "      <th>Low_Past_29</th>\n",
       "      <th>High_Past_29</th>\n",
       "      <th>Adj Close_Past_30</th>\n",
       "      <th>Volume_Past_30</th>\n",
       "      <th>Close_Past_30</th>\n",
       "      <th>Open_Past_30</th>\n",
       "      <th>Low_Past_30</th>\n",
       "      <th>High_Past_30</th>\n",
       "      <th>MonthTrend</th>\n",
       "    </tr>\n",
       "    <tr>\n",
       "      <th>Date</th>\n",
       "      <th></th>\n",
       "      <th></th>\n",
       "      <th></th>\n",
       "      <th></th>\n",
       "      <th></th>\n",
       "      <th></th>\n",
       "      <th></th>\n",
       "      <th></th>\n",
       "      <th></th>\n",
       "      <th></th>\n",
       "      <th></th>\n",
       "      <th></th>\n",
       "      <th></th>\n",
       "      <th></th>\n",
       "      <th></th>\n",
       "      <th></th>\n",
       "      <th></th>\n",
       "      <th></th>\n",
       "      <th></th>\n",
       "      <th></th>\n",
       "      <th></th>\n",
       "    </tr>\n",
       "  </thead>\n",
       "  <tbody>\n",
       "    <tr>\n",
       "      <td>2019-09-14</td>\n",
       "      <td>10387.035156</td>\n",
       "      <td>10313.092773</td>\n",
       "      <td>10356.465820</td>\n",
       "      <td>10347.712891</td>\n",
       "      <td>1.204343e+10</td>\n",
       "      <td>10347.712891</td>\n",
       "      <td>10358</td>\n",
       "      <td>1.34687e+10</td>\n",
       "      <td>10358</td>\n",
       "      <td>10345.4</td>\n",
       "      <td>...</td>\n",
       "      <td>10358.7</td>\n",
       "      <td>10086.7</td>\n",
       "      <td>10452.6</td>\n",
       "      <td>10374.3</td>\n",
       "      <td>2.02282e+10</td>\n",
       "      <td>10374.3</td>\n",
       "      <td>10319.4</td>\n",
       "      <td>9855.48</td>\n",
       "      <td>10524.3</td>\n",
       "      <td>UP</td>\n",
       "    </tr>\n",
       "    <tr>\n",
       "      <td>2019-09-15</td>\n",
       "      <td>10386.867188</td>\n",
       "      <td>10189.744141</td>\n",
       "      <td>10347.222656</td>\n",
       "      <td>10276.793945</td>\n",
       "      <td>1.516017e+10</td>\n",
       "      <td>10276.793945</td>\n",
       "      <td>10347.7</td>\n",
       "      <td>1.20434e+10</td>\n",
       "      <td>10347.7</td>\n",
       "      <td>10356.5</td>\n",
       "      <td>...</td>\n",
       "      <td>10233</td>\n",
       "      <td>10119.1</td>\n",
       "      <td>10487.1</td>\n",
       "      <td>10231.7</td>\n",
       "      <td>1.3778e+10</td>\n",
       "      <td>10231.7</td>\n",
       "      <td>10358.7</td>\n",
       "      <td>10086.7</td>\n",
       "      <td>10452.6</td>\n",
       "      <td>DOWN</td>\n",
       "    </tr>\n",
       "    <tr>\n",
       "      <td>2019-09-16</td>\n",
       "      <td>10296.771484</td>\n",
       "      <td>10199.739258</td>\n",
       "      <td>10281.513672</td>\n",
       "      <td>10241.272461</td>\n",
       "      <td>1.530460e+10</td>\n",
       "      <td>10241.272461</td>\n",
       "      <td>10276.8</td>\n",
       "      <td>1.51602e+10</td>\n",
       "      <td>10276.8</td>\n",
       "      <td>10347.2</td>\n",
       "      <td>...</td>\n",
       "      <td>10350.3</td>\n",
       "      <td>10313.2</td>\n",
       "      <td>10916.1</td>\n",
       "      <td>10345.8</td>\n",
       "      <td>1.29998e+10</td>\n",
       "      <td>10345.8</td>\n",
       "      <td>10233</td>\n",
       "      <td>10119.1</td>\n",
       "      <td>10487.1</td>\n",
       "      <td>DOWN</td>\n",
       "    </tr>\n",
       "    <tr>\n",
       "      <td>2019-09-17</td>\n",
       "      <td>10275.928711</td>\n",
       "      <td>10191.469727</td>\n",
       "      <td>10247.795898</td>\n",
       "      <td>10198.248047</td>\n",
       "      <td>1.616927e+10</td>\n",
       "      <td>10198.248047</td>\n",
       "      <td>10241.3</td>\n",
       "      <td>1.53046e+10</td>\n",
       "      <td>10241.3</td>\n",
       "      <td>10281.5</td>\n",
       "      <td>...</td>\n",
       "      <td>10916.3</td>\n",
       "      <td>10619</td>\n",
       "      <td>10947</td>\n",
       "      <td>10916.1</td>\n",
       "      <td>1.60383e+10</td>\n",
       "      <td>10916.1</td>\n",
       "      <td>10350.3</td>\n",
       "      <td>10313.2</td>\n",
       "      <td>10916.1</td>\n",
       "      <td>DOWN</td>\n",
       "    </tr>\n",
       "    <tr>\n",
       "      <td>2019-09-18</td>\n",
       "      <td>10295.668945</td>\n",
       "      <td>9851.692383</td>\n",
       "      <td>10200.496094</td>\n",
       "      <td>10266.415039</td>\n",
       "      <td>1.993769e+10</td>\n",
       "      <td>10266.415039</td>\n",
       "      <td>10198.2</td>\n",
       "      <td>1.61693e+10</td>\n",
       "      <td>10198.2</td>\n",
       "      <td>10247.8</td>\n",
       "      <td>...</td>\n",
       "      <td>10764.6</td>\n",
       "      <td>9962.72</td>\n",
       "      <td>10798.7</td>\n",
       "      <td>10763.2</td>\n",
       "      <td>1.50531e+10</td>\n",
       "      <td>10763.2</td>\n",
       "      <td>10916.3</td>\n",
       "      <td>10619</td>\n",
       "      <td>10947</td>\n",
       "      <td>DOWN</td>\n",
       "    </tr>\n",
       "    <tr>\n",
       "      <td>...</td>\n",
       "      <td>...</td>\n",
       "      <td>...</td>\n",
       "      <td>...</td>\n",
       "      <td>...</td>\n",
       "      <td>...</td>\n",
       "      <td>...</td>\n",
       "      <td>...</td>\n",
       "      <td>...</td>\n",
       "      <td>...</td>\n",
       "      <td>...</td>\n",
       "      <td>...</td>\n",
       "      <td>...</td>\n",
       "      <td>...</td>\n",
       "      <td>...</td>\n",
       "      <td>...</td>\n",
       "      <td>...</td>\n",
       "      <td>...</td>\n",
       "      <td>...</td>\n",
       "      <td>...</td>\n",
       "      <td>...</td>\n",
       "      <td>...</td>\n",
       "    </tr>\n",
       "    <tr>\n",
       "      <td>2020-08-07</td>\n",
       "      <td>11800.064453</td>\n",
       "      <td>11558.431641</td>\n",
       "      <td>11604.553711</td>\n",
       "      <td>11754.045898</td>\n",
       "      <td>1.757206e+10</td>\n",
       "      <td>11754.045898</td>\n",
       "      <td>11601.5</td>\n",
       "      <td>2.31323e+10</td>\n",
       "      <td>11601.5</td>\n",
       "      <td>11778.9</td>\n",
       "      <td>...</td>\n",
       "      <td>9273.36</td>\n",
       "      <td>9118</td>\n",
       "      <td>9287.47</td>\n",
       "      <td>9277.97</td>\n",
       "      <td>1.80007e+10</td>\n",
       "      <td>9277.97</td>\n",
       "      <td>9427.99</td>\n",
       "      <td>9235</td>\n",
       "      <td>9431.38</td>\n",
       "      <td>DOWN</td>\n",
       "    </tr>\n",
       "    <tr>\n",
       "      <td>2020-08-08</td>\n",
       "      <td>11806.056641</td>\n",
       "      <td>11548.784180</td>\n",
       "      <td>11737.325195</td>\n",
       "      <td>11675.739258</td>\n",
       "      <td>1.748961e+10</td>\n",
       "      <td>11675.739258</td>\n",
       "      <td>11754</td>\n",
       "      <td>1.75721e+10</td>\n",
       "      <td>11754</td>\n",
       "      <td>11604.6</td>\n",
       "      <td>...</td>\n",
       "      <td>9277.51</td>\n",
       "      <td>9199.49</td>\n",
       "      <td>9293.53</td>\n",
       "      <td>9278.81</td>\n",
       "      <td>1.686e+10</td>\n",
       "      <td>9278.81</td>\n",
       "      <td>9273.36</td>\n",
       "      <td>9118</td>\n",
       "      <td>9287.47</td>\n",
       "      <td>UP</td>\n",
       "    </tr>\n",
       "    <tr>\n",
       "      <td>2020-08-09</td>\n",
       "      <td>12045.140625</td>\n",
       "      <td>11662.256836</td>\n",
       "      <td>11662.256836</td>\n",
       "      <td>11878.111328</td>\n",
       "      <td>2.611411e+10</td>\n",
       "      <td>11878.111328</td>\n",
       "      <td>11675.7</td>\n",
       "      <td>1.74896e+10</td>\n",
       "      <td>11675.7</td>\n",
       "      <td>11737.3</td>\n",
       "      <td>...</td>\n",
       "      <td>9241.05</td>\n",
       "      <td>9197.45</td>\n",
       "      <td>9319.42</td>\n",
       "      <td>9240.35</td>\n",
       "      <td>1.32499e+10</td>\n",
       "      <td>9240.35</td>\n",
       "      <td>9277.51</td>\n",
       "      <td>9199.49</td>\n",
       "      <td>9293.53</td>\n",
       "      <td>DOWN</td>\n",
       "    </tr>\n",
       "    <tr>\n",
       "      <td>2020-08-10</td>\n",
       "      <td>11932.710938</td>\n",
       "      <td>11195.708984</td>\n",
       "      <td>11881.647461</td>\n",
       "      <td>11410.525391</td>\n",
       "      <td>2.703978e+10</td>\n",
       "      <td>11410.525391</td>\n",
       "      <td>11878.1</td>\n",
       "      <td>2.61141e+10</td>\n",
       "      <td>11878.1</td>\n",
       "      <td>11662.3</td>\n",
       "      <td>...</td>\n",
       "      <td>9277.21</td>\n",
       "      <td>9224.29</td>\n",
       "      <td>9306.41</td>\n",
       "      <td>9276.5</td>\n",
       "      <td>1.44524e+10</td>\n",
       "      <td>9276.5</td>\n",
       "      <td>9241.05</td>\n",
       "      <td>9197.45</td>\n",
       "      <td>9319.42</td>\n",
       "      <td>UP</td>\n",
       "    </tr>\n",
       "    <tr>\n",
       "      <td>2020-08-11</td>\n",
       "      <td>11748.396484</td>\n",
       "      <td>11249.605469</td>\n",
       "      <td>11404.596680</td>\n",
       "      <td>11584.934570</td>\n",
       "      <td>2.506455e+10</td>\n",
       "      <td>11584.934570</td>\n",
       "      <td>11410.5</td>\n",
       "      <td>2.70398e+10</td>\n",
       "      <td>11410.5</td>\n",
       "      <td>11881.6</td>\n",
       "      <td>...</td>\n",
       "      <td>9238.7</td>\n",
       "      <td>9171.66</td>\n",
       "      <td>9283.84</td>\n",
       "      <td>9243.61</td>\n",
       "      <td>1.75198e+10</td>\n",
       "      <td>9243.61</td>\n",
       "      <td>9277.21</td>\n",
       "      <td>9224.29</td>\n",
       "      <td>9306.41</td>\n",
       "      <td>DOWN</td>\n",
       "    </tr>\n",
       "  </tbody>\n",
       "</table>\n",
       "<p>331 rows × 187 columns</p>\n",
       "</div>"
      ],
      "text/plain": [
       "                    High           Low          Open         Close  \\\n",
       "Date                                                                 \n",
       "2019-09-14  10387.035156  10313.092773  10356.465820  10347.712891   \n",
       "2019-09-15  10386.867188  10189.744141  10347.222656  10276.793945   \n",
       "2019-09-16  10296.771484  10199.739258  10281.513672  10241.272461   \n",
       "2019-09-17  10275.928711  10191.469727  10247.795898  10198.248047   \n",
       "2019-09-18  10295.668945   9851.692383  10200.496094  10266.415039   \n",
       "...                  ...           ...           ...           ...   \n",
       "2020-08-07  11800.064453  11558.431641  11604.553711  11754.045898   \n",
       "2020-08-08  11806.056641  11548.784180  11737.325195  11675.739258   \n",
       "2020-08-09  12045.140625  11662.256836  11662.256836  11878.111328   \n",
       "2020-08-10  11932.710938  11195.708984  11881.647461  11410.525391   \n",
       "2020-08-11  11748.396484  11249.605469  11404.596680  11584.934570   \n",
       "\n",
       "                  Volume     Adj Close Adj Close_Past_1 Volume_Past_1  \\\n",
       "Date                                                                    \n",
       "2019-09-14  1.204343e+10  10347.712891            10358   1.34687e+10   \n",
       "2019-09-15  1.516017e+10  10276.793945          10347.7   1.20434e+10   \n",
       "2019-09-16  1.530460e+10  10241.272461          10276.8   1.51602e+10   \n",
       "2019-09-17  1.616927e+10  10198.248047          10241.3   1.53046e+10   \n",
       "2019-09-18  1.993769e+10  10266.415039          10198.2   1.61693e+10   \n",
       "...                  ...           ...              ...           ...   \n",
       "2020-08-07  1.757206e+10  11754.045898          11601.5   2.31323e+10   \n",
       "2020-08-08  1.748961e+10  11675.739258            11754   1.75721e+10   \n",
       "2020-08-09  2.611411e+10  11878.111328          11675.7   1.74896e+10   \n",
       "2020-08-10  2.703978e+10  11410.525391          11878.1   2.61141e+10   \n",
       "2020-08-11  2.506455e+10  11584.934570          11410.5   2.70398e+10   \n",
       "\n",
       "           Close_Past_1 Open_Past_1  ... Open_Past_29 Low_Past_29  \\\n",
       "Date                                 ...                            \n",
       "2019-09-14        10358     10345.4  ...      10358.7     10086.7   \n",
       "2019-09-15      10347.7     10356.5  ...        10233     10119.1   \n",
       "2019-09-16      10276.8     10347.2  ...      10350.3     10313.2   \n",
       "2019-09-17      10241.3     10281.5  ...      10916.3       10619   \n",
       "2019-09-18      10198.2     10247.8  ...      10764.6     9962.72   \n",
       "...                 ...         ...  ...          ...         ...   \n",
       "2020-08-07      11601.5     11778.9  ...      9273.36        9118   \n",
       "2020-08-08        11754     11604.6  ...      9277.51     9199.49   \n",
       "2020-08-09      11675.7     11737.3  ...      9241.05     9197.45   \n",
       "2020-08-10      11878.1     11662.3  ...      9277.21     9224.29   \n",
       "2020-08-11      11410.5     11881.6  ...       9238.7     9171.66   \n",
       "\n",
       "           High_Past_29 Adj Close_Past_30 Volume_Past_30 Close_Past_30  \\\n",
       "Date                                                                     \n",
       "2019-09-14      10452.6           10374.3    2.02282e+10       10374.3   \n",
       "2019-09-15      10487.1           10231.7     1.3778e+10       10231.7   \n",
       "2019-09-16      10916.1           10345.8    1.29998e+10       10345.8   \n",
       "2019-09-17        10947           10916.1    1.60383e+10       10916.1   \n",
       "2019-09-18      10798.7           10763.2    1.50531e+10       10763.2   \n",
       "...                 ...               ...            ...           ...   \n",
       "2020-08-07      9287.47           9277.97    1.80007e+10       9277.97   \n",
       "2020-08-08      9293.53           9278.81      1.686e+10       9278.81   \n",
       "2020-08-09      9319.42           9240.35    1.32499e+10       9240.35   \n",
       "2020-08-10      9306.41            9276.5    1.44524e+10        9276.5   \n",
       "2020-08-11      9283.84           9243.61    1.75198e+10       9243.61   \n",
       "\n",
       "           Open_Past_30 Low_Past_30 High_Past_30 MonthTrend  \n",
       "Date                                                         \n",
       "2019-09-14      10319.4     9855.48      10524.3         UP  \n",
       "2019-09-15      10358.7     10086.7      10452.6       DOWN  \n",
       "2019-09-16        10233     10119.1      10487.1       DOWN  \n",
       "2019-09-17      10350.3     10313.2      10916.1       DOWN  \n",
       "2019-09-18      10916.3       10619        10947       DOWN  \n",
       "...                 ...         ...          ...        ...  \n",
       "2020-08-07      9427.99        9235      9431.38       DOWN  \n",
       "2020-08-08      9273.36        9118      9287.47         UP  \n",
       "2020-08-09      9277.51     9199.49      9293.53       DOWN  \n",
       "2020-08-10      9241.05     9197.45      9319.42         UP  \n",
       "2020-08-11      9277.21     9224.29      9306.41       DOWN  \n",
       "\n",
       "[331 rows x 187 columns]"
      ]
     },
     "execution_count": 4,
     "metadata": {},
     "output_type": "execute_result"
    }
   ],
   "source": [
    "btc_df = btc_df.assign(MonthTrend=lambda x: \"N/A\") #introduce new column that will be the trend we are predicting\n",
    "btc_df = btc_df.loc[~btc_df.index.duplicated(keep='first')] #delete all duplicate indices\n",
    "\n",
    "#Populate the classification column MonthTrend\n",
    "for index, row in btc_df.iterrows():\n",
    "    current_date = index.to_pydatetime()\n",
    "   \n",
    "    if (end_date - current_date).days > LOOK_AHEAD_DAYS:\n",
    "        look_ahead_date = current_date + timedelta(days=LOOK_AHEAD_DAYS)\n",
    "        \n",
    "        while True: #we need to keep adding days to the look_ahead_date because there is no index for that day\n",
    "            if look_ahead_date in btc_df.index:\n",
    "                break\n",
    "            look_ahead_date = look_ahead_date + timedelta(days=1)\n",
    "        \n",
    "        #Here we check if the open price in the future is higher than today's open price.\n",
    "        if btc_df.loc[pd.Timestamp(look_ahead_date)]['Open'] > btc_df.loc[index]['Open']:\n",
    "            btc_df.at[pd.Timestamp(look_ahead_date), 'MonthTrend'] = 'UP'\n",
    "        else:\n",
    "            btc_df.at[pd.Timestamp(look_ahead_date), 'MonthTrend'] = 'DOWN'\n",
    "            \n",
    "#Now delete all columns that have a MonthTrend value of N/A\n",
    "btc_df = btc_df[btc_df.MonthTrend != 'N/A']\n",
    "\n",
    "#Data is now fully processed and ready to be trained on the machine learning model\n",
    "#There are 3 values for MonthTrend: UP, DOWN,NEUTRAL\n",
    "btc_df"
   ]
  },
  {
   "cell_type": "code",
   "execution_count": 5,
   "metadata": {},
   "outputs": [
    {
     "data": {
      "text/html": [
       "<div>\n",
       "<style scoped>\n",
       "    .dataframe tbody tr th:only-of-type {\n",
       "        vertical-align: middle;\n",
       "    }\n",
       "\n",
       "    .dataframe tbody tr th {\n",
       "        vertical-align: top;\n",
       "    }\n",
       "\n",
       "    .dataframe thead th {\n",
       "        text-align: right;\n",
       "    }\n",
       "</style>\n",
       "<table border=\"1\" class=\"dataframe\">\n",
       "  <thead>\n",
       "    <tr style=\"text-align: right;\">\n",
       "      <th></th>\n",
       "      <th>Close</th>\n",
       "      <th>Close_Past_1</th>\n",
       "      <th>Close_Past_2</th>\n",
       "      <th>Close_Past_3</th>\n",
       "      <th>Close_Past_4</th>\n",
       "      <th>Close_Past_5</th>\n",
       "      <th>Close_Past_6</th>\n",
       "      <th>Close_Past_7</th>\n",
       "      <th>Close_Past_8</th>\n",
       "      <th>Close_Past_9</th>\n",
       "      <th>...</th>\n",
       "      <th>Open_Past_22</th>\n",
       "      <th>Open_Past_23</th>\n",
       "      <th>Open_Past_24</th>\n",
       "      <th>Open_Past_25</th>\n",
       "      <th>Open_Past_26</th>\n",
       "      <th>Open_Past_27</th>\n",
       "      <th>Open_Past_28</th>\n",
       "      <th>Open_Past_29</th>\n",
       "      <th>Open_Past_30</th>\n",
       "      <th>MonthTrend</th>\n",
       "    </tr>\n",
       "    <tr>\n",
       "      <th>Date</th>\n",
       "      <th></th>\n",
       "      <th></th>\n",
       "      <th></th>\n",
       "      <th></th>\n",
       "      <th></th>\n",
       "      <th></th>\n",
       "      <th></th>\n",
       "      <th></th>\n",
       "      <th></th>\n",
       "      <th></th>\n",
       "      <th></th>\n",
       "      <th></th>\n",
       "      <th></th>\n",
       "      <th></th>\n",
       "      <th></th>\n",
       "      <th></th>\n",
       "      <th></th>\n",
       "      <th></th>\n",
       "      <th></th>\n",
       "      <th></th>\n",
       "      <th></th>\n",
       "    </tr>\n",
       "  </thead>\n",
       "  <tbody>\n",
       "    <tr>\n",
       "      <td>2019-09-14</td>\n",
       "      <td>10347.712891</td>\n",
       "      <td>10358</td>\n",
       "      <td>10360.5</td>\n",
       "      <td>10410.1</td>\n",
       "      <td>10178.4</td>\n",
       "      <td>10116</td>\n",
       "      <td>10335</td>\n",
       "      <td>10441.3</td>\n",
       "      <td>10517.3</td>\n",
       "      <td>10353.3</td>\n",
       "      <td>...</td>\n",
       "      <td>10407.6</td>\n",
       "      <td>10136.3</td>\n",
       "      <td>10142.5</td>\n",
       "      <td>10764.6</td>\n",
       "      <td>10916.3</td>\n",
       "      <td>10350.3</td>\n",
       "      <td>10233</td>\n",
       "      <td>10358.7</td>\n",
       "      <td>10319.4</td>\n",
       "      <td>UP</td>\n",
       "    </tr>\n",
       "    <tr>\n",
       "      <td>2019-09-15</td>\n",
       "      <td>10276.793945</td>\n",
       "      <td>10347.7</td>\n",
       "      <td>10358</td>\n",
       "      <td>10360.5</td>\n",
       "      <td>10410.1</td>\n",
       "      <td>10178.4</td>\n",
       "      <td>10116</td>\n",
       "      <td>10335</td>\n",
       "      <td>10441.3</td>\n",
       "      <td>10517.3</td>\n",
       "      <td>...</td>\n",
       "      <td>10160.7</td>\n",
       "      <td>10407.6</td>\n",
       "      <td>10136.3</td>\n",
       "      <td>10142.5</td>\n",
       "      <td>10764.6</td>\n",
       "      <td>10916.3</td>\n",
       "      <td>10350.3</td>\n",
       "      <td>10233</td>\n",
       "      <td>10358.7</td>\n",
       "      <td>DOWN</td>\n",
       "    </tr>\n",
       "    <tr>\n",
       "      <td>2019-09-16</td>\n",
       "      <td>10241.272461</td>\n",
       "      <td>10276.8</td>\n",
       "      <td>10347.7</td>\n",
       "      <td>10358</td>\n",
       "      <td>10360.5</td>\n",
       "      <td>10410.1</td>\n",
       "      <td>10178.4</td>\n",
       "      <td>10116</td>\n",
       "      <td>10335</td>\n",
       "      <td>10441.3</td>\n",
       "      <td>...</td>\n",
       "      <td>10126.3</td>\n",
       "      <td>10160.7</td>\n",
       "      <td>10407.6</td>\n",
       "      <td>10136.3</td>\n",
       "      <td>10142.5</td>\n",
       "      <td>10764.6</td>\n",
       "      <td>10916.3</td>\n",
       "      <td>10350.3</td>\n",
       "      <td>10233</td>\n",
       "      <td>DOWN</td>\n",
       "    </tr>\n",
       "    <tr>\n",
       "      <td>2019-09-17</td>\n",
       "      <td>10198.248047</td>\n",
       "      <td>10241.3</td>\n",
       "      <td>10276.8</td>\n",
       "      <td>10347.7</td>\n",
       "      <td>10358</td>\n",
       "      <td>10360.5</td>\n",
       "      <td>10410.1</td>\n",
       "      <td>10178.4</td>\n",
       "      <td>10116</td>\n",
       "      <td>10335</td>\n",
       "      <td>...</td>\n",
       "      <td>10372.8</td>\n",
       "      <td>10126.3</td>\n",
       "      <td>10160.7</td>\n",
       "      <td>10407.6</td>\n",
       "      <td>10136.3</td>\n",
       "      <td>10142.5</td>\n",
       "      <td>10764.6</td>\n",
       "      <td>10916.3</td>\n",
       "      <td>10350.3</td>\n",
       "      <td>DOWN</td>\n",
       "    </tr>\n",
       "    <tr>\n",
       "      <td>2019-09-18</td>\n",
       "      <td>10266.415039</td>\n",
       "      <td>10198.2</td>\n",
       "      <td>10241.3</td>\n",
       "      <td>10276.8</td>\n",
       "      <td>10347.7</td>\n",
       "      <td>10358</td>\n",
       "      <td>10360.5</td>\n",
       "      <td>10410.1</td>\n",
       "      <td>10178.4</td>\n",
       "      <td>10116</td>\n",
       "      <td>...</td>\n",
       "      <td>10203.4</td>\n",
       "      <td>10372.8</td>\n",
       "      <td>10126.3</td>\n",
       "      <td>10160.7</td>\n",
       "      <td>10407.6</td>\n",
       "      <td>10136.3</td>\n",
       "      <td>10142.5</td>\n",
       "      <td>10764.6</td>\n",
       "      <td>10916.3</td>\n",
       "      <td>DOWN</td>\n",
       "    </tr>\n",
       "    <tr>\n",
       "      <td>...</td>\n",
       "      <td>...</td>\n",
       "      <td>...</td>\n",
       "      <td>...</td>\n",
       "      <td>...</td>\n",
       "      <td>...</td>\n",
       "      <td>...</td>\n",
       "      <td>...</td>\n",
       "      <td>...</td>\n",
       "      <td>...</td>\n",
       "      <td>...</td>\n",
       "      <td>...</td>\n",
       "      <td>...</td>\n",
       "      <td>...</td>\n",
       "      <td>...</td>\n",
       "      <td>...</td>\n",
       "      <td>...</td>\n",
       "      <td>...</td>\n",
       "      <td>...</td>\n",
       "      <td>...</td>\n",
       "      <td>...</td>\n",
       "      <td>...</td>\n",
       "    </tr>\n",
       "    <tr>\n",
       "      <td>2020-08-07</td>\n",
       "      <td>11754.045898</td>\n",
       "      <td>11601.5</td>\n",
       "      <td>11779.8</td>\n",
       "      <td>11747</td>\n",
       "      <td>11246.3</td>\n",
       "      <td>11246.3</td>\n",
       "      <td>11053.6</td>\n",
       "      <td>11759.6</td>\n",
       "      <td>11323.5</td>\n",
       "      <td>11111.2</td>\n",
       "      <td>...</td>\n",
       "      <td>9131.81</td>\n",
       "      <td>9191.98</td>\n",
       "      <td>9241.9</td>\n",
       "      <td>9238.7</td>\n",
       "      <td>9277.21</td>\n",
       "      <td>9241.05</td>\n",
       "      <td>9277.51</td>\n",
       "      <td>9273.36</td>\n",
       "      <td>9427.99</td>\n",
       "      <td>DOWN</td>\n",
       "    </tr>\n",
       "    <tr>\n",
       "      <td>2020-08-08</td>\n",
       "      <td>11675.739258</td>\n",
       "      <td>11754</td>\n",
       "      <td>11601.5</td>\n",
       "      <td>11779.8</td>\n",
       "      <td>11747</td>\n",
       "      <td>11246.3</td>\n",
       "      <td>11246.3</td>\n",
       "      <td>11053.6</td>\n",
       "      <td>11759.6</td>\n",
       "      <td>11323.5</td>\n",
       "      <td>...</td>\n",
       "      <td>9151.18</td>\n",
       "      <td>9131.81</td>\n",
       "      <td>9191.98</td>\n",
       "      <td>9241.9</td>\n",
       "      <td>9238.7</td>\n",
       "      <td>9277.21</td>\n",
       "      <td>9241.05</td>\n",
       "      <td>9277.51</td>\n",
       "      <td>9273.36</td>\n",
       "      <td>UP</td>\n",
       "    </tr>\n",
       "    <tr>\n",
       "      <td>2020-08-09</td>\n",
       "      <td>11878.111328</td>\n",
       "      <td>11675.7</td>\n",
       "      <td>11754</td>\n",
       "      <td>11601.5</td>\n",
       "      <td>11779.8</td>\n",
       "      <td>11747</td>\n",
       "      <td>11246.3</td>\n",
       "      <td>11246.3</td>\n",
       "      <td>11053.6</td>\n",
       "      <td>11759.6</td>\n",
       "      <td>...</td>\n",
       "      <td>9158.01</td>\n",
       "      <td>9151.18</td>\n",
       "      <td>9131.81</td>\n",
       "      <td>9191.98</td>\n",
       "      <td>9241.9</td>\n",
       "      <td>9238.7</td>\n",
       "      <td>9277.21</td>\n",
       "      <td>9241.05</td>\n",
       "      <td>9277.51</td>\n",
       "      <td>DOWN</td>\n",
       "    </tr>\n",
       "    <tr>\n",
       "      <td>2020-08-10</td>\n",
       "      <td>11410.525391</td>\n",
       "      <td>11878.1</td>\n",
       "      <td>11675.7</td>\n",
       "      <td>11754</td>\n",
       "      <td>11601.5</td>\n",
       "      <td>11779.8</td>\n",
       "      <td>11747</td>\n",
       "      <td>11246.3</td>\n",
       "      <td>11246.3</td>\n",
       "      <td>11053.6</td>\n",
       "      <td>...</td>\n",
       "      <td>9187.22</td>\n",
       "      <td>9158.01</td>\n",
       "      <td>9151.18</td>\n",
       "      <td>9131.81</td>\n",
       "      <td>9191.98</td>\n",
       "      <td>9241.9</td>\n",
       "      <td>9238.7</td>\n",
       "      <td>9277.21</td>\n",
       "      <td>9241.05</td>\n",
       "      <td>UP</td>\n",
       "    </tr>\n",
       "    <tr>\n",
       "      <td>2020-08-11</td>\n",
       "      <td>11584.934570</td>\n",
       "      <td>11410.5</td>\n",
       "      <td>11878.1</td>\n",
       "      <td>11675.7</td>\n",
       "      <td>11754</td>\n",
       "      <td>11601.5</td>\n",
       "      <td>11779.8</td>\n",
       "      <td>11747</td>\n",
       "      <td>11246.3</td>\n",
       "      <td>11246.3</td>\n",
       "      <td>...</td>\n",
       "      <td>9162.51</td>\n",
       "      <td>9187.22</td>\n",
       "      <td>9158.01</td>\n",
       "      <td>9151.18</td>\n",
       "      <td>9131.81</td>\n",
       "      <td>9191.98</td>\n",
       "      <td>9241.9</td>\n",
       "      <td>9238.7</td>\n",
       "      <td>9277.21</td>\n",
       "      <td>DOWN</td>\n",
       "    </tr>\n",
       "  </tbody>\n",
       "</table>\n",
       "<p>331 rows × 63 columns</p>\n",
       "</div>"
      ],
      "text/plain": [
       "                   Close Close_Past_1 Close_Past_2 Close_Past_3 Close_Past_4  \\\n",
       "Date                                                                           \n",
       "2019-09-14  10347.712891        10358      10360.5      10410.1      10178.4   \n",
       "2019-09-15  10276.793945      10347.7        10358      10360.5      10410.1   \n",
       "2019-09-16  10241.272461      10276.8      10347.7        10358      10360.5   \n",
       "2019-09-17  10198.248047      10241.3      10276.8      10347.7        10358   \n",
       "2019-09-18  10266.415039      10198.2      10241.3      10276.8      10347.7   \n",
       "...                  ...          ...          ...          ...          ...   \n",
       "2020-08-07  11754.045898      11601.5      11779.8        11747      11246.3   \n",
       "2020-08-08  11675.739258        11754      11601.5      11779.8        11747   \n",
       "2020-08-09  11878.111328      11675.7        11754      11601.5      11779.8   \n",
       "2020-08-10  11410.525391      11878.1      11675.7        11754      11601.5   \n",
       "2020-08-11  11584.934570      11410.5      11878.1      11675.7        11754   \n",
       "\n",
       "           Close_Past_5 Close_Past_6 Close_Past_7 Close_Past_8 Close_Past_9  \\\n",
       "Date                                                                          \n",
       "2019-09-14        10116        10335      10441.3      10517.3      10353.3   \n",
       "2019-09-15      10178.4        10116        10335      10441.3      10517.3   \n",
       "2019-09-16      10410.1      10178.4        10116        10335      10441.3   \n",
       "2019-09-17      10360.5      10410.1      10178.4        10116        10335   \n",
       "2019-09-18        10358      10360.5      10410.1      10178.4        10116   \n",
       "...                 ...          ...          ...          ...          ...   \n",
       "2020-08-07      11246.3      11053.6      11759.6      11323.5      11111.2   \n",
       "2020-08-08      11246.3      11246.3      11053.6      11759.6      11323.5   \n",
       "2020-08-09        11747      11246.3      11246.3      11053.6      11759.6   \n",
       "2020-08-10      11779.8        11747      11246.3      11246.3      11053.6   \n",
       "2020-08-11      11601.5      11779.8        11747      11246.3      11246.3   \n",
       "\n",
       "            ... Open_Past_22 Open_Past_23 Open_Past_24 Open_Past_25  \\\n",
       "Date        ...                                                       \n",
       "2019-09-14  ...      10407.6      10136.3      10142.5      10764.6   \n",
       "2019-09-15  ...      10160.7      10407.6      10136.3      10142.5   \n",
       "2019-09-16  ...      10126.3      10160.7      10407.6      10136.3   \n",
       "2019-09-17  ...      10372.8      10126.3      10160.7      10407.6   \n",
       "2019-09-18  ...      10203.4      10372.8      10126.3      10160.7   \n",
       "...         ...          ...          ...          ...          ...   \n",
       "2020-08-07  ...      9131.81      9191.98       9241.9       9238.7   \n",
       "2020-08-08  ...      9151.18      9131.81      9191.98       9241.9   \n",
       "2020-08-09  ...      9158.01      9151.18      9131.81      9191.98   \n",
       "2020-08-10  ...      9187.22      9158.01      9151.18      9131.81   \n",
       "2020-08-11  ...      9162.51      9187.22      9158.01      9151.18   \n",
       "\n",
       "           Open_Past_26 Open_Past_27 Open_Past_28 Open_Past_29 Open_Past_30  \\\n",
       "Date                                                                          \n",
       "2019-09-14      10916.3      10350.3        10233      10358.7      10319.4   \n",
       "2019-09-15      10764.6      10916.3      10350.3        10233      10358.7   \n",
       "2019-09-16      10142.5      10764.6      10916.3      10350.3        10233   \n",
       "2019-09-17      10136.3      10142.5      10764.6      10916.3      10350.3   \n",
       "2019-09-18      10407.6      10136.3      10142.5      10764.6      10916.3   \n",
       "...                 ...          ...          ...          ...          ...   \n",
       "2020-08-07      9277.21      9241.05      9277.51      9273.36      9427.99   \n",
       "2020-08-08       9238.7      9277.21      9241.05      9277.51      9273.36   \n",
       "2020-08-09       9241.9       9238.7      9277.21      9241.05      9277.51   \n",
       "2020-08-10      9191.98       9241.9       9238.7      9277.21      9241.05   \n",
       "2020-08-11      9131.81      9191.98       9241.9       9238.7      9277.21   \n",
       "\n",
       "           MonthTrend  \n",
       "Date                   \n",
       "2019-09-14         UP  \n",
       "2019-09-15       DOWN  \n",
       "2019-09-16       DOWN  \n",
       "2019-09-17       DOWN  \n",
       "2019-09-18       DOWN  \n",
       "...               ...  \n",
       "2020-08-07       DOWN  \n",
       "2020-08-08         UP  \n",
       "2020-08-09       DOWN  \n",
       "2020-08-10         UP  \n",
       "2020-08-11       DOWN  \n",
       "\n",
       "[331 rows x 63 columns]"
      ]
     },
     "execution_count": 5,
     "metadata": {},
     "output_type": "execute_result"
    }
   ],
   "source": [
    "def generateFeatures(features):\n",
    "    complete_features = []\n",
    "    for feature in features:\n",
    "        complete_features.append(feature)\n",
    "        for i in range(LOOK_BACK_DAYS):\n",
    "            complete_features.append(feature + \"_Past_\" + str(i + 1))\n",
    "    return complete_features\n",
    "\n",
    "features = generateFeatures(['Close','Open'])\n",
    "features.append('MonthTrend')\n",
    "\n",
    "# selecting the important feature open close\n",
    "btc = btc_df[features]\n",
    "btc"
   ]
  },
  {
   "cell_type": "code",
   "execution_count": 6,
   "metadata": {},
   "outputs": [
    {
     "data": {
      "text/html": [
       "<div>\n",
       "<style scoped>\n",
       "    .dataframe tbody tr th:only-of-type {\n",
       "        vertical-align: middle;\n",
       "    }\n",
       "\n",
       "    .dataframe tbody tr th {\n",
       "        vertical-align: top;\n",
       "    }\n",
       "\n",
       "    .dataframe thead th {\n",
       "        text-align: right;\n",
       "    }\n",
       "</style>\n",
       "<table border=\"1\" class=\"dataframe\">\n",
       "  <thead>\n",
       "    <tr style=\"text-align: right;\">\n",
       "      <th></th>\n",
       "      <th>Close</th>\n",
       "      <th>Close_Past_1</th>\n",
       "      <th>Close_Past_2</th>\n",
       "      <th>Close_Past_3</th>\n",
       "      <th>Close_Past_4</th>\n",
       "      <th>Close_Past_5</th>\n",
       "      <th>Close_Past_6</th>\n",
       "      <th>Close_Past_7</th>\n",
       "      <th>Close_Past_8</th>\n",
       "      <th>Close_Past_9</th>\n",
       "      <th>...</th>\n",
       "      <th>Open_Past_25</th>\n",
       "      <th>Open_Past_26</th>\n",
       "      <th>Open_Past_27</th>\n",
       "      <th>Open_Past_28</th>\n",
       "      <th>Open_Past_29</th>\n",
       "      <th>Open_Past_30</th>\n",
       "      <th>MonthTrend</th>\n",
       "      <th>negative</th>\n",
       "      <th>neutral</th>\n",
       "      <th>positive</th>\n",
       "    </tr>\n",
       "    <tr>\n",
       "      <th>Date</th>\n",
       "      <th></th>\n",
       "      <th></th>\n",
       "      <th></th>\n",
       "      <th></th>\n",
       "      <th></th>\n",
       "      <th></th>\n",
       "      <th></th>\n",
       "      <th></th>\n",
       "      <th></th>\n",
       "      <th></th>\n",
       "      <th></th>\n",
       "      <th></th>\n",
       "      <th></th>\n",
       "      <th></th>\n",
       "      <th></th>\n",
       "      <th></th>\n",
       "      <th></th>\n",
       "      <th></th>\n",
       "      <th></th>\n",
       "      <th></th>\n",
       "      <th></th>\n",
       "    </tr>\n",
       "  </thead>\n",
       "  <tbody>\n",
       "    <tr>\n",
       "      <td>2019-09-14</td>\n",
       "      <td>10347.712891</td>\n",
       "      <td>10358</td>\n",
       "      <td>10360.5</td>\n",
       "      <td>10410.1</td>\n",
       "      <td>10178.4</td>\n",
       "      <td>10116</td>\n",
       "      <td>10335</td>\n",
       "      <td>10441.3</td>\n",
       "      <td>10517.3</td>\n",
       "      <td>10353.3</td>\n",
       "      <td>...</td>\n",
       "      <td>10764.6</td>\n",
       "      <td>10916.3</td>\n",
       "      <td>10350.3</td>\n",
       "      <td>10233</td>\n",
       "      <td>10358.7</td>\n",
       "      <td>10319.4</td>\n",
       "      <td>UP</td>\n",
       "      <td>0.0253</td>\n",
       "      <td>0.9104</td>\n",
       "      <td>0.0643</td>\n",
       "    </tr>\n",
       "    <tr>\n",
       "      <td>2019-09-15</td>\n",
       "      <td>10276.793945</td>\n",
       "      <td>10347.7</td>\n",
       "      <td>10358</td>\n",
       "      <td>10360.5</td>\n",
       "      <td>10410.1</td>\n",
       "      <td>10178.4</td>\n",
       "      <td>10116</td>\n",
       "      <td>10335</td>\n",
       "      <td>10441.3</td>\n",
       "      <td>10517.3</td>\n",
       "      <td>...</td>\n",
       "      <td>10142.5</td>\n",
       "      <td>10764.6</td>\n",
       "      <td>10916.3</td>\n",
       "      <td>10350.3</td>\n",
       "      <td>10233</td>\n",
       "      <td>10358.7</td>\n",
       "      <td>DOWN</td>\n",
       "      <td>0.0291676</td>\n",
       "      <td>0.881429</td>\n",
       "      <td>0.089403</td>\n",
       "    </tr>\n",
       "    <tr>\n",
       "      <td>2019-09-16</td>\n",
       "      <td>10241.272461</td>\n",
       "      <td>10276.8</td>\n",
       "      <td>10347.7</td>\n",
       "      <td>10358</td>\n",
       "      <td>10360.5</td>\n",
       "      <td>10410.1</td>\n",
       "      <td>10178.4</td>\n",
       "      <td>10116</td>\n",
       "      <td>10335</td>\n",
       "      <td>10441.3</td>\n",
       "      <td>...</td>\n",
       "      <td>10136.3</td>\n",
       "      <td>10142.5</td>\n",
       "      <td>10764.6</td>\n",
       "      <td>10916.3</td>\n",
       "      <td>10350.3</td>\n",
       "      <td>10233</td>\n",
       "      <td>DOWN</td>\n",
       "      <td>0.0371</td>\n",
       "      <td>0.894067</td>\n",
       "      <td>0.0688333</td>\n",
       "    </tr>\n",
       "    <tr>\n",
       "      <td>2019-09-17</td>\n",
       "      <td>10198.248047</td>\n",
       "      <td>10241.3</td>\n",
       "      <td>10276.8</td>\n",
       "      <td>10347.7</td>\n",
       "      <td>10358</td>\n",
       "      <td>10360.5</td>\n",
       "      <td>10410.1</td>\n",
       "      <td>10178.4</td>\n",
       "      <td>10116</td>\n",
       "      <td>10335</td>\n",
       "      <td>...</td>\n",
       "      <td>10407.6</td>\n",
       "      <td>10136.3</td>\n",
       "      <td>10142.5</td>\n",
       "      <td>10764.6</td>\n",
       "      <td>10916.3</td>\n",
       "      <td>10350.3</td>\n",
       "      <td>DOWN</td>\n",
       "      <td>0.0298333</td>\n",
       "      <td>0.8957</td>\n",
       "      <td>0.0744667</td>\n",
       "    </tr>\n",
       "    <tr>\n",
       "      <td>2019-09-18</td>\n",
       "      <td>10266.415039</td>\n",
       "      <td>10198.2</td>\n",
       "      <td>10241.3</td>\n",
       "      <td>10276.8</td>\n",
       "      <td>10347.7</td>\n",
       "      <td>10358</td>\n",
       "      <td>10360.5</td>\n",
       "      <td>10410.1</td>\n",
       "      <td>10178.4</td>\n",
       "      <td>10116</td>\n",
       "      <td>...</td>\n",
       "      <td>10160.7</td>\n",
       "      <td>10407.6</td>\n",
       "      <td>10136.3</td>\n",
       "      <td>10142.5</td>\n",
       "      <td>10764.6</td>\n",
       "      <td>10916.3</td>\n",
       "      <td>DOWN</td>\n",
       "      <td>0.042</td>\n",
       "      <td>0.8364</td>\n",
       "      <td>0.1216</td>\n",
       "    </tr>\n",
       "    <tr>\n",
       "      <td>...</td>\n",
       "      <td>...</td>\n",
       "      <td>...</td>\n",
       "      <td>...</td>\n",
       "      <td>...</td>\n",
       "      <td>...</td>\n",
       "      <td>...</td>\n",
       "      <td>...</td>\n",
       "      <td>...</td>\n",
       "      <td>...</td>\n",
       "      <td>...</td>\n",
       "      <td>...</td>\n",
       "      <td>...</td>\n",
       "      <td>...</td>\n",
       "      <td>...</td>\n",
       "      <td>...</td>\n",
       "      <td>...</td>\n",
       "      <td>...</td>\n",
       "      <td>...</td>\n",
       "      <td>...</td>\n",
       "      <td>...</td>\n",
       "      <td>...</td>\n",
       "    </tr>\n",
       "    <tr>\n",
       "      <td>2020-08-04</td>\n",
       "      <td>11747.022461</td>\n",
       "      <td>11246.3</td>\n",
       "      <td>11246.3</td>\n",
       "      <td>11053.6</td>\n",
       "      <td>11759.6</td>\n",
       "      <td>11323.5</td>\n",
       "      <td>11111.2</td>\n",
       "      <td>11100.5</td>\n",
       "      <td>10912.8</td>\n",
       "      <td>10990.9</td>\n",
       "      <td>...</td>\n",
       "      <td>9277.51</td>\n",
       "      <td>9273.36</td>\n",
       "      <td>9427.99</td>\n",
       "      <td>9253.02</td>\n",
       "      <td>9349.16</td>\n",
       "      <td>9072.85</td>\n",
       "      <td>UP</td>\n",
       "      <td>0.05575</td>\n",
       "      <td>0.8895</td>\n",
       "      <td>0.05475</td>\n",
       "    </tr>\n",
       "    <tr>\n",
       "      <td>2020-08-05</td>\n",
       "      <td>11779.773438</td>\n",
       "      <td>11747</td>\n",
       "      <td>11246.3</td>\n",
       "      <td>11246.3</td>\n",
       "      <td>11053.6</td>\n",
       "      <td>11759.6</td>\n",
       "      <td>11323.5</td>\n",
       "      <td>11111.2</td>\n",
       "      <td>11100.5</td>\n",
       "      <td>10912.8</td>\n",
       "      <td>...</td>\n",
       "      <td>9241.05</td>\n",
       "      <td>9277.51</td>\n",
       "      <td>9273.36</td>\n",
       "      <td>9427.99</td>\n",
       "      <td>9253.02</td>\n",
       "      <td>9349.16</td>\n",
       "      <td>UP</td>\n",
       "      <td>0.022</td>\n",
       "      <td>0.902368</td>\n",
       "      <td>0.0756316</td>\n",
       "    </tr>\n",
       "    <tr>\n",
       "      <td>2020-08-06</td>\n",
       "      <td>11601.472656</td>\n",
       "      <td>11779.8</td>\n",
       "      <td>11747</td>\n",
       "      <td>11246.3</td>\n",
       "      <td>11246.3</td>\n",
       "      <td>11053.6</td>\n",
       "      <td>11759.6</td>\n",
       "      <td>11323.5</td>\n",
       "      <td>11111.2</td>\n",
       "      <td>11100.5</td>\n",
       "      <td>...</td>\n",
       "      <td>9277.21</td>\n",
       "      <td>9241.05</td>\n",
       "      <td>9277.51</td>\n",
       "      <td>9273.36</td>\n",
       "      <td>9427.99</td>\n",
       "      <td>9253.02</td>\n",
       "      <td>UP</td>\n",
       "      <td>0.0257778</td>\n",
       "      <td>0.895</td>\n",
       "      <td>0.0792222</td>\n",
       "    </tr>\n",
       "    <tr>\n",
       "      <td>2020-08-07</td>\n",
       "      <td>11754.045898</td>\n",
       "      <td>11601.5</td>\n",
       "      <td>11779.8</td>\n",
       "      <td>11747</td>\n",
       "      <td>11246.3</td>\n",
       "      <td>11246.3</td>\n",
       "      <td>11053.6</td>\n",
       "      <td>11759.6</td>\n",
       "      <td>11323.5</td>\n",
       "      <td>11111.2</td>\n",
       "      <td>...</td>\n",
       "      <td>9238.7</td>\n",
       "      <td>9277.21</td>\n",
       "      <td>9241.05</td>\n",
       "      <td>9277.51</td>\n",
       "      <td>9273.36</td>\n",
       "      <td>9427.99</td>\n",
       "      <td>DOWN</td>\n",
       "      <td>0.0277762</td>\n",
       "      <td>0.908894</td>\n",
       "      <td>0.0633298</td>\n",
       "    </tr>\n",
       "    <tr>\n",
       "      <td>2020-08-08</td>\n",
       "      <td>11675.739258</td>\n",
       "      <td>11754</td>\n",
       "      <td>11601.5</td>\n",
       "      <td>11779.8</td>\n",
       "      <td>11747</td>\n",
       "      <td>11246.3</td>\n",
       "      <td>11246.3</td>\n",
       "      <td>11053.6</td>\n",
       "      <td>11759.6</td>\n",
       "      <td>11323.5</td>\n",
       "      <td>...</td>\n",
       "      <td>9241.9</td>\n",
       "      <td>9238.7</td>\n",
       "      <td>9277.21</td>\n",
       "      <td>9241.05</td>\n",
       "      <td>9277.51</td>\n",
       "      <td>9273.36</td>\n",
       "      <td>UP</td>\n",
       "      <td>0.031</td>\n",
       "      <td>0.902857</td>\n",
       "      <td>0.0661429</td>\n",
       "    </tr>\n",
       "  </tbody>\n",
       "</table>\n",
       "<p>328 rows × 66 columns</p>\n",
       "</div>"
      ],
      "text/plain": [
       "                   Close Close_Past_1 Close_Past_2 Close_Past_3 Close_Past_4  \\\n",
       "Date                                                                           \n",
       "2019-09-14  10347.712891        10358      10360.5      10410.1      10178.4   \n",
       "2019-09-15  10276.793945      10347.7        10358      10360.5      10410.1   \n",
       "2019-09-16  10241.272461      10276.8      10347.7        10358      10360.5   \n",
       "2019-09-17  10198.248047      10241.3      10276.8      10347.7        10358   \n",
       "2019-09-18  10266.415039      10198.2      10241.3      10276.8      10347.7   \n",
       "...                  ...          ...          ...          ...          ...   \n",
       "2020-08-04  11747.022461      11246.3      11246.3      11053.6      11759.6   \n",
       "2020-08-05  11779.773438        11747      11246.3      11246.3      11053.6   \n",
       "2020-08-06  11601.472656      11779.8        11747      11246.3      11246.3   \n",
       "2020-08-07  11754.045898      11601.5      11779.8        11747      11246.3   \n",
       "2020-08-08  11675.739258        11754      11601.5      11779.8        11747   \n",
       "\n",
       "           Close_Past_5 Close_Past_6 Close_Past_7 Close_Past_8 Close_Past_9  \\\n",
       "Date                                                                          \n",
       "2019-09-14        10116        10335      10441.3      10517.3      10353.3   \n",
       "2019-09-15      10178.4        10116        10335      10441.3      10517.3   \n",
       "2019-09-16      10410.1      10178.4        10116        10335      10441.3   \n",
       "2019-09-17      10360.5      10410.1      10178.4        10116        10335   \n",
       "2019-09-18        10358      10360.5      10410.1      10178.4        10116   \n",
       "...                 ...          ...          ...          ...          ...   \n",
       "2020-08-04      11323.5      11111.2      11100.5      10912.8      10990.9   \n",
       "2020-08-05      11759.6      11323.5      11111.2      11100.5      10912.8   \n",
       "2020-08-06      11053.6      11759.6      11323.5      11111.2      11100.5   \n",
       "2020-08-07      11246.3      11053.6      11759.6      11323.5      11111.2   \n",
       "2020-08-08      11246.3      11246.3      11053.6      11759.6      11323.5   \n",
       "\n",
       "            ... Open_Past_25 Open_Past_26 Open_Past_27 Open_Past_28  \\\n",
       "Date        ...                                                       \n",
       "2019-09-14  ...      10764.6      10916.3      10350.3        10233   \n",
       "2019-09-15  ...      10142.5      10764.6      10916.3      10350.3   \n",
       "2019-09-16  ...      10136.3      10142.5      10764.6      10916.3   \n",
       "2019-09-17  ...      10407.6      10136.3      10142.5      10764.6   \n",
       "2019-09-18  ...      10160.7      10407.6      10136.3      10142.5   \n",
       "...         ...          ...          ...          ...          ...   \n",
       "2020-08-04  ...      9277.51      9273.36      9427.99      9253.02   \n",
       "2020-08-05  ...      9241.05      9277.51      9273.36      9427.99   \n",
       "2020-08-06  ...      9277.21      9241.05      9277.51      9273.36   \n",
       "2020-08-07  ...       9238.7      9277.21      9241.05      9277.51   \n",
       "2020-08-08  ...       9241.9       9238.7      9277.21      9241.05   \n",
       "\n",
       "           Open_Past_29 Open_Past_30 MonthTrend   negative   neutral  \\\n",
       "Date                                                                   \n",
       "2019-09-14      10358.7      10319.4         UP     0.0253    0.9104   \n",
       "2019-09-15        10233      10358.7       DOWN  0.0291676  0.881429   \n",
       "2019-09-16      10350.3        10233       DOWN     0.0371  0.894067   \n",
       "2019-09-17      10916.3      10350.3       DOWN  0.0298333    0.8957   \n",
       "2019-09-18      10764.6      10916.3       DOWN      0.042    0.8364   \n",
       "...                 ...          ...        ...        ...       ...   \n",
       "2020-08-04      9349.16      9072.85         UP    0.05575    0.8895   \n",
       "2020-08-05      9253.02      9349.16         UP      0.022  0.902368   \n",
       "2020-08-06      9427.99      9253.02         UP  0.0257778     0.895   \n",
       "2020-08-07      9273.36      9427.99       DOWN  0.0277762  0.908894   \n",
       "2020-08-08      9277.51      9273.36         UP      0.031  0.902857   \n",
       "\n",
       "             positive  \n",
       "Date                   \n",
       "2019-09-14     0.0643  \n",
       "2019-09-15   0.089403  \n",
       "2019-09-16  0.0688333  \n",
       "2019-09-17  0.0744667  \n",
       "2019-09-18     0.1216  \n",
       "...               ...  \n",
       "2020-08-04    0.05475  \n",
       "2020-08-05  0.0756316  \n",
       "2020-08-06  0.0792222  \n",
       "2020-08-07  0.0633298  \n",
       "2020-08-08  0.0661429  \n",
       "\n",
       "[328 rows x 66 columns]"
      ]
     },
     "execution_count": 6,
     "metadata": {},
     "output_type": "execute_result"
    }
   ],
   "source": [
    "# load pre-fetched news sentiment data and add in the dataframe\n",
    "import pickle\n",
    "import warnings\n",
    "import os\n",
    "warnings.filterwarnings('ignore')\n",
    "f = open(os.path.join(os.getcwd(), \"polaritys_score.pkl\"), \"rb\")\n",
    "#f = open(\"./drive/My Drive/final_project/polaritys_score.pkl\", \"rb\")\n",
    "polaritys_file = pickle.load(f)\n",
    "f.close()\n",
    "\n",
    "polaritys_df = pd.DataFrame(index=list(polaritys_file.keys())[::-1], columns=['neg', 'neu', 'pos'])\n",
    "for date in list(polaritys_file.keys())[::-1]:\n",
    "  for polar in ['neg', 'neu', 'pos']:\n",
    "    polaritys_df.loc[date][polar] = polaritys_file[date][polar]\n",
    "\n",
    "## keep data only after 2019-09-09 and remove data on 2020-08-03(error in Yahoo?)\n",
    "btc_index_str = [btc_index.strftime('%Y-%m-%d') for btc_index in list(btc.index)]\n",
    "\n",
    "sentiment_data = polaritys_df.loc[btc_index_str]\n",
    "sentiment_data.columns = ['negative', 'neutral', 'positive']\n",
    "\n",
    "## add sentiment in the dataframe\n",
    "btc[['negative', 'neutral', 'positive']] = sentiment_data[['negative', 'neutral', 'positive']]\n",
    "btc = btc.dropna()\n",
    "btc"
   ]
  },
  {
   "cell_type": "code",
   "execution_count": 7,
   "metadata": {},
   "outputs": [],
   "source": [
    "from sklearn.model_selection import TimeSeriesSplit\n",
    "from sklearn.preprocessing import StandardScaler\n",
    "from sklearn.preprocessing import LabelEncoder\n",
    "import numpy as np\n",
    "Y = btc['MonthTrend']\n",
    "le =LabelEncoder()\n",
    "Y = le.fit_transform(Y)\n",
    "X = btc.drop(['MonthTrend'], axis=1)\n",
    "X = StandardScaler().fit_transform(X)\n",
    "# Create training and testing datasets that are appropriate for time series data\n",
    "#X_train, X_test, Y_train, Y_test = train_test_split(X, Y, test_size=.3, random_state=2)\n",
    "train_size_perc = 0.7\n",
    "n_time, n_features = X.shape\n",
    "train_size = np.int16(np.round(train_size_perc * n_time))\n",
    "X_train, Y_train = X[:train_size], Y[:train_size]\n",
    "X_test, Y_test = X[(train_size+LOOK_AHEAD_DAYS):], Y[(train_size+LOOK_AHEAD_DAYS):]"
   ]
  },
  {
   "cell_type": "code",
   "execution_count": 8,
   "metadata": {},
   "outputs": [
    {
     "name": "stdout",
     "output_type": "stream",
     "text": [
      "Fitting 10 folds for each of 576 candidates, totalling 5760 fits\n"
     ]
    },
    {
     "name": "stderr",
     "output_type": "stream",
     "text": [
      "[Parallel(n_jobs=6)]: Using backend LokyBackend with 6 concurrent workers.\n",
      "[Parallel(n_jobs=6)]: Done  47 tasks      | elapsed:    1.6s\n",
      "[Parallel(n_jobs=6)]: Done 5760 out of 5760 | elapsed:    3.5s finished\n"
     ]
    },
    {
     "data": {
      "text/plain": [
       "0.5567010309278351"
      ]
     },
     "execution_count": 8,
     "metadata": {},
     "output_type": "execute_result"
    }
   ],
   "source": [
    "# decision tree\n",
    "from sklearn.model_selection import GridSearchCV\n",
    "from sklearn.tree import DecisionTreeClassifier\n",
    "model_tree = DecisionTreeClassifier(random_state=45)\n",
    "param_grid = {'splitter': [\"best\",\"random\"],  \n",
    "              'min_samples_split': [2,4,6,8],\n",
    "             'criterion':[\"gini\",\"entropy\"],\n",
    "             'max_features':[\"auto\", \"sqrt\", \"log2\"],\n",
    "              'max_depth':[6,8,10,20],\n",
    "             'max_leaf_nodes':[10,50,None]}  \n",
    "grid =  GridSearchCV(model_tree,param_grid,scoring=\"roc_auc\", cv=TimeSeriesSplit(max_train_size=None, n_splits=10), verbose=1,n_jobs=6)\n",
    "grid.fit(X_train,Y_train)\n",
    "model_tree = grid.best_estimator_\n",
    "tree_error_rate = 1 - model_tree.score(X_test,Y_test)\n",
    "tree_error_rate"
   ]
  },
  {
   "cell_type": "code",
   "execution_count": 9,
   "metadata": {},
   "outputs": [
    {
     "data": {
      "text/plain": [
       "0.8391304347826087"
      ]
     },
     "execution_count": 9,
     "metadata": {},
     "output_type": "execute_result"
    }
   ],
   "source": [
    "model_tree.score(X_train, Y_train)"
   ]
  },
  {
   "cell_type": "code",
   "execution_count": 10,
   "metadata": {},
   "outputs": [
    {
     "name": "stdout",
     "output_type": "stream",
     "text": [
      "[[32 11]\n",
      " [43 11]]\n"
     ]
    }
   ],
   "source": [
    "#confusion matrix and classification for testing\n",
    "from sklearn.metrics import classification_report,confusion_matrix,roc_curve, auc\n",
    "import matplotlib.pylab as plt\n",
    "prediction = model_tree.predict(X_test)\n",
    "print(confusion_matrix(Y_test, prediction))"
   ]
  },
  {
   "cell_type": "code",
   "execution_count": 11,
   "metadata": {},
   "outputs": [
    {
     "name": "stdout",
     "output_type": "stream",
     "text": [
      "              precision    recall  f1-score   support\n",
      "\n",
      "           0       0.43      0.74      0.54        43\n",
      "           1       0.50      0.20      0.29        54\n",
      "\n",
      "    accuracy                           0.44        97\n",
      "   macro avg       0.46      0.47      0.42        97\n",
      "weighted avg       0.47      0.44      0.40        97\n",
      "\n"
     ]
    }
   ],
   "source": [
    "print(classification_report(Y_test, prediction))"
   ]
  },
  {
   "cell_type": "code",
   "execution_count": 12,
   "metadata": {},
   "outputs": [
    {
     "data": {
      "image/png": "[encoded data removed]",
      "text/plain": [
       "<Figure size 432x288 with 1 Axes>"
      ]
     },
     "metadata": {
      "needs_background": "light"
     },
     "output_type": "display_data"
    }
   ],
   "source": [
    "# Plot the ROC curve\n",
    "\n",
    "def plot_roc(Y_test,Y_pred, name):\n",
    "    fpr, tpr, _ = roc_curve(Y_test,Y_pred)\n",
    "    roc_auc = auc(fpr, tpr)\n",
    "    plt.plot(fpr, tpr, label='ROC curve (area = %0.2f)' % roc_auc)\n",
    "    plt.plot([0, 1], [0, 1], 'k--', label=\"Random\")\n",
    "    plt.xlabel('False Positive Rate')\n",
    "    plt.ylabel('True Positive Rate')\n",
    "    plt.title(\"ROC for \" + name)\n",
    "    plt.legend(loc=\"best\")\n",
    "    plt.show()\n",
    "plot_roc(Y_test,prediction, 'CART')"
   ]
  },
  {
   "cell_type": "code",
   "execution_count": 13,
   "metadata": {},
   "outputs": [
    {
     "name": "stdout",
     "output_type": "stream",
     "text": [
      "Fitting 10 folds for each of 768 candidates, totalling 7680 fits\n"
     ]
    },
    {
     "name": "stderr",
     "output_type": "stream",
     "text": [
      "[Parallel(n_jobs=6)]: Using backend LokyBackend with 6 concurrent workers.\n",
      "[Parallel(n_jobs=6)]: Done 736 tasks      | elapsed:    1.4s\n",
      "[Parallel(n_jobs=6)]: Done 6436 tasks      | elapsed:   11.8s\n",
      "[Parallel(n_jobs=6)]: Done 7680 out of 7680 | elapsed:   14.1s finished\n"
     ]
    },
    {
     "data": {
      "text/plain": [
       "0.48453608247422686"
      ]
     },
     "execution_count": 13,
     "metadata": {},
     "output_type": "execute_result"
    }
   ],
   "source": [
    "# random forest\n",
    "from sklearn.ensemble import RandomForestClassifier\n",
    "model_random = RandomForestClassifier(random_state=42)\n",
    "param_grid = {\n",
    "             'min_samples_split': [2,4,6,8],\n",
    "             'criterion':[\"gini\",\"entropy\"],\n",
    "             'max_features':[\"auto\", \"sqrt\", \"log2\"],\n",
    "              'max_depth':[6,8,10,20],\n",
    "              'min_samples_leaf':[1,2,4,6],\n",
    "             'max_leaf_nodes':[10,50]}  \n",
    "random_grid =  GridSearchCV(model_random,param_grid,scoring=\"roc_auc\", cv=TimeSeriesSplit(max_train_size=None, n_splits=10), verbose=1,n_jobs=6)\n",
    "random_grid.fit(X_train,Y_train)\n",
    "model_random = random_grid.best_estimator_\n",
    "tree_error_rate =1 - model_random.score(X_test,Y_test)\n",
    "tree_error_rate"
   ]
  },
  {
   "cell_type": "code",
   "execution_count": 14,
   "metadata": {},
   "outputs": [
    {
     "data": {
      "text/plain": [
       "0.9434782608695652"
      ]
     },
     "execution_count": 14,
     "metadata": {},
     "output_type": "execute_result"
    }
   ],
   "source": [
    "model_random.score(X_train, Y_train)"
   ]
  },
  {
   "cell_type": "code",
   "execution_count": 15,
   "metadata": {},
   "outputs": [
    {
     "name": "stdout",
     "output_type": "stream",
     "text": [
      "[[27 16]\n",
      " [31 23]]\n"
     ]
    }
   ],
   "source": [
    "new_prediction = model_random.predict(X_test)\n",
    "print(confusion_matrix(Y_test, new_prediction))"
   ]
  },
  {
   "cell_type": "code",
   "execution_count": 16,
   "metadata": {},
   "outputs": [
    {
     "name": "stdout",
     "output_type": "stream",
     "text": [
      "              precision    recall  f1-score   support\n",
      "\n",
      "           0       0.47      0.63      0.53        43\n",
      "           1       0.59      0.43      0.49        54\n",
      "\n",
      "    accuracy                           0.52        97\n",
      "   macro avg       0.53      0.53      0.51        97\n",
      "weighted avg       0.53      0.52      0.51        97\n",
      "\n"
     ]
    }
   ],
   "source": [
    "print(classification_report(Y_test, new_prediction))"
   ]
  },
  {
   "cell_type": "code",
   "execution_count": 17,
   "metadata": {},
   "outputs": [
    {
     "data": {
      "image/png": "[encoded data removed]",
      "text/plain": [
       "<Figure size 432x288 with 1 Axes>"
      ]
     },
     "metadata": {
      "needs_background": "light"
     },
     "output_type": "display_data"
    }
   ],
   "source": [
    "plot_roc(Y_test,new_prediction, \"Random Forest\")"
   ]
  },
  {
   "cell_type": "code",
   "execution_count": 18,
   "metadata": {},
   "outputs": [
    {
     "name": "stdout",
     "output_type": "stream",
     "text": [
      "Fitting 10 folds for each of 48 candidates, totalling 480 fits\n"
     ]
    },
    {
     "name": "stderr",
     "output_type": "stream",
     "text": [
      "[Parallel(n_jobs=6)]: Using backend LokyBackend with 6 concurrent workers.\n",
      "[Parallel(n_jobs=6)]: Done 480 out of 480 | elapsed:    1.2s finished\n"
     ]
    },
    {
     "data": {
      "text/plain": [
       "0.09278350515463918"
      ]
     },
     "execution_count": 18,
     "metadata": {},
     "output_type": "execute_result"
    }
   ],
   "source": [
    "# linear svm\n",
    "from sklearn.svm import LinearSVC\n",
    "model_svm = LinearSVC(random_state=42)\n",
    "param_grid = {\n",
    "             'C': [1,2,4,6,8,10],\n",
    "             'loss':[\"hinge\",\"squared_hinge\"],\n",
    "             'fit_intercept':[True,False],\n",
    "              'class_weight':[\"balanced\",None]}  \n",
    "svm_grid =  GridSearchCV(model_svm,param_grid,scoring=\"roc_auc\", cv=TimeSeriesSplit(max_train_size=None, n_splits=10), verbose=1,n_jobs=6)\n",
    "svm_grid.fit(X_train,Y_train)\n",
    "model_svm = svm_grid.best_estimator_\n",
    "svm_error_rate =1 - model_svm.score(X_test,Y_test)\n",
    "svm_error_rate"
   ]
  },
  {
   "cell_type": "code",
   "execution_count": 19,
   "metadata": {},
   "outputs": [
    {
     "data": {
      "text/plain": [
       "0.9956521739130435"
      ]
     },
     "execution_count": 19,
     "metadata": {},
     "output_type": "execute_result"
    }
   ],
   "source": [
    "model_svm.score(X_train, Y_train)"
   ]
  },
  {
   "cell_type": "code",
   "execution_count": 20,
   "metadata": {},
   "outputs": [
    {
     "name": "stdout",
     "output_type": "stream",
     "text": [
      "[[41  2]\n",
      " [ 7 47]]\n"
     ]
    }
   ],
   "source": [
    "svm_prediction = model_svm.predict(X_test)\n",
    "print(confusion_matrix(Y_test, svm_prediction))"
   ]
  },
  {
   "cell_type": "code",
   "execution_count": 21,
   "metadata": {},
   "outputs": [
    {
     "name": "stdout",
     "output_type": "stream",
     "text": [
      "              precision    recall  f1-score   support\n",
      "\n",
      "           0       0.85      0.95      0.90        43\n",
      "           1       0.96      0.87      0.91        54\n",
      "\n",
      "    accuracy                           0.91        97\n",
      "   macro avg       0.91      0.91      0.91        97\n",
      "weighted avg       0.91      0.91      0.91        97\n",
      "\n"
     ]
    }
   ],
   "source": [
    "print(classification_report(Y_test, svm_prediction))"
   ]
  },
  {
   "cell_type": "code",
   "execution_count": 22,
   "metadata": {},
   "outputs": [
    {
     "data": {
      "image/png": "[encoded data removed]",
      "text/plain": [
       "<Figure size 432x288 with 1 Axes>"
      ]
     },
     "metadata": {
      "needs_background": "light"
     },
     "output_type": "display_data"
    }
   ],
   "source": [
    "plot_roc(Y_test,svm_prediction, \"SVM\")"
   ]
  },
  {
   "cell_type": "code",
   "execution_count": 23,
   "metadata": {},
   "outputs": [
    {
     "name": "stdout",
     "output_type": "stream",
     "text": [
      "Fitting 10 folds for each of 96 candidates, totalling 960 fits\n"
     ]
    },
    {
     "name": "stderr",
     "output_type": "stream",
     "text": [
      "[Parallel(n_jobs=6)]: Using backend LokyBackend with 6 concurrent workers.\n",
      "[Parallel(n_jobs=6)]: Done 960 out of 960 | elapsed:    4.7s finished\n"
     ]
    },
    {
     "data": {
      "text/plain": [
       "0.04123711340206182"
      ]
     },
     "execution_count": 23,
     "metadata": {},
     "output_type": "execute_result"
    }
   ],
   "source": [
    "# logistic regression\n",
    "from sklearn.linear_model import LogisticRegression\n",
    "model_regression = LogisticRegression()\n",
    "param_grid = {\n",
    "             'C': [1,2,4,6,8,10],\n",
    "             'penalty':[\"l1\", \"l2\"],\n",
    "             'fit_intercept':[True,False],\n",
    "              'class_weight':[\"balanced\",None],\n",
    "              'warm_start':[True,False]}  \n",
    "regression_grid =  GridSearchCV(model_regression,param_grid,scoring=\"roc_auc\", cv=TimeSeriesSplit(max_train_size=None, n_splits=10), verbose=1,n_jobs=6)\n",
    "regression_grid.fit(X_train,Y_train)\n",
    "model_regresssion= regression_grid.best_estimator_\n",
    "regression_error_rate =1 - model_regresssion.score(X_test,Y_test)\n",
    "regression_error_rate"
   ]
  },
  {
   "cell_type": "code",
   "execution_count": 24,
   "metadata": {},
   "outputs": [
    {
     "name": "stdout",
     "output_type": "stream",
     "text": [
      "[[43  0]\n",
      " [ 4 50]]\n"
     ]
    }
   ],
   "source": [
    "regression_prediction = model_regresssion.predict(X_test)\n",
    "print(confusion_matrix(Y_test, regression_prediction))"
   ]
  },
  {
   "cell_type": "code",
   "execution_count": 25,
   "metadata": {},
   "outputs": [
    {
     "name": "stdout",
     "output_type": "stream",
     "text": [
      "              precision    recall  f1-score   support\n",
      "\n",
      "           0       0.91      1.00      0.96        43\n",
      "           1       1.00      0.93      0.96        54\n",
      "\n",
      "    accuracy                           0.96        97\n",
      "   macro avg       0.96      0.96      0.96        97\n",
      "weighted avg       0.96      0.96      0.96        97\n",
      "\n"
     ]
    }
   ],
   "source": [
    "print(classification_report(Y_test, regression_prediction))"
   ]
  },
  {
   "cell_type": "code",
   "execution_count": 26,
   "metadata": {},
   "outputs": [
    {
     "data": {
      "image/png": "[encoded data removed]",
      "text/plain": [
       "<Figure size 432x288 with 1 Axes>"
      ]
     },
     "metadata": {
      "needs_background": "light"
     },
     "output_type": "display_data"
    }
   ],
   "source": [
    "plot_roc(Y_test,regression_prediction, \"Logistic Regression\")"
   ]
  },
  {
   "cell_type": "code",
   "execution_count": 27,
   "metadata": {},
   "outputs": [],
   "source": [
    "# install tensorflow in virtual enviroment locally or use google colab\n",
    "# Please read this line at least.Basic model frame tuning may needed. I reached 0.7347 test accuracy for old dataset.\n",
    "import tensorflow as tf\n",
    "# Nerual network layer by layer. The input shape(...,62) may vary if new added\n",
    "NN_model = tf.keras.models.Sequential()\n",
    "NN_model.add(tf.keras.layers.Dense(units=128,activation=\"relu\",input_dim=X_train.shape[1])) \n",
    "# dropout exist for preventing overfitting. \n",
    "NN_model.add(tf.keras.layers.Dropout(0.2))\n",
    "NN_model.add(tf.keras.layers.Dense(units=256,activation=\"relu\"))\n",
    "NN_model.add(tf.keras.layers.Dropout(0.2)) \n",
    "NN_model.add(tf.keras.layers.Dense(units=256,activation=\"relu\")) \n",
    "# please do not change this line. sigmoid function is a must for binary classification\n",
    "NN_model.add(tf.keras.layers.Dense(units=1,activation=\"sigmoid\"))\n",
    "# you can play with this line\n",
    "NN_model.compile(loss='binary_crossentropy',optimizer=tf.keras.optimizers.Adam(learning_rate=0.001),metrics=['accuracy']) "
   ]
  },
  {
   "cell_type": "code",
   "execution_count": 28,
   "metadata": {},
   "outputs": [
    {
     "name": "stdout",
     "output_type": "stream",
     "text": [
      "Model: \"sequential\"\n",
      "_________________________________________________________________\n",
      "Layer (type)                 Output Shape              Param #   \n",
      "=================================================================\n",
      "dense (Dense)                (None, 128)               8448      \n",
      "_________________________________________________________________\n",
      "dropout (Dropout)            (None, 128)               0         \n",
      "_________________________________________________________________\n",
      "dense_1 (Dense)              (None, 256)               33024     \n",
      "_________________________________________________________________\n",
      "dropout_1 (Dropout)          (None, 256)               0         \n",
      "_________________________________________________________________\n",
      "dense_2 (Dense)              (None, 256)               65792     \n",
      "_________________________________________________________________\n",
      "dense_3 (Dense)              (None, 1)                 257       \n",
      "=================================================================\n",
      "Total params: 107,521\n",
      "Trainable params: 107,521\n",
      "Non-trainable params: 0\n",
      "_________________________________________________________________\n"
     ]
    }
   ],
   "source": [
    "# a basic summary of model\n",
    "NN_model.summary()"
   ]
  },
  {
   "cell_type": "code",
   "execution_count": 29,
   "metadata": {},
   "outputs": [
    {
     "name": "stdout",
     "output_type": "stream",
     "text": [
      "Train on 230 samples\n",
      "Epoch 1/50\n",
      "230/230 [==============================] - 1s 6ms/sample - loss: 0.7043 - accuracy: 0.5435\n",
      "Epoch 2/50\n",
      "230/230 [==============================] - 0s 792us/sample - loss: 0.6732 - accuracy: 0.5870\n",
      "Epoch 3/50\n",
      "230/230 [==============================] - 0s 1ms/sample - loss: 0.6560 - accuracy: 0.6130\n",
      "Epoch 4/50\n",
      "230/230 [==============================] - 0s 614us/sample - loss: 0.6537 - accuracy: 0.6261\n",
      "Epoch 5/50\n",
      "230/230 [==============================] - 0s 1ms/sample - loss: 0.6267 - accuracy: 0.6652\n",
      "Epoch 6/50\n",
      "230/230 [==============================] - 0s 510us/sample - loss: 0.6397 - accuracy: 0.6609\n",
      "Epoch 7/50\n",
      "230/230 [==============================] - 0s 871us/sample - loss: 0.6295 - accuracy: 0.6565\n",
      "Epoch 8/50\n",
      "230/230 [==============================] - 0s 711us/sample - loss: 0.6186 - accuracy: 0.6391\n",
      "Epoch 9/50\n",
      "230/230 [==============================] - 0s 623us/sample - loss: 0.6292 - accuracy: 0.6652\n",
      "Epoch 10/50\n",
      "230/230 [==============================] - 0s 697us/sample - loss: 0.6008 - accuracy: 0.6870\n",
      "Epoch 11/50\n",
      "230/230 [==============================] - 0s 651us/sample - loss: 0.6001 - accuracy: 0.6609\n",
      "Epoch 12/50\n",
      "230/230 [==============================] - 0s 504us/sample - loss: 0.6094 - accuracy: 0.6696\n",
      "Epoch 13/50\n",
      "230/230 [==============================] - 0s 408us/sample - loss: 0.5941 - accuracy: 0.6739\n",
      "Epoch 14/50\n",
      "230/230 [==============================] - 0s 578us/sample - loss: 0.5339 - accuracy: 0.7261\n",
      "Epoch 15/50\n",
      "230/230 [==============================] - 0s 661us/sample - loss: 0.5443 - accuracy: 0.7435\n",
      "Epoch 16/50\n",
      "230/230 [==============================] - 0s 443us/sample - loss: 0.4974 - accuracy: 0.7609\n",
      "Epoch 17/50\n",
      "230/230 [==============================] - 0s 658us/sample - loss: 0.5088 - accuracy: 0.7522\n",
      "Epoch 18/50\n",
      "230/230 [==============================] - 0s 541us/sample - loss: 0.4876 - accuracy: 0.7609\n",
      "Epoch 19/50\n",
      "230/230 [==============================] - 0s 880us/sample - loss: 0.5174 - accuracy: 0.7739\n",
      "Epoch 20/50\n",
      "230/230 [==============================] - 0s 434us/sample - loss: 0.4741 - accuracy: 0.7957\n",
      "Epoch 21/50\n",
      "230/230 [==============================] - 0s 832us/sample - loss: 0.4790 - accuracy: 0.7870\n",
      "Epoch 22/50\n",
      "230/230 [==============================] - 0s 350us/sample - loss: 0.4333 - accuracy: 0.7957\n",
      "Epoch 23/50\n",
      "230/230 [==============================] - 0s 849us/sample - loss: 0.4410 - accuracy: 0.7826\n",
      "Epoch 24/50\n",
      "230/230 [==============================] - 0s 1ms/sample - loss: 0.4524 - accuracy: 0.8000\n",
      "Epoch 25/50\n",
      "230/230 [==============================] - 0s 710us/sample - loss: 0.4081 - accuracy: 0.8217\n",
      "Epoch 26/50\n",
      "230/230 [==============================] - 0s 896us/sample - loss: 0.4357 - accuracy: 0.8261\n",
      "Epoch 27/50\n",
      "230/230 [==============================] - 0s 757us/sample - loss: 0.3611 - accuracy: 0.8304\n",
      "Epoch 28/50\n",
      "230/230 [==============================] - 0s 320us/sample - loss: 0.3405 - accuracy: 0.8739\n",
      "Epoch 29/50\n",
      "230/230 [==============================] - 0s 80us/sample - loss: 0.3846 - accuracy: 0.8609\n",
      "Epoch 30/50\n",
      "230/230 [==============================] - 0s 96us/sample - loss: 0.3540 - accuracy: 0.8478\n",
      "Epoch 31/50\n",
      "230/230 [==============================] - 0s 74us/sample - loss: 0.3402 - accuracy: 0.8391\n",
      "Epoch 32/50\n",
      "230/230 [==============================] - 0s 83us/sample - loss: 0.3611 - accuracy: 0.8522\n",
      "Epoch 33/50\n",
      "230/230 [==============================] - 0s 104us/sample - loss: 0.3368 - accuracy: 0.8478\n",
      "Epoch 34/50\n",
      "230/230 [==============================] - 0s 78us/sample - loss: 0.3803 - accuracy: 0.8435\n",
      "Epoch 35/50\n",
      "230/230 [==============================] - 0s 102us/sample - loss: 0.3217 - accuracy: 0.8609\n",
      "Epoch 36/50\n",
      "230/230 [==============================] - 0s 256us/sample - loss: 0.2921 - accuracy: 0.8913\n",
      "Epoch 37/50\n",
      "230/230 [==============================] - 0s 102us/sample - loss: 0.3214 - accuracy: 0.8739\n",
      "Epoch 38/50\n",
      "230/230 [==============================] - 0s 78us/sample - loss: 0.2826 - accuracy: 0.8913\n",
      "Epoch 39/50\n",
      "230/230 [==============================] - 0s 83us/sample - loss: 0.3950 - accuracy: 0.8261\n",
      "Epoch 40/50\n",
      "230/230 [==============================] - 0s 100us/sample - loss: 0.3692 - accuracy: 0.8391\n",
      "Epoch 41/50\n",
      "230/230 [==============================] - 0s 96us/sample - loss: 0.3237 - accuracy: 0.8652\n",
      "Epoch 42/50\n",
      "230/230 [==============================] - 0s 91us/sample - loss: 0.3396 - accuracy: 0.8304\n",
      "Epoch 43/50\n",
      "230/230 [==============================] - 0s 78us/sample - loss: 0.2873 - accuracy: 0.8826\n"
     ]
    },
    {
     "data": {
      "text/plain": [
       "<tensorflow.python.keras.callbacks.History at 0x25418a36188>"
      ]
     },
     "execution_count": 29,
     "metadata": {},
     "output_type": "execute_result"
    }
   ],
   "source": [
    "# I added early stop here.\n",
    "earlyStopping=tf.keras.callbacks.EarlyStopping(monitor='loss', patience=5, verbose=0, mode='min')\n",
    "NN_model.fit(x=X_train,y=Y_train,batch_size=30,epochs=50,callbacks=[earlyStopping])"
   ]
  },
  {
   "cell_type": "code",
   "execution_count": 30,
   "metadata": {},
   "outputs": [
    {
     "name": "stdout",
     "output_type": "stream",
     "text": [
      "97/97 [==============================] - 0s 1ms/sample - loss: 0.6496 - accuracy: 0.6495\n"
     ]
    }
   ],
   "source": [
    "test_loss, test_accuracy = NN_model.evaluate(X_test, Y_test)"
   ]
  },
  {
   "cell_type": "code",
   "execution_count": 31,
   "metadata": {},
   "outputs": [
    {
     "name": "stdout",
     "output_type": "stream",
     "text": [
      "[[25 18]\n",
      " [16 38]]\n"
     ]
    }
   ],
   "source": [
    "NN_prediction = NN_model.predict_classes(X_test)\n",
    "print(confusion_matrix(Y_test,NN_prediction))"
   ]
  },
  {
   "cell_type": "code",
   "execution_count": 32,
   "metadata": {},
   "outputs": [
    {
     "name": "stdout",
     "output_type": "stream",
     "text": [
      "              precision    recall  f1-score   support\n",
      "\n",
      "           0       0.61      0.58      0.60        43\n",
      "           1       0.68      0.70      0.69        54\n",
      "\n",
      "    accuracy                           0.65        97\n",
      "   macro avg       0.64      0.64      0.64        97\n",
      "weighted avg       0.65      0.65      0.65        97\n",
      "\n"
     ]
    }
   ],
   "source": [
    "print(classification_report(Y_test,NN_prediction))"
   ]
  },
  {
   "cell_type": "code",
   "execution_count": 33,
   "metadata": {},
   "outputs": [
    {
     "data": {
      "image/png": "[encoded data removed]",
      "text/plain": [
       "<Figure size 432x288 with 1 Axes>"
      ]
     },
     "metadata": {
      "needs_background": "light"
     },
     "output_type": "display_data"
    }
   ],
   "source": [
    "plot_roc(Y_test,NN_prediction, 'NN')"
   ]
  },
  {
   "cell_type": "markdown",
   "metadata": {},
   "source": [
    "### Backtesting"
   ]
  },
  {
   "cell_type": "code",
   "execution_count": 64,
   "metadata": {},
   "outputs": [
    {
     "name": "stdout",
     "output_type": "stream",
     "text": [
      "Fitting 10 folds for each of 3 candidates, totalling 30 fits\n"
     ]
    },
    {
     "name": "stderr",
     "output_type": "stream",
     "text": [
      "[Parallel(n_jobs=6)]: Using backend LokyBackend with 6 concurrent workers.\n",
      "[Parallel(n_jobs=6)]: Done  30 out of  30 | elapsed:    1.8s finished\n",
      "[Parallel(n_jobs=6)]: Using backend LokyBackend with 6 concurrent workers.\n",
      "[Parallel(n_jobs=6)]: Done  30 out of  30 | elapsed:    0.0s finished\n",
      "[Parallel(n_jobs=6)]: Using backend LokyBackend with 6 concurrent workers.\n"
     ]
    },
    {
     "name": "stdout",
     "output_type": "stream",
     "text": [
      "portfolio value: 100\n",
      "Fitting 10 folds for each of 3 candidates, totalling 30 fits\n",
      "LOSS! 0.9842331661233105\n",
      "portfolio value: 98.42331661233105\n",
      "Fitting 10 folds for each of 3 candidates, totalling 30 fits\n"
     ]
    },
    {
     "name": "stderr",
     "output_type": "stream",
     "text": [
      "[Parallel(n_jobs=6)]: Done  30 out of  30 | elapsed:    0.0s finished\n",
      "[Parallel(n_jobs=6)]: Using backend LokyBackend with 6 concurrent workers.\n",
      "[Parallel(n_jobs=6)]: Done  30 out of  30 | elapsed:    0.0s finished\n",
      "[Parallel(n_jobs=6)]: Using backend LokyBackend with 6 concurrent workers.\n"
     ]
    },
    {
     "name": "stdout",
     "output_type": "stream",
     "text": [
      "GAIN! 1.0018506645601595\n",
      "portfolio value: 98.60546515627884\n",
      "Fitting 10 folds for each of 3 candidates, totalling 30 fits\n",
      "GAIN! 1.0280415609527733\n",
      "portfolio value: 101.3705163177352\n",
      "Fitting 10 folds for each of 3 candidates, totalling 30 fits\n"
     ]
    },
    {
     "name": "stderr",
     "output_type": "stream",
     "text": [
      "[Parallel(n_jobs=6)]: Done  30 out of  30 | elapsed:    0.0s finished\n",
      "[Parallel(n_jobs=6)]: Using backend LokyBackend with 6 concurrent workers.\n",
      "[Parallel(n_jobs=6)]: Done  30 out of  30 | elapsed:    0.0s finished\n",
      "[Parallel(n_jobs=6)]: Using backend LokyBackend with 6 concurrent workers.\n"
     ]
    },
    {
     "name": "stdout",
     "output_type": "stream",
     "text": [
      "GAIN! 1.0022620313782649\n",
      "portfolio value: 101.59981960647683\n",
      "Fitting 10 folds for each of 3 candidates, totalling 30 fits\n",
      "LOSS! 0.9799598258266199\n",
      "portfolio value: 99.56374152557903\n",
      "Fitting 10 folds for each of 3 candidates, totalling 30 fits\n"
     ]
    },
    {
     "name": "stderr",
     "output_type": "stream",
     "text": [
      "[Parallel(n_jobs=6)]: Done  30 out of  30 | elapsed:    0.0s finished\n",
      "[Parallel(n_jobs=6)]: Using backend LokyBackend with 6 concurrent workers.\n",
      "[Parallel(n_jobs=6)]: Done  30 out of  30 | elapsed:    0.0s finished\n",
      "[Parallel(n_jobs=6)]: Using backend LokyBackend with 6 concurrent workers.\n"
     ]
    },
    {
     "name": "stdout",
     "output_type": "stream",
     "text": [
      "portfolio value: 99.56374152557903\n",
      "Fitting 10 folds for each of 3 candidates, totalling 30 fits\n",
      "portfolio value: 99.56374152557903\n",
      "Fitting 10 folds for each of 3 candidates, totalling 30 fits\n"
     ]
    },
    {
     "name": "stderr",
     "output_type": "stream",
     "text": [
      "[Parallel(n_jobs=6)]: Done  30 out of  30 | elapsed:    0.0s finished\n",
      "[Parallel(n_jobs=6)]: Using backend LokyBackend with 6 concurrent workers.\n",
      "[Parallel(n_jobs=6)]: Done  30 out of  30 | elapsed:    0.0s finished\n",
      "[Parallel(n_jobs=6)]: Using backend LokyBackend with 6 concurrent workers.\n"
     ]
    },
    {
     "name": "stdout",
     "output_type": "stream",
     "text": [
      "portfolio value: 99.56374152557903\n",
      "Fitting 10 folds for each of 3 candidates, totalling 30 fits\n",
      "GAIN! 1.0666155602568346\n",
      "portfolio value: 106.19623594857215\n",
      "Fitting 10 folds for each of 3 candidates, totalling 30 fits\n"
     ]
    },
    {
     "name": "stderr",
     "output_type": "stream",
     "text": [
      "[Parallel(n_jobs=6)]: Done  30 out of  30 | elapsed:    0.0s finished\n",
      "[Parallel(n_jobs=6)]: Using backend LokyBackend with 6 concurrent workers.\n",
      "[Parallel(n_jobs=6)]: Done  30 out of  30 | elapsed:    0.0s finished\n",
      "[Parallel(n_jobs=6)]: Using backend LokyBackend with 6 concurrent workers.\n"
     ]
    },
    {
     "name": "stdout",
     "output_type": "stream",
     "text": [
      "GAIN! 1.0335444319379241\n",
      "portfolio value: 109.75852835741276\n",
      "Fitting 10 folds for each of 3 candidates, totalling 30 fits\n",
      "portfolio value: 109.75852835741276\n",
      "Fitting 10 folds for each of 3 candidates, totalling 30 fits\n"
     ]
    },
    {
     "name": "stderr",
     "output_type": "stream",
     "text": [
      "[Parallel(n_jobs=6)]: Done  30 out of  30 | elapsed:    0.0s finished\n",
      "[Parallel(n_jobs=6)]: Using backend LokyBackend with 6 concurrent workers.\n",
      "[Parallel(n_jobs=6)]: Done  30 out of  30 | elapsed:    0.0s finished\n",
      "[Parallel(n_jobs=6)]: Using backend LokyBackend with 6 concurrent workers.\n"
     ]
    },
    {
     "name": "stdout",
     "output_type": "stream",
     "text": [
      "portfolio value: 109.75852835741276\n",
      "Fitting 10 folds for each of 3 candidates, totalling 30 fits\n",
      "portfolio value: 109.75852835741276\n",
      "Fitting 10 folds for each of 3 candidates, totalling 30 fits\n"
     ]
    },
    {
     "name": "stderr",
     "output_type": "stream",
     "text": [
      "[Parallel(n_jobs=6)]: Done  30 out of  30 | elapsed:    0.0s finished\n",
      "[Parallel(n_jobs=6)]: Using backend LokyBackend with 6 concurrent workers.\n",
      "[Parallel(n_jobs=6)]: Done  30 out of  30 | elapsed:    0.0s finished\n",
      "[Parallel(n_jobs=6)]: Using backend LokyBackend with 6 concurrent workers.\n"
     ]
    },
    {
     "name": "stdout",
     "output_type": "stream",
     "text": [
      "portfolio value: 109.75852835741276\n",
      "Fitting 10 folds for each of 3 candidates, totalling 30 fits\n",
      "portfolio value: 109.75852835741276\n",
      "Fitting 10 folds for each of 3 candidates, totalling 30 fits\n"
     ]
    },
    {
     "name": "stderr",
     "output_type": "stream",
     "text": [
      "[Parallel(n_jobs=6)]: Done  30 out of  30 | elapsed:    0.0s finished\n",
      "[Parallel(n_jobs=6)]: Using backend LokyBackend with 6 concurrent workers.\n",
      "[Parallel(n_jobs=6)]: Done  30 out of  30 | elapsed:    0.0s finished\n",
      "[Parallel(n_jobs=6)]: Using backend LokyBackend with 6 concurrent workers.\n"
     ]
    },
    {
     "name": "stdout",
     "output_type": "stream",
     "text": [
      "portfolio value: 109.75852835741276\n",
      "Fitting 10 folds for each of 3 candidates, totalling 30 fits\n",
      "portfolio value: 109.75852835741276\n",
      "Fitting 10 folds for each of 3 candidates, totalling 30 fits\n"
     ]
    },
    {
     "name": "stderr",
     "output_type": "stream",
     "text": [
      "[Parallel(n_jobs=6)]: Done  30 out of  30 | elapsed:    0.0s finished\n",
      "[Parallel(n_jobs=6)]: Using backend LokyBackend with 6 concurrent workers.\n",
      "[Parallel(n_jobs=6)]: Done  30 out of  30 | elapsed:    0.0s finished\n",
      "[Parallel(n_jobs=6)]: Using backend LokyBackend with 6 concurrent workers.\n"
     ]
    },
    {
     "name": "stdout",
     "output_type": "stream",
     "text": [
      "portfolio value: 109.75852835741276\n",
      "Fitting 10 folds for each of 3 candidates, totalling 30 fits\n",
      "LOSS! 0.9925127480608039\n",
      "portfolio value: 108.9367386031254\n",
      "Fitting 10 folds for each of 3 candidates, totalling 30 fits\n"
     ]
    },
    {
     "name": "stderr",
     "output_type": "stream",
     "text": [
      "[Parallel(n_jobs=6)]: Done  30 out of  30 | elapsed:    0.0s finished\n",
      "[Parallel(n_jobs=6)]: Using backend LokyBackend with 6 concurrent workers.\n",
      "[Parallel(n_jobs=6)]: Done  30 out of  30 | elapsed:    0.0s finished\n",
      "[Parallel(n_jobs=6)]: Using backend LokyBackend with 6 concurrent workers.\n"
     ]
    },
    {
     "name": "stdout",
     "output_type": "stream",
     "text": [
      "GAIN! 1.0021428022555043\n",
      "portfolio value: 109.17016849231148\n",
      "Fitting 10 folds for each of 3 candidates, totalling 30 fits\n",
      "portfolio value: 109.17016849231148\n",
      "Fitting 10 folds for each of 3 candidates, totalling 30 fits\n"
     ]
    },
    {
     "name": "stderr",
     "output_type": "stream",
     "text": [
      "[Parallel(n_jobs=6)]: Done  30 out of  30 | elapsed:    0.0s finished\n",
      "[Parallel(n_jobs=6)]: Using backend LokyBackend with 6 concurrent workers.\n",
      "[Parallel(n_jobs=6)]: Done  30 out of  30 | elapsed:    0.0s finished\n",
      "[Parallel(n_jobs=6)]: Using backend LokyBackend with 6 concurrent workers.\n"
     ]
    },
    {
     "name": "stdout",
     "output_type": "stream",
     "text": [
      "portfolio value: 109.17016849231148\n",
      "Fitting 10 folds for each of 3 candidates, totalling 30 fits\n",
      "portfolio value: 109.17016849231148\n",
      "Fitting 10 folds for each of 3 candidates, totalling 30 fits\n"
     ]
    },
    {
     "name": "stderr",
     "output_type": "stream",
     "text": [
      "[Parallel(n_jobs=6)]: Done  30 out of  30 | elapsed:    0.0s finished\n",
      "[Parallel(n_jobs=6)]: Using backend LokyBackend with 6 concurrent workers.\n",
      "[Parallel(n_jobs=6)]: Done  30 out of  30 | elapsed:    0.0s finished\n",
      "[Parallel(n_jobs=6)]: Using backend LokyBackend with 6 concurrent workers.\n"
     ]
    },
    {
     "name": "stdout",
     "output_type": "stream",
     "text": [
      "portfolio value: 109.17016849231148\n",
      "Fitting 10 folds for each of 3 candidates, totalling 30 fits\n",
      "portfolio value: 109.17016849231148\n",
      "Fitting 10 folds for each of 3 candidates, totalling 30 fits\n"
     ]
    },
    {
     "name": "stderr",
     "output_type": "stream",
     "text": [
      "[Parallel(n_jobs=6)]: Done  30 out of  30 | elapsed:    0.0s finished\n",
      "[Parallel(n_jobs=6)]: Using backend LokyBackend with 6 concurrent workers.\n",
      "[Parallel(n_jobs=6)]: Done  30 out of  30 | elapsed:    0.0s finished\n",
      "[Parallel(n_jobs=6)]: Using backend LokyBackend with 6 concurrent workers.\n"
     ]
    },
    {
     "name": "stdout",
     "output_type": "stream",
     "text": [
      "portfolio value: 109.17016849231148\n",
      "Fitting 10 folds for each of 3 candidates, totalling 30 fits\n",
      "portfolio value: 109.17016849231148\n",
      "Fitting 10 folds for each of 3 candidates, totalling 30 fits\n"
     ]
    },
    {
     "name": "stderr",
     "output_type": "stream",
     "text": [
      "[Parallel(n_jobs=6)]: Done  30 out of  30 | elapsed:    0.0s finished\n",
      "[Parallel(n_jobs=6)]: Using backend LokyBackend with 6 concurrent workers.\n",
      "[Parallel(n_jobs=6)]: Done  30 out of  30 | elapsed:    0.0s finished\n",
      "[Parallel(n_jobs=6)]: Using backend LokyBackend with 6 concurrent workers.\n"
     ]
    },
    {
     "name": "stdout",
     "output_type": "stream",
     "text": [
      "LOSS! 0.9882157801978252\n",
      "portfolio value: 107.88368323095762\n",
      "Fitting 10 folds for each of 3 candidates, totalling 30 fits\n",
      "portfolio value: 107.88368323095762\n",
      "Fitting 10 folds for each of 3 candidates, totalling 30 fits\n"
     ]
    },
    {
     "name": "stderr",
     "output_type": "stream",
     "text": [
      "[Parallel(n_jobs=6)]: Done  30 out of  30 | elapsed:    0.0s finished\n",
      "[Parallel(n_jobs=6)]: Using backend LokyBackend with 6 concurrent workers.\n",
      "[Parallel(n_jobs=6)]: Done  30 out of  30 | elapsed:    0.0s finished\n",
      "[Parallel(n_jobs=6)]: Using backend LokyBackend with 6 concurrent workers.\n"
     ]
    },
    {
     "name": "stdout",
     "output_type": "stream",
     "text": [
      "portfolio value: 107.88368323095762\n",
      "Fitting 10 folds for each of 3 candidates, totalling 30 fits\n",
      "portfolio value: 107.88368323095762\n",
      "Fitting 10 folds for each of 3 candidates, totalling 30 fits\n"
     ]
    },
    {
     "name": "stderr",
     "output_type": "stream",
     "text": [
      "[Parallel(n_jobs=6)]: Done  30 out of  30 | elapsed:    0.0s finished\n",
      "[Parallel(n_jobs=6)]: Using backend LokyBackend with 6 concurrent workers.\n",
      "[Parallel(n_jobs=6)]: Done  30 out of  30 | elapsed:    0.0s finished\n",
      "[Parallel(n_jobs=6)]: Using backend LokyBackend with 6 concurrent workers.\n"
     ]
    },
    {
     "name": "stdout",
     "output_type": "stream",
     "text": [
      "portfolio value: 107.88368323095762\n",
      "Fitting 10 folds for each of 3 candidates, totalling 30 fits\n",
      "LOSS! 0.9880809570698097\n",
      "portfolio value: 106.59781297906078\n",
      "Fitting 10 folds for each of 3 candidates, totalling 30 fits\n"
     ]
    },
    {
     "name": "stderr",
     "output_type": "stream",
     "text": [
      "[Parallel(n_jobs=6)]: Done  30 out of  30 | elapsed:    0.0s finished\n",
      "[Parallel(n_jobs=6)]: Using backend LokyBackend with 6 concurrent workers.\n",
      "[Parallel(n_jobs=6)]: Done  30 out of  30 | elapsed:    0.0s finished\n",
      "[Parallel(n_jobs=6)]: Using backend LokyBackend with 6 concurrent workers.\n"
     ]
    },
    {
     "name": "stdout",
     "output_type": "stream",
     "text": [
      "portfolio value: 106.59781297906078\n",
      "Fitting 10 folds for each of 3 candidates, totalling 30 fits\n",
      "portfolio value: 106.59781297906078\n",
      "Fitting 10 folds for each of 3 candidates, totalling 30 fits\n"
     ]
    },
    {
     "name": "stderr",
     "output_type": "stream",
     "text": [
      "[Parallel(n_jobs=6)]: Done  30 out of  30 | elapsed:    0.0s finished\n",
      "[Parallel(n_jobs=6)]: Using backend LokyBackend with 6 concurrent workers.\n",
      "[Parallel(n_jobs=6)]: Done  30 out of  30 | elapsed:    0.0s finished\n",
      "[Parallel(n_jobs=6)]: Using backend LokyBackend with 6 concurrent workers.\n"
     ]
    },
    {
     "name": "stdout",
     "output_type": "stream",
     "text": [
      "portfolio value: 106.59781297906078\n",
      "Fitting 10 folds for each of 3 candidates, totalling 30 fits\n",
      "portfolio value: 106.59781297906078\n",
      "Fitting 10 folds for each of 3 candidates, totalling 30 fits\n"
     ]
    },
    {
     "name": "stderr",
     "output_type": "stream",
     "text": [
      "[Parallel(n_jobs=6)]: Done  30 out of  30 | elapsed:    0.0s finished\n",
      "[Parallel(n_jobs=6)]: Using backend LokyBackend with 6 concurrent workers.\n",
      "[Parallel(n_jobs=6)]: Done  30 out of  30 | elapsed:    0.0s finished\n",
      "[Parallel(n_jobs=6)]: Using backend LokyBackend with 6 concurrent workers.\n"
     ]
    },
    {
     "name": "stdout",
     "output_type": "stream",
     "text": [
      "portfolio value: 106.59781297906078\n",
      "Fitting 10 folds for each of 3 candidates, totalling 30 fits\n",
      "portfolio value: 106.59781297906078\n",
      "Fitting 10 folds for each of 3 candidates, totalling 30 fits\n"
     ]
    },
    {
     "name": "stderr",
     "output_type": "stream",
     "text": [
      "[Parallel(n_jobs=6)]: Done  30 out of  30 | elapsed:    0.0s finished\n",
      "[Parallel(n_jobs=6)]: Using backend LokyBackend with 6 concurrent workers.\n",
      "[Parallel(n_jobs=6)]: Done  30 out of  30 | elapsed:    0.0s finished\n",
      "[Parallel(n_jobs=6)]: Using backend LokyBackend with 6 concurrent workers.\n"
     ]
    },
    {
     "name": "stdout",
     "output_type": "stream",
     "text": [
      "portfolio value: 106.59781297906078\n",
      "Fitting 10 folds for each of 3 candidates, totalling 30 fits\n",
      "GAIN! 1.0430394464188195\n",
      "portfolio value: 111.1857238391364\n",
      "Fitting 10 folds for each of 3 candidates, totalling 30 fits\n"
     ]
    },
    {
     "name": "stderr",
     "output_type": "stream",
     "text": [
      "[Parallel(n_jobs=6)]: Done  30 out of  30 | elapsed:    0.0s finished\n",
      "[Parallel(n_jobs=6)]: Using backend LokyBackend with 6 concurrent workers.\n",
      "[Parallel(n_jobs=6)]: Done  30 out of  30 | elapsed:    0.0s finished\n",
      "[Parallel(n_jobs=6)]: Using backend LokyBackend with 6 concurrent workers.\n"
     ]
    },
    {
     "name": "stdout",
     "output_type": "stream",
     "text": [
      "LOSS! 0.9902194357285534\n",
      "portfolio value: 110.09826472106042\n",
      "Fitting 10 folds for each of 3 candidates, totalling 30 fits\n",
      "GAIN! 1.0394438687204568\n",
      "portfolio value: 114.44096622106802\n",
      "Fitting 10 folds for each of 3 candidates, totalling 30 fits\n"
     ]
    },
    {
     "name": "stderr",
     "output_type": "stream",
     "text": [
      "[Parallel(n_jobs=6)]: Done  30 out of  30 | elapsed:    0.0s finished\n",
      "[Parallel(n_jobs=6)]: Using backend LokyBackend with 6 concurrent workers.\n",
      "[Parallel(n_jobs=6)]: Done  30 out of  30 | elapsed:    0.0s finished\n",
      "[Parallel(n_jobs=6)]: Using backend LokyBackend with 6 concurrent workers.\n"
     ]
    },
    {
     "name": "stdout",
     "output_type": "stream",
     "text": [
      "portfolio value: 114.44096622106802\n",
      "Fitting 10 folds for each of 3 candidates, totalling 30 fits\n",
      "LOSS! 0.9805426310097526\n",
      "portfolio value: 112.21424611370426\n",
      "Fitting 10 folds for each of 3 candidates, totalling 30 fits\n"
     ]
    },
    {
     "name": "stderr",
     "output_type": "stream",
     "text": [
      "[Parallel(n_jobs=6)]: Done  30 out of  30 | elapsed:    0.0s finished\n",
      "[Parallel(n_jobs=6)]: Using backend LokyBackend with 6 concurrent workers.\n",
      "[Parallel(n_jobs=6)]: Done  30 out of  30 | elapsed:    0.0s finished\n",
      "[Parallel(n_jobs=6)]: Using backend LokyBackend with 6 concurrent workers.\n"
     ]
    },
    {
     "name": "stdout",
     "output_type": "stream",
     "text": [
      "portfolio value: 112.21424611370426\n",
      "Fitting 10 folds for each of 3 candidates, totalling 30 fits\n",
      "portfolio value: 112.21424611370426\n",
      "Fitting 10 folds for each of 3 candidates, totalling 30 fits\n"
     ]
    },
    {
     "name": "stderr",
     "output_type": "stream",
     "text": [
      "[Parallel(n_jobs=6)]: Done  30 out of  30 | elapsed:    0.0s finished\n",
      "[Parallel(n_jobs=6)]: Using backend LokyBackend with 6 concurrent workers.\n",
      "[Parallel(n_jobs=6)]: Done  30 out of  30 | elapsed:    0.0s finished\n",
      "[Parallel(n_jobs=6)]: Using backend LokyBackend with 6 concurrent workers.\n"
     ]
    },
    {
     "name": "stdout",
     "output_type": "stream",
     "text": [
      "portfolio value: 112.21424611370426\n",
      "Fitting 10 folds for each of 3 candidates, totalling 30 fits\n",
      "GAIN! 1.0268936188890219\n",
      "portfolio value: 115.23209328260513\n",
      "Fitting 10 folds for each of 3 candidates, totalling 30 fits\n"
     ]
    },
    {
     "name": "stderr",
     "output_type": "stream",
     "text": [
      "[Parallel(n_jobs=6)]: Done  30 out of  30 | elapsed:    0.0s finished\n",
      "[Parallel(n_jobs=6)]: Using backend LokyBackend with 6 concurrent workers.\n",
      "[Parallel(n_jobs=6)]: Done  30 out of  30 | elapsed:    0.0s finished\n",
      "[Parallel(n_jobs=6)]: Using backend LokyBackend with 6 concurrent workers.\n"
     ]
    },
    {
     "name": "stdout",
     "output_type": "stream",
     "text": [
      "portfolio value: 115.23209328260513\n",
      "Fitting 10 folds for each of 3 candidates, totalling 30 fits\n",
      "portfolio value: 115.23209328260513\n",
      "Fitting 10 folds for each of 3 candidates, totalling 30 fits\n"
     ]
    },
    {
     "name": "stderr",
     "output_type": "stream",
     "text": [
      "[Parallel(n_jobs=6)]: Done  30 out of  30 | elapsed:    0.0s finished\n",
      "[Parallel(n_jobs=6)]: Using backend LokyBackend with 6 concurrent workers.\n",
      "[Parallel(n_jobs=6)]: Done  30 out of  30 | elapsed:    0.0s finished\n",
      "[Parallel(n_jobs=6)]: Using backend LokyBackend with 6 concurrent workers.\n"
     ]
    },
    {
     "name": "stdout",
     "output_type": "stream",
     "text": [
      "portfolio value: 115.23209328260513\n",
      "Fitting 10 folds for each of 3 candidates, totalling 30 fits\n",
      "LOSS! 0.9787225139842252\n",
      "portfolio value: 112.78024402921604\n",
      "Fitting 10 folds for each of 3 candidates, totalling 30 fits\n"
     ]
    },
    {
     "name": "stderr",
     "output_type": "stream",
     "text": [
      "[Parallel(n_jobs=6)]: Done  30 out of  30 | elapsed:    0.0s finished\n",
      "[Parallel(n_jobs=6)]: Using backend LokyBackend with 6 concurrent workers.\n",
      "[Parallel(n_jobs=6)]: Done  30 out of  30 | elapsed:    0.0s finished\n",
      "[Parallel(n_jobs=6)]: Using backend LokyBackend with 6 concurrent workers.\n"
     ]
    },
    {
     "name": "stdout",
     "output_type": "stream",
     "text": [
      "LOSS! 0.9839107086642968\n",
      "portfolio value: 110.96568982611828\n",
      "Fitting 10 folds for each of 3 candidates, totalling 30 fits\n",
      "LOSS! 0.9917866038777885\n",
      "portfolio value: 110.05428465960192\n",
      "Fitting 10 folds for each of 3 candidates, totalling 30 fits\n"
     ]
    },
    {
     "name": "stderr",
     "output_type": "stream",
     "text": [
      "[Parallel(n_jobs=6)]: Done  30 out of  30 | elapsed:    0.0s finished\n",
      "[Parallel(n_jobs=6)]: Using backend LokyBackend with 6 concurrent workers.\n",
      "[Parallel(n_jobs=6)]: Done  30 out of  30 | elapsed:    0.0s finished\n",
      "[Parallel(n_jobs=6)]: Using backend LokyBackend with 6 concurrent workers.\n"
     ]
    },
    {
     "name": "stdout",
     "output_type": "stream",
     "text": [
      "GAIN! 1.0036575395972402\n",
      "portfolio value: 110.45681256359036\n",
      "Fitting 10 folds for each of 3 candidates, totalling 30 fits\n",
      "portfolio value: 110.45681256359036\n",
      "Fitting 10 folds for each of 3 candidates, totalling 30 fits\n"
     ]
    },
    {
     "name": "stderr",
     "output_type": "stream",
     "text": [
      "[Parallel(n_jobs=6)]: Done  30 out of  30 | elapsed:    0.0s finished\n",
      "[Parallel(n_jobs=6)]: Using backend LokyBackend with 6 concurrent workers.\n",
      "[Parallel(n_jobs=6)]: Done  30 out of  30 | elapsed:    0.0s finished\n",
      "[Parallel(n_jobs=6)]: Using backend LokyBackend with 6 concurrent workers.\n"
     ]
    },
    {
     "name": "stdout",
     "output_type": "stream",
     "text": [
      "portfolio value: 110.45681256359036\n",
      "Fitting 10 folds for each of 3 candidates, totalling 30 fits\n",
      "portfolio value: 110.45681256359036\n",
      "Fitting 10 folds for each of 3 candidates, totalling 30 fits\n"
     ]
    },
    {
     "name": "stderr",
     "output_type": "stream",
     "text": [
      "[Parallel(n_jobs=6)]: Done  30 out of  30 | elapsed:    0.0s finished\n",
      "[Parallel(n_jobs=6)]: Using backend LokyBackend with 6 concurrent workers.\n",
      "[Parallel(n_jobs=6)]: Done  30 out of  30 | elapsed:    0.0s finished\n",
      "[Parallel(n_jobs=6)]: Using backend LokyBackend with 6 concurrent workers.\n"
     ]
    },
    {
     "name": "stdout",
     "output_type": "stream",
     "text": [
      "LOSS! 0.9690812085318505\n",
      "portfolio value: 107.04162140970024\n",
      "Fitting 10 folds for each of 3 candidates, totalling 30 fits\n",
      "LOSS! 0.9580454394380576\n",
      "portfolio value: 102.55073722161846\n",
      "Fitting 10 folds for each of 3 candidates, totalling 30 fits\n"
     ]
    },
    {
     "name": "stderr",
     "output_type": "stream",
     "text": [
      "[Parallel(n_jobs=6)]: Done  30 out of  30 | elapsed:    0.0s finished\n",
      "[Parallel(n_jobs=6)]: Using backend LokyBackend with 6 concurrent workers.\n",
      "[Parallel(n_jobs=6)]: Done  30 out of  30 | elapsed:    0.0s finished\n",
      "[Parallel(n_jobs=6)]: Using backend LokyBackend with 6 concurrent workers.\n"
     ]
    },
    {
     "name": "stdout",
     "output_type": "stream",
     "text": [
      "portfolio value: 102.55073722161846\n",
      "Fitting 10 folds for each of 3 candidates, totalling 30 fits\n",
      "portfolio value: 102.55073722161846\n",
      "Fitting 10 folds for each of 3 candidates, totalling 30 fits\n"
     ]
    },
    {
     "name": "stderr",
     "output_type": "stream",
     "text": [
      "[Parallel(n_jobs=6)]: Done  30 out of  30 | elapsed:    0.0s finished\n",
      "[Parallel(n_jobs=6)]: Using backend LokyBackend with 6 concurrent workers.\n",
      "[Parallel(n_jobs=6)]: Done  30 out of  30 | elapsed:    0.0s finished\n",
      "[Parallel(n_jobs=6)]: Using backend LokyBackend with 6 concurrent workers.\n"
     ]
    },
    {
     "name": "stdout",
     "output_type": "stream",
     "text": [
      "GAIN! 1.0014121515478125\n",
      "portfolio value: 102.69555440391528\n",
      "Fitting 10 folds for each of 3 candidates, totalling 30 fits\n",
      "portfolio value: 102.69555440391528\n",
      "Fitting 10 folds for each of 3 candidates, totalling 30 fits\n"
     ]
    },
    {
     "name": "stderr",
     "output_type": "stream",
     "text": [
      "[Parallel(n_jobs=6)]: Done  30 out of  30 | elapsed:    0.0s finished\n",
      "[Parallel(n_jobs=6)]: Using backend LokyBackend with 6 concurrent workers.\n",
      "[Parallel(n_jobs=6)]: Done  30 out of  30 | elapsed:    0.0s finished\n",
      "[Parallel(n_jobs=6)]: Using backend LokyBackend with 6 concurrent workers.\n"
     ]
    },
    {
     "name": "stdout",
     "output_type": "stream",
     "text": [
      "portfolio value: 102.69555440391528\n",
      "Fitting 10 folds for each of 3 candidates, totalling 30 fits\n",
      "portfolio value: 102.69555440391528\n",
      "Fitting 10 folds for each of 3 candidates, totalling 30 fits\n"
     ]
    },
    {
     "name": "stderr",
     "output_type": "stream",
     "text": [
      "[Parallel(n_jobs=6)]: Done  30 out of  30 | elapsed:    0.0s finished\n",
      "[Parallel(n_jobs=6)]: Using backend LokyBackend with 6 concurrent workers.\n",
      "[Parallel(n_jobs=6)]: Done  30 out of  30 | elapsed:    0.0s finished\n",
      "[Parallel(n_jobs=6)]: Using backend LokyBackend with 6 concurrent workers.\n"
     ]
    },
    {
     "name": "stdout",
     "output_type": "stream",
     "text": [
      "LOSS! 0.9956677812083113\n",
      "portfolio value: 102.25065479330375\n",
      "Fitting 10 folds for each of 3 candidates, totalling 30 fits\n",
      "portfolio value: 102.25065479330375\n",
      "Fitting 10 folds for each of 3 candidates, totalling 30 fits\n"
     ]
    },
    {
     "name": "stderr",
     "output_type": "stream",
     "text": [
      "[Parallel(n_jobs=6)]: Done  30 out of  30 | elapsed:    0.0s finished\n",
      "[Parallel(n_jobs=6)]: Using backend LokyBackend with 6 concurrent workers.\n",
      "[Parallel(n_jobs=6)]: Done  30 out of  30 | elapsed:    0.0s finished\n",
      "[Parallel(n_jobs=6)]: Using backend LokyBackend with 6 concurrent workers.\n"
     ]
    },
    {
     "name": "stdout",
     "output_type": "stream",
     "text": [
      "portfolio value: 102.25065479330375\n",
      "Fitting 10 folds for each of 3 candidates, totalling 30 fits\n",
      "portfolio value: 102.25065479330375\n",
      "Fitting 10 folds for each of 3 candidates, totalling 30 fits\n"
     ]
    },
    {
     "name": "stderr",
     "output_type": "stream",
     "text": [
      "[Parallel(n_jobs=6)]: Done  30 out of  30 | elapsed:    0.0s finished\n",
      "[Parallel(n_jobs=6)]: Using backend LokyBackend with 6 concurrent workers.\n",
      "[Parallel(n_jobs=6)]: Done  30 out of  30 | elapsed:    0.0s finished\n",
      "[Parallel(n_jobs=6)]: Using backend LokyBackend with 6 concurrent workers.\n"
     ]
    },
    {
     "name": "stdout",
     "output_type": "stream",
     "text": [
      "portfolio value: 102.25065479330375\n",
      "Fitting 10 folds for each of 3 candidates, totalling 30 fits\n",
      "GAIN! 1.014349607801453\n",
      "portfolio value: 103.7179115870294\n",
      "Fitting 10 folds for each of 3 candidates, totalling 30 fits\n",
      "LOSS! 0.9828472843381522\n",
      "portfolio value: 101.93886774053642\n",
      "Fitting 10 folds for each of 3 candidates, totalling 30 fits\n",
      "LOSS! 0.986175791690628\n",
      "portfolio value: 100.52964359806973\n",
      "Fitting 10 folds for each of 3 candidates, totalling 30 fits\n"
     ]
    },
    {
     "name": "stderr",
     "output_type": "stream",
     "text": [
      "[Parallel(n_jobs=6)]: Done  30 out of  30 | elapsed:    0.0s finished\n",
      "[Parallel(n_jobs=6)]: Using backend LokyBackend with 6 concurrent workers.\n",
      "[Parallel(n_jobs=6)]: Done  30 out of  30 | elapsed:    0.0s finished\n",
      "[Parallel(n_jobs=6)]: Using backend LokyBackend with 6 concurrent workers.\n",
      "[Parallel(n_jobs=6)]: Done  30 out of  30 | elapsed:    0.0s finished\n",
      "[Parallel(n_jobs=6)]: Using backend LokyBackend with 6 concurrent workers.\n",
      "[Parallel(n_jobs=6)]: Done  30 out of  30 | elapsed:    0.0s finished\n",
      "[Parallel(n_jobs=6)]: Using backend LokyBackend with 6 concurrent workers.\n"
     ]
    },
    {
     "name": "stdout",
     "output_type": "stream",
     "text": [
      "portfolio value: 100.52964359806973\n",
      "Fitting 10 folds for each of 3 candidates, totalling 30 fits\n",
      "LOSS! 0.9698605332244129\n",
      "portfolio value: 97.4997337448841\n",
      "Fitting 10 folds for each of 3 candidates, totalling 30 fits\n"
     ]
    },
    {
     "name": "stderr",
     "output_type": "stream",
     "text": [
      "[Parallel(n_jobs=6)]: Done  30 out of  30 | elapsed:    0.0s finished\n",
      "[Parallel(n_jobs=6)]: Using backend LokyBackend with 6 concurrent workers.\n",
      "[Parallel(n_jobs=6)]: Done  30 out of  30 | elapsed:    0.0s finished\n",
      "[Parallel(n_jobs=6)]: Using backend LokyBackend with 6 concurrent workers.\n"
     ]
    },
    {
     "name": "stdout",
     "output_type": "stream",
     "text": [
      "portfolio value: 97.4997337448841\n",
      "Fitting 10 folds for each of 3 candidates, totalling 30 fits\n",
      "portfolio value: 97.4997337448841\n",
      "Fitting 10 folds for each of 3 candidates, totalling 30 fits\n"
     ]
    },
    {
     "name": "stderr",
     "output_type": "stream",
     "text": [
      "[Parallel(n_jobs=6)]: Done  30 out of  30 | elapsed:    0.0s finished\n",
      "[Parallel(n_jobs=6)]: Using backend LokyBackend with 6 concurrent workers.\n",
      "[Parallel(n_jobs=6)]: Done  30 out of  30 | elapsed:    0.0s finished\n",
      "[Parallel(n_jobs=6)]: Using backend LokyBackend with 6 concurrent workers.\n"
     ]
    },
    {
     "name": "stdout",
     "output_type": "stream",
     "text": [
      "GAIN! 1.0001168245467282\n",
      "portfolio value: 97.51112410708497\n",
      "Fitting 10 folds for each of 3 candidates, totalling 30 fits\n",
      "portfolio value: 97.51112410708497\n",
      "Fitting 10 folds for each of 3 candidates, totalling 30 fits\n"
     ]
    },
    {
     "name": "stderr",
     "output_type": "stream",
     "text": [
      "[Parallel(n_jobs=6)]: Done  30 out of  30 | elapsed:    0.0s finished\n",
      "[Parallel(n_jobs=6)]: Using backend LokyBackend with 6 concurrent workers.\n",
      "[Parallel(n_jobs=6)]: Done  30 out of  30 | elapsed:    0.0s finished\n",
      "[Parallel(n_jobs=6)]: Using backend LokyBackend with 6 concurrent workers.\n"
     ]
    },
    {
     "name": "stdout",
     "output_type": "stream",
     "text": [
      "portfolio value: 97.51112410708497\n",
      "Fitting 10 folds for each of 3 candidates, totalling 30 fits\n",
      "LOSS! 0.9899444496425026\n",
      "portfolio value: 96.53059608821\n",
      "Fitting 10 folds for each of 3 candidates, totalling 30 fits\n"
     ]
    },
    {
     "name": "stderr",
     "output_type": "stream",
     "text": [
      "[Parallel(n_jobs=6)]: Done  30 out of  30 | elapsed:    0.0s finished\n",
      "[Parallel(n_jobs=6)]: Using backend LokyBackend with 6 concurrent workers.\n",
      "[Parallel(n_jobs=6)]: Done  30 out of  30 | elapsed:    0.0s finished\n",
      "[Parallel(n_jobs=6)]: Using backend LokyBackend with 6 concurrent workers.\n"
     ]
    },
    {
     "name": "stdout",
     "output_type": "stream",
     "text": [
      "LOSS! 0.9748555841151165\n",
      "portfolio value: 94.10339063455234\n",
      "Fitting 10 folds for each of 3 candidates, totalling 30 fits\n",
      "portfolio value: 94.10339063455234\n",
      "Fitting 10 folds for each of 3 candidates, totalling 30 fits\n"
     ]
    },
    {
     "name": "stderr",
     "output_type": "stream",
     "text": [
      "[Parallel(n_jobs=6)]: Done  30 out of  30 | elapsed:    0.0s finished\n",
      "[Parallel(n_jobs=6)]: Using backend LokyBackend with 6 concurrent workers.\n",
      "[Parallel(n_jobs=6)]: Done  30 out of  30 | elapsed:    0.0s finished\n",
      "[Parallel(n_jobs=6)]: Using backend LokyBackend with 6 concurrent workers.\n"
     ]
    },
    {
     "name": "stdout",
     "output_type": "stream",
     "text": [
      "LOSS! 0.9847279582693808\n",
      "portfolio value: 92.6662397257887\n",
      "Fitting 10 folds for each of 3 candidates, totalling 30 fits\n",
      "GAIN! 1.0198216400074884\n",
      "portfolio value: 94.5030365704809\n",
      "Fitting 10 folds for each of 3 candidates, totalling 30 fits\n"
     ]
    },
    {
     "name": "stderr",
     "output_type": "stream",
     "text": [
      "[Parallel(n_jobs=6)]: Done  30 out of  30 | elapsed:    0.0s finished\n",
      "[Parallel(n_jobs=6)]: Using backend LokyBackend with 6 concurrent workers.\n",
      "[Parallel(n_jobs=6)]: Done  30 out of  30 | elapsed:    0.0s finished\n",
      "[Parallel(n_jobs=6)]: Using backend LokyBackend with 6 concurrent workers.\n"
     ]
    },
    {
     "name": "stdout",
     "output_type": "stream",
     "text": [
      "LOSS! 0.9944348100446602\n",
      "portfolio value: 93.97710922060975\n",
      "Fitting 10 folds for each of 3 candidates, totalling 30 fits\n",
      "GAIN! 1.0843676681862628\n",
      "portfolio value: 101.90573878843833\n",
      "Fitting 10 folds for each of 3 candidates, totalling 30 fits\n"
     ]
    },
    {
     "name": "stderr",
     "output_type": "stream",
     "text": [
      "[Parallel(n_jobs=6)]: Done  30 out of  30 | elapsed:    0.0s finished\n",
      "[Parallel(n_jobs=6)]: Using backend LokyBackend with 6 concurrent workers.\n",
      "[Parallel(n_jobs=6)]: Done  30 out of  30 | elapsed:    0.0s finished\n",
      "[Parallel(n_jobs=6)]: Using backend LokyBackend with 6 concurrent workers.\n"
     ]
    },
    {
     "name": "stdout",
     "output_type": "stream",
     "text": [
      "LOSS! 0.9979226862622207\n",
      "portfolio value: 101.69404859729455\n",
      "Fitting 10 folds for each of 3 candidates, totalling 30 fits\n",
      "LOSS! 0.9899352624966742\n",
      "portfolio value: 100.67052469251233\n",
      "Fitting 10 folds for each of 3 candidates, totalling 30 fits\n"
     ]
    },
    {
     "name": "stderr",
     "output_type": "stream",
     "text": [
      "[Parallel(n_jobs=6)]: Done  30 out of  30 | elapsed:    0.0s finished\n",
      "[Parallel(n_jobs=6)]: Using backend LokyBackend with 6 concurrent workers.\n",
      "[Parallel(n_jobs=6)]: Done  30 out of  30 | elapsed:    0.0s finished\n",
      "[Parallel(n_jobs=6)]: Using backend LokyBackend with 6 concurrent workers.\n"
     ]
    },
    {
     "name": "stdout",
     "output_type": "stream",
     "text": [
      "portfolio value: 100.67052469251233\n",
      "Fitting 10 folds for each of 3 candidates, totalling 30 fits\n",
      "GAIN! 1.0017470941473823\n",
      "portfolio value: 100.84640557701653\n",
      "Fitting 10 folds for each of 3 candidates, totalling 30 fits\n"
     ]
    },
    {
     "name": "stderr",
     "output_type": "stream",
     "text": [
      "[Parallel(n_jobs=6)]: Done  30 out of  30 | elapsed:    0.0s finished\n",
      "[Parallel(n_jobs=6)]: Using backend LokyBackend with 6 concurrent workers.\n",
      "[Parallel(n_jobs=6)]: Done  30 out of  30 | elapsed:    0.0s finished\n",
      "[Parallel(n_jobs=6)]: Using backend LokyBackend with 6 concurrent workers.\n"
     ]
    },
    {
     "name": "stdout",
     "output_type": "stream",
     "text": [
      "LOSS! 0.9736955059174054\n",
      "portfolio value: 98.19369189826496\n",
      "Fitting 10 folds for each of 3 candidates, totalling 30 fits\n",
      "portfolio value: 98.19369189826496\n",
      "Fitting 10 folds for each of 3 candidates, totalling 30 fits\n"
     ]
    },
    {
     "name": "stderr",
     "output_type": "stream",
     "text": [
      "[Parallel(n_jobs=6)]: Done  30 out of  30 | elapsed:    0.0s finished\n",
      "[Parallel(n_jobs=6)]: Using backend LokyBackend with 6 concurrent workers.\n",
      "[Parallel(n_jobs=6)]: Done  30 out of  30 | elapsed:    0.0s finished\n",
      "[Parallel(n_jobs=6)]: Using backend LokyBackend with 6 concurrent workers.\n"
     ]
    },
    {
     "name": "stdout",
     "output_type": "stream",
     "text": [
      "portfolio value: 98.19369189826496\n",
      "Fitting 10 folds for each of 3 candidates, totalling 30 fits\n",
      "LOSS! 0.9927569266809558\n",
      "portfolio value: 97.48246778837819\n",
      "Fitting 10 folds for each of 3 candidates, totalling 30 fits\n"
     ]
    },
    {
     "name": "stderr",
     "output_type": "stream",
     "text": [
      "[Parallel(n_jobs=6)]: Done  30 out of  30 | elapsed:    0.0s finished\n",
      "[Parallel(n_jobs=6)]: Using backend LokyBackend with 6 concurrent workers.\n",
      "[Parallel(n_jobs=6)]: Done  30 out of  30 | elapsed:    0.0s finished\n",
      "[Parallel(n_jobs=6)]: Using backend LokyBackend with 6 concurrent workers.\n"
     ]
    },
    {
     "name": "stdout",
     "output_type": "stream",
     "text": [
      "LOSS! 0.9684200200112814\n",
      "portfolio value: 94.4039734063703\n",
      "Fitting 10 folds for each of 3 candidates, totalling 30 fits\n",
      "portfolio value: 94.4039734063703\n",
      "Fitting 10 folds for each of 3 candidates, totalling 30 fits\n"
     ]
    },
    {
     "name": "stderr",
     "output_type": "stream",
     "text": [
      "[Parallel(n_jobs=6)]: Done  30 out of  30 | elapsed:    0.0s finished\n",
      "[Parallel(n_jobs=6)]: Using backend LokyBackend with 6 concurrent workers.\n",
      "[Parallel(n_jobs=6)]: Done  30 out of  30 | elapsed:    0.0s finished\n",
      "[Parallel(n_jobs=6)]: Using backend LokyBackend with 6 concurrent workers.\n"
     ]
    },
    {
     "name": "stdout",
     "output_type": "stream",
     "text": [
      "portfolio value: 94.4039734063703\n",
      "Fitting 10 folds for each of 3 candidates, totalling 30 fits\n",
      "portfolio value: 94.4039734063703\n",
      "Fitting 10 folds for each of 3 candidates, totalling 30 fits\n"
     ]
    },
    {
     "name": "stderr",
     "output_type": "stream",
     "text": [
      "[Parallel(n_jobs=6)]: Done  30 out of  30 | elapsed:    0.0s finished\n",
      "[Parallel(n_jobs=6)]: Using backend LokyBackend with 6 concurrent workers.\n",
      "[Parallel(n_jobs=6)]: Done  30 out of  30 | elapsed:    0.0s finished\n",
      "[Parallel(n_jobs=6)]: Using backend LokyBackend with 6 concurrent workers.\n"
     ]
    },
    {
     "name": "stdout",
     "output_type": "stream",
     "text": [
      "portfolio value: 94.4039734063703\n",
      "Fitting 10 folds for each of 3 candidates, totalling 30 fits\n",
      "GAIN! 1.050049279975456\n",
      "portfolio value: 99.12882430218121\n",
      "Fitting 10 folds for each of 3 candidates, totalling 30 fits\n"
     ]
    },
    {
     "name": "stderr",
     "output_type": "stream",
     "text": [
      "[Parallel(n_jobs=6)]: Done  30 out of  30 | elapsed:    0.0s finished\n",
      "[Parallel(n_jobs=6)]: Using backend LokyBackend with 6 concurrent workers.\n",
      "[Parallel(n_jobs=6)]: Done  30 out of  30 | elapsed:    0.0s finished\n",
      "[Parallel(n_jobs=6)]: Using backend LokyBackend with 6 concurrent workers.\n"
     ]
    },
    {
     "name": "stdout",
     "output_type": "stream",
     "text": [
      "portfolio value: 99.12882430218121\n",
      "Fitting 10 folds for each of 3 candidates, totalling 30 fits\n",
      "GAIN! 1.0207144931952605\n",
      "portfolio value: 101.18222765864293\n",
      "Fitting 10 folds for each of 3 candidates, totalling 30 fits\n"
     ]
    },
    {
     "name": "stderr",
     "output_type": "stream",
     "text": [
      "[Parallel(n_jobs=6)]: Done  30 out of  30 | elapsed:    0.0s finished\n",
      "[Parallel(n_jobs=6)]: Using backend LokyBackend with 6 concurrent workers.\n",
      "[Parallel(n_jobs=6)]: Done  30 out of  30 | elapsed:    0.0s finished\n",
      "[Parallel(n_jobs=6)]: Using backend LokyBackend with 6 concurrent workers.\n"
     ]
    },
    {
     "name": "stdout",
     "output_type": "stream",
     "text": [
      "portfolio value: 101.18222765864293\n",
      "Fitting 10 folds for each of 3 candidates, totalling 30 fits\n",
      "GAIN! 1.004977081019406\n",
      "portfolio value: 101.68581980342398\n",
      "Fitting 10 folds for each of 3 candidates, totalling 30 fits\n"
     ]
    },
    {
     "name": "stderr",
     "output_type": "stream",
     "text": [
      "[Parallel(n_jobs=6)]: Done  30 out of  30 | elapsed:    0.0s finished\n",
      "[Parallel(n_jobs=6)]: Using backend LokyBackend with 6 concurrent workers.\n",
      "[Parallel(n_jobs=6)]: Done  30 out of  30 | elapsed:    0.0s finished\n",
      "[Parallel(n_jobs=6)]: Using backend LokyBackend with 6 concurrent workers.\n"
     ]
    },
    {
     "name": "stdout",
     "output_type": "stream",
     "text": [
      "portfolio value: 101.68581980342398\n",
      "Fitting 10 folds for each of 3 candidates, totalling 30 fits\n",
      "portfolio value: 101.68581980342398\n",
      "Fitting 10 folds for each of 3 candidates, totalling 30 fits\n"
     ]
    },
    {
     "name": "stderr",
     "output_type": "stream",
     "text": [
      "[Parallel(n_jobs=6)]: Done  30 out of  30 | elapsed:    0.0s finished\n",
      "[Parallel(n_jobs=6)]: Using backend LokyBackend with 6 concurrent workers.\n",
      "[Parallel(n_jobs=6)]: Done  30 out of  30 | elapsed:    0.0s finished\n",
      "[Parallel(n_jobs=6)]: Using backend LokyBackend with 6 concurrent workers.\n"
     ]
    },
    {
     "name": "stdout",
     "output_type": "stream",
     "text": [
      "portfolio value: 101.68581980342398\n",
      "Fitting 10 folds for each of 3 candidates, totalling 30 fits\n",
      "portfolio value: 101.68581980342398\n",
      "Fitting 10 folds for each of 3 candidates, totalling 30 fits\n"
     ]
    },
    {
     "name": "stderr",
     "output_type": "stream",
     "text": [
      "[Parallel(n_jobs=6)]: Done  30 out of  30 | elapsed:    0.0s finished\n",
      "[Parallel(n_jobs=6)]: Using backend LokyBackend with 6 concurrent workers.\n",
      "[Parallel(n_jobs=6)]: Done  30 out of  30 | elapsed:    0.0s finished\n",
      "[Parallel(n_jobs=6)]: Using backend LokyBackend with 6 concurrent workers.\n"
     ]
    },
    {
     "name": "stdout",
     "output_type": "stream",
     "text": [
      "portfolio value: 101.68581980342398\n",
      "Fitting 10 folds for each of 3 candidates, totalling 30 fits\n",
      "GAIN! 1.0071910763540914\n",
      "portfolio value: 102.41705029775879\n",
      "Fitting 10 folds for each of 3 candidates, totalling 30 fits\n"
     ]
    },
    {
     "name": "stderr",
     "output_type": "stream",
     "text": [
      "[Parallel(n_jobs=6)]: Done  30 out of  30 | elapsed:    0.0s finished\n",
      "[Parallel(n_jobs=6)]: Using backend LokyBackend with 6 concurrent workers.\n",
      "[Parallel(n_jobs=6)]: Done  30 out of  30 | elapsed:    0.0s finished\n",
      "[Parallel(n_jobs=6)]: Using backend LokyBackend with 6 concurrent workers.\n"
     ]
    },
    {
     "name": "stdout",
     "output_type": "stream",
     "text": [
      "GAIN! 1.0073571235400032\n",
      "portfolio value: 103.17054518940212\n",
      "Fitting 10 folds for each of 3 candidates, totalling 30 fits\n",
      "GAIN! 1.025626723407693\n",
      "portfolio value: 105.81446821479182\n",
      "Fitting 10 folds for each of 3 candidates, totalling 30 fits\n"
     ]
    },
    {
     "name": "stderr",
     "output_type": "stream",
     "text": [
      "[Parallel(n_jobs=6)]: Done  30 out of  30 | elapsed:    0.0s finished\n",
      "[Parallel(n_jobs=6)]: Using backend LokyBackend with 6 concurrent workers.\n",
      "[Parallel(n_jobs=6)]: Done  30 out of  30 | elapsed:    0.0s finished\n",
      "[Parallel(n_jobs=6)]: Using backend LokyBackend with 6 concurrent workers.\n"
     ]
    },
    {
     "name": "stdout",
     "output_type": "stream",
     "text": [
      "LOSS! 0.9744009967627031\n",
      "portfolio value: 103.10572330040851\n",
      "Fitting 10 folds for each of 3 candidates, totalling 30 fits\n",
      "GAIN! 1.0357496552119791\n",
      "portfolio value: 106.79171735877985\n",
      "Fitting 10 folds for each of 3 candidates, totalling 30 fits\n"
     ]
    },
    {
     "name": "stderr",
     "output_type": "stream",
     "text": [
      "[Parallel(n_jobs=6)]: Done  30 out of  30 | elapsed:    0.0s finished\n",
      "[Parallel(n_jobs=6)]: Using backend LokyBackend with 6 concurrent workers.\n",
      "[Parallel(n_jobs=6)]: Done  30 out of  30 | elapsed:    0.0s finished\n",
      "[Parallel(n_jobs=6)]: Using backend LokyBackend with 6 concurrent workers.\n"
     ]
    },
    {
     "name": "stdout",
     "output_type": "stream",
     "text": [
      "portfolio value: 106.79171735877985\n",
      "Fitting 10 folds for each of 3 candidates, totalling 30 fits\n",
      "LOSS! 0.9893857546196765\n",
      "portfolio value: 105.6582038661476\n",
      "Fitting 10 folds for each of 3 candidates, totalling 30 fits\n"
     ]
    },
    {
     "name": "stderr",
     "output_type": "stream",
     "text": [
      "[Parallel(n_jobs=6)]: Done  30 out of  30 | elapsed:    0.0s finished\n",
      "[Parallel(n_jobs=6)]: Using backend LokyBackend with 6 concurrent workers.\n",
      "[Parallel(n_jobs=6)]: Done  30 out of  30 | elapsed:    0.0s finished\n",
      "[Parallel(n_jobs=6)]: Using backend LokyBackend with 6 concurrent workers.\n"
     ]
    },
    {
     "name": "stdout",
     "output_type": "stream",
     "text": [
      "portfolio value: 105.6582038661476\n",
      "Fitting 10 folds for each of 3 candidates, totalling 30 fits\n",
      "portfolio value: 105.6582038661476\n",
      "Fitting 10 folds for each of 3 candidates, totalling 30 fits\n"
     ]
    },
    {
     "name": "stderr",
     "output_type": "stream",
     "text": [
      "[Parallel(n_jobs=6)]: Done  30 out of  30 | elapsed:    0.0s finished\n",
      "[Parallel(n_jobs=6)]: Using backend LokyBackend with 6 concurrent workers.\n",
      "[Parallel(n_jobs=6)]: Done  30 out of  30 | elapsed:    0.0s finished\n",
      "[Parallel(n_jobs=6)]: Using backend LokyBackend with 6 concurrent workers.\n"
     ]
    },
    {
     "name": "stdout",
     "output_type": "stream",
     "text": [
      "portfolio value: 105.6582038661476\n",
      "Fitting 10 folds for each of 3 candidates, totalling 30 fits\n",
      "portfolio value: 105.6582038661476\n",
      "Fitting 10 folds for each of 3 candidates, totalling 30 fits\n"
     ]
    },
    {
     "name": "stderr",
     "output_type": "stream",
     "text": [
      "[Parallel(n_jobs=6)]: Done  30 out of  30 | elapsed:    0.0s finished\n",
      "[Parallel(n_jobs=6)]: Using backend LokyBackend with 6 concurrent workers.\n",
      "[Parallel(n_jobs=6)]: Done  30 out of  30 | elapsed:    0.0s finished\n",
      "[Parallel(n_jobs=6)]: Using backend LokyBackend with 6 concurrent workers.\n"
     ]
    },
    {
     "name": "stdout",
     "output_type": "stream",
     "text": [
      "GAIN! 1.0465127340076705\n",
      "portfolio value: 110.57265579830195\n",
      "Fitting 10 folds for each of 3 candidates, totalling 30 fits\n",
      "portfolio value: 110.57265579830195\n",
      "Fitting 10 folds for each of 3 candidates, totalling 30 fits\n"
     ]
    },
    {
     "name": "stderr",
     "output_type": "stream",
     "text": [
      "[Parallel(n_jobs=6)]: Done  30 out of  30 | elapsed:    0.0s finished\n",
      "[Parallel(n_jobs=6)]: Using backend LokyBackend with 6 concurrent workers.\n",
      "[Parallel(n_jobs=6)]: Done  30 out of  30 | elapsed:    0.0s finished\n",
      "[Parallel(n_jobs=6)]: Using backend LokyBackend with 6 concurrent workers.\n"
     ]
    },
    {
     "name": "stdout",
     "output_type": "stream",
     "text": [
      "LOSS! 0.9978347798052194\n",
      "portfolio value: 110.33324165097694\n",
      "Fitting 10 folds for each of 3 candidates, totalling 30 fits\n",
      "portfolio value: 110.33324165097694\n",
      "Fitting 10 folds for each of 3 candidates, totalling 30 fits\n"
     ]
    },
    {
     "name": "stderr",
     "output_type": "stream",
     "text": [
      "[Parallel(n_jobs=6)]: Done  30 out of  30 | elapsed:    0.0s finished\n",
      "[Parallel(n_jobs=6)]: Using backend LokyBackend with 6 concurrent workers.\n",
      "[Parallel(n_jobs=6)]: Done  30 out of  30 | elapsed:    0.0s finished\n",
      "[Parallel(n_jobs=6)]: Using backend LokyBackend with 6 concurrent workers.\n"
     ]
    },
    {
     "name": "stdout",
     "output_type": "stream",
     "text": [
      "LOSS! 0.9974684008769168\n",
      "portfolio value: 110.05392211316641\n",
      "Fitting 10 folds for each of 3 candidates, totalling 30 fits\n",
      "GAIN! 1.027029769268814\n",
      "portfolio value: 113.02865423501332\n",
      "Fitting 10 folds for each of 3 candidates, totalling 30 fits\n"
     ]
    },
    {
     "name": "stderr",
     "output_type": "stream",
     "text": [
      "[Parallel(n_jobs=6)]: Done  30 out of  30 | elapsed:    0.0s finished\n",
      "[Parallel(n_jobs=6)]: Using backend LokyBackend with 6 concurrent workers.\n",
      "[Parallel(n_jobs=6)]: Done  30 out of  30 | elapsed:    0.0s finished\n",
      "[Parallel(n_jobs=6)]: Using backend LokyBackend with 6 concurrent workers.\n"
     ]
    },
    {
     "name": "stdout",
     "output_type": "stream",
     "text": [
      "portfolio value: 113.02865423501332\n",
      "Fitting 10 folds for each of 3 candidates, totalling 30 fits\n",
      "LOSS! 0.967920692457632\n",
      "portfolio value: 109.40277327470835\n",
      "Fitting 10 folds for each of 3 candidates, totalling 30 fits\n"
     ]
    },
    {
     "name": "stderr",
     "output_type": "stream",
     "text": [
      "[Parallel(n_jobs=6)]: Done  30 out of  30 | elapsed:    0.0s finished\n",
      "[Parallel(n_jobs=6)]: Using backend LokyBackend with 6 concurrent workers.\n",
      "[Parallel(n_jobs=6)]: Done  30 out of  30 | elapsed:    0.0s finished\n",
      "[Parallel(n_jobs=6)]: Using backend LokyBackend with 6 concurrent workers.\n"
     ]
    },
    {
     "name": "stdout",
     "output_type": "stream",
     "text": [
      "portfolio value: 109.40277327470835\n",
      "Fitting 10 folds for each of 3 candidates, totalling 30 fits\n",
      "portfolio value: 109.40277327470835\n",
      "Fitting 10 folds for each of 3 candidates, totalling 30 fits\n"
     ]
    },
    {
     "name": "stderr",
     "output_type": "stream",
     "text": [
      "[Parallel(n_jobs=6)]: Done  30 out of  30 | elapsed:    0.0s finished\n",
      "[Parallel(n_jobs=6)]: Using backend LokyBackend with 6 concurrent workers.\n",
      "[Parallel(n_jobs=6)]: Done  30 out of  30 | elapsed:    0.0s finished\n",
      "[Parallel(n_jobs=6)]: Using backend LokyBackend with 6 concurrent workers.\n"
     ]
    },
    {
     "name": "stdout",
     "output_type": "stream",
     "text": [
      "portfolio value: 109.40277327470835\n",
      "Fitting 10 folds for each of 3 candidates, totalling 30 fits\n",
      "portfolio value: 109.40277327470835\n",
      "Fitting 10 folds for each of 3 candidates, totalling 30 fits\n"
     ]
    },
    {
     "name": "stderr",
     "output_type": "stream",
     "text": [
      "[Parallel(n_jobs=6)]: Done  30 out of  30 | elapsed:    0.0s finished\n",
      "[Parallel(n_jobs=6)]: Using backend LokyBackend with 6 concurrent workers.\n",
      "[Parallel(n_jobs=6)]: Done  30 out of  30 | elapsed:    0.0s finished\n",
      "[Parallel(n_jobs=6)]: Using backend LokyBackend with 6 concurrent workers.\n"
     ]
    },
    {
     "name": "stdout",
     "output_type": "stream",
     "text": [
      "portfolio value: 109.40277327470835\n",
      "Fitting 10 folds for each of 3 candidates, totalling 30 fits\n",
      "portfolio value: 109.40277327470835\n",
      "Fitting 10 folds for each of 3 candidates, totalling 30 fits\n"
     ]
    },
    {
     "name": "stderr",
     "output_type": "stream",
     "text": [
      "[Parallel(n_jobs=6)]: Done  30 out of  30 | elapsed:    0.0s finished\n",
      "[Parallel(n_jobs=6)]: Using backend LokyBackend with 6 concurrent workers.\n",
      "[Parallel(n_jobs=6)]: Done  30 out of  30 | elapsed:    0.0s finished\n",
      "[Parallel(n_jobs=6)]: Using backend LokyBackend with 6 concurrent workers.\n"
     ]
    },
    {
     "name": "stdout",
     "output_type": "stream",
     "text": [
      "portfolio value: 109.40277327470835\n",
      "Fitting 10 folds for each of 3 candidates, totalling 30 fits\n",
      "portfolio value: 109.40277327470835\n",
      "Fitting 10 folds for each of 3 candidates, totalling 30 fits\n"
     ]
    },
    {
     "name": "stderr",
     "output_type": "stream",
     "text": [
      "[Parallel(n_jobs=6)]: Done  30 out of  30 | elapsed:    0.0s finished\n",
      "[Parallel(n_jobs=6)]: Using backend LokyBackend with 6 concurrent workers.\n",
      "[Parallel(n_jobs=6)]: Done  30 out of  30 | elapsed:    0.0s finished\n",
      "[Parallel(n_jobs=6)]: Using backend LokyBackend with 6 concurrent workers.\n"
     ]
    },
    {
     "name": "stdout",
     "output_type": "stream",
     "text": [
      "portfolio value: 109.40277327470835\n",
      "Fitting 10 folds for each of 3 candidates, totalling 30 fits\n",
      "GAIN! 1.0048728575626913\n",
      "portfolio value: 109.93587740583942\n",
      "Fitting 10 folds for each of 3 candidates, totalling 30 fits\n"
     ]
    },
    {
     "name": "stderr",
     "output_type": "stream",
     "text": [
      "[Parallel(n_jobs=6)]: Done  30 out of  30 | elapsed:    0.0s finished\n",
      "[Parallel(n_jobs=6)]: Using backend LokyBackend with 6 concurrent workers.\n",
      "[Parallel(n_jobs=6)]: Done  30 out of  30 | elapsed:    0.0s finished\n",
      "[Parallel(n_jobs=6)]: Using backend LokyBackend with 6 concurrent workers.\n"
     ]
    },
    {
     "name": "stdout",
     "output_type": "stream",
     "text": [
      "LOSS! 0.9767972207968315\n",
      "portfolio value: 107.38505951588513\n",
      "Fitting 10 folds for each of 3 candidates, totalling 30 fits\n",
      "portfolio value: 107.38505951588513\n",
      "Fitting 10 folds for each of 3 candidates, totalling 30 fits\n"
     ]
    },
    {
     "name": "stderr",
     "output_type": "stream",
     "text": [
      "[Parallel(n_jobs=6)]: Done  30 out of  30 | elapsed:    0.0s finished\n",
      "[Parallel(n_jobs=6)]: Using backend LokyBackend with 6 concurrent workers.\n",
      "[Parallel(n_jobs=6)]: Done  30 out of  30 | elapsed:    0.0s finished\n",
      "[Parallel(n_jobs=6)]: Using backend LokyBackend with 6 concurrent workers.\n"
     ]
    },
    {
     "name": "stdout",
     "output_type": "stream",
     "text": [
      "portfolio value: 107.38505951588513\n",
      "Fitting 10 folds for each of 3 candidates, totalling 30 fits\n",
      "portfolio value: 107.38505951588513\n",
      "Fitting 10 folds for each of 3 candidates, totalling 30 fits\n"
     ]
    },
    {
     "name": "stderr",
     "output_type": "stream",
     "text": [
      "[Parallel(n_jobs=6)]: Done  30 out of  30 | elapsed:    0.0s finished\n",
      "[Parallel(n_jobs=6)]: Using backend LokyBackend with 6 concurrent workers.\n",
      "[Parallel(n_jobs=6)]: Done  30 out of  30 | elapsed:    0.0s finished\n",
      "[Parallel(n_jobs=6)]: Using backend LokyBackend with 6 concurrent workers.\n"
     ]
    },
    {
     "name": "stdout",
     "output_type": "stream",
     "text": [
      "portfolio value: 107.38505951588513\n",
      "Fitting 10 folds for each of 3 candidates, totalling 30 fits\n",
      "portfolio value: 107.38505951588513\n",
      "Fitting 10 folds for each of 3 candidates, totalling 30 fits\n"
     ]
    },
    {
     "name": "stderr",
     "output_type": "stream",
     "text": [
      "[Parallel(n_jobs=6)]: Done  30 out of  30 | elapsed:    0.0s finished\n",
      "[Parallel(n_jobs=6)]: Using backend LokyBackend with 6 concurrent workers.\n",
      "[Parallel(n_jobs=6)]: Done  30 out of  30 | elapsed:    0.0s finished\n",
      "[Parallel(n_jobs=6)]: Using backend LokyBackend with 6 concurrent workers.\n"
     ]
    },
    {
     "name": "stdout",
     "output_type": "stream",
     "text": [
      "portfolio value: 107.38505951588513\n",
      "Fitting 10 folds for each of 3 candidates, totalling 30 fits\n",
      "portfolio value: 107.38505951588513\n",
      "Fitting 10 folds for each of 3 candidates, totalling 30 fits\n"
     ]
    },
    {
     "name": "stderr",
     "output_type": "stream",
     "text": [
      "[Parallel(n_jobs=6)]: Done  30 out of  30 | elapsed:    0.0s finished\n",
      "[Parallel(n_jobs=6)]: Using backend LokyBackend with 6 concurrent workers.\n",
      "[Parallel(n_jobs=6)]: Done  30 out of  30 | elapsed:    0.0s finished\n",
      "[Parallel(n_jobs=6)]: Using backend LokyBackend with 6 concurrent workers.\n"
     ]
    },
    {
     "name": "stdout",
     "output_type": "stream",
     "text": [
      "GAIN! 1.0367709261874887\n",
      "portfolio value: 111.33370761298282\n",
      "Fitting 10 folds for each of 3 candidates, totalling 30 fits\n",
      "portfolio value: 111.33370761298282\n",
      "Fitting 10 folds for each of 3 candidates, totalling 30 fits\n"
     ]
    },
    {
     "name": "stderr",
     "output_type": "stream",
     "text": [
      "[Parallel(n_jobs=6)]: Done  30 out of  30 | elapsed:    0.0s finished\n",
      "[Parallel(n_jobs=6)]: Using backend LokyBackend with 6 concurrent workers.\n",
      "[Parallel(n_jobs=6)]: Done  30 out of  30 | elapsed:    0.0s finished\n",
      "[Parallel(n_jobs=6)]: Using backend LokyBackend with 6 concurrent workers.\n"
     ]
    },
    {
     "name": "stdout",
     "output_type": "stream",
     "text": [
      "portfolio value: 111.33370761298282\n",
      "Fitting 10 folds for each of 3 candidates, totalling 30 fits\n",
      "portfolio value: 111.33370761298282\n",
      "Fitting 10 folds for each of 3 candidates, totalling 30 fits\n"
     ]
    },
    {
     "name": "stderr",
     "output_type": "stream",
     "text": [
      "[Parallel(n_jobs=6)]: Done  30 out of  30 | elapsed:    0.0s finished\n",
      "[Parallel(n_jobs=6)]: Using backend LokyBackend with 6 concurrent workers.\n",
      "[Parallel(n_jobs=6)]: Done  30 out of  30 | elapsed:    0.0s finished\n",
      "[Parallel(n_jobs=6)]: Using backend LokyBackend with 6 concurrent workers.\n"
     ]
    },
    {
     "name": "stdout",
     "output_type": "stream",
     "text": [
      "GAIN! 1.180305294438141\n",
      "portfolio value: 131.40776454503157\n",
      "Fitting 10 folds for each of 3 candidates, totalling 30 fits\n",
      "GAIN! 1.0011506637707783\n",
      "portfolio value: 131.5589706988925\n",
      "Fitting 10 folds for each of 3 candidates, totalling 30 fits\n"
     ]
    },
    {
     "name": "stderr",
     "output_type": "stream",
     "text": [
      "[Parallel(n_jobs=6)]: Done  30 out of  30 | elapsed:    0.0s finished\n",
      "[Parallel(n_jobs=6)]: Using backend LokyBackend with 6 concurrent workers.\n",
      "[Parallel(n_jobs=6)]: Done  30 out of  30 | elapsed:    0.0s finished\n",
      "[Parallel(n_jobs=6)]: Using backend LokyBackend with 6 concurrent workers.\n"
     ]
    },
    {
     "name": "stdout",
     "output_type": "stream",
     "text": [
      "LOSS! 0.9965431396348158\n",
      "portfolio value: 131.10418970739906\n",
      "Fitting 10 folds for each of 3 candidates, totalling 30 fits\n",
      "portfolio value: 131.10418970739906\n",
      "Fitting 10 folds for each of 3 candidates, totalling 30 fits\n"
     ]
    },
    {
     "name": "stderr",
     "output_type": "stream",
     "text": [
      "[Parallel(n_jobs=6)]: Done  30 out of  30 | elapsed:    0.0s finished\n",
      "[Parallel(n_jobs=6)]: Using backend LokyBackend with 6 concurrent workers.\n",
      "[Parallel(n_jobs=6)]: Done  30 out of  30 | elapsed:    0.0s finished\n",
      "[Parallel(n_jobs=6)]: Using backend LokyBackend with 6 concurrent workers.\n"
     ]
    },
    {
     "name": "stdout",
     "output_type": "stream",
     "text": [
      "portfolio value: 131.10418970739906\n",
      "Fitting 10 folds for each of 3 candidates, totalling 30 fits\n",
      "portfolio value: 131.10418970739906\n",
      "Fitting 10 folds for each of 3 candidates, totalling 30 fits\n"
     ]
    },
    {
     "name": "stderr",
     "output_type": "stream",
     "text": [
      "[Parallel(n_jobs=6)]: Done  30 out of  30 | elapsed:    0.0s finished\n",
      "[Parallel(n_jobs=6)]: Using backend LokyBackend with 6 concurrent workers.\n",
      "[Parallel(n_jobs=6)]: Done  30 out of  30 | elapsed:    0.0s finished\n",
      "[Parallel(n_jobs=6)]: Using backend LokyBackend with 6 concurrent workers.\n"
     ]
    },
    {
     "name": "stdout",
     "output_type": "stream",
     "text": [
      "LOSS! 0.9914443935942692\n",
      "portfolio value: 129.98251386212027\n",
      "Fitting 10 folds for each of 3 candidates, totalling 30 fits\n",
      "portfolio value: 129.98251386212027\n",
      "Fitting 10 folds for each of 3 candidates, totalling 30 fits\n"
     ]
    },
    {
     "name": "stderr",
     "output_type": "stream",
     "text": [
      "[Parallel(n_jobs=6)]: Done  30 out of  30 | elapsed:    0.0s finished\n",
      "[Parallel(n_jobs=6)]: Using backend LokyBackend with 6 concurrent workers.\n",
      "[Parallel(n_jobs=6)]: Done  30 out of  30 | elapsed:    0.0s finished\n",
      "[Parallel(n_jobs=6)]: Using backend LokyBackend with 6 concurrent workers.\n"
     ]
    },
    {
     "name": "stdout",
     "output_type": "stream",
     "text": [
      "portfolio value: 129.98251386212027\n",
      "Fitting 10 folds for each of 3 candidates, totalling 30 fits\n",
      "LOSS! 0.9652000583468278\n",
      "portfolio value: 125.45912996378583\n",
      "Fitting 10 folds for each of 3 candidates, totalling 30 fits\n"
     ]
    },
    {
     "name": "stderr",
     "output_type": "stream",
     "text": [
      "[Parallel(n_jobs=6)]: Done  30 out of  30 | elapsed:    0.0s finished\n",
      "[Parallel(n_jobs=6)]: Using backend LokyBackend with 6 concurrent workers.\n",
      "[Parallel(n_jobs=6)]: Done  30 out of  30 | elapsed:    0.0s finished\n",
      "[Parallel(n_jobs=6)]: Using backend LokyBackend with 6 concurrent workers.\n"
     ]
    },
    {
     "name": "stdout",
     "output_type": "stream",
     "text": [
      "LOSS! 0.9481906825551857\n",
      "portfolio value: 118.95917807314183\n",
      "Fitting 10 folds for each of 3 candidates, totalling 30 fits\n",
      "GAIN! 1.0012499732343842\n",
      "portfolio value: 119.10787386171761\n",
      "Fitting 10 folds for each of 3 candidates, totalling 30 fits\n"
     ]
    },
    {
     "name": "stderr",
     "output_type": "stream",
     "text": [
      "[Parallel(n_jobs=6)]: Done  30 out of  30 | elapsed:    0.0s finished\n",
      "[Parallel(n_jobs=6)]: Using backend LokyBackend with 6 concurrent workers.\n",
      "[Parallel(n_jobs=6)]: Done  30 out of  30 | elapsed:    0.0s finished\n",
      "[Parallel(n_jobs=6)]: Using backend LokyBackend with 6 concurrent workers.\n"
     ]
    },
    {
     "name": "stdout",
     "output_type": "stream",
     "text": [
      "portfolio value: 119.10787386171761\n",
      "Fitting 10 folds for each of 3 candidates, totalling 30 fits\n",
      "GAIN! 1.0282812878999854\n",
      "portfolio value: 122.47639793355599\n",
      "Fitting 10 folds for each of 3 candidates, totalling 30 fits\n"
     ]
    },
    {
     "name": "stderr",
     "output_type": "stream",
     "text": [
      "[Parallel(n_jobs=6)]: Done  30 out of  30 | elapsed:    0.0s finished\n",
      "[Parallel(n_jobs=6)]: Using backend LokyBackend with 6 concurrent workers.\n",
      "[Parallel(n_jobs=6)]: Done  30 out of  30 | elapsed:    0.0s finished\n",
      "[Parallel(n_jobs=6)]: Using backend LokyBackend with 6 concurrent workers.\n"
     ]
    },
    {
     "name": "stdout",
     "output_type": "stream",
     "text": [
      "LOSS! 0.9905832655942777\n",
      "portfolio value: 121.32307022324613\n",
      "Fitting 10 folds for each of 3 candidates, totalling 30 fits\n",
      "GAIN! 1.0191655082300208\n",
      "portfolio value: 123.64828852410115\n",
      "Fitting 10 folds for each of 3 candidates, totalling 30 fits\n"
     ]
    },
    {
     "name": "stderr",
     "output_type": "stream",
     "text": [
      "[Parallel(n_jobs=6)]: Done  30 out of  30 | elapsed:    0.0s finished\n",
      "[Parallel(n_jobs=6)]: Using backend LokyBackend with 6 concurrent workers.\n",
      "[Parallel(n_jobs=6)]: Done  30 out of  30 | elapsed:    0.0s finished\n",
      "[Parallel(n_jobs=6)]: Using backend LokyBackend with 6 concurrent workers.\n"
     ]
    },
    {
     "name": "stdout",
     "output_type": "stream",
     "text": [
      "LOSS! 0.9895944900688941\n",
      "portfolio value: 122.36166502989937\n",
      "Fitting 10 folds for each of 3 candidates, totalling 30 fits\n",
      "GAIN! 1.0712622121567903\n",
      "portfolio value: 131.08142796311816\n",
      "Fitting 10 folds for each of 3 candidates, totalling 30 fits\n"
     ]
    },
    {
     "name": "stderr",
     "output_type": "stream",
     "text": [
      "[Parallel(n_jobs=6)]: Done  30 out of  30 | elapsed:    0.0s finished\n",
      "[Parallel(n_jobs=6)]: Using backend LokyBackend with 6 concurrent workers.\n",
      "[Parallel(n_jobs=6)]: Done  30 out of  30 | elapsed:    0.0s finished\n",
      "[Parallel(n_jobs=6)]: Using backend LokyBackend with 6 concurrent workers.\n"
     ]
    },
    {
     "name": "stdout",
     "output_type": "stream",
     "text": [
      "portfolio value: 131.08142796311816\n",
      "Fitting 10 folds for each of 3 candidates, totalling 30 fits\n",
      "GAIN! 1.0215641903665413\n",
      "portfolio value: 133.9080928292329\n",
      "Fitting 10 folds for each of 3 candidates, totalling 30 fits\n"
     ]
    },
    {
     "name": "stderr",
     "output_type": "stream",
     "text": [
      "[Parallel(n_jobs=6)]: Done  30 out of  30 | elapsed:    0.0s finished\n",
      "[Parallel(n_jobs=6)]: Using backend LokyBackend with 6 concurrent workers.\n",
      "[Parallel(n_jobs=6)]: Done  30 out of  30 | elapsed:    0.0s finished\n",
      "[Parallel(n_jobs=6)]: Using backend LokyBackend with 6 concurrent workers.\n"
     ]
    },
    {
     "name": "stdout",
     "output_type": "stream",
     "text": [
      "LOSS! 0.9951107770714369\n",
      "portfolio value: 133.25338631145206\n",
      "Fitting 10 folds for each of 3 candidates, totalling 30 fits\n",
      "portfolio value: 133.25338631145206\n",
      "Fitting 10 folds for each of 3 candidates, totalling 30 fits\n"
     ]
    },
    {
     "name": "stderr",
     "output_type": "stream",
     "text": [
      "[Parallel(n_jobs=6)]: Done  30 out of  30 | elapsed:    0.0s finished\n",
      "[Parallel(n_jobs=6)]: Using backend LokyBackend with 6 concurrent workers.\n",
      "[Parallel(n_jobs=6)]: Done  30 out of  30 | elapsed:    0.0s finished\n",
      "[Parallel(n_jobs=6)]: Using backend LokyBackend with 6 concurrent workers.\n"
     ]
    },
    {
     "name": "stdout",
     "output_type": "stream",
     "text": [
      "LOSS! 0.9987830368591373\n",
      "portfolio value: 133.0912218519159\n",
      "Fitting 10 folds for each of 3 candidates, totalling 30 fits\n",
      "GAIN! 1.016480432667871\n",
      "portfolio value: 135.28462277233106\n",
      "Fitting 10 folds for each of 3 candidates, totalling 30 fits\n"
     ]
    },
    {
     "name": "stderr",
     "output_type": "stream",
     "text": [
      "[Parallel(n_jobs=6)]: Done  30 out of  30 | elapsed:    0.0s finished\n",
      "[Parallel(n_jobs=6)]: Using backend LokyBackend with 6 concurrent workers.\n",
      "[Parallel(n_jobs=6)]: Done  30 out of  30 | elapsed:    0.0s finished\n",
      "[Parallel(n_jobs=6)]: Using backend LokyBackend with 6 concurrent workers.\n"
     ]
    },
    {
     "name": "stdout",
     "output_type": "stream",
     "text": [
      "portfolio value: 135.28462277233106\n",
      "Fitting 10 folds for each of 3 candidates, totalling 30 fits\n",
      "LOSS! 0.9998752055024313\n",
      "portfolio value: 135.26773999580342\n",
      "Fitting 10 folds for each of 3 candidates, totalling 30 fits\n"
     ]
    },
    {
     "name": "stderr",
     "output_type": "stream",
     "text": [
      "[Parallel(n_jobs=6)]: Done  30 out of  30 | elapsed:    0.0s finished\n",
      "[Parallel(n_jobs=6)]: Using backend LokyBackend with 6 concurrent workers.\n",
      "[Parallel(n_jobs=6)]: Done  30 out of  30 | elapsed:    0.0s finished\n",
      "[Parallel(n_jobs=6)]: Using backend LokyBackend with 6 concurrent workers.\n"
     ]
    },
    {
     "name": "stdout",
     "output_type": "stream",
     "text": [
      "portfolio value: 135.26773999580342\n",
      "Fitting 10 folds for each of 3 candidates, totalling 30 fits\n",
      "GAIN! 1.0717345666984077\n",
      "portfolio value: 144.97111271267525\n",
      "Fitting 10 folds for each of 3 candidates, totalling 30 fits\n"
     ]
    },
    {
     "name": "stderr",
     "output_type": "stream",
     "text": [
      "[Parallel(n_jobs=6)]: Done  30 out of  30 | elapsed:    0.0s finished\n",
      "[Parallel(n_jobs=6)]: Using backend LokyBackend with 6 concurrent workers.\n",
      "[Parallel(n_jobs=6)]: Done  30 out of  30 | elapsed:    0.0s finished\n",
      "[Parallel(n_jobs=6)]: Using backend LokyBackend with 6 concurrent workers.\n"
     ]
    },
    {
     "name": "stdout",
     "output_type": "stream",
     "text": [
      "portfolio value: 144.97111271267525\n",
      "Fitting 10 folds for each of 3 candidates, totalling 30 fits\n",
      "GAIN! 1.0233173629517578\n",
      "portfolio value: 148.3514567653169\n",
      "Fitting 10 folds for each of 3 candidates, totalling 30 fits\n"
     ]
    },
    {
     "name": "stderr",
     "output_type": "stream",
     "text": [
      "[Parallel(n_jobs=6)]: Done  30 out of  30 | elapsed:    0.0s finished\n",
      "[Parallel(n_jobs=6)]: Using backend LokyBackend with 6 concurrent workers.\n",
      "[Parallel(n_jobs=6)]: Done  30 out of  30 | elapsed:    0.0s finished\n",
      "[Parallel(n_jobs=6)]: Using backend LokyBackend with 6 concurrent workers.\n"
     ]
    },
    {
     "name": "stdout",
     "output_type": "stream",
     "text": [
      "LOSS! 0.9901531024549559\n",
      "portfolio value: 146.89065516989078\n",
      "Fitting 10 folds for each of 3 candidates, totalling 30 fits\n",
      "LOSS! 0.9575733401219685\n",
      "portfolio value: 140.6585753037366\n",
      "Fitting 10 folds for each of 3 candidates, totalling 30 fits\n"
     ]
    },
    {
     "name": "stderr",
     "output_type": "stream",
     "text": [
      "[Parallel(n_jobs=6)]: Done  30 out of  30 | elapsed:    0.0s finished\n",
      "[Parallel(n_jobs=6)]: Using backend LokyBackend with 6 concurrent workers.\n",
      "[Parallel(n_jobs=6)]: Done  30 out of  30 | elapsed:    0.0s finished\n",
      "[Parallel(n_jobs=6)]: Using backend LokyBackend with 6 concurrent workers.\n"
     ]
    },
    {
     "name": "stdout",
     "output_type": "stream",
     "text": [
      "portfolio value: 140.6585753037366\n",
      "Fitting 10 folds for each of 3 candidates, totalling 30 fits\n",
      "portfolio value: 140.6585753037366\n",
      "Fitting 10 folds for each of 3 candidates, totalling 30 fits\n"
     ]
    },
    {
     "name": "stderr",
     "output_type": "stream",
     "text": [
      "[Parallel(n_jobs=6)]: Done  30 out of  30 | elapsed:    0.0s finished\n",
      "[Parallel(n_jobs=6)]: Using backend LokyBackend with 6 concurrent workers.\n",
      "[Parallel(n_jobs=6)]: Done  30 out of  30 | elapsed:    0.0s finished\n",
      "[Parallel(n_jobs=6)]: Using backend LokyBackend with 6 concurrent workers.\n"
     ]
    },
    {
     "name": "stdout",
     "output_type": "stream",
     "text": [
      "GAIN! 1.043309254009497\n",
      "portfolio value: 146.7503932701801\n",
      "Fitting 10 folds for each of 3 candidates, totalling 30 fits\n",
      "GAIN! 1.0157003479230886\n",
      "portfolio value: 149.054425502372\n",
      "Fitting 10 folds for each of 3 candidates, totalling 30 fits\n"
     ]
    },
    {
     "name": "stderr",
     "output_type": "stream",
     "text": [
      "[Parallel(n_jobs=6)]: Done  30 out of  30 | elapsed:    0.0s finished\n",
      "[Parallel(n_jobs=6)]: Using backend LokyBackend with 6 concurrent workers.\n",
      "[Parallel(n_jobs=6)]: Done  30 out of  30 | elapsed:    0.0s finished\n",
      "[Parallel(n_jobs=6)]: Using backend LokyBackend with 6 concurrent workers.\n"
     ]
    },
    {
     "name": "stdout",
     "output_type": "stream",
     "text": [
      "GAIN! 1.0025764080564745\n",
      "portfolio value: 149.43845052508948\n",
      "Fitting 10 folds for each of 3 candidates, totalling 30 fits\n",
      "GAIN! 1.0144948494370194\n",
      "portfolio value: 151.60453836555212\n",
      "Fitting 10 folds for each of 3 candidates, totalling 30 fits\n"
     ]
    },
    {
     "name": "stderr",
     "output_type": "stream",
     "text": [
      "[Parallel(n_jobs=6)]: Done  30 out of  30 | elapsed:    0.0s finished\n",
      "[Parallel(n_jobs=6)]: Using backend LokyBackend with 6 concurrent workers.\n",
      "[Parallel(n_jobs=6)]: Done  30 out of  30 | elapsed:    0.0s finished\n",
      "[Parallel(n_jobs=6)]: Using backend LokyBackend with 6 concurrent workers.\n"
     ]
    },
    {
     "name": "stdout",
     "output_type": "stream",
     "text": [
      "portfolio value: 151.60453836555212\n",
      "Fitting 10 folds for each of 3 candidates, totalling 30 fits\n",
      "portfolio value: 151.60453836555212\n",
      "Fitting 10 folds for each of 3 candidates, totalling 30 fits\n"
     ]
    },
    {
     "name": "stderr",
     "output_type": "stream",
     "text": [
      "[Parallel(n_jobs=6)]: Done  30 out of  30 | elapsed:    0.0s finished\n",
      "[Parallel(n_jobs=6)]: Using backend LokyBackend with 6 concurrent workers.\n",
      "[Parallel(n_jobs=6)]: Done  30 out of  30 | elapsed:    0.0s finished\n",
      "[Parallel(n_jobs=6)]: Using backend LokyBackend with 6 concurrent workers.\n"
     ]
    },
    {
     "name": "stdout",
     "output_type": "stream",
     "text": [
      "GAIN! 1.1273680433386057\n",
      "portfolio value: 170.91411177842508\n",
      "Fitting 10 folds for each of 3 candidates, totalling 30 fits\n",
      "LOSS! 0.9841871527151077\n",
      "portfolio value: 168.21147303003983\n",
      "Fitting 10 folds for each of 3 candidates, totalling 30 fits\n"
     ]
    },
    {
     "name": "stderr",
     "output_type": "stream",
     "text": [
      "[Parallel(n_jobs=6)]: Done  30 out of  30 | elapsed:    0.0s finished\n",
      "[Parallel(n_jobs=6)]: Using backend LokyBackend with 6 concurrent workers.\n",
      "[Parallel(n_jobs=6)]: Done  30 out of  30 | elapsed:    0.0s finished\n",
      "[Parallel(n_jobs=6)]: Using backend LokyBackend with 6 concurrent workers.\n"
     ]
    },
    {
     "name": "stdout",
     "output_type": "stream",
     "text": [
      "GAIN! 1.0221364228899927\n",
      "portfolio value: 171.93507333198139\n",
      "Fitting 10 folds for each of 3 candidates, totalling 30 fits\n",
      "GAIN! 1.0134782146716854\n",
      "portfolio value: 174.2524511599418\n",
      "Fitting 10 folds for each of 3 candidates, totalling 30 fits\n"
     ]
    },
    {
     "name": "stderr",
     "output_type": "stream",
     "text": [
      "[Parallel(n_jobs=6)]: Done  30 out of  30 | elapsed:    0.0s finished\n",
      "[Parallel(n_jobs=6)]: Using backend LokyBackend with 6 concurrent workers.\n",
      "[Parallel(n_jobs=6)]: Done  30 out of  30 | elapsed:    0.0s finished\n",
      "[Parallel(n_jobs=6)]: Using backend LokyBackend with 6 concurrent workers.\n"
     ]
    },
    {
     "name": "stdout",
     "output_type": "stream",
     "text": [
      "LOSS! 0.9904108184812606\n",
      "portfolio value: 172.58151277568385\n",
      "Fitting 10 folds for each of 3 candidates, totalling 30 fits\n",
      "portfolio value: 172.58151277568385\n",
      "Fitting 10 folds for each of 3 candidates, totalling 30 fits\n"
     ]
    },
    {
     "name": "stderr",
     "output_type": "stream",
     "text": [
      "[Parallel(n_jobs=6)]: Done  30 out of  30 | elapsed:    0.0s finished\n",
      "[Parallel(n_jobs=6)]: Using backend LokyBackend with 6 concurrent workers.\n",
      "[Parallel(n_jobs=6)]: Done  30 out of  30 | elapsed:    0.0s finished\n",
      "[Parallel(n_jobs=6)]: Using backend LokyBackend with 6 concurrent workers.\n"
     ]
    },
    {
     "name": "stdout",
     "output_type": "stream",
     "text": [
      "portfolio value: 172.58151277568385\n",
      "Fitting 10 folds for each of 3 candidates, totalling 30 fits\n",
      "GAIN! 1.0290116028197172\n",
      "portfolio value: 177.58837907835792\n",
      "Fitting 10 folds for each of 3 candidates, totalling 30 fits\n"
     ]
    },
    {
     "name": "stderr",
     "output_type": "stream",
     "text": [
      "[Parallel(n_jobs=6)]: Done  30 out of  30 | elapsed:    0.0s finished\n",
      "[Parallel(n_jobs=6)]: Using backend LokyBackend with 6 concurrent workers.\n",
      "[Parallel(n_jobs=6)]: Done  30 out of  30 | elapsed:    0.0s finished\n",
      "[Parallel(n_jobs=6)]: Using backend LokyBackend with 6 concurrent workers.\n"
     ]
    },
    {
     "name": "stdout",
     "output_type": "stream",
     "text": [
      "GAIN! 1.074458089739114\n",
      "portfolio value: 190.8112705443981\n",
      "Fitting 10 folds for each of 3 candidates, totalling 30 fits\n",
      "LOSS! 0.9905903212205259\n",
      "portfolio value: 189.015797781072\n",
      "Fitting 10 folds for each of 3 candidates, totalling 30 fits\n"
     ]
    },
    {
     "name": "stderr",
     "output_type": "stream",
     "text": [
      "[Parallel(n_jobs=6)]: Done  30 out of  30 | elapsed:    0.0s finished\n",
      "[Parallel(n_jobs=6)]: Using backend LokyBackend with 6 concurrent workers.\n",
      "[Parallel(n_jobs=6)]: Done  30 out of  30 | elapsed:    0.0s finished\n",
      "[Parallel(n_jobs=6)]: Using backend LokyBackend with 6 concurrent workers.\n"
     ]
    },
    {
     "name": "stdout",
     "output_type": "stream",
     "text": [
      "LOSS! 0.9748996932447151\n",
      "portfolio value: 184.2714432751722\n",
      "Fitting 10 folds for each of 3 candidates, totalling 30 fits\n",
      "portfolio value: 184.2714432751722\n",
      "Fitting 10 folds for each of 3 candidates, totalling 30 fits\n"
     ]
    },
    {
     "name": "stderr",
     "output_type": "stream",
     "text": [
      "[Parallel(n_jobs=6)]: Done  30 out of  30 | elapsed:    0.0s finished\n",
      "[Parallel(n_jobs=6)]: Using backend LokyBackend with 6 concurrent workers.\n",
      "[Parallel(n_jobs=6)]: Done  30 out of  30 | elapsed:    0.0s finished\n",
      "[Parallel(n_jobs=6)]: Using backend LokyBackend with 6 concurrent workers.\n"
     ]
    },
    {
     "name": "stdout",
     "output_type": "stream",
     "text": [
      "portfolio value: 184.2714432751722\n",
      "Fitting 10 folds for each of 3 candidates, totalling 30 fits\n",
      "portfolio value: 184.2714432751722\n",
      "Fitting 10 folds for each of 3 candidates, totalling 30 fits\n"
     ]
    },
    {
     "name": "stderr",
     "output_type": "stream",
     "text": [
      "[Parallel(n_jobs=6)]: Done  30 out of  30 | elapsed:    0.0s finished\n",
      "[Parallel(n_jobs=6)]: Using backend LokyBackend with 6 concurrent workers.\n",
      "[Parallel(n_jobs=6)]: Done  30 out of  30 | elapsed:    0.0s finished\n",
      "[Parallel(n_jobs=6)]: Using backend LokyBackend with 6 concurrent workers.\n"
     ]
    },
    {
     "name": "stdout",
     "output_type": "stream",
     "text": [
      "portfolio value: 184.2714432751722\n",
      "Fitting 10 folds for each of 3 candidates, totalling 30 fits\n",
      "portfolio value: 184.2714432751722\n",
      "Fitting 10 folds for each of 3 candidates, totalling 30 fits\n"
     ]
    },
    {
     "name": "stderr",
     "output_type": "stream",
     "text": [
      "[Parallel(n_jobs=6)]: Done  30 out of  30 | elapsed:    0.0s finished\n",
      "[Parallel(n_jobs=6)]: Using backend LokyBackend with 6 concurrent workers.\n",
      "[Parallel(n_jobs=6)]: Done  30 out of  30 | elapsed:    0.0s finished\n",
      "[Parallel(n_jobs=6)]: Using backend LokyBackend with 6 concurrent workers.\n"
     ]
    },
    {
     "name": "stdout",
     "output_type": "stream",
     "text": [
      "portfolio value: 184.2714432751722\n",
      "Fitting 10 folds for each of 3 candidates, totalling 30 fits\n",
      "portfolio value: 184.2714432751722\n",
      "Fitting 10 folds for each of 3 candidates, totalling 30 fits\n"
     ]
    },
    {
     "name": "stderr",
     "output_type": "stream",
     "text": [
      "[Parallel(n_jobs=6)]: Done  30 out of  30 | elapsed:    0.0s finished\n",
      "[Parallel(n_jobs=6)]: Using backend LokyBackend with 6 concurrent workers.\n",
      "[Parallel(n_jobs=6)]: Done  30 out of  30 | elapsed:    0.0s finished\n",
      "[Parallel(n_jobs=6)]: Using backend LokyBackend with 6 concurrent workers.\n"
     ]
    },
    {
     "name": "stdout",
     "output_type": "stream",
     "text": [
      "portfolio value: 184.2714432751722\n",
      "Fitting 10 folds for each of 3 candidates, totalling 30 fits\n",
      "portfolio value: 184.2714432751722\n",
      "Fitting 10 folds for each of 3 candidates, totalling 30 fits\n"
     ]
    },
    {
     "name": "stderr",
     "output_type": "stream",
     "text": [
      "[Parallel(n_jobs=6)]: Done  30 out of  30 | elapsed:    0.0s finished\n",
      "[Parallel(n_jobs=6)]: Using backend LokyBackend with 6 concurrent workers.\n",
      "[Parallel(n_jobs=6)]: Done  30 out of  30 | elapsed:    0.0s finished\n",
      "[Parallel(n_jobs=6)]: Using backend LokyBackend with 6 concurrent workers.\n"
     ]
    },
    {
     "name": "stdout",
     "output_type": "stream",
     "text": [
      "GAIN! 1.000203001592388\n",
      "portfolio value: 184.3088506715887\n",
      "Fitting 10 folds for each of 3 candidates, totalling 30 fits\n",
      "LOSS! 0.9791937471589017\n",
      "portfolio value: 180.4740741236634\n",
      "Fitting 10 folds for each of 3 candidates, totalling 30 fits\n"
     ]
    },
    {
     "name": "stderr",
     "output_type": "stream",
     "text": [
      "[Parallel(n_jobs=6)]: Done  30 out of  30 | elapsed:    0.0s finished\n",
      "[Parallel(n_jobs=6)]: Using backend LokyBackend with 6 concurrent workers.\n",
      "[Parallel(n_jobs=6)]: Done  30 out of  30 | elapsed:    0.0s finished\n",
      "[Parallel(n_jobs=6)]: Using backend LokyBackend with 6 concurrent workers.\n"
     ]
    },
    {
     "name": "stdout",
     "output_type": "stream",
     "text": [
      "LOSS! 0.9536920566169427\n",
      "portfolio value: 172.1166909170351\n",
      "Fitting 10 folds for each of 3 candidates, totalling 30 fits\n",
      "portfolio value: 172.1166909170351\n",
      "Fitting 10 folds for each of 3 candidates, totalling 30 fits\n"
     ]
    },
    {
     "name": "stderr",
     "output_type": "stream",
     "text": [
      "[Parallel(n_jobs=6)]: Done  30 out of  30 | elapsed:    0.0s finished\n",
      "[Parallel(n_jobs=6)]: Using backend LokyBackend with 6 concurrent workers.\n",
      "[Parallel(n_jobs=6)]: Done  30 out of  30 | elapsed:    0.0s finished\n",
      "[Parallel(n_jobs=6)]: Using backend LokyBackend with 6 concurrent workers.\n"
     ]
    },
    {
     "name": "stdout",
     "output_type": "stream",
     "text": [
      "portfolio value: 172.1166909170351\n",
      "Fitting 10 folds for each of 3 candidates, totalling 30 fits\n",
      "LOSS! 0.9542008175650334\n",
      "portfolio value: 164.23388718962306\n",
      "Fitting 10 folds for each of 3 candidates, totalling 30 fits\n"
     ]
    },
    {
     "name": "stderr",
     "output_type": "stream",
     "text": [
      "[Parallel(n_jobs=6)]: Done  30 out of  30 | elapsed:    0.0s finished\n",
      "[Parallel(n_jobs=6)]: Using backend LokyBackend with 6 concurrent workers.\n",
      "[Parallel(n_jobs=6)]: Done  30 out of  30 | elapsed:    0.0s finished\n",
      "[Parallel(n_jobs=6)]: Using backend LokyBackend with 6 concurrent workers.\n"
     ]
    },
    {
     "name": "stdout",
     "output_type": "stream",
     "text": [
      "GAIN! 1.0137520681953733\n",
      "portfolio value: 166.492442806246\n",
      "Fitting 10 folds for each of 3 candidates, totalling 30 fits\n",
      "LOSS! 0.9916344930451488\n",
      "portfolio value: 165.09964911802018\n",
      "Fitting 10 folds for each of 3 candidates, totalling 30 fits\n"
     ]
    },
    {
     "name": "stderr",
     "output_type": "stream",
     "text": [
      "[Parallel(n_jobs=6)]: Done  30 out of  30 | elapsed:    0.0s finished\n",
      "[Parallel(n_jobs=6)]: Using backend LokyBackend with 6 concurrent workers.\n",
      "[Parallel(n_jobs=6)]: Done  30 out of  30 | elapsed:    0.0s finished\n",
      "[Parallel(n_jobs=6)]: Using backend LokyBackend with 6 concurrent workers.\n"
     ]
    },
    {
     "name": "stdout",
     "output_type": "stream",
     "text": [
      "GAIN! 1.0388844527828014\n",
      "portfolio value: 171.5194586286069\n",
      "Fitting 10 folds for each of 3 candidates, totalling 30 fits\n",
      "GAIN! 1.0371048114569272\n",
      "portfolio value: 177.8836558022156\n",
      "Fitting 10 folds for each of 3 candidates, totalling 30 fits\n"
     ]
    },
    {
     "name": "stderr",
     "output_type": "stream",
     "text": [
      "[Parallel(n_jobs=6)]: Done  30 out of  30 | elapsed:    0.0s finished\n",
      "[Parallel(n_jobs=6)]: Using backend LokyBackend with 6 concurrent workers.\n",
      "[Parallel(n_jobs=6)]: Done  30 out of  30 | elapsed:    0.0s finished\n",
      "[Parallel(n_jobs=6)]: Using backend LokyBackend with 6 concurrent workers.\n"
     ]
    },
    {
     "name": "stdout",
     "output_type": "stream",
     "text": [
      "LOSS! 0.9906351683031609\n",
      "portfolio value: 176.2178053040094\n",
      "Fitting 10 folds for each of 3 candidates, totalling 30 fits\n",
      "GAIN! 1.0277044581896255\n",
      "portfolio value: 181.0998241233219\n",
      "Fitting 10 folds for each of 3 candidates, totalling 30 fits\n"
     ]
    },
    {
     "name": "stderr",
     "output_type": "stream",
     "text": [
      "[Parallel(n_jobs=6)]: Done  30 out of  30 | elapsed:    0.0s finished\n",
      "[Parallel(n_jobs=6)]: Using backend LokyBackend with 6 concurrent workers.\n",
      "[Parallel(n_jobs=6)]: Done  30 out of  30 | elapsed:    0.0s finished\n",
      "[Parallel(n_jobs=6)]: Using backend LokyBackend with 6 concurrent workers.\n"
     ]
    },
    {
     "name": "stdout",
     "output_type": "stream",
     "text": [
      "portfolio value: 181.0998241233219\n",
      "Fitting 10 folds for each of 3 candidates, totalling 30 fits\n",
      "GAIN! 1.0743546514339681\n",
      "portfolio value: 194.56543842076442\n",
      "Fitting 10 folds for each of 3 candidates, totalling 30 fits\n"
     ]
    },
    {
     "name": "stderr",
     "output_type": "stream",
     "text": [
      "[Parallel(n_jobs=6)]: Done  30 out of  30 | elapsed:    0.0s finished\n",
      "[Parallel(n_jobs=6)]: Using backend LokyBackend with 6 concurrent workers.\n",
      "[Parallel(n_jobs=6)]: Done  30 out of  30 | elapsed:    0.0s finished\n",
      "[Parallel(n_jobs=6)]: Using backend LokyBackend with 6 concurrent workers.\n"
     ]
    },
    {
     "name": "stdout",
     "output_type": "stream",
     "text": [
      "LOSS! 0.9376983602682263\n",
      "portfolio value: 182.44369257201936\n",
      "Fitting 10 folds for each of 3 candidates, totalling 30 fits\n",
      "GAIN! 1.0128970124775534\n",
      "portfolio value: 184.79667115157162\n",
      "Fitting 10 folds for each of 3 candidates, totalling 30 fits\n"
     ]
    },
    {
     "name": "stderr",
     "output_type": "stream",
     "text": [
      "[Parallel(n_jobs=6)]: Done  30 out of  30 | elapsed:    0.0s finished\n",
      "[Parallel(n_jobs=6)]: Using backend LokyBackend with 6 concurrent workers.\n",
      "[Parallel(n_jobs=6)]: Done  30 out of  30 | elapsed:    0.0s finished\n",
      "[Parallel(n_jobs=6)]: Using backend LokyBackend with 6 concurrent workers.\n"
     ]
    },
    {
     "name": "stdout",
     "output_type": "stream",
     "text": [
      "portfolio value: 184.79667115157162\n",
      "Fitting 10 folds for each of 3 candidates, totalling 30 fits\n",
      "LOSS! 0.9862571784482186\n",
      "portfolio value: 182.25704347657233\n",
      "Fitting 10 folds for each of 3 candidates, totalling 30 fits\n"
     ]
    },
    {
     "name": "stderr",
     "output_type": "stream",
     "text": [
      "[Parallel(n_jobs=6)]: Done  30 out of  30 | elapsed:    0.0s finished\n",
      "[Parallel(n_jobs=6)]: Using backend LokyBackend with 6 concurrent workers.\n",
      "[Parallel(n_jobs=6)]: Done  30 out of  30 | elapsed:    0.0s finished\n",
      "[Parallel(n_jobs=6)]: Using backend LokyBackend with 6 concurrent workers.\n"
     ]
    },
    {
     "name": "stdout",
     "output_type": "stream",
     "text": [
      "LOSS! 0.9988386217772866\n",
      "portfolio value: 182.0453741153425\n",
      "Fitting 10 folds for each of 3 candidates, totalling 30 fits\n",
      "GAIN! 1.0109654591577366\n",
      "portfolio value: 184.04158523005916\n",
      "Fitting 10 folds for each of 3 candidates, totalling 30 fits\n"
     ]
    },
    {
     "name": "stderr",
     "output_type": "stream",
     "text": [
      "[Parallel(n_jobs=6)]: Done  30 out of  30 | elapsed:    0.0s finished\n",
      "[Parallel(n_jobs=6)]: Using backend LokyBackend with 6 concurrent workers.\n",
      "[Parallel(n_jobs=6)]: Done  30 out of  30 | elapsed:    0.0s finished\n",
      "[Parallel(n_jobs=6)]: Using backend LokyBackend with 6 concurrent workers.\n"
     ]
    },
    {
     "name": "stdout",
     "output_type": "stream",
     "text": [
      "GAIN! 1.0011706666946827\n",
      "portfolio value: 184.2570365843246\n",
      "Fitting 10 folds for each of 3 candidates, totalling 30 fits\n",
      "portfolio value: 184.2570365843246\n",
      "Fitting 10 folds for each of 3 candidates, totalling 30 fits\n"
     ]
    },
    {
     "name": "stderr",
     "output_type": "stream",
     "text": [
      "[Parallel(n_jobs=6)]: Done  30 out of  30 | elapsed:    0.0s finished\n",
      "[Parallel(n_jobs=6)]: Using backend LokyBackend with 6 concurrent workers.\n",
      "[Parallel(n_jobs=6)]: Done  30 out of  30 | elapsed:    0.0s finished\n",
      "[Parallel(n_jobs=6)]: Using backend LokyBackend with 6 concurrent workers.\n"
     ]
    },
    {
     "name": "stdout",
     "output_type": "stream",
     "text": [
      "portfolio value: 184.2570365843246\n",
      "Fitting 10 folds for each of 3 candidates, totalling 30 fits\n",
      "LOSS! 0.9444485780096092\n",
      "portfolio value: 174.0212961903299\n",
      "Fitting 10 folds for each of 3 candidates, totalling 30 fits\n"
     ]
    },
    {
     "name": "stderr",
     "output_type": "stream",
     "text": [
      "[Parallel(n_jobs=6)]: Done  30 out of  30 | elapsed:    0.0s finished\n",
      "[Parallel(n_jobs=6)]: Using backend LokyBackend with 6 concurrent workers.\n",
      "[Parallel(n_jobs=6)]: Done  30 out of  30 | elapsed:    0.0s finished\n",
      "[Parallel(n_jobs=6)]: Using backend LokyBackend with 6 concurrent workers.\n"
     ]
    },
    {
     "name": "stdout",
     "output_type": "stream",
     "text": [
      "GAIN! 1.017182559759993\n",
      "portfolio value: 177.0114275116317\n",
      "Fitting 10 folds for each of 3 candidates, totalling 30 fits\n",
      "portfolio value: 177.0114275116317\n",
      "Fitting 10 folds for each of 3 candidates, totalling 30 fits\n"
     ]
    },
    {
     "name": "stderr",
     "output_type": "stream",
     "text": [
      "[Parallel(n_jobs=6)]: Done  30 out of  30 | elapsed:    0.0s finished\n",
      "[Parallel(n_jobs=6)]: Using backend LokyBackend with 6 concurrent workers.\n",
      "[Parallel(n_jobs=6)]: Done  30 out of  30 | elapsed:    0.0s finished\n",
      "[Parallel(n_jobs=6)]: Using backend LokyBackend with 6 concurrent workers.\n"
     ]
    },
    {
     "name": "stdout",
     "output_type": "stream",
     "text": [
      "LOSS! 0.9904230956881571\n",
      "portfolio value: 175.31620600825008\n",
      "Fitting 10 folds for each of 3 candidates, totalling 30 fits\n",
      "GAIN! 1.0068897027457264\n",
      "portfolio value: 176.52408255415546\n",
      "Fitting 10 folds for each of 3 candidates, totalling 30 fits\n"
     ]
    },
    {
     "name": "stderr",
     "output_type": "stream",
     "text": [
      "[Parallel(n_jobs=6)]: Done  30 out of  30 | elapsed:    0.0s finished\n",
      "[Parallel(n_jobs=6)]: Using backend LokyBackend with 6 concurrent workers.\n",
      "[Parallel(n_jobs=6)]: Done  30 out of  30 | elapsed:    0.0s finished\n",
      "[Parallel(n_jobs=6)]: Using backend LokyBackend with 6 concurrent workers.\n"
     ]
    },
    {
     "name": "stdout",
     "output_type": "stream",
     "text": [
      "GAIN! 1.0088592606946538\n",
      "portfolio value: 178.08795542038732\n",
      "Fitting 10 folds for each of 3 candidates, totalling 30 fits\n",
      "portfolio value: 178.08795542038732\n",
      "Fitting 10 folds for each of 3 candidates, totalling 30 fits\n"
     ]
    },
    {
     "name": "stderr",
     "output_type": "stream",
     "text": [
      "[Parallel(n_jobs=6)]: Done  30 out of  30 | elapsed:    0.0s finished\n",
      "[Parallel(n_jobs=6)]: Using backend LokyBackend with 6 concurrent workers.\n",
      "[Parallel(n_jobs=6)]: Done  30 out of  30 | elapsed:    0.0s finished\n",
      "[Parallel(n_jobs=6)]: Using backend LokyBackend with 6 concurrent workers.\n"
     ]
    },
    {
     "name": "stdout",
     "output_type": "stream",
     "text": [
      "portfolio value: 178.08795542038732\n",
      "Fitting 10 folds for each of 3 candidates, totalling 30 fits\n",
      "LOSS! 0.9870062092283622\n",
      "portfolio value: 175.77391778870606\n",
      "Fitting 10 folds for each of 3 candidates, totalling 30 fits\n"
     ]
    },
    {
     "name": "stderr",
     "output_type": "stream",
     "text": [
      "[Parallel(n_jobs=6)]: Done  30 out of  30 | elapsed:    0.0s finished\n",
      "[Parallel(n_jobs=6)]: Using backend LokyBackend with 6 concurrent workers.\n",
      "[Parallel(n_jobs=6)]: Done  30 out of  30 | elapsed:    0.0s finished\n",
      "[Parallel(n_jobs=6)]: Using backend LokyBackend with 6 concurrent workers.\n"
     ]
    },
    {
     "name": "stdout",
     "output_type": "stream",
     "text": [
      "portfolio value: 175.77391778870606\n",
      "Fitting 10 folds for each of 3 candidates, totalling 30 fits\n",
      "portfolio value: 175.77391778870606\n",
      "Fitting 10 folds for each of 3 candidates, totalling 30 fits\n"
     ]
    },
    {
     "name": "stderr",
     "output_type": "stream",
     "text": [
      "[Parallel(n_jobs=6)]: Done  30 out of  30 | elapsed:    0.0s finished\n",
      "[Parallel(n_jobs=6)]: Using backend LokyBackend with 6 concurrent workers.\n",
      "[Parallel(n_jobs=6)]: Done  30 out of  30 | elapsed:    0.0s finished\n",
      "[Parallel(n_jobs=6)]: Using backend LokyBackend with 6 concurrent workers.\n"
     ]
    },
    {
     "name": "stdout",
     "output_type": "stream",
     "text": [
      "portfolio value: 175.77391778870606\n",
      "Fitting 10 folds for each of 3 candidates, totalling 30 fits\n",
      "portfolio value: 175.77391778870606\n",
      "Fitting 10 folds for each of 3 candidates, totalling 30 fits\n"
     ]
    },
    {
     "name": "stderr",
     "output_type": "stream",
     "text": [
      "[Parallel(n_jobs=6)]: Done  30 out of  30 | elapsed:    0.0s finished\n",
      "[Parallel(n_jobs=6)]: Using backend LokyBackend with 6 concurrent workers.\n",
      "[Parallel(n_jobs=6)]: Done  30 out of  30 | elapsed:    0.0s finished\n",
      "[Parallel(n_jobs=6)]: Using backend LokyBackend with 6 concurrent workers.\n"
     ]
    },
    {
     "name": "stdout",
     "output_type": "stream",
     "text": [
      "portfolio value: 175.77391778870606\n",
      "Fitting 10 folds for each of 3 candidates, totalling 30 fits\n",
      "portfolio value: 175.77391778870606\n",
      "Fitting 10 folds for each of 3 candidates, totalling 30 fits\n"
     ]
    },
    {
     "name": "stderr",
     "output_type": "stream",
     "text": [
      "[Parallel(n_jobs=6)]: Done  30 out of  30 | elapsed:    0.0s finished\n",
      "[Parallel(n_jobs=6)]: Using backend LokyBackend with 6 concurrent workers.\n",
      "[Parallel(n_jobs=6)]: Done  30 out of  30 | elapsed:    0.0s finished\n",
      "[Parallel(n_jobs=6)]: Using backend LokyBackend with 6 concurrent workers.\n"
     ]
    },
    {
     "name": "stdout",
     "output_type": "stream",
     "text": [
      "portfolio value: 175.77391778870606\n",
      "Fitting 10 folds for each of 3 candidates, totalling 30 fits\n",
      "LOSS! 0.9866452943655268\n",
      "portfolio value: 173.4265088584198\n",
      "Fitting 10 folds for each of 3 candidates, totalling 30 fits\n"
     ]
    },
    {
     "name": "stderr",
     "output_type": "stream",
     "text": [
      "[Parallel(n_jobs=6)]: Done  30 out of  30 | elapsed:    0.0s finished\n",
      "[Parallel(n_jobs=6)]: Using backend LokyBackend with 6 concurrent workers.\n",
      "[Parallel(n_jobs=6)]: Done  30 out of  30 | elapsed:    0.0s finished\n",
      "[Parallel(n_jobs=6)]: Using backend LokyBackend with 6 concurrent workers.\n"
     ]
    },
    {
     "name": "stdout",
     "output_type": "stream",
     "text": [
      "portfolio value: 173.4265088584198\n",
      "Fitting 10 folds for each of 3 candidates, totalling 30 fits\n",
      "portfolio value: 173.4265088584198\n",
      "Fitting 10 folds for each of 3 candidates, totalling 30 fits\n"
     ]
    },
    {
     "name": "stderr",
     "output_type": "stream",
     "text": [
      "[Parallel(n_jobs=6)]: Done  30 out of  30 | elapsed:    0.0s finished\n",
      "[Parallel(n_jobs=6)]: Using backend LokyBackend with 6 concurrent workers.\n",
      "[Parallel(n_jobs=6)]: Done  30 out of  30 | elapsed:    0.0s finished\n",
      "[Parallel(n_jobs=6)]: Using backend LokyBackend with 6 concurrent workers.\n"
     ]
    },
    {
     "name": "stdout",
     "output_type": "stream",
     "text": [
      "portfolio value: 173.4265088584198\n",
      "Fitting 10 folds for each of 3 candidates, totalling 30 fits\n",
      "portfolio value: 173.4265088584198\n",
      "Fitting 10 folds for each of 3 candidates, totalling 30 fits\n"
     ]
    },
    {
     "name": "stderr",
     "output_type": "stream",
     "text": [
      "[Parallel(n_jobs=6)]: Done  30 out of  30 | elapsed:    0.0s finished\n",
      "[Parallel(n_jobs=6)]: Using backend LokyBackend with 6 concurrent workers.\n",
      "[Parallel(n_jobs=6)]: Done  30 out of  30 | elapsed:    0.0s finished\n",
      "[Parallel(n_jobs=6)]: Using backend LokyBackend with 6 concurrent workers.\n"
     ]
    },
    {
     "name": "stdout",
     "output_type": "stream",
     "text": [
      "portfolio value: 173.4265088584198\n",
      "Fitting 10 folds for each of 3 candidates, totalling 30 fits\n",
      "portfolio value: 173.4265088584198\n",
      "Fitting 10 folds for each of 3 candidates, totalling 30 fits\n"
     ]
    },
    {
     "name": "stderr",
     "output_type": "stream",
     "text": [
      "[Parallel(n_jobs=6)]: Done  30 out of  30 | elapsed:    0.0s finished\n",
      "[Parallel(n_jobs=6)]: Using backend LokyBackend with 6 concurrent workers.\n",
      "[Parallel(n_jobs=6)]: Done  30 out of  30 | elapsed:    0.0s finished\n",
      "[Parallel(n_jobs=6)]: Using backend LokyBackend with 6 concurrent workers.\n"
     ]
    },
    {
     "name": "stdout",
     "output_type": "stream",
     "text": [
      "portfolio value: 173.4265088584198\n",
      "Fitting 10 folds for each of 3 candidates, totalling 30 fits\n",
      "portfolio value: 173.4265088584198\n",
      "Fitting 10 folds for each of 3 candidates, totalling 30 fits\n"
     ]
    },
    {
     "name": "stderr",
     "output_type": "stream",
     "text": [
      "[Parallel(n_jobs=6)]: Done  30 out of  30 | elapsed:    0.0s finished\n",
      "[Parallel(n_jobs=6)]: Using backend LokyBackend with 6 concurrent workers.\n",
      "[Parallel(n_jobs=6)]: Done  30 out of  30 | elapsed:    0.0s finished\n",
      "[Parallel(n_jobs=6)]: Using backend LokyBackend with 6 concurrent workers.\n"
     ]
    },
    {
     "name": "stdout",
     "output_type": "stream",
     "text": [
      "GAIN! 1.0333550111628982\n",
      "portfolio value: 179.21115199733484\n",
      "Fitting 10 folds for each of 3 candidates, totalling 30 fits\n",
      "portfolio value: 179.21115199733484\n",
      "Fitting 10 folds for each of 3 candidates, totalling 30 fits\n"
     ]
    },
    {
     "name": "stderr",
     "output_type": "stream",
     "text": [
      "[Parallel(n_jobs=6)]: Done  30 out of  30 | elapsed:    0.0s finished\n",
      "[Parallel(n_jobs=6)]: Using backend LokyBackend with 6 concurrent workers.\n",
      "[Parallel(n_jobs=6)]: Done  30 out of  30 | elapsed:    0.0s finished\n",
      "[Parallel(n_jobs=6)]: Using backend LokyBackend with 6 concurrent workers.\n"
     ]
    },
    {
     "name": "stdout",
     "output_type": "stream",
     "text": [
      "GAIN! 1.0189465158811635\n",
      "portfolio value: 182.60657893473393\n",
      "Fitting 10 folds for each of 3 candidates, totalling 30 fits\n",
      "portfolio value: 182.60657893473393\n",
      "Fitting 10 folds for each of 3 candidates, totalling 30 fits\n"
     ]
    },
    {
     "name": "stderr",
     "output_type": "stream",
     "text": [
      "[Parallel(n_jobs=6)]: Done  30 out of  30 | elapsed:    0.0s finished\n",
      "[Parallel(n_jobs=6)]: Using backend LokyBackend with 6 concurrent workers.\n",
      "[Parallel(n_jobs=6)]: Done  30 out of  30 | elapsed:    0.0s finished\n",
      "[Parallel(n_jobs=6)]: Using backend LokyBackend with 6 concurrent workers.\n"
     ]
    },
    {
     "name": "stdout",
     "output_type": "stream",
     "text": [
      "GAIN! 1.0005877262208878\n",
      "portfolio value: 182.7139016092805\n",
      "Fitting 10 folds for each of 3 candidates, totalling 30 fits\n",
      "portfolio value: 182.7139016092805\n",
      "Fitting 10 folds for each of 3 candidates, totalling 30 fits\n"
     ]
    },
    {
     "name": "stderr",
     "output_type": "stream",
     "text": [
      "[Parallel(n_jobs=6)]: Done  30 out of  30 | elapsed:    0.0s finished\n",
      "[Parallel(n_jobs=6)]: Using backend LokyBackend with 6 concurrent workers.\n",
      "[Parallel(n_jobs=6)]: Done  30 out of  30 | elapsed:    0.0s finished\n",
      "[Parallel(n_jobs=6)]: Using backend LokyBackend with 6 concurrent workers.\n"
     ]
    },
    {
     "name": "stdout",
     "output_type": "stream",
     "text": [
      "GAIN! 1.0038356349679378\n",
      "portfolio value: 183.4147254394214\n",
      "Fitting 10 folds for each of 3 candidates, totalling 30 fits\n",
      "LOSS! 0.9963792090365983\n",
      "portfolio value: 182.75061905899554\n",
      "Fitting 10 folds for each of 3 candidates, totalling 30 fits\n"
     ]
    },
    {
     "name": "stderr",
     "output_type": "stream",
     "text": [
      "[Parallel(n_jobs=6)]: Done  30 out of  30 | elapsed:    0.0s finished\n",
      "[Parallel(n_jobs=6)]: Using backend LokyBackend with 6 concurrent workers.\n",
      "[Parallel(n_jobs=6)]: Done  30 out of  30 | elapsed:    0.0s finished\n",
      "[Parallel(n_jobs=6)]: Using backend LokyBackend with 6 concurrent workers.\n"
     ]
    },
    {
     "name": "stdout",
     "output_type": "stream",
     "text": [
      "GAIN! 1.000488244088642\n",
      "portfolio value: 182.83984596844675\n",
      "Fitting 10 folds for each of 3 candidates, totalling 30 fits\n",
      "portfolio value: 182.83984596844675\n",
      "Fitting 10 folds for each of 3 candidates, totalling 30 fits\n"
     ]
    },
    {
     "name": "stderr",
     "output_type": "stream",
     "text": [
      "[Parallel(n_jobs=6)]: Done  30 out of  30 | elapsed:    0.0s finished\n",
      "[Parallel(n_jobs=6)]: Using backend LokyBackend with 6 concurrent workers.\n",
      "[Parallel(n_jobs=6)]: Done  30 out of  30 | elapsed:    0.0s finished\n",
      "[Parallel(n_jobs=6)]: Using backend LokyBackend with 6 concurrent workers.\n"
     ]
    },
    {
     "name": "stdout",
     "output_type": "stream",
     "text": [
      "LOSS! 0.9934994498856212\n",
      "portfolio value: 181.65128638682356\n",
      "Fitting 10 folds for each of 3 candidates, totalling 30 fits\n",
      "portfolio value: 181.65128638682356\n",
      "Fitting 10 folds for each of 3 candidates, totalling 30 fits\n"
     ]
    },
    {
     "name": "stderr",
     "output_type": "stream",
     "text": [
      "[Parallel(n_jobs=6)]: Done  30 out of  30 | elapsed:    0.0s finished\n",
      "[Parallel(n_jobs=6)]: Using backend LokyBackend with 6 concurrent workers.\n",
      "[Parallel(n_jobs=6)]: Done  30 out of  30 | elapsed:    0.0s finished\n",
      "[Parallel(n_jobs=6)]: Using backend LokyBackend with 6 concurrent workers.\n"
     ]
    },
    {
     "name": "stdout",
     "output_type": "stream",
     "text": [
      "GAIN! 1.0008585168499806\n",
      "portfolio value: 181.8072370770073\n",
      "Fitting 10 folds for each of 3 candidates, totalling 30 fits\n",
      "GAIN! 1.003036853640908\n",
      "portfolio value: 182.35935904686804\n",
      "Fitting 10 folds for each of 3 candidates, totalling 30 fits\n"
     ]
    },
    {
     "name": "stderr",
     "output_type": "stream",
     "text": [
      "[Parallel(n_jobs=6)]: Done  30 out of  30 | elapsed:    0.0s finished\n",
      "[Parallel(n_jobs=6)]: Using backend LokyBackend with 6 concurrent workers.\n",
      "[Parallel(n_jobs=6)]: Done  30 out of  30 | elapsed:    0.0s finished\n",
      "[Parallel(n_jobs=6)]: Using backend LokyBackend with 6 concurrent workers.\n"
     ]
    },
    {
     "name": "stdout",
     "output_type": "stream",
     "text": [
      "portfolio value: 182.35935904686804\n",
      "Fitting 10 folds for each of 3 candidates, totalling 30 fits\n",
      "portfolio value: 182.35935904686804\n",
      "Fitting 10 folds for each of 3 candidates, totalling 30 fits\n"
     ]
    },
    {
     "name": "stderr",
     "output_type": "stream",
     "text": [
      "[Parallel(n_jobs=6)]: Done  30 out of  30 | elapsed:    0.0s finished\n",
      "[Parallel(n_jobs=6)]: Using backend LokyBackend with 6 concurrent workers.\n",
      "[Parallel(n_jobs=6)]: Done  30 out of  30 | elapsed:    0.0s finished\n",
      "[Parallel(n_jobs=6)]: Using backend LokyBackend with 6 concurrent workers.\n"
     ]
    },
    {
     "name": "stdout",
     "output_type": "stream",
     "text": [
      "GAIN! 1.0160300714098067\n",
      "portfolio value: 185.2825925946359\n",
      "Fitting 10 folds for each of 3 candidates, totalling 30 fits\n",
      "GAIN! 1.0056607392141264\n",
      "portfolio value: 186.33142903223134\n",
      "Fitting 10 folds for each of 3 candidates, totalling 30 fits\n"
     ]
    },
    {
     "name": "stderr",
     "output_type": "stream",
     "text": [
      "[Parallel(n_jobs=6)]: Done  30 out of  30 | elapsed:    0.0s finished\n",
      "[Parallel(n_jobs=6)]: Using backend LokyBackend with 6 concurrent workers.\n",
      "[Parallel(n_jobs=6)]: Done  30 out of  30 | elapsed:    0.0s finished\n",
      "[Parallel(n_jobs=6)]: Using backend LokyBackend with 6 concurrent workers.\n"
     ]
    },
    {
     "name": "stdout",
     "output_type": "stream",
     "text": [
      "portfolio value: 186.33142903223134\n",
      "Fitting 10 folds for each of 3 candidates, totalling 30 fits\n",
      "GAIN! 1.014427186018474\n",
      "portfolio value: 189.0196672199674\n",
      "Fitting 10 folds for each of 3 candidates, totalling 30 fits\n"
     ]
    },
    {
     "name": "stderr",
     "output_type": "stream",
     "text": [
      "[Parallel(n_jobs=6)]: Done  30 out of  30 | elapsed:    0.0s finished\n",
      "[Parallel(n_jobs=6)]: Using backend LokyBackend with 6 concurrent workers.\n",
      "[Parallel(n_jobs=6)]: Done  30 out of  30 | elapsed:    0.0s finished\n",
      "[Parallel(n_jobs=6)]: Using backend LokyBackend with 6 concurrent workers.\n"
     ]
    },
    {
     "name": "stdout",
     "output_type": "stream",
     "text": [
      "portfolio value: 189.0196672199674\n",
      "Fitting 10 folds for each of 3 candidates, totalling 30 fits\n",
      "GAIN! 1.1096043820812165\n",
      "portfolio value: 209.73705104680909\n",
      "Fitting 10 folds for each of 3 candidates, totalling 30 fits\n"
     ]
    },
    {
     "name": "stderr",
     "output_type": "stream",
     "text": [
      "[Parallel(n_jobs=6)]: Done  30 out of  30 | elapsed:    0.0s finished\n",
      "[Parallel(n_jobs=6)]: Using backend LokyBackend with 6 concurrent workers.\n",
      "[Parallel(n_jobs=6)]: Done  30 out of  30 | elapsed:    0.0s finished\n",
      "[Parallel(n_jobs=6)]: Using backend LokyBackend with 6 concurrent workers.\n"
     ]
    },
    {
     "name": "stdout",
     "output_type": "stream",
     "text": [
      "portfolio value: 209.73705104680909\n",
      "Fitting 10 folds for each of 3 candidates, totalling 30 fits\n",
      "GAIN! 1.0171827594501375\n",
      "portfolio value: 213.34091234272762\n",
      "Fitting 10 folds for each of 3 candidates, totalling 30 fits\n"
     ]
    },
    {
     "name": "stderr",
     "output_type": "stream",
     "text": [
      "[Parallel(n_jobs=6)]: Done  30 out of  30 | elapsed:    0.0s finished\n",
      "[Parallel(n_jobs=6)]: Using backend LokyBackend with 6 concurrent workers.\n",
      "[Parallel(n_jobs=6)]: Done  30 out of  30 | elapsed:    0.0s finished\n",
      "[Parallel(n_jobs=6)]: Using backend LokyBackend with 6 concurrent workers.\n"
     ]
    },
    {
     "name": "stdout",
     "output_type": "stream",
     "text": [
      "GAIN! 1.0010253180716313\n",
      "portfolio value: 213.55965463557092\n",
      "Fitting 10 folds for each of 3 candidates, totalling 30 fits\n",
      "portfolio value: 213.55965463557092\n",
      "Fitting 10 folds for each of 3 candidates, totalling 30 fits\n"
     ]
    },
    {
     "name": "stderr",
     "output_type": "stream",
     "text": [
      "[Parallel(n_jobs=6)]: Done  30 out of  30 | elapsed:    0.0s finished\n",
      "[Parallel(n_jobs=6)]: Using backend LokyBackend with 6 concurrent workers.\n",
      "[Parallel(n_jobs=6)]: Done  30 out of  30 | elapsed:    0.0s finished\n",
      "[Parallel(n_jobs=6)]: Using backend LokyBackend with 6 concurrent workers.\n"
     ]
    },
    {
     "name": "stdout",
     "output_type": "stream",
     "text": [
      "portfolio value: 213.55965463557092\n",
      "Fitting 10 folds for each of 3 candidates, totalling 30 fits\n",
      "LOSS! 0.9400319326300404\n",
      "portfolio value: 200.7528948788797\n",
      "Fitting 10 folds for each of 3 candidates, totalling 30 fits\n"
     ]
    },
    {
     "name": "stderr",
     "output_type": "stream",
     "text": [
      "[Parallel(n_jobs=6)]: Done  30 out of  30 | elapsed:    0.0s finished\n",
      "[Parallel(n_jobs=6)]: Using backend LokyBackend with 6 concurrent workers.\n",
      "[Parallel(n_jobs=6)]: Done  30 out of  30 | elapsed:    0.0s finished\n",
      "[Parallel(n_jobs=6)]: Using backend LokyBackend with 6 concurrent workers.\n"
     ]
    },
    {
     "name": "stdout",
     "output_type": "stream",
     "text": [
      "GAIN! 1.0183433831596385\n",
      "portfolio value: 204.4353821500496\n",
      "Fitting 10 folds for each of 3 candidates, totalling 30 fits\n",
      "GAIN! 1.0484833799148676\n",
      "portfolio value: 214.3471004508716\n",
      "Fitting 10 folds for each of 3 candidates, totalling 30 fits\n"
     ]
    },
    {
     "name": "stderr",
     "output_type": "stream",
     "text": [
      "[Parallel(n_jobs=6)]: Done  30 out of  30 | elapsed:    0.0s finished\n",
      "[Parallel(n_jobs=6)]: Using backend LokyBackend with 6 concurrent workers.\n",
      "[Parallel(n_jobs=6)]: Done  30 out of  30 | elapsed:    0.0s finished\n",
      "[Parallel(n_jobs=6)]: Using backend LokyBackend with 6 concurrent workers.\n"
     ]
    },
    {
     "name": "stdout",
     "output_type": "stream",
     "text": [
      "GAIN! 1.0025449082386875\n",
      "portfolio value: 214.8925941527478\n",
      "Fitting 10 folds for each of 3 candidates, totalling 30 fits\n",
      "LOSS! 0.9849373067625922\n",
      "portfolio value: 211.65573292803418\n",
      "Fitting 10 folds for each of 3 candidates, totalling 30 fits\n",
      "GAIN! 1.0128822004898905\n",
      "portfolio value: 214.38232451444784\n",
      "Fitting 10 folds for each of 3 candidates, totalling 30 fits\n",
      "LOSS! 0.9947529836248726\n",
      "portfolio value: 213.25745694718267\n"
     ]
    },
    {
     "name": "stderr",
     "output_type": "stream",
     "text": [
      "[Parallel(n_jobs=6)]: Done  30 out of  30 | elapsed:    0.0s finished\n",
      "[Parallel(n_jobs=6)]: Using backend LokyBackend with 6 concurrent workers.\n",
      "[Parallel(n_jobs=6)]: Done  30 out of  30 | elapsed:    0.0s finished\n"
     ]
    }
   ],
   "source": [
    "portfolio_value = 100\n",
    "portfolio_value_history = []\n",
    "for i in range(0, len(btc) - LOOK_BACK_DAYS - LOOK_AHEAD_DAYS - 1):\n",
    "    portfolio_value_history.append(portfolio_value)\n",
    "    train_df = btc[i: i + LOOK_BACK_DAYS]\n",
    "    X_TRAIN = train_df.drop(['MonthTrend'], axis=1)\n",
    "    Y_TRAIN = le.fit_transform(train_df['MonthTrend'])\n",
    "    test_df = btc[i + LOOK_BACK_DAYS + LOOK_AHEAD_DAYS : i + LOOK_BACK_DAYS + LOOK_AHEAD_DAYS + 1]\n",
    "    X_TEST = test_df.drop(['MonthTrend'], axis=1)\n",
    "    results_df = btc[i + LOOK_BACK_DAYS + 2*LOOK_AHEAD_DAYS : i + LOOK_BACK_DAYS + 2*LOOK_AHEAD_DAYS + 1]\n",
    "    \n",
    "    model_regression = LogisticRegression()\n",
    "    param_grid = {'C': [1,2,4]}  #simplified the CV so it runs faster\n",
    "    regression_grid =  GridSearchCV(model_regression, param_grid, cv=TimeSeriesSplit(max_train_size=None, n_splits=10), verbose=1,n_jobs=6)\n",
    "    regression_grid.fit(X_TRAIN,Y_TRAIN)\n",
    "    model_regresssion= regression_grid.best_estimator_\n",
    "    \n",
    "    prediction = model_regresssion.predict(X_TEST)[0]\n",
    "    if prediction == 1:\n",
    "        gains = ((results_df['Close'] - results_df['Open']) / results_df['Open'])[0]\n",
    "        if gains > 0:\n",
    "            print(\"GAIN! \" + str(1 + gains))\n",
    "        elif gains < 0:\n",
    "            print(\"LOSS! \" + str(1 + gains))\n",
    "        portfolio_value = portfolio_value * (1 + gains)\n",
    "    print(\"portfolio value: \" + str(portfolio_value))"
   ]
  },
  {
   "cell_type": "code",
   "execution_count": null,
   "metadata": {},
   "outputs": [
    {
     "name": "stdout",
     "output_type": "stream",
     "text": [
      "[8288.10099145]\n",
      "portfolio value: 100\n",
      "[8372.54046896]\n",
      "portfolio value: 100\n",
      "[8105.08301573]\n",
      "portfolio value: 100\n",
      "[7942.99905768]\n",
      "portfolio value: 100\n",
      "[8021.14529826]\n",
      "portfolio value: 100\n",
      "[7965.39330177]\n",
      "portfolio value: 100\n",
      "[7902.59793595]\n",
      "portfolio value: 100\n",
      "[8182.21830061]\n",
      "portfolio value: 100\n",
      "[8366.46023379]\n",
      "GAIN! 1.1561932238921162\n",
      "portfolio value: 115.61932238921162\n",
      "[7923.60819907]\n",
      "portfolio value: 115.61932238921162\n",
      "[7444.46929358]\n",
      "portfolio value: 115.61932238921162\n",
      "[7625.38614158]\n",
      "LOSS! 0.9676999639803877\n",
      "portfolio value: 111.88481411147691\n",
      "[8600.08956281]\n",
      "portfolio value: 111.88481411147691\n",
      "[9918.14289243]\n",
      "GAIN! 1.0070125367827818\n",
      "portfolio value: 112.66941048586835\n",
      "[9283.21183322]\n",
      "LOSS! 0.9904091518510287\n",
      "portfolio value: 111.58881527886427\n",
      "[9189.31040556]\n",
      "portfolio value: 111.58881527886427\n",
      "[9419.00949393]\n",
      "LOSS! 0.9925127480608039\n",
      "portfolio value: 110.753321705275\n",
      "[9370.4820007]\n",
      "GAIN! 1.0021428022555043\n",
      "portfolio value: 110.99064417282966\n",
      "[9236.27756748]\n",
      "LOSS! 0.9909293775166805\n",
      "portfolio value: 109.98388994035749\n",
      "[9515.38366214]\n",
      "LOSS! 0.9503001611448547\n",
      "portfolio value: 104.51770833365968\n",
      "[9353.27248388]\n",
      "GAIN! 1.0004669159249813\n",
      "portfolio value: 104.56650931612322\n",
      "[9346.65653486]\n",
      "portfolio value: 104.56650931612322\n",
      "[9330.18283123]\n",
      "LOSS! 0.9669722212517969\n",
      "portfolio value: 101.11290978195838\n",
      "[8674.10186648]\n",
      "portfolio value: 101.11290978195838\n",
      "[8955.69632394]\n",
      "LOSS! 0.9995721182926135\n",
      "portfolio value: 101.06964541748206\n",
      "[9287.02844311]\n",
      "LOSS! 0.9882157801978252\n",
      "portfolio value: 99.87861850055458\n",
      "[8638.64642828]\n",
      "portfolio value: 99.87861850055458\n",
      "[8889.86085824]\n",
      "GAIN! 1.007018438510428\n",
      "portfolio value: 100.57961044300721\n",
      "[8898.41625303]\n",
      "GAIN! 1.0033341108242035\n",
      "portfolio value: 100.91495401087941\n",
      "[8697.1255549]\n",
      "portfolio value: 100.91495401087941\n",
      "[8494.06601309]\n",
      "LOSS! 0.9880809570698097\n",
      "portfolio value: 99.71214434172556\n",
      "[8652.59622063]\n",
      "LOSS! 0.9785039580977323\n",
      "portfolio value: 97.56872790879086\n",
      "[8642.18052799]\n",
      "LOSS! 0.952528488797514\n",
      "portfolio value: 92.93699294885639\n",
      "[8242.97541393]\n",
      "portfolio value: 92.93699294885639\n",
      "[8291.08718825]\n",
      "GAIN! 1.0139295548382152\n",
      "portfolio value: 94.2315638886363\n",
      "[8044.54981259]\n",
      "LOSS! 0.9525970865873279\n",
      "portfolio value: 89.7647132248826\n",
      "[7485.72527511]\n",
      "portfolio value: 89.7647132248826\n",
      "[7073.32358938]\n",
      "portfolio value: 89.7647132248826\n",
      "[7310.97652724]\n",
      "portfolio value: 89.7647132248826\n",
      "[6979.14847324]\n",
      "portfolio value: 89.7647132248826\n",
      "[7163.92545583]\n",
      "GAIN! 1.0394438687204568\n",
      "portfolio value: 93.30538078905433\n",
      "[7146.85090291]\n",
      "portfolio value: 93.30538078905433\n",
      "[7402.77734193]\n",
      "portfolio value: 93.30538078905433\n",
      "[7608.30506026]\n",
      "LOSS! 0.9862543972393302\n",
      "portfolio value: 92.02284208929495\n",
      "[7680.40263475]\n",
      "portfolio value: 92.02284208929495\n",
      "[7489.92357061]\n",
      "portfolio value: 92.02284208929495\n",
      "[7163.97684856]\n",
      "portfolio value: 92.02284208929495\n",
      "[7205.5168556]\n",
      "portfolio value: 92.02284208929495\n",
      "[6999.94002902]\n",
      "portfolio value: 92.02284208929495\n",
      "[7252.6300145]\n",
      "portfolio value: 92.02284208929495\n",
      "[7439.61043006]\n",
      "portfolio value: 92.02284208929495\n"
     ]
    }
   ],
   "source": [
    "from statsmodels.tsa.arima_model import ARIMA\n",
    "\n",
    "base_portfolio_value = 100\n",
    "base_portfolio_value_history = []\n",
    "for i in range(0, len(btc) - LOOK_BACK_DAYS - LOOK_AHEAD_DAYS - 1):\n",
    "    base_portfolio_value_history.append(base_portfolio_value)\n",
    "    train_df = btc[i: i + LOOK_BACK_DAYS]\n",
    "    X_TRAIN = train_df['Open']\n",
    "    results_df = btc[i + LOOK_BACK_DAYS + 2*LOOK_AHEAD_DAYS : i + LOOK_BACK_DAYS + 2*LOOK_AHEAD_DAYS + 1]\n",
    "    \n",
    "    model = ARIMA(list(X_TRAIN), order=(5,1,0))\n",
    "    \n",
    "    try:\n",
    "        model_fit = model.fit(disp=0)\n",
    "        prediction = model_fit.forecast()[0]\n",
    "    except:\n",
    "        continue\n",
    "    print(prediction)\n",
    "    if prediction >= train_df.tail(1)['Open'][0]:\n",
    "        gains = ((results_df['Close'] - results_df['Open']) / results_df['Open'])[0]\n",
    "        if gains > 0:\n",
    "            print(\"GAIN! \" + str(1 + gains))\n",
    "        elif gains < 0:\n",
    "            print(\"LOSS! \" + str(1 + gains))\n",
    "        base_portfolio_value = base_portfolio_value * (1 + gains)\n",
    "    print(\"portfolio value: \" + str(base_portfolio_value))\n"
   ]
  },
  {
   "cell_type": "code",
   "execution_count": null,
   "metadata": {},
   "outputs": [],
   "source": [
    "always_buy_portfolio_value = 100\n",
    "always_buy_portfolio_value_history = []\n",
    "for i in range(0, len(btc) - LOOK_BACK_DAYS - LOOK_AHEAD_DAYS - 1):\n",
    "    results_df = btc[i + LOOK_BACK_DAYS + 2*LOOK_AHEAD_DAYS : i + LOOK_BACK_DAYS + 2*LOOK_AHEAD_DAYS + 1]\n",
    "    always_buy_portfolio_value_history.append(always_buy_portfolio_value)\n",
    "   \n",
    "    gains = ((results_df['Close'] - results_df['Open']) / results_df['Open'])[0]\n",
    "    if gains > 0:\n",
    "        print(\"GAIN! \" + str(1 + gains))\n",
    "    elif gains < 0:\n",
    "        print(\"LOSS! \" + str(1 + gains))\n",
    "    always_buy_portfolio_value = always_buy_portfolio_value * (1 + gains)\n",
    "    print(\"portfolio value: \" + str(always_buy_portfolio_value))\n"
   ]
  },
  {
   "cell_type": "code",
   "execution_count": 63,
   "metadata": {},
   "outputs": [
    {
     "data": {
      "image/png": "[encoded data removed]",
      "text/plain": [
       "<Figure size 432x288 with 1 Axes>"
      ]
     },
     "metadata": {
      "needs_background": "light"
     },
     "output_type": "display_data"
    }
   ],
   "source": [
    "\n",
    "plt.plot(range(0, len(base_portfolio_value_history)), base_portfolio_value_history, label='ARIMA')    \n",
    "plt.plot(range(0, len(portfolio_value_history)), portfolio_value_history, label='Logstic Regression')\n",
    "plt.plot(range(0, len(always_buy_portfolio_value_history)), portfolio_value_history, label='Always Buy')\n",
    "\n",
    "plt.xlabel('Days')\n",
    "plt.ylabel('Portfolio value ($)')\n",
    "plt.title(\"Trade Performance\")\n",
    "plt.legend([\"ARIMA\", \"Logstic Regression\", \"Always Buy\"])\n",
    "plt.show()"
   ]
  },
  {
   "cell_type": "code",
   "execution_count": null,
   "metadata": {},
   "outputs": [],
   "source": []
  }
 ],
 "metadata": {
  "kernelspec": {
   "display_name": "Python 3",
   "language": "python",
   "name": "python3"
  },
  "language_info": {
   "codemirror_mode": {
    "name": "ipython",
    "version": 3
   },
   "file_extension": ".py",
   "mimetype": "text/x-python",
   "name": "python",
   "nbconvert_exporter": "python",
   "pygments_lexer": "ipython3",
   "version": "3.7.4"
  }
 },
 "nbformat": 4,
 "nbformat_minor": 4
}
